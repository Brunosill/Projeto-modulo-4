{
  "cells": [
    {
      "cell_type": "markdown",
      "id": "StCvTiIIQNgx",
      "metadata": {
        "id": "StCvTiIIQNgx"
      },
      "source": [
        "# Análise exploratória de combustíveis - Dados para abastecer o carro!\n",
        "\n",
        "---"
      ]
    },
    {
      "cell_type": "markdown",
      "id": "XnwxRaPpQPJJ",
      "metadata": {
        "id": "XnwxRaPpQPJJ"
      },
      "source": [
        "## **1. Entendendo a Proposta:** \n",
        "\n",
        "Nossa equipe foi escalada pela Agência Nacional de Petróleo e Gás Natural e\n",
        "Biocombustíveis ([ANP](https://www.gov.br/anp/pt-br)) para realizar uma análise exploratória relacionada à série\n",
        "histórica de preço de venda da gasolina e do etanol.\n",
        "\n",
        "Nesta etapa será análisada os objetivos da análise, buscando conhecer mais o nosso contratante e o que foi solicitado."
      ]
    },
    {
      "cell_type": "markdown",
      "id": "kOQFus91QTb9",
      "metadata": {
        "id": "kOQFus91QTb9"
      },
      "source": [
        "**1.1. Conhecendo a ANP.**\n",
        "\n",
        "\n",
        "A Agência Nacional do Petróleo, Gás Natural e Biocombustíveis ([ANP](https://www.gov.br/anp/pt-br)) é o órgão regulador das atividades que integram as indústrias de petróleo e gás natural e de biocombustíveis no Brasil, é responsável pelas regras e resoluções de exploração, produção, refino, comercialização e transporte do petróleo e seus derivados no Brasil. Além disso, é vinculada ao Ministério de Minas e Energia e, também, mantém o Banco de Dados de Exploração e Produção (BDEP), no qual são publicados dados sobre a indústrias do petróleo, biocombustível e gás natural, como a produção nacional e o preço média de venda de combustível semanalmente.\n",
        "\n",
        "\n",
        "<center><img alt=\"ANP\" width=\"30%\" src=\"https://upload.wikimedia.org/wikipedia/commons/thumb/9/96/Anp-logo-3.png/800px-Anp-logo-3.png\"></center>\n",
        "\n",
        "**1.2. Perguntas a serem respondidas:**\n",
        "\n",
        "1. Como se comportaram o preço dos combustíveis durante os dois meses citados?Os valores do etanol e da gasolina tiveram uma de queda ou diminuição?\n",
        "\n",
        "2. Qual o preço médio da gasolina e do etanol nesses dois meses?\n",
        "\n",
        "3. Quais os 5 estados com o preço médio da gasolina e do etanol mais caros?\n",
        "\n",
        "4. Qual o preço médio da gasolina e do etanol por estado?\n",
        "\n",
        "5. Qual o município que possui o menor preço para a gasolina e para o etanol?\n",
        "\n",
        "6. Qual o município que possui o maior preço para a gasolina e para o etanol?\n",
        "\n",
        "7. Qual a região que possui o maior valor médio da gasolina?\n",
        "\n",
        "8. Qual a região que possui o menor valor médio do etanol?\n",
        "\n",
        "9. Há alguma correlação entre o valor do combustível (gasolina e etanol) e a região onde ele é vendido?\n",
        "\n",
        "10. Há alguma correlação entre o valor do combustível (gasolina e etanol) e a bandeira que vende ele?"
      ]
    },
    {
      "cell_type": "markdown",
      "id": "7VEz53vlQiQb",
      "metadata": {
        "id": "7VEz53vlQiQb"
      },
      "source": [
        "## **2. Entendendo os Dados:**\n",
        "\n",
        "Nesta etapa estaremos coletando e conhecendo os dados iniciais, explorando-os e verificando sua qualidade.\n"
      ]
    },
    {
      "cell_type": "markdown",
      "id": "AqPg70GnRMJZ",
      "metadata": {
        "id": "AqPg70GnRMJZ"
      },
      "source": [
        " <font size=\"4\"> **2.1.Realizando a coleta dos dados.** </font> ​\n",
        "\n",
        "Por meio do portal [gov.br](https://www.gov.br/anp/pt-br/centrais-de-conteudo/dados-abertos/arquivos/shpc/dsan/2022?b_start:int=0), foi possível baixar os dados necessários para a realização do projeto.\n",
        "\n",
        "Dessa forma, foram selecionados dois arquivos referentes ao preço histórico da gasolina e do etanol, um do mês de Julho e outro do mês de Agosto:"
      ]
    },
    {
      "cell_type": "markdown",
      "id": "29859f30",
      "metadata": {
        "id": "29859f30"
      },
      "source": [
        " <font size=\"4\"> **2.2.Preparando ambiente.** </font>"
      ]
    },
    {
      "cell_type": "markdown",
      "id": "p44MTuBVUmOp",
      "metadata": {
        "id": "p44MTuBVUmOp"
      },
      "source": [
        "Foi feita a importação das bibliotecas necessárias para conclusão do projeto."
      ]
    },
    {
      "cell_type": "code",
      "execution_count": 2,
      "id": "56ce07d4",
      "metadata": {
        "id": "56ce07d4"
      },
      "outputs": [],
      "source": [
        "import pandas as pd\n",
        "import numpy as np\n",
        "import seaborn as sns\n",
        "import matplotlib\n",
        "import matplotlib.pyplot as plt"
      ]
    },
    {
      "cell_type": "markdown",
      "id": "1QXyR9CLV_w_",
      "metadata": {
        "id": "1QXyR9CLV_w_"
      },
      "source": [
        "Em seguida, foram importados os dados necessários por meio de funções, adicionando duas possibilidades de importação, evitando a chance de erro."
      ]
    },
    {
      "cell_type": "markdown",
      "id": "de72661a",
      "metadata": {
        "id": "de72661a"
      },
      "source": [
        "* <font size=\"4\"> Importando dados de **julho** de 2022:"
      ]
    },
    {
      "cell_type": "code",
      "execution_count": 3,
      "id": "9361be54",
      "metadata": {
        "id": "9361be54"
      },
      "outputs": [],
      "source": [
        "def julhoCsv():\n",
        "        try:\n",
        "          url_julho = 'https://www.gov.br/anp/pt-br/centrais-de-conteudo/dados-abertos/arquivos/shpc/dsan/2022/precos-gasolina-etanol-07.csv'\n",
        "          dados_brutos_julho = pd.read_csv(url_julho, sep=';')\n",
        "          return dados_brutos_julho\n",
        "\n",
        "        except:\n",
        "          url_julho = 'https://raw.githubusercontent.com/lucasCanella/Projeto-modulo-4/colab1/dados/dados_originais/precos-gasolina-etanol-julho.csv'\n",
        "          dados_brutos_julho = pd.read_csv(url_julho, sep=';')\n",
        "          return dados_brutos_julho\n",
        "\n",
        "dados_brutos_julho = julhoCsv()\n"
      ]
    },
    {
      "cell_type": "markdown",
      "id": "eac24cf0",
      "metadata": {
        "id": "eac24cf0"
      },
      "source": [
        " * <font size=\"4\"> Importando dados de **agosto** de 2022:"
      ]
    },
    {
      "cell_type": "code",
      "execution_count": 4,
      "id": "87afea01",
      "metadata": {
        "id": "87afea01"
      },
      "outputs": [],
      "source": [
        "def agostoCsv():\n",
        "        try:\n",
        "          url_agosto = 'https://www.gov.br/anp/pt-br/centrais-de-conteudo/dados-abertos/arquivos/shpc/dsan/2022/precos-gasolina-etanol-08.csv'\n",
        "          dados_brutos_agosto = pd.read_csv(url_agosto, sep=';')\n",
        "          return dados_brutos_agosto\n",
        "\n",
        "        except:\n",
        "          url_agosto = 'https://raw.githubusercontent.com/lucasCanella/Projeto-modulo-4/colab1/dados/dados_originais/precos-gasolina-etanol-agosto.csv'\n",
        "\n",
        "          dados_brutos_agosto = pd.read_csv(url_agosto, sep=';')\n",
        "          return dados_brutos_agosto\n",
        "\n",
        "dados_brutos_agosto = agostoCsv()\n"
      ]
    },
    {
      "cell_type": "markdown",
      "id": "5RsI1boTW-dN",
      "metadata": {
        "id": "5RsI1boTW-dN"
      },
      "source": [
        " <font size=\"4\"> **2.3.Conhecendo os dados.** </font>"
      ]
    },
    {
      "cell_type": "markdown",
      "id": "xSVvGDGOZPMv",
      "metadata": {
        "id": "xSVvGDGOZPMv"
      },
      "source": [
        "Primeiro, vamos visualizar a estrutura inicial dos nossos datasets, verificando a sua \"porta de entrada\", ou seja, a primeira coisa que eles nos têm a mostrar!"
      ]
    },
    {
      "cell_type": "markdown",
      "id": "X9NoIGSCZ8HY",
      "metadata": {
        "id": "X9NoIGSCZ8HY"
      },
      "source": [
        " * <font size=\"4\"> Dados de Julho:"
      ]
    },
    {
      "cell_type": "code",
      "execution_count": 5,
      "id": "6LcoxBNbZ1Ll",
      "metadata": {
        "colab": {
          "base_uri": "https://localhost:8080/",
          "height": 458
        },
        "id": "6LcoxBNbZ1Ll",
        "outputId": "7381acc1-adb4-4d5c-9b29-6797f209fed2"
      },
      "outputs": [
        {
          "data": {
            "text/html": [
              "\n",
              "  <div id=\"df-ad6c44b5-a303-4d89-92a9-2fdf75a80e35\">\n",
              "    <div class=\"colab-df-container\">\n",
              "      <div>\n",
              "<style scoped>\n",
              "    .dataframe tbody tr th:only-of-type {\n",
              "        vertical-align: middle;\n",
              "    }\n",
              "\n",
              "    .dataframe tbody tr th {\n",
              "        vertical-align: top;\n",
              "    }\n",
              "\n",
              "    .dataframe thead th {\n",
              "        text-align: right;\n",
              "    }\n",
              "</style>\n",
              "<table border=\"1\" class=\"dataframe\">\n",
              "  <thead>\n",
              "    <tr style=\"text-align: right;\">\n",
              "      <th></th>\n",
              "      <th>Regiao - Sigla</th>\n",
              "      <th>Estado - Sigla</th>\n",
              "      <th>Municipio</th>\n",
              "      <th>Revenda</th>\n",
              "      <th>CNPJ da Revenda</th>\n",
              "      <th>Nome da Rua</th>\n",
              "      <th>Numero Rua</th>\n",
              "      <th>Complemento</th>\n",
              "      <th>Bairro</th>\n",
              "      <th>Cep</th>\n",
              "      <th>Produto</th>\n",
              "      <th>Data da Coleta</th>\n",
              "      <th>Valor de Venda</th>\n",
              "      <th>Valor de Compra</th>\n",
              "      <th>Unidade de Medida</th>\n",
              "      <th>Bandeira</th>\n",
              "    </tr>\n",
              "  </thead>\n",
              "  <tbody>\n",
              "    <tr>\n",
              "      <th>0</th>\n",
              "      <td>SE</td>\n",
              "      <td>ES</td>\n",
              "      <td>COLATINA</td>\n",
              "      <td>SAO FRANCISCO DE ASSIS COMERCIO DE COMBUSTIVEI...</td>\n",
              "      <td>08.519.545/0001-10</td>\n",
              "      <td>PRACA FIDELIS FERRARI</td>\n",
              "      <td>35</td>\n",
              "      <td>NaN</td>\n",
              "      <td>LACE</td>\n",
              "      <td>29703-030</td>\n",
              "      <td>GASOLINA ADITIVADA</td>\n",
              "      <td>01/07/2022</td>\n",
              "      <td>7,48</td>\n",
              "      <td>NaN</td>\n",
              "      <td>R$ / litro</td>\n",
              "      <td>VIBRA ENERGIA</td>\n",
              "    </tr>\n",
              "    <tr>\n",
              "      <th>1</th>\n",
              "      <td>SE</td>\n",
              "      <td>ES</td>\n",
              "      <td>COLATINA</td>\n",
              "      <td>SAO FRANCISCO DE ASSIS COMERCIO DE COMBUSTIVEI...</td>\n",
              "      <td>08.519.545/0001-10</td>\n",
              "      <td>PRACA FIDELIS FERRARI</td>\n",
              "      <td>35</td>\n",
              "      <td>NaN</td>\n",
              "      <td>LACE</td>\n",
              "      <td>29703-030</td>\n",
              "      <td>GASOLINA</td>\n",
              "      <td>01/07/2022</td>\n",
              "      <td>7,38</td>\n",
              "      <td>NaN</td>\n",
              "      <td>R$ / litro</td>\n",
              "      <td>VIBRA ENERGIA</td>\n",
              "    </tr>\n",
              "    <tr>\n",
              "      <th>2</th>\n",
              "      <td>SE</td>\n",
              "      <td>ES</td>\n",
              "      <td>COLATINA</td>\n",
              "      <td>POSTO MOTOCAP LTDA</td>\n",
              "      <td>04.814.652/0001-10</td>\n",
              "      <td>PRACA ALMIRANTE BARROSO</td>\n",
              "      <td>52</td>\n",
              "      <td>LETRA A</td>\n",
              "      <td>LACE</td>\n",
              "      <td>29703-055</td>\n",
              "      <td>ETANOL</td>\n",
              "      <td>01/07/2022</td>\n",
              "      <td>5,99</td>\n",
              "      <td>NaN</td>\n",
              "      <td>R$ / litro</td>\n",
              "      <td>VIBRA ENERGIA</td>\n",
              "    </tr>\n",
              "    <tr>\n",
              "      <th>3</th>\n",
              "      <td>SE</td>\n",
              "      <td>ES</td>\n",
              "      <td>COLATINA</td>\n",
              "      <td>POSTO MOTOCAP LTDA</td>\n",
              "      <td>04.814.652/0001-10</td>\n",
              "      <td>PRACA ALMIRANTE BARROSO</td>\n",
              "      <td>52</td>\n",
              "      <td>LETRA A</td>\n",
              "      <td>LACE</td>\n",
              "      <td>29703-055</td>\n",
              "      <td>GASOLINA</td>\n",
              "      <td>01/07/2022</td>\n",
              "      <td>7,39</td>\n",
              "      <td>NaN</td>\n",
              "      <td>R$ / litro</td>\n",
              "      <td>VIBRA ENERGIA</td>\n",
              "    </tr>\n",
              "    <tr>\n",
              "      <th>4</th>\n",
              "      <td>CO</td>\n",
              "      <td>GO</td>\n",
              "      <td>GOIANIA</td>\n",
              "      <td>JUSTINIANO &amp; JUSTINIANO LTDA</td>\n",
              "      <td>04.489.287/0001-16</td>\n",
              "      <td>AVENIDA JOSE LEANDRO DA CRUZ</td>\n",
              "      <td>2,36</td>\n",
              "      <td>QUADRA 18, LOTE 01</td>\n",
              "      <td>PARQUE AMAZONIA</td>\n",
              "      <td>74840-390</td>\n",
              "      <td>GASOLINA ADITIVADA</td>\n",
              "      <td>01/07/2022</td>\n",
              "      <td>6,49</td>\n",
              "      <td>NaN</td>\n",
              "      <td>R$ / litro</td>\n",
              "      <td>IPIRANGA</td>\n",
              "    </tr>\n",
              "  </tbody>\n",
              "</table>\n",
              "</div>\n",
              "      <button class=\"colab-df-convert\" onclick=\"convertToInteractive('df-ad6c44b5-a303-4d89-92a9-2fdf75a80e35')\"\n",
              "              title=\"Convert this dataframe to an interactive table.\"\n",
              "              style=\"display:none;\">\n",
              "        \n",
              "  <svg xmlns=\"http://www.w3.org/2000/svg\" height=\"24px\"viewBox=\"0 0 24 24\"\n",
              "       width=\"24px\">\n",
              "    <path d=\"M0 0h24v24H0V0z\" fill=\"none\"/>\n",
              "    <path d=\"M18.56 5.44l.94 2.06.94-2.06 2.06-.94-2.06-.94-.94-2.06-.94 2.06-2.06.94zm-11 1L8.5 8.5l.94-2.06 2.06-.94-2.06-.94L8.5 2.5l-.94 2.06-2.06.94zm10 10l.94 2.06.94-2.06 2.06-.94-2.06-.94-.94-2.06-.94 2.06-2.06.94z\"/><path d=\"M17.41 7.96l-1.37-1.37c-.4-.4-.92-.59-1.43-.59-.52 0-1.04.2-1.43.59L10.3 9.45l-7.72 7.72c-.78.78-.78 2.05 0 2.83L4 21.41c.39.39.9.59 1.41.59.51 0 1.02-.2 1.41-.59l7.78-7.78 2.81-2.81c.8-.78.8-2.07 0-2.86zM5.41 20L4 18.59l7.72-7.72 1.47 1.35L5.41 20z\"/>\n",
              "  </svg>\n",
              "      </button>\n",
              "      \n",
              "  <style>\n",
              "    .colab-df-container {\n",
              "      display:flex;\n",
              "      flex-wrap:wrap;\n",
              "      gap: 12px;\n",
              "    }\n",
              "\n",
              "    .colab-df-convert {\n",
              "      background-color: #E8F0FE;\n",
              "      border: none;\n",
              "      border-radius: 50%;\n",
              "      cursor: pointer;\n",
              "      display: none;\n",
              "      fill: #1967D2;\n",
              "      height: 32px;\n",
              "      padding: 0 0 0 0;\n",
              "      width: 32px;\n",
              "    }\n",
              "\n",
              "    .colab-df-convert:hover {\n",
              "      background-color: #E2EBFA;\n",
              "      box-shadow: 0px 1px 2px rgba(60, 64, 67, 0.3), 0px 1px 3px 1px rgba(60, 64, 67, 0.15);\n",
              "      fill: #174EA6;\n",
              "    }\n",
              "\n",
              "    [theme=dark] .colab-df-convert {\n",
              "      background-color: #3B4455;\n",
              "      fill: #D2E3FC;\n",
              "    }\n",
              "\n",
              "    [theme=dark] .colab-df-convert:hover {\n",
              "      background-color: #434B5C;\n",
              "      box-shadow: 0px 1px 3px 1px rgba(0, 0, 0, 0.15);\n",
              "      filter: drop-shadow(0px 1px 2px rgba(0, 0, 0, 0.3));\n",
              "      fill: #FFFFFF;\n",
              "    }\n",
              "  </style>\n",
              "\n",
              "      <script>\n",
              "        const buttonEl =\n",
              "          document.querySelector('#df-ad6c44b5-a303-4d89-92a9-2fdf75a80e35 button.colab-df-convert');\n",
              "        buttonEl.style.display =\n",
              "          google.colab.kernel.accessAllowed ? 'block' : 'none';\n",
              "\n",
              "        async function convertToInteractive(key) {\n",
              "          const element = document.querySelector('#df-ad6c44b5-a303-4d89-92a9-2fdf75a80e35');\n",
              "          const dataTable =\n",
              "            await google.colab.kernel.invokeFunction('convertToInteractive',\n",
              "                                                     [key], {});\n",
              "          if (!dataTable) return;\n",
              "\n",
              "          const docLinkHtml = 'Like what you see? Visit the ' +\n",
              "            '<a target=\"_blank\" href=https://colab.research.google.com/notebooks/data_table.ipynb>data table notebook</a>'\n",
              "            + ' to learn more about interactive tables.';\n",
              "          element.innerHTML = '';\n",
              "          dataTable['output_type'] = 'display_data';\n",
              "          await google.colab.output.renderOutput(dataTable, element);\n",
              "          const docLink = document.createElement('div');\n",
              "          docLink.innerHTML = docLinkHtml;\n",
              "          element.appendChild(docLink);\n",
              "        }\n",
              "      </script>\n",
              "    </div>\n",
              "  </div>\n",
              "  "
            ],
            "text/plain": [
              "  Regiao - Sigla Estado - Sigla Municipio  \\\n",
              "0             SE             ES  COLATINA   \n",
              "1             SE             ES  COLATINA   \n",
              "2             SE             ES  COLATINA   \n",
              "3             SE             ES  COLATINA   \n",
              "4             CO             GO   GOIANIA   \n",
              "\n",
              "                                             Revenda      CNPJ da Revenda  \\\n",
              "0  SAO FRANCISCO DE ASSIS COMERCIO DE COMBUSTIVEI...   08.519.545/0001-10   \n",
              "1  SAO FRANCISCO DE ASSIS COMERCIO DE COMBUSTIVEI...   08.519.545/0001-10   \n",
              "2                                 POSTO MOTOCAP LTDA   04.814.652/0001-10   \n",
              "3                                 POSTO MOTOCAP LTDA   04.814.652/0001-10   \n",
              "4                       JUSTINIANO & JUSTINIANO LTDA   04.489.287/0001-16   \n",
              "\n",
              "                    Nome da Rua Numero Rua         Complemento  \\\n",
              "0         PRACA FIDELIS FERRARI         35                 NaN   \n",
              "1         PRACA FIDELIS FERRARI         35                 NaN   \n",
              "2       PRACA ALMIRANTE BARROSO         52             LETRA A   \n",
              "3       PRACA ALMIRANTE BARROSO         52             LETRA A   \n",
              "4  AVENIDA JOSE LEANDRO DA CRUZ       2,36  QUADRA 18, LOTE 01   \n",
              "\n",
              "            Bairro        Cep             Produto Data da Coleta  \\\n",
              "0             LACE  29703-030  GASOLINA ADITIVADA     01/07/2022   \n",
              "1             LACE  29703-030            GASOLINA     01/07/2022   \n",
              "2             LACE  29703-055              ETANOL     01/07/2022   \n",
              "3             LACE  29703-055            GASOLINA     01/07/2022   \n",
              "4  PARQUE AMAZONIA  74840-390  GASOLINA ADITIVADA     01/07/2022   \n",
              "\n",
              "  Valor de Venda  Valor de Compra Unidade de Medida       Bandeira  \n",
              "0           7,48              NaN        R$ / litro  VIBRA ENERGIA  \n",
              "1           7,38              NaN        R$ / litro  VIBRA ENERGIA  \n",
              "2           5,99              NaN        R$ / litro  VIBRA ENERGIA  \n",
              "3           7,39              NaN        R$ / litro  VIBRA ENERGIA  \n",
              "4           6,49              NaN        R$ / litro       IPIRANGA  "
            ]
          },
          "execution_count": 5,
          "metadata": {},
          "output_type": "execute_result"
        }
      ],
      "source": [
        "dados_brutos_julho.head()"
      ]
    },
    {
      "cell_type": "markdown",
      "id": "SuuJD96fabpf",
      "metadata": {
        "id": "SuuJD96fabpf"
      },
      "source": [
        " * <font size=\"4\"> Dados de Agosto:"
      ]
    },
    {
      "cell_type": "code",
      "execution_count": 6,
      "id": "tmintv2xabE8",
      "metadata": {
        "colab": {
          "base_uri": "https://localhost:8080/",
          "height": 424
        },
        "id": "tmintv2xabE8",
        "outputId": "3bb6946b-1496-4b3e-f79b-9da19649eb4b"
      },
      "outputs": [
        {
          "data": {
            "text/html": [
              "\n",
              "  <div id=\"df-a45ae49a-b044-4b20-a08d-145e11c26fad\">\n",
              "    <div class=\"colab-df-container\">\n",
              "      <div>\n",
              "<style scoped>\n",
              "    .dataframe tbody tr th:only-of-type {\n",
              "        vertical-align: middle;\n",
              "    }\n",
              "\n",
              "    .dataframe tbody tr th {\n",
              "        vertical-align: top;\n",
              "    }\n",
              "\n",
              "    .dataframe thead th {\n",
              "        text-align: right;\n",
              "    }\n",
              "</style>\n",
              "<table border=\"1\" class=\"dataframe\">\n",
              "  <thead>\n",
              "    <tr style=\"text-align: right;\">\n",
              "      <th></th>\n",
              "      <th>Regiao - Sigla</th>\n",
              "      <th>Estado - Sigla</th>\n",
              "      <th>Municipio</th>\n",
              "      <th>Revenda</th>\n",
              "      <th>CNPJ da Revenda</th>\n",
              "      <th>Nome da Rua</th>\n",
              "      <th>Numero Rua</th>\n",
              "      <th>Complemento</th>\n",
              "      <th>Bairro</th>\n",
              "      <th>Cep</th>\n",
              "      <th>Produto</th>\n",
              "      <th>Data da Coleta</th>\n",
              "      <th>Valor de Venda</th>\n",
              "      <th>Valor de Compra</th>\n",
              "      <th>Unidade de Medida</th>\n",
              "      <th>Bandeira</th>\n",
              "    </tr>\n",
              "  </thead>\n",
              "  <tbody>\n",
              "    <tr>\n",
              "      <th>0</th>\n",
              "      <td>NE</td>\n",
              "      <td>AL</td>\n",
              "      <td>ARAPIRACA</td>\n",
              "      <td>AUTO POSTO M M GARROTE LTDA</td>\n",
              "      <td>08.738.994/0001-50</td>\n",
              "      <td>RODOVIA AL-220</td>\n",
              "      <td>5848</td>\n",
              "      <td>KM    96</td>\n",
              "      <td>BOM SUCESSO</td>\n",
              "      <td>57309-035</td>\n",
              "      <td>ETANOL</td>\n",
              "      <td>01/08/2022</td>\n",
              "      <td>4,79</td>\n",
              "      <td>NaN</td>\n",
              "      <td>R$ / litro</td>\n",
              "      <td>VIBRA ENERGIA</td>\n",
              "    </tr>\n",
              "    <tr>\n",
              "      <th>1</th>\n",
              "      <td>NE</td>\n",
              "      <td>AL</td>\n",
              "      <td>ARAPIRACA</td>\n",
              "      <td>AUTO POSTO M M GARROTE LTDA</td>\n",
              "      <td>08.738.994/0001-50</td>\n",
              "      <td>RODOVIA AL-220</td>\n",
              "      <td>5848</td>\n",
              "      <td>KM    96</td>\n",
              "      <td>BOM SUCESSO</td>\n",
              "      <td>57309-035</td>\n",
              "      <td>GASOLINA</td>\n",
              "      <td>01/08/2022</td>\n",
              "      <td>5,59</td>\n",
              "      <td>NaN</td>\n",
              "      <td>R$ / litro</td>\n",
              "      <td>VIBRA ENERGIA</td>\n",
              "    </tr>\n",
              "    <tr>\n",
              "      <th>2</th>\n",
              "      <td>NE</td>\n",
              "      <td>AL</td>\n",
              "      <td>ARAPIRACA</td>\n",
              "      <td>AUTO POSTO MASSARANDUBA LTDA.</td>\n",
              "      <td>07.248.398/0001-29</td>\n",
              "      <td>RODOVIA AL 220</td>\n",
              "      <td>4698</td>\n",
              "      <td>NaN</td>\n",
              "      <td>PLANALTO</td>\n",
              "      <td>57308-000</td>\n",
              "      <td>GASOLINA ADITIVADA</td>\n",
              "      <td>01/08/2022</td>\n",
              "      <td>5,99</td>\n",
              "      <td>NaN</td>\n",
              "      <td>R$ / litro</td>\n",
              "      <td>BRANCA</td>\n",
              "    </tr>\n",
              "    <tr>\n",
              "      <th>3</th>\n",
              "      <td>NE</td>\n",
              "      <td>AL</td>\n",
              "      <td>ARAPIRACA</td>\n",
              "      <td>AUTO POSTO MASSARANDUBA LTDA.</td>\n",
              "      <td>07.248.398/0001-29</td>\n",
              "      <td>RODOVIA AL 220</td>\n",
              "      <td>4698</td>\n",
              "      <td>NaN</td>\n",
              "      <td>PLANALTO</td>\n",
              "      <td>57308-000</td>\n",
              "      <td>ETANOL</td>\n",
              "      <td>01/08/2022</td>\n",
              "      <td>4,99</td>\n",
              "      <td>NaN</td>\n",
              "      <td>R$ / litro</td>\n",
              "      <td>BRANCA</td>\n",
              "    </tr>\n",
              "    <tr>\n",
              "      <th>4</th>\n",
              "      <td>NE</td>\n",
              "      <td>AL</td>\n",
              "      <td>ARAPIRACA</td>\n",
              "      <td>AUTO POSTO MASSARANDUBA LTDA.</td>\n",
              "      <td>07.248.398/0001-29</td>\n",
              "      <td>RODOVIA AL 220</td>\n",
              "      <td>4698</td>\n",
              "      <td>NaN</td>\n",
              "      <td>PLANALTO</td>\n",
              "      <td>57308-000</td>\n",
              "      <td>GASOLINA</td>\n",
              "      <td>01/08/2022</td>\n",
              "      <td>5,79</td>\n",
              "      <td>NaN</td>\n",
              "      <td>R$ / litro</td>\n",
              "      <td>BRANCA</td>\n",
              "    </tr>\n",
              "  </tbody>\n",
              "</table>\n",
              "</div>\n",
              "      <button class=\"colab-df-convert\" onclick=\"convertToInteractive('df-a45ae49a-b044-4b20-a08d-145e11c26fad')\"\n",
              "              title=\"Convert this dataframe to an interactive table.\"\n",
              "              style=\"display:none;\">\n",
              "        \n",
              "  <svg xmlns=\"http://www.w3.org/2000/svg\" height=\"24px\"viewBox=\"0 0 24 24\"\n",
              "       width=\"24px\">\n",
              "    <path d=\"M0 0h24v24H0V0z\" fill=\"none\"/>\n",
              "    <path d=\"M18.56 5.44l.94 2.06.94-2.06 2.06-.94-2.06-.94-.94-2.06-.94 2.06-2.06.94zm-11 1L8.5 8.5l.94-2.06 2.06-.94-2.06-.94L8.5 2.5l-.94 2.06-2.06.94zm10 10l.94 2.06.94-2.06 2.06-.94-2.06-.94-.94-2.06-.94 2.06-2.06.94z\"/><path d=\"M17.41 7.96l-1.37-1.37c-.4-.4-.92-.59-1.43-.59-.52 0-1.04.2-1.43.59L10.3 9.45l-7.72 7.72c-.78.78-.78 2.05 0 2.83L4 21.41c.39.39.9.59 1.41.59.51 0 1.02-.2 1.41-.59l7.78-7.78 2.81-2.81c.8-.78.8-2.07 0-2.86zM5.41 20L4 18.59l7.72-7.72 1.47 1.35L5.41 20z\"/>\n",
              "  </svg>\n",
              "      </button>\n",
              "      \n",
              "  <style>\n",
              "    .colab-df-container {\n",
              "      display:flex;\n",
              "      flex-wrap:wrap;\n",
              "      gap: 12px;\n",
              "    }\n",
              "\n",
              "    .colab-df-convert {\n",
              "      background-color: #E8F0FE;\n",
              "      border: none;\n",
              "      border-radius: 50%;\n",
              "      cursor: pointer;\n",
              "      display: none;\n",
              "      fill: #1967D2;\n",
              "      height: 32px;\n",
              "      padding: 0 0 0 0;\n",
              "      width: 32px;\n",
              "    }\n",
              "\n",
              "    .colab-df-convert:hover {\n",
              "      background-color: #E2EBFA;\n",
              "      box-shadow: 0px 1px 2px rgba(60, 64, 67, 0.3), 0px 1px 3px 1px rgba(60, 64, 67, 0.15);\n",
              "      fill: #174EA6;\n",
              "    }\n",
              "\n",
              "    [theme=dark] .colab-df-convert {\n",
              "      background-color: #3B4455;\n",
              "      fill: #D2E3FC;\n",
              "    }\n",
              "\n",
              "    [theme=dark] .colab-df-convert:hover {\n",
              "      background-color: #434B5C;\n",
              "      box-shadow: 0px 1px 3px 1px rgba(0, 0, 0, 0.15);\n",
              "      filter: drop-shadow(0px 1px 2px rgba(0, 0, 0, 0.3));\n",
              "      fill: #FFFFFF;\n",
              "    }\n",
              "  </style>\n",
              "\n",
              "      <script>\n",
              "        const buttonEl =\n",
              "          document.querySelector('#df-a45ae49a-b044-4b20-a08d-145e11c26fad button.colab-df-convert');\n",
              "        buttonEl.style.display =\n",
              "          google.colab.kernel.accessAllowed ? 'block' : 'none';\n",
              "\n",
              "        async function convertToInteractive(key) {\n",
              "          const element = document.querySelector('#df-a45ae49a-b044-4b20-a08d-145e11c26fad');\n",
              "          const dataTable =\n",
              "            await google.colab.kernel.invokeFunction('convertToInteractive',\n",
              "                                                     [key], {});\n",
              "          if (!dataTable) return;\n",
              "\n",
              "          const docLinkHtml = 'Like what you see? Visit the ' +\n",
              "            '<a target=\"_blank\" href=https://colab.research.google.com/notebooks/data_table.ipynb>data table notebook</a>'\n",
              "            + ' to learn more about interactive tables.';\n",
              "          element.innerHTML = '';\n",
              "          dataTable['output_type'] = 'display_data';\n",
              "          await google.colab.output.renderOutput(dataTable, element);\n",
              "          const docLink = document.createElement('div');\n",
              "          docLink.innerHTML = docLinkHtml;\n",
              "          element.appendChild(docLink);\n",
              "        }\n",
              "      </script>\n",
              "    </div>\n",
              "  </div>\n",
              "  "
            ],
            "text/plain": [
              "  Regiao - Sigla Estado - Sigla  Municipio                        Revenda  \\\n",
              "0             NE             AL  ARAPIRACA    AUTO POSTO M M GARROTE LTDA   \n",
              "1             NE             AL  ARAPIRACA    AUTO POSTO M M GARROTE LTDA   \n",
              "2             NE             AL  ARAPIRACA  AUTO POSTO MASSARANDUBA LTDA.   \n",
              "3             NE             AL  ARAPIRACA  AUTO POSTO MASSARANDUBA LTDA.   \n",
              "4             NE             AL  ARAPIRACA  AUTO POSTO MASSARANDUBA LTDA.   \n",
              "\n",
              "       CNPJ da Revenda     Nome da Rua Numero Rua Complemento       Bairro  \\\n",
              "0   08.738.994/0001-50  RODOVIA AL-220       5848    KM    96  BOM SUCESSO   \n",
              "1   08.738.994/0001-50  RODOVIA AL-220       5848    KM    96  BOM SUCESSO   \n",
              "2   07.248.398/0001-29  RODOVIA AL 220       4698         NaN     PLANALTO   \n",
              "3   07.248.398/0001-29  RODOVIA AL 220       4698         NaN     PLANALTO   \n",
              "4   07.248.398/0001-29  RODOVIA AL 220       4698         NaN     PLANALTO   \n",
              "\n",
              "         Cep             Produto Data da Coleta Valor de Venda  \\\n",
              "0  57309-035              ETANOL     01/08/2022           4,79   \n",
              "1  57309-035            GASOLINA     01/08/2022           5,59   \n",
              "2  57308-000  GASOLINA ADITIVADA     01/08/2022           5,99   \n",
              "3  57308-000              ETANOL     01/08/2022           4,99   \n",
              "4  57308-000            GASOLINA     01/08/2022           5,79   \n",
              "\n",
              "   Valor de Compra Unidade de Medida       Bandeira  \n",
              "0              NaN        R$ / litro  VIBRA ENERGIA  \n",
              "1              NaN        R$ / litro  VIBRA ENERGIA  \n",
              "2              NaN        R$ / litro         BRANCA  \n",
              "3              NaN        R$ / litro         BRANCA  \n",
              "4              NaN        R$ / litro         BRANCA  "
            ]
          },
          "execution_count": 6,
          "metadata": {},
          "output_type": "execute_result"
        }
      ],
      "source": [
        "dados_brutos_agosto.head()"
      ]
    },
    {
      "cell_type": "markdown",
      "id": "yDrBOZ9JamOn",
      "metadata": {
        "id": "yDrBOZ9JamOn"
      },
      "source": [
        "Como podemos ver, os dois datasets seguem o mesmo padrão, então para evitar retrabalho na próxima etapa, vamos unir os dois em um só DataFrame:"
      ]
    },
    {
      "cell_type": "code",
      "execution_count": 7,
      "id": "hw4o5dBia9g6",
      "metadata": {
        "id": "hw4o5dBia9g6"
      },
      "outputs": [],
      "source": [
        "lista_dados = [dados_brutos_julho ,dados_brutos_agosto]\n",
        "dados_brutos = pd.concat(lista_dados, ignore_index= True, verify_integrity=True)"
      ]
    },
    {
      "cell_type": "markdown",
      "id": "KrfCHTyucdoU",
      "metadata": {
        "id": "KrfCHTyucdoU"
      },
      "source": [
        "Com os Datasets já unidos, vamos conferir o formato do nosso dataframe!"
      ]
    },
    {
      "cell_type": "code",
      "execution_count": 8,
      "id": "571fefaf",
      "metadata": {
        "colab": {
          "base_uri": "https://localhost:8080/"
        },
        "id": "571fefaf",
        "outputId": "5ca7a7f1-69e1-44c5-fcad-10a45142869e"
      },
      "outputs": [
        {
          "data": {
            "text/plain": [
              "(127176, 16)"
            ]
          },
          "execution_count": 8,
          "metadata": {},
          "output_type": "execute_result"
        }
      ],
      "source": [
        "dados_brutos.shape"
      ]
    },
    {
      "cell_type": "markdown",
      "id": "xYEnOQxIccZf",
      "metadata": {
        "id": "xYEnOQxIccZf"
      },
      "source": [
        "Podemos observar que o nosso DataFrame é composto por **127.176** linhas e **16** colunas. Por isso, construiremos posteriormente um dicionário para facilitar a visualização do conteúdo."
      ]
    },
    {
      "cell_type": "markdown",
      "id": "kP-mUZ6Nm36Q",
      "metadata": {
        "id": "kP-mUZ6Nm36Q"
      },
      "source": [
        "## **3. Limpando dos Dados:**\n"
      ]
    },
    {
      "cell_type": "markdown",
      "id": "yPqqtzyRn4CS",
      "metadata": {
        "id": "yPqqtzyRn4CS"
      },
      "source": [
        "Nessa etapa, será realizada a devida limpeza nos dados com objetivo de tornar a análise possível, organizada e coerente."
      ]
    },
    {
      "cell_type": "markdown",
      "id": "1WnW6snPs8OD",
      "metadata": {
        "id": "1WnW6snPs8OD"
      },
      "source": [
        " <font size=\"4\"> **3.1.Alterando Nomenclatura.** </font>"
      ]
    },
    {
      "cell_type": "markdown",
      "id": "3SKNPLybl4mF",
      "metadata": {
        "id": "3SKNPLybl4mF"
      },
      "source": [
        "Primeiro, vamos verificar a nomenclatura das colunas do nosso dataframe e colocá-las no mesmo padrão para que consigamos acessá-las facilmente."
      ]
    },
    {
      "cell_type": "code",
      "execution_count": 9,
      "id": "OSwzsLXXtbX7",
      "metadata": {
        "colab": {
          "base_uri": "https://localhost:8080/"
        },
        "id": "OSwzsLXXtbX7",
        "outputId": "9e6e5f8f-0185-4888-f8ca-8c7037cc409e"
      },
      "outputs": [
        {
          "data": {
            "text/plain": [
              "Index(['Regiao - Sigla', 'Estado - Sigla', 'Municipio', 'Revenda',\n",
              "       'CNPJ da Revenda', 'Nome da Rua', 'Numero Rua', 'Complemento', 'Bairro',\n",
              "       'Cep', 'Produto', 'Data da Coleta', 'Valor de Venda', 'Valor de Compra',\n",
              "       'Unidade de Medida', 'Bandeira'],\n",
              "      dtype='object')"
            ]
          },
          "execution_count": 9,
          "metadata": {},
          "output_type": "execute_result"
        }
      ],
      "source": [
        "dados_brutos.columns"
      ]
    },
    {
      "cell_type": "markdown",
      "id": "x7_99_K8pUit",
      "metadata": {
        "id": "x7_99_K8pUit"
      },
      "source": [
        "Para facilitar a análise, modificaremos o nome das colunas seguindo o padrão: \n",
        "`palavra1_palavra2`"
      ]
    },
    {
      "cell_type": "code",
      "execution_count": 10,
      "id": "8368bae7",
      "metadata": {
        "colab": {
          "base_uri": "https://localhost:8080/"
        },
        "id": "8368bae7",
        "outputId": "5be43926-975b-42f4-97fe-cfabe2e6df24"
      },
      "outputs": [
        {
          "data": {
            "text/plain": [
              "Index(['regiao_sigla', 'estado_sigla', 'municipio', 'revenda',\n",
              "       'cnpj_da_revenda', 'nome_da_rua', 'numero_rua', 'complemento', 'bairro',\n",
              "       'cep', 'produto', 'data_da_coleta', 'valor_de_venda', 'valor_de_compra',\n",
              "       'unidade_de_medida', 'bandeira'],\n",
              "      dtype='object')"
            ]
          },
          "execution_count": 10,
          "metadata": {},
          "output_type": "execute_result"
        }
      ],
      "source": [
        "#modificacao do nome de columas\n",
        "dados_brutos.columns = dados_brutos.columns.str.replace('- ','')\n",
        "dados_brutos.columns = dados_brutos.columns.str.replace(' ','_')\n",
        "dados_brutos.columns = dados_brutos.columns.str.lower()\n",
        "dados_brutos.columns"
      ]
    },
    {
      "cell_type": "markdown",
      "id": "lg3mogAGnuEA",
      "metadata": {
        "id": "lg3mogAGnuEA"
      },
      "source": [
        " <font size=\"4\"> **3.2.Verificando tipos.** </font>"
      ]
    },
    {
      "cell_type": "markdown",
      "id": "liBmmHtHhGA5",
      "metadata": {
        "id": "liBmmHtHhGA5"
      },
      "source": [
        " Agora, vamos verificar o tipo de cada atributo e avaliar se será necessário a realização de alguma alteração."
      ]
    },
    {
      "cell_type": "code",
      "execution_count": 11,
      "id": "vpjOVM1-Yplg",
      "metadata": {
        "colab": {
          "base_uri": "https://localhost:8080/",
          "height": 312
        },
        "id": "vpjOVM1-Yplg",
        "outputId": "245f7a34-2bf4-4626-acae-bfd24cb16eb0"
      },
      "outputs": [
        {
          "data": {
            "text/plain": [
              "regiao_sigla          object\n",
              "estado_sigla          object\n",
              "municipio             object\n",
              "revenda               object\n",
              "cnpj_da_revenda       object\n",
              "nome_da_rua           object\n",
              "numero_rua            object\n",
              "complemento           object\n",
              "bairro                object\n",
              "cep                   object\n",
              "produto               object\n",
              "data_da_coleta        object\n",
              "valor_de_venda        object\n",
              "valor_de_compra      float64\n",
              "unidade_de_medida     object\n",
              "bandeira              object\n",
              "dtype: object"
            ]
          },
          "metadata": {},
          "output_type": "display_data"
        }
      ],
      "source": [
        "display(dados_brutos.dtypes)"
      ]
    },
    {
      "cell_type": "markdown",
      "id": "9krQh0Eeer0V",
      "metadata": {
        "id": "9krQh0Eeer0V"
      },
      "source": [
        "A primeira coisa que podemos observar, é que a coluna \"Data da Coleta\" está com o tipo \"object\" e como trabalharemos com datas, precisamos realizar a alteração para o tipo \"datetime\":"
      ]
    },
    {
      "cell_type": "code",
      "execution_count": 12,
      "id": "0faf0d5f",
      "metadata": {
        "colab": {
          "base_uri": "https://localhost:8080/"
        },
        "id": "0faf0d5f",
        "outputId": "87c8a40b-6cb3-4d55-cdec-e26051d99273"
      },
      "outputs": [
        {
          "data": {
            "text/plain": [
              "0   2022-07-01\n",
              "1   2022-07-01\n",
              "2   2022-07-01\n",
              "3   2022-07-01\n",
              "4   2022-07-01\n",
              "Name: data_da_coleta, dtype: datetime64[ns]"
            ]
          },
          "execution_count": 12,
          "metadata": {},
          "output_type": "execute_result"
        }
      ],
      "source": [
        "dados_brutos['data_da_coleta'] = pd.to_datetime(dados_brutos['data_da_coleta'], dayfirst=True)\n",
        "dados_brutos['data_da_coleta'].head()"
      ]
    },
    {
      "cell_type": "markdown",
      "id": "W7vKwBEzrOBT",
      "metadata": {
        "id": "W7vKwBEzrOBT"
      },
      "source": [
        "Outra coisa que podemos observar é que a coluna \"Valor de Venda\" está como \"object\", entretanto, essa é uma coluna composta por valores flutuantes que serão de suma importancia para a nossa análise, então, realizaremos essa alteração que nos permitirá manipular esses valores.\n",
        "\n",
        "No dataset, os valores flutuantes estão separados por vírgula (,), mas no padrão do Python, os valores flutuantes devem ser separados por ponto (.), então a seguir, realizaremos essa adequação, alterando as vírgulas por pontos para conseguirmos alterar o tipo da coluna:"
      ]
    },
    {
      "cell_type": "code",
      "execution_count": 13,
      "id": "15e7871c",
      "metadata": {
        "id": "15e7871c"
      },
      "outputs": [],
      "source": [
        "valores_virgula = dados_brutos['valor_de_venda'].tolist()\n",
        "valores_ponto = [x.replace(',', '.') for x in valores_virgula]\n",
        "dados_brutos['valor_de_venda'] = valores_ponto\n",
        "dados_brutos['valor_de_venda'] = dados_brutos['valor_de_venda'].astype(float)"
      ]
    },
    {
      "cell_type": "markdown",
      "id": "m6vQI0CBoeAE",
      "metadata": {
        "id": "m6vQI0CBoeAE"
      },
      "source": [
        " <font size=\"4\"> **3.2.Eliminando nulos.** </font>"
      ]
    },
    {
      "cell_type": "markdown",
      "id": "ETQkTIySi6kg",
      "metadata": {
        "id": "ETQkTIySi6kg"
      },
      "source": [
        "Com essa alteração feita, vamos verificar a quantidade de valores nulos, e com essa informação, eliminaremos as colunas dispensáveis, facilitando a visualização do nosso dataframe:"
      ]
    },
    {
      "cell_type": "code",
      "execution_count": 14,
      "id": "4b117649",
      "metadata": {
        "colab": {
          "base_uri": "https://localhost:8080/"
        },
        "id": "4b117649",
        "outputId": "23ef2570-a562-4055-b2b7-f1ce16689e98"
      },
      "outputs": [
        {
          "data": {
            "text/plain": [
              "regiao_sigla              0\n",
              "estado_sigla              0\n",
              "municipio                 0\n",
              "revenda                   0\n",
              "cnpj_da_revenda           0\n",
              "nome_da_rua               0\n",
              "numero_rua               71\n",
              "complemento          100097\n",
              "bairro                  412\n",
              "cep                       0\n",
              "produto                   0\n",
              "data_da_coleta            0\n",
              "valor_de_venda            0\n",
              "valor_de_compra      127176\n",
              "unidade_de_medida         0\n",
              "bandeira                  0\n",
              "dtype: int64"
            ]
          },
          "execution_count": 14,
          "metadata": {},
          "output_type": "execute_result"
        }
      ],
      "source": [
        "dados_brutos.isna().sum()"
      ]
    },
    {
      "cell_type": "markdown",
      "id": "SrtiR4vFkD25",
      "metadata": {
        "id": "SrtiR4vFkD25"
      },
      "source": [
        "Podemos ver que as colunas \"Complemento\" e \"Valor de compra\" possuem muitos valores nulos, então vamos analisá-las individualmente:"
      ]
    },
    {
      "cell_type": "code",
      "execution_count": 15,
      "id": "dddd2d35",
      "metadata": {
        "colab": {
          "base_uri": "https://localhost:8080/"
        },
        "id": "dddd2d35",
        "outputId": "c71a05ad-9033-4ebe-f133-677a6d645919"
      },
      "outputs": [
        {
          "data": {
            "text/plain": [
              "array([nan, 'LETRA A', 'QUADRA 18, LOTE 01', ..., 'GARA6EM',\n",
              "       'KM    615  280 M', 'LOTE  00013                     0002'],\n",
              "      dtype=object)"
            ]
          },
          "execution_count": 15,
          "metadata": {},
          "output_type": "execute_result"
        }
      ],
      "source": [
        "#verificando coluna \"Complemento\"\n",
        "dados_brutos.complemento.unique()"
      ]
    },
    {
      "cell_type": "code",
      "execution_count": 16,
      "id": "34d4520b",
      "metadata": {
        "colab": {
          "base_uri": "https://localhost:8080/"
        },
        "id": "34d4520b",
        "outputId": "dda347d7-3ac4-4d3d-a1f7-c6a90911aed7"
      },
      "outputs": [
        {
          "data": {
            "text/plain": [
              "array([nan])"
            ]
          },
          "execution_count": 16,
          "metadata": {},
          "output_type": "execute_result"
        }
      ],
      "source": [
        "#verificando coluna \"valor_de_compra\"\n",
        "dados_brutos.valor_de_compra.unique()"
      ]
    },
    {
      "cell_type": "markdown",
      "id": "rr2hV7tQkqmg",
      "metadata": {
        "id": "rr2hV7tQkqmg"
      },
      "source": [
        "Podemos observar que a coluna \"Complemento\" não possui informações que serão utilizadas na nossa análise, além de possuir muitos valores nulos. Podemos observar também que a coluna \"valor_de_compra\" está completamente vazia, então, vamos eliminar essas duas colunas do nosso dataframe:"
      ]
    },
    {
      "cell_type": "code",
      "execution_count": 17,
      "id": "6f9c7701",
      "metadata": {
        "id": "6f9c7701"
      },
      "outputs": [],
      "source": [
        "dados_brutos.drop(columns=['complemento'], inplace=True)"
      ]
    },
    {
      "cell_type": "code",
      "execution_count": 18,
      "id": "d19d9569",
      "metadata": {
        "id": "d19d9569"
      },
      "outputs": [],
      "source": [
        "dados_brutos.drop(columns=['valor_de_compra'], inplace=True)"
      ]
    },
    {
      "cell_type": "markdown",
      "id": "sBIsLSuvuoEn",
      "metadata": {
        "id": "sBIsLSuvuoEn"
      },
      "source": [
        "Agora, depois de todos esses passos, utilizamos o .info() para dar uma olhada geral no nosso dataset:"
      ]
    },
    {
      "cell_type": "code",
      "execution_count": 19,
      "id": "b119a352",
      "metadata": {
        "colab": {
          "base_uri": "https://localhost:8080/"
        },
        "id": "b119a352",
        "outputId": "e494f45b-7273-4c0f-e871-05b70a76effa"
      },
      "outputs": [
        {
          "name": "stdout",
          "output_type": "stream",
          "text": [
            "<class 'pandas.core.frame.DataFrame'>\n",
            "RangeIndex: 127176 entries, 0 to 127175\n",
            "Data columns (total 14 columns):\n",
            " #   Column             Non-Null Count   Dtype         \n",
            "---  ------             --------------   -----         \n",
            " 0   regiao_sigla       127176 non-null  object        \n",
            " 1   estado_sigla       127176 non-null  object        \n",
            " 2   municipio          127176 non-null  object        \n",
            " 3   revenda            127176 non-null  object        \n",
            " 4   cnpj_da_revenda    127176 non-null  object        \n",
            " 5   nome_da_rua        127176 non-null  object        \n",
            " 6   numero_rua         127105 non-null  object        \n",
            " 7   bairro             126764 non-null  object        \n",
            " 8   cep                127176 non-null  object        \n",
            " 9   produto            127176 non-null  object        \n",
            " 10  data_da_coleta     127176 non-null  datetime64[ns]\n",
            " 11  valor_de_venda     127176 non-null  float64       \n",
            " 12  unidade_de_medida  127176 non-null  object        \n",
            " 13  bandeira           127176 non-null  object        \n",
            "dtypes: datetime64[ns](1), float64(1), object(12)\n",
            "memory usage: 13.6+ MB\n"
          ]
        }
      ],
      "source": [
        "dados_brutos.info()"
      ]
    },
    {
      "cell_type": "markdown",
      "id": "Za23Dx44vR9U",
      "metadata": {
        "id": "Za23Dx44vR9U"
      },
      "source": [
        "Tudo parece certo, vamos fazer uma cópia do nosso DataFrame e prosseguir com o nosso dicionário:\n",
        "\n"
      ]
    },
    {
      "cell_type": "code",
      "execution_count": 20,
      "id": "wcoxLaVEwbSu",
      "metadata": {
        "id": "wcoxLaVEwbSu"
      },
      "outputs": [],
      "source": [
        "dados = dados_brutos.copy()"
      ]
    },
    {
      "cell_type": "markdown",
      "id": "i78L3-FFvW32",
      "metadata": {
        "id": "i78L3-FFvW32"
      },
      "source": [
        "## **4. Dicionário do DataFrame:**\n"
      ]
    },
    {
      "cell_type": "markdown",
      "id": "GVcymwNfwnBa",
      "metadata": {
        "id": "GVcymwNfwnBa"
      },
      "source": [
        "Agora, para facilitar a compreensão do nosso dataframe, temos abaixo o head e o dicionário:"
      ]
    },
    {
      "cell_type": "code",
      "execution_count": 21,
      "id": "wpyN7hMywxsG",
      "metadata": {
        "colab": {
          "base_uri": "https://localhost:8080/",
          "height": 476
        },
        "id": "wpyN7hMywxsG",
        "outputId": "d4944463-6f42-4ce0-f02d-58d64c602827"
      },
      "outputs": [
        {
          "data": {
            "text/html": [
              "\n",
              "  <div id=\"df-552a7318-1ec8-4f9f-a91d-3b93894e07f7\">\n",
              "    <div class=\"colab-df-container\">\n",
              "      <div>\n",
              "<style scoped>\n",
              "    .dataframe tbody tr th:only-of-type {\n",
              "        vertical-align: middle;\n",
              "    }\n",
              "\n",
              "    .dataframe tbody tr th {\n",
              "        vertical-align: top;\n",
              "    }\n",
              "\n",
              "    .dataframe thead th {\n",
              "        text-align: right;\n",
              "    }\n",
              "</style>\n",
              "<table border=\"1\" class=\"dataframe\">\n",
              "  <thead>\n",
              "    <tr style=\"text-align: right;\">\n",
              "      <th></th>\n",
              "      <th>regiao_sigla</th>\n",
              "      <th>estado_sigla</th>\n",
              "      <th>municipio</th>\n",
              "      <th>revenda</th>\n",
              "      <th>cnpj_da_revenda</th>\n",
              "      <th>nome_da_rua</th>\n",
              "      <th>numero_rua</th>\n",
              "      <th>bairro</th>\n",
              "      <th>cep</th>\n",
              "      <th>produto</th>\n",
              "      <th>data_da_coleta</th>\n",
              "      <th>valor_de_venda</th>\n",
              "      <th>unidade_de_medida</th>\n",
              "      <th>bandeira</th>\n",
              "    </tr>\n",
              "  </thead>\n",
              "  <tbody>\n",
              "    <tr>\n",
              "      <th>0</th>\n",
              "      <td>SE</td>\n",
              "      <td>ES</td>\n",
              "      <td>COLATINA</td>\n",
              "      <td>SAO FRANCISCO DE ASSIS COMERCIO DE COMBUSTIVEI...</td>\n",
              "      <td>08.519.545/0001-10</td>\n",
              "      <td>PRACA FIDELIS FERRARI</td>\n",
              "      <td>35</td>\n",
              "      <td>LACE</td>\n",
              "      <td>29703-030</td>\n",
              "      <td>GASOLINA ADITIVADA</td>\n",
              "      <td>2022-07-01</td>\n",
              "      <td>7.48</td>\n",
              "      <td>R$ / litro</td>\n",
              "      <td>VIBRA ENERGIA</td>\n",
              "    </tr>\n",
              "    <tr>\n",
              "      <th>1</th>\n",
              "      <td>SE</td>\n",
              "      <td>ES</td>\n",
              "      <td>COLATINA</td>\n",
              "      <td>SAO FRANCISCO DE ASSIS COMERCIO DE COMBUSTIVEI...</td>\n",
              "      <td>08.519.545/0001-10</td>\n",
              "      <td>PRACA FIDELIS FERRARI</td>\n",
              "      <td>35</td>\n",
              "      <td>LACE</td>\n",
              "      <td>29703-030</td>\n",
              "      <td>GASOLINA</td>\n",
              "      <td>2022-07-01</td>\n",
              "      <td>7.38</td>\n",
              "      <td>R$ / litro</td>\n",
              "      <td>VIBRA ENERGIA</td>\n",
              "    </tr>\n",
              "    <tr>\n",
              "      <th>2</th>\n",
              "      <td>SE</td>\n",
              "      <td>ES</td>\n",
              "      <td>COLATINA</td>\n",
              "      <td>POSTO MOTOCAP LTDA</td>\n",
              "      <td>04.814.652/0001-10</td>\n",
              "      <td>PRACA ALMIRANTE BARROSO</td>\n",
              "      <td>52</td>\n",
              "      <td>LACE</td>\n",
              "      <td>29703-055</td>\n",
              "      <td>ETANOL</td>\n",
              "      <td>2022-07-01</td>\n",
              "      <td>5.99</td>\n",
              "      <td>R$ / litro</td>\n",
              "      <td>VIBRA ENERGIA</td>\n",
              "    </tr>\n",
              "    <tr>\n",
              "      <th>3</th>\n",
              "      <td>SE</td>\n",
              "      <td>ES</td>\n",
              "      <td>COLATINA</td>\n",
              "      <td>POSTO MOTOCAP LTDA</td>\n",
              "      <td>04.814.652/0001-10</td>\n",
              "      <td>PRACA ALMIRANTE BARROSO</td>\n",
              "      <td>52</td>\n",
              "      <td>LACE</td>\n",
              "      <td>29703-055</td>\n",
              "      <td>GASOLINA</td>\n",
              "      <td>2022-07-01</td>\n",
              "      <td>7.39</td>\n",
              "      <td>R$ / litro</td>\n",
              "      <td>VIBRA ENERGIA</td>\n",
              "    </tr>\n",
              "    <tr>\n",
              "      <th>4</th>\n",
              "      <td>CO</td>\n",
              "      <td>GO</td>\n",
              "      <td>GOIANIA</td>\n",
              "      <td>JUSTINIANO &amp; JUSTINIANO LTDA</td>\n",
              "      <td>04.489.287/0001-16</td>\n",
              "      <td>AVENIDA JOSE LEANDRO DA CRUZ</td>\n",
              "      <td>2,36</td>\n",
              "      <td>PARQUE AMAZONIA</td>\n",
              "      <td>74840-390</td>\n",
              "      <td>GASOLINA ADITIVADA</td>\n",
              "      <td>2022-07-01</td>\n",
              "      <td>6.49</td>\n",
              "      <td>R$ / litro</td>\n",
              "      <td>IPIRANGA</td>\n",
              "    </tr>\n",
              "  </tbody>\n",
              "</table>\n",
              "</div>\n",
              "      <button class=\"colab-df-convert\" onclick=\"convertToInteractive('df-552a7318-1ec8-4f9f-a91d-3b93894e07f7')\"\n",
              "              title=\"Convert this dataframe to an interactive table.\"\n",
              "              style=\"display:none;\">\n",
              "        \n",
              "  <svg xmlns=\"http://www.w3.org/2000/svg\" height=\"24px\"viewBox=\"0 0 24 24\"\n",
              "       width=\"24px\">\n",
              "    <path d=\"M0 0h24v24H0V0z\" fill=\"none\"/>\n",
              "    <path d=\"M18.56 5.44l.94 2.06.94-2.06 2.06-.94-2.06-.94-.94-2.06-.94 2.06-2.06.94zm-11 1L8.5 8.5l.94-2.06 2.06-.94-2.06-.94L8.5 2.5l-.94 2.06-2.06.94zm10 10l.94 2.06.94-2.06 2.06-.94-2.06-.94-.94-2.06-.94 2.06-2.06.94z\"/><path d=\"M17.41 7.96l-1.37-1.37c-.4-.4-.92-.59-1.43-.59-.52 0-1.04.2-1.43.59L10.3 9.45l-7.72 7.72c-.78.78-.78 2.05 0 2.83L4 21.41c.39.39.9.59 1.41.59.51 0 1.02-.2 1.41-.59l7.78-7.78 2.81-2.81c.8-.78.8-2.07 0-2.86zM5.41 20L4 18.59l7.72-7.72 1.47 1.35L5.41 20z\"/>\n",
              "  </svg>\n",
              "      </button>\n",
              "      \n",
              "  <style>\n",
              "    .colab-df-container {\n",
              "      display:flex;\n",
              "      flex-wrap:wrap;\n",
              "      gap: 12px;\n",
              "    }\n",
              "\n",
              "    .colab-df-convert {\n",
              "      background-color: #E8F0FE;\n",
              "      border: none;\n",
              "      border-radius: 50%;\n",
              "      cursor: pointer;\n",
              "      display: none;\n",
              "      fill: #1967D2;\n",
              "      height: 32px;\n",
              "      padding: 0 0 0 0;\n",
              "      width: 32px;\n",
              "    }\n",
              "\n",
              "    .colab-df-convert:hover {\n",
              "      background-color: #E2EBFA;\n",
              "      box-shadow: 0px 1px 2px rgba(60, 64, 67, 0.3), 0px 1px 3px 1px rgba(60, 64, 67, 0.15);\n",
              "      fill: #174EA6;\n",
              "    }\n",
              "\n",
              "    [theme=dark] .colab-df-convert {\n",
              "      background-color: #3B4455;\n",
              "      fill: #D2E3FC;\n",
              "    }\n",
              "\n",
              "    [theme=dark] .colab-df-convert:hover {\n",
              "      background-color: #434B5C;\n",
              "      box-shadow: 0px 1px 3px 1px rgba(0, 0, 0, 0.15);\n",
              "      filter: drop-shadow(0px 1px 2px rgba(0, 0, 0, 0.3));\n",
              "      fill: #FFFFFF;\n",
              "    }\n",
              "  </style>\n",
              "\n",
              "      <script>\n",
              "        const buttonEl =\n",
              "          document.querySelector('#df-552a7318-1ec8-4f9f-a91d-3b93894e07f7 button.colab-df-convert');\n",
              "        buttonEl.style.display =\n",
              "          google.colab.kernel.accessAllowed ? 'block' : 'none';\n",
              "\n",
              "        async function convertToInteractive(key) {\n",
              "          const element = document.querySelector('#df-552a7318-1ec8-4f9f-a91d-3b93894e07f7');\n",
              "          const dataTable =\n",
              "            await google.colab.kernel.invokeFunction('convertToInteractive',\n",
              "                                                     [key], {});\n",
              "          if (!dataTable) return;\n",
              "\n",
              "          const docLinkHtml = 'Like what you see? Visit the ' +\n",
              "            '<a target=\"_blank\" href=https://colab.research.google.com/notebooks/data_table.ipynb>data table notebook</a>'\n",
              "            + ' to learn more about interactive tables.';\n",
              "          element.innerHTML = '';\n",
              "          dataTable['output_type'] = 'display_data';\n",
              "          await google.colab.output.renderOutput(dataTable, element);\n",
              "          const docLink = document.createElement('div');\n",
              "          docLink.innerHTML = docLinkHtml;\n",
              "          element.appendChild(docLink);\n",
              "        }\n",
              "      </script>\n",
              "    </div>\n",
              "  </div>\n",
              "  "
            ],
            "text/plain": [
              "  regiao_sigla estado_sigla municipio  \\\n",
              "0           SE           ES  COLATINA   \n",
              "1           SE           ES  COLATINA   \n",
              "2           SE           ES  COLATINA   \n",
              "3           SE           ES  COLATINA   \n",
              "4           CO           GO   GOIANIA   \n",
              "\n",
              "                                             revenda      cnpj_da_revenda  \\\n",
              "0  SAO FRANCISCO DE ASSIS COMERCIO DE COMBUSTIVEI...   08.519.545/0001-10   \n",
              "1  SAO FRANCISCO DE ASSIS COMERCIO DE COMBUSTIVEI...   08.519.545/0001-10   \n",
              "2                                 POSTO MOTOCAP LTDA   04.814.652/0001-10   \n",
              "3                                 POSTO MOTOCAP LTDA   04.814.652/0001-10   \n",
              "4                       JUSTINIANO & JUSTINIANO LTDA   04.489.287/0001-16   \n",
              "\n",
              "                    nome_da_rua numero_rua           bairro        cep  \\\n",
              "0         PRACA FIDELIS FERRARI         35             LACE  29703-030   \n",
              "1         PRACA FIDELIS FERRARI         35             LACE  29703-030   \n",
              "2       PRACA ALMIRANTE BARROSO         52             LACE  29703-055   \n",
              "3       PRACA ALMIRANTE BARROSO         52             LACE  29703-055   \n",
              "4  AVENIDA JOSE LEANDRO DA CRUZ       2,36  PARQUE AMAZONIA  74840-390   \n",
              "\n",
              "              produto data_da_coleta  valor_de_venda unidade_de_medida  \\\n",
              "0  GASOLINA ADITIVADA     2022-07-01            7.48        R$ / litro   \n",
              "1            GASOLINA     2022-07-01            7.38        R$ / litro   \n",
              "2              ETANOL     2022-07-01            5.99        R$ / litro   \n",
              "3            GASOLINA     2022-07-01            7.39        R$ / litro   \n",
              "4  GASOLINA ADITIVADA     2022-07-01            6.49        R$ / litro   \n",
              "\n",
              "        bandeira  \n",
              "0  VIBRA ENERGIA  \n",
              "1  VIBRA ENERGIA  \n",
              "2  VIBRA ENERGIA  \n",
              "3  VIBRA ENERGIA  \n",
              "4       IPIRANGA  "
            ]
          },
          "execution_count": 21,
          "metadata": {},
          "output_type": "execute_result"
        }
      ],
      "source": [
        "dados.head()"
      ]
    },
    {
      "cell_type": "markdown",
      "id": "F_JwWoQkw1sE",
      "metadata": {
        "id": "F_JwWoQkw1sE"
      },
      "source": [
        "`regiao_sigla`: Nome da região pertencente ao Brasil;\n",
        "\n",
        "`estado_sigla`: Nome do estado pertencente ao Brasil;\n",
        "\n",
        "`municipio`: Nome do município;\n",
        "\n",
        "`revenda`: Razão social do posto de combustível;\n",
        "\n",
        "`cnpj_da_revenda`: Cadastro Nacional da Pessoa Jurídica do posto de combustível;\n",
        "\n",
        "`nome_da_rua`: Rua onde se localiza o posto de combustível;\n",
        "\n",
        "`numero_rua`: Número onde se localiza o posto de combustível;\n",
        "\n",
        "`bairro`: nome do bairro pertencente ao endereço do posto de combustível;\n",
        "\n",
        "`cep`: código de endereçamento postal pertencente ao endereço do posto de combustível;\n",
        "\n",
        "`produto`: tipos de produtos com que o posto de combustível trabalha;\n",
        "\n",
        "`data_da_coleta`: Quando o dado foi coletado;\n",
        "\n",
        "`valor_de_venda`: valor repassado ao cliente;\n",
        "\n",
        "`unidade_de_medida`: Unidade de medida de relação tipo de moeda X tipo de volume;\n",
        "\n",
        "`bandeira`: Distribuidora dos combustíveis;"
      ]
    },
    {
      "cell_type": "markdown",
      "id": "TeQmOcPcz_L9",
      "metadata": {
        "id": "TeQmOcPcz_L9"
      },
      "source": [
        "Agora, podemos começar a responder as perguntas solicitadas."
      ]
    },
    {
      "cell_type": "markdown",
      "id": "ZOJxW-t02qwy",
      "metadata": {
        "id": "ZOJxW-t02qwy"
      },
      "source": [
        "## **5. Respondendo as perguntas:** \n"
      ]
    },
    {
      "cell_type": "markdown",
      "id": "hkgbWFzU2rfv",
      "metadata": {
        "id": "hkgbWFzU2rfv"
      },
      "source": [
        "Antes de responder as perguntas foi criada uma função anônima lambda para aplicar a formatação decimal nos nosso resultados:"
      ]
    },
    {
      "cell_type": "code",
      "execution_count": 86,
      "id": "9wlpTb7V2tr1",
      "metadata": {
        "id": "9wlpTb7V2tr1"
      },
      "outputs": [],
      "source": [
        "formatar = lambda x: float(\"%.2f\" % x)"
      ]
    },
    {
      "cell_type": "markdown",
      "id": "2JWN9J5_2hXI",
      "metadata": {
        "id": "2JWN9J5_2hXI"
      },
      "source": [
        "### **1. Como se comportaram o preço dos combustíveis durante os dois meses citados? Os valores do etanol e da gasolina tiveram uma queda ou diminuição?** \n"
      ]
    },
    {
      "cell_type": "markdown",
      "id": "2eStgPyE2lVq",
      "metadata": {
        "id": "2eStgPyE2lVq"
      },
      "source": [
        "Primeiro, foram formados dataframes com a média dos valores de todos os tipos de combustíveis agrupados por data (gasolina, gasolina aditivada e etanol), também foi incluso a média geral (a média diária de todos os combustíveis), abaixo temos um exemplo:"
      ]
    },
    {
      "cell_type": "code",
      "execution_count": 89,
      "id": "SnHY5uUYmzUm",
      "metadata": {
        "colab": {
          "base_uri": "https://localhost:8080/",
          "height": 206
        },
        "id": "SnHY5uUYmzUm",
        "outputId": "ed6b361e-bcc4-4598-b461-add83a2680a3"
      },
      "outputs": [
        {
          "data": {
            "text/html": [
              "\n",
              "  <div id=\"df-b0cde54a-7701-4a61-ac1c-c2a1b81d952d\">\n",
              "    <div class=\"colab-df-container\">\n",
              "      <div>\n",
              "<style scoped>\n",
              "    .dataframe tbody tr th:only-of-type {\n",
              "        vertical-align: middle;\n",
              "    }\n",
              "\n",
              "    .dataframe tbody tr th {\n",
              "        vertical-align: top;\n",
              "    }\n",
              "\n",
              "    .dataframe thead th {\n",
              "        text-align: right;\n",
              "    }\n",
              "</style>\n",
              "<table border=\"1\" class=\"dataframe\">\n",
              "  <thead>\n",
              "    <tr style=\"text-align: right;\">\n",
              "      <th></th>\n",
              "      <th>data_da_coleta</th>\n",
              "      <th>valor_de_venda</th>\n",
              "    </tr>\n",
              "  </thead>\n",
              "  <tbody>\n",
              "    <tr>\n",
              "      <th>0</th>\n",
              "      <td>2022-07-01</td>\n",
              "      <td>6.62</td>\n",
              "    </tr>\n",
              "    <tr>\n",
              "      <th>1</th>\n",
              "      <td>2022-07-04</td>\n",
              "      <td>6.08</td>\n",
              "    </tr>\n",
              "    <tr>\n",
              "      <th>2</th>\n",
              "      <td>2022-07-05</td>\n",
              "      <td>6.19</td>\n",
              "    </tr>\n",
              "    <tr>\n",
              "      <th>3</th>\n",
              "      <td>2022-07-06</td>\n",
              "      <td>5.96</td>\n",
              "    </tr>\n",
              "    <tr>\n",
              "      <th>4</th>\n",
              "      <td>2022-07-07</td>\n",
              "      <td>5.80</td>\n",
              "    </tr>\n",
              "  </tbody>\n",
              "</table>\n",
              "</div>\n",
              "      <button class=\"colab-df-convert\" onclick=\"convertToInteractive('df-b0cde54a-7701-4a61-ac1c-c2a1b81d952d')\"\n",
              "              title=\"Convert this dataframe to an interactive table.\"\n",
              "              style=\"display:none;\">\n",
              "        \n",
              "  <svg xmlns=\"http://www.w3.org/2000/svg\" height=\"24px\"viewBox=\"0 0 24 24\"\n",
              "       width=\"24px\">\n",
              "    <path d=\"M0 0h24v24H0V0z\" fill=\"none\"/>\n",
              "    <path d=\"M18.56 5.44l.94 2.06.94-2.06 2.06-.94-2.06-.94-.94-2.06-.94 2.06-2.06.94zm-11 1L8.5 8.5l.94-2.06 2.06-.94-2.06-.94L8.5 2.5l-.94 2.06-2.06.94zm10 10l.94 2.06.94-2.06 2.06-.94-2.06-.94-.94-2.06-.94 2.06-2.06.94z\"/><path d=\"M17.41 7.96l-1.37-1.37c-.4-.4-.92-.59-1.43-.59-.52 0-1.04.2-1.43.59L10.3 9.45l-7.72 7.72c-.78.78-.78 2.05 0 2.83L4 21.41c.39.39.9.59 1.41.59.51 0 1.02-.2 1.41-.59l7.78-7.78 2.81-2.81c.8-.78.8-2.07 0-2.86zM5.41 20L4 18.59l7.72-7.72 1.47 1.35L5.41 20z\"/>\n",
              "  </svg>\n",
              "      </button>\n",
              "      \n",
              "  <style>\n",
              "    .colab-df-container {\n",
              "      display:flex;\n",
              "      flex-wrap:wrap;\n",
              "      gap: 12px;\n",
              "    }\n",
              "\n",
              "    .colab-df-convert {\n",
              "      background-color: #E8F0FE;\n",
              "      border: none;\n",
              "      border-radius: 50%;\n",
              "      cursor: pointer;\n",
              "      display: none;\n",
              "      fill: #1967D2;\n",
              "      height: 32px;\n",
              "      padding: 0 0 0 0;\n",
              "      width: 32px;\n",
              "    }\n",
              "\n",
              "    .colab-df-convert:hover {\n",
              "      background-color: #E2EBFA;\n",
              "      box-shadow: 0px 1px 2px rgba(60, 64, 67, 0.3), 0px 1px 3px 1px rgba(60, 64, 67, 0.15);\n",
              "      fill: #174EA6;\n",
              "    }\n",
              "\n",
              "    [theme=dark] .colab-df-convert {\n",
              "      background-color: #3B4455;\n",
              "      fill: #D2E3FC;\n",
              "    }\n",
              "\n",
              "    [theme=dark] .colab-df-convert:hover {\n",
              "      background-color: #434B5C;\n",
              "      box-shadow: 0px 1px 3px 1px rgba(0, 0, 0, 0.15);\n",
              "      filter: drop-shadow(0px 1px 2px rgba(0, 0, 0, 0.3));\n",
              "      fill: #FFFFFF;\n",
              "    }\n",
              "  </style>\n",
              "\n",
              "      <script>\n",
              "        const buttonEl =\n",
              "          document.querySelector('#df-b0cde54a-7701-4a61-ac1c-c2a1b81d952d button.colab-df-convert');\n",
              "        buttonEl.style.display =\n",
              "          google.colab.kernel.accessAllowed ? 'block' : 'none';\n",
              "\n",
              "        async function convertToInteractive(key) {\n",
              "          const element = document.querySelector('#df-b0cde54a-7701-4a61-ac1c-c2a1b81d952d');\n",
              "          const dataTable =\n",
              "            await google.colab.kernel.invokeFunction('convertToInteractive',\n",
              "                                                     [key], {});\n",
              "          if (!dataTable) return;\n",
              "\n",
              "          const docLinkHtml = 'Like what you see? Visit the ' +\n",
              "            '<a target=\"_blank\" href=https://colab.research.google.com/notebooks/data_table.ipynb>data table notebook</a>'\n",
              "            + ' to learn more about interactive tables.';\n",
              "          element.innerHTML = '';\n",
              "          dataTable['output_type'] = 'display_data';\n",
              "          await google.colab.output.renderOutput(dataTable, element);\n",
              "          const docLink = document.createElement('div');\n",
              "          docLink.innerHTML = docLinkHtml;\n",
              "          element.appendChild(docLink);\n",
              "        }\n",
              "      </script>\n",
              "    </div>\n",
              "  </div>\n",
              "  "
            ],
            "text/plain": [
              "  data_da_coleta  valor_de_venda\n",
              "0     2022-07-01            6.62\n",
              "1     2022-07-04            6.08\n",
              "2     2022-07-05            6.19\n",
              "3     2022-07-06            5.96\n",
              "4     2022-07-07            5.80"
            ]
          },
          "execution_count": 89,
          "metadata": {},
          "output_type": "execute_result"
        }
      ],
      "source": [
        "venda_por_data_gasolina_aditivada = dados.loc[dados['produto'] == 'GASOLINA ADITIVADA'].groupby(['data_da_coleta'])['valor_de_venda'].mean().apply(formatar).reset_index()\n",
        "venda_por_data_gasolina = dados.loc[dados['produto'] == 'GASOLINA'].groupby(['data_da_coleta'])['valor_de_venda'].mean().apply(formatar).reset_index()\n",
        "venda_por_data_etanol = dados.loc[dados['produto'] == 'ETANOL'].groupby(['data_da_coleta'])['valor_de_venda'].mean().apply(formatar).reset_index()\n",
        "venda_por_data = dados.groupby(['data_da_coleta'])['valor_de_venda'].mean().apply(formatar).reset_index()\n",
        "venda_por_data.head()"
      ]
    },
    {
      "cell_type": "markdown",
      "id": "Cp6dqckY6brL",
      "metadata": {
        "id": "Cp6dqckY6brL"
      },
      "source": [
        "Com esses dataframes criados, utilizamos o matplotlib para unir essas informações em um gráfico de linha:"
      ]
    },
    {
      "cell_type": "code",
      "execution_count": 90,
      "id": "jZ1hTIkToG0e",
      "metadata": {
        "colab": {
          "base_uri": "https://localhost:8080/",
          "height": 655
        },
        "id": "jZ1hTIkToG0e",
        "outputId": "f7826938-7627-4233-cc00-bf9107c0f3f9"
      },
      "outputs": [
        {
          "data": {
            "image/png": "[encoded data removed]",
            "text/plain": [
              "<Figure size 1440x720 with 1 Axes>"
            ]
          },
          "metadata": {
            "needs_background": "light"
          },
          "output_type": "display_data"
        }
      ],
      "source": [
        "plt.figure(figsize=(20,10))\n",
        "plt.rc('xtick', labelsize=15)\n",
        "plt.rc('ytick', labelsize=15)\n",
        "plt.rc('legend', fontsize=15)\n",
        "plt.plot(venda_por_data['data_da_coleta'], venda_por_data['valor_de_venda'], label='Combustíveis') \n",
        "plt.plot(venda_por_data_etanol['data_da_coleta'], venda_por_data_etanol['valor_de_venda'], label='Etanol', linestyle=\"--\")\n",
        "plt.plot(venda_por_data_gasolina['data_da_coleta'], venda_por_data_gasolina['valor_de_venda'], label='Gasolina', linestyle=\"-.\")\n",
        "plt.plot(venda_por_data_gasolina_aditivada['data_da_coleta'], venda_por_data_gasolina_aditivada['valor_de_venda'], label='Gasolina Aditivada', linestyle=\":\")\n",
        "plt.xlabel(\"Período de 2 meses\", size=24) \n",
        "plt.ylabel(\"Preço dos combustíveis\", size=24)  \n",
        "plt.title(\"Evolução do preço dos combustíveis\",loc='left', size=30)  \n",
        "plt.legend()\n",
        "plt.show() "
      ]
    },
    {
      "cell_type": "markdown",
      "id": "MmoHLHwf-op3",
      "metadata": {
        "id": "MmoHLHwf-op3"
      },
      "source": [
        "**Em relação ao comportamento do preço dos combustíveis nesse período:**\n",
        "\n",
        "\n",
        "* Como pode ser observado ao longo de 2 meses, considerando o preço dos 3 tipos de combustíveis em todo o Brasil (Gasolina aditivada, gasolina e etanol), obtivemos uma queda quase linear de 27% desde o primeiro dia até o ultimo dia, caindo de <font size=\"5\" color='red'>6.62</font> até <font size=\"5\" color='green'>4.83</font> (valor em R$);\n",
        "\n",
        "* Vale ser apontado também, que curiosamente, a média do primeiro dia (2022-07-01) é também o valor mais alto do combustível nesse período, enquanto o valor do ultimo dia (2022-08-31) é o segundo valor mais baixo, estando apenas 2 centavos acima do fundo;\n",
        "\n",
        "* De acordo com o gráfico e com o que foi análisado, é possível concordar que o preço dos combustíveis estão em uma grande tendência de queda;"
      ]
    },
    {
      "cell_type": "markdown",
      "id": "B-Hb2sg46qV7",
      "metadata": {
        "id": "B-Hb2sg46qV7"
      },
      "source": [
        "### **2. Qual o preço médio da gasolina e do etanol nesses 2 meses?**\n",
        "\n"
      ]
    },
    {
      "cell_type": "markdown",
      "id": "Ws7qf03_GHzk",
      "metadata": {
        "id": "Ws7qf03_GHzk"
      },
      "source": [
        "Podemos calcular o preço médio de cada combustível facilmente utilizando o \".loc[ ]\" para filtrar o produto (combustível específico) e o .mean() para calcular a média;"
      ]
    },
    {
      "cell_type": "markdown",
      "id": "ukomp0ng5txq",
      "metadata": {
        "id": "ukomp0ng5txq"
      },
      "source": [
        "* preço médio da gasolina nos dois meses:"
      ]
    },
    {
      "cell_type": "code",
      "execution_count": 92,
      "id": "mnJ4Gm65zhvQ",
      "metadata": {
        "colab": {
          "base_uri": "https://localhost:8080/"
        },
        "id": "mnJ4Gm65zhvQ",
        "outputId": "288bf130-95d2-46d5-c4b8-2b22b4394fd0"
      },
      "outputs": [
        {
          "data": {
            "text/plain": [
              "5.71"
            ]
          },
          "execution_count": 92,
          "metadata": {},
          "output_type": "execute_result"
        }
      ],
      "source": [
        "media_gasolina = formatar(dados.loc[dados['produto'] == 'GASOLINA']['valor_de_venda'].mean())\n",
        "media_gasolina"
      ]
    },
    {
      "cell_type": "markdown",
      "id": "YxLrMzoa5vsk",
      "metadata": {
        "id": "YxLrMzoa5vsk"
      },
      "source": [
        "* preço médio do etanol nos dois meses:"
      ]
    },
    {
      "cell_type": "code",
      "execution_count": 91,
      "id": "KslQYY7s5xQY",
      "metadata": {
        "colab": {
          "base_uri": "https://localhost:8080/"
        },
        "id": "KslQYY7s5xQY",
        "outputId": "ecf2ff87-82d9-4a47-fb27-7d41a46006fb"
      },
      "outputs": [
        {
          "data": {
            "text/plain": [
              "4.51"
            ]
          },
          "execution_count": 91,
          "metadata": {},
          "output_type": "execute_result"
        }
      ],
      "source": [
        "media_etanol = formatar(dados.loc[dados['produto'] == 'ETANOL']['valor_de_venda'].mean())\n",
        "media_etanol"
      ]
    },
    {
      "cell_type": "markdown",
      "id": "bRFRyuDdGpbl",
      "metadata": {
        "id": "bRFRyuDdGpbl"
      },
      "source": [
        "**Média da gasolina: 5.71**\n",
        "\n",
        "**Média do etanol: 4.51**\n",
        "\n",
        "Podemos conferir que na média, o etanol tende a ser mais barato que a gasolina;"
      ]
    },
    {
      "cell_type": "markdown",
      "id": "KkdEsHVm7Npe",
      "metadata": {
        "id": "KkdEsHVm7Npe"
      },
      "source": [
        "### **3. Quais os 5 estados com o preço médio da gasolina e do etanol mais caros?**\n"
      ]
    },
    {
      "cell_type": "markdown",
      "id": "gv-rt34nOKks",
      "metadata": {
        "id": "gv-rt34nOKks"
      },
      "source": [
        "* Gasolina:"
      ]
    },
    {
      "cell_type": "markdown",
      "id": "BPY5daczLrK3",
      "metadata": {
        "id": "BPY5daczLrK3"
      },
      "source": [
        "Podemos verificar os estados com maior preço médio de cada tipo de combustível filtrando no dataframe por tipo de combustível e agrupando por estado, calculando a média, por fim basta retirar os 5 maiores valores:"
      ]
    },
    {
      "cell_type": "code",
      "execution_count": 113,
      "id": "YZftzS5z7ZmA",
      "metadata": {
        "colab": {
          "base_uri": "https://localhost:8080/"
        },
        "id": "YZftzS5z7ZmA",
        "outputId": "72518837-41d9-43e5-a954-964274880312"
      },
      "outputs": [
        {
          "data": {
            "text/plain": [
              "estado_sigla\n",
              "AC    6.21\n",
              "AM    6.19\n",
              "PI    6.08\n",
              "TO    6.05\n",
              "BA    6.03\n",
              "Name: valor_de_venda, dtype: float64"
            ]
          },
          "execution_count": 113,
          "metadata": {},
          "output_type": "execute_result"
        }
      ],
      "source": [
        "gasolina_df = dados.loc[dados['produto'] == 'GASOLINA']\n",
        "gasolina_df.groupby(['estado_sigla'])['valor_de_venda'].mean().apply(formatar).nlargest(5)"
      ]
    },
    {
      "cell_type": "markdown",
      "id": "Xz3_PAAmNEdN",
      "metadata": {
        "id": "Xz3_PAAmNEdN"
      },
      "source": [
        "Dente os estados com preço de gasolina mais cara, temos:\n",
        "\n",
        "**1. Acre**\n",
        "\n",
        "**2. Amazonas**\n",
        "\n",
        "**3. Piaui**\n",
        "\n",
        "**4. Tocantins**\n",
        "\n",
        "**5. Bahia**\n"
      ]
    },
    {
      "cell_type": "markdown",
      "id": "yOGu3tLjNYzp",
      "metadata": {
        "id": "yOGu3tLjNYzp"
      },
      "source": [
        "Como podemos ver, dos 5 estados com preço de gasolina mais elevado, 3 são do Norte (Acre, Amazonas e Tocantins) \n",
        "\n",
        "e 2 são do Nordeste (Piaui e Bahia);"
      ]
    },
    {
      "cell_type": "markdown",
      "id": "lIzyNnchOPhj",
      "metadata": {
        "id": "lIzyNnchOPhj"
      },
      "source": [
        "* Etanol:"
      ]
    },
    {
      "cell_type": "code",
      "execution_count": 114,
      "id": "yGgw4Nk_7an1",
      "metadata": {
        "colab": {
          "base_uri": "https://localhost:8080/"
        },
        "id": "yGgw4Nk_7an1",
        "outputId": "e4b561b6-c077-43b5-bde4-1ca92a79b3a1"
      },
      "outputs": [
        {
          "data": {
            "text/plain": [
              "estado_sigla\n",
              "AP    5.90\n",
              "RS    5.66\n",
              "PA    5.62\n",
              "RO    5.60\n",
              "RR    5.57\n",
              "Name: valor_de_venda, dtype: float64"
            ]
          },
          "execution_count": 114,
          "metadata": {},
          "output_type": "execute_result"
        }
      ],
      "source": [
        "etanol_df = dados.loc[dados['produto'] == 'ETANOL']\n",
        "etanol_df.groupby(['estado_sigla'])['valor_de_venda'].mean().apply(formatar).nlargest(5)"
      ]
    },
    {
      "cell_type": "markdown",
      "id": "hxqx30vNN9GO",
      "metadata": {
        "id": "hxqx30vNN9GO"
      },
      "source": [
        "Dente os estados com preço do etanol mais caro, temos:\n",
        "\n",
        "**1. Amapá**\n",
        "\n",
        "**2. Rio Grande do Sul**\n",
        "\n",
        "**3. Pará**\n",
        "\n",
        "**4. Rondônia**\n",
        "\n",
        "**5. Roraima**"
      ]
    },
    {
      "cell_type": "markdown",
      "id": "ISL6iBpZPANz",
      "metadata": {
        "id": "ISL6iBpZPANz"
      },
      "source": [
        "Como podemos ver, dos 5 estados com preço de etanol mais elevado, 1 é do Sudeste (Amapá), 1 é do sul (Rio Grande do Sul) e 3 são do Norte (Pará, Rondônia e Roraima);\n"
      ]
    },
    {
      "cell_type": "markdown",
      "id": "jHVls7niPrQ_",
      "metadata": {
        "id": "jHVls7niPrQ_"
      },
      "source": [
        " <font size=\"4\">  No geral, o Norte é a região com os preços de combustíveis mais elevados;"
      ]
    },
    {
      "cell_type": "markdown",
      "id": "g-gEW7p27eHn",
      "metadata": {
        "id": "g-gEW7p27eHn"
      },
      "source": [
        "### **4. Qual o preço médio da gasolina e do etanol por estado?**"
      ]
    },
    {
      "cell_type": "markdown",
      "id": "XHAjiJFoPzqh",
      "metadata": {
        "id": "XHAjiJFoPzqh"
      },
      "source": [
        "Para conseguir esse resultado, basta utilizar os dataframes que criamos individualmente para cada tipo de combustível e agrupar por estado com a média:"
      ]
    },
    {
      "cell_type": "markdown",
      "id": "3aYUKs-27g9x",
      "metadata": {
        "id": "3aYUKs-27g9x"
      },
      "source": [
        "* Gasolina: "
      ]
    },
    {
      "cell_type": "code",
      "execution_count": 154,
      "id": "GMl7ap3j7i3Z",
      "metadata": {
        "colab": {
          "base_uri": "https://localhost:8080/",
          "height": 238
        },
        "collapsed": true,
        "id": "GMl7ap3j7i3Z",
        "outputId": "fbb39a2f-b9d2-432f-93b5-77cb73b861cc"
      },
      "outputs": [
        {
          "data": {
            "text/html": [
              "\n",
              "  <div id=\"df-dc08a7d7-e3fb-4b7a-8a61-1111f4a05aaa\">\n",
              "    <div class=\"colab-df-container\">\n",
              "      <div>\n",
              "<style scoped>\n",
              "    .dataframe tbody tr th:only-of-type {\n",
              "        vertical-align: middle;\n",
              "    }\n",
              "\n",
              "    .dataframe tbody tr th {\n",
              "        vertical-align: top;\n",
              "    }\n",
              "\n",
              "    .dataframe thead th {\n",
              "        text-align: right;\n",
              "    }\n",
              "</style>\n",
              "<table border=\"1\" class=\"dataframe\">\n",
              "  <thead>\n",
              "    <tr style=\"text-align: right;\">\n",
              "      <th></th>\n",
              "      <th>valor_de_venda</th>\n",
              "    </tr>\n",
              "    <tr>\n",
              "      <th>estado_sigla</th>\n",
              "      <th></th>\n",
              "    </tr>\n",
              "  </thead>\n",
              "  <tbody>\n",
              "    <tr>\n",
              "      <th>AC</th>\n",
              "      <td>6.21</td>\n",
              "    </tr>\n",
              "    <tr>\n",
              "      <th>AL</th>\n",
              "      <td>5.94</td>\n",
              "    </tr>\n",
              "    <tr>\n",
              "      <th>AM</th>\n",
              "      <td>6.19</td>\n",
              "    </tr>\n",
              "    <tr>\n",
              "      <th>AP</th>\n",
              "      <td>5.11</td>\n",
              "    </tr>\n",
              "    <tr>\n",
              "      <th>BA</th>\n",
              "      <td>6.03</td>\n",
              "    </tr>\n",
              "  </tbody>\n",
              "</table>\n",
              "</div>\n",
              "      <button class=\"colab-df-convert\" onclick=\"convertToInteractive('df-dc08a7d7-e3fb-4b7a-8a61-1111f4a05aaa')\"\n",
              "              title=\"Convert this dataframe to an interactive table.\"\n",
              "              style=\"display:none;\">\n",
              "        \n",
              "  <svg xmlns=\"http://www.w3.org/2000/svg\" height=\"24px\"viewBox=\"0 0 24 24\"\n",
              "       width=\"24px\">\n",
              "    <path d=\"M0 0h24v24H0V0z\" fill=\"none\"/>\n",
              "    <path d=\"M18.56 5.44l.94 2.06.94-2.06 2.06-.94-2.06-.94-.94-2.06-.94 2.06-2.06.94zm-11 1L8.5 8.5l.94-2.06 2.06-.94-2.06-.94L8.5 2.5l-.94 2.06-2.06.94zm10 10l.94 2.06.94-2.06 2.06-.94-2.06-.94-.94-2.06-.94 2.06-2.06.94z\"/><path d=\"M17.41 7.96l-1.37-1.37c-.4-.4-.92-.59-1.43-.59-.52 0-1.04.2-1.43.59L10.3 9.45l-7.72 7.72c-.78.78-.78 2.05 0 2.83L4 21.41c.39.39.9.59 1.41.59.51 0 1.02-.2 1.41-.59l7.78-7.78 2.81-2.81c.8-.78.8-2.07 0-2.86zM5.41 20L4 18.59l7.72-7.72 1.47 1.35L5.41 20z\"/>\n",
              "  </svg>\n",
              "      </button>\n",
              "      \n",
              "  <style>\n",
              "    .colab-df-container {\n",
              "      display:flex;\n",
              "      flex-wrap:wrap;\n",
              "      gap: 12px;\n",
              "    }\n",
              "\n",
              "    .colab-df-convert {\n",
              "      background-color: #E8F0FE;\n",
              "      border: none;\n",
              "      border-radius: 50%;\n",
              "      cursor: pointer;\n",
              "      display: none;\n",
              "      fill: #1967D2;\n",
              "      height: 32px;\n",
              "      padding: 0 0 0 0;\n",
              "      width: 32px;\n",
              "    }\n",
              "\n",
              "    .colab-df-convert:hover {\n",
              "      background-color: #E2EBFA;\n",
              "      box-shadow: 0px 1px 2px rgba(60, 64, 67, 0.3), 0px 1px 3px 1px rgba(60, 64, 67, 0.15);\n",
              "      fill: #174EA6;\n",
              "    }\n",
              "\n",
              "    [theme=dark] .colab-df-convert {\n",
              "      background-color: #3B4455;\n",
              "      fill: #D2E3FC;\n",
              "    }\n",
              "\n",
              "    [theme=dark] .colab-df-convert:hover {\n",
              "      background-color: #434B5C;\n",
              "      box-shadow: 0px 1px 3px 1px rgba(0, 0, 0, 0.15);\n",
              "      filter: drop-shadow(0px 1px 2px rgba(0, 0, 0, 0.3));\n",
              "      fill: #FFFFFF;\n",
              "    }\n",
              "  </style>\n",
              "\n",
              "      <script>\n",
              "        const buttonEl =\n",
              "          document.querySelector('#df-dc08a7d7-e3fb-4b7a-8a61-1111f4a05aaa button.colab-df-convert');\n",
              "        buttonEl.style.display =\n",
              "          google.colab.kernel.accessAllowed ? 'block' : 'none';\n",
              "\n",
              "        async function convertToInteractive(key) {\n",
              "          const element = document.querySelector('#df-dc08a7d7-e3fb-4b7a-8a61-1111f4a05aaa');\n",
              "          const dataTable =\n",
              "            await google.colab.kernel.invokeFunction('convertToInteractive',\n",
              "                                                     [key], {});\n",
              "          if (!dataTable) return;\n",
              "\n",
              "          const docLinkHtml = 'Like what you see? Visit the ' +\n",
              "            '<a target=\"_blank\" href=https://colab.research.google.com/notebooks/data_table.ipynb>data table notebook</a>'\n",
              "            + ' to learn more about interactive tables.';\n",
              "          element.innerHTML = '';\n",
              "          dataTable['output_type'] = 'display_data';\n",
              "          await google.colab.output.renderOutput(dataTable, element);\n",
              "          const docLink = document.createElement('div');\n",
              "          docLink.innerHTML = docLinkHtml;\n",
              "          element.appendChild(docLink);\n",
              "        }\n",
              "      </script>\n",
              "    </div>\n",
              "  </div>\n",
              "  "
            ],
            "text/plain": [
              "              valor_de_venda\n",
              "estado_sigla                \n",
              "AC                      6.21\n",
              "AL                      5.94\n",
              "AM                      6.19\n",
              "AP                      5.11\n",
              "BA                      6.03"
            ]
          },
          "execution_count": 154,
          "metadata": {},
          "output_type": "execute_result"
        }
      ],
      "source": [
        "estados_gasolina = gasolina_df.groupby(['estado_sigla']).mean()\n",
        "estados_gasolina['valor_de_venda'] = estados_gasolina['valor_de_venda'].apply(formatar)\n",
        "estados_gasolina.head()"
      ]
    },
    {
      "cell_type": "markdown",
      "id": "7HXTbqWJ7kw5",
      "metadata": {
        "id": "7HXTbqWJ7kw5"
      },
      "source": [
        "* Etanol:"
      ]
    },
    {
      "cell_type": "code",
      "execution_count": 155,
      "id": "U9uyyv1M7mX5",
      "metadata": {
        "colab": {
          "base_uri": "https://localhost:8080/",
          "height": 238
        },
        "collapsed": true,
        "id": "U9uyyv1M7mX5",
        "outputId": "d4384009-f1e0-4771-97d7-37b5657e7dd7"
      },
      "outputs": [
        {
          "data": {
            "text/html": [
              "\n",
              "  <div id=\"df-31188519-a45d-4fd2-acd5-4cfe434950f9\">\n",
              "    <div class=\"colab-df-container\">\n",
              "      <div>\n",
              "<style scoped>\n",
              "    .dataframe tbody tr th:only-of-type {\n",
              "        vertical-align: middle;\n",
              "    }\n",
              "\n",
              "    .dataframe tbody tr th {\n",
              "        vertical-align: top;\n",
              "    }\n",
              "\n",
              "    .dataframe thead th {\n",
              "        text-align: right;\n",
              "    }\n",
              "</style>\n",
              "<table border=\"1\" class=\"dataframe\">\n",
              "  <thead>\n",
              "    <tr style=\"text-align: right;\">\n",
              "      <th></th>\n",
              "      <th>valor_de_venda</th>\n",
              "    </tr>\n",
              "    <tr>\n",
              "      <th>estado_sigla</th>\n",
              "      <th></th>\n",
              "    </tr>\n",
              "  </thead>\n",
              "  <tbody>\n",
              "    <tr>\n",
              "      <th>AC</th>\n",
              "      <td>5.38</td>\n",
              "    </tr>\n",
              "    <tr>\n",
              "      <th>AL</th>\n",
              "      <td>5.24</td>\n",
              "    </tr>\n",
              "    <tr>\n",
              "      <th>AM</th>\n",
              "      <td>4.95</td>\n",
              "    </tr>\n",
              "    <tr>\n",
              "      <th>AP</th>\n",
              "      <td>5.90</td>\n",
              "    </tr>\n",
              "    <tr>\n",
              "      <th>BA</th>\n",
              "      <td>5.07</td>\n",
              "    </tr>\n",
              "  </tbody>\n",
              "</table>\n",
              "</div>\n",
              "      <button class=\"colab-df-convert\" onclick=\"convertToInteractive('df-31188519-a45d-4fd2-acd5-4cfe434950f9')\"\n",
              "              title=\"Convert this dataframe to an interactive table.\"\n",
              "              style=\"display:none;\">\n",
              "        \n",
              "  <svg xmlns=\"http://www.w3.org/2000/svg\" height=\"24px\"viewBox=\"0 0 24 24\"\n",
              "       width=\"24px\">\n",
              "    <path d=\"M0 0h24v24H0V0z\" fill=\"none\"/>\n",
              "    <path d=\"M18.56 5.44l.94 2.06.94-2.06 2.06-.94-2.06-.94-.94-2.06-.94 2.06-2.06.94zm-11 1L8.5 8.5l.94-2.06 2.06-.94-2.06-.94L8.5 2.5l-.94 2.06-2.06.94zm10 10l.94 2.06.94-2.06 2.06-.94-2.06-.94-.94-2.06-.94 2.06-2.06.94z\"/><path d=\"M17.41 7.96l-1.37-1.37c-.4-.4-.92-.59-1.43-.59-.52 0-1.04.2-1.43.59L10.3 9.45l-7.72 7.72c-.78.78-.78 2.05 0 2.83L4 21.41c.39.39.9.59 1.41.59.51 0 1.02-.2 1.41-.59l7.78-7.78 2.81-2.81c.8-.78.8-2.07 0-2.86zM5.41 20L4 18.59l7.72-7.72 1.47 1.35L5.41 20z\"/>\n",
              "  </svg>\n",
              "      </button>\n",
              "      \n",
              "  <style>\n",
              "    .colab-df-container {\n",
              "      display:flex;\n",
              "      flex-wrap:wrap;\n",
              "      gap: 12px;\n",
              "    }\n",
              "\n",
              "    .colab-df-convert {\n",
              "      background-color: #E8F0FE;\n",
              "      border: none;\n",
              "      border-radius: 50%;\n",
              "      cursor: pointer;\n",
              "      display: none;\n",
              "      fill: #1967D2;\n",
              "      height: 32px;\n",
              "      padding: 0 0 0 0;\n",
              "      width: 32px;\n",
              "    }\n",
              "\n",
              "    .colab-df-convert:hover {\n",
              "      background-color: #E2EBFA;\n",
              "      box-shadow: 0px 1px 2px rgba(60, 64, 67, 0.3), 0px 1px 3px 1px rgba(60, 64, 67, 0.15);\n",
              "      fill: #174EA6;\n",
              "    }\n",
              "\n",
              "    [theme=dark] .colab-df-convert {\n",
              "      background-color: #3B4455;\n",
              "      fill: #D2E3FC;\n",
              "    }\n",
              "\n",
              "    [theme=dark] .colab-df-convert:hover {\n",
              "      background-color: #434B5C;\n",
              "      box-shadow: 0px 1px 3px 1px rgba(0, 0, 0, 0.15);\n",
              "      filter: drop-shadow(0px 1px 2px rgba(0, 0, 0, 0.3));\n",
              "      fill: #FFFFFF;\n",
              "    }\n",
              "  </style>\n",
              "\n",
              "      <script>\n",
              "        const buttonEl =\n",
              "          document.querySelector('#df-31188519-a45d-4fd2-acd5-4cfe434950f9 button.colab-df-convert');\n",
              "        buttonEl.style.display =\n",
              "          google.colab.kernel.accessAllowed ? 'block' : 'none';\n",
              "\n",
              "        async function convertToInteractive(key) {\n",
              "          const element = document.querySelector('#df-31188519-a45d-4fd2-acd5-4cfe434950f9');\n",
              "          const dataTable =\n",
              "            await google.colab.kernel.invokeFunction('convertToInteractive',\n",
              "                                                     [key], {});\n",
              "          if (!dataTable) return;\n",
              "\n",
              "          const docLinkHtml = 'Like what you see? Visit the ' +\n",
              "            '<a target=\"_blank\" href=https://colab.research.google.com/notebooks/data_table.ipynb>data table notebook</a>'\n",
              "            + ' to learn more about interactive tables.';\n",
              "          element.innerHTML = '';\n",
              "          dataTable['output_type'] = 'display_data';\n",
              "          await google.colab.output.renderOutput(dataTable, element);\n",
              "          const docLink = document.createElement('div');\n",
              "          docLink.innerHTML = docLinkHtml;\n",
              "          element.appendChild(docLink);\n",
              "        }\n",
              "      </script>\n",
              "    </div>\n",
              "  </div>\n",
              "  "
            ],
            "text/plain": [
              "              valor_de_venda\n",
              "estado_sigla                \n",
              "AC                      5.38\n",
              "AL                      5.24\n",
              "AM                      4.95\n",
              "AP                      5.90\n",
              "BA                      5.07"
            ]
          },
          "execution_count": 155,
          "metadata": {},
          "output_type": "execute_result"
        }
      ],
      "source": [
        "estados_etanol = etanol_df.groupby(['estado_sigla']).mean()\n",
        "estados_etanol['valor_de_venda'] = estados_etanol['valor_de_venda'].apply(formatar)\n",
        "estados_etanol.head()"
      ]
    },
    {
      "cell_type": "markdown",
      "id": "aXvV-ETrRoMq",
      "metadata": {
        "id": "aXvV-ETrRoMq"
      },
      "source": [
        "Vamos juntar os dois em um dataframe para facilitar a visualização em um gráfico:"
      ]
    },
    {
      "cell_type": "code",
      "execution_count": 157,
      "id": "eT6swuRGQMuV",
      "metadata": {
        "colab": {
          "base_uri": "https://localhost:8080/",
          "height": 927
        },
        "id": "eT6swuRGQMuV",
        "outputId": "346bb4b2-d2bd-42fa-a684-a59be37e727f"
      },
      "outputs": [
        {
          "data": {
            "text/html": [
              "\n",
              "  <div id=\"df-324808ca-4a52-466c-8ceb-c34fd394b869\">\n",
              "    <div class=\"colab-df-container\">\n",
              "      <div>\n",
              "<style scoped>\n",
              "    .dataframe tbody tr th:only-of-type {\n",
              "        vertical-align: middle;\n",
              "    }\n",
              "\n",
              "    .dataframe tbody tr th {\n",
              "        vertical-align: top;\n",
              "    }\n",
              "\n",
              "    .dataframe thead th {\n",
              "        text-align: right;\n",
              "    }\n",
              "</style>\n",
              "<table border=\"1\" class=\"dataframe\">\n",
              "  <thead>\n",
              "    <tr style=\"text-align: right;\">\n",
              "      <th></th>\n",
              "      <th>media_gasolina</th>\n",
              "      <th>media_etanol</th>\n",
              "    </tr>\n",
              "    <tr>\n",
              "      <th>estado_sigla</th>\n",
              "      <th></th>\n",
              "      <th></th>\n",
              "    </tr>\n",
              "  </thead>\n",
              "  <tbody>\n",
              "    <tr>\n",
              "      <th>AC</th>\n",
              "      <td>6.21</td>\n",
              "      <td>5.38</td>\n",
              "    </tr>\n",
              "    <tr>\n",
              "      <th>AL</th>\n",
              "      <td>5.94</td>\n",
              "      <td>5.24</td>\n",
              "    </tr>\n",
              "    <tr>\n",
              "      <th>AM</th>\n",
              "      <td>6.19</td>\n",
              "      <td>4.95</td>\n",
              "    </tr>\n",
              "    <tr>\n",
              "      <th>AP</th>\n",
              "      <td>5.11</td>\n",
              "      <td>5.90</td>\n",
              "    </tr>\n",
              "    <tr>\n",
              "      <th>BA</th>\n",
              "      <td>6.03</td>\n",
              "      <td>5.07</td>\n",
              "    </tr>\n",
              "    <tr>\n",
              "      <th>CE</th>\n",
              "      <td>5.96</td>\n",
              "      <td>5.48</td>\n",
              "    </tr>\n",
              "    <tr>\n",
              "      <th>DF</th>\n",
              "      <td>5.60</td>\n",
              "      <td>4.75</td>\n",
              "    </tr>\n",
              "    <tr>\n",
              "      <th>ES</th>\n",
              "      <td>5.80</td>\n",
              "      <td>4.96</td>\n",
              "    </tr>\n",
              "    <tr>\n",
              "      <th>GO</th>\n",
              "      <td>5.52</td>\n",
              "      <td>4.06</td>\n",
              "    </tr>\n",
              "    <tr>\n",
              "      <th>MA</th>\n",
              "      <td>5.95</td>\n",
              "      <td>5.33</td>\n",
              "    </tr>\n",
              "    <tr>\n",
              "      <th>MG</th>\n",
              "      <td>5.67</td>\n",
              "      <td>4.25</td>\n",
              "    </tr>\n",
              "    <tr>\n",
              "      <th>MS</th>\n",
              "      <td>5.56</td>\n",
              "      <td>4.41</td>\n",
              "    </tr>\n",
              "    <tr>\n",
              "      <th>MT</th>\n",
              "      <td>5.68</td>\n",
              "      <td>3.81</td>\n",
              "    </tr>\n",
              "    <tr>\n",
              "      <th>PA</th>\n",
              "      <td>6.01</td>\n",
              "      <td>5.62</td>\n",
              "    </tr>\n",
              "    <tr>\n",
              "      <th>PB</th>\n",
              "      <td>5.75</td>\n",
              "      <td>5.10</td>\n",
              "    </tr>\n",
              "    <tr>\n",
              "      <th>PE</th>\n",
              "      <td>5.93</td>\n",
              "      <td>5.34</td>\n",
              "    </tr>\n",
              "    <tr>\n",
              "      <th>PI</th>\n",
              "      <td>6.08</td>\n",
              "      <td>4.99</td>\n",
              "    </tr>\n",
              "    <tr>\n",
              "      <th>PR</th>\n",
              "      <td>5.63</td>\n",
              "      <td>4.42</td>\n",
              "    </tr>\n",
              "    <tr>\n",
              "      <th>RJ</th>\n",
              "      <td>5.84</td>\n",
              "      <td>4.87</td>\n",
              "    </tr>\n",
              "    <tr>\n",
              "      <th>RN</th>\n",
              "      <td>6.03</td>\n",
              "      <td>5.48</td>\n",
              "    </tr>\n",
              "    <tr>\n",
              "      <th>RO</th>\n",
              "      <td>5.83</td>\n",
              "      <td>5.60</td>\n",
              "    </tr>\n",
              "    <tr>\n",
              "      <th>RR</th>\n",
              "      <td>6.03</td>\n",
              "      <td>5.57</td>\n",
              "    </tr>\n",
              "    <tr>\n",
              "      <th>RS</th>\n",
              "      <td>5.63</td>\n",
              "      <td>5.66</td>\n",
              "    </tr>\n",
              "    <tr>\n",
              "      <th>SC</th>\n",
              "      <td>5.68</td>\n",
              "      <td>5.21</td>\n",
              "    </tr>\n",
              "    <tr>\n",
              "      <th>SE</th>\n",
              "      <td>5.58</td>\n",
              "      <td>5.09</td>\n",
              "    </tr>\n",
              "    <tr>\n",
              "      <th>SP</th>\n",
              "      <td>5.53</td>\n",
              "      <td>3.90</td>\n",
              "    </tr>\n",
              "    <tr>\n",
              "      <th>TO</th>\n",
              "      <td>6.05</td>\n",
              "      <td>5.15</td>\n",
              "    </tr>\n",
              "  </tbody>\n",
              "</table>\n",
              "</div>\n",
              "      <button class=\"colab-df-convert\" onclick=\"convertToInteractive('df-324808ca-4a52-466c-8ceb-c34fd394b869')\"\n",
              "              title=\"Convert this dataframe to an interactive table.\"\n",
              "              style=\"display:none;\">\n",
              "        \n",
              "  <svg xmlns=\"http://www.w3.org/2000/svg\" height=\"24px\"viewBox=\"0 0 24 24\"\n",
              "       width=\"24px\">\n",
              "    <path d=\"M0 0h24v24H0V0z\" fill=\"none\"/>\n",
              "    <path d=\"M18.56 5.44l.94 2.06.94-2.06 2.06-.94-2.06-.94-.94-2.06-.94 2.06-2.06.94zm-11 1L8.5 8.5l.94-2.06 2.06-.94-2.06-.94L8.5 2.5l-.94 2.06-2.06.94zm10 10l.94 2.06.94-2.06 2.06-.94-2.06-.94-.94-2.06-.94 2.06-2.06.94z\"/><path d=\"M17.41 7.96l-1.37-1.37c-.4-.4-.92-.59-1.43-.59-.52 0-1.04.2-1.43.59L10.3 9.45l-7.72 7.72c-.78.78-.78 2.05 0 2.83L4 21.41c.39.39.9.59 1.41.59.51 0 1.02-.2 1.41-.59l7.78-7.78 2.81-2.81c.8-.78.8-2.07 0-2.86zM5.41 20L4 18.59l7.72-7.72 1.47 1.35L5.41 20z\"/>\n",
              "  </svg>\n",
              "      </button>\n",
              "      \n",
              "  <style>\n",
              "    .colab-df-container {\n",
              "      display:flex;\n",
              "      flex-wrap:wrap;\n",
              "      gap: 12px;\n",
              "    }\n",
              "\n",
              "    .colab-df-convert {\n",
              "      background-color: #E8F0FE;\n",
              "      border: none;\n",
              "      border-radius: 50%;\n",
              "      cursor: pointer;\n",
              "      display: none;\n",
              "      fill: #1967D2;\n",
              "      height: 32px;\n",
              "      padding: 0 0 0 0;\n",
              "      width: 32px;\n",
              "    }\n",
              "\n",
              "    .colab-df-convert:hover {\n",
              "      background-color: #E2EBFA;\n",
              "      box-shadow: 0px 1px 2px rgba(60, 64, 67, 0.3), 0px 1px 3px 1px rgba(60, 64, 67, 0.15);\n",
              "      fill: #174EA6;\n",
              "    }\n",
              "\n",
              "    [theme=dark] .colab-df-convert {\n",
              "      background-color: #3B4455;\n",
              "      fill: #D2E3FC;\n",
              "    }\n",
              "\n",
              "    [theme=dark] .colab-df-convert:hover {\n",
              "      background-color: #434B5C;\n",
              "      box-shadow: 0px 1px 3px 1px rgba(0, 0, 0, 0.15);\n",
              "      filter: drop-shadow(0px 1px 2px rgba(0, 0, 0, 0.3));\n",
              "      fill: #FFFFFF;\n",
              "    }\n",
              "  </style>\n",
              "\n",
              "      <script>\n",
              "        const buttonEl =\n",
              "          document.querySelector('#df-324808ca-4a52-466c-8ceb-c34fd394b869 button.colab-df-convert');\n",
              "        buttonEl.style.display =\n",
              "          google.colab.kernel.accessAllowed ? 'block' : 'none';\n",
              "\n",
              "        async function convertToInteractive(key) {\n",
              "          const element = document.querySelector('#df-324808ca-4a52-466c-8ceb-c34fd394b869');\n",
              "          const dataTable =\n",
              "            await google.colab.kernel.invokeFunction('convertToInteractive',\n",
              "                                                     [key], {});\n",
              "          if (!dataTable) return;\n",
              "\n",
              "          const docLinkHtml = 'Like what you see? Visit the ' +\n",
              "            '<a target=\"_blank\" href=https://colab.research.google.com/notebooks/data_table.ipynb>data table notebook</a>'\n",
              "            + ' to learn more about interactive tables.';\n",
              "          element.innerHTML = '';\n",
              "          dataTable['output_type'] = 'display_data';\n",
              "          await google.colab.output.renderOutput(dataTable, element);\n",
              "          const docLink = document.createElement('div');\n",
              "          docLink.innerHTML = docLinkHtml;\n",
              "          element.appendChild(docLink);\n",
              "        }\n",
              "      </script>\n",
              "    </div>\n",
              "  </div>\n",
              "  "
            ],
            "text/plain": [
              "              media_gasolina  media_etanol\n",
              "estado_sigla                              \n",
              "AC                      6.21          5.38\n",
              "AL                      5.94          5.24\n",
              "AM                      6.19          4.95\n",
              "AP                      5.11          5.90\n",
              "BA                      6.03          5.07\n",
              "CE                      5.96          5.48\n",
              "DF                      5.60          4.75\n",
              "ES                      5.80          4.96\n",
              "GO                      5.52          4.06\n",
              "MA                      5.95          5.33\n",
              "MG                      5.67          4.25\n",
              "MS                      5.56          4.41\n",
              "MT                      5.68          3.81\n",
              "PA                      6.01          5.62\n",
              "PB                      5.75          5.10\n",
              "PE                      5.93          5.34\n",
              "PI                      6.08          4.99\n",
              "PR                      5.63          4.42\n",
              "RJ                      5.84          4.87\n",
              "RN                      6.03          5.48\n",
              "RO                      5.83          5.60\n",
              "RR                      6.03          5.57\n",
              "RS                      5.63          5.66\n",
              "SC                      5.68          5.21\n",
              "SE                      5.58          5.09\n",
              "SP                      5.53          3.90\n",
              "TO                      6.05          5.15"
            ]
          },
          "execution_count": 157,
          "metadata": {},
          "output_type": "execute_result"
        }
      ],
      "source": [
        "estados_gasolina_etanol = pd.merge(estados_gasolina, estados_etanol, left_index=True, right_index=True)\n",
        "estados_gasolina_etanol.rename(columns = {'valor_de_venda_x': 'media_gasolina', 'valor_de_venda_y': 'media_etanol'}, inplace = True)\n",
        "estados_gasolina_etanol"
      ]
    },
    {
      "cell_type": "code",
      "execution_count": 153,
      "id": "ZFhRwAXcR1_Q",
      "metadata": {
        "colab": {
          "base_uri": "https://localhost:8080/",
          "height": 638
        },
        "id": "ZFhRwAXcR1_Q",
        "outputId": "01abdfcf-3e9a-4a6c-d000-e1aac04d68d7"
      },
      "outputs": [
        {
          "data": {
            "text/plain": [
              "<matplotlib.axes._subplots.AxesSubplot at 0x7f13ee0ca290>"
            ]
          },
          "execution_count": 153,
          "metadata": {},
          "output_type": "execute_result"
        },
        {
          "data": {
            "image/png": "[encoded data removed]",
            "text/plain": [
              "<Figure size 1800x720 with 1 Axes>"
            ]
          },
          "metadata": {
            "needs_background": "light"
          },
          "output_type": "display_data"
        }
      ],
      "source": [
        "estados_gasolina_etanol.plot(kind = 'bar', figsize =(25,10))"
      ]
    },
    {
      "cell_type": "markdown",
      "id": "lBUvEQXOUm6o",
      "metadata": {
        "id": "lBUvEQXOUm6o"
      },
      "source": [
        " <font size=\"4\"> Observando o gráfico, é possível concluir que no geral, em quase todos os estados do Brasil, a média do preço da gasolina tende a ser maior que a média do preço do etanol; (em 92,5% dos estados o preço da gasolina é superior ao preço do etanol, em apenas 7,5% dos estados o etanol é mais caro);"
      ]
    },
    {
      "cell_type": "markdown",
      "id": "5sse181N_fGo",
      "metadata": {
        "id": "5sse181N_fGo"
      },
      "source": [
        "### **5. Qual o município que possui o menor preço para a gasolina e para o etanol?**"
      ]
    },
    {
      "cell_type": "markdown",
      "id": "_4i18RRCekTv",
      "metadata": {
        "id": "_4i18RRCekTv"
      },
      "source": [
        "Para responder essa pergunta, utilizaremos os dataframes que possuem os valores individualmente da gasolina (gasolina_df) e do etanol (etanol_df) que foram montados anteriormente e filtraremos pelo valor mínimo."
      ]
    },
    {
      "cell_type": "code",
      "execution_count": 173,
      "id": "M_BGjZYVXoQl",
      "metadata": {
        "colab": {
          "base_uri": "https://localhost:8080/",
          "height": 177
        },
        "id": "M_BGjZYVXoQl",
        "outputId": "da560cb0-ed29-4c4c-e29b-6f37003b8f3d"
      },
      "outputs": [
        {
          "data": {
            "text/html": [
              "\n",
              "  <div id=\"df-a1372686-60e9-497d-9b18-fcafbdc3eb1c\">\n",
              "    <div class=\"colab-df-container\">\n",
              "      <div>\n",
              "<style scoped>\n",
              "    .dataframe tbody tr th:only-of-type {\n",
              "        vertical-align: middle;\n",
              "    }\n",
              "\n",
              "    .dataframe tbody tr th {\n",
              "        vertical-align: top;\n",
              "    }\n",
              "\n",
              "    .dataframe thead th {\n",
              "        text-align: right;\n",
              "    }\n",
              "</style>\n",
              "<table border=\"1\" class=\"dataframe\">\n",
              "  <thead>\n",
              "    <tr style=\"text-align: right;\">\n",
              "      <th></th>\n",
              "      <th>regiao_sigla</th>\n",
              "      <th>estado_sigla</th>\n",
              "      <th>municipio</th>\n",
              "      <th>revenda</th>\n",
              "      <th>cnpj_da_revenda</th>\n",
              "      <th>nome_da_rua</th>\n",
              "      <th>numero_rua</th>\n",
              "      <th>bairro</th>\n",
              "      <th>cep</th>\n",
              "      <th>produto</th>\n",
              "      <th>data_da_coleta</th>\n",
              "      <th>valor_de_venda</th>\n",
              "      <th>unidade_de_medida</th>\n",
              "      <th>bandeira</th>\n",
              "    </tr>\n",
              "  </thead>\n",
              "  <tbody>\n",
              "    <tr>\n",
              "      <th>115938</th>\n",
              "      <td>S</td>\n",
              "      <td>RS</td>\n",
              "      <td>PASSO FUNDO</td>\n",
              "      <td>POSTO DE COMBUSTIVEIS BROCK E CIFRA LTDA</td>\n",
              "      <td>07.608.132/0001-40</td>\n",
              "      <td>AVENIDA BRASIL LESTE</td>\n",
              "      <td>85</td>\n",
              "      <td>CENTRO</td>\n",
              "      <td>99050-000</td>\n",
              "      <td>GASOLINA</td>\n",
              "      <td>2022-08-29</td>\n",
              "      <td>4.13</td>\n",
              "      <td>R$ / litro</td>\n",
              "      <td>IPIRANGA</td>\n",
              "    </tr>\n",
              "  </tbody>\n",
              "</table>\n",
              "</div>\n",
              "      <button class=\"colab-df-convert\" onclick=\"convertToInteractive('df-a1372686-60e9-497d-9b18-fcafbdc3eb1c')\"\n",
              "              title=\"Convert this dataframe to an interactive table.\"\n",
              "              style=\"display:none;\">\n",
              "        \n",
              "  <svg xmlns=\"http://www.w3.org/2000/svg\" height=\"24px\"viewBox=\"0 0 24 24\"\n",
              "       width=\"24px\">\n",
              "    <path d=\"M0 0h24v24H0V0z\" fill=\"none\"/>\n",
              "    <path d=\"M18.56 5.44l.94 2.06.94-2.06 2.06-.94-2.06-.94-.94-2.06-.94 2.06-2.06.94zm-11 1L8.5 8.5l.94-2.06 2.06-.94-2.06-.94L8.5 2.5l-.94 2.06-2.06.94zm10 10l.94 2.06.94-2.06 2.06-.94-2.06-.94-.94-2.06-.94 2.06-2.06.94z\"/><path d=\"M17.41 7.96l-1.37-1.37c-.4-.4-.92-.59-1.43-.59-.52 0-1.04.2-1.43.59L10.3 9.45l-7.72 7.72c-.78.78-.78 2.05 0 2.83L4 21.41c.39.39.9.59 1.41.59.51 0 1.02-.2 1.41-.59l7.78-7.78 2.81-2.81c.8-.78.8-2.07 0-2.86zM5.41 20L4 18.59l7.72-7.72 1.47 1.35L5.41 20z\"/>\n",
              "  </svg>\n",
              "      </button>\n",
              "      \n",
              "  <style>\n",
              "    .colab-df-container {\n",
              "      display:flex;\n",
              "      flex-wrap:wrap;\n",
              "      gap: 12px;\n",
              "    }\n",
              "\n",
              "    .colab-df-convert {\n",
              "      background-color: #E8F0FE;\n",
              "      border: none;\n",
              "      border-radius: 50%;\n",
              "      cursor: pointer;\n",
              "      display: none;\n",
              "      fill: #1967D2;\n",
              "      height: 32px;\n",
              "      padding: 0 0 0 0;\n",
              "      width: 32px;\n",
              "    }\n",
              "\n",
              "    .colab-df-convert:hover {\n",
              "      background-color: #E2EBFA;\n",
              "      box-shadow: 0px 1px 2px rgba(60, 64, 67, 0.3), 0px 1px 3px 1px rgba(60, 64, 67, 0.15);\n",
              "      fill: #174EA6;\n",
              "    }\n",
              "\n",
              "    [theme=dark] .colab-df-convert {\n",
              "      background-color: #3B4455;\n",
              "      fill: #D2E3FC;\n",
              "    }\n",
              "\n",
              "    [theme=dark] .colab-df-convert:hover {\n",
              "      background-color: #434B5C;\n",
              "      box-shadow: 0px 1px 3px 1px rgba(0, 0, 0, 0.15);\n",
              "      filter: drop-shadow(0px 1px 2px rgba(0, 0, 0, 0.3));\n",
              "      fill: #FFFFFF;\n",
              "    }\n",
              "  </style>\n",
              "\n",
              "      <script>\n",
              "        const buttonEl =\n",
              "          document.querySelector('#df-a1372686-60e9-497d-9b18-fcafbdc3eb1c button.colab-df-convert');\n",
              "        buttonEl.style.display =\n",
              "          google.colab.kernel.accessAllowed ? 'block' : 'none';\n",
              "\n",
              "        async function convertToInteractive(key) {\n",
              "          const element = document.querySelector('#df-a1372686-60e9-497d-9b18-fcafbdc3eb1c');\n",
              "          const dataTable =\n",
              "            await google.colab.kernel.invokeFunction('convertToInteractive',\n",
              "                                                     [key], {});\n",
              "          if (!dataTable) return;\n",
              "\n",
              "          const docLinkHtml = 'Like what you see? Visit the ' +\n",
              "            '<a target=\"_blank\" href=https://colab.research.google.com/notebooks/data_table.ipynb>data table notebook</a>'\n",
              "            + ' to learn more about interactive tables.';\n",
              "          element.innerHTML = '';\n",
              "          dataTable['output_type'] = 'display_data';\n",
              "          await google.colab.output.renderOutput(dataTable, element);\n",
              "          const docLink = document.createElement('div');\n",
              "          docLink.innerHTML = docLinkHtml;\n",
              "          element.appendChild(docLink);\n",
              "        }\n",
              "      </script>\n",
              "    </div>\n",
              "  </div>\n",
              "  "
            ],
            "text/plain": [
              "       regiao_sigla estado_sigla    municipio  \\\n",
              "115938            S           RS  PASSO FUNDO   \n",
              "\n",
              "                                         revenda      cnpj_da_revenda  \\\n",
              "115938  POSTO DE COMBUSTIVEIS BROCK E CIFRA LTDA   07.608.132/0001-40   \n",
              "\n",
              "                 nome_da_rua numero_rua  bairro        cep   produto  \\\n",
              "115938  AVENIDA BRASIL LESTE         85  CENTRO  99050-000  GASOLINA   \n",
              "\n",
              "       data_da_coleta  valor_de_venda unidade_de_medida  bandeira  \n",
              "115938     2022-08-29            4.13        R$ / litro  IPIRANGA  "
            ]
          },
          "execution_count": 173,
          "metadata": {},
          "output_type": "execute_result"
        }
      ],
      "source": [
        "gasolina_df.loc[gasolina_df['valor_de_venda'] == gasolina_df['valor_de_venda'].min()]"
      ]
    },
    {
      "cell_type": "code",
      "execution_count": 174,
      "id": "9b5c1c6b",
      "metadata": {
        "colab": {
          "base_uri": "https://localhost:8080/",
          "height": 159
        },
        "id": "9b5c1c6b",
        "outputId": "f0906982-da46-4815-bc4a-92dade35378f"
      },
      "outputs": [
        {
          "data": {
            "text/html": [
              "\n",
              "  <div id=\"df-ae28dd0c-0906-42ff-bfbf-81771d8a9d4d\">\n",
              "    <div class=\"colab-df-container\">\n",
              "      <div>\n",
              "<style scoped>\n",
              "    .dataframe tbody tr th:only-of-type {\n",
              "        vertical-align: middle;\n",
              "    }\n",
              "\n",
              "    .dataframe tbody tr th {\n",
              "        vertical-align: top;\n",
              "    }\n",
              "\n",
              "    .dataframe thead th {\n",
              "        text-align: right;\n",
              "    }\n",
              "</style>\n",
              "<table border=\"1\" class=\"dataframe\">\n",
              "  <thead>\n",
              "    <tr style=\"text-align: right;\">\n",
              "      <th></th>\n",
              "      <th>regiao_sigla</th>\n",
              "      <th>estado_sigla</th>\n",
              "      <th>municipio</th>\n",
              "      <th>revenda</th>\n",
              "      <th>cnpj_da_revenda</th>\n",
              "      <th>nome_da_rua</th>\n",
              "      <th>numero_rua</th>\n",
              "      <th>bairro</th>\n",
              "      <th>cep</th>\n",
              "      <th>produto</th>\n",
              "      <th>data_da_coleta</th>\n",
              "      <th>valor_de_venda</th>\n",
              "      <th>unidade_de_medida</th>\n",
              "      <th>bandeira</th>\n",
              "    </tr>\n",
              "  </thead>\n",
              "  <tbody>\n",
              "    <tr>\n",
              "      <th>125423</th>\n",
              "      <td>SE</td>\n",
              "      <td>SP</td>\n",
              "      <td>PRESIDENTE PRUDENTE</td>\n",
              "      <td>AUTO POSTO PRUDENTINO LTDA</td>\n",
              "      <td>52.531.860/0001-55</td>\n",
              "      <td>AVENIDA BRASIL</td>\n",
              "      <td>3040</td>\n",
              "      <td>VILA FORMOSA</td>\n",
              "      <td>19013-002</td>\n",
              "      <td>ETANOL</td>\n",
              "      <td>2022-08-31</td>\n",
              "      <td>2.89</td>\n",
              "      <td>R$ / litro</td>\n",
              "      <td>BRANCA</td>\n",
              "    </tr>\n",
              "  </tbody>\n",
              "</table>\n",
              "</div>\n",
              "      <button class=\"colab-df-convert\" onclick=\"convertToInteractive('df-ae28dd0c-0906-42ff-bfbf-81771d8a9d4d')\"\n",
              "              title=\"Convert this dataframe to an interactive table.\"\n",
              "              style=\"display:none;\">\n",
              "        \n",
              "  <svg xmlns=\"http://www.w3.org/2000/svg\" height=\"24px\"viewBox=\"0 0 24 24\"\n",
              "       width=\"24px\">\n",
              "    <path d=\"M0 0h24v24H0V0z\" fill=\"none\"/>\n",
              "    <path d=\"M18.56 5.44l.94 2.06.94-2.06 2.06-.94-2.06-.94-.94-2.06-.94 2.06-2.06.94zm-11 1L8.5 8.5l.94-2.06 2.06-.94-2.06-.94L8.5 2.5l-.94 2.06-2.06.94zm10 10l.94 2.06.94-2.06 2.06-.94-2.06-.94-.94-2.06-.94 2.06-2.06.94z\"/><path d=\"M17.41 7.96l-1.37-1.37c-.4-.4-.92-.59-1.43-.59-.52 0-1.04.2-1.43.59L10.3 9.45l-7.72 7.72c-.78.78-.78 2.05 0 2.83L4 21.41c.39.39.9.59 1.41.59.51 0 1.02-.2 1.41-.59l7.78-7.78 2.81-2.81c.8-.78.8-2.07 0-2.86zM5.41 20L4 18.59l7.72-7.72 1.47 1.35L5.41 20z\"/>\n",
              "  </svg>\n",
              "      </button>\n",
              "      \n",
              "  <style>\n",
              "    .colab-df-container {\n",
              "      display:flex;\n",
              "      flex-wrap:wrap;\n",
              "      gap: 12px;\n",
              "    }\n",
              "\n",
              "    .colab-df-convert {\n",
              "      background-color: #E8F0FE;\n",
              "      border: none;\n",
              "      border-radius: 50%;\n",
              "      cursor: pointer;\n",
              "      display: none;\n",
              "      fill: #1967D2;\n",
              "      height: 32px;\n",
              "      padding: 0 0 0 0;\n",
              "      width: 32px;\n",
              "    }\n",
              "\n",
              "    .colab-df-convert:hover {\n",
              "      background-color: #E2EBFA;\n",
              "      box-shadow: 0px 1px 2px rgba(60, 64, 67, 0.3), 0px 1px 3px 1px rgba(60, 64, 67, 0.15);\n",
              "      fill: #174EA6;\n",
              "    }\n",
              "\n",
              "    [theme=dark] .colab-df-convert {\n",
              "      background-color: #3B4455;\n",
              "      fill: #D2E3FC;\n",
              "    }\n",
              "\n",
              "    [theme=dark] .colab-df-convert:hover {\n",
              "      background-color: #434B5C;\n",
              "      box-shadow: 0px 1px 3px 1px rgba(0, 0, 0, 0.15);\n",
              "      filter: drop-shadow(0px 1px 2px rgba(0, 0, 0, 0.3));\n",
              "      fill: #FFFFFF;\n",
              "    }\n",
              "  </style>\n",
              "\n",
              "      <script>\n",
              "        const buttonEl =\n",
              "          document.querySelector('#df-ae28dd0c-0906-42ff-bfbf-81771d8a9d4d button.colab-df-convert');\n",
              "        buttonEl.style.display =\n",
              "          google.colab.kernel.accessAllowed ? 'block' : 'none';\n",
              "\n",
              "        async function convertToInteractive(key) {\n",
              "          const element = document.querySelector('#df-ae28dd0c-0906-42ff-bfbf-81771d8a9d4d');\n",
              "          const dataTable =\n",
              "            await google.colab.kernel.invokeFunction('convertToInteractive',\n",
              "                                                     [key], {});\n",
              "          if (!dataTable) return;\n",
              "\n",
              "          const docLinkHtml = 'Like what you see? Visit the ' +\n",
              "            '<a target=\"_blank\" href=https://colab.research.google.com/notebooks/data_table.ipynb>data table notebook</a>'\n",
              "            + ' to learn more about interactive tables.';\n",
              "          element.innerHTML = '';\n",
              "          dataTable['output_type'] = 'display_data';\n",
              "          await google.colab.output.renderOutput(dataTable, element);\n",
              "          const docLink = document.createElement('div');\n",
              "          docLink.innerHTML = docLinkHtml;\n",
              "          element.appendChild(docLink);\n",
              "        }\n",
              "      </script>\n",
              "    </div>\n",
              "  </div>\n",
              "  "
            ],
            "text/plain": [
              "       regiao_sigla estado_sigla            municipio  \\\n",
              "125423           SE           SP  PRESIDENTE PRUDENTE   \n",
              "\n",
              "                           revenda      cnpj_da_revenda     nome_da_rua  \\\n",
              "125423  AUTO POSTO PRUDENTINO LTDA   52.531.860/0001-55  AVENIDA BRASIL   \n",
              "\n",
              "       numero_rua        bairro        cep produto data_da_coleta  \\\n",
              "125423       3040  VILA FORMOSA  19013-002  ETANOL     2022-08-31   \n",
              "\n",
              "        valor_de_venda unidade_de_medida bandeira  \n",
              "125423            2.89        R$ / litro   BRANCA  "
            ]
          },
          "execution_count": 174,
          "metadata": {},
          "output_type": "execute_result"
        }
      ],
      "source": [
        "etanol_df.loc[etanol_df['valor_de_venda'] == etanol_df['valor_de_venda'].min()]"
      ]
    },
    {
      "cell_type": "markdown",
      "id": "jSr6hNiadO20",
      "metadata": {
        "id": "jSr6hNiadO20"
      },
      "source": [
        " <font size=\"4\"> **Município com menor preço para gasolina:** Passo Fundo\n",
        "\n",
        "  <font size=\"4\"> **Município com menor preço etanol:** Presidente Prudente"
      ]
    },
    {
      "cell_type": "markdown",
      "id": "C3DJFiPI_0HD",
      "metadata": {
        "id": "C3DJFiPI_0HD"
      },
      "source": [
        "### **6. Qual o município que possui o maior preço para a gasolina e para o etanol?**"
      ]
    },
    {
      "cell_type": "markdown",
      "id": "WsJm4zbye51Y",
      "metadata": {
        "id": "WsJm4zbye51Y"
      },
      "source": [
        "Da mesma forma que na pergunta anterior, utilizaremos os dataframes (gasolina_df e etanol_df), mas agora, filtramos pelo maior valor:"
      ]
    },
    {
      "cell_type": "code",
      "execution_count": 175,
      "id": "Q0FUOU_4_5W8",
      "metadata": {
        "colab": {
          "base_uri": "https://localhost:8080/",
          "height": 159
        },
        "id": "Q0FUOU_4_5W8",
        "outputId": "4899fcb2-ae15-49ad-8106-af55c61d4c2f"
      },
      "outputs": [
        {
          "data": {
            "text/html": [
              "\n",
              "  <div id=\"df-b3a2d932-29d6-4590-baaa-b55c81f02cda\">\n",
              "    <div class=\"colab-df-container\">\n",
              "      <div>\n",
              "<style scoped>\n",
              "    .dataframe tbody tr th:only-of-type {\n",
              "        vertical-align: middle;\n",
              "    }\n",
              "\n",
              "    .dataframe tbody tr th {\n",
              "        vertical-align: top;\n",
              "    }\n",
              "\n",
              "    .dataframe thead th {\n",
              "        text-align: right;\n",
              "    }\n",
              "</style>\n",
              "<table border=\"1\" class=\"dataframe\">\n",
              "  <thead>\n",
              "    <tr style=\"text-align: right;\">\n",
              "      <th></th>\n",
              "      <th>regiao_sigla</th>\n",
              "      <th>estado_sigla</th>\n",
              "      <th>municipio</th>\n",
              "      <th>revenda</th>\n",
              "      <th>cnpj_da_revenda</th>\n",
              "      <th>nome_da_rua</th>\n",
              "      <th>numero_rua</th>\n",
              "      <th>bairro</th>\n",
              "      <th>cep</th>\n",
              "      <th>produto</th>\n",
              "      <th>data_da_coleta</th>\n",
              "      <th>valor_de_venda</th>\n",
              "      <th>unidade_de_medida</th>\n",
              "      <th>bandeira</th>\n",
              "    </tr>\n",
              "  </thead>\n",
              "  <tbody>\n",
              "    <tr>\n",
              "      <th>88341</th>\n",
              "      <td>N</td>\n",
              "      <td>TO</td>\n",
              "      <td>GURUPI</td>\n",
              "      <td>MUTUQUINHA AUTO POSTO LTDA</td>\n",
              "      <td>05.199.434/0001-86</td>\n",
              "      <td>RUA 12</td>\n",
              "      <td>25</td>\n",
              "      <td>JARDIM ELDORADO</td>\n",
              "      <td>77403-320</td>\n",
              "      <td>GASOLINA</td>\n",
              "      <td>2022-08-15</td>\n",
              "      <td>8.75</td>\n",
              "      <td>R$ / litro</td>\n",
              "      <td>BRANCA</td>\n",
              "    </tr>\n",
              "  </tbody>\n",
              "</table>\n",
              "</div>\n",
              "      <button class=\"colab-df-convert\" onclick=\"convertToInteractive('df-b3a2d932-29d6-4590-baaa-b55c81f02cda')\"\n",
              "              title=\"Convert this dataframe to an interactive table.\"\n",
              "              style=\"display:none;\">\n",
              "        \n",
              "  <svg xmlns=\"http://www.w3.org/2000/svg\" height=\"24px\"viewBox=\"0 0 24 24\"\n",
              "       width=\"24px\">\n",
              "    <path d=\"M0 0h24v24H0V0z\" fill=\"none\"/>\n",
              "    <path d=\"M18.56 5.44l.94 2.06.94-2.06 2.06-.94-2.06-.94-.94-2.06-.94 2.06-2.06.94zm-11 1L8.5 8.5l.94-2.06 2.06-.94-2.06-.94L8.5 2.5l-.94 2.06-2.06.94zm10 10l.94 2.06.94-2.06 2.06-.94-2.06-.94-.94-2.06-.94 2.06-2.06.94z\"/><path d=\"M17.41 7.96l-1.37-1.37c-.4-.4-.92-.59-1.43-.59-.52 0-1.04.2-1.43.59L10.3 9.45l-7.72 7.72c-.78.78-.78 2.05 0 2.83L4 21.41c.39.39.9.59 1.41.59.51 0 1.02-.2 1.41-.59l7.78-7.78 2.81-2.81c.8-.78.8-2.07 0-2.86zM5.41 20L4 18.59l7.72-7.72 1.47 1.35L5.41 20z\"/>\n",
              "  </svg>\n",
              "      </button>\n",
              "      \n",
              "  <style>\n",
              "    .colab-df-container {\n",
              "      display:flex;\n",
              "      flex-wrap:wrap;\n",
              "      gap: 12px;\n",
              "    }\n",
              "\n",
              "    .colab-df-convert {\n",
              "      background-color: #E8F0FE;\n",
              "      border: none;\n",
              "      border-radius: 50%;\n",
              "      cursor: pointer;\n",
              "      display: none;\n",
              "      fill: #1967D2;\n",
              "      height: 32px;\n",
              "      padding: 0 0 0 0;\n",
              "      width: 32px;\n",
              "    }\n",
              "\n",
              "    .colab-df-convert:hover {\n",
              "      background-color: #E2EBFA;\n",
              "      box-shadow: 0px 1px 2px rgba(60, 64, 67, 0.3), 0px 1px 3px 1px rgba(60, 64, 67, 0.15);\n",
              "      fill: #174EA6;\n",
              "    }\n",
              "\n",
              "    [theme=dark] .colab-df-convert {\n",
              "      background-color: #3B4455;\n",
              "      fill: #D2E3FC;\n",
              "    }\n",
              "\n",
              "    [theme=dark] .colab-df-convert:hover {\n",
              "      background-color: #434B5C;\n",
              "      box-shadow: 0px 1px 3px 1px rgba(0, 0, 0, 0.15);\n",
              "      filter: drop-shadow(0px 1px 2px rgba(0, 0, 0, 0.3));\n",
              "      fill: #FFFFFF;\n",
              "    }\n",
              "  </style>\n",
              "\n",
              "      <script>\n",
              "        const buttonEl =\n",
              "          document.querySelector('#df-b3a2d932-29d6-4590-baaa-b55c81f02cda button.colab-df-convert');\n",
              "        buttonEl.style.display =\n",
              "          google.colab.kernel.accessAllowed ? 'block' : 'none';\n",
              "\n",
              "        async function convertToInteractive(key) {\n",
              "          const element = document.querySelector('#df-b3a2d932-29d6-4590-baaa-b55c81f02cda');\n",
              "          const dataTable =\n",
              "            await google.colab.kernel.invokeFunction('convertToInteractive',\n",
              "                                                     [key], {});\n",
              "          if (!dataTable) return;\n",
              "\n",
              "          const docLinkHtml = 'Like what you see? Visit the ' +\n",
              "            '<a target=\"_blank\" href=https://colab.research.google.com/notebooks/data_table.ipynb>data table notebook</a>'\n",
              "            + ' to learn more about interactive tables.';\n",
              "          element.innerHTML = '';\n",
              "          dataTable['output_type'] = 'display_data';\n",
              "          await google.colab.output.renderOutput(dataTable, element);\n",
              "          const docLink = document.createElement('div');\n",
              "          docLink.innerHTML = docLinkHtml;\n",
              "          element.appendChild(docLink);\n",
              "        }\n",
              "      </script>\n",
              "    </div>\n",
              "  </div>\n",
              "  "
            ],
            "text/plain": [
              "      regiao_sigla estado_sigla municipio                     revenda  \\\n",
              "88341            N           TO    GURUPI  MUTUQUINHA AUTO POSTO LTDA   \n",
              "\n",
              "           cnpj_da_revenda nome_da_rua numero_rua           bairro        cep  \\\n",
              "88341   05.199.434/0001-86      RUA 12         25  JARDIM ELDORADO  77403-320   \n",
              "\n",
              "        produto data_da_coleta  valor_de_venda unidade_de_medida bandeira  \n",
              "88341  GASOLINA     2022-08-15            8.75        R$ / litro   BRANCA  "
            ]
          },
          "execution_count": 175,
          "metadata": {},
          "output_type": "execute_result"
        }
      ],
      "source": [
        "gasolina_df.loc[gasolina_df['valor_de_venda'] == gasolina_df['valor_de_venda'].max()]"
      ]
    },
    {
      "cell_type": "code",
      "execution_count": 176,
      "id": "b0c80120",
      "metadata": {
        "colab": {
          "base_uri": "https://localhost:8080/",
          "height": 344
        },
        "id": "b0c80120",
        "outputId": "7aa5adc5-c5b6-4e82-9bb9-32ba6b96945a"
      },
      "outputs": [
        {
          "data": {
            "text/html": [
              "\n",
              "  <div id=\"df-0032a1f0-543f-4116-bad1-5f3083839f2b\">\n",
              "    <div class=\"colab-df-container\">\n",
              "      <div>\n",
              "<style scoped>\n",
              "    .dataframe tbody tr th:only-of-type {\n",
              "        vertical-align: middle;\n",
              "    }\n",
              "\n",
              "    .dataframe tbody tr th {\n",
              "        vertical-align: top;\n",
              "    }\n",
              "\n",
              "    .dataframe thead th {\n",
              "        text-align: right;\n",
              "    }\n",
              "</style>\n",
              "<table border=\"1\" class=\"dataframe\">\n",
              "  <thead>\n",
              "    <tr style=\"text-align: right;\">\n",
              "      <th></th>\n",
              "      <th>regiao_sigla</th>\n",
              "      <th>estado_sigla</th>\n",
              "      <th>municipio</th>\n",
              "      <th>revenda</th>\n",
              "      <th>cnpj_da_revenda</th>\n",
              "      <th>nome_da_rua</th>\n",
              "      <th>numero_rua</th>\n",
              "      <th>bairro</th>\n",
              "      <th>cep</th>\n",
              "      <th>produto</th>\n",
              "      <th>data_da_coleta</th>\n",
              "      <th>valor_de_venda</th>\n",
              "      <th>unidade_de_medida</th>\n",
              "      <th>bandeira</th>\n",
              "    </tr>\n",
              "  </thead>\n",
              "  <tbody>\n",
              "    <tr>\n",
              "      <th>9260</th>\n",
              "      <td>S</td>\n",
              "      <td>RS</td>\n",
              "      <td>BAGE</td>\n",
              "      <td>L. CASTRO COMERCIO DE COMBUSTIVEIS LTDA</td>\n",
              "      <td>05.799.373/0002-79</td>\n",
              "      <td>RUA EMÍLIO GUILAIN</td>\n",
              "      <td>673</td>\n",
              "      <td>CENTRO</td>\n",
              "      <td>96415-100</td>\n",
              "      <td>ETANOL</td>\n",
              "      <td>2022-07-06</td>\n",
              "      <td>7.89</td>\n",
              "      <td>R$ / litro</td>\n",
              "      <td>IPIRANGA</td>\n",
              "    </tr>\n",
              "    <tr>\n",
              "      <th>26839</th>\n",
              "      <td>S</td>\n",
              "      <td>RS</td>\n",
              "      <td>BAGE</td>\n",
              "      <td>L. CASTRO COMERCIO DE COMBUSTIVEIS LTDA</td>\n",
              "      <td>05.799.373/0002-79</td>\n",
              "      <td>RUA EMÍLIO GUILAIN</td>\n",
              "      <td>673</td>\n",
              "      <td>CENTRO</td>\n",
              "      <td>96415-100</td>\n",
              "      <td>ETANOL</td>\n",
              "      <td>2022-07-14</td>\n",
              "      <td>7.89</td>\n",
              "      <td>R$ / litro</td>\n",
              "      <td>IPIRANGA</td>\n",
              "    </tr>\n",
              "    <tr>\n",
              "      <th>37427</th>\n",
              "      <td>S</td>\n",
              "      <td>RS</td>\n",
              "      <td>BAGE</td>\n",
              "      <td>L. CASTRO COMERCIO DE COMBUSTIVEIS LTDA</td>\n",
              "      <td>05.799.373/0002-79</td>\n",
              "      <td>RUA EMÍLIO GUILAIN</td>\n",
              "      <td>673</td>\n",
              "      <td>CENTRO</td>\n",
              "      <td>96415-100</td>\n",
              "      <td>ETANOL</td>\n",
              "      <td>2022-07-20</td>\n",
              "      <td>7.89</td>\n",
              "      <td>R$ / litro</td>\n",
              "      <td>IPIRANGA</td>\n",
              "    </tr>\n",
              "  </tbody>\n",
              "</table>\n",
              "</div>\n",
              "      <button class=\"colab-df-convert\" onclick=\"convertToInteractive('df-0032a1f0-543f-4116-bad1-5f3083839f2b')\"\n",
              "              title=\"Convert this dataframe to an interactive table.\"\n",
              "              style=\"display:none;\">\n",
              "        \n",
              "  <svg xmlns=\"http://www.w3.org/2000/svg\" height=\"24px\"viewBox=\"0 0 24 24\"\n",
              "       width=\"24px\">\n",
              "    <path d=\"M0 0h24v24H0V0z\" fill=\"none\"/>\n",
              "    <path d=\"M18.56 5.44l.94 2.06.94-2.06 2.06-.94-2.06-.94-.94-2.06-.94 2.06-2.06.94zm-11 1L8.5 8.5l.94-2.06 2.06-.94-2.06-.94L8.5 2.5l-.94 2.06-2.06.94zm10 10l.94 2.06.94-2.06 2.06-.94-2.06-.94-.94-2.06-.94 2.06-2.06.94z\"/><path d=\"M17.41 7.96l-1.37-1.37c-.4-.4-.92-.59-1.43-.59-.52 0-1.04.2-1.43.59L10.3 9.45l-7.72 7.72c-.78.78-.78 2.05 0 2.83L4 21.41c.39.39.9.59 1.41.59.51 0 1.02-.2 1.41-.59l7.78-7.78 2.81-2.81c.8-.78.8-2.07 0-2.86zM5.41 20L4 18.59l7.72-7.72 1.47 1.35L5.41 20z\"/>\n",
              "  </svg>\n",
              "      </button>\n",
              "      \n",
              "  <style>\n",
              "    .colab-df-container {\n",
              "      display:flex;\n",
              "      flex-wrap:wrap;\n",
              "      gap: 12px;\n",
              "    }\n",
              "\n",
              "    .colab-df-convert {\n",
              "      background-color: #E8F0FE;\n",
              "      border: none;\n",
              "      border-radius: 50%;\n",
              "      cursor: pointer;\n",
              "      display: none;\n",
              "      fill: #1967D2;\n",
              "      height: 32px;\n",
              "      padding: 0 0 0 0;\n",
              "      width: 32px;\n",
              "    }\n",
              "\n",
              "    .colab-df-convert:hover {\n",
              "      background-color: #E2EBFA;\n",
              "      box-shadow: 0px 1px 2px rgba(60, 64, 67, 0.3), 0px 1px 3px 1px rgba(60, 64, 67, 0.15);\n",
              "      fill: #174EA6;\n",
              "    }\n",
              "\n",
              "    [theme=dark] .colab-df-convert {\n",
              "      background-color: #3B4455;\n",
              "      fill: #D2E3FC;\n",
              "    }\n",
              "\n",
              "    [theme=dark] .colab-df-convert:hover {\n",
              "      background-color: #434B5C;\n",
              "      box-shadow: 0px 1px 3px 1px rgba(0, 0, 0, 0.15);\n",
              "      filter: drop-shadow(0px 1px 2px rgba(0, 0, 0, 0.3));\n",
              "      fill: #FFFFFF;\n",
              "    }\n",
              "  </style>\n",
              "\n",
              "      <script>\n",
              "        const buttonEl =\n",
              "          document.querySelector('#df-0032a1f0-543f-4116-bad1-5f3083839f2b button.colab-df-convert');\n",
              "        buttonEl.style.display =\n",
              "          google.colab.kernel.accessAllowed ? 'block' : 'none';\n",
              "\n",
              "        async function convertToInteractive(key) {\n",
              "          const element = document.querySelector('#df-0032a1f0-543f-4116-bad1-5f3083839f2b');\n",
              "          const dataTable =\n",
              "            await google.colab.kernel.invokeFunction('convertToInteractive',\n",
              "                                                     [key], {});\n",
              "          if (!dataTable) return;\n",
              "\n",
              "          const docLinkHtml = 'Like what you see? Visit the ' +\n",
              "            '<a target=\"_blank\" href=https://colab.research.google.com/notebooks/data_table.ipynb>data table notebook</a>'\n",
              "            + ' to learn more about interactive tables.';\n",
              "          element.innerHTML = '';\n",
              "          dataTable['output_type'] = 'display_data';\n",
              "          await google.colab.output.renderOutput(dataTable, element);\n",
              "          const docLink = document.createElement('div');\n",
              "          docLink.innerHTML = docLinkHtml;\n",
              "          element.appendChild(docLink);\n",
              "        }\n",
              "      </script>\n",
              "    </div>\n",
              "  </div>\n",
              "  "
            ],
            "text/plain": [
              "      regiao_sigla estado_sigla municipio  \\\n",
              "9260             S           RS      BAGE   \n",
              "26839            S           RS      BAGE   \n",
              "37427            S           RS      BAGE   \n",
              "\n",
              "                                       revenda      cnpj_da_revenda  \\\n",
              "9260   L. CASTRO COMERCIO DE COMBUSTIVEIS LTDA   05.799.373/0002-79   \n",
              "26839  L. CASTRO COMERCIO DE COMBUSTIVEIS LTDA   05.799.373/0002-79   \n",
              "37427  L. CASTRO COMERCIO DE COMBUSTIVEIS LTDA   05.799.373/0002-79   \n",
              "\n",
              "              nome_da_rua numero_rua  bairro        cep produto  \\\n",
              "9260   RUA EMÍLIO GUILAIN        673  CENTRO  96415-100  ETANOL   \n",
              "26839  RUA EMÍLIO GUILAIN        673  CENTRO  96415-100  ETANOL   \n",
              "37427  RUA EMÍLIO GUILAIN        673  CENTRO  96415-100  ETANOL   \n",
              "\n",
              "      data_da_coleta  valor_de_venda unidade_de_medida  bandeira  \n",
              "9260      2022-07-06            7.89        R$ / litro  IPIRANGA  \n",
              "26839     2022-07-14            7.89        R$ / litro  IPIRANGA  \n",
              "37427     2022-07-20            7.89        R$ / litro  IPIRANGA  "
            ]
          },
          "execution_count": 176,
          "metadata": {},
          "output_type": "execute_result"
        }
      ],
      "source": [
        "etanol_df.loc[etanol_df['valor_de_venda'] == etanol_df['valor_de_venda'].max()]"
      ]
    },
    {
      "cell_type": "markdown",
      "id": "73jow1MneH4-",
      "metadata": {
        "id": "73jow1MneH4-"
      },
      "source": [
        " <font size=\"4\"> **Município com maior preço para gasolina:** Gurupi\n",
        "\n",
        "  <font size=\"4\"> **Município com maior preço para etanol:** Bage"
      ]
    },
    {
      "cell_type": "markdown",
      "id": "DV3_aiBs7o1T",
      "metadata": {
        "id": "DV3_aiBs7o1T"
      },
      "source": [
        "### **7. Qual a região que possui o maior valor médio da gasolina?**"
      ]
    },
    {
      "cell_type": "markdown",
      "id": "suEMiotKfaRK",
      "metadata": {
        "id": "suEMiotKfaRK"
      },
      "source": [
        "Primeiro, alteramos o nome das regiões para melhor visualização das queries:"
      ]
    },
    {
      "cell_type": "code",
      "execution_count": 177,
      "id": "V2gRQnrfLC1Y",
      "metadata": {
        "colab": {
          "base_uri": "https://localhost:8080/"
        },
        "id": "V2gRQnrfLC1Y",
        "outputId": "b568993b-e265-4cbb-8f07-0c3aa995af41"
      },
      "outputs": [
        {
          "data": {
            "text/plain": [
              "0              SE: Sudeste\n",
              "1              SE: Sudeste\n",
              "2              SE: Sudeste\n",
              "3              SE: Sudeste\n",
              "4         CO: Centro-Oeste\n",
              "                ...       \n",
              "127171    CO: Centro-Oeste\n",
              "127172    CO: Centro-Oeste\n",
              "127173    CO: Centro-Oeste\n",
              "127174         SE: Sudeste\n",
              "127175         SE: Sudeste\n",
              "Name: regiao_sigla, Length: 127176, dtype: object"
            ]
          },
          "execution_count": 177,
          "metadata": {},
          "output_type": "execute_result"
        }
      ],
      "source": [
        "dados.regiao_sigla= dados.regiao_sigla.map({'CO':'CO: Centro-Oeste', 'SE': 'SE: Sudeste', 'S':'S: Sul', 'NE': 'NE: Nordeste', 'N': 'N: Norte'})\n",
        "dados.regiao_sigla"
      ]
    },
    {
      "cell_type": "markdown",
      "id": "IrGTXUlxfi_H",
      "metadata": {
        "id": "IrGTXUlxfi_H"
      },
      "source": [
        "Agora, filtramos o produto pela 'gasolina', agrupando pela região e adicionando a média do valor de venda:"
      ]
    },
    {
      "cell_type": "code",
      "execution_count": 178,
      "id": "cNN1HQ7W7xDc",
      "metadata": {
        "colab": {
          "base_uri": "https://localhost:8080/",
          "height": 238
        },
        "id": "cNN1HQ7W7xDc",
        "outputId": "dd089c9e-2e49-4d25-f184-72ffc8405a47"
      },
      "outputs": [
        {
          "data": {
            "text/html": [
              "<style type=\"text/css\">\n",
              "#T_c60f3_row0_col0 {\n",
              "  background-color: #7f2704;\n",
              "  color: #f1f1f1;\n",
              "}\n",
              "#T_c60f3_row1_col0 {\n",
              "  background-color: #8b2c04;\n",
              "  color: #f1f1f1;\n",
              "}\n",
              "#T_c60f3_row2_col0 {\n",
              "  background-color: #fee2c6;\n",
              "  color: #000000;\n",
              "}\n",
              "#T_c60f3_row3_col0 {\n",
              "  background-color: #feebd7;\n",
              "  color: #000000;\n",
              "}\n",
              "#T_c60f3_row4_col0 {\n",
              "  background-color: #fff5eb;\n",
              "  color: #000000;\n",
              "}\n",
              "</style>\n",
              "<table id=\"T_c60f3_\" class=\"dataframe\">\n",
              "  <thead>\n",
              "    <tr>\n",
              "      <th class=\"blank\" >&nbsp;</th>\n",
              "      <th class=\"blank level0\" >&nbsp;</th>\n",
              "      <th class=\"col_heading level0 col0\" >valor_de_venda</th>\n",
              "    </tr>\n",
              "    <tr>\n",
              "      <th class=\"index_name level0\" >regiao_sigla</th>\n",
              "      <th class=\"index_name level1\" >produto</th>\n",
              "      <th class=\"blank col0\" >&nbsp;</th>\n",
              "    </tr>\n",
              "  </thead>\n",
              "  <tbody>\n",
              "    <tr>\n",
              "      <th id=\"T_c60f3_level0_row0\" class=\"row_heading level0 row0\" >N: Norte</th>\n",
              "      <th id=\"T_c60f3_level1_row0\" class=\"row_heading level1 row0\" >GASOLINA</th>\n",
              "      <td id=\"T_c60f3_row0_col0\" class=\"data row0 col0\" >5.972000</td>\n",
              "    </tr>\n",
              "    <tr>\n",
              "      <th id=\"T_c60f3_level0_row1\" class=\"row_heading level0 row1\" >NE: Nordeste</th>\n",
              "      <th id=\"T_c60f3_level1_row1\" class=\"row_heading level1 row1\" >GASOLINA</th>\n",
              "      <td id=\"T_c60f3_row1_col0\" class=\"data row1 col0\" >5.956000</td>\n",
              "    </tr>\n",
              "    <tr>\n",
              "      <th id=\"T_c60f3_level0_row2\" class=\"row_heading level0 row2\" >S: Sul</th>\n",
              "      <th id=\"T_c60f3_level1_row2\" class=\"row_heading level1 row2\" >GASOLINA</th>\n",
              "      <td id=\"T_c60f3_row2_col0\" class=\"data row2 col0\" >5.641000</td>\n",
              "    </tr>\n",
              "    <tr>\n",
              "      <th id=\"T_c60f3_level0_row3\" class=\"row_heading level0 row3\" >SE: Sudeste</th>\n",
              "      <th id=\"T_c60f3_level1_row3\" class=\"row_heading level1 row3\" >GASOLINA</th>\n",
              "      <td id=\"T_c60f3_row3_col0\" class=\"data row3 col0\" >5.616000</td>\n",
              "    </tr>\n",
              "    <tr>\n",
              "      <th id=\"T_c60f3_level0_row4\" class=\"row_heading level0 row4\" >CO: Centro-Oeste</th>\n",
              "      <th id=\"T_c60f3_level1_row4\" class=\"row_heading level1 row4\" >GASOLINA</th>\n",
              "      <td id=\"T_c60f3_row4_col0\" class=\"data row4 col0\" >5.582000</td>\n",
              "    </tr>\n",
              "  </tbody>\n",
              "</table>\n"
            ],
            "text/plain": [
              "<pandas.io.formats.style.Styler at 0x7f13ee539b90>"
            ]
          },
          "execution_count": 178,
          "metadata": {},
          "output_type": "execute_result"
        }
      ],
      "source": [
        "regiao_maior_med_gas = dados[dados['produto']=='GASOLINA'].groupby(['regiao_sigla', 'produto']).aggregate( {\"valor_de_venda\":\"mean\"}).round(3).sort_values('valor_de_venda', ascending=False)\n",
        "regiao_maior_med_gas.style.background_gradient(cmap='Oranges')"
      ]
    },
    {
      "cell_type": "code",
      "execution_count": 179,
      "id": "NJAe6Reo71Df",
      "metadata": {
        "colab": {
          "base_uri": "https://localhost:8080/",
          "height": 112
        },
        "id": "NJAe6Reo71Df",
        "outputId": "c867cb02-14c2-4d99-9d7f-837800ef47ba"
      },
      "outputs": [
        {
          "data": {
            "text/html": [
              "\n",
              "  <div id=\"df-ea5764c8-985e-4c11-bbe8-148c6db85704\">\n",
              "    <div class=\"colab-df-container\">\n",
              "      <div>\n",
              "<style scoped>\n",
              "    .dataframe tbody tr th:only-of-type {\n",
              "        vertical-align: middle;\n",
              "    }\n",
              "\n",
              "    .dataframe tbody tr th {\n",
              "        vertical-align: top;\n",
              "    }\n",
              "\n",
              "    .dataframe thead th {\n",
              "        text-align: right;\n",
              "    }\n",
              "</style>\n",
              "<table border=\"1\" class=\"dataframe\">\n",
              "  <thead>\n",
              "    <tr style=\"text-align: right;\">\n",
              "      <th></th>\n",
              "      <th></th>\n",
              "      <th>valor_de_venda</th>\n",
              "    </tr>\n",
              "    <tr>\n",
              "      <th>regiao_sigla</th>\n",
              "      <th>produto</th>\n",
              "      <th></th>\n",
              "    </tr>\n",
              "  </thead>\n",
              "  <tbody>\n",
              "    <tr>\n",
              "      <th>N: Norte</th>\n",
              "      <th>GASOLINA</th>\n",
              "      <td>5.972</td>\n",
              "    </tr>\n",
              "  </tbody>\n",
              "</table>\n",
              "</div>\n",
              "      <button class=\"colab-df-convert\" onclick=\"convertToInteractive('df-ea5764c8-985e-4c11-bbe8-148c6db85704')\"\n",
              "              title=\"Convert this dataframe to an interactive table.\"\n",
              "              style=\"display:none;\">\n",
              "        \n",
              "  <svg xmlns=\"http://www.w3.org/2000/svg\" height=\"24px\"viewBox=\"0 0 24 24\"\n",
              "       width=\"24px\">\n",
              "    <path d=\"M0 0h24v24H0V0z\" fill=\"none\"/>\n",
              "    <path d=\"M18.56 5.44l.94 2.06.94-2.06 2.06-.94-2.06-.94-.94-2.06-.94 2.06-2.06.94zm-11 1L8.5 8.5l.94-2.06 2.06-.94-2.06-.94L8.5 2.5l-.94 2.06-2.06.94zm10 10l.94 2.06.94-2.06 2.06-.94-2.06-.94-.94-2.06-.94 2.06-2.06.94z\"/><path d=\"M17.41 7.96l-1.37-1.37c-.4-.4-.92-.59-1.43-.59-.52 0-1.04.2-1.43.59L10.3 9.45l-7.72 7.72c-.78.78-.78 2.05 0 2.83L4 21.41c.39.39.9.59 1.41.59.51 0 1.02-.2 1.41-.59l7.78-7.78 2.81-2.81c.8-.78.8-2.07 0-2.86zM5.41 20L4 18.59l7.72-7.72 1.47 1.35L5.41 20z\"/>\n",
              "  </svg>\n",
              "      </button>\n",
              "      \n",
              "  <style>\n",
              "    .colab-df-container {\n",
              "      display:flex;\n",
              "      flex-wrap:wrap;\n",
              "      gap: 12px;\n",
              "    }\n",
              "\n",
              "    .colab-df-convert {\n",
              "      background-color: #E8F0FE;\n",
              "      border: none;\n",
              "      border-radius: 50%;\n",
              "      cursor: pointer;\n",
              "      display: none;\n",
              "      fill: #1967D2;\n",
              "      height: 32px;\n",
              "      padding: 0 0 0 0;\n",
              "      width: 32px;\n",
              "    }\n",
              "\n",
              "    .colab-df-convert:hover {\n",
              "      background-color: #E2EBFA;\n",
              "      box-shadow: 0px 1px 2px rgba(60, 64, 67, 0.3), 0px 1px 3px 1px rgba(60, 64, 67, 0.15);\n",
              "      fill: #174EA6;\n",
              "    }\n",
              "\n",
              "    [theme=dark] .colab-df-convert {\n",
              "      background-color: #3B4455;\n",
              "      fill: #D2E3FC;\n",
              "    }\n",
              "\n",
              "    [theme=dark] .colab-df-convert:hover {\n",
              "      background-color: #434B5C;\n",
              "      box-shadow: 0px 1px 3px 1px rgba(0, 0, 0, 0.15);\n",
              "      filter: drop-shadow(0px 1px 2px rgba(0, 0, 0, 0.3));\n",
              "      fill: #FFFFFF;\n",
              "    }\n",
              "  </style>\n",
              "\n",
              "      <script>\n",
              "        const buttonEl =\n",
              "          document.querySelector('#df-ea5764c8-985e-4c11-bbe8-148c6db85704 button.colab-df-convert');\n",
              "        buttonEl.style.display =\n",
              "          google.colab.kernel.accessAllowed ? 'block' : 'none';\n",
              "\n",
              "        async function convertToInteractive(key) {\n",
              "          const element = document.querySelector('#df-ea5764c8-985e-4c11-bbe8-148c6db85704');\n",
              "          const dataTable =\n",
              "            await google.colab.kernel.invokeFunction('convertToInteractive',\n",
              "                                                     [key], {});\n",
              "          if (!dataTable) return;\n",
              "\n",
              "          const docLinkHtml = 'Like what you see? Visit the ' +\n",
              "            '<a target=\"_blank\" href=https://colab.research.google.com/notebooks/data_table.ipynb>data table notebook</a>'\n",
              "            + ' to learn more about interactive tables.';\n",
              "          element.innerHTML = '';\n",
              "          dataTable['output_type'] = 'display_data';\n",
              "          await google.colab.output.renderOutput(dataTable, element);\n",
              "          const docLink = document.createElement('div');\n",
              "          docLink.innerHTML = docLinkHtml;\n",
              "          element.appendChild(docLink);\n",
              "        }\n",
              "      </script>\n",
              "    </div>\n",
              "  </div>\n",
              "  "
            ],
            "text/plain": [
              "                       valor_de_venda\n",
              "regiao_sigla produto                 \n",
              "N: Norte     GASOLINA           5.972"
            ]
          },
          "execution_count": 179,
          "metadata": {},
          "output_type": "execute_result"
        }
      ],
      "source": [
        "regiao_maior_med_gas.nlargest(1, columns = 'valor_de_venda')"
      ]
    },
    {
      "cell_type": "markdown",
      "id": "k8TD0Qr_gE7t",
      "metadata": {
        "id": "k8TD0Qr_gE7t"
      },
      "source": [
        " <font size=\"4\"> Corroborando o resultado que tivemos na pergunta 2, a região que possui o maior valor médio da gasolina é o Norte, seguido do Nordeste com um valor consideravelmente semelhante.\n",
        "\n",
        " 1. **Norte** - 5.97\n",
        " 2. **Nordeste** - 5.95"
      ]
    },
    {
      "cell_type": "markdown",
      "id": "8py6YqAy73Fg",
      "metadata": {
        "id": "8py6YqAy73Fg"
      },
      "source": [
        "### **8. Qual a região que possui o menor valor médio do etanol?**"
      ]
    },
    {
      "cell_type": "markdown",
      "id": "C99xSIWZg1pU",
      "metadata": {
        "id": "C99xSIWZg1pU"
      },
      "source": [
        "Da mesma forma que na questão anterior, filtramos pelo produto 'Etanol', agrupando pela região e adicionando a média do valor de venda:"
      ]
    },
    {
      "cell_type": "code",
      "execution_count": 180,
      "id": "k5-BTd4c-FBb",
      "metadata": {
        "colab": {
          "base_uri": "https://localhost:8080/",
          "height": 238
        },
        "id": "k5-BTd4c-FBb",
        "outputId": "98d82a7a-f5eb-4a00-db2d-983af539757d"
      },
      "outputs": [
        {
          "data": {
            "text/html": [
              "<style type=\"text/css\">\n",
              "#T_a13fb_row0_col0 {\n",
              "  background-color: #f7fcfd;\n",
              "  color: #000000;\n",
              "}\n",
              "#T_a13fb_row1_col0 {\n",
              "  background-color: #f1f8fb;\n",
              "  color: #000000;\n",
              "}\n",
              "#T_a13fb_row2_col0 {\n",
              "  background-color: #8c75b6;\n",
              "  color: #f1f1f1;\n",
              "}\n",
              "#T_a13fb_row3_col0 {\n",
              "  background-color: #6c0968;\n",
              "  color: #f1f1f1;\n",
              "}\n",
              "#T_a13fb_row4_col0 {\n",
              "  background-color: #4d004b;\n",
              "  color: #f1f1f1;\n",
              "}\n",
              "</style>\n",
              "<table id=\"T_a13fb_\" class=\"dataframe\">\n",
              "  <thead>\n",
              "    <tr>\n",
              "      <th class=\"blank\" >&nbsp;</th>\n",
              "      <th class=\"blank level0\" >&nbsp;</th>\n",
              "      <th class=\"col_heading level0 col0\" >valor_de_venda</th>\n",
              "    </tr>\n",
              "    <tr>\n",
              "      <th class=\"index_name level0\" >regiao_sigla</th>\n",
              "      <th class=\"index_name level1\" >produto</th>\n",
              "      <th class=\"blank col0\" >&nbsp;</th>\n",
              "    </tr>\n",
              "  </thead>\n",
              "  <tbody>\n",
              "    <tr>\n",
              "      <th id=\"T_a13fb_level0_row0\" class=\"row_heading level0 row0\" >CO: Centro-Oeste</th>\n",
              "      <th id=\"T_a13fb_level1_row0\" class=\"row_heading level1 row0\" >ETANOL</th>\n",
              "      <td id=\"T_a13fb_row0_col0\" class=\"data row0 col0\" >4.107000</td>\n",
              "    </tr>\n",
              "    <tr>\n",
              "      <th id=\"T_a13fb_level0_row1\" class=\"row_heading level0 row1\" >SE: Sudeste</th>\n",
              "      <th id=\"T_a13fb_level1_row1\" class=\"row_heading level1 row1\" >ETANOL</th>\n",
              "      <td id=\"T_a13fb_row1_col0\" class=\"data row1 col0\" >4.150000</td>\n",
              "    </tr>\n",
              "    <tr>\n",
              "      <th id=\"T_a13fb_level0_row2\" class=\"row_heading level0 row2\" >S: Sul</th>\n",
              "      <th id=\"T_a13fb_level1_row2\" class=\"row_heading level1 row2\" >ETANOL</th>\n",
              "      <td id=\"T_a13fb_row2_col0\" class=\"data row2 col0\" >4.842000</td>\n",
              "    </tr>\n",
              "    <tr>\n",
              "      <th id=\"T_a13fb_level0_row3\" class=\"row_heading level0 row3\" >NE: Nordeste</th>\n",
              "      <th id=\"T_a13fb_level1_row3\" class=\"row_heading level1 row3\" >ETANOL</th>\n",
              "      <td id=\"T_a13fb_row3_col0\" class=\"data row3 col0\" >5.246000</td>\n",
              "    </tr>\n",
              "    <tr>\n",
              "      <th id=\"T_a13fb_level0_row4\" class=\"row_heading level0 row4\" >N: Norte</th>\n",
              "      <th id=\"T_a13fb_level1_row4\" class=\"row_heading level1 row4\" >ETANOL</th>\n",
              "      <td id=\"T_a13fb_row4_col0\" class=\"data row4 col0\" >5.341000</td>\n",
              "    </tr>\n",
              "  </tbody>\n",
              "</table>\n"
            ],
            "text/plain": [
              "<pandas.io.formats.style.Styler at 0x7f13edb9c810>"
            ]
          },
          "execution_count": 180,
          "metadata": {},
          "output_type": "execute_result"
        }
      ],
      "source": [
        "regiao_menor_med_etanol = dados[dados['produto']=='ETANOL'].groupby(['regiao_sigla', 'produto']).aggregate( {\"valor_de_venda\":\"mean\"}).round(3).sort_values('valor_de_venda')\n",
        "regiao_menor_med_etanol.style.background_gradient(cmap='BuPu')"
      ]
    },
    {
      "cell_type": "code",
      "execution_count": 181,
      "id": "2lFlLtip-HyW",
      "metadata": {
        "colab": {
          "base_uri": "https://localhost:8080/",
          "height": 112
        },
        "id": "2lFlLtip-HyW",
        "outputId": "89d83935-e3dd-4bbc-c94b-3e4d31af9637"
      },
      "outputs": [
        {
          "data": {
            "text/html": [
              "\n",
              "  <div id=\"df-24790ee6-4d8a-4760-ace2-1a92af7cf2c9\">\n",
              "    <div class=\"colab-df-container\">\n",
              "      <div>\n",
              "<style scoped>\n",
              "    .dataframe tbody tr th:only-of-type {\n",
              "        vertical-align: middle;\n",
              "    }\n",
              "\n",
              "    .dataframe tbody tr th {\n",
              "        vertical-align: top;\n",
              "    }\n",
              "\n",
              "    .dataframe thead th {\n",
              "        text-align: right;\n",
              "    }\n",
              "</style>\n",
              "<table border=\"1\" class=\"dataframe\">\n",
              "  <thead>\n",
              "    <tr style=\"text-align: right;\">\n",
              "      <th></th>\n",
              "      <th></th>\n",
              "      <th>valor_de_venda</th>\n",
              "    </tr>\n",
              "    <tr>\n",
              "      <th>regiao_sigla</th>\n",
              "      <th>produto</th>\n",
              "      <th></th>\n",
              "    </tr>\n",
              "  </thead>\n",
              "  <tbody>\n",
              "    <tr>\n",
              "      <th>CO: Centro-Oeste</th>\n",
              "      <th>ETANOL</th>\n",
              "      <td>4.107</td>\n",
              "    </tr>\n",
              "  </tbody>\n",
              "</table>\n",
              "</div>\n",
              "      <button class=\"colab-df-convert\" onclick=\"convertToInteractive('df-24790ee6-4d8a-4760-ace2-1a92af7cf2c9')\"\n",
              "              title=\"Convert this dataframe to an interactive table.\"\n",
              "              style=\"display:none;\">\n",
              "        \n",
              "  <svg xmlns=\"http://www.w3.org/2000/svg\" height=\"24px\"viewBox=\"0 0 24 24\"\n",
              "       width=\"24px\">\n",
              "    <path d=\"M0 0h24v24H0V0z\" fill=\"none\"/>\n",
              "    <path d=\"M18.56 5.44l.94 2.06.94-2.06 2.06-.94-2.06-.94-.94-2.06-.94 2.06-2.06.94zm-11 1L8.5 8.5l.94-2.06 2.06-.94-2.06-.94L8.5 2.5l-.94 2.06-2.06.94zm10 10l.94 2.06.94-2.06 2.06-.94-2.06-.94-.94-2.06-.94 2.06-2.06.94z\"/><path d=\"M17.41 7.96l-1.37-1.37c-.4-.4-.92-.59-1.43-.59-.52 0-1.04.2-1.43.59L10.3 9.45l-7.72 7.72c-.78.78-.78 2.05 0 2.83L4 21.41c.39.39.9.59 1.41.59.51 0 1.02-.2 1.41-.59l7.78-7.78 2.81-2.81c.8-.78.8-2.07 0-2.86zM5.41 20L4 18.59l7.72-7.72 1.47 1.35L5.41 20z\"/>\n",
              "  </svg>\n",
              "      </button>\n",
              "      \n",
              "  <style>\n",
              "    .colab-df-container {\n",
              "      display:flex;\n",
              "      flex-wrap:wrap;\n",
              "      gap: 12px;\n",
              "    }\n",
              "\n",
              "    .colab-df-convert {\n",
              "      background-color: #E8F0FE;\n",
              "      border: none;\n",
              "      border-radius: 50%;\n",
              "      cursor: pointer;\n",
              "      display: none;\n",
              "      fill: #1967D2;\n",
              "      height: 32px;\n",
              "      padding: 0 0 0 0;\n",
              "      width: 32px;\n",
              "    }\n",
              "\n",
              "    .colab-df-convert:hover {\n",
              "      background-color: #E2EBFA;\n",
              "      box-shadow: 0px 1px 2px rgba(60, 64, 67, 0.3), 0px 1px 3px 1px rgba(60, 64, 67, 0.15);\n",
              "      fill: #174EA6;\n",
              "    }\n",
              "\n",
              "    [theme=dark] .colab-df-convert {\n",
              "      background-color: #3B4455;\n",
              "      fill: #D2E3FC;\n",
              "    }\n",
              "\n",
              "    [theme=dark] .colab-df-convert:hover {\n",
              "      background-color: #434B5C;\n",
              "      box-shadow: 0px 1px 3px 1px rgba(0, 0, 0, 0.15);\n",
              "      filter: drop-shadow(0px 1px 2px rgba(0, 0, 0, 0.3));\n",
              "      fill: #FFFFFF;\n",
              "    }\n",
              "  </style>\n",
              "\n",
              "      <script>\n",
              "        const buttonEl =\n",
              "          document.querySelector('#df-24790ee6-4d8a-4760-ace2-1a92af7cf2c9 button.colab-df-convert');\n",
              "        buttonEl.style.display =\n",
              "          google.colab.kernel.accessAllowed ? 'block' : 'none';\n",
              "\n",
              "        async function convertToInteractive(key) {\n",
              "          const element = document.querySelector('#df-24790ee6-4d8a-4760-ace2-1a92af7cf2c9');\n",
              "          const dataTable =\n",
              "            await google.colab.kernel.invokeFunction('convertToInteractive',\n",
              "                                                     [key], {});\n",
              "          if (!dataTable) return;\n",
              "\n",
              "          const docLinkHtml = 'Like what you see? Visit the ' +\n",
              "            '<a target=\"_blank\" href=https://colab.research.google.com/notebooks/data_table.ipynb>data table notebook</a>'\n",
              "            + ' to learn more about interactive tables.';\n",
              "          element.innerHTML = '';\n",
              "          dataTable['output_type'] = 'display_data';\n",
              "          await google.colab.output.renderOutput(dataTable, element);\n",
              "          const docLink = document.createElement('div');\n",
              "          docLink.innerHTML = docLinkHtml;\n",
              "          element.appendChild(docLink);\n",
              "        }\n",
              "      </script>\n",
              "    </div>\n",
              "  </div>\n",
              "  "
            ],
            "text/plain": [
              "                          valor_de_venda\n",
              "regiao_sigla     produto                \n",
              "CO: Centro-Oeste ETANOL            4.107"
            ]
          },
          "execution_count": 181,
          "metadata": {},
          "output_type": "execute_result"
        }
      ],
      "source": [
        "regiao_menor_med_etanol.nsmallest(1, columns = 'valor_de_venda')"
      ]
    },
    {
      "cell_type": "markdown",
      "id": "QCNX1dvThTKi",
      "metadata": {
        "id": "QCNX1dvThTKi"
      },
      "source": [
        " <font size=\"4\"> A região que possui o menor valor médio do etanol é o Centro-Oeste, seguido do Sudeste com um valor consideravelmente semelhante.\n",
        "\n",
        " 1. **Centro-Oeste** - 4.10\n",
        " 2. **Nordeste** - 4.15"
      ]
    },
    {
      "cell_type": "code",
      "execution_count": 182,
      "id": "DWwal_4j-LSX",
      "metadata": {
        "id": "DWwal_4j-LSX"
      },
      "outputs": [],
      "source": [
        "vl_medio_regiao = dados.groupby(['regiao_sigla', 'produto'])['valor_de_venda'].mean().reset_index()"
      ]
    },
    {
      "cell_type": "code",
      "execution_count": 190,
      "id": "grko1eZG-PyJ",
      "metadata": {
        "colab": {
          "base_uri": "https://localhost:8080/",
          "height": 893
        },
        "id": "grko1eZG-PyJ",
        "outputId": "91a4a919-222c-46d1-9cd7-770bcb34fc21"
      },
      "outputs": [
        {
          "data": {
            "image/png": "[encoded data removed]",
            "text/plain": [
              "<Figure size 1800x1080 with 1 Axes>"
            ]
          },
          "metadata": {},
          "output_type": "display_data"
        }
      ],
      "source": [
        "grafico_val_med_reg = plt.figure(figsize=(25,15))\n",
        "plt.title('PREÇO MÉDIO - GASOLINA COMUM x ETANOL x GASOLINA ADITIVADA', loc='left', fontsize=25)\n",
        "sns.set(font_scale=3)\n",
        "sns.barplot(y='valor_de_venda', x='regiao_sigla', hue='produto',  data = vl_medio_regiao, palette='plasma');\n",
        "plt.ylabel('VALOR MÉDIO DA GASOLINA')\n",
        "plt.xlabel('REGIÃO')\n",
        "plt.legend(title=\"PRODUTO\", loc='lower left')\n",
        "\n",
        "plt.tight_layout()"
      ]
    },
    {
      "cell_type": "markdown",
      "id": "E2ZRKPeMhy3N",
      "metadata": {
        "id": "E2ZRKPeMhy3N"
      },
      "source": [
        "<font size=\"4\">Por meio do gráfico, podemos verificar os resultado que já obtivemos:\n",
        "\n",
        "* <font size=\"4\"> O Centro-Oeste é a região com menor valor médio do etanol;\n",
        "* <font size=\"4\"> O Norte é a região com maior valor médio da Gasolina (e também do etanol), com o Nordeste com um valor bem semelhante;"
      ]
    },
    {
      "cell_type": "markdown",
      "id": "9hO37CFs3g0a",
      "metadata": {
        "id": "9hO37CFs3g0a"
      },
      "source": [
        "### **9. Há alguma correlação entre o valor do combustível (gasolina e etanol) e a região onde ele é vendido?**"
      ]
    },
    {
      "cell_type": "markdown",
      "id": "9LxGhVD6pQnj",
      "metadata": {
        "id": "9LxGhVD6pQnj"
      },
      "source": [
        "Vamos analisar a variação do valor de cada produto de cada região individualmente:"
      ]
    },
    {
      "cell_type": "code",
      "execution_count": 191,
      "id": "tvV2UjjW3758",
      "metadata": {
        "colab": {
          "base_uri": "https://localhost:8080/",
          "height": 1000
        },
        "id": "tvV2UjjW3758",
        "outputId": "a3df5371-6ef6-4e72-8816-d4c2fcc8bed0"
      },
      "outputs": [
        {
          "data": {
            "text/html": [
              "\n",
              "  <div id=\"df-e1fc3f24-1b74-4067-be12-ef26d0c142c2\">\n",
              "    <div class=\"colab-df-container\">\n",
              "      <div>\n",
              "<style scoped>\n",
              "    .dataframe tbody tr th:only-of-type {\n",
              "        vertical-align: middle;\n",
              "    }\n",
              "\n",
              "    .dataframe tbody tr th {\n",
              "        vertical-align: top;\n",
              "    }\n",
              "\n",
              "    .dataframe thead th {\n",
              "        text-align: right;\n",
              "    }\n",
              "</style>\n",
              "<table border=\"1\" class=\"dataframe\">\n",
              "  <thead>\n",
              "    <tr style=\"text-align: right;\">\n",
              "      <th></th>\n",
              "      <th></th>\n",
              "      <th></th>\n",
              "      <th>valor_de_venda</th>\n",
              "    </tr>\n",
              "    <tr>\n",
              "      <th>regiao_sigla</th>\n",
              "      <th>produto</th>\n",
              "      <th>data_da_coleta</th>\n",
              "      <th></th>\n",
              "    </tr>\n",
              "  </thead>\n",
              "  <tbody>\n",
              "    <tr>\n",
              "      <th rowspan=\"6\" valign=\"top\">CO: Centro-Oeste</th>\n",
              "      <th rowspan=\"2\" valign=\"top\">ETANOL</th>\n",
              "      <th>2022-07-31</th>\n",
              "      <td>4.324710</td>\n",
              "    </tr>\n",
              "    <tr>\n",
              "      <th>2022-08-31</th>\n",
              "      <td>3.927304</td>\n",
              "    </tr>\n",
              "    <tr>\n",
              "      <th rowspan=\"2\" valign=\"top\">GASOLINA</th>\n",
              "      <th>2022-07-31</th>\n",
              "      <td>5.894329</td>\n",
              "    </tr>\n",
              "    <tr>\n",
              "      <th>2022-08-31</th>\n",
              "      <td>5.321278</td>\n",
              "    </tr>\n",
              "    <tr>\n",
              "      <th rowspan=\"2\" valign=\"top\">GASOLINA ADITIVADA</th>\n",
              "      <th>2022-07-31</th>\n",
              "      <td>6.034480</td>\n",
              "    </tr>\n",
              "    <tr>\n",
              "      <th>2022-08-31</th>\n",
              "      <td>5.460218</td>\n",
              "    </tr>\n",
              "    <tr>\n",
              "      <th rowspan=\"6\" valign=\"top\">N: Norte</th>\n",
              "      <th rowspan=\"2\" valign=\"top\">ETANOL</th>\n",
              "      <th>2022-07-31</th>\n",
              "      <td>5.637043</td>\n",
              "    </tr>\n",
              "    <tr>\n",
              "      <th>2022-08-31</th>\n",
              "      <td>5.098576</td>\n",
              "    </tr>\n",
              "    <tr>\n",
              "      <th rowspan=\"2\" valign=\"top\">GASOLINA</th>\n",
              "      <th>2022-07-31</th>\n",
              "      <td>6.322346</td>\n",
              "    </tr>\n",
              "    <tr>\n",
              "      <th>2022-08-31</th>\n",
              "      <td>5.686267</td>\n",
              "    </tr>\n",
              "    <tr>\n",
              "      <th rowspan=\"2\" valign=\"top\">GASOLINA ADITIVADA</th>\n",
              "      <th>2022-07-31</th>\n",
              "      <td>6.457643</td>\n",
              "    </tr>\n",
              "    <tr>\n",
              "      <th>2022-08-31</th>\n",
              "      <td>5.817659</td>\n",
              "    </tr>\n",
              "    <tr>\n",
              "      <th rowspan=\"6\" valign=\"top\">NE: Nordeste</th>\n",
              "      <th rowspan=\"2\" valign=\"top\">ETANOL</th>\n",
              "      <th>2022-07-31</th>\n",
              "      <td>5.605162</td>\n",
              "    </tr>\n",
              "    <tr>\n",
              "      <th>2022-08-31</th>\n",
              "      <td>4.951936</td>\n",
              "    </tr>\n",
              "    <tr>\n",
              "      <th rowspan=\"2\" valign=\"top\">GASOLINA</th>\n",
              "      <th>2022-07-31</th>\n",
              "      <td>6.443064</td>\n",
              "    </tr>\n",
              "    <tr>\n",
              "      <th>2022-08-31</th>\n",
              "      <td>5.553415</td>\n",
              "    </tr>\n",
              "    <tr>\n",
              "      <th rowspan=\"2\" valign=\"top\">GASOLINA ADITIVADA</th>\n",
              "      <th>2022-07-31</th>\n",
              "      <td>6.600561</td>\n",
              "    </tr>\n",
              "    <tr>\n",
              "      <th>2022-08-31</th>\n",
              "      <td>5.705540</td>\n",
              "    </tr>\n",
              "    <tr>\n",
              "      <th rowspan=\"6\" valign=\"top\">S: Sul</th>\n",
              "      <th rowspan=\"2\" valign=\"top\">ETANOL</th>\n",
              "      <th>2022-07-31</th>\n",
              "      <td>5.104525</td>\n",
              "    </tr>\n",
              "    <tr>\n",
              "      <th>2022-08-31</th>\n",
              "      <td>4.622566</td>\n",
              "    </tr>\n",
              "    <tr>\n",
              "      <th rowspan=\"2\" valign=\"top\">GASOLINA</th>\n",
              "      <th>2022-07-31</th>\n",
              "      <td>5.939016</td>\n",
              "    </tr>\n",
              "    <tr>\n",
              "      <th>2022-08-31</th>\n",
              "      <td>5.388389</td>\n",
              "    </tr>\n",
              "    <tr>\n",
              "      <th rowspan=\"2\" valign=\"top\">GASOLINA ADITIVADA</th>\n",
              "      <th>2022-07-31</th>\n",
              "      <td>6.079456</td>\n",
              "    </tr>\n",
              "    <tr>\n",
              "      <th>2022-08-31</th>\n",
              "      <td>5.520075</td>\n",
              "    </tr>\n",
              "    <tr>\n",
              "      <th rowspan=\"6\" valign=\"top\">SE: Sudeste</th>\n",
              "      <th rowspan=\"2\" valign=\"top\">ETANOL</th>\n",
              "      <th>2022-07-31</th>\n",
              "      <td>4.364011</td>\n",
              "    </tr>\n",
              "    <tr>\n",
              "      <th>2022-08-31</th>\n",
              "      <td>3.973156</td>\n",
              "    </tr>\n",
              "    <tr>\n",
              "      <th rowspan=\"2\" valign=\"top\">GASOLINA</th>\n",
              "      <th>2022-07-31</th>\n",
              "      <td>5.926829</td>\n",
              "    </tr>\n",
              "    <tr>\n",
              "      <th>2022-08-31</th>\n",
              "      <td>5.358708</td>\n",
              "    </tr>\n",
              "    <tr>\n",
              "      <th rowspan=\"2\" valign=\"top\">GASOLINA ADITIVADA</th>\n",
              "      <th>2022-07-31</th>\n",
              "      <td>6.140690</td>\n",
              "    </tr>\n",
              "    <tr>\n",
              "      <th>2022-08-31</th>\n",
              "      <td>5.568004</td>\n",
              "    </tr>\n",
              "  </tbody>\n",
              "</table>\n",
              "</div>\n",
              "      <button class=\"colab-df-convert\" onclick=\"convertToInteractive('df-e1fc3f24-1b74-4067-be12-ef26d0c142c2')\"\n",
              "              title=\"Convert this dataframe to an interactive table.\"\n",
              "              style=\"display:none;\">\n",
              "        \n",
              "  <svg xmlns=\"http://www.w3.org/2000/svg\" height=\"24px\"viewBox=\"0 0 24 24\"\n",
              "       width=\"24px\">\n",
              "    <path d=\"M0 0h24v24H0V0z\" fill=\"none\"/>\n",
              "    <path d=\"M18.56 5.44l.94 2.06.94-2.06 2.06-.94-2.06-.94-.94-2.06-.94 2.06-2.06.94zm-11 1L8.5 8.5l.94-2.06 2.06-.94-2.06-.94L8.5 2.5l-.94 2.06-2.06.94zm10 10l.94 2.06.94-2.06 2.06-.94-2.06-.94-.94-2.06-.94 2.06-2.06.94z\"/><path d=\"M17.41 7.96l-1.37-1.37c-.4-.4-.92-.59-1.43-.59-.52 0-1.04.2-1.43.59L10.3 9.45l-7.72 7.72c-.78.78-.78 2.05 0 2.83L4 21.41c.39.39.9.59 1.41.59.51 0 1.02-.2 1.41-.59l7.78-7.78 2.81-2.81c.8-.78.8-2.07 0-2.86zM5.41 20L4 18.59l7.72-7.72 1.47 1.35L5.41 20z\"/>\n",
              "  </svg>\n",
              "      </button>\n",
              "      \n",
              "  <style>\n",
              "    .colab-df-container {\n",
              "      display:flex;\n",
              "      flex-wrap:wrap;\n",
              "      gap: 12px;\n",
              "    }\n",
              "\n",
              "    .colab-df-convert {\n",
              "      background-color: #E8F0FE;\n",
              "      border: none;\n",
              "      border-radius: 50%;\n",
              "      cursor: pointer;\n",
              "      display: none;\n",
              "      fill: #1967D2;\n",
              "      height: 32px;\n",
              "      padding: 0 0 0 0;\n",
              "      width: 32px;\n",
              "    }\n",
              "\n",
              "    .colab-df-convert:hover {\n",
              "      background-color: #E2EBFA;\n",
              "      box-shadow: 0px 1px 2px rgba(60, 64, 67, 0.3), 0px 1px 3px 1px rgba(60, 64, 67, 0.15);\n",
              "      fill: #174EA6;\n",
              "    }\n",
              "\n",
              "    [theme=dark] .colab-df-convert {\n",
              "      background-color: #3B4455;\n",
              "      fill: #D2E3FC;\n",
              "    }\n",
              "\n",
              "    [theme=dark] .colab-df-convert:hover {\n",
              "      background-color: #434B5C;\n",
              "      box-shadow: 0px 1px 3px 1px rgba(0, 0, 0, 0.15);\n",
              "      filter: drop-shadow(0px 1px 2px rgba(0, 0, 0, 0.3));\n",
              "      fill: #FFFFFF;\n",
              "    }\n",
              "  </style>\n",
              "\n",
              "      <script>\n",
              "        const buttonEl =\n",
              "          document.querySelector('#df-e1fc3f24-1b74-4067-be12-ef26d0c142c2 button.colab-df-convert');\n",
              "        buttonEl.style.display =\n",
              "          google.colab.kernel.accessAllowed ? 'block' : 'none';\n",
              "\n",
              "        async function convertToInteractive(key) {\n",
              "          const element = document.querySelector('#df-e1fc3f24-1b74-4067-be12-ef26d0c142c2');\n",
              "          const dataTable =\n",
              "            await google.colab.kernel.invokeFunction('convertToInteractive',\n",
              "                                                     [key], {});\n",
              "          if (!dataTable) return;\n",
              "\n",
              "          const docLinkHtml = 'Like what you see? Visit the ' +\n",
              "            '<a target=\"_blank\" href=https://colab.research.google.com/notebooks/data_table.ipynb>data table notebook</a>'\n",
              "            + ' to learn more about interactive tables.';\n",
              "          element.innerHTML = '';\n",
              "          dataTable['output_type'] = 'display_data';\n",
              "          await google.colab.output.renderOutput(dataTable, element);\n",
              "          const docLink = document.createElement('div');\n",
              "          docLink.innerHTML = docLinkHtml;\n",
              "          element.appendChild(docLink);\n",
              "        }\n",
              "      </script>\n",
              "    </div>\n",
              "  </div>\n",
              "  "
            ],
            "text/plain": [
              "                                                    valor_de_venda\n",
              "regiao_sigla     produto            data_da_coleta                \n",
              "CO: Centro-Oeste ETANOL             2022-07-31            4.324710\n",
              "                                    2022-08-31            3.927304\n",
              "                 GASOLINA           2022-07-31            5.894329\n",
              "                                    2022-08-31            5.321278\n",
              "                 GASOLINA ADITIVADA 2022-07-31            6.034480\n",
              "                                    2022-08-31            5.460218\n",
              "N: Norte         ETANOL             2022-07-31            5.637043\n",
              "                                    2022-08-31            5.098576\n",
              "                 GASOLINA           2022-07-31            6.322346\n",
              "                                    2022-08-31            5.686267\n",
              "                 GASOLINA ADITIVADA 2022-07-31            6.457643\n",
              "                                    2022-08-31            5.817659\n",
              "NE: Nordeste     ETANOL             2022-07-31            5.605162\n",
              "                                    2022-08-31            4.951936\n",
              "                 GASOLINA           2022-07-31            6.443064\n",
              "                                    2022-08-31            5.553415\n",
              "                 GASOLINA ADITIVADA 2022-07-31            6.600561\n",
              "                                    2022-08-31            5.705540\n",
              "S: Sul           ETANOL             2022-07-31            5.104525\n",
              "                                    2022-08-31            4.622566\n",
              "                 GASOLINA           2022-07-31            5.939016\n",
              "                                    2022-08-31            5.388389\n",
              "                 GASOLINA ADITIVADA 2022-07-31            6.079456\n",
              "                                    2022-08-31            5.520075\n",
              "SE: Sudeste      ETANOL             2022-07-31            4.364011\n",
              "                                    2022-08-31            3.973156\n",
              "                 GASOLINA           2022-07-31            5.926829\n",
              "                                    2022-08-31            5.358708\n",
              "                 GASOLINA ADITIVADA 2022-07-31            6.140690\n",
              "                                    2022-08-31            5.568004"
            ]
          },
          "execution_count": 191,
          "metadata": {},
          "output_type": "execute_result"
        }
      ],
      "source": [
        "dados.groupby(['regiao_sigla', 'produto', pd.Grouper(key='data_da_coleta', freq='M')]).agg({'valor_de_venda' : 'mean'})"
      ]
    },
    {
      "cell_type": "markdown",
      "id": "V9us_I7Gl8Fy",
      "metadata": {
        "id": "V9us_I7Gl8Fy"
      },
      "source": [
        "<font size=\"4\"> Reduções de preço:\n",
        "\n",
        "**CO - Centro - Oeste**\n",
        "* Etanol - redução de 10%\n",
        "* Gasolina - redução de 10%\n",
        "* Gasolina Aditivada - redução de 10%\n",
        "\n",
        "**N - Norte**\n",
        "* Etanol - redução de 10%\n",
        "* Gasolina - redução de 10%\n",
        "* Gasolina aditivada - redução de 10%\n",
        "\n",
        "**NE - Nordeste**\n",
        "* Etanol - redução de 12%\n",
        "* Gasolina - redução de 14%\n",
        "* Gasolina Aditivada - redução de 14%\n",
        "\n",
        "**S - Sul**\n",
        "* Etanol - redução de 10%\n",
        "* Gasolina - redução de 10%\n",
        "* Gasolina Aditivada - redução de 10%\n",
        "\n",
        "**SE - Sudeste**\n",
        "* Etanol - redução de 9%\n",
        "* Gasolina - redução de 10%\n",
        "* Aditivada - redução de 9%\n",
        "</font> "
      ]
    },
    {
      "cell_type": "markdown",
      "id": "TZdnfWVqmpUn",
      "metadata": {
        "id": "TZdnfWVqmpUn"
      },
      "source": [
        " <font size=\"4\"> Por meio dessa análise, podemos ver que no Nordeste foi onde o preço da gasolina mais foi reduzido, mas fora isso, as demais regiões tiveram redução semelhante em porcentagem (%).\n",
        " É possível também fortificar algumas conclusões já tiradas antes, como os preços mais elevados no Norte e menor preço no Sudeste.\n",
        " </font> "
      ]
    },
    {
      "cell_type": "markdown",
      "id": "5H7ztnir5JAq",
      "metadata": {
        "id": "5H7ztnir5JAq"
      },
      "source": [
        "### **10. Há alguma correlação entre o valor do combustível (gasolina e etanol) e a bandeira que vende ele?**"
      ]
    },
    {
      "cell_type": "markdown",
      "id": "FPZm2utgpf8Z",
      "metadata": {
        "id": "FPZm2utgpf8Z"
      },
      "source": [
        "Assim como na questão anterior, vamos verificar as bandeiras e o preço que elas oferecem cada produto:"
      ]
    },
    {
      "cell_type": "code",
      "execution_count": 193,
      "id": "bsn5Mu9Z5Xz2",
      "metadata": {
        "colab": {
          "base_uri": "https://localhost:8080/",
          "height": 455
        },
        "id": "bsn5Mu9Z5Xz2",
        "outputId": "279e69a9-252f-4997-869e-10010a37c37e"
      },
      "outputs": [
        {
          "data": {
            "text/html": [
              "\n",
              "  <div id=\"df-5c06a2e5-3b15-44a7-953f-255cb06c61d5\">\n",
              "    <div class=\"colab-df-container\">\n",
              "      <div>\n",
              "<style scoped>\n",
              "    .dataframe tbody tr th:only-of-type {\n",
              "        vertical-align: middle;\n",
              "    }\n",
              "\n",
              "    .dataframe tbody tr th {\n",
              "        vertical-align: top;\n",
              "    }\n",
              "\n",
              "    .dataframe thead th {\n",
              "        text-align: right;\n",
              "    }\n",
              "</style>\n",
              "<table border=\"1\" class=\"dataframe\">\n",
              "  <thead>\n",
              "    <tr style=\"text-align: right;\">\n",
              "      <th></th>\n",
              "      <th></th>\n",
              "      <th></th>\n",
              "      <th>valor_de_venda</th>\n",
              "    </tr>\n",
              "    <tr>\n",
              "      <th>bandeira</th>\n",
              "      <th>produto</th>\n",
              "      <th>data_da_coleta</th>\n",
              "      <th></th>\n",
              "    </tr>\n",
              "  </thead>\n",
              "  <tbody>\n",
              "    <tr>\n",
              "      <th rowspan=\"5\" valign=\"top\">ALESAT</th>\n",
              "      <th rowspan=\"2\" valign=\"top\">ETANOL</th>\n",
              "      <th>2022-07-31</th>\n",
              "      <td>4.956206</td>\n",
              "    </tr>\n",
              "    <tr>\n",
              "      <th>2022-08-31</th>\n",
              "      <td>4.409747</td>\n",
              "    </tr>\n",
              "    <tr>\n",
              "      <th rowspan=\"2\" valign=\"top\">GASOLINA</th>\n",
              "      <th>2022-07-31</th>\n",
              "      <td>6.192303</td>\n",
              "    </tr>\n",
              "    <tr>\n",
              "      <th>2022-08-31</th>\n",
              "      <td>5.467695</td>\n",
              "    </tr>\n",
              "    <tr>\n",
              "      <th>GASOLINA ADITIVADA</th>\n",
              "      <th>2022-07-31</th>\n",
              "      <td>6.299700</td>\n",
              "    </tr>\n",
              "    <tr>\n",
              "      <th>...</th>\n",
              "      <th>...</th>\n",
              "      <th>...</th>\n",
              "      <td>...</td>\n",
              "    </tr>\n",
              "    <tr>\n",
              "      <th rowspan=\"5\" valign=\"top\">WATT</th>\n",
              "      <th>ETANOL</th>\n",
              "      <th>2022-08-31</th>\n",
              "      <td>3.983333</td>\n",
              "    </tr>\n",
              "    <tr>\n",
              "      <th rowspan=\"2\" valign=\"top\">GASOLINA</th>\n",
              "      <th>2022-07-31</th>\n",
              "      <td>6.400000</td>\n",
              "    </tr>\n",
              "    <tr>\n",
              "      <th>2022-08-31</th>\n",
              "      <td>5.716667</td>\n",
              "    </tr>\n",
              "    <tr>\n",
              "      <th rowspan=\"2\" valign=\"top\">GASOLINA ADITIVADA</th>\n",
              "      <th>2022-07-31</th>\n",
              "      <td>7.630000</td>\n",
              "    </tr>\n",
              "    <tr>\n",
              "      <th>2022-08-31</th>\n",
              "      <td>6.290000</td>\n",
              "    </tr>\n",
              "  </tbody>\n",
              "</table>\n",
              "<p>283 rows × 1 columns</p>\n",
              "</div>\n",
              "      <button class=\"colab-df-convert\" onclick=\"convertToInteractive('df-5c06a2e5-3b15-44a7-953f-255cb06c61d5')\"\n",
              "              title=\"Convert this dataframe to an interactive table.\"\n",
              "              style=\"display:none;\">\n",
              "        \n",
              "  <svg xmlns=\"http://www.w3.org/2000/svg\" height=\"24px\"viewBox=\"0 0 24 24\"\n",
              "       width=\"24px\">\n",
              "    <path d=\"M0 0h24v24H0V0z\" fill=\"none\"/>\n",
              "    <path d=\"M18.56 5.44l.94 2.06.94-2.06 2.06-.94-2.06-.94-.94-2.06-.94 2.06-2.06.94zm-11 1L8.5 8.5l.94-2.06 2.06-.94-2.06-.94L8.5 2.5l-.94 2.06-2.06.94zm10 10l.94 2.06.94-2.06 2.06-.94-2.06-.94-.94-2.06-.94 2.06-2.06.94z\"/><path d=\"M17.41 7.96l-1.37-1.37c-.4-.4-.92-.59-1.43-.59-.52 0-1.04.2-1.43.59L10.3 9.45l-7.72 7.72c-.78.78-.78 2.05 0 2.83L4 21.41c.39.39.9.59 1.41.59.51 0 1.02-.2 1.41-.59l7.78-7.78 2.81-2.81c.8-.78.8-2.07 0-2.86zM5.41 20L4 18.59l7.72-7.72 1.47 1.35L5.41 20z\"/>\n",
              "  </svg>\n",
              "      </button>\n",
              "      \n",
              "  <style>\n",
              "    .colab-df-container {\n",
              "      display:flex;\n",
              "      flex-wrap:wrap;\n",
              "      gap: 12px;\n",
              "    }\n",
              "\n",
              "    .colab-df-convert {\n",
              "      background-color: #E8F0FE;\n",
              "      border: none;\n",
              "      border-radius: 50%;\n",
              "      cursor: pointer;\n",
              "      display: none;\n",
              "      fill: #1967D2;\n",
              "      height: 32px;\n",
              "      padding: 0 0 0 0;\n",
              "      width: 32px;\n",
              "    }\n",
              "\n",
              "    .colab-df-convert:hover {\n",
              "      background-color: #E2EBFA;\n",
              "      box-shadow: 0px 1px 2px rgba(60, 64, 67, 0.3), 0px 1px 3px 1px rgba(60, 64, 67, 0.15);\n",
              "      fill: #174EA6;\n",
              "    }\n",
              "\n",
              "    [theme=dark] .colab-df-convert {\n",
              "      background-color: #3B4455;\n",
              "      fill: #D2E3FC;\n",
              "    }\n",
              "\n",
              "    [theme=dark] .colab-df-convert:hover {\n",
              "      background-color: #434B5C;\n",
              "      box-shadow: 0px 1px 3px 1px rgba(0, 0, 0, 0.15);\n",
              "      filter: drop-shadow(0px 1px 2px rgba(0, 0, 0, 0.3));\n",
              "      fill: #FFFFFF;\n",
              "    }\n",
              "  </style>\n",
              "\n",
              "      <script>\n",
              "        const buttonEl =\n",
              "          document.querySelector('#df-5c06a2e5-3b15-44a7-953f-255cb06c61d5 button.colab-df-convert');\n",
              "        buttonEl.style.display =\n",
              "          google.colab.kernel.accessAllowed ? 'block' : 'none';\n",
              "\n",
              "        async function convertToInteractive(key) {\n",
              "          const element = document.querySelector('#df-5c06a2e5-3b15-44a7-953f-255cb06c61d5');\n",
              "          const dataTable =\n",
              "            await google.colab.kernel.invokeFunction('convertToInteractive',\n",
              "                                                     [key], {});\n",
              "          if (!dataTable) return;\n",
              "\n",
              "          const docLinkHtml = 'Like what you see? Visit the ' +\n",
              "            '<a target=\"_blank\" href=https://colab.research.google.com/notebooks/data_table.ipynb>data table notebook</a>'\n",
              "            + ' to learn more about interactive tables.';\n",
              "          element.innerHTML = '';\n",
              "          dataTable['output_type'] = 'display_data';\n",
              "          await google.colab.output.renderOutput(dataTable, element);\n",
              "          const docLink = document.createElement('div');\n",
              "          docLink.innerHTML = docLinkHtml;\n",
              "          element.appendChild(docLink);\n",
              "        }\n",
              "      </script>\n",
              "    </div>\n",
              "  </div>\n",
              "  "
            ],
            "text/plain": [
              "                                            valor_de_venda\n",
              "bandeira produto            data_da_coleta                \n",
              "ALESAT   ETANOL             2022-07-31            4.956206\n",
              "                            2022-08-31            4.409747\n",
              "         GASOLINA           2022-07-31            6.192303\n",
              "                            2022-08-31            5.467695\n",
              "         GASOLINA ADITIVADA 2022-07-31            6.299700\n",
              "...                                                    ...\n",
              "WATT     ETANOL             2022-08-31            3.983333\n",
              "         GASOLINA           2022-07-31            6.400000\n",
              "                            2022-08-31            5.716667\n",
              "         GASOLINA ADITIVADA 2022-07-31            7.630000\n",
              "                            2022-08-31            6.290000\n",
              "\n",
              "[283 rows x 1 columns]"
            ]
          },
          "execution_count": 193,
          "metadata": {},
          "output_type": "execute_result"
        }
      ],
      "source": [
        "dados.groupby(['bandeira', 'produto', pd.Grouper(key='data_da_coleta', freq='M')]).agg({'valor_de_venda' : 'mean'})"
      ]
    },
    {
      "cell_type": "markdown",
      "id": "zEb8wceVpOKQ",
      "metadata": {
        "id": "zEb8wceVpOKQ"
      },
      "source": [
        "Por possuir muitas informações, vamos colocar tirar uma média geral dos combustíveis e colocar em um gráfico para facilitar a visualização"
      ]
    },
    {
      "cell_type": "code",
      "execution_count": 209,
      "id": "F_eTVoDpoaGv",
      "metadata": {
        "colab": {
          "base_uri": "https://localhost:8080/",
          "height": 1000
        },
        "id": "F_eTVoDpoaGv",
        "outputId": "40cbcbd2-1a2d-4a77-b559-9d10da7a3b83"
      },
      "outputs": [
        {
          "data": {
            "text/html": [
              "<style type=\"text/css\">\n",
              "#T_06818_row0_col0 {\n",
              "  background-color: #7f2704;\n",
              "  color: #f1f1f1;\n",
              "}\n",
              "#T_06818_row1_col0, #T_06818_row2_col0 {\n",
              "  background-color: #b63c02;\n",
              "  color: #f1f1f1;\n",
              "}\n",
              "#T_06818_row3_col0 {\n",
              "  background-color: #bd3e02;\n",
              "  color: #f1f1f1;\n",
              "}\n",
              "#T_06818_row4_col0 {\n",
              "  background-color: #c14002;\n",
              "  color: #f1f1f1;\n",
              "}\n",
              "#T_06818_row5_col0, #T_06818_row6_col0 {\n",
              "  background-color: #c54102;\n",
              "  color: #f1f1f1;\n",
              "}\n",
              "#T_06818_row7_col0 {\n",
              "  background-color: #d14501;\n",
              "  color: #f1f1f1;\n",
              "}\n",
              "#T_06818_row8_col0, #T_06818_row9_col0 {\n",
              "  background-color: #d34601;\n",
              "  color: #f1f1f1;\n",
              "}\n",
              "#T_06818_row10_col0, #T_06818_row11_col0 {\n",
              "  background-color: #d84801;\n",
              "  color: #f1f1f1;\n",
              "}\n",
              "#T_06818_row12_col0 {\n",
              "  background-color: #db4a02;\n",
              "  color: #f1f1f1;\n",
              "}\n",
              "#T_06818_row13_col0 {\n",
              "  background-color: #dc4c03;\n",
              "  color: #f1f1f1;\n",
              "}\n",
              "#T_06818_row14_col0 {\n",
              "  background-color: #e15407;\n",
              "  color: #f1f1f1;\n",
              "}\n",
              "#T_06818_row15_col0 {\n",
              "  background-color: #e5590a;\n",
              "  color: #f1f1f1;\n",
              "}\n",
              "#T_06818_row16_col0, #T_06818_row17_col0 {\n",
              "  background-color: #e85d0c;\n",
              "  color: #f1f1f1;\n",
              "}\n",
              "#T_06818_row18_col0 {\n",
              "  background-color: #ed6310;\n",
              "  color: #f1f1f1;\n",
              "}\n",
              "#T_06818_row19_col0 {\n",
              "  background-color: #ee6410;\n",
              "  color: #f1f1f1;\n",
              "}\n",
              "#T_06818_row20_col0 {\n",
              "  background-color: #f26d17;\n",
              "  color: #f1f1f1;\n",
              "}\n",
              "#T_06818_row21_col0 {\n",
              "  background-color: #f36e19;\n",
              "  color: #f1f1f1;\n",
              "}\n",
              "#T_06818_row22_col0, #T_06818_row23_col0, #T_06818_row24_col0 {\n",
              "  background-color: #f3701b;\n",
              "  color: #f1f1f1;\n",
              "}\n",
              "#T_06818_row25_col0 {\n",
              "  background-color: #f9812e;\n",
              "  color: #f1f1f1;\n",
              "}\n",
              "#T_06818_row26_col0 {\n",
              "  background-color: #f98230;\n",
              "  color: #f1f1f1;\n",
              "}\n",
              "#T_06818_row27_col0 {\n",
              "  background-color: #fc8a39;\n",
              "  color: #f1f1f1;\n",
              "}\n",
              "#T_06818_row28_col0 {\n",
              "  background-color: #fc8b3a;\n",
              "  color: #f1f1f1;\n",
              "}\n",
              "#T_06818_row29_col0 {\n",
              "  background-color: #fd9141;\n",
              "  color: #000000;\n",
              "}\n",
              "#T_06818_row30_col0 {\n",
              "  background-color: #fd9344;\n",
              "  color: #000000;\n",
              "}\n",
              "#T_06818_row31_col0 {\n",
              "  background-color: #fd9547;\n",
              "  color: #000000;\n",
              "}\n",
              "#T_06818_row32_col0 {\n",
              "  background-color: #fd9649;\n",
              "  color: #000000;\n",
              "}\n",
              "#T_06818_row33_col0 {\n",
              "  background-color: #fd9c51;\n",
              "  color: #000000;\n",
              "}\n",
              "#T_06818_row34_col0 {\n",
              "  background-color: #fda159;\n",
              "  color: #000000;\n",
              "}\n",
              "#T_06818_row35_col0 {\n",
              "  background-color: #fdac67;\n",
              "  color: #000000;\n",
              "}\n",
              "#T_06818_row36_col0, #T_06818_row37_col0 {\n",
              "  background-color: #fdae6a;\n",
              "  color: #000000;\n",
              "}\n",
              "#T_06818_row38_col0 {\n",
              "  background-color: #fdb06e;\n",
              "  color: #000000;\n",
              "}\n",
              "#T_06818_row39_col0 {\n",
              "  background-color: #fdb678;\n",
              "  color: #000000;\n",
              "}\n",
              "#T_06818_row40_col0 {\n",
              "  background-color: #fdb77a;\n",
              "  color: #000000;\n",
              "}\n",
              "#T_06818_row41_col0 {\n",
              "  background-color: #fdba7f;\n",
              "  color: #000000;\n",
              "}\n",
              "#T_06818_row42_col0 {\n",
              "  background-color: #fdbf86;\n",
              "  color: #000000;\n",
              "}\n",
              "#T_06818_row43_col0 {\n",
              "  background-color: #fdc28b;\n",
              "  color: #000000;\n",
              "}\n",
              "#T_06818_row44_col0 {\n",
              "  background-color: #fdc38d;\n",
              "  color: #000000;\n",
              "}\n",
              "#T_06818_row45_col0 {\n",
              "  background-color: #fdca99;\n",
              "  color: #000000;\n",
              "}\n",
              "#T_06818_row46_col0 {\n",
              "  background-color: #fdd3a7;\n",
              "  color: #000000;\n",
              "}\n",
              "#T_06818_row47_col0 {\n",
              "  background-color: #fdd5ad;\n",
              "  color: #000000;\n",
              "}\n",
              "#T_06818_row48_col0 {\n",
              "  background-color: #fff5eb;\n",
              "  color: #000000;\n",
              "}\n",
              "</style>\n",
              "<table id=\"T_06818_\" class=\"dataframe\">\n",
              "  <thead>\n",
              "    <tr>\n",
              "      <th class=\"blank level0\" >&nbsp;</th>\n",
              "      <th class=\"col_heading level0 col0\" >valor_de_venda</th>\n",
              "    </tr>\n",
              "    <tr>\n",
              "      <th class=\"index_name level0\" >bandeira</th>\n",
              "      <th class=\"blank col0\" >&nbsp;</th>\n",
              "    </tr>\n",
              "  </thead>\n",
              "  <tbody>\n",
              "    <tr>\n",
              "      <th id=\"T_06818_level0_row0\" class=\"row_heading level0 row0\" >PETRONAC</th>\n",
              "      <td id=\"T_06818_row0_col0\" class=\"data row0 col0\" >6.190000</td>\n",
              "    </tr>\n",
              "    <tr>\n",
              "      <th id=\"T_06818_level0_row1\" class=\"row_heading level0 row1\" >EQUADOR</th>\n",
              "      <td id=\"T_06818_row1_col0\" class=\"data row1 col0\" >5.935000</td>\n",
              "    </tr>\n",
              "    <tr>\n",
              "      <th id=\"T_06818_level0_row2\" class=\"row_heading level0 row2\" >SP</th>\n",
              "      <td id=\"T_06818_row2_col0\" class=\"data row2 col0\" >5.934000</td>\n",
              "    </tr>\n",
              "    <tr>\n",
              "      <th id=\"T_06818_level0_row3\" class=\"row_heading level0 row3\" >REJAILE</th>\n",
              "      <td id=\"T_06818_row3_col0\" class=\"data row3 col0\" >5.912000</td>\n",
              "    </tr>\n",
              "    <tr>\n",
              "      <th id=\"T_06818_level0_row4\" class=\"row_heading level0 row4\" >FAN</th>\n",
              "      <td id=\"T_06818_row4_col0\" class=\"data row4 col0\" >5.891000</td>\n",
              "    </tr>\n",
              "    <tr>\n",
              "      <th id=\"T_06818_level0_row5\" class=\"row_heading level0 row5\" >PETROBAHIA</th>\n",
              "      <td id=\"T_06818_row5_col0\" class=\"data row5 col0\" >5.879000</td>\n",
              "    </tr>\n",
              "    <tr>\n",
              "      <th id=\"T_06818_level0_row6\" class=\"row_heading level0 row6\" >ESTRADA</th>\n",
              "      <td id=\"T_06818_row6_col0\" class=\"data row6 col0\" >5.877000</td>\n",
              "    </tr>\n",
              "    <tr>\n",
              "      <th id=\"T_06818_level0_row7\" class=\"row_heading level0 row7\" >SABBÁ</th>\n",
              "      <td id=\"T_06818_row7_col0\" class=\"data row7 col0\" >5.833000</td>\n",
              "    </tr>\n",
              "    <tr>\n",
              "      <th id=\"T_06818_level0_row8\" class=\"row_heading level0 row8\" >TEMAPE</th>\n",
              "      <td id=\"T_06818_row8_col0\" class=\"data row8 col0\" >5.823000</td>\n",
              "    </tr>\n",
              "    <tr>\n",
              "      <th id=\"T_06818_level0_row9\" class=\"row_heading level0 row9\" >MAXSUL</th>\n",
              "      <td id=\"T_06818_row9_col0\" class=\"data row9 col0\" >5.823000</td>\n",
              "    </tr>\n",
              "    <tr>\n",
              "      <th id=\"T_06818_level0_row10\" class=\"row_heading level0 row10\" >DISLUB</th>\n",
              "      <td id=\"T_06818_row10_col0\" class=\"data row10 col0\" >5.806000</td>\n",
              "    </tr>\n",
              "    <tr>\n",
              "      <th id=\"T_06818_level0_row11\" class=\"row_heading level0 row11\" >AMERICANOIL</th>\n",
              "      <td id=\"T_06818_row11_col0\" class=\"data row11 col0\" >5.805000</td>\n",
              "    </tr>\n",
              "    <tr>\n",
              "      <th id=\"T_06818_level0_row12\" class=\"row_heading level0 row12\" >RZD DISTRIBUIDORA</th>\n",
              "      <td id=\"T_06818_row12_col0\" class=\"data row12 col0\" >5.788000</td>\n",
              "    </tr>\n",
              "    <tr>\n",
              "      <th id=\"T_06818_level0_row13\" class=\"row_heading level0 row13\" >SUL COMBUSTÍVEIS</th>\n",
              "      <td id=\"T_06818_row13_col0\" class=\"data row13 col0\" >5.776000</td>\n",
              "    </tr>\n",
              "    <tr>\n",
              "      <th id=\"T_06818_level0_row14\" class=\"row_heading level0 row14\" >ATEM' S</th>\n",
              "      <td id=\"T_06818_row14_col0\" class=\"data row14 col0\" >5.731000</td>\n",
              "    </tr>\n",
              "    <tr>\n",
              "      <th id=\"T_06818_level0_row15\" class=\"row_heading level0 row15\" >CHARRUA</th>\n",
              "      <td id=\"T_06818_row15_col0\" class=\"data row15 col0\" >5.706000</td>\n",
              "    </tr>\n",
              "    <tr>\n",
              "      <th id=\"T_06818_level0_row16\" class=\"row_heading level0 row16\" >PETROSERRA</th>\n",
              "      <td id=\"T_06818_row16_col0\" class=\"data row16 col0\" >5.678000</td>\n",
              "    </tr>\n",
              "    <tr>\n",
              "      <th id=\"T_06818_level0_row17\" class=\"row_heading level0 row17\" >ATLÂNTICA</th>\n",
              "      <td id=\"T_06818_row17_col0\" class=\"data row17 col0\" >5.677000</td>\n",
              "    </tr>\n",
              "    <tr>\n",
              "      <th id=\"T_06818_level0_row18\" class=\"row_heading level0 row18\" >RAIZEN MIME</th>\n",
              "      <td id=\"T_06818_row18_col0\" class=\"data row18 col0\" >5.644000</td>\n",
              "    </tr>\n",
              "    <tr>\n",
              "      <th id=\"T_06818_level0_row19\" class=\"row_heading level0 row19\" >TDC DISTRIBUIDORA</th>\n",
              "      <td id=\"T_06818_row19_col0\" class=\"data row19 col0\" >5.636000</td>\n",
              "    </tr>\n",
              "    <tr>\n",
              "      <th id=\"T_06818_level0_row20\" class=\"row_heading level0 row20\" >WALENDOWSKY</th>\n",
              "      <td id=\"T_06818_row20_col0\" class=\"data row20 col0\" >5.587000</td>\n",
              "    </tr>\n",
              "    <tr>\n",
              "      <th id=\"T_06818_level0_row21\" class=\"row_heading level0 row21\" >RODOIL</th>\n",
              "      <td id=\"T_06818_row21_col0\" class=\"data row21 col0\" >5.582000</td>\n",
              "    </tr>\n",
              "    <tr>\n",
              "      <th id=\"T_06818_level0_row22\" class=\"row_heading level0 row22\" >DIBRAPE</th>\n",
              "      <td id=\"T_06818_row22_col0\" class=\"data row22 col0\" >5.572000</td>\n",
              "    </tr>\n",
              "    <tr>\n",
              "      <th id=\"T_06818_level0_row23\" class=\"row_heading level0 row23\" >LARCO</th>\n",
              "      <td id=\"T_06818_row23_col0\" class=\"data row23 col0\" >5.569000</td>\n",
              "    </tr>\n",
              "    <tr>\n",
              "      <th id=\"T_06818_level0_row24\" class=\"row_heading level0 row24\" >SETTA DISTRIBUIDORA</th>\n",
              "      <td id=\"T_06818_row24_col0\" class=\"data row24 col0\" >5.568000</td>\n",
              "    </tr>\n",
              "    <tr>\n",
              "      <th id=\"T_06818_level0_row25\" class=\"row_heading level0 row25\" >VIBRA ENERGIA</th>\n",
              "      <td id=\"T_06818_row25_col0\" class=\"data row25 col0\" >5.480000</td>\n",
              "    </tr>\n",
              "    <tr>\n",
              "      <th id=\"T_06818_level0_row26\" class=\"row_heading level0 row26\" >POTENCIAL</th>\n",
              "      <td id=\"T_06818_row26_col0\" class=\"data row26 col0\" >5.472000</td>\n",
              "    </tr>\n",
              "    <tr>\n",
              "      <th id=\"T_06818_level0_row27\" class=\"row_heading level0 row27\" >FEDERAL ENERGIA</th>\n",
              "      <td id=\"T_06818_row27_col0\" class=\"data row27 col0\" >5.432000</td>\n",
              "    </tr>\n",
              "    <tr>\n",
              "      <th id=\"T_06818_level0_row28\" class=\"row_heading level0 row28\" >ALESAT</th>\n",
              "      <td id=\"T_06818_row28_col0\" class=\"data row28 col0\" >5.428000</td>\n",
              "    </tr>\n",
              "    <tr>\n",
              "      <th id=\"T_06818_level0_row29\" class=\"row_heading level0 row29\" >PELIKANO</th>\n",
              "      <td id=\"T_06818_row29_col0\" class=\"data row29 col0\" >5.393000</td>\n",
              "    </tr>\n",
              "    <tr>\n",
              "      <th id=\"T_06818_level0_row30\" class=\"row_heading level0 row30\" >IPIRANGA</th>\n",
              "      <td id=\"T_06818_row30_col0\" class=\"data row30 col0\" >5.386000</td>\n",
              "    </tr>\n",
              "    <tr>\n",
              "      <th id=\"T_06818_level0_row31\" class=\"row_heading level0 row31\" >RAIZEN</th>\n",
              "      <td id=\"T_06818_row31_col0\" class=\"data row31 col0\" >5.371000</td>\n",
              "    </tr>\n",
              "    <tr>\n",
              "      <th id=\"T_06818_level0_row32\" class=\"row_heading level0 row32\" >PETROX DISTRIBUIDORA</th>\n",
              "      <td id=\"T_06818_row32_col0\" class=\"data row32 col0\" >5.366000</td>\n",
              "    </tr>\n",
              "    <tr>\n",
              "      <th id=\"T_06818_level0_row33\" class=\"row_heading level0 row33\" >SIMARELLI</th>\n",
              "      <td id=\"T_06818_row33_col0\" class=\"data row33 col0\" >5.330000</td>\n",
              "    </tr>\n",
              "    <tr>\n",
              "      <th id=\"T_06818_level0_row34\" class=\"row_heading level0 row34\" >STANG</th>\n",
              "      <td id=\"T_06818_row34_col0\" class=\"data row34 col0\" >5.299000</td>\n",
              "    </tr>\n",
              "    <tr>\n",
              "      <th id=\"T_06818_level0_row35\" class=\"row_heading level0 row35\" >UNI</th>\n",
              "      <td id=\"T_06818_row35_col0\" class=\"data row35 col0\" >5.237000</td>\n",
              "    </tr>\n",
              "    <tr>\n",
              "      <th id=\"T_06818_level0_row36\" class=\"row_heading level0 row36\" >SMALL</th>\n",
              "      <td id=\"T_06818_row36_col0\" class=\"data row36 col0\" >5.225000</td>\n",
              "    </tr>\n",
              "    <tr>\n",
              "      <th id=\"T_06818_level0_row37\" class=\"row_heading level0 row37\" >WATT</th>\n",
              "      <td id=\"T_06818_row37_col0\" class=\"data row37 col0\" >5.224000</td>\n",
              "    </tr>\n",
              "    <tr>\n",
              "      <th id=\"T_06818_level0_row38\" class=\"row_heading level0 row38\" >BRANCA</th>\n",
              "      <td id=\"T_06818_row38_col0\" class=\"data row38 col0\" >5.213000</td>\n",
              "    </tr>\n",
              "    <tr>\n",
              "      <th id=\"T_06818_level0_row39\" class=\"row_heading level0 row39\" >TOTALENERGIES</th>\n",
              "      <td id=\"T_06818_row39_col0\" class=\"data row39 col0\" >5.179000</td>\n",
              "    </tr>\n",
              "    <tr>\n",
              "      <th id=\"T_06818_level0_row40\" class=\"row_heading level0 row40\" >IDAZA</th>\n",
              "      <td id=\"T_06818_row40_col0\" class=\"data row40 col0\" >5.171000</td>\n",
              "    </tr>\n",
              "    <tr>\n",
              "      <th id=\"T_06818_level0_row41\" class=\"row_heading level0 row41\" >MONTEPETRO</th>\n",
              "      <td id=\"T_06818_row41_col0\" class=\"data row41 col0\" >5.154000</td>\n",
              "    </tr>\n",
              "    <tr>\n",
              "      <th id=\"T_06818_level0_row42\" class=\"row_heading level0 row42\" >RIO BRANCO</th>\n",
              "      <td id=\"T_06818_row42_col0\" class=\"data row42 col0\" >5.130000</td>\n",
              "    </tr>\n",
              "    <tr>\n",
              "      <th id=\"T_06818_level0_row43\" class=\"row_heading level0 row43\" >TAURUS</th>\n",
              "      <td id=\"T_06818_row43_col0\" class=\"data row43 col0\" >5.110000</td>\n",
              "    </tr>\n",
              "    <tr>\n",
              "      <th id=\"T_06818_level0_row44\" class=\"row_heading level0 row44\" >CIAPETRO</th>\n",
              "      <td id=\"T_06818_row44_col0\" class=\"data row44 col0\" >5.106000</td>\n",
              "    </tr>\n",
              "    <tr>\n",
              "      <th id=\"T_06818_level0_row45\" class=\"row_heading level0 row45\" >MASUT DISTRIBUIDORA</th>\n",
              "      <td id=\"T_06818_row45_col0\" class=\"data row45 col0\" >5.064000</td>\n",
              "    </tr>\n",
              "    <tr>\n",
              "      <th id=\"T_06818_level0_row46\" class=\"row_heading level0 row46\" >TORRAO</th>\n",
              "      <td id=\"T_06818_row46_col0\" class=\"data row46 col0\" >5.008000</td>\n",
              "    </tr>\n",
              "    <tr>\n",
              "      <th id=\"T_06818_level0_row47\" class=\"row_heading level0 row47\" >ROYAL FIC</th>\n",
              "      <td id=\"T_06818_row47_col0\" class=\"data row47 col0\" >4.983000</td>\n",
              "    </tr>\n",
              "    <tr>\n",
              "      <th id=\"T_06818_level0_row48\" class=\"row_heading level0 row48\" >RUFF C.J.</th>\n",
              "      <td id=\"T_06818_row48_col0\" class=\"data row48 col0\" >4.643000</td>\n",
              "    </tr>\n",
              "  </tbody>\n",
              "</table>\n"
            ],
            "text/plain": [
              "<pandas.io.formats.style.Styler at 0x7f13eac3ac90>"
            ]
          },
          "execution_count": 209,
          "metadata": {},
          "output_type": "execute_result"
        }
      ],
      "source": [
        "bandeiras = dados.groupby(['bandeira']).aggregate( {\"valor_de_venda\":\"mean\"}).round(3).sort_values('valor_de_venda', ascending=False)\n",
        "bandeiras.style.background_gradient(cmap='Oranges')"
      ]
    },
    {
      "cell_type": "markdown",
      "id": "h2G0VEgiq8-w",
      "metadata": {
        "id": "h2G0VEgiq8-w"
      },
      "source": [
        "bandeiras que oferecem maior valor por produto: \n",
        " * PETRONAC \n",
        " * EQUADOR \n",
        " * SP \n",
        "\n",
        "bandeiras que oferecem menor valor por produto: \n",
        "* TORRÃO\n",
        "* ROYAL FIC\n",
        "* RUFF C.J\n",
        "\n",
        "Fazendo uma breve pesquisa, descobrimos que as três bandeiras que oferecem maior valor por produto são localizadas principalmente no Norte e no Nordeste (Petronac  e SP - Nordeste, Equador - Norte) enquanto todas as três bandeiras que oferecem menor valor por produto são localizadas em São Paulo (Sudeste)."
      ]
    },
    {
      "cell_type": "markdown",
      "id": "5KaqBJbfy4pI",
      "metadata": {
        "id": "5KaqBJbfy4pI"
      },
      "source": [
        "### **11. Extra - Aceleração da queda dos preço**"
      ]
    },
    {
      "cell_type": "markdown",
      "id": "LYBhYjd8uDGG",
      "metadata": {
        "id": "LYBhYjd8uDGG"
      },
      "source": []
    },
    {
      "cell_type": "code",
      "execution_count": 213,
      "id": "Hy8cxRIjuD1k",
      "metadata": {
        "colab": {
          "base_uri": "https://localhost:8080/",
          "height": 238
        },
        "id": "Hy8cxRIjuD1k",
        "outputId": "40593fd5-76f1-43c6-e9ac-a4711244796e"
      },
      "outputs": [
        {
          "data": {
            "text/html": [
              "\n",
              "  <div id=\"df-dcf40e6a-edec-4698-91f9-59166e7113a7\">\n",
              "    <div class=\"colab-df-container\">\n",
              "      <div>\n",
              "<style scoped>\n",
              "    .dataframe tbody tr th:only-of-type {\n",
              "        vertical-align: middle;\n",
              "    }\n",
              "\n",
              "    .dataframe tbody tr th {\n",
              "        vertical-align: top;\n",
              "    }\n",
              "\n",
              "    .dataframe thead th {\n",
              "        text-align: right;\n",
              "    }\n",
              "</style>\n",
              "<table border=\"1\" class=\"dataframe\">\n",
              "  <thead>\n",
              "    <tr style=\"text-align: right;\">\n",
              "      <th></th>\n",
              "      <th>valor_de_venda</th>\n",
              "      <th>variacao</th>\n",
              "    </tr>\n",
              "    <tr>\n",
              "      <th>data_da_coleta</th>\n",
              "      <th></th>\n",
              "      <th></th>\n",
              "    </tr>\n",
              "  </thead>\n",
              "  <tbody>\n",
              "    <tr>\n",
              "      <th>2022-07-01</th>\n",
              "      <td>7.48</td>\n",
              "      <td>NaN</td>\n",
              "    </tr>\n",
              "    <tr>\n",
              "      <th>2022-07-04</th>\n",
              "      <td>6.59</td>\n",
              "      <td>-0.89</td>\n",
              "    </tr>\n",
              "    <tr>\n",
              "      <th>2022-07-05</th>\n",
              "      <td>6.59</td>\n",
              "      <td>0.00</td>\n",
              "    </tr>\n",
              "    <tr>\n",
              "      <th>2022-07-06</th>\n",
              "      <td>6.29</td>\n",
              "      <td>-0.30</td>\n",
              "    </tr>\n",
              "    <tr>\n",
              "      <th>2022-07-07</th>\n",
              "      <td>5.99</td>\n",
              "      <td>-0.30</td>\n",
              "    </tr>\n",
              "  </tbody>\n",
              "</table>\n",
              "</div>\n",
              "      <button class=\"colab-df-convert\" onclick=\"convertToInteractive('df-dcf40e6a-edec-4698-91f9-59166e7113a7')\"\n",
              "              title=\"Convert this dataframe to an interactive table.\"\n",
              "              style=\"display:none;\">\n",
              "        \n",
              "  <svg xmlns=\"http://www.w3.org/2000/svg\" height=\"24px\"viewBox=\"0 0 24 24\"\n",
              "       width=\"24px\">\n",
              "    <path d=\"M0 0h24v24H0V0z\" fill=\"none\"/>\n",
              "    <path d=\"M18.56 5.44l.94 2.06.94-2.06 2.06-.94-2.06-.94-.94-2.06-.94 2.06-2.06.94zm-11 1L8.5 8.5l.94-2.06 2.06-.94-2.06-.94L8.5 2.5l-.94 2.06-2.06.94zm10 10l.94 2.06.94-2.06 2.06-.94-2.06-.94-.94-2.06-.94 2.06-2.06.94z\"/><path d=\"M17.41 7.96l-1.37-1.37c-.4-.4-.92-.59-1.43-.59-.52 0-1.04.2-1.43.59L10.3 9.45l-7.72 7.72c-.78.78-.78 2.05 0 2.83L4 21.41c.39.39.9.59 1.41.59.51 0 1.02-.2 1.41-.59l7.78-7.78 2.81-2.81c.8-.78.8-2.07 0-2.86zM5.41 20L4 18.59l7.72-7.72 1.47 1.35L5.41 20z\"/>\n",
              "  </svg>\n",
              "      </button>\n",
              "      \n",
              "  <style>\n",
              "    .colab-df-container {\n",
              "      display:flex;\n",
              "      flex-wrap:wrap;\n",
              "      gap: 12px;\n",
              "    }\n",
              "\n",
              "    .colab-df-convert {\n",
              "      background-color: #E8F0FE;\n",
              "      border: none;\n",
              "      border-radius: 50%;\n",
              "      cursor: pointer;\n",
              "      display: none;\n",
              "      fill: #1967D2;\n",
              "      height: 32px;\n",
              "      padding: 0 0 0 0;\n",
              "      width: 32px;\n",
              "    }\n",
              "\n",
              "    .colab-df-convert:hover {\n",
              "      background-color: #E2EBFA;\n",
              "      box-shadow: 0px 1px 2px rgba(60, 64, 67, 0.3), 0px 1px 3px 1px rgba(60, 64, 67, 0.15);\n",
              "      fill: #174EA6;\n",
              "    }\n",
              "\n",
              "    [theme=dark] .colab-df-convert {\n",
              "      background-color: #3B4455;\n",
              "      fill: #D2E3FC;\n",
              "    }\n",
              "\n",
              "    [theme=dark] .colab-df-convert:hover {\n",
              "      background-color: #434B5C;\n",
              "      box-shadow: 0px 1px 3px 1px rgba(0, 0, 0, 0.15);\n",
              "      filter: drop-shadow(0px 1px 2px rgba(0, 0, 0, 0.3));\n",
              "      fill: #FFFFFF;\n",
              "    }\n",
              "  </style>\n",
              "\n",
              "      <script>\n",
              "        const buttonEl =\n",
              "          document.querySelector('#df-dcf40e6a-edec-4698-91f9-59166e7113a7 button.colab-df-convert');\n",
              "        buttonEl.style.display =\n",
              "          google.colab.kernel.accessAllowed ? 'block' : 'none';\n",
              "\n",
              "        async function convertToInteractive(key) {\n",
              "          const element = document.querySelector('#df-dcf40e6a-edec-4698-91f9-59166e7113a7');\n",
              "          const dataTable =\n",
              "            await google.colab.kernel.invokeFunction('convertToInteractive',\n",
              "                                                     [key], {});\n",
              "          if (!dataTable) return;\n",
              "\n",
              "          const docLinkHtml = 'Like what you see? Visit the ' +\n",
              "            '<a target=\"_blank\" href=https://colab.research.google.com/notebooks/data_table.ipynb>data table notebook</a>'\n",
              "            + ' to learn more about interactive tables.';\n",
              "          element.innerHTML = '';\n",
              "          dataTable['output_type'] = 'display_data';\n",
              "          await google.colab.output.renderOutput(dataTable, element);\n",
              "          const docLink = document.createElement('div');\n",
              "          docLink.innerHTML = docLinkHtml;\n",
              "          element.appendChild(docLink);\n",
              "        }\n",
              "      </script>\n",
              "    </div>\n",
              "  </div>\n",
              "  "
            ],
            "text/plain": [
              "                valor_de_venda  variacao\n",
              "data_da_coleta                          \n",
              "2022-07-01                7.48       NaN\n",
              "2022-07-04                6.59     -0.89\n",
              "2022-07-05                6.59      0.00\n",
              "2022-07-06                6.29     -0.30\n",
              "2022-07-07                5.99     -0.30"
            ]
          },
          "execution_count": 213,
          "metadata": {},
          "output_type": "execute_result"
        }
      ],
      "source": [
        "dados_gasolina = dados.query(\"produto == 'GASOLINA'\")\n",
        "dados_valor_medio_gasolina = dados_gasolina.groupby(\"data_da_coleta\").median()\n",
        "dados_valor_medio_gasolina[\"variacao\"] = dados_valor_medio_gasolina['valor_de_venda'].diff()\n",
        "dados_valor_medio_gasolina.head()"
      ]
    },
    {
      "cell_type": "code",
      "execution_count": 216,
      "id": "OIQkYLNE1FYa",
      "metadata": {
        "id": "OIQkYLNE1FYa"
      },
      "outputs": [],
      "source": [
        "def plotagem(titulo, labelx, labely, x, y, dataset):\n",
        "  sns.set_palette('Accent')\n",
        "  sns.set_style('darkgrid')\n",
        "  ax = sns.lineplot(x=x, y=y, data=dataset, sizes=50)\n",
        "  ax.figure.set_size_inches(12,6)\n",
        "  ax.set_title(titulo, loc='left', fontsize=18)\n",
        "  ax.set_xlabel(labelx, fontsize=10)\n",
        "  ax.tick_params(labelsize=12)\n",
        "  ax.set_ylabel(labely, fontsize=14)\n",
        "  ax = ax"
      ]
    },
    {
      "cell_type": "code",
      "execution_count": 217,
      "id": "sTpcoLg78e3y",
      "metadata": {
        "colab": {
          "base_uri": "https://localhost:8080/",
          "height": 414
        },
        "id": "sTpcoLg78e3y",
        "outputId": "f4678360-922b-4238-c2ba-1ef0f4b9a74b"
      },
      "outputs": [
        {
          "data": {
            "image/png": "[encoded data removed]",
            "text/plain": [
              "<Figure size 864x432 with 1 Axes>"
            ]
          },
          "metadata": {},
          "output_type": "display_data"
        }
      ],
      "source": [
        "plotagem('Variação do preço medio da gasolina entre Julho e agosto',\n",
        "         'Tempo',\n",
        "         'Variação (R$)',\n",
        "         'data_da_coleta',\n",
        "         'variacao',\n",
        "         dados_valor_medio_gasolina)"
      ]
    },
    {
      "cell_type": "markdown",
      "id": "dX7ppEKe6kVE",
      "metadata": {
        "id": "dX7ppEKe6kVE"
      },
      "source": [
        "### **12. Extra - Variação do preço do Etanol**"
      ]
    },
    {
      "cell_type": "code",
      "execution_count": 218,
      "id": "gPbHTaxA94Pa",
      "metadata": {
        "colab": {
          "base_uri": "https://localhost:8080/",
          "height": 238
        },
        "id": "gPbHTaxA94Pa",
        "outputId": "20dd0d45-b6e1-420a-90a3-be14a3dee50f"
      },
      "outputs": [
        {
          "data": {
            "text/html": [
              "\n",
              "  <div id=\"df-21cdca69-3fea-4033-8752-02e73b95e050\">\n",
              "    <div class=\"colab-df-container\">\n",
              "      <div>\n",
              "<style scoped>\n",
              "    .dataframe tbody tr th:only-of-type {\n",
              "        vertical-align: middle;\n",
              "    }\n",
              "\n",
              "    .dataframe tbody tr th {\n",
              "        vertical-align: top;\n",
              "    }\n",
              "\n",
              "    .dataframe thead th {\n",
              "        text-align: right;\n",
              "    }\n",
              "</style>\n",
              "<table border=\"1\" class=\"dataframe\">\n",
              "  <thead>\n",
              "    <tr style=\"text-align: right;\">\n",
              "      <th></th>\n",
              "      <th>valor_de_venda</th>\n",
              "      <th>variacao</th>\n",
              "    </tr>\n",
              "    <tr>\n",
              "      <th>data_da_coleta</th>\n",
              "      <th></th>\n",
              "      <th></th>\n",
              "    </tr>\n",
              "  </thead>\n",
              "  <tbody>\n",
              "    <tr>\n",
              "      <th>2022-07-01</th>\n",
              "      <td>5.570</td>\n",
              "      <td>NaN</td>\n",
              "    </tr>\n",
              "    <tr>\n",
              "      <th>2022-07-04</th>\n",
              "      <td>4.680</td>\n",
              "      <td>-0.890</td>\n",
              "    </tr>\n",
              "    <tr>\n",
              "      <th>2022-07-05</th>\n",
              "      <td>5.185</td>\n",
              "      <td>0.505</td>\n",
              "    </tr>\n",
              "    <tr>\n",
              "      <th>2022-07-06</th>\n",
              "      <td>4.750</td>\n",
              "      <td>-0.435</td>\n",
              "    </tr>\n",
              "    <tr>\n",
              "      <th>2022-07-07</th>\n",
              "      <td>4.755</td>\n",
              "      <td>0.005</td>\n",
              "    </tr>\n",
              "  </tbody>\n",
              "</table>\n",
              "</div>\n",
              "      <button class=\"colab-df-convert\" onclick=\"convertToInteractive('df-21cdca69-3fea-4033-8752-02e73b95e050')\"\n",
              "              title=\"Convert this dataframe to an interactive table.\"\n",
              "              style=\"display:none;\">\n",
              "        \n",
              "  <svg xmlns=\"http://www.w3.org/2000/svg\" height=\"24px\"viewBox=\"0 0 24 24\"\n",
              "       width=\"24px\">\n",
              "    <path d=\"M0 0h24v24H0V0z\" fill=\"none\"/>\n",
              "    <path d=\"M18.56 5.44l.94 2.06.94-2.06 2.06-.94-2.06-.94-.94-2.06-.94 2.06-2.06.94zm-11 1L8.5 8.5l.94-2.06 2.06-.94-2.06-.94L8.5 2.5l-.94 2.06-2.06.94zm10 10l.94 2.06.94-2.06 2.06-.94-2.06-.94-.94-2.06-.94 2.06-2.06.94z\"/><path d=\"M17.41 7.96l-1.37-1.37c-.4-.4-.92-.59-1.43-.59-.52 0-1.04.2-1.43.59L10.3 9.45l-7.72 7.72c-.78.78-.78 2.05 0 2.83L4 21.41c.39.39.9.59 1.41.59.51 0 1.02-.2 1.41-.59l7.78-7.78 2.81-2.81c.8-.78.8-2.07 0-2.86zM5.41 20L4 18.59l7.72-7.72 1.47 1.35L5.41 20z\"/>\n",
              "  </svg>\n",
              "      </button>\n",
              "      \n",
              "  <style>\n",
              "    .colab-df-container {\n",
              "      display:flex;\n",
              "      flex-wrap:wrap;\n",
              "      gap: 12px;\n",
              "    }\n",
              "\n",
              "    .colab-df-convert {\n",
              "      background-color: #E8F0FE;\n",
              "      border: none;\n",
              "      border-radius: 50%;\n",
              "      cursor: pointer;\n",
              "      display: none;\n",
              "      fill: #1967D2;\n",
              "      height: 32px;\n",
              "      padding: 0 0 0 0;\n",
              "      width: 32px;\n",
              "    }\n",
              "\n",
              "    .colab-df-convert:hover {\n",
              "      background-color: #E2EBFA;\n",
              "      box-shadow: 0px 1px 2px rgba(60, 64, 67, 0.3), 0px 1px 3px 1px rgba(60, 64, 67, 0.15);\n",
              "      fill: #174EA6;\n",
              "    }\n",
              "\n",
              "    [theme=dark] .colab-df-convert {\n",
              "      background-color: #3B4455;\n",
              "      fill: #D2E3FC;\n",
              "    }\n",
              "\n",
              "    [theme=dark] .colab-df-convert:hover {\n",
              "      background-color: #434B5C;\n",
              "      box-shadow: 0px 1px 3px 1px rgba(0, 0, 0, 0.15);\n",
              "      filter: drop-shadow(0px 1px 2px rgba(0, 0, 0, 0.3));\n",
              "      fill: #FFFFFF;\n",
              "    }\n",
              "  </style>\n",
              "\n",
              "      <script>\n",
              "        const buttonEl =\n",
              "          document.querySelector('#df-21cdca69-3fea-4033-8752-02e73b95e050 button.colab-df-convert');\n",
              "        buttonEl.style.display =\n",
              "          google.colab.kernel.accessAllowed ? 'block' : 'none';\n",
              "\n",
              "        async function convertToInteractive(key) {\n",
              "          const element = document.querySelector('#df-21cdca69-3fea-4033-8752-02e73b95e050');\n",
              "          const dataTable =\n",
              "            await google.colab.kernel.invokeFunction('convertToInteractive',\n",
              "                                                     [key], {});\n",
              "          if (!dataTable) return;\n",
              "\n",
              "          const docLinkHtml = 'Like what you see? Visit the ' +\n",
              "            '<a target=\"_blank\" href=https://colab.research.google.com/notebooks/data_table.ipynb>data table notebook</a>'\n",
              "            + ' to learn more about interactive tables.';\n",
              "          element.innerHTML = '';\n",
              "          dataTable['output_type'] = 'display_data';\n",
              "          await google.colab.output.renderOutput(dataTable, element);\n",
              "          const docLink = document.createElement('div');\n",
              "          docLink.innerHTML = docLinkHtml;\n",
              "          element.appendChild(docLink);\n",
              "        }\n",
              "      </script>\n",
              "    </div>\n",
              "  </div>\n",
              "  "
            ],
            "text/plain": [
              "                valor_de_venda  variacao\n",
              "data_da_coleta                          \n",
              "2022-07-01               5.570       NaN\n",
              "2022-07-04               4.680    -0.890\n",
              "2022-07-05               5.185     0.505\n",
              "2022-07-06               4.750    -0.435\n",
              "2022-07-07               4.755     0.005"
            ]
          },
          "execution_count": 218,
          "metadata": {},
          "output_type": "execute_result"
        }
      ],
      "source": [
        "dados_etanol = dados.query(\"produto == 'ETANOL'\")\n",
        "dados_valor_medio_etanol = dados_etanol.groupby(\"data_da_coleta\").median()\n",
        "dados_valor_medio_etanol\n",
        "dados_valor_medio_etanol[\"variacao\"] = dados_valor_medio_etanol['valor_de_venda'].diff()\n",
        "dados_valor_medio_etanol.head()"
      ]
    },
    {
      "cell_type": "code",
      "execution_count": 219,
      "id": "5Vv5ZsnD6r66",
      "metadata": {
        "colab": {
          "base_uri": "https://localhost:8080/",
          "height": 414
        },
        "id": "5Vv5ZsnD6r66",
        "outputId": "efce2e44-5db2-44c0-a3f3-d5f7440cfee0"
      },
      "outputs": [
        {
          "data": {
            "image/png": "[encoded data removed]",
            "text/plain": [
              "<Figure size 864x432 with 1 Axes>"
            ]
          },
          "metadata": {},
          "output_type": "display_data"
        }
      ],
      "source": [
        "plotagem('Variação media do valor de venda da Etanol entre Julho e agosto',\n",
        "         'Tempo',\n",
        "         'Variação',\n",
        "         'data_da_coleta',\n",
        "         'variacao',\n",
        "         dados_valor_medio_etanol)"
      ]
    }
  ],
  "metadata": {
    "colab": {
      "collapsed_sections": [
        "581082a2",
        "19c169b4",
        "29859f30",
        "de72661a",
        "eac24cf0",
        "333ceebc",
        "6380cc97",
        "5a5ce2be",
        "fe4fb906",
        "caecfb3d",
        "428fbdf4",
        "70b18086",
        "d41c799b",
        "B-Hb2sg46qV7",
        "ukomp0ng5txq",
        "KkdEsHVm7Npe",
        "g-gEW7p27eHn",
        "5sse181N_fGo",
        "DV3_aiBs7o1T"
      ],
      "provenance": [],
      "toc_visible": true
    },
    "kernelspec": {
      "display_name": "Python 3 (ipykernel)",
      "language": "python",
      "name": "python3"
    },
    "language_info": {
      "codemirror_mode": {
        "name": "ipython",
        "version": 3
      },
      "file_extension": ".py",
      "mimetype": "text/x-python",
      "name": "python",
      "nbconvert_exporter": "python",
      "pygments_lexer": "ipython3",
      "version": "3.9.12"
    },
    "vscode": {
      "interpreter": {
        "hash": "26de051ba29f2982a8de78e945f0abaf191376122a1563185a90213a26c5da77"
      }
    }
  },
  "nbformat": 4,
  "nbformat_minor": 5
}

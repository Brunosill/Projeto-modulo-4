{
  "cells": [
    {
      "cell_type": "markdown",
      "id": "581082a2",
      "metadata": {
        "id": "581082a2"
      },
      "source": [
        "#  Limpeza e adequação da nomenclatura "
      ]
    },
    {
      "cell_type": "markdown",
      "id": "19c169b4",
      "metadata": {
        "id": "19c169b4"
      },
      "source": [
        "## Entrada dos dados"
      ]
    },
    {
      "cell_type": "markdown",
      "id": "29859f30",
      "metadata": {
        "id": "29859f30"
      },
      "source": [
        "### Preparando ambiente"
      ]
    },
    {
      "cell_type": "code",
      "execution_count": 85,
      "id": "56ce07d4",
      "metadata": {
        "id": "56ce07d4"
      },
      "outputs": [],
      "source": [
        "#importando bibliotecas \n",
        "import pandas as pd\n",
        "import numpy as np\n",
        "import seaborn as sns\n",
        "import matplotlib\n",
        "import matplotlib.pyplot as plt"
      ]
    },
    {
      "cell_type": "markdown",
      "id": "de72661a",
      "metadata": {
        "id": "de72661a"
      },
      "source": [
        "### Importando dados de julho de 2022"
      ]
    },
    {
      "cell_type": "code",
      "execution_count": 86,
      "id": "9361be54",
      "metadata": {
        "colab": {
          "base_uri": "https://localhost:8080/",
          "height": 0
        },
        "id": "9361be54",
        "outputId": "ec1805b9-2faa-4bc5-a14c-c8e41fd99759"
      },
      "outputs": [
        {
          "output_type": "execute_result",
          "data": {
            "text/plain": [
              "  Regiao - Sigla Estado - Sigla Municipio  \\\n",
              "0             SE             ES  COLATINA   \n",
              "1             SE             ES  COLATINA   \n",
              "2             SE             ES  COLATINA   \n",
              "3             SE             ES  COLATINA   \n",
              "4             CO             GO   GOIANIA   \n",
              "\n",
              "                                             Revenda      CNPJ da Revenda  \\\n",
              "0  SAO FRANCISCO DE ASSIS COMERCIO DE COMBUSTIVEI...   08.519.545/0001-10   \n",
              "1  SAO FRANCISCO DE ASSIS COMERCIO DE COMBUSTIVEI...   08.519.545/0001-10   \n",
              "2                                 POSTO MOTOCAP LTDA   04.814.652/0001-10   \n",
              "3                                 POSTO MOTOCAP LTDA   04.814.652/0001-10   \n",
              "4                       JUSTINIANO & JUSTINIANO LTDA   04.489.287/0001-16   \n",
              "\n",
              "                    Nome da Rua Numero Rua         Complemento  \\\n",
              "0         PRACA FIDELIS FERRARI         35                 NaN   \n",
              "1         PRACA FIDELIS FERRARI         35                 NaN   \n",
              "2       PRACA ALMIRANTE BARROSO         52             LETRA A   \n",
              "3       PRACA ALMIRANTE BARROSO         52             LETRA A   \n",
              "4  AVENIDA JOSE LEANDRO DA CRUZ       2,36  QUADRA 18, LOTE 01   \n",
              "\n",
              "            Bairro        Cep             Produto Data da Coleta  \\\n",
              "0             LACE  29703-030  GASOLINA ADITIVADA     01/07/2022   \n",
              "1             LACE  29703-030            GASOLINA     01/07/2022   \n",
              "2             LACE  29703-055              ETANOL     01/07/2022   \n",
              "3             LACE  29703-055            GASOLINA     01/07/2022   \n",
              "4  PARQUE AMAZONIA  74840-390  GASOLINA ADITIVADA     01/07/2022   \n",
              "\n",
              "  Valor de Venda  Valor de Compra Unidade de Medida       Bandeira  \n",
              "0           7,48              NaN        R$ / litro  VIBRA ENERGIA  \n",
              "1           7,38              NaN        R$ / litro  VIBRA ENERGIA  \n",
              "2           5,99              NaN        R$ / litro  VIBRA ENERGIA  \n",
              "3           7,39              NaN        R$ / litro  VIBRA ENERGIA  \n",
              "4           6,49              NaN        R$ / litro       IPIRANGA  "
            ],
            "text/html": [
              "\n",
              "  <div id=\"df-c558767b-d862-46f3-9fe9-68b98db96fca\">\n",
              "    <div class=\"colab-df-container\">\n",
              "      <div>\n",
              "<style scoped>\n",
              "    .dataframe tbody tr th:only-of-type {\n",
              "        vertical-align: middle;\n",
              "    }\n",
              "\n",
              "    .dataframe tbody tr th {\n",
              "        vertical-align: top;\n",
              "    }\n",
              "\n",
              "    .dataframe thead th {\n",
              "        text-align: right;\n",
              "    }\n",
              "</style>\n",
              "<table border=\"1\" class=\"dataframe\">\n",
              "  <thead>\n",
              "    <tr style=\"text-align: right;\">\n",
              "      <th></th>\n",
              "      <th>Regiao - Sigla</th>\n",
              "      <th>Estado - Sigla</th>\n",
              "      <th>Municipio</th>\n",
              "      <th>Revenda</th>\n",
              "      <th>CNPJ da Revenda</th>\n",
              "      <th>Nome da Rua</th>\n",
              "      <th>Numero Rua</th>\n",
              "      <th>Complemento</th>\n",
              "      <th>Bairro</th>\n",
              "      <th>Cep</th>\n",
              "      <th>Produto</th>\n",
              "      <th>Data da Coleta</th>\n",
              "      <th>Valor de Venda</th>\n",
              "      <th>Valor de Compra</th>\n",
              "      <th>Unidade de Medida</th>\n",
              "      <th>Bandeira</th>\n",
              "    </tr>\n",
              "  </thead>\n",
              "  <tbody>\n",
              "    <tr>\n",
              "      <th>0</th>\n",
              "      <td>SE</td>\n",
              "      <td>ES</td>\n",
              "      <td>COLATINA</td>\n",
              "      <td>SAO FRANCISCO DE ASSIS COMERCIO DE COMBUSTIVEI...</td>\n",
              "      <td>08.519.545/0001-10</td>\n",
              "      <td>PRACA FIDELIS FERRARI</td>\n",
              "      <td>35</td>\n",
              "      <td>NaN</td>\n",
              "      <td>LACE</td>\n",
              "      <td>29703-030</td>\n",
              "      <td>GASOLINA ADITIVADA</td>\n",
              "      <td>01/07/2022</td>\n",
              "      <td>7,48</td>\n",
              "      <td>NaN</td>\n",
              "      <td>R$ / litro</td>\n",
              "      <td>VIBRA ENERGIA</td>\n",
              "    </tr>\n",
              "    <tr>\n",
              "      <th>1</th>\n",
              "      <td>SE</td>\n",
              "      <td>ES</td>\n",
              "      <td>COLATINA</td>\n",
              "      <td>SAO FRANCISCO DE ASSIS COMERCIO DE COMBUSTIVEI...</td>\n",
              "      <td>08.519.545/0001-10</td>\n",
              "      <td>PRACA FIDELIS FERRARI</td>\n",
              "      <td>35</td>\n",
              "      <td>NaN</td>\n",
              "      <td>LACE</td>\n",
              "      <td>29703-030</td>\n",
              "      <td>GASOLINA</td>\n",
              "      <td>01/07/2022</td>\n",
              "      <td>7,38</td>\n",
              "      <td>NaN</td>\n",
              "      <td>R$ / litro</td>\n",
              "      <td>VIBRA ENERGIA</td>\n",
              "    </tr>\n",
              "    <tr>\n",
              "      <th>2</th>\n",
              "      <td>SE</td>\n",
              "      <td>ES</td>\n",
              "      <td>COLATINA</td>\n",
              "      <td>POSTO MOTOCAP LTDA</td>\n",
              "      <td>04.814.652/0001-10</td>\n",
              "      <td>PRACA ALMIRANTE BARROSO</td>\n",
              "      <td>52</td>\n",
              "      <td>LETRA A</td>\n",
              "      <td>LACE</td>\n",
              "      <td>29703-055</td>\n",
              "      <td>ETANOL</td>\n",
              "      <td>01/07/2022</td>\n",
              "      <td>5,99</td>\n",
              "      <td>NaN</td>\n",
              "      <td>R$ / litro</td>\n",
              "      <td>VIBRA ENERGIA</td>\n",
              "    </tr>\n",
              "    <tr>\n",
              "      <th>3</th>\n",
              "      <td>SE</td>\n",
              "      <td>ES</td>\n",
              "      <td>COLATINA</td>\n",
              "      <td>POSTO MOTOCAP LTDA</td>\n",
              "      <td>04.814.652/0001-10</td>\n",
              "      <td>PRACA ALMIRANTE BARROSO</td>\n",
              "      <td>52</td>\n",
              "      <td>LETRA A</td>\n",
              "      <td>LACE</td>\n",
              "      <td>29703-055</td>\n",
              "      <td>GASOLINA</td>\n",
              "      <td>01/07/2022</td>\n",
              "      <td>7,39</td>\n",
              "      <td>NaN</td>\n",
              "      <td>R$ / litro</td>\n",
              "      <td>VIBRA ENERGIA</td>\n",
              "    </tr>\n",
              "    <tr>\n",
              "      <th>4</th>\n",
              "      <td>CO</td>\n",
              "      <td>GO</td>\n",
              "      <td>GOIANIA</td>\n",
              "      <td>JUSTINIANO &amp; JUSTINIANO LTDA</td>\n",
              "      <td>04.489.287/0001-16</td>\n",
              "      <td>AVENIDA JOSE LEANDRO DA CRUZ</td>\n",
              "      <td>2,36</td>\n",
              "      <td>QUADRA 18, LOTE 01</td>\n",
              "      <td>PARQUE AMAZONIA</td>\n",
              "      <td>74840-390</td>\n",
              "      <td>GASOLINA ADITIVADA</td>\n",
              "      <td>01/07/2022</td>\n",
              "      <td>6,49</td>\n",
              "      <td>NaN</td>\n",
              "      <td>R$ / litro</td>\n",
              "      <td>IPIRANGA</td>\n",
              "    </tr>\n",
              "  </tbody>\n",
              "</table>\n",
              "</div>\n",
              "      <button class=\"colab-df-convert\" onclick=\"convertToInteractive('df-c558767b-d862-46f3-9fe9-68b98db96fca')\"\n",
              "              title=\"Convert this dataframe to an interactive table.\"\n",
              "              style=\"display:none;\">\n",
              "        \n",
              "  <svg xmlns=\"http://www.w3.org/2000/svg\" height=\"24px\"viewBox=\"0 0 24 24\"\n",
              "       width=\"24px\">\n",
              "    <path d=\"M0 0h24v24H0V0z\" fill=\"none\"/>\n",
              "    <path d=\"M18.56 5.44l.94 2.06.94-2.06 2.06-.94-2.06-.94-.94-2.06-.94 2.06-2.06.94zm-11 1L8.5 8.5l.94-2.06 2.06-.94-2.06-.94L8.5 2.5l-.94 2.06-2.06.94zm10 10l.94 2.06.94-2.06 2.06-.94-2.06-.94-.94-2.06-.94 2.06-2.06.94z\"/><path d=\"M17.41 7.96l-1.37-1.37c-.4-.4-.92-.59-1.43-.59-.52 0-1.04.2-1.43.59L10.3 9.45l-7.72 7.72c-.78.78-.78 2.05 0 2.83L4 21.41c.39.39.9.59 1.41.59.51 0 1.02-.2 1.41-.59l7.78-7.78 2.81-2.81c.8-.78.8-2.07 0-2.86zM5.41 20L4 18.59l7.72-7.72 1.47 1.35L5.41 20z\"/>\n",
              "  </svg>\n",
              "      </button>\n",
              "      \n",
              "  <style>\n",
              "    .colab-df-container {\n",
              "      display:flex;\n",
              "      flex-wrap:wrap;\n",
              "      gap: 12px;\n",
              "    }\n",
              "\n",
              "    .colab-df-convert {\n",
              "      background-color: #E8F0FE;\n",
              "      border: none;\n",
              "      border-radius: 50%;\n",
              "      cursor: pointer;\n",
              "      display: none;\n",
              "      fill: #1967D2;\n",
              "      height: 32px;\n",
              "      padding: 0 0 0 0;\n",
              "      width: 32px;\n",
              "    }\n",
              "\n",
              "    .colab-df-convert:hover {\n",
              "      background-color: #E2EBFA;\n",
              "      box-shadow: 0px 1px 2px rgba(60, 64, 67, 0.3), 0px 1px 3px 1px rgba(60, 64, 67, 0.15);\n",
              "      fill: #174EA6;\n",
              "    }\n",
              "\n",
              "    [theme=dark] .colab-df-convert {\n",
              "      background-color: #3B4455;\n",
              "      fill: #D2E3FC;\n",
              "    }\n",
              "\n",
              "    [theme=dark] .colab-df-convert:hover {\n",
              "      background-color: #434B5C;\n",
              "      box-shadow: 0px 1px 3px 1px rgba(0, 0, 0, 0.15);\n",
              "      filter: drop-shadow(0px 1px 2px rgba(0, 0, 0, 0.3));\n",
              "      fill: #FFFFFF;\n",
              "    }\n",
              "  </style>\n",
              "\n",
              "      <script>\n",
              "        const buttonEl =\n",
              "          document.querySelector('#df-c558767b-d862-46f3-9fe9-68b98db96fca button.colab-df-convert');\n",
              "        buttonEl.style.display =\n",
              "          google.colab.kernel.accessAllowed ? 'block' : 'none';\n",
              "\n",
              "        async function convertToInteractive(key) {\n",
              "          const element = document.querySelector('#df-c558767b-d862-46f3-9fe9-68b98db96fca');\n",
              "          const dataTable =\n",
              "            await google.colab.kernel.invokeFunction('convertToInteractive',\n",
              "                                                     [key], {});\n",
              "          if (!dataTable) return;\n",
              "\n",
              "          const docLinkHtml = 'Like what you see? Visit the ' +\n",
              "            '<a target=\"_blank\" href=https://colab.research.google.com/notebooks/data_table.ipynb>data table notebook</a>'\n",
              "            + ' to learn more about interactive tables.';\n",
              "          element.innerHTML = '';\n",
              "          dataTable['output_type'] = 'display_data';\n",
              "          await google.colab.output.renderOutput(dataTable, element);\n",
              "          const docLink = document.createElement('div');\n",
              "          docLink.innerHTML = docLinkHtml;\n",
              "          element.appendChild(docLink);\n",
              "        }\n",
              "      </script>\n",
              "    </div>\n",
              "  </div>\n",
              "  "
            ]
          },
          "metadata": {},
          "execution_count": 86
        }
      ],
      "source": [
        "def julhoCsv():\n",
        "        try:\n",
        "          url_julho = 'https://www.gov.br/anp/pt-br/centrais-de-conteudo/dados-abertos/arquivos/shpc/dsan/2022/precos-gasolina-etanol-07.csv'\n",
        "          dados_brutos_julho = pd.read_csv(url_julho, sep=';')\n",
        "          return dados_brutos_julho\n",
        "\n",
        "        except:\n",
        "          url_julho = 'https://raw.githubusercontent.com/lucasCanella/Projeto-modulo-4/colab1/dados/dados_originais/precos-gasolina-etanol-julho.csv'\n",
        "          dados_brutos_julho = pd.read_csv(url_julho, sep=';')\n",
        "          return dados_brutos_julho\n",
        "\n",
        "dados_brutos_julho = julhoCsv()\n",
        "dados_brutos_julho.head()"
      ]
    },
    {
      "cell_type": "markdown",
      "id": "eac24cf0",
      "metadata": {
        "id": "eac24cf0"
      },
      "source": [
        "### Importando dados de agosto de 2022"
      ]
    },
    {
      "cell_type": "code",
      "execution_count": 87,
      "id": "87afea01",
      "metadata": {
        "colab": {
          "base_uri": "https://localhost:8080/",
          "height": 0
        },
        "id": "87afea01",
        "outputId": "57368aea-5c52-4ebf-e2c1-3981233aa056"
      },
      "outputs": [
        {
          "output_type": "execute_result",
          "data": {
            "text/plain": [
              "  Regiao - Sigla Estado - Sigla  Municipio                        Revenda  \\\n",
              "0             NE             AL  ARAPIRACA    AUTO POSTO M M GARROTE LTDA   \n",
              "1             NE             AL  ARAPIRACA    AUTO POSTO M M GARROTE LTDA   \n",
              "2             NE             AL  ARAPIRACA  AUTO POSTO MASSARANDUBA LTDA.   \n",
              "3             NE             AL  ARAPIRACA  AUTO POSTO MASSARANDUBA LTDA.   \n",
              "4             NE             AL  ARAPIRACA  AUTO POSTO MASSARANDUBA LTDA.   \n",
              "\n",
              "       CNPJ da Revenda     Nome da Rua Numero Rua Complemento       Bairro  \\\n",
              "0   08.738.994/0001-50  RODOVIA AL-220       5848    KM    96  BOM SUCESSO   \n",
              "1   08.738.994/0001-50  RODOVIA AL-220       5848    KM    96  BOM SUCESSO   \n",
              "2   07.248.398/0001-29  RODOVIA AL 220       4698         NaN     PLANALTO   \n",
              "3   07.248.398/0001-29  RODOVIA AL 220       4698         NaN     PLANALTO   \n",
              "4   07.248.398/0001-29  RODOVIA AL 220       4698         NaN     PLANALTO   \n",
              "\n",
              "         Cep             Produto Data da Coleta Valor de Venda  \\\n",
              "0  57309-035              ETANOL     01/08/2022           4,79   \n",
              "1  57309-035            GASOLINA     01/08/2022           5,59   \n",
              "2  57308-000  GASOLINA ADITIVADA     01/08/2022           5,99   \n",
              "3  57308-000              ETANOL     01/08/2022           4,99   \n",
              "4  57308-000            GASOLINA     01/08/2022           5,79   \n",
              "\n",
              "   Valor de Compra Unidade de Medida       Bandeira  \n",
              "0              NaN        R$ / litro  VIBRA ENERGIA  \n",
              "1              NaN        R$ / litro  VIBRA ENERGIA  \n",
              "2              NaN        R$ / litro         BRANCA  \n",
              "3              NaN        R$ / litro         BRANCA  \n",
              "4              NaN        R$ / litro         BRANCA  "
            ],
            "text/html": [
              "\n",
              "  <div id=\"df-07a5d35e-e43a-4ebe-a59c-68f28c805cf5\">\n",
              "    <div class=\"colab-df-container\">\n",
              "      <div>\n",
              "<style scoped>\n",
              "    .dataframe tbody tr th:only-of-type {\n",
              "        vertical-align: middle;\n",
              "    }\n",
              "\n",
              "    .dataframe tbody tr th {\n",
              "        vertical-align: top;\n",
              "    }\n",
              "\n",
              "    .dataframe thead th {\n",
              "        text-align: right;\n",
              "    }\n",
              "</style>\n",
              "<table border=\"1\" class=\"dataframe\">\n",
              "  <thead>\n",
              "    <tr style=\"text-align: right;\">\n",
              "      <th></th>\n",
              "      <th>Regiao - Sigla</th>\n",
              "      <th>Estado - Sigla</th>\n",
              "      <th>Municipio</th>\n",
              "      <th>Revenda</th>\n",
              "      <th>CNPJ da Revenda</th>\n",
              "      <th>Nome da Rua</th>\n",
              "      <th>Numero Rua</th>\n",
              "      <th>Complemento</th>\n",
              "      <th>Bairro</th>\n",
              "      <th>Cep</th>\n",
              "      <th>Produto</th>\n",
              "      <th>Data da Coleta</th>\n",
              "      <th>Valor de Venda</th>\n",
              "      <th>Valor de Compra</th>\n",
              "      <th>Unidade de Medida</th>\n",
              "      <th>Bandeira</th>\n",
              "    </tr>\n",
              "  </thead>\n",
              "  <tbody>\n",
              "    <tr>\n",
              "      <th>0</th>\n",
              "      <td>NE</td>\n",
              "      <td>AL</td>\n",
              "      <td>ARAPIRACA</td>\n",
              "      <td>AUTO POSTO M M GARROTE LTDA</td>\n",
              "      <td>08.738.994/0001-50</td>\n",
              "      <td>RODOVIA AL-220</td>\n",
              "      <td>5848</td>\n",
              "      <td>KM    96</td>\n",
              "      <td>BOM SUCESSO</td>\n",
              "      <td>57309-035</td>\n",
              "      <td>ETANOL</td>\n",
              "      <td>01/08/2022</td>\n",
              "      <td>4,79</td>\n",
              "      <td>NaN</td>\n",
              "      <td>R$ / litro</td>\n",
              "      <td>VIBRA ENERGIA</td>\n",
              "    </tr>\n",
              "    <tr>\n",
              "      <th>1</th>\n",
              "      <td>NE</td>\n",
              "      <td>AL</td>\n",
              "      <td>ARAPIRACA</td>\n",
              "      <td>AUTO POSTO M M GARROTE LTDA</td>\n",
              "      <td>08.738.994/0001-50</td>\n",
              "      <td>RODOVIA AL-220</td>\n",
              "      <td>5848</td>\n",
              "      <td>KM    96</td>\n",
              "      <td>BOM SUCESSO</td>\n",
              "      <td>57309-035</td>\n",
              "      <td>GASOLINA</td>\n",
              "      <td>01/08/2022</td>\n",
              "      <td>5,59</td>\n",
              "      <td>NaN</td>\n",
              "      <td>R$ / litro</td>\n",
              "      <td>VIBRA ENERGIA</td>\n",
              "    </tr>\n",
              "    <tr>\n",
              "      <th>2</th>\n",
              "      <td>NE</td>\n",
              "      <td>AL</td>\n",
              "      <td>ARAPIRACA</td>\n",
              "      <td>AUTO POSTO MASSARANDUBA LTDA.</td>\n",
              "      <td>07.248.398/0001-29</td>\n",
              "      <td>RODOVIA AL 220</td>\n",
              "      <td>4698</td>\n",
              "      <td>NaN</td>\n",
              "      <td>PLANALTO</td>\n",
              "      <td>57308-000</td>\n",
              "      <td>GASOLINA ADITIVADA</td>\n",
              "      <td>01/08/2022</td>\n",
              "      <td>5,99</td>\n",
              "      <td>NaN</td>\n",
              "      <td>R$ / litro</td>\n",
              "      <td>BRANCA</td>\n",
              "    </tr>\n",
              "    <tr>\n",
              "      <th>3</th>\n",
              "      <td>NE</td>\n",
              "      <td>AL</td>\n",
              "      <td>ARAPIRACA</td>\n",
              "      <td>AUTO POSTO MASSARANDUBA LTDA.</td>\n",
              "      <td>07.248.398/0001-29</td>\n",
              "      <td>RODOVIA AL 220</td>\n",
              "      <td>4698</td>\n",
              "      <td>NaN</td>\n",
              "      <td>PLANALTO</td>\n",
              "      <td>57308-000</td>\n",
              "      <td>ETANOL</td>\n",
              "      <td>01/08/2022</td>\n",
              "      <td>4,99</td>\n",
              "      <td>NaN</td>\n",
              "      <td>R$ / litro</td>\n",
              "      <td>BRANCA</td>\n",
              "    </tr>\n",
              "    <tr>\n",
              "      <th>4</th>\n",
              "      <td>NE</td>\n",
              "      <td>AL</td>\n",
              "      <td>ARAPIRACA</td>\n",
              "      <td>AUTO POSTO MASSARANDUBA LTDA.</td>\n",
              "      <td>07.248.398/0001-29</td>\n",
              "      <td>RODOVIA AL 220</td>\n",
              "      <td>4698</td>\n",
              "      <td>NaN</td>\n",
              "      <td>PLANALTO</td>\n",
              "      <td>57308-000</td>\n",
              "      <td>GASOLINA</td>\n",
              "      <td>01/08/2022</td>\n",
              "      <td>5,79</td>\n",
              "      <td>NaN</td>\n",
              "      <td>R$ / litro</td>\n",
              "      <td>BRANCA</td>\n",
              "    </tr>\n",
              "  </tbody>\n",
              "</table>\n",
              "</div>\n",
              "      <button class=\"colab-df-convert\" onclick=\"convertToInteractive('df-07a5d35e-e43a-4ebe-a59c-68f28c805cf5')\"\n",
              "              title=\"Convert this dataframe to an interactive table.\"\n",
              "              style=\"display:none;\">\n",
              "        \n",
              "  <svg xmlns=\"http://www.w3.org/2000/svg\" height=\"24px\"viewBox=\"0 0 24 24\"\n",
              "       width=\"24px\">\n",
              "    <path d=\"M0 0h24v24H0V0z\" fill=\"none\"/>\n",
              "    <path d=\"M18.56 5.44l.94 2.06.94-2.06 2.06-.94-2.06-.94-.94-2.06-.94 2.06-2.06.94zm-11 1L8.5 8.5l.94-2.06 2.06-.94-2.06-.94L8.5 2.5l-.94 2.06-2.06.94zm10 10l.94 2.06.94-2.06 2.06-.94-2.06-.94-.94-2.06-.94 2.06-2.06.94z\"/><path d=\"M17.41 7.96l-1.37-1.37c-.4-.4-.92-.59-1.43-.59-.52 0-1.04.2-1.43.59L10.3 9.45l-7.72 7.72c-.78.78-.78 2.05 0 2.83L4 21.41c.39.39.9.59 1.41.59.51 0 1.02-.2 1.41-.59l7.78-7.78 2.81-2.81c.8-.78.8-2.07 0-2.86zM5.41 20L4 18.59l7.72-7.72 1.47 1.35L5.41 20z\"/>\n",
              "  </svg>\n",
              "      </button>\n",
              "      \n",
              "  <style>\n",
              "    .colab-df-container {\n",
              "      display:flex;\n",
              "      flex-wrap:wrap;\n",
              "      gap: 12px;\n",
              "    }\n",
              "\n",
              "    .colab-df-convert {\n",
              "      background-color: #E8F0FE;\n",
              "      border: none;\n",
              "      border-radius: 50%;\n",
              "      cursor: pointer;\n",
              "      display: none;\n",
              "      fill: #1967D2;\n",
              "      height: 32px;\n",
              "      padding: 0 0 0 0;\n",
              "      width: 32px;\n",
              "    }\n",
              "\n",
              "    .colab-df-convert:hover {\n",
              "      background-color: #E2EBFA;\n",
              "      box-shadow: 0px 1px 2px rgba(60, 64, 67, 0.3), 0px 1px 3px 1px rgba(60, 64, 67, 0.15);\n",
              "      fill: #174EA6;\n",
              "    }\n",
              "\n",
              "    [theme=dark] .colab-df-convert {\n",
              "      background-color: #3B4455;\n",
              "      fill: #D2E3FC;\n",
              "    }\n",
              "\n",
              "    [theme=dark] .colab-df-convert:hover {\n",
              "      background-color: #434B5C;\n",
              "      box-shadow: 0px 1px 3px 1px rgba(0, 0, 0, 0.15);\n",
              "      filter: drop-shadow(0px 1px 2px rgba(0, 0, 0, 0.3));\n",
              "      fill: #FFFFFF;\n",
              "    }\n",
              "  </style>\n",
              "\n",
              "      <script>\n",
              "        const buttonEl =\n",
              "          document.querySelector('#df-07a5d35e-e43a-4ebe-a59c-68f28c805cf5 button.colab-df-convert');\n",
              "        buttonEl.style.display =\n",
              "          google.colab.kernel.accessAllowed ? 'block' : 'none';\n",
              "\n",
              "        async function convertToInteractive(key) {\n",
              "          const element = document.querySelector('#df-07a5d35e-e43a-4ebe-a59c-68f28c805cf5');\n",
              "          const dataTable =\n",
              "            await google.colab.kernel.invokeFunction('convertToInteractive',\n",
              "                                                     [key], {});\n",
              "          if (!dataTable) return;\n",
              "\n",
              "          const docLinkHtml = 'Like what you see? Visit the ' +\n",
              "            '<a target=\"_blank\" href=https://colab.research.google.com/notebooks/data_table.ipynb>data table notebook</a>'\n",
              "            + ' to learn more about interactive tables.';\n",
              "          element.innerHTML = '';\n",
              "          dataTable['output_type'] = 'display_data';\n",
              "          await google.colab.output.renderOutput(dataTable, element);\n",
              "          const docLink = document.createElement('div');\n",
              "          docLink.innerHTML = docLinkHtml;\n",
              "          element.appendChild(docLink);\n",
              "        }\n",
              "      </script>\n",
              "    </div>\n",
              "  </div>\n",
              "  "
            ]
          },
          "metadata": {},
          "execution_count": 87
        }
      ],
      "source": [
        "def agostoCsv():\n",
        "        try:\n",
        "          url_agosto = 'https://www.gov.br/anp/pt-br/centrais-de-conteudo/dados-abertos/arquivos/shpc/dsan/2022/precos-gasolina-etanol-08.csv'\n",
        "          dados_brutos_agosto = pd.read_csv(url_agosto, sep=';')\n",
        "          return dados_brutos_agosto\n",
        "\n",
        "        except:\n",
        "          url_agosto = 'https://raw.githubusercontent.com/lucasCanella/Projeto-modulo-4/colab1/dados/dados_originais/precos-gasolina-etanol-agosto.csv'\n",
        "\n",
        "          dados_brutos_agosto = pd.read_csv(url_agosto, sep=';')\n",
        "          return dados_brutos_agosto\n",
        "\n",
        "dados_brutos_agosto = agostoCsv()\n",
        "dados_brutos_agosto.head()"
      ]
    },
    {
      "cell_type": "markdown",
      "id": "333ceebc",
      "metadata": {
        "id": "333ceebc"
      },
      "source": [
        "## União, adequação de dados e de nomenclatura"
      ]
    },
    {
      "cell_type": "markdown",
      "id": "6380cc97",
      "metadata": {
        "id": "6380cc97"
      },
      "source": [
        "### Modificação do padrão das datas"
      ]
    },
    {
      "cell_type": "code",
      "execution_count": 88,
      "id": "0faf0d5f",
      "metadata": {
        "colab": {
          "base_uri": "https://localhost:8080/"
        },
        "id": "0faf0d5f",
        "outputId": "c7fbd486-d4fc-4d49-c62a-714a6082ed30"
      },
      "outputs": [
        {
          "output_type": "execute_result",
          "data": {
            "text/plain": [
              "0   2022-07-01\n",
              "1   2022-07-01\n",
              "2   2022-07-01\n",
              "3   2022-07-01\n",
              "4   2022-07-01\n",
              "Name: Data da Coleta, dtype: datetime64[ns]"
            ]
          },
          "metadata": {},
          "execution_count": 88
        }
      ],
      "source": [
        "#dados de julho\n",
        "dados_brutos_julho['Data da Coleta'] = pd.to_datetime(dados_brutos_julho['Data da Coleta'], dayfirst=True)\n",
        "dados_brutos_julho['Data da Coleta'].head()"
      ]
    },
    {
      "cell_type": "code",
      "execution_count": 89,
      "id": "d574d72d",
      "metadata": {
        "colab": {
          "base_uri": "https://localhost:8080/"
        },
        "id": "d574d72d",
        "outputId": "6ea4cc10-57e6-4343-a8ef-ef7f30e6e894"
      },
      "outputs": [
        {
          "output_type": "execute_result",
          "data": {
            "text/plain": [
              "0   2022-08-01\n",
              "1   2022-08-01\n",
              "2   2022-08-01\n",
              "3   2022-08-01\n",
              "4   2022-08-01\n",
              "Name: Data da Coleta, dtype: datetime64[ns]"
            ]
          },
          "metadata": {},
          "execution_count": 89
        }
      ],
      "source": [
        "#dados de agosto\n",
        "dados_brutos_agosto['Data da Coleta'] = pd.to_datetime(dados_brutos_agosto['Data da Coleta'], dayfirst=True)\n",
        "dados_brutos_agosto['Data da Coleta'].head()"
      ]
    },
    {
      "cell_type": "markdown",
      "id": "5a5ce2be",
      "metadata": {
        "id": "5a5ce2be"
      },
      "source": [
        "### União dos dataframes "
      ]
    },
    {
      "cell_type": "code",
      "execution_count": 90,
      "id": "f02ce91a",
      "metadata": {
        "id": "f02ce91a"
      },
      "outputs": [],
      "source": [
        "lista_dados = [dados_brutos_julho ,dados_brutos_agosto]\n",
        "dados_brutos = pd.concat(lista_dados, ignore_index= True, verify_integrity=True)"
      ]
    },
    {
      "cell_type": "markdown",
      "id": "fe4fb906",
      "metadata": {
        "id": "fe4fb906"
      },
      "source": [
        "### Momenclatura das colunas "
      ]
    },
    {
      "cell_type": "code",
      "execution_count": 91,
      "id": "8368bae7",
      "metadata": {
        "colab": {
          "base_uri": "https://localhost:8080/"
        },
        "id": "8368bae7",
        "outputId": "aee0c9d4-02b6-4249-83e2-6fa05ac85f7b"
      },
      "outputs": [
        {
          "output_type": "execute_result",
          "data": {
            "text/plain": [
              "Index(['regiao_sigla', 'estado_sigla', 'municipio', 'revenda',\n",
              "       'cnpj_da_revenda', 'nome_da_rua', 'numero_rua', 'complemento', 'bairro',\n",
              "       'cep', 'produto', 'data_da_coleta', 'valor_de_venda', 'valor_de_compra',\n",
              "       'unidade_de_medida', 'bandeira'],\n",
              "      dtype='object')"
            ]
          },
          "metadata": {},
          "execution_count": 91
        }
      ],
      "source": [
        "#modificacao do nome de columas\n",
        "dados_brutos.columns = dados_brutos.columns.str.replace('- ','')\n",
        "dados_brutos.columns = dados_brutos.columns.str.replace(' ','_')\n",
        "dados_brutos.columns = dados_brutos.columns.str.lower()\n",
        "dados_brutos.columns"
      ]
    },
    {
      "cell_type": "markdown",
      "id": "caecfb3d",
      "metadata": {
        "id": "caecfb3d"
      },
      "source": [
        "## Verificação de valores "
      ]
    },
    {
      "cell_type": "markdown",
      "id": "428fbdf4",
      "metadata": {
        "id": "428fbdf4"
      },
      "source": [
        "### Adequação dos valores da coluna valor_de_venda"
      ]
    },
    {
      "cell_type": "code",
      "execution_count": 92,
      "id": "15e7871c",
      "metadata": {
        "id": "15e7871c"
      },
      "outputs": [],
      "source": [
        "#trocando vigula por ponto e nudando de string para float\n",
        "valores_virgula = dados_brutos['valor_de_venda'].tolist()\n",
        "valores_ponto = [x.replace(',', '.') for x in valores_virgula]\n",
        "dados_brutos['valor_de_venda'] = valores_ponto\n",
        "dados_brutos['valor_de_venda'] = dados_brutos['valor_de_venda'].astype(float)"
      ]
    },
    {
      "cell_type": "code",
      "execution_count": 93,
      "id": "b119a352",
      "metadata": {
        "colab": {
          "base_uri": "https://localhost:8080/"
        },
        "id": "b119a352",
        "outputId": "d577d7a7-87d0-43b7-b673-cbe21e65d54a"
      },
      "outputs": [
        {
          "output_type": "stream",
          "name": "stdout",
          "text": [
            "<class 'pandas.core.frame.DataFrame'>\n",
            "RangeIndex: 127176 entries, 0 to 127175\n",
            "Data columns (total 16 columns):\n",
            " #   Column             Non-Null Count   Dtype         \n",
            "---  ------             --------------   -----         \n",
            " 0   regiao_sigla       127176 non-null  object        \n",
            " 1   estado_sigla       127176 non-null  object        \n",
            " 2   municipio          127176 non-null  object        \n",
            " 3   revenda            127176 non-null  object        \n",
            " 4   cnpj_da_revenda    127176 non-null  object        \n",
            " 5   nome_da_rua        127176 non-null  object        \n",
            " 6   numero_rua         127105 non-null  object        \n",
            " 7   complemento        27079 non-null   object        \n",
            " 8   bairro             126764 non-null  object        \n",
            " 9   cep                127176 non-null  object        \n",
            " 10  produto            127176 non-null  object        \n",
            " 11  data_da_coleta     127176 non-null  datetime64[ns]\n",
            " 12  valor_de_venda     127176 non-null  float64       \n",
            " 13  valor_de_compra    0 non-null       float64       \n",
            " 14  unidade_de_medida  127176 non-null  object        \n",
            " 15  bandeira           127176 non-null  object        \n",
            "dtypes: datetime64[ns](1), float64(2), object(13)\n",
            "memory usage: 15.5+ MB\n"
          ]
        }
      ],
      "source": [
        "dados_brutos.info()"
      ]
    },
    {
      "cell_type": "markdown",
      "id": "70b18086",
      "metadata": {
        "id": "70b18086"
      },
      "source": [
        "### Verificação colunas"
      ]
    },
    {
      "cell_type": "markdown",
      "id": "95f61f73",
      "metadata": {
        "id": "95f61f73"
      },
      "source": [
        "Aparentemente 'valor_de_compra' esta vazia e poucos valores em 'complemento'"
      ]
    },
    {
      "cell_type": "code",
      "execution_count": 94,
      "id": "34d4520b",
      "metadata": {
        "colab": {
          "base_uri": "https://localhost:8080/"
        },
        "id": "34d4520b",
        "outputId": "026d5792-7479-4817-a455-a48273a4849e"
      },
      "outputs": [
        {
          "output_type": "execute_result",
          "data": {
            "text/plain": [
              "array([nan])"
            ]
          },
          "metadata": {},
          "execution_count": 94
        }
      ],
      "source": [
        "#verificando se a coluna esta vazia \n",
        "dados_brutos.valor_de_compra.unique()"
      ]
    },
    {
      "cell_type": "code",
      "execution_count": 95,
      "id": "d19d9569",
      "metadata": {
        "id": "d19d9569"
      },
      "outputs": [],
      "source": [
        "dados_brutos.drop(columns=['valor_de_compra'], inplace=True)"
      ]
    },
    {
      "cell_type": "code",
      "execution_count": 96,
      "id": "8cd625a7",
      "metadata": {
        "colab": {
          "base_uri": "https://localhost:8080/"
        },
        "id": "8cd625a7",
        "outputId": "1aeda031-2de0-4f92-8eb6-de164f567539"
      },
      "outputs": [
        {
          "output_type": "stream",
          "name": "stdout",
          "text": [
            "<class 'pandas.core.frame.DataFrame'>\n",
            "RangeIndex: 127176 entries, 0 to 127175\n",
            "Data columns (total 15 columns):\n",
            " #   Column             Non-Null Count   Dtype         \n",
            "---  ------             --------------   -----         \n",
            " 0   regiao_sigla       127176 non-null  object        \n",
            " 1   estado_sigla       127176 non-null  object        \n",
            " 2   municipio          127176 non-null  object        \n",
            " 3   revenda            127176 non-null  object        \n",
            " 4   cnpj_da_revenda    127176 non-null  object        \n",
            " 5   nome_da_rua        127176 non-null  object        \n",
            " 6   numero_rua         127105 non-null  object        \n",
            " 7   complemento        27079 non-null   object        \n",
            " 8   bairro             126764 non-null  object        \n",
            " 9   cep                127176 non-null  object        \n",
            " 10  produto            127176 non-null  object        \n",
            " 11  data_da_coleta     127176 non-null  datetime64[ns]\n",
            " 12  valor_de_venda     127176 non-null  float64       \n",
            " 13  unidade_de_medida  127176 non-null  object        \n",
            " 14  bandeira           127176 non-null  object        \n",
            "dtypes: datetime64[ns](1), float64(1), object(13)\n",
            "memory usage: 14.6+ MB\n"
          ]
        }
      ],
      "source": [
        "dados_brutos.info()"
      ]
    },
    {
      "cell_type": "markdown",
      "id": "a9f47635",
      "metadata": {
        "id": "a9f47635"
      },
      "source": [
        "verificando coluna complemento"
      ]
    },
    {
      "cell_type": "code",
      "execution_count": 97,
      "id": "dddd2d35",
      "metadata": {
        "colab": {
          "base_uri": "https://localhost:8080/"
        },
        "id": "dddd2d35",
        "outputId": "6e76a609-06d0-4ae7-b850-3f7bd3e3f30c"
      },
      "outputs": [
        {
          "output_type": "execute_result",
          "data": {
            "text/plain": [
              "array([nan, 'LETRA A', 'QUADRA 18, LOTE 01', ..., 'GARA6EM',\n",
              "       'KM    615  280 M', 'LOTE  00013                     0002'],\n",
              "      dtype=object)"
            ]
          },
          "metadata": {},
          "execution_count": 97
        }
      ],
      "source": [
        "dados_brutos.complemento.unique()"
      ]
    },
    {
      "cell_type": "code",
      "execution_count": 98,
      "id": "6f9c7701",
      "metadata": {
        "id": "6f9c7701"
      },
      "outputs": [],
      "source": [
        "dados_brutos.drop(columns=['complemento'], inplace=True)"
      ]
    },
    {
      "cell_type": "markdown",
      "id": "d41c799b",
      "metadata": {
        "id": "d41c799b"
      },
      "source": [
        "## Verificando valores destoantes "
      ]
    },
    {
      "cell_type": "code",
      "execution_count": 99,
      "id": "5004172b",
      "metadata": {
        "colab": {
          "base_uri": "https://localhost:8080/"
        },
        "id": "5004172b",
        "outputId": "99c247c9-1b7e-4981-c280-8a9a6c3af8eb"
      },
      "outputs": [
        {
          "output_type": "execute_result",
          "data": {
            "text/plain": [
              "count    127176.000000\n",
              "mean          5.355503\n",
              "std           0.860449\n",
              "min           2.890000\n",
              "25%           4.880000\n",
              "50%           5.490000\n",
              "75%           5.890000\n",
              "max           9.270000\n",
              "Name: valor_de_venda, dtype: float64"
            ]
          },
          "metadata": {},
          "execution_count": 99
        }
      ],
      "source": [
        "dados_brutos.valor_de_venda.describe()"
      ]
    },
    {
      "cell_type": "code",
      "execution_count": 100,
      "id": "4d36be6a",
      "metadata": {
        "colab": {
          "base_uri": "https://localhost:8080/",
          "height": 0
        },
        "id": "4d36be6a",
        "outputId": "f9d21049-c628-423e-9691-85692764533f"
      },
      "outputs": [
        {
          "output_type": "execute_result",
          "data": {
            "text/plain": [
              "<matplotlib.axes._subplots.AxesSubplot at 0x7fc40e268ad0>"
            ]
          },
          "metadata": {},
          "execution_count": 100
        },
        {
          "output_type": "display_data",
          "data": {
            "text/plain": [
              "<Figure size 432x288 with 1 Axes>"
            ],
            "image/png": "[encoded data removed]"
          },
          "metadata": {}
        }
      ],
      "source": [
        "dados_brutos.valor_de_venda.plot(kind='hist')"
      ]
    },
    {
      "cell_type": "code",
      "execution_count": 101,
      "id": "3c16115d",
      "metadata": {
        "colab": {
          "base_uri": "https://localhost:8080/",
          "height": 0
        },
        "id": "3c16115d",
        "outputId": "df0bcb32-17dd-4466-a286-1d41c7b6d4c5"
      },
      "outputs": [
        {
          "output_type": "stream",
          "name": "stderr",
          "text": [
            "/usr/local/lib/python3.7/dist-packages/seaborn/_decorators.py:43: FutureWarning: Pass the following variable as a keyword arg: x. From version 0.12, the only valid positional argument will be `data`, and passing other arguments without an explicit keyword will result in an error or misinterpretation.\n",
            "  FutureWarning\n"
          ]
        },
        {
          "output_type": "execute_result",
          "data": {
            "text/plain": [
              "<matplotlib.axes._subplots.AxesSubplot at 0x7fc4152be850>"
            ]
          },
          "metadata": {},
          "execution_count": 101
        },
        {
          "output_type": "display_data",
          "data": {
            "text/plain": [
              "<Figure size 432x288 with 1 Axes>"
            ],
            "image/png": "[encoded data removed]"
          },
          "metadata": {}
        }
      ],
      "source": [
        "sns.boxplot(dados_brutos.valor_de_venda)"
      ]
    },
    {
      "cell_type": "markdown",
      "id": "37064c45",
      "metadata": {
        "id": "37064c45"
      },
      "source": [
        "### Verificando produtos "
      ]
    },
    {
      "cell_type": "code",
      "execution_count": 102,
      "id": "27a12f7d",
      "metadata": {
        "colab": {
          "base_uri": "https://localhost:8080/"
        },
        "id": "27a12f7d",
        "outputId": "097e3145-94f0-484b-fdd3-18472b49792b"
      },
      "outputs": [
        {
          "output_type": "execute_result",
          "data": {
            "text/plain": [
              "array(['GASOLINA ADITIVADA', 'GASOLINA', 'ETANOL'], dtype=object)"
            ]
          },
          "metadata": {},
          "execution_count": 102
        }
      ],
      "source": [
        "dados_brutos.produto.unique()"
      ]
    },
    {
      "cell_type": "markdown",
      "id": "db7939e8",
      "metadata": {
        "id": "db7939e8"
      },
      "source": [
        "Gasolina"
      ]
    },
    {
      "cell_type": "code",
      "execution_count": 103,
      "id": "bc61069f",
      "metadata": {
        "colab": {
          "base_uri": "https://localhost:8080/",
          "height": 0
        },
        "id": "bc61069f",
        "outputId": "c2613bf1-3ab6-4bc1-c2e8-d6fb81ffaea6"
      },
      "outputs": [
        {
          "output_type": "execute_result",
          "data": {
            "text/plain": [
              "       valor_de_venda\n",
              "count    48341.000000\n",
              "mean         5.711579\n",
              "std          0.528368\n",
              "min          4.130000\n",
              "25%          5.380000\n",
              "50%          5.670000\n",
              "75%          5.990000\n",
              "max          8.750000"
            ],
            "text/html": [
              "\n",
              "  <div id=\"df-3dd55a09-f6e2-421e-bc1b-e6b78170104a\">\n",
              "    <div class=\"colab-df-container\">\n",
              "      <div>\n",
              "<style scoped>\n",
              "    .dataframe tbody tr th:only-of-type {\n",
              "        vertical-align: middle;\n",
              "    }\n",
              "\n",
              "    .dataframe tbody tr th {\n",
              "        vertical-align: top;\n",
              "    }\n",
              "\n",
              "    .dataframe thead th {\n",
              "        text-align: right;\n",
              "    }\n",
              "</style>\n",
              "<table border=\"1\" class=\"dataframe\">\n",
              "  <thead>\n",
              "    <tr style=\"text-align: right;\">\n",
              "      <th></th>\n",
              "      <th>valor_de_venda</th>\n",
              "    </tr>\n",
              "  </thead>\n",
              "  <tbody>\n",
              "    <tr>\n",
              "      <th>count</th>\n",
              "      <td>48341.000000</td>\n",
              "    </tr>\n",
              "    <tr>\n",
              "      <th>mean</th>\n",
              "      <td>5.711579</td>\n",
              "    </tr>\n",
              "    <tr>\n",
              "      <th>std</th>\n",
              "      <td>0.528368</td>\n",
              "    </tr>\n",
              "    <tr>\n",
              "      <th>min</th>\n",
              "      <td>4.130000</td>\n",
              "    </tr>\n",
              "    <tr>\n",
              "      <th>25%</th>\n",
              "      <td>5.380000</td>\n",
              "    </tr>\n",
              "    <tr>\n",
              "      <th>50%</th>\n",
              "      <td>5.670000</td>\n",
              "    </tr>\n",
              "    <tr>\n",
              "      <th>75%</th>\n",
              "      <td>5.990000</td>\n",
              "    </tr>\n",
              "    <tr>\n",
              "      <th>max</th>\n",
              "      <td>8.750000</td>\n",
              "    </tr>\n",
              "  </tbody>\n",
              "</table>\n",
              "</div>\n",
              "      <button class=\"colab-df-convert\" onclick=\"convertToInteractive('df-3dd55a09-f6e2-421e-bc1b-e6b78170104a')\"\n",
              "              title=\"Convert this dataframe to an interactive table.\"\n",
              "              style=\"display:none;\">\n",
              "        \n",
              "  <svg xmlns=\"http://www.w3.org/2000/svg\" height=\"24px\"viewBox=\"0 0 24 24\"\n",
              "       width=\"24px\">\n",
              "    <path d=\"M0 0h24v24H0V0z\" fill=\"none\"/>\n",
              "    <path d=\"M18.56 5.44l.94 2.06.94-2.06 2.06-.94-2.06-.94-.94-2.06-.94 2.06-2.06.94zm-11 1L8.5 8.5l.94-2.06 2.06-.94-2.06-.94L8.5 2.5l-.94 2.06-2.06.94zm10 10l.94 2.06.94-2.06 2.06-.94-2.06-.94-.94-2.06-.94 2.06-2.06.94z\"/><path d=\"M17.41 7.96l-1.37-1.37c-.4-.4-.92-.59-1.43-.59-.52 0-1.04.2-1.43.59L10.3 9.45l-7.72 7.72c-.78.78-.78 2.05 0 2.83L4 21.41c.39.39.9.59 1.41.59.51 0 1.02-.2 1.41-.59l7.78-7.78 2.81-2.81c.8-.78.8-2.07 0-2.86zM5.41 20L4 18.59l7.72-7.72 1.47 1.35L5.41 20z\"/>\n",
              "  </svg>\n",
              "      </button>\n",
              "      \n",
              "  <style>\n",
              "    .colab-df-container {\n",
              "      display:flex;\n",
              "      flex-wrap:wrap;\n",
              "      gap: 12px;\n",
              "    }\n",
              "\n",
              "    .colab-df-convert {\n",
              "      background-color: #E8F0FE;\n",
              "      border: none;\n",
              "      border-radius: 50%;\n",
              "      cursor: pointer;\n",
              "      display: none;\n",
              "      fill: #1967D2;\n",
              "      height: 32px;\n",
              "      padding: 0 0 0 0;\n",
              "      width: 32px;\n",
              "    }\n",
              "\n",
              "    .colab-df-convert:hover {\n",
              "      background-color: #E2EBFA;\n",
              "      box-shadow: 0px 1px 2px rgba(60, 64, 67, 0.3), 0px 1px 3px 1px rgba(60, 64, 67, 0.15);\n",
              "      fill: #174EA6;\n",
              "    }\n",
              "\n",
              "    [theme=dark] .colab-df-convert {\n",
              "      background-color: #3B4455;\n",
              "      fill: #D2E3FC;\n",
              "    }\n",
              "\n",
              "    [theme=dark] .colab-df-convert:hover {\n",
              "      background-color: #434B5C;\n",
              "      box-shadow: 0px 1px 3px 1px rgba(0, 0, 0, 0.15);\n",
              "      filter: drop-shadow(0px 1px 2px rgba(0, 0, 0, 0.3));\n",
              "      fill: #FFFFFF;\n",
              "    }\n",
              "  </style>\n",
              "\n",
              "      <script>\n",
              "        const buttonEl =\n",
              "          document.querySelector('#df-3dd55a09-f6e2-421e-bc1b-e6b78170104a button.colab-df-convert');\n",
              "        buttonEl.style.display =\n",
              "          google.colab.kernel.accessAllowed ? 'block' : 'none';\n",
              "\n",
              "        async function convertToInteractive(key) {\n",
              "          const element = document.querySelector('#df-3dd55a09-f6e2-421e-bc1b-e6b78170104a');\n",
              "          const dataTable =\n",
              "            await google.colab.kernel.invokeFunction('convertToInteractive',\n",
              "                                                     [key], {});\n",
              "          if (!dataTable) return;\n",
              "\n",
              "          const docLinkHtml = 'Like what you see? Visit the ' +\n",
              "            '<a target=\"_blank\" href=https://colab.research.google.com/notebooks/data_table.ipynb>data table notebook</a>'\n",
              "            + ' to learn more about interactive tables.';\n",
              "          element.innerHTML = '';\n",
              "          dataTable['output_type'] = 'display_data';\n",
              "          await google.colab.output.renderOutput(dataTable, element);\n",
              "          const docLink = document.createElement('div');\n",
              "          docLink.innerHTML = docLinkHtml;\n",
              "          element.appendChild(docLink);\n",
              "        }\n",
              "      </script>\n",
              "    </div>\n",
              "  </div>\n",
              "  "
            ]
          },
          "metadata": {},
          "execution_count": 103
        }
      ],
      "source": [
        "dados_brutos.query(\"produto == 'GASOLINA'\").describe()"
      ]
    },
    {
      "cell_type": "code",
      "execution_count": 104,
      "id": "8ee18fcb",
      "metadata": {
        "colab": {
          "base_uri": "https://localhost:8080/"
        },
        "id": "8ee18fcb",
        "outputId": "c20c03a4-41b5-48f1-f53c-a319fc8b110c"
      },
      "outputs": [
        {
          "output_type": "execute_result",
          "data": {
            "text/plain": [
              "1         7.38\n",
              "3         7.39\n",
              "6         5.99\n",
              "9         6.69\n",
              "12        7.77\n",
              "          ... \n",
              "127164    5.79\n",
              "127167    5.38\n",
              "127169    4.95\n",
              "127172    5.19\n",
              "127174    5.27\n",
              "Name: valor_de_venda, Length: 48341, dtype: float64"
            ]
          },
          "metadata": {},
          "execution_count": 104
        }
      ],
      "source": [
        "dados_brutos.query(\"produto == 'GASOLINA'\").valor_de_venda"
      ]
    },
    {
      "cell_type": "code",
      "execution_count": 105,
      "id": "bc011bc1",
      "metadata": {
        "colab": {
          "base_uri": "https://localhost:8080/"
        },
        "id": "bc011bc1",
        "outputId": "0cc21fd1-7f35-4ff0-810a-4f839cb8cc6b"
      },
      "outputs": [
        {
          "output_type": "execute_result",
          "data": {
            "text/plain": [
              "array(['ES', 'PI', 'RJ', 'AL', 'AM', 'BA', 'CE', 'MA', 'MG', 'PA', 'PB',\n",
              "       'PE', 'RN', 'RS', 'SE', 'SP', 'TO', 'MS', 'PR', 'SC', 'GO', 'RO',\n",
              "       'AC', 'MT', 'RR'], dtype=object)"
            ]
          },
          "metadata": {},
          "execution_count": 105
        }
      ],
      "source": [
        "dados_brutos.query(\"valor_de_venda > 7\").estado_sigla.unique()"
      ]
    },
    {
      "cell_type": "code",
      "execution_count": 106,
      "id": "af4bf628",
      "metadata": {
        "colab": {
          "base_uri": "https://localhost:8080/",
          "height": 0
        },
        "id": "af4bf628",
        "outputId": "38c39808-167d-4c59-d232-9d31eecddc13"
      },
      "outputs": [
        {
          "output_type": "execute_result",
          "data": {
            "text/plain": [
              "  regiao_sigla estado_sigla municipio  \\\n",
              "0           SE           ES  COLATINA   \n",
              "1           SE           ES  COLATINA   \n",
              "2           SE           ES  COLATINA   \n",
              "3           SE           ES  COLATINA   \n",
              "4           CO           GO   GOIANIA   \n",
              "\n",
              "                                             revenda      cnpj_da_revenda  \\\n",
              "0  SAO FRANCISCO DE ASSIS COMERCIO DE COMBUSTIVEI...   08.519.545/0001-10   \n",
              "1  SAO FRANCISCO DE ASSIS COMERCIO DE COMBUSTIVEI...   08.519.545/0001-10   \n",
              "2                                 POSTO MOTOCAP LTDA   04.814.652/0001-10   \n",
              "3                                 POSTO MOTOCAP LTDA   04.814.652/0001-10   \n",
              "4                       JUSTINIANO & JUSTINIANO LTDA   04.489.287/0001-16   \n",
              "\n",
              "                    nome_da_rua numero_rua           bairro        cep  \\\n",
              "0         PRACA FIDELIS FERRARI         35             LACE  29703-030   \n",
              "1         PRACA FIDELIS FERRARI         35             LACE  29703-030   \n",
              "2       PRACA ALMIRANTE BARROSO         52             LACE  29703-055   \n",
              "3       PRACA ALMIRANTE BARROSO         52             LACE  29703-055   \n",
              "4  AVENIDA JOSE LEANDRO DA CRUZ       2,36  PARQUE AMAZONIA  74840-390   \n",
              "\n",
              "              produto data_da_coleta  valor_de_venda unidade_de_medida  \\\n",
              "0  GASOLINA ADITIVADA     2022-07-01            7.48        R$ / litro   \n",
              "1            GASOLINA     2022-07-01            7.38        R$ / litro   \n",
              "2              ETANOL     2022-07-01            5.99        R$ / litro   \n",
              "3            GASOLINA     2022-07-01            7.39        R$ / litro   \n",
              "4  GASOLINA ADITIVADA     2022-07-01            6.49        R$ / litro   \n",
              "\n",
              "        bandeira  \n",
              "0  VIBRA ENERGIA  \n",
              "1  VIBRA ENERGIA  \n",
              "2  VIBRA ENERGIA  \n",
              "3  VIBRA ENERGIA  \n",
              "4       IPIRANGA  "
            ],
            "text/html": [
              "\n",
              "  <div id=\"df-e7ec90ca-ee52-4681-8279-afcb5e4184ae\">\n",
              "    <div class=\"colab-df-container\">\n",
              "      <div>\n",
              "<style scoped>\n",
              "    .dataframe tbody tr th:only-of-type {\n",
              "        vertical-align: middle;\n",
              "    }\n",
              "\n",
              "    .dataframe tbody tr th {\n",
              "        vertical-align: top;\n",
              "    }\n",
              "\n",
              "    .dataframe thead th {\n",
              "        text-align: right;\n",
              "    }\n",
              "</style>\n",
              "<table border=\"1\" class=\"dataframe\">\n",
              "  <thead>\n",
              "    <tr style=\"text-align: right;\">\n",
              "      <th></th>\n",
              "      <th>regiao_sigla</th>\n",
              "      <th>estado_sigla</th>\n",
              "      <th>municipio</th>\n",
              "      <th>revenda</th>\n",
              "      <th>cnpj_da_revenda</th>\n",
              "      <th>nome_da_rua</th>\n",
              "      <th>numero_rua</th>\n",
              "      <th>bairro</th>\n",
              "      <th>cep</th>\n",
              "      <th>produto</th>\n",
              "      <th>data_da_coleta</th>\n",
              "      <th>valor_de_venda</th>\n",
              "      <th>unidade_de_medida</th>\n",
              "      <th>bandeira</th>\n",
              "    </tr>\n",
              "  </thead>\n",
              "  <tbody>\n",
              "    <tr>\n",
              "      <th>0</th>\n",
              "      <td>SE</td>\n",
              "      <td>ES</td>\n",
              "      <td>COLATINA</td>\n",
              "      <td>SAO FRANCISCO DE ASSIS COMERCIO DE COMBUSTIVEI...</td>\n",
              "      <td>08.519.545/0001-10</td>\n",
              "      <td>PRACA FIDELIS FERRARI</td>\n",
              "      <td>35</td>\n",
              "      <td>LACE</td>\n",
              "      <td>29703-030</td>\n",
              "      <td>GASOLINA ADITIVADA</td>\n",
              "      <td>2022-07-01</td>\n",
              "      <td>7.48</td>\n",
              "      <td>R$ / litro</td>\n",
              "      <td>VIBRA ENERGIA</td>\n",
              "    </tr>\n",
              "    <tr>\n",
              "      <th>1</th>\n",
              "      <td>SE</td>\n",
              "      <td>ES</td>\n",
              "      <td>COLATINA</td>\n",
              "      <td>SAO FRANCISCO DE ASSIS COMERCIO DE COMBUSTIVEI...</td>\n",
              "      <td>08.519.545/0001-10</td>\n",
              "      <td>PRACA FIDELIS FERRARI</td>\n",
              "      <td>35</td>\n",
              "      <td>LACE</td>\n",
              "      <td>29703-030</td>\n",
              "      <td>GASOLINA</td>\n",
              "      <td>2022-07-01</td>\n",
              "      <td>7.38</td>\n",
              "      <td>R$ / litro</td>\n",
              "      <td>VIBRA ENERGIA</td>\n",
              "    </tr>\n",
              "    <tr>\n",
              "      <th>2</th>\n",
              "      <td>SE</td>\n",
              "      <td>ES</td>\n",
              "      <td>COLATINA</td>\n",
              "      <td>POSTO MOTOCAP LTDA</td>\n",
              "      <td>04.814.652/0001-10</td>\n",
              "      <td>PRACA ALMIRANTE BARROSO</td>\n",
              "      <td>52</td>\n",
              "      <td>LACE</td>\n",
              "      <td>29703-055</td>\n",
              "      <td>ETANOL</td>\n",
              "      <td>2022-07-01</td>\n",
              "      <td>5.99</td>\n",
              "      <td>R$ / litro</td>\n",
              "      <td>VIBRA ENERGIA</td>\n",
              "    </tr>\n",
              "    <tr>\n",
              "      <th>3</th>\n",
              "      <td>SE</td>\n",
              "      <td>ES</td>\n",
              "      <td>COLATINA</td>\n",
              "      <td>POSTO MOTOCAP LTDA</td>\n",
              "      <td>04.814.652/0001-10</td>\n",
              "      <td>PRACA ALMIRANTE BARROSO</td>\n",
              "      <td>52</td>\n",
              "      <td>LACE</td>\n",
              "      <td>29703-055</td>\n",
              "      <td>GASOLINA</td>\n",
              "      <td>2022-07-01</td>\n",
              "      <td>7.39</td>\n",
              "      <td>R$ / litro</td>\n",
              "      <td>VIBRA ENERGIA</td>\n",
              "    </tr>\n",
              "    <tr>\n",
              "      <th>4</th>\n",
              "      <td>CO</td>\n",
              "      <td>GO</td>\n",
              "      <td>GOIANIA</td>\n",
              "      <td>JUSTINIANO &amp; JUSTINIANO LTDA</td>\n",
              "      <td>04.489.287/0001-16</td>\n",
              "      <td>AVENIDA JOSE LEANDRO DA CRUZ</td>\n",
              "      <td>2,36</td>\n",
              "      <td>PARQUE AMAZONIA</td>\n",
              "      <td>74840-390</td>\n",
              "      <td>GASOLINA ADITIVADA</td>\n",
              "      <td>2022-07-01</td>\n",
              "      <td>6.49</td>\n",
              "      <td>R$ / litro</td>\n",
              "      <td>IPIRANGA</td>\n",
              "    </tr>\n",
              "  </tbody>\n",
              "</table>\n",
              "</div>\n",
              "      <button class=\"colab-df-convert\" onclick=\"convertToInteractive('df-e7ec90ca-ee52-4681-8279-afcb5e4184ae')\"\n",
              "              title=\"Convert this dataframe to an interactive table.\"\n",
              "              style=\"display:none;\">\n",
              "        \n",
              "  <svg xmlns=\"http://www.w3.org/2000/svg\" height=\"24px\"viewBox=\"0 0 24 24\"\n",
              "       width=\"24px\">\n",
              "    <path d=\"M0 0h24v24H0V0z\" fill=\"none\"/>\n",
              "    <path d=\"M18.56 5.44l.94 2.06.94-2.06 2.06-.94-2.06-.94-.94-2.06-.94 2.06-2.06.94zm-11 1L8.5 8.5l.94-2.06 2.06-.94-2.06-.94L8.5 2.5l-.94 2.06-2.06.94zm10 10l.94 2.06.94-2.06 2.06-.94-2.06-.94-.94-2.06-.94 2.06-2.06.94z\"/><path d=\"M17.41 7.96l-1.37-1.37c-.4-.4-.92-.59-1.43-.59-.52 0-1.04.2-1.43.59L10.3 9.45l-7.72 7.72c-.78.78-.78 2.05 0 2.83L4 21.41c.39.39.9.59 1.41.59.51 0 1.02-.2 1.41-.59l7.78-7.78 2.81-2.81c.8-.78.8-2.07 0-2.86zM5.41 20L4 18.59l7.72-7.72 1.47 1.35L5.41 20z\"/>\n",
              "  </svg>\n",
              "      </button>\n",
              "      \n",
              "  <style>\n",
              "    .colab-df-container {\n",
              "      display:flex;\n",
              "      flex-wrap:wrap;\n",
              "      gap: 12px;\n",
              "    }\n",
              "\n",
              "    .colab-df-convert {\n",
              "      background-color: #E8F0FE;\n",
              "      border: none;\n",
              "      border-radius: 50%;\n",
              "      cursor: pointer;\n",
              "      display: none;\n",
              "      fill: #1967D2;\n",
              "      height: 32px;\n",
              "      padding: 0 0 0 0;\n",
              "      width: 32px;\n",
              "    }\n",
              "\n",
              "    .colab-df-convert:hover {\n",
              "      background-color: #E2EBFA;\n",
              "      box-shadow: 0px 1px 2px rgba(60, 64, 67, 0.3), 0px 1px 3px 1px rgba(60, 64, 67, 0.15);\n",
              "      fill: #174EA6;\n",
              "    }\n",
              "\n",
              "    [theme=dark] .colab-df-convert {\n",
              "      background-color: #3B4455;\n",
              "      fill: #D2E3FC;\n",
              "    }\n",
              "\n",
              "    [theme=dark] .colab-df-convert:hover {\n",
              "      background-color: #434B5C;\n",
              "      box-shadow: 0px 1px 3px 1px rgba(0, 0, 0, 0.15);\n",
              "      filter: drop-shadow(0px 1px 2px rgba(0, 0, 0, 0.3));\n",
              "      fill: #FFFFFF;\n",
              "    }\n",
              "  </style>\n",
              "\n",
              "      <script>\n",
              "        const buttonEl =\n",
              "          document.querySelector('#df-e7ec90ca-ee52-4681-8279-afcb5e4184ae button.colab-df-convert');\n",
              "        buttonEl.style.display =\n",
              "          google.colab.kernel.accessAllowed ? 'block' : 'none';\n",
              "\n",
              "        async function convertToInteractive(key) {\n",
              "          const element = document.querySelector('#df-e7ec90ca-ee52-4681-8279-afcb5e4184ae');\n",
              "          const dataTable =\n",
              "            await google.colab.kernel.invokeFunction('convertToInteractive',\n",
              "                                                     [key], {});\n",
              "          if (!dataTable) return;\n",
              "\n",
              "          const docLinkHtml = 'Like what you see? Visit the ' +\n",
              "            '<a target=\"_blank\" href=https://colab.research.google.com/notebooks/data_table.ipynb>data table notebook</a>'\n",
              "            + ' to learn more about interactive tables.';\n",
              "          element.innerHTML = '';\n",
              "          dataTable['output_type'] = 'display_data';\n",
              "          await google.colab.output.renderOutput(dataTable, element);\n",
              "          const docLink = document.createElement('div');\n",
              "          docLink.innerHTML = docLinkHtml;\n",
              "          element.appendChild(docLink);\n",
              "        }\n",
              "      </script>\n",
              "    </div>\n",
              "  </div>\n",
              "  "
            ]
          },
          "metadata": {},
          "execution_count": 106
        }
      ],
      "source": [
        "dados = dados_brutos\n",
        "dados.head()"
      ]
    },
    {
      "cell_type": "code",
      "execution_count": 107,
      "id": "4f0a03c4",
      "metadata": {
        "colab": {
          "base_uri": "https://localhost:8080/"
        },
        "id": "4f0a03c4",
        "outputId": "e78d3330-4832-4aba-8a6c-d55add46ac7d"
      },
      "outputs": [
        {
          "output_type": "stream",
          "name": "stdout",
          "text": [
            "<class 'pandas.core.frame.DataFrame'>\n",
            "RangeIndex: 127176 entries, 0 to 127175\n",
            "Data columns (total 14 columns):\n",
            " #   Column             Non-Null Count   Dtype         \n",
            "---  ------             --------------   -----         \n",
            " 0   regiao_sigla       127176 non-null  object        \n",
            " 1   estado_sigla       127176 non-null  object        \n",
            " 2   municipio          127176 non-null  object        \n",
            " 3   revenda            127176 non-null  object        \n",
            " 4   cnpj_da_revenda    127176 non-null  object        \n",
            " 5   nome_da_rua        127176 non-null  object        \n",
            " 6   numero_rua         127105 non-null  object        \n",
            " 7   bairro             126764 non-null  object        \n",
            " 8   cep                127176 non-null  object        \n",
            " 9   produto            127176 non-null  object        \n",
            " 10  data_da_coleta     127176 non-null  datetime64[ns]\n",
            " 11  valor_de_venda     127176 non-null  float64       \n",
            " 12  unidade_de_medida  127176 non-null  object        \n",
            " 13  bandeira           127176 non-null  object        \n",
            "dtypes: datetime64[ns](1), float64(1), object(12)\n",
            "memory usage: 13.6+ MB\n"
          ]
        }
      ],
      "source": [
        "dados.info()"
      ]
    },
    {
      "cell_type": "markdown",
      "id": "ZOJxW-t02qwy",
      "metadata": {
        "id": "ZOJxW-t02qwy"
      },
      "source": [
        "# Respondendo as perguntas"
      ]
    },
    {
      "cell_type": "markdown",
      "id": "hkgbWFzU2rfv",
      "metadata": {
        "id": "hkgbWFzU2rfv"
      },
      "source": [
        "Antes de responder as perguntas foi criada uma função anônima lambda para aplicar a formatação decimal nos nosso resultados:"
      ]
    },
    {
      "cell_type": "code",
      "execution_count": 108,
      "id": "9wlpTb7V2tr1",
      "metadata": {
        "id": "9wlpTb7V2tr1"
      },
      "outputs": [],
      "source": [
        "formatar = lambda x: f'{x:.2f}'"
      ]
    },
    {
      "cell_type": "markdown",
      "id": "2JWN9J5_2hXI",
      "metadata": {
        "id": "2JWN9J5_2hXI"
      },
      "source": [
        "## 1. Como se comportaram o preço dos combustíveis durante os dois meses citados? Os valores do etanol e da gasolina tiveram uma queda ou diminuição?"
      ]
    },
    {
      "cell_type": "markdown",
      "id": "2eStgPyE2lVq",
      "metadata": {
        "id": "2eStgPyE2lVq"
      },
      "source": [
        "Primeiro, foram formados dataframes com a média dos valores de todos os tipos de combustíveis agrupados por data (gasolina, gasolina aditivada e etanol), também foi incluso a média geral (a média diária de todos os combustíveis), abaixo temos um exemplo:"
      ]
    },
    {
      "cell_type": "markdown",
      "id": "ZvxnrYo93LYa",
      "metadata": {
        "id": "ZvxnrYo93LYa"
      },
      "source": [
        "* ### Pergunta 1"
      ]
    },
    {
      "cell_type": "code",
      "execution_count": 157,
      "id": "SnHY5uUYmzUm",
      "metadata": {
        "colab": {
          "base_uri": "https://localhost:8080/",
          "height": 363
        },
        "id": "SnHY5uUYmzUm",
        "outputId": "4c887424-6225-4d07-d9f5-fed64e6415cd"
      },
      "outputs": [
        {
          "output_type": "execute_result",
          "data": {
            "text/plain": [
              "  data_da_coleta  valor_de_venda\n",
              "0     2022-07-01        6.621690\n",
              "1     2022-07-04        6.077862\n",
              "2     2022-07-05        6.185041\n",
              "3     2022-07-06        5.959738\n",
              "4     2022-07-07        5.797347\n",
              "5     2022-07-08        5.783333\n",
              "6     2022-07-11        5.738744\n",
              "7     2022-07-12        5.782261\n",
              "8     2022-07-13        5.601108\n",
              "9     2022-07-14        5.661235"
            ],
            "text/html": [
              "\n",
              "  <div id=\"df-ea7b7cc3-a178-4aa9-991e-f32f7545e127\">\n",
              "    <div class=\"colab-df-container\">\n",
              "      <div>\n",
              "<style scoped>\n",
              "    .dataframe tbody tr th:only-of-type {\n",
              "        vertical-align: middle;\n",
              "    }\n",
              "\n",
              "    .dataframe tbody tr th {\n",
              "        vertical-align: top;\n",
              "    }\n",
              "\n",
              "    .dataframe thead th {\n",
              "        text-align: right;\n",
              "    }\n",
              "</style>\n",
              "<table border=\"1\" class=\"dataframe\">\n",
              "  <thead>\n",
              "    <tr style=\"text-align: right;\">\n",
              "      <th></th>\n",
              "      <th>data_da_coleta</th>\n",
              "      <th>valor_de_venda</th>\n",
              "    </tr>\n",
              "  </thead>\n",
              "  <tbody>\n",
              "    <tr>\n",
              "      <th>0</th>\n",
              "      <td>2022-07-01</td>\n",
              "      <td>6.621690</td>\n",
              "    </tr>\n",
              "    <tr>\n",
              "      <th>1</th>\n",
              "      <td>2022-07-04</td>\n",
              "      <td>6.077862</td>\n",
              "    </tr>\n",
              "    <tr>\n",
              "      <th>2</th>\n",
              "      <td>2022-07-05</td>\n",
              "      <td>6.185041</td>\n",
              "    </tr>\n",
              "    <tr>\n",
              "      <th>3</th>\n",
              "      <td>2022-07-06</td>\n",
              "      <td>5.959738</td>\n",
              "    </tr>\n",
              "    <tr>\n",
              "      <th>4</th>\n",
              "      <td>2022-07-07</td>\n",
              "      <td>5.797347</td>\n",
              "    </tr>\n",
              "    <tr>\n",
              "      <th>5</th>\n",
              "      <td>2022-07-08</td>\n",
              "      <td>5.783333</td>\n",
              "    </tr>\n",
              "    <tr>\n",
              "      <th>6</th>\n",
              "      <td>2022-07-11</td>\n",
              "      <td>5.738744</td>\n",
              "    </tr>\n",
              "    <tr>\n",
              "      <th>7</th>\n",
              "      <td>2022-07-12</td>\n",
              "      <td>5.782261</td>\n",
              "    </tr>\n",
              "    <tr>\n",
              "      <th>8</th>\n",
              "      <td>2022-07-13</td>\n",
              "      <td>5.601108</td>\n",
              "    </tr>\n",
              "    <tr>\n",
              "      <th>9</th>\n",
              "      <td>2022-07-14</td>\n",
              "      <td>5.661235</td>\n",
              "    </tr>\n",
              "  </tbody>\n",
              "</table>\n",
              "</div>\n",
              "      <button class=\"colab-df-convert\" onclick=\"convertToInteractive('df-ea7b7cc3-a178-4aa9-991e-f32f7545e127')\"\n",
              "              title=\"Convert this dataframe to an interactive table.\"\n",
              "              style=\"display:none;\">\n",
              "        \n",
              "  <svg xmlns=\"http://www.w3.org/2000/svg\" height=\"24px\"viewBox=\"0 0 24 24\"\n",
              "       width=\"24px\">\n",
              "    <path d=\"M0 0h24v24H0V0z\" fill=\"none\"/>\n",
              "    <path d=\"M18.56 5.44l.94 2.06.94-2.06 2.06-.94-2.06-.94-.94-2.06-.94 2.06-2.06.94zm-11 1L8.5 8.5l.94-2.06 2.06-.94-2.06-.94L8.5 2.5l-.94 2.06-2.06.94zm10 10l.94 2.06.94-2.06 2.06-.94-2.06-.94-.94-2.06-.94 2.06-2.06.94z\"/><path d=\"M17.41 7.96l-1.37-1.37c-.4-.4-.92-.59-1.43-.59-.52 0-1.04.2-1.43.59L10.3 9.45l-7.72 7.72c-.78.78-.78 2.05 0 2.83L4 21.41c.39.39.9.59 1.41.59.51 0 1.02-.2 1.41-.59l7.78-7.78 2.81-2.81c.8-.78.8-2.07 0-2.86zM5.41 20L4 18.59l7.72-7.72 1.47 1.35L5.41 20z\"/>\n",
              "  </svg>\n",
              "      </button>\n",
              "      \n",
              "  <style>\n",
              "    .colab-df-container {\n",
              "      display:flex;\n",
              "      flex-wrap:wrap;\n",
              "      gap: 12px;\n",
              "    }\n",
              "\n",
              "    .colab-df-convert {\n",
              "      background-color: #E8F0FE;\n",
              "      border: none;\n",
              "      border-radius: 50%;\n",
              "      cursor: pointer;\n",
              "      display: none;\n",
              "      fill: #1967D2;\n",
              "      height: 32px;\n",
              "      padding: 0 0 0 0;\n",
              "      width: 32px;\n",
              "    }\n",
              "\n",
              "    .colab-df-convert:hover {\n",
              "      background-color: #E2EBFA;\n",
              "      box-shadow: 0px 1px 2px rgba(60, 64, 67, 0.3), 0px 1px 3px 1px rgba(60, 64, 67, 0.15);\n",
              "      fill: #174EA6;\n",
              "    }\n",
              "\n",
              "    [theme=dark] .colab-df-convert {\n",
              "      background-color: #3B4455;\n",
              "      fill: #D2E3FC;\n",
              "    }\n",
              "\n",
              "    [theme=dark] .colab-df-convert:hover {\n",
              "      background-color: #434B5C;\n",
              "      box-shadow: 0px 1px 3px 1px rgba(0, 0, 0, 0.15);\n",
              "      filter: drop-shadow(0px 1px 2px rgba(0, 0, 0, 0.3));\n",
              "      fill: #FFFFFF;\n",
              "    }\n",
              "  </style>\n",
              "\n",
              "      <script>\n",
              "        const buttonEl =\n",
              "          document.querySelector('#df-ea7b7cc3-a178-4aa9-991e-f32f7545e127 button.colab-df-convert');\n",
              "        buttonEl.style.display =\n",
              "          google.colab.kernel.accessAllowed ? 'block' : 'none';\n",
              "\n",
              "        async function convertToInteractive(key) {\n",
              "          const element = document.querySelector('#df-ea7b7cc3-a178-4aa9-991e-f32f7545e127');\n",
              "          const dataTable =\n",
              "            await google.colab.kernel.invokeFunction('convertToInteractive',\n",
              "                                                     [key], {});\n",
              "          if (!dataTable) return;\n",
              "\n",
              "          const docLinkHtml = 'Like what you see? Visit the ' +\n",
              "            '<a target=\"_blank\" href=https://colab.research.google.com/notebooks/data_table.ipynb>data table notebook</a>'\n",
              "            + ' to learn more about interactive tables.';\n",
              "          element.innerHTML = '';\n",
              "          dataTable['output_type'] = 'display_data';\n",
              "          await google.colab.output.renderOutput(dataTable, element);\n",
              "          const docLink = document.createElement('div');\n",
              "          docLink.innerHTML = docLinkHtml;\n",
              "          element.appendChild(docLink);\n",
              "        }\n",
              "      </script>\n",
              "    </div>\n",
              "  </div>\n",
              "  "
            ]
          },
          "metadata": {},
          "execution_count": 157
        }
      ],
      "source": [
        "venda_por_data_gasolina_aditivada = dados.loc[dados['produto'] == 'GASOLINA ADITIVADA'].groupby(['data_da_coleta'])['valor_de_venda'].mean().reset_index()\n",
        "venda_por_data_gasolina = dados.loc[dados['produto'] == 'GASOLINA'].groupby(['data_da_coleta'])['valor_de_venda'].mean().reset_index()\n",
        "venda_por_data_etanol = dados.loc[dados['produto'] == 'ETANOL'].groupby(['data_da_coleta'])['valor_de_venda'].mean().reset_index()\n",
        "venda_por_data = dados.groupby(['data_da_coleta'])['valor_de_venda'].mean().reset_index()\n",
        "venda_por_data.head(10)"
      ]
    },
    {
      "cell_type": "markdown",
      "id": "Cp6dqckY6brL",
      "metadata": {
        "id": "Cp6dqckY6brL"
      },
      "source": [
        "Com esses dataframes criados, utilizamos o matplotlib para unir essas informações em um gráfico de linha:"
      ]
    },
    {
      "cell_type": "code",
      "execution_count": 158,
      "id": "jZ1hTIkToG0e",
      "metadata": {
        "colab": {
          "base_uri": "https://localhost:8080/",
          "height": 658
        },
        "id": "jZ1hTIkToG0e",
        "outputId": "2a3dd5be-9cce-4c2e-a449-7ec7a3c90730"
      },
      "outputs": [
        {
          "output_type": "display_data",
          "data": {
            "text/plain": [
              "<Figure size 1440x720 with 1 Axes>"
            ],
            "image/png": "[encoded data removed]"
          },
          "metadata": {}
        }
      ],
      "source": [
        "plt.figure(figsize=(20,10))\n",
        "plt.rc('xtick', labelsize=15)\n",
        "plt.rc('ytick', labelsize=15)\n",
        "plt.rc('legend', fontsize=15)\n",
        "plt.plot(venda_por_data['data_da_coleta'], venda_por_data['valor_de_venda'], label='Combustíveis') \n",
        "plt.plot(venda_por_data_etanol['data_da_coleta'], venda_por_data_etanol['valor_de_venda'], label='Etanol', linestyle=\"--\")\n",
        "plt.plot(venda_por_data_gasolina['data_da_coleta'], venda_por_data_gasolina['valor_de_venda'], label='Gasolina', linestyle=\"-.\")\n",
        "plt.plot(venda_por_data_gasolina_aditivada['data_da_coleta'], venda_por_data_gasolina_aditivada['valor_de_venda'], label='Gasolina Aditivada', linestyle=\":\")\n",
        "plt.xlabel(\"Período de 2 meses\", size=24) \n",
        "plt.ylabel(\"Preço dos combustíveis\", size=24)  \n",
        "plt.title(\"Evolução do preço dos combustíveis\",loc='left', size=30)  \n",
        "plt.legend()\n",
        "plt.show() "
      ]
    },
    {
      "cell_type": "markdown",
      "id": "B-Hb2sg46qV7",
      "metadata": {
        "id": "B-Hb2sg46qV7"
      },
      "source": [
        "## 2. Qual o preço médio da gasolina e do etanol nesses 2 meses?"
      ]
    },
    {
      "cell_type": "markdown",
      "id": "ukomp0ng5txq",
      "metadata": {
        "id": "ukomp0ng5txq"
      },
      "source": [
        "### preço médio da gasolina nos dois meses:"
      ]
    },
    {
      "cell_type": "code",
      "execution_count": 111,
      "id": "mnJ4Gm65zhvQ",
      "metadata": {
        "colab": {
          "base_uri": "https://localhost:8080/",
          "height": 35
        },
        "id": "mnJ4Gm65zhvQ",
        "outputId": "46b8a823-54bd-46e6-f92a-27f9919ae802"
      },
      "outputs": [
        {
          "output_type": "execute_result",
          "data": {
            "text/plain": [
              "'5.71'"
            ],
            "application/vnd.google.colaboratory.intrinsic+json": {
              "type": "string"
            }
          },
          "metadata": {},
          "execution_count": 111
        }
      ],
      "source": [
        "formatar(dados.loc[dados['produto'] == 'GASOLINA']['valor_de_venda'].mean())"
      ]
    },
    {
      "cell_type": "markdown",
      "id": "YxLrMzoa5vsk",
      "metadata": {
        "id": "YxLrMzoa5vsk"
      },
      "source": [
        "preço médio do etanol nos dois meses:"
      ]
    },
    {
      "cell_type": "code",
      "execution_count": 112,
      "id": "KslQYY7s5xQY",
      "metadata": {
        "colab": {
          "base_uri": "https://localhost:8080/",
          "height": 35
        },
        "id": "KslQYY7s5xQY",
        "outputId": "a3189ee7-992b-40f8-ffbf-a6e3d6fec55a"
      },
      "outputs": [
        {
          "output_type": "execute_result",
          "data": {
            "text/plain": [
              "'4.51'"
            ],
            "application/vnd.google.colaboratory.intrinsic+json": {
              "type": "string"
            }
          },
          "metadata": {},
          "execution_count": 112
        }
      ],
      "source": [
        "formatar(dados.loc[dados['produto'] == 'ETANOL']['valor_de_venda'].mean())"
      ]
    },
    {
      "cell_type": "markdown",
      "id": "KkdEsHVm7Npe",
      "metadata": {
        "id": "KkdEsHVm7Npe"
      },
      "source": [
        "## 3. Quais os 5 estados com o preço médio da gasolina e do etanol mais caros?\n"
      ]
    },
    {
      "cell_type": "code",
      "execution_count": null,
      "id": "uWao7fQG7UX7",
      "metadata": {
        "id": "uWao7fQG7UX7"
      },
      "outputs": [],
      "source": [
        "# Quais os 5 estados com preço médio mais alto?\n",
        "\n",
        "#1. conferindo DF:\n",
        "\n",
        "dados_uteis=dados[['estado_sigla','produto','revenda','cnpj_da_revenda','valor_de_venda']]\n",
        "\n",
        "display(dados_uteis)"
      ]
    },
    {
      "cell_type": "code",
      "execution_count": 114,
      "id": "uFl5XvVX7VTx",
      "metadata": {
        "id": "uFl5XvVX7VTx"
      },
      "outputs": [],
      "source": [
        "#2. Filtrando valores:\n",
        "\n",
        "#Tirando a média da Gasolina e do Etanol\n",
        "media_gas=dados_uteis.loc[dados_uteis['produto'] == 'GASOLINA']['valor_de_venda'].mean()\n",
        "media_et=dados_uteis.loc[dados_uteis['produto'] == 'ETANOL']['valor_de_venda'].mean()"
      ]
    },
    {
      "cell_type": "code",
      "execution_count": null,
      "id": "YZftzS5z7ZmA",
      "metadata": {
        "id": "YZftzS5z7ZmA"
      },
      "outputs": [],
      "source": [
        "# 3. Resgatando valores acima da média para Gasolina\n",
        "\n",
        "gas_df=dados_uteis.loc[dados_uteis['produto'] == 'GASOLINA']\n",
        "mediagas_df= gas_df.loc[gas_df['valor_de_venda'] >= media_gas]\n",
        "mediagas_df.groupby(['estado_sigla'])['valor_de_venda'].mean().nlargest(5)"
      ]
    },
    {
      "cell_type": "code",
      "execution_count": null,
      "id": "yGgw4Nk_7an1",
      "metadata": {
        "id": "yGgw4Nk_7an1"
      },
      "outputs": [],
      "source": [
        "# 4. Resgatando valores acima da média para Etanol\n",
        "eta_df=dados_uteis.loc[dados_uteis['produto'] == 'ETANOL']\n",
        "mediaeta_df= eta_df.loc[eta_df['valor_de_venda'] >= media_et]\n",
        "mediaeta_df.groupby(['estado_sigla'])['valor_de_venda'].mean().nlargest(5)"
      ]
    },
    {
      "cell_type": "markdown",
      "id": "g-gEW7p27eHn",
      "metadata": {
        "id": "g-gEW7p27eHn"
      },
      "source": [
        "## 4. Qual o preço médio da gasolina e do etanol por estado?"
      ]
    },
    {
      "cell_type": "markdown",
      "id": "3aYUKs-27g9x",
      "metadata": {
        "id": "3aYUKs-27g9x"
      },
      "source": [
        "### Gasolina: "
      ]
    },
    {
      "cell_type": "code",
      "execution_count": null,
      "id": "GMl7ap3j7i3Z",
      "metadata": {
        "collapsed": true,
        "id": "GMl7ap3j7i3Z"
      },
      "outputs": [],
      "source": [
        "gas_df.groupby(['estado_sigla']).mean().nlargest(5,columns=['valor_de_venda'])"
      ]
    },
    {
      "cell_type": "markdown",
      "id": "7HXTbqWJ7kw5",
      "metadata": {
        "id": "7HXTbqWJ7kw5"
      },
      "source": [
        "### Etanol:"
      ]
    },
    {
      "cell_type": "code",
      "execution_count": null,
      "id": "U9uyyv1M7mX5",
      "metadata": {
        "collapsed": true,
        "id": "U9uyyv1M7mX5"
      },
      "outputs": [],
      "source": [
        "eta_df.groupby(['estado_sigla']).mean().nlargest(5,columns=['valor_de_venda'])"
      ]
    },
    {
      "cell_type": "markdown",
      "id": "5sse181N_fGo",
      "metadata": {
        "id": "5sse181N_fGo"
      },
      "source": [
        "## 5. Qual o município que possui o menor preço para a gasolina e para o etanol?"
      ]
    },
    {
      "cell_type": "code",
      "execution_count": null,
      "id": "d3b05dfb",
      "metadata": {
        "id": "d3b05dfb"
      },
      "outputs": [],
      "source": [
        "dados.query(\"produto == 'GASOLINA'\").min()"
      ]
    },
    {
      "cell_type": "code",
      "execution_count": null,
      "id": "9b5c1c6b",
      "metadata": {
        "id": "9b5c1c6b"
      },
      "outputs": [],
      "source": [
        "dados.query(\"produto == 'ETANOL'\").min()"
      ]
    },
    {
      "cell_type": "markdown",
      "id": "C3DJFiPI_0HD",
      "metadata": {
        "id": "C3DJFiPI_0HD"
      },
      "source": [
        "## 6. Qual o município que possui o maior preço para a gasolina e para o etanol?"
      ]
    },
    {
      "cell_type": "code",
      "execution_count": 155,
      "id": "Q0FUOU_4_5W8",
      "metadata": {
        "id": "Q0FUOU_4_5W8",
        "colab": {
          "base_uri": "https://localhost:8080/"
        },
        "outputId": "dcefe3ee-5de5-4862-eb8f-399350cc2ade"
      },
      "outputs": [
        {
          "output_type": "stream",
          "name": "stderr",
          "text": [
            "/usr/local/lib/python3.7/dist-packages/ipykernel_launcher.py:1: FutureWarning: Dropping of nuisance columns in DataFrame reductions (with 'numeric_only=None') is deprecated; in a future version this will raise TypeError.  Select only valid columns before calling the reduction.\n",
            "  \"\"\"Entry point for launching an IPython kernel.\n"
          ]
        },
        {
          "output_type": "execute_result",
          "data": {
            "text/plain": [
              "regiao_sigla                       SE: Sudeste\n",
              "estado_sigla                                TO\n",
              "municipio                             XINGUARA\n",
              "revenda              ZV POSTO DE SERVIÇO LTDA.\n",
              "cnpj_da_revenda             98.338.072/0041-35\n",
              "nome_da_rua                  ÁREA 5 DA GLEBA C\n",
              "cep                                  99714-052\n",
              "produto                               GASOLINA\n",
              "data_da_coleta             2022-08-31 00:00:00\n",
              "valor_de_venda                            8.75\n",
              "unidade_de_medida                   R$ / litro\n",
              "bandeira                                  WATT\n",
              "variacao                                  4.92\n",
              "dtype: object"
            ]
          },
          "metadata": {},
          "execution_count": 155
        }
      ],
      "source": [
        "dados.query(\"produto == 'GASOLINA'\").max()"
      ]
    },
    {
      "cell_type": "code",
      "execution_count": 156,
      "id": "b0c80120",
      "metadata": {
        "id": "b0c80120",
        "colab": {
          "base_uri": "https://localhost:8080/"
        },
        "outputId": "8feedba3-57cd-4d27-ebe3-fb24bebf4be1"
      },
      "outputs": [
        {
          "output_type": "stream",
          "name": "stderr",
          "text": [
            "/usr/local/lib/python3.7/dist-packages/ipykernel_launcher.py:1: FutureWarning: Dropping of nuisance columns in DataFrame reductions (with 'numeric_only=None') is deprecated; in a future version this will raise TypeError.  Select only valid columns before calling the reduction.\n",
            "  \"\"\"Entry point for launching an IPython kernel.\n"
          ]
        },
        {
          "output_type": "execute_result",
          "data": {
            "text/plain": [
              "regiao_sigla                       SE: Sudeste\n",
              "estado_sigla                                TO\n",
              "municipio                             XINGUARA\n",
              "revenda              ZV POSTO DE SERVIÇO LTDA.\n",
              "cnpj_da_revenda             97.550.180/0001-17\n",
              "nome_da_rua                  ÁREA 5 DA GLEBA C\n",
              "cep                                  99714-052\n",
              "produto                                 ETANOL\n",
              "data_da_coleta             2022-08-31 00:00:00\n",
              "valor_de_venda                            7.89\n",
              "unidade_de_medida                   R$ / litro\n",
              "bandeira                                  WATT\n",
              "variacao                                  2.55\n",
              "dtype: object"
            ]
          },
          "metadata": {},
          "execution_count": 156
        }
      ],
      "source": [
        "dados.query(\"produto == 'ETANOL'\").max()"
      ]
    },
    {
      "cell_type": "markdown",
      "id": "DV3_aiBs7o1T",
      "metadata": {
        "id": "DV3_aiBs7o1T"
      },
      "source": [
        "## 7. Qual a região que possui o maior valor médio da gasolina?"
      ]
    },
    {
      "cell_type": "code",
      "execution_count": null,
      "id": "V2gRQnrfLC1Y",
      "metadata": {
        "id": "V2gRQnrfLC1Y"
      },
      "outputs": [],
      "source": [
        "#descrever as siglas das regiões para melhor visualização das queries\n",
        "dados.regiao_sigla= dados.regiao_sigla.map({'CO':'CO: Centro-Oeste', 'SE': 'SE: Sudeste', 'S':'S: Sul', 'NE': 'NE: Nordeste', 'N': 'N: Norte'})\n",
        "dados.regiao_sigla"
      ]
    },
    {
      "cell_type": "code",
      "execution_count": null,
      "id": "cNN1HQ7W7xDc",
      "metadata": {
        "id": "cNN1HQ7W7xDc"
      },
      "outputs": [],
      "source": [
        "regiao_maior_med_gas = dados[dados['produto']=='GASOLINA'].groupby(['regiao_sigla', 'produto']).aggregate( {\"valor_de_venda\":\"mean\"}).round(3).sort_values('valor_de_venda', ascending=False)\n",
        "regiao_maior_med_gas.style.background_gradient(cmap='Oranges')"
      ]
    },
    {
      "cell_type": "code",
      "execution_count": 125,
      "id": "NJAe6Reo71Df",
      "metadata": {
        "id": "NJAe6Reo71Df",
        "colab": {
          "base_uri": "https://localhost:8080/",
          "height": 112
        },
        "outputId": "c1f030ec-39b4-4c4c-d7e6-9d34867121ee"
      },
      "outputs": [
        {
          "output_type": "execute_result",
          "data": {
            "text/plain": [
              "                       valor_de_venda\n",
              "regiao_sigla produto                 \n",
              "N: Norte     GASOLINA           5.972"
            ],
            "text/html": [
              "\n",
              "  <div id=\"df-7a0993c9-82ce-45ef-afe1-e458f76e1e26\">\n",
              "    <div class=\"colab-df-container\">\n",
              "      <div>\n",
              "<style scoped>\n",
              "    .dataframe tbody tr th:only-of-type {\n",
              "        vertical-align: middle;\n",
              "    }\n",
              "\n",
              "    .dataframe tbody tr th {\n",
              "        vertical-align: top;\n",
              "    }\n",
              "\n",
              "    .dataframe thead th {\n",
              "        text-align: right;\n",
              "    }\n",
              "</style>\n",
              "<table border=\"1\" class=\"dataframe\">\n",
              "  <thead>\n",
              "    <tr style=\"text-align: right;\">\n",
              "      <th></th>\n",
              "      <th></th>\n",
              "      <th>valor_de_venda</th>\n",
              "    </tr>\n",
              "    <tr>\n",
              "      <th>regiao_sigla</th>\n",
              "      <th>produto</th>\n",
              "      <th></th>\n",
              "    </tr>\n",
              "  </thead>\n",
              "  <tbody>\n",
              "    <tr>\n",
              "      <th>N: Norte</th>\n",
              "      <th>GASOLINA</th>\n",
              "      <td>5.972</td>\n",
              "    </tr>\n",
              "  </tbody>\n",
              "</table>\n",
              "</div>\n",
              "      <button class=\"colab-df-convert\" onclick=\"convertToInteractive('df-7a0993c9-82ce-45ef-afe1-e458f76e1e26')\"\n",
              "              title=\"Convert this dataframe to an interactive table.\"\n",
              "              style=\"display:none;\">\n",
              "        \n",
              "  <svg xmlns=\"http://www.w3.org/2000/svg\" height=\"24px\"viewBox=\"0 0 24 24\"\n",
              "       width=\"24px\">\n",
              "    <path d=\"M0 0h24v24H0V0z\" fill=\"none\"/>\n",
              "    <path d=\"M18.56 5.44l.94 2.06.94-2.06 2.06-.94-2.06-.94-.94-2.06-.94 2.06-2.06.94zm-11 1L8.5 8.5l.94-2.06 2.06-.94-2.06-.94L8.5 2.5l-.94 2.06-2.06.94zm10 10l.94 2.06.94-2.06 2.06-.94-2.06-.94-.94-2.06-.94 2.06-2.06.94z\"/><path d=\"M17.41 7.96l-1.37-1.37c-.4-.4-.92-.59-1.43-.59-.52 0-1.04.2-1.43.59L10.3 9.45l-7.72 7.72c-.78.78-.78 2.05 0 2.83L4 21.41c.39.39.9.59 1.41.59.51 0 1.02-.2 1.41-.59l7.78-7.78 2.81-2.81c.8-.78.8-2.07 0-2.86zM5.41 20L4 18.59l7.72-7.72 1.47 1.35L5.41 20z\"/>\n",
              "  </svg>\n",
              "      </button>\n",
              "      \n",
              "  <style>\n",
              "    .colab-df-container {\n",
              "      display:flex;\n",
              "      flex-wrap:wrap;\n",
              "      gap: 12px;\n",
              "    }\n",
              "\n",
              "    .colab-df-convert {\n",
              "      background-color: #E8F0FE;\n",
              "      border: none;\n",
              "      border-radius: 50%;\n",
              "      cursor: pointer;\n",
              "      display: none;\n",
              "      fill: #1967D2;\n",
              "      height: 32px;\n",
              "      padding: 0 0 0 0;\n",
              "      width: 32px;\n",
              "    }\n",
              "\n",
              "    .colab-df-convert:hover {\n",
              "      background-color: #E2EBFA;\n",
              "      box-shadow: 0px 1px 2px rgba(60, 64, 67, 0.3), 0px 1px 3px 1px rgba(60, 64, 67, 0.15);\n",
              "      fill: #174EA6;\n",
              "    }\n",
              "\n",
              "    [theme=dark] .colab-df-convert {\n",
              "      background-color: #3B4455;\n",
              "      fill: #D2E3FC;\n",
              "    }\n",
              "\n",
              "    [theme=dark] .colab-df-convert:hover {\n",
              "      background-color: #434B5C;\n",
              "      box-shadow: 0px 1px 3px 1px rgba(0, 0, 0, 0.15);\n",
              "      filter: drop-shadow(0px 1px 2px rgba(0, 0, 0, 0.3));\n",
              "      fill: #FFFFFF;\n",
              "    }\n",
              "  </style>\n",
              "\n",
              "      <script>\n",
              "        const buttonEl =\n",
              "          document.querySelector('#df-7a0993c9-82ce-45ef-afe1-e458f76e1e26 button.colab-df-convert');\n",
              "        buttonEl.style.display =\n",
              "          google.colab.kernel.accessAllowed ? 'block' : 'none';\n",
              "\n",
              "        async function convertToInteractive(key) {\n",
              "          const element = document.querySelector('#df-7a0993c9-82ce-45ef-afe1-e458f76e1e26');\n",
              "          const dataTable =\n",
              "            await google.colab.kernel.invokeFunction('convertToInteractive',\n",
              "                                                     [key], {});\n",
              "          if (!dataTable) return;\n",
              "\n",
              "          const docLinkHtml = 'Like what you see? Visit the ' +\n",
              "            '<a target=\"_blank\" href=https://colab.research.google.com/notebooks/data_table.ipynb>data table notebook</a>'\n",
              "            + ' to learn more about interactive tables.';\n",
              "          element.innerHTML = '';\n",
              "          dataTable['output_type'] = 'display_data';\n",
              "          await google.colab.output.renderOutput(dataTable, element);\n",
              "          const docLink = document.createElement('div');\n",
              "          docLink.innerHTML = docLinkHtml;\n",
              "          element.appendChild(docLink);\n",
              "        }\n",
              "      </script>\n",
              "    </div>\n",
              "  </div>\n",
              "  "
            ]
          },
          "metadata": {},
          "execution_count": 125
        }
      ],
      "source": [
        "regiao_maior_med_gas.nlargest(1, columns = 'valor_de_venda')"
      ]
    },
    {
      "cell_type": "markdown",
      "id": "8py6YqAy73Fg",
      "metadata": {
        "id": "8py6YqAy73Fg"
      },
      "source": [
        "## 8. Qual a região que possui o menor valor médio do etanol?"
      ]
    },
    {
      "cell_type": "code",
      "execution_count": null,
      "id": "k5-BTd4c-FBb",
      "metadata": {
        "id": "k5-BTd4c-FBb"
      },
      "outputs": [],
      "source": [
        "# 8. Qual a região que possui o menor valor médio do etanol?\n",
        "regiao_menor_med_etanol = dados[dados['produto']=='ETANOL'].groupby(['regiao_sigla', 'produto']).aggregate( {\"valor_de_venda\":\"mean\"}).round(3).sort_values('valor_de_venda')\n",
        "regiao_menor_med_etanol.style.background_gradient(cmap='BuPu')"
      ]
    },
    {
      "cell_type": "code",
      "execution_count": null,
      "id": "2lFlLtip-HyW",
      "metadata": {
        "id": "2lFlLtip-HyW"
      },
      "outputs": [],
      "source": [
        "regiao_menor_med_etanol.nsmallest(1, columns = 'valor_de_venda')"
      ]
    },
    {
      "cell_type": "code",
      "execution_count": 128,
      "id": "DWwal_4j-LSX",
      "metadata": {
        "id": "DWwal_4j-LSX"
      },
      "outputs": [],
      "source": [
        "vl_medio_regiao = dados.groupby(['regiao_sigla', 'produto'])['valor_de_venda'].mean().reset_index()"
      ]
    },
    {
      "cell_type": "code",
      "execution_count": null,
      "id": "grko1eZG-PyJ",
      "metadata": {
        "id": "grko1eZG-PyJ"
      },
      "outputs": [],
      "source": [
        "grafico_val_med_reg = plt.figure(figsize=(30,15))\n",
        "plt.title('PREÇO MÉDIO - GASOLINA COMUM x ETANOL x GASOLINA ADITIVADA', loc='left', fontsize=45)\n",
        "sns.set(font_scale=3)\n",
        "sns.barplot(y='valor_de_venda', x='regiao_sigla', hue='produto',  data = vl_medio_regiao, palette='plasma');\n",
        "plt.ylabel('VALOR MÉDIO DA GASOLINA')\n",
        "plt.xlabel('REGIÃO')\n",
        "plt.legend(title=\"PRODUTO\", loc='lower left')\n",
        "\n",
        "plt.tight_layout()"
      ]
    },
    {
      "cell_type": "markdown",
      "source": [
        "## 11. Aceleração da queda dos preço"
      ],
      "metadata": {
        "id": "5KaqBJbfy4pI"
      },
      "id": "5KaqBJbfy4pI"
    },
    {
      "cell_type": "code",
      "source": [
        "def plotagem(titulo, labelx, labely, x, y, dataset):\n",
        "  sns.set_palette('Accent')\n",
        "  sns.set_style('darkgrid')\n",
        "  ax = sns.lineplot(x=x, y=y, data=dataset)\n",
        "  ax.figure.set_size_inches(12,6)\n",
        "  ax.set_title(titulo, loc='left', fontsize=18)\n",
        "  ax.set_xlabel(labelx, fontsize=18)\n",
        "  ax.set_ylabel(labely, fontsize=14)\n",
        "  ax = ax"
      ],
      "metadata": {
        "id": "OIQkYLNE1FYa"
      },
      "id": "OIQkYLNE1FYa",
      "execution_count": 146,
      "outputs": []
    },
    {
      "cell_type": "code",
      "source": [
        "dados_gasolina = dados.query(\"produto == 'GASOLINA'\")\n",
        "dados_valor_medio_gasolina = dados_gasolina.groupby(\"data_da_coleta\").median()\n",
        "dados_valor_medio_gasolina[\"variacao\"] = dados_valor_medio_gasolina['valor_de_venda'].diff()\n",
        "dados_valor_medio_gasolina.head()"
      ],
      "metadata": {
        "colab": {
          "base_uri": "https://localhost:8080/",
          "height": 238
        },
        "id": "sTpcoLg78e3y",
        "outputId": "fc7a57eb-de52-492b-f0f8-68193e9a560b"
      },
      "id": "sTpcoLg78e3y",
      "execution_count": 193,
      "outputs": [
        {
          "output_type": "execute_result",
          "data": {
            "text/plain": [
              "                valor_de_venda  variacao\n",
              "data_da_coleta                          \n",
              "2022-07-01                7.48       NaN\n",
              "2022-07-04                6.59     -0.89\n",
              "2022-07-05                6.59      0.00\n",
              "2022-07-06                6.29     -0.30\n",
              "2022-07-07                5.99     -0.30"
            ],
            "text/html": [
              "\n",
              "  <div id=\"df-4ddcde6d-5792-4a0c-8218-fdc91968565c\">\n",
              "    <div class=\"colab-df-container\">\n",
              "      <div>\n",
              "<style scoped>\n",
              "    .dataframe tbody tr th:only-of-type {\n",
              "        vertical-align: middle;\n",
              "    }\n",
              "\n",
              "    .dataframe tbody tr th {\n",
              "        vertical-align: top;\n",
              "    }\n",
              "\n",
              "    .dataframe thead th {\n",
              "        text-align: right;\n",
              "    }\n",
              "</style>\n",
              "<table border=\"1\" class=\"dataframe\">\n",
              "  <thead>\n",
              "    <tr style=\"text-align: right;\">\n",
              "      <th></th>\n",
              "      <th>valor_de_venda</th>\n",
              "      <th>variacao</th>\n",
              "    </tr>\n",
              "    <tr>\n",
              "      <th>data_da_coleta</th>\n",
              "      <th></th>\n",
              "      <th></th>\n",
              "    </tr>\n",
              "  </thead>\n",
              "  <tbody>\n",
              "    <tr>\n",
              "      <th>2022-07-01</th>\n",
              "      <td>7.48</td>\n",
              "      <td>NaN</td>\n",
              "    </tr>\n",
              "    <tr>\n",
              "      <th>2022-07-04</th>\n",
              "      <td>6.59</td>\n",
              "      <td>-0.89</td>\n",
              "    </tr>\n",
              "    <tr>\n",
              "      <th>2022-07-05</th>\n",
              "      <td>6.59</td>\n",
              "      <td>0.00</td>\n",
              "    </tr>\n",
              "    <tr>\n",
              "      <th>2022-07-06</th>\n",
              "      <td>6.29</td>\n",
              "      <td>-0.30</td>\n",
              "    </tr>\n",
              "    <tr>\n",
              "      <th>2022-07-07</th>\n",
              "      <td>5.99</td>\n",
              "      <td>-0.30</td>\n",
              "    </tr>\n",
              "  </tbody>\n",
              "</table>\n",
              "</div>\n",
              "      <button class=\"colab-df-convert\" onclick=\"convertToInteractive('df-4ddcde6d-5792-4a0c-8218-fdc91968565c')\"\n",
              "              title=\"Convert this dataframe to an interactive table.\"\n",
              "              style=\"display:none;\">\n",
              "        \n",
              "  <svg xmlns=\"http://www.w3.org/2000/svg\" height=\"24px\"viewBox=\"0 0 24 24\"\n",
              "       width=\"24px\">\n",
              "    <path d=\"M0 0h24v24H0V0z\" fill=\"none\"/>\n",
              "    <path d=\"M18.56 5.44l.94 2.06.94-2.06 2.06-.94-2.06-.94-.94-2.06-.94 2.06-2.06.94zm-11 1L8.5 8.5l.94-2.06 2.06-.94-2.06-.94L8.5 2.5l-.94 2.06-2.06.94zm10 10l.94 2.06.94-2.06 2.06-.94-2.06-.94-.94-2.06-.94 2.06-2.06.94z\"/><path d=\"M17.41 7.96l-1.37-1.37c-.4-.4-.92-.59-1.43-.59-.52 0-1.04.2-1.43.59L10.3 9.45l-7.72 7.72c-.78.78-.78 2.05 0 2.83L4 21.41c.39.39.9.59 1.41.59.51 0 1.02-.2 1.41-.59l7.78-7.78 2.81-2.81c.8-.78.8-2.07 0-2.86zM5.41 20L4 18.59l7.72-7.72 1.47 1.35L5.41 20z\"/>\n",
              "  </svg>\n",
              "      </button>\n",
              "      \n",
              "  <style>\n",
              "    .colab-df-container {\n",
              "      display:flex;\n",
              "      flex-wrap:wrap;\n",
              "      gap: 12px;\n",
              "    }\n",
              "\n",
              "    .colab-df-convert {\n",
              "      background-color: #E8F0FE;\n",
              "      border: none;\n",
              "      border-radius: 50%;\n",
              "      cursor: pointer;\n",
              "      display: none;\n",
              "      fill: #1967D2;\n",
              "      height: 32px;\n",
              "      padding: 0 0 0 0;\n",
              "      width: 32px;\n",
              "    }\n",
              "\n",
              "    .colab-df-convert:hover {\n",
              "      background-color: #E2EBFA;\n",
              "      box-shadow: 0px 1px 2px rgba(60, 64, 67, 0.3), 0px 1px 3px 1px rgba(60, 64, 67, 0.15);\n",
              "      fill: #174EA6;\n",
              "    }\n",
              "\n",
              "    [theme=dark] .colab-df-convert {\n",
              "      background-color: #3B4455;\n",
              "      fill: #D2E3FC;\n",
              "    }\n",
              "\n",
              "    [theme=dark] .colab-df-convert:hover {\n",
              "      background-color: #434B5C;\n",
              "      box-shadow: 0px 1px 3px 1px rgba(0, 0, 0, 0.15);\n",
              "      filter: drop-shadow(0px 1px 2px rgba(0, 0, 0, 0.3));\n",
              "      fill: #FFFFFF;\n",
              "    }\n",
              "  </style>\n",
              "\n",
              "      <script>\n",
              "        const buttonEl =\n",
              "          document.querySelector('#df-4ddcde6d-5792-4a0c-8218-fdc91968565c button.colab-df-convert');\n",
              "        buttonEl.style.display =\n",
              "          google.colab.kernel.accessAllowed ? 'block' : 'none';\n",
              "\n",
              "        async function convertToInteractive(key) {\n",
              "          const element = document.querySelector('#df-4ddcde6d-5792-4a0c-8218-fdc91968565c');\n",
              "          const dataTable =\n",
              "            await google.colab.kernel.invokeFunction('convertToInteractive',\n",
              "                                                     [key], {});\n",
              "          if (!dataTable) return;\n",
              "\n",
              "          const docLinkHtml = 'Like what you see? Visit the ' +\n",
              "            '<a target=\"_blank\" href=https://colab.research.google.com/notebooks/data_table.ipynb>data table notebook</a>'\n",
              "            + ' to learn more about interactive tables.';\n",
              "          element.innerHTML = '';\n",
              "          dataTable['output_type'] = 'display_data';\n",
              "          await google.colab.output.renderOutput(dataTable, element);\n",
              "          const docLink = document.createElement('div');\n",
              "          docLink.innerHTML = docLinkHtml;\n",
              "          element.appendChild(docLink);\n",
              "        }\n",
              "      </script>\n",
              "    </div>\n",
              "  </div>\n",
              "  "
            ]
          },
          "metadata": {},
          "execution_count": 193
        }
      ]
    },
    {
      "cell_type": "code",
      "source": [
        "plotagem('Variação media do valor de venda da gasolina entre Julho e agosto',\n",
        "         'Tempo',\n",
        "         'Variação',\n",
        "         'data_da_coleta',\n",
        "         'variacao',\n",
        "         dados_valor_medio_gasolina)"
      ],
      "metadata": {
        "id": "rhNVEK0s2rXd"
      },
      "id": "rhNVEK0s2rXd",
      "execution_count": null,
      "outputs": []
    },
    {
      "cell_type": "markdown",
      "source": [
        "## 12. Variação do preço do Etanol"
      ],
      "metadata": {
        "id": "dX7ppEKe6kVE"
      },
      "id": "dX7ppEKe6kVE"
    },
    {
      "cell_type": "code",
      "source": [
        "dados_etanol = dados.query(\"produto == 'ETANOL'\")\n",
        "dados_valor_medio_etanol = dados_etanol.groupby(\"data_da_coleta\").median()\n",
        "dados_valor_medio_etanol\n",
        "dados_valor_medio_etanol[\"variacao\"] = dados_valor_medio_etanol['valor_de_venda'].diff()\n",
        "dados_valor_medio_etanol.head()"
      ],
      "metadata": {
        "colab": {
          "base_uri": "https://localhost:8080/",
          "height": 238
        },
        "id": "gPbHTaxA94Pa",
        "outputId": "4dd646a7-c163-4287-a390-46dc4de02df7"
      },
      "id": "gPbHTaxA94Pa",
      "execution_count": 189,
      "outputs": [
        {
          "output_type": "execute_result",
          "data": {
            "text/plain": [
              "                valor_de_venda  variacao\n",
              "data_da_coleta                          \n",
              "2022-07-01               5.570       NaN\n",
              "2022-07-04               4.680    -0.890\n",
              "2022-07-05               5.185     0.505\n",
              "2022-07-06               4.750    -0.435\n",
              "2022-07-07               4.755     0.005"
            ],
            "text/html": [
              "\n",
              "  <div id=\"df-21b16405-d3a6-499a-97c2-eba3afae7db3\">\n",
              "    <div class=\"colab-df-container\">\n",
              "      <div>\n",
              "<style scoped>\n",
              "    .dataframe tbody tr th:only-of-type {\n",
              "        vertical-align: middle;\n",
              "    }\n",
              "\n",
              "    .dataframe tbody tr th {\n",
              "        vertical-align: top;\n",
              "    }\n",
              "\n",
              "    .dataframe thead th {\n",
              "        text-align: right;\n",
              "    }\n",
              "</style>\n",
              "<table border=\"1\" class=\"dataframe\">\n",
              "  <thead>\n",
              "    <tr style=\"text-align: right;\">\n",
              "      <th></th>\n",
              "      <th>valor_de_venda</th>\n",
              "      <th>variacao</th>\n",
              "    </tr>\n",
              "    <tr>\n",
              "      <th>data_da_coleta</th>\n",
              "      <th></th>\n",
              "      <th></th>\n",
              "    </tr>\n",
              "  </thead>\n",
              "  <tbody>\n",
              "    <tr>\n",
              "      <th>2022-07-01</th>\n",
              "      <td>5.570</td>\n",
              "      <td>NaN</td>\n",
              "    </tr>\n",
              "    <tr>\n",
              "      <th>2022-07-04</th>\n",
              "      <td>4.680</td>\n",
              "      <td>-0.890</td>\n",
              "    </tr>\n",
              "    <tr>\n",
              "      <th>2022-07-05</th>\n",
              "      <td>5.185</td>\n",
              "      <td>0.505</td>\n",
              "    </tr>\n",
              "    <tr>\n",
              "      <th>2022-07-06</th>\n",
              "      <td>4.750</td>\n",
              "      <td>-0.435</td>\n",
              "    </tr>\n",
              "    <tr>\n",
              "      <th>2022-07-07</th>\n",
              "      <td>4.755</td>\n",
              "      <td>0.005</td>\n",
              "    </tr>\n",
              "  </tbody>\n",
              "</table>\n",
              "</div>\n",
              "      <button class=\"colab-df-convert\" onclick=\"convertToInteractive('df-21b16405-d3a6-499a-97c2-eba3afae7db3')\"\n",
              "              title=\"Convert this dataframe to an interactive table.\"\n",
              "              style=\"display:none;\">\n",
              "        \n",
              "  <svg xmlns=\"http://www.w3.org/2000/svg\" height=\"24px\"viewBox=\"0 0 24 24\"\n",
              "       width=\"24px\">\n",
              "    <path d=\"M0 0h24v24H0V0z\" fill=\"none\"/>\n",
              "    <path d=\"M18.56 5.44l.94 2.06.94-2.06 2.06-.94-2.06-.94-.94-2.06-.94 2.06-2.06.94zm-11 1L8.5 8.5l.94-2.06 2.06-.94-2.06-.94L8.5 2.5l-.94 2.06-2.06.94zm10 10l.94 2.06.94-2.06 2.06-.94-2.06-.94-.94-2.06-.94 2.06-2.06.94z\"/><path d=\"M17.41 7.96l-1.37-1.37c-.4-.4-.92-.59-1.43-.59-.52 0-1.04.2-1.43.59L10.3 9.45l-7.72 7.72c-.78.78-.78 2.05 0 2.83L4 21.41c.39.39.9.59 1.41.59.51 0 1.02-.2 1.41-.59l7.78-7.78 2.81-2.81c.8-.78.8-2.07 0-2.86zM5.41 20L4 18.59l7.72-7.72 1.47 1.35L5.41 20z\"/>\n",
              "  </svg>\n",
              "      </button>\n",
              "      \n",
              "  <style>\n",
              "    .colab-df-container {\n",
              "      display:flex;\n",
              "      flex-wrap:wrap;\n",
              "      gap: 12px;\n",
              "    }\n",
              "\n",
              "    .colab-df-convert {\n",
              "      background-color: #E8F0FE;\n",
              "      border: none;\n",
              "      border-radius: 50%;\n",
              "      cursor: pointer;\n",
              "      display: none;\n",
              "      fill: #1967D2;\n",
              "      height: 32px;\n",
              "      padding: 0 0 0 0;\n",
              "      width: 32px;\n",
              "    }\n",
              "\n",
              "    .colab-df-convert:hover {\n",
              "      background-color: #E2EBFA;\n",
              "      box-shadow: 0px 1px 2px rgba(60, 64, 67, 0.3), 0px 1px 3px 1px rgba(60, 64, 67, 0.15);\n",
              "      fill: #174EA6;\n",
              "    }\n",
              "\n",
              "    [theme=dark] .colab-df-convert {\n",
              "      background-color: #3B4455;\n",
              "      fill: #D2E3FC;\n",
              "    }\n",
              "\n",
              "    [theme=dark] .colab-df-convert:hover {\n",
              "      background-color: #434B5C;\n",
              "      box-shadow: 0px 1px 3px 1px rgba(0, 0, 0, 0.15);\n",
              "      filter: drop-shadow(0px 1px 2px rgba(0, 0, 0, 0.3));\n",
              "      fill: #FFFFFF;\n",
              "    }\n",
              "  </style>\n",
              "\n",
              "      <script>\n",
              "        const buttonEl =\n",
              "          document.querySelector('#df-21b16405-d3a6-499a-97c2-eba3afae7db3 button.colab-df-convert');\n",
              "        buttonEl.style.display =\n",
              "          google.colab.kernel.accessAllowed ? 'block' : 'none';\n",
              "\n",
              "        async function convertToInteractive(key) {\n",
              "          const element = document.querySelector('#df-21b16405-d3a6-499a-97c2-eba3afae7db3');\n",
              "          const dataTable =\n",
              "            await google.colab.kernel.invokeFunction('convertToInteractive',\n",
              "                                                     [key], {});\n",
              "          if (!dataTable) return;\n",
              "\n",
              "          const docLinkHtml = 'Like what you see? Visit the ' +\n",
              "            '<a target=\"_blank\" href=https://colab.research.google.com/notebooks/data_table.ipynb>data table notebook</a>'\n",
              "            + ' to learn more about interactive tables.';\n",
              "          element.innerHTML = '';\n",
              "          dataTable['output_type'] = 'display_data';\n",
              "          await google.colab.output.renderOutput(dataTable, element);\n",
              "          const docLink = document.createElement('div');\n",
              "          docLink.innerHTML = docLinkHtml;\n",
              "          element.appendChild(docLink);\n",
              "        }\n",
              "      </script>\n",
              "    </div>\n",
              "  </div>\n",
              "  "
            ]
          },
          "metadata": {},
          "execution_count": 189
        }
      ]
    },
    {
      "cell_type": "code",
      "source": [
        "plotagem('Variação media do valor de venda da Etanol entre Julho e agosto',\n",
        "         'Tempo',\n",
        "         'Variação',\n",
        "         'data_da_coleta',\n",
        "         'variacao',\n",
        "         dados_valor_medio_etanol)"
      ],
      "metadata": {
        "colab": {
          "base_uri": "https://localhost:8080/",
          "height": 424
        },
        "id": "5Vv5ZsnD6r66",
        "outputId": "97327808-a111-47b4-c8f5-299fad85f8a0"
      },
      "id": "5Vv5ZsnD6r66",
      "execution_count": 190,
      "outputs": [
        {
          "output_type": "display_data",
          "data": {
            "text/plain": [
              "<Figure size 864x432 with 1 Axes>"
            ],
            "image/png": "[encoded data removed]"
          },
          "metadata": {}
        }
      ]
    }
  ],
  "metadata": {
    "colab": {
      "collapsed_sections": [
        "581082a2",
        "19c169b4",
        "29859f30",
        "de72661a",
        "eac24cf0",
        "333ceebc",
        "6380cc97",
        "5a5ce2be",
        "fe4fb906",
        "caecfb3d",
        "428fbdf4",
        "70b18086",
        "d41c799b",
        "B-Hb2sg46qV7",
        "ukomp0ng5txq",
        "KkdEsHVm7Npe",
        "g-gEW7p27eHn",
        "5sse181N_fGo",
        "DV3_aiBs7o1T",
        "8py6YqAy73Fg"
      ],
      "provenance": []
    },
    "kernelspec": {
      "display_name": "Python 3 (ipykernel)",
      "language": "python",
      "name": "python3"
    },
    "language_info": {
      "codemirror_mode": {
        "name": "ipython",
        "version": 3
      },
      "file_extension": ".py",
      "mimetype": "text/x-python",
      "name": "python",
      "nbconvert_exporter": "python",
      "pygments_lexer": "ipython3",
      "version": "3.9.12"
    },
    "vscode": {
      "interpreter": {
        "hash": "26de051ba29f2982a8de78e945f0abaf191376122a1563185a90213a26c5da77"
      }
    }
  },
  "nbformat": 4,
  "nbformat_minor": 5
}
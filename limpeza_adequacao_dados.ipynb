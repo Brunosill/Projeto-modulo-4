{
 "cells": [
  {
   "cell_type": "markdown",
   "id": "581082a2",
   "metadata": {
    "id": "581082a2"
   },
   "source": [
    "#  Limpeza e adequação da nomenclatura "
   ]
  },
  {
   "cell_type": "markdown",
   "id": "19c169b4",
   "metadata": {
    "id": "19c169b4"
   },
   "source": [
    "## Entrada dos dados"
   ]
  },
  {
   "cell_type": "markdown",
   "id": "29859f30",
   "metadata": {
    "id": "29859f30"
   },
   "source": [
    "### Preparando ambiente"
   ]
  },
  {
   "cell_type": "code",
   "execution_count": 1,
   "id": "56ce07d4",
   "metadata": {
    "executionInfo": {
     "elapsed": 302,
     "status": "ok",
     "timestamp": 1664940821760,
     "user": {
      "displayName": "Stephanie Fernandes",
      "userId": "14058772314077983436"
     },
     "user_tz": 180
    },
    "id": "56ce07d4"
   },
   "outputs": [],
   "source": [
    "#importando bibliotecas \n",
    "import pandas as pd\n",
    "import numpy as np\n",
    "import seaborn as sns\n",
    "import matplotlib\n",
    "import matplotlib.pyplot as plt"
   ]
  },
  {
   "cell_type": "markdown",
   "id": "de72661a",
   "metadata": {
    "id": "de72661a"
   },
   "source": [
    "### Importando dados de julho de 2022"
   ]
  },
  {
   "cell_type": "code",
   "execution_count": 2,
   "id": "9361be54",
   "metadata": {
    "colab": {
     "base_uri": "https://localhost:8080/",
     "height": 510
    },
    "executionInfo": {
     "elapsed": 23688,
     "status": "ok",
     "timestamp": 1664940145988,
     "user": {
      "displayName": "Stephanie Fernandes",
      "userId": "14058772314077983436"
     },
     "user_tz": 180
    },
    "id": "9361be54",
    "outputId": "182771a9-f00c-4dd9-e7d2-7a417b05cfab"
   },
   "outputs": [
    {
     "data": {
      "text/html": [
       "<div>\n",
       "<style scoped>\n",
       "    .dataframe tbody tr th:only-of-type {\n",
       "        vertical-align: middle;\n",
       "    }\n",
       "\n",
       "    .dataframe tbody tr th {\n",
       "        vertical-align: top;\n",
       "    }\n",
       "\n",
       "    .dataframe thead th {\n",
       "        text-align: right;\n",
       "    }\n",
       "</style>\n",
       "<table border=\"1\" class=\"dataframe\">\n",
       "  <thead>\n",
       "    <tr style=\"text-align: right;\">\n",
       "      <th></th>\n",
       "      <th>Regiao - Sigla</th>\n",
       "      <th>Estado - Sigla</th>\n",
       "      <th>Municipio</th>\n",
       "      <th>Revenda</th>\n",
       "      <th>CNPJ da Revenda</th>\n",
       "      <th>Nome da Rua</th>\n",
       "      <th>Numero Rua</th>\n",
       "      <th>Complemento</th>\n",
       "      <th>Bairro</th>\n",
       "      <th>Cep</th>\n",
       "      <th>Produto</th>\n",
       "      <th>Data da Coleta</th>\n",
       "      <th>Valor de Venda</th>\n",
       "      <th>Valor de Compra</th>\n",
       "      <th>Unidade de Medida</th>\n",
       "      <th>Bandeira</th>\n",
       "    </tr>\n",
       "  </thead>\n",
       "  <tbody>\n",
       "    <tr>\n",
       "      <th>0</th>\n",
       "      <td>SE</td>\n",
       "      <td>ES</td>\n",
       "      <td>COLATINA</td>\n",
       "      <td>SAO FRANCISCO DE ASSIS COMERCIO DE COMBUSTIVEI...</td>\n",
       "      <td>08.519.545/0001-10</td>\n",
       "      <td>PRACA FIDELIS FERRARI</td>\n",
       "      <td>35</td>\n",
       "      <td>NaN</td>\n",
       "      <td>LACE</td>\n",
       "      <td>29703-030</td>\n",
       "      <td>GASOLINA ADITIVADA</td>\n",
       "      <td>01/07/2022</td>\n",
       "      <td>7,48</td>\n",
       "      <td>NaN</td>\n",
       "      <td>R$ / litro</td>\n",
       "      <td>VIBRA ENERGIA</td>\n",
       "    </tr>\n",
       "    <tr>\n",
       "      <th>1</th>\n",
       "      <td>SE</td>\n",
       "      <td>ES</td>\n",
       "      <td>COLATINA</td>\n",
       "      <td>SAO FRANCISCO DE ASSIS COMERCIO DE COMBUSTIVEI...</td>\n",
       "      <td>08.519.545/0001-10</td>\n",
       "      <td>PRACA FIDELIS FERRARI</td>\n",
       "      <td>35</td>\n",
       "      <td>NaN</td>\n",
       "      <td>LACE</td>\n",
       "      <td>29703-030</td>\n",
       "      <td>GASOLINA</td>\n",
       "      <td>01/07/2022</td>\n",
       "      <td>7,38</td>\n",
       "      <td>NaN</td>\n",
       "      <td>R$ / litro</td>\n",
       "      <td>VIBRA ENERGIA</td>\n",
       "    </tr>\n",
       "    <tr>\n",
       "      <th>2</th>\n",
       "      <td>SE</td>\n",
       "      <td>ES</td>\n",
       "      <td>COLATINA</td>\n",
       "      <td>POSTO MOTOCAP LTDA</td>\n",
       "      <td>04.814.652/0001-10</td>\n",
       "      <td>PRACA ALMIRANTE BARROSO</td>\n",
       "      <td>52</td>\n",
       "      <td>LETRA A</td>\n",
       "      <td>LACE</td>\n",
       "      <td>29703-055</td>\n",
       "      <td>ETANOL</td>\n",
       "      <td>01/07/2022</td>\n",
       "      <td>5,99</td>\n",
       "      <td>NaN</td>\n",
       "      <td>R$ / litro</td>\n",
       "      <td>VIBRA ENERGIA</td>\n",
       "    </tr>\n",
       "    <tr>\n",
       "      <th>3</th>\n",
       "      <td>SE</td>\n",
       "      <td>ES</td>\n",
       "      <td>COLATINA</td>\n",
       "      <td>POSTO MOTOCAP LTDA</td>\n",
       "      <td>04.814.652/0001-10</td>\n",
       "      <td>PRACA ALMIRANTE BARROSO</td>\n",
       "      <td>52</td>\n",
       "      <td>LETRA A</td>\n",
       "      <td>LACE</td>\n",
       "      <td>29703-055</td>\n",
       "      <td>GASOLINA</td>\n",
       "      <td>01/07/2022</td>\n",
       "      <td>7,39</td>\n",
       "      <td>NaN</td>\n",
       "      <td>R$ / litro</td>\n",
       "      <td>VIBRA ENERGIA</td>\n",
       "    </tr>\n",
       "    <tr>\n",
       "      <th>4</th>\n",
       "      <td>CO</td>\n",
       "      <td>GO</td>\n",
       "      <td>GOIANIA</td>\n",
       "      <td>JUSTINIANO &amp; JUSTINIANO LTDA</td>\n",
       "      <td>04.489.287/0001-16</td>\n",
       "      <td>AVENIDA JOSE LEANDRO DA CRUZ</td>\n",
       "      <td>2,36</td>\n",
       "      <td>QUADRA 18, LOTE 01</td>\n",
       "      <td>PARQUE AMAZONIA</td>\n",
       "      <td>74840-390</td>\n",
       "      <td>GASOLINA ADITIVADA</td>\n",
       "      <td>01/07/2022</td>\n",
       "      <td>6,49</td>\n",
       "      <td>NaN</td>\n",
       "      <td>R$ / litro</td>\n",
       "      <td>IPIRANGA</td>\n",
       "    </tr>\n",
       "  </tbody>\n",
       "</table>\n",
       "</div>"
      ],
      "text/plain": [
       "  Regiao - Sigla Estado - Sigla Municipio  \\\n",
       "0             SE             ES  COLATINA   \n",
       "1             SE             ES  COLATINA   \n",
       "2             SE             ES  COLATINA   \n",
       "3             SE             ES  COLATINA   \n",
       "4             CO             GO   GOIANIA   \n",
       "\n",
       "                                             Revenda      CNPJ da Revenda  \\\n",
       "0  SAO FRANCISCO DE ASSIS COMERCIO DE COMBUSTIVEI...   08.519.545/0001-10   \n",
       "1  SAO FRANCISCO DE ASSIS COMERCIO DE COMBUSTIVEI...   08.519.545/0001-10   \n",
       "2                                 POSTO MOTOCAP LTDA   04.814.652/0001-10   \n",
       "3                                 POSTO MOTOCAP LTDA   04.814.652/0001-10   \n",
       "4                       JUSTINIANO & JUSTINIANO LTDA   04.489.287/0001-16   \n",
       "\n",
       "                    Nome da Rua Numero Rua         Complemento  \\\n",
       "0         PRACA FIDELIS FERRARI         35                 NaN   \n",
       "1         PRACA FIDELIS FERRARI         35                 NaN   \n",
       "2       PRACA ALMIRANTE BARROSO         52             LETRA A   \n",
       "3       PRACA ALMIRANTE BARROSO         52             LETRA A   \n",
       "4  AVENIDA JOSE LEANDRO DA CRUZ       2,36  QUADRA 18, LOTE 01   \n",
       "\n",
       "            Bairro        Cep             Produto Data da Coleta  \\\n",
       "0             LACE  29703-030  GASOLINA ADITIVADA     01/07/2022   \n",
       "1             LACE  29703-030            GASOLINA     01/07/2022   \n",
       "2             LACE  29703-055              ETANOL     01/07/2022   \n",
       "3             LACE  29703-055            GASOLINA     01/07/2022   \n",
       "4  PARQUE AMAZONIA  74840-390  GASOLINA ADITIVADA     01/07/2022   \n",
       "\n",
       "  Valor de Venda  Valor de Compra Unidade de Medida       Bandeira  \n",
       "0           7,48              NaN        R$ / litro  VIBRA ENERGIA  \n",
       "1           7,38              NaN        R$ / litro  VIBRA ENERGIA  \n",
       "2           5,99              NaN        R$ / litro  VIBRA ENERGIA  \n",
       "3           7,39              NaN        R$ / litro  VIBRA ENERGIA  \n",
       "4           6,49              NaN        R$ / litro       IPIRANGA  "
      ]
     },
     "execution_count": 2,
     "metadata": {},
     "output_type": "execute_result"
    }
   ],
   "source": [
    "def julhoCsv():\n",
    "        try:\n",
    "          url_julho = 'https://www.gov.br/anp/pt-br/centrais-de-conteudo/dados-abertos/arquivos/shpc/dsan/2022/precos-gasolina-etanol-07.csv'\n",
    "          dados_brutos_julho = pd.read_csv(url_julho, sep=';')\n",
    "          return dados_brutos_julho\n",
    "\n",
    "        except:\n",
    "          url_julho = 'https://raw.githubusercontent.com/lucasCanella/Projeto-modulo-4/colab1/dados/dados_originais/precos-gasolina-etanol-julho.csv'\n",
    "          dados_brutos_julho = pd.read_csv(url_julho, sep=';')\n",
    "          return dados_brutos_julho\n",
    "\n",
    "dados_brutos_julho = julhoCsv()\n",
    "dados_brutos_julho.head()"
   ]
  },
  {
   "cell_type": "markdown",
   "id": "eac24cf0",
   "metadata": {
    "id": "eac24cf0"
   },
   "source": [
    "### Importando dados de agosto de 2022"
   ]
  },
  {
   "cell_type": "code",
   "execution_count": 3,
   "id": "87afea01",
   "metadata": {
    "colab": {
     "base_uri": "https://localhost:8080/",
     "height": 424
    },
    "executionInfo": {
     "elapsed": 28834,
     "status": "ok",
     "timestamp": 1664940174813,
     "user": {
      "displayName": "Stephanie Fernandes",
      "userId": "14058772314077983436"
     },
     "user_tz": 180
    },
    "id": "87afea01",
    "outputId": "7d505e3c-8d35-4b21-c6a9-5e9a7e3f3190"
   },
   "outputs": [
    {
     "data": {
      "text/html": [
       "<div>\n",
       "<style scoped>\n",
       "    .dataframe tbody tr th:only-of-type {\n",
       "        vertical-align: middle;\n",
       "    }\n",
       "\n",
       "    .dataframe tbody tr th {\n",
       "        vertical-align: top;\n",
       "    }\n",
       "\n",
       "    .dataframe thead th {\n",
       "        text-align: right;\n",
       "    }\n",
       "</style>\n",
       "<table border=\"1\" class=\"dataframe\">\n",
       "  <thead>\n",
       "    <tr style=\"text-align: right;\">\n",
       "      <th></th>\n",
       "      <th>Regiao - Sigla</th>\n",
       "      <th>Estado - Sigla</th>\n",
       "      <th>Municipio</th>\n",
       "      <th>Revenda</th>\n",
       "      <th>CNPJ da Revenda</th>\n",
       "      <th>Nome da Rua</th>\n",
       "      <th>Numero Rua</th>\n",
       "      <th>Complemento</th>\n",
       "      <th>Bairro</th>\n",
       "      <th>Cep</th>\n",
       "      <th>Produto</th>\n",
       "      <th>Data da Coleta</th>\n",
       "      <th>Valor de Venda</th>\n",
       "      <th>Valor de Compra</th>\n",
       "      <th>Unidade de Medida</th>\n",
       "      <th>Bandeira</th>\n",
       "    </tr>\n",
       "  </thead>\n",
       "  <tbody>\n",
       "    <tr>\n",
       "      <th>0</th>\n",
       "      <td>NE</td>\n",
       "      <td>AL</td>\n",
       "      <td>ARAPIRACA</td>\n",
       "      <td>AUTO POSTO M M GARROTE LTDA</td>\n",
       "      <td>08.738.994/0001-50</td>\n",
       "      <td>RODOVIA AL-220</td>\n",
       "      <td>5848</td>\n",
       "      <td>KM    96</td>\n",
       "      <td>BOM SUCESSO</td>\n",
       "      <td>57309-035</td>\n",
       "      <td>ETANOL</td>\n",
       "      <td>01/08/2022</td>\n",
       "      <td>4,79</td>\n",
       "      <td>NaN</td>\n",
       "      <td>R$ / litro</td>\n",
       "      <td>VIBRA ENERGIA</td>\n",
       "    </tr>\n",
       "    <tr>\n",
       "      <th>1</th>\n",
       "      <td>NE</td>\n",
       "      <td>AL</td>\n",
       "      <td>ARAPIRACA</td>\n",
       "      <td>AUTO POSTO M M GARROTE LTDA</td>\n",
       "      <td>08.738.994/0001-50</td>\n",
       "      <td>RODOVIA AL-220</td>\n",
       "      <td>5848</td>\n",
       "      <td>KM    96</td>\n",
       "      <td>BOM SUCESSO</td>\n",
       "      <td>57309-035</td>\n",
       "      <td>GASOLINA</td>\n",
       "      <td>01/08/2022</td>\n",
       "      <td>5,59</td>\n",
       "      <td>NaN</td>\n",
       "      <td>R$ / litro</td>\n",
       "      <td>VIBRA ENERGIA</td>\n",
       "    </tr>\n",
       "    <tr>\n",
       "      <th>2</th>\n",
       "      <td>NE</td>\n",
       "      <td>AL</td>\n",
       "      <td>ARAPIRACA</td>\n",
       "      <td>AUTO POSTO MASSARANDUBA LTDA.</td>\n",
       "      <td>07.248.398/0001-29</td>\n",
       "      <td>RODOVIA AL 220</td>\n",
       "      <td>4698</td>\n",
       "      <td>NaN</td>\n",
       "      <td>PLANALTO</td>\n",
       "      <td>57308-000</td>\n",
       "      <td>GASOLINA ADITIVADA</td>\n",
       "      <td>01/08/2022</td>\n",
       "      <td>5,99</td>\n",
       "      <td>NaN</td>\n",
       "      <td>R$ / litro</td>\n",
       "      <td>BRANCA</td>\n",
       "    </tr>\n",
       "    <tr>\n",
       "      <th>3</th>\n",
       "      <td>NE</td>\n",
       "      <td>AL</td>\n",
       "      <td>ARAPIRACA</td>\n",
       "      <td>AUTO POSTO MASSARANDUBA LTDA.</td>\n",
       "      <td>07.248.398/0001-29</td>\n",
       "      <td>RODOVIA AL 220</td>\n",
       "      <td>4698</td>\n",
       "      <td>NaN</td>\n",
       "      <td>PLANALTO</td>\n",
       "      <td>57308-000</td>\n",
       "      <td>ETANOL</td>\n",
       "      <td>01/08/2022</td>\n",
       "      <td>4,99</td>\n",
       "      <td>NaN</td>\n",
       "      <td>R$ / litro</td>\n",
       "      <td>BRANCA</td>\n",
       "    </tr>\n",
       "    <tr>\n",
       "      <th>4</th>\n",
       "      <td>NE</td>\n",
       "      <td>AL</td>\n",
       "      <td>ARAPIRACA</td>\n",
       "      <td>AUTO POSTO MASSARANDUBA LTDA.</td>\n",
       "      <td>07.248.398/0001-29</td>\n",
       "      <td>RODOVIA AL 220</td>\n",
       "      <td>4698</td>\n",
       "      <td>NaN</td>\n",
       "      <td>PLANALTO</td>\n",
       "      <td>57308-000</td>\n",
       "      <td>GASOLINA</td>\n",
       "      <td>01/08/2022</td>\n",
       "      <td>5,79</td>\n",
       "      <td>NaN</td>\n",
       "      <td>R$ / litro</td>\n",
       "      <td>BRANCA</td>\n",
       "    </tr>\n",
       "  </tbody>\n",
       "</table>\n",
       "</div>"
      ],
      "text/plain": [
       "  Regiao - Sigla Estado - Sigla  Municipio                        Revenda  \\\n",
       "0             NE             AL  ARAPIRACA    AUTO POSTO M M GARROTE LTDA   \n",
       "1             NE             AL  ARAPIRACA    AUTO POSTO M M GARROTE LTDA   \n",
       "2             NE             AL  ARAPIRACA  AUTO POSTO MASSARANDUBA LTDA.   \n",
       "3             NE             AL  ARAPIRACA  AUTO POSTO MASSARANDUBA LTDA.   \n",
       "4             NE             AL  ARAPIRACA  AUTO POSTO MASSARANDUBA LTDA.   \n",
       "\n",
       "       CNPJ da Revenda     Nome da Rua Numero Rua Complemento       Bairro  \\\n",
       "0   08.738.994/0001-50  RODOVIA AL-220       5848    KM    96  BOM SUCESSO   \n",
       "1   08.738.994/0001-50  RODOVIA AL-220       5848    KM    96  BOM SUCESSO   \n",
       "2   07.248.398/0001-29  RODOVIA AL 220       4698         NaN     PLANALTO   \n",
       "3   07.248.398/0001-29  RODOVIA AL 220       4698         NaN     PLANALTO   \n",
       "4   07.248.398/0001-29  RODOVIA AL 220       4698         NaN     PLANALTO   \n",
       "\n",
       "         Cep             Produto Data da Coleta Valor de Venda  \\\n",
       "0  57309-035              ETANOL     01/08/2022           4,79   \n",
       "1  57309-035            GASOLINA     01/08/2022           5,59   \n",
       "2  57308-000  GASOLINA ADITIVADA     01/08/2022           5,99   \n",
       "3  57308-000              ETANOL     01/08/2022           4,99   \n",
       "4  57308-000            GASOLINA     01/08/2022           5,79   \n",
       "\n",
       "   Valor de Compra Unidade de Medida       Bandeira  \n",
       "0              NaN        R$ / litro  VIBRA ENERGIA  \n",
       "1              NaN        R$ / litro  VIBRA ENERGIA  \n",
       "2              NaN        R$ / litro         BRANCA  \n",
       "3              NaN        R$ / litro         BRANCA  \n",
       "4              NaN        R$ / litro         BRANCA  "
      ]
     },
     "execution_count": 3,
     "metadata": {},
     "output_type": "execute_result"
    }
   ],
   "source": [
    "def agostoCsv():\n",
    "        try:\n",
    "          url_agosto = 'https://www.gov.br/anp/pt-br/centrais-de-conteudo/dados-abertos/arquivos/shpc/dsan/2022/precos-gasolina-etanol-08.csv'\n",
    "          dados_brutos_agosto = pd.read_csv(url_agosto, sep=';')\n",
    "          return dados_brutos_agosto\n",
    "\n",
    "        except:\n",
    "          url_agosto = 'https://raw.githubusercontent.com/lucasCanella/Projeto-modulo-4/colab1/dados/dados_originais/precos-gasolina-etanol-agosto.csv'\n",
    "\n",
    "          dados_brutos_agosto = pd.read_csv(url_agosto, sep=';')\n",
    "          return dados_brutos_agosto\n",
    "\n",
    "dados_brutos_agosto = agostoCsv()\n",
    "dados_brutos_agosto.head()"
   ]
  },
  {
   "cell_type": "markdown",
   "id": "333ceebc",
   "metadata": {
    "id": "333ceebc"
   },
   "source": [
    "## União, adequação de dados e de nomenclatura"
   ]
  },
  {
   "cell_type": "markdown",
   "id": "6380cc97",
   "metadata": {
    "id": "6380cc97"
   },
   "source": [
    "### Modificação do padrão das datas"
   ]
  },
  {
   "cell_type": "code",
   "execution_count": 4,
   "id": "0faf0d5f",
   "metadata": {
    "colab": {
     "base_uri": "https://localhost:8080/"
    },
    "executionInfo": {
     "elapsed": 32,
     "status": "ok",
     "timestamp": 1664940174814,
     "user": {
      "displayName": "Stephanie Fernandes",
      "userId": "14058772314077983436"
     },
     "user_tz": 180
    },
    "id": "0faf0d5f",
    "outputId": "f7d52de1-f6bc-4de6-e971-6521fe3df78a"
   },
   "outputs": [
    {
     "data": {
      "text/plain": [
       "0   2022-07-01\n",
       "1   2022-07-01\n",
       "2   2022-07-01\n",
       "3   2022-07-01\n",
       "4   2022-07-01\n",
       "Name: Data da Coleta, dtype: datetime64[ns]"
      ]
     },
     "execution_count": 4,
     "metadata": {},
     "output_type": "execute_result"
    }
   ],
   "source": [
    "#dados de julho\n",
    "dados_brutos_julho['Data da Coleta'] = pd.to_datetime(dados_brutos_julho['Data da Coleta'], dayfirst=True)\n",
    "dados_brutos_julho['Data da Coleta'].head()"
   ]
  },
  {
   "cell_type": "code",
   "execution_count": 5,
   "id": "d574d72d",
   "metadata": {
    "colab": {
     "base_uri": "https://localhost:8080/"
    },
    "executionInfo": {
     "elapsed": 28,
     "status": "ok",
     "timestamp": 1664940174815,
     "user": {
      "displayName": "Stephanie Fernandes",
      "userId": "14058772314077983436"
     },
     "user_tz": 180
    },
    "id": "d574d72d",
    "outputId": "5a869298-3c4b-40b6-efb4-014ac54d0956"
   },
   "outputs": [
    {
     "data": {
      "text/plain": [
       "0   2022-08-01\n",
       "1   2022-08-01\n",
       "2   2022-08-01\n",
       "3   2022-08-01\n",
       "4   2022-08-01\n",
       "Name: Data da Coleta, dtype: datetime64[ns]"
      ]
     },
     "execution_count": 5,
     "metadata": {},
     "output_type": "execute_result"
    }
   ],
   "source": [
    "#dados de agosto\n",
    "dados_brutos_agosto['Data da Coleta'] = pd.to_datetime(dados_brutos_agosto['Data da Coleta'], dayfirst=True)\n",
    "dados_brutos_agosto['Data da Coleta'].head()"
   ]
  },
  {
   "cell_type": "markdown",
   "id": "5a5ce2be",
   "metadata": {
    "id": "5a5ce2be"
   },
   "source": [
    "### União dos dataframes "
   ]
  },
  {
   "cell_type": "code",
   "execution_count": 6,
   "id": "f02ce91a",
   "metadata": {
    "executionInfo": {
     "elapsed": 461,
     "status": "ok",
     "timestamp": 1664940175249,
     "user": {
      "displayName": "Stephanie Fernandes",
      "userId": "14058772314077983436"
     },
     "user_tz": 180
    },
    "id": "f02ce91a"
   },
   "outputs": [],
   "source": [
    "lista_dados = [dados_brutos_julho ,dados_brutos_agosto]\n",
    "dados_brutos = pd.concat(lista_dados, ignore_index= True, verify_integrity=True)"
   ]
  },
  {
   "cell_type": "markdown",
   "id": "fe4fb906",
   "metadata": {
    "id": "fe4fb906"
   },
   "source": [
    "### Momenclatura das colunas "
   ]
  },
  {
   "cell_type": "code",
   "execution_count": 7,
   "id": "8368bae7",
   "metadata": {
    "colab": {
     "base_uri": "https://localhost:8080/"
    },
    "executionInfo": {
     "elapsed": 18,
     "status": "ok",
     "timestamp": 1664940175250,
     "user": {
      "displayName": "Stephanie Fernandes",
      "userId": "14058772314077983436"
     },
     "user_tz": 180
    },
    "id": "8368bae7",
    "outputId": "5f4c9e25-4a1f-4dc0-b115-614515a95f5e"
   },
   "outputs": [
    {
     "data": {
      "text/plain": [
       "Index(['regiao_sigla', 'estado_sigla', 'municipio', 'revenda',\n",
       "       'cnpj_da_revenda', 'nome_da_rua', 'numero_rua', 'complemento', 'bairro',\n",
       "       'cep', 'produto', 'data_da_coleta', 'valor_de_venda', 'valor_de_compra',\n",
       "       'unidade_de_medida', 'bandeira'],\n",
       "      dtype='object')"
      ]
     },
     "execution_count": 7,
     "metadata": {},
     "output_type": "execute_result"
    }
   ],
   "source": [
    "#modificacao do nome de columas\n",
    "dados_brutos.columns = dados_brutos.columns.str.replace('- ','')\n",
    "dados_brutos.columns = dados_brutos.columns.str.replace(' ','_')\n",
    "dados_brutos.columns = dados_brutos.columns.str.lower()\n",
    "dados_brutos.columns"
   ]
  },
  {
   "cell_type": "markdown",
   "id": "caecfb3d",
   "metadata": {
    "id": "caecfb3d"
   },
   "source": [
    "## Verificação de valores "
   ]
  },
  {
   "cell_type": "markdown",
   "id": "428fbdf4",
   "metadata": {
    "id": "428fbdf4"
   },
   "source": [
    "### Adequação dos valores da coluna valor_de_venda"
   ]
  },
  {
   "cell_type": "code",
   "execution_count": 8,
   "id": "15e7871c",
   "metadata": {
    "executionInfo": {
     "elapsed": 11,
     "status": "ok",
     "timestamp": 1664940175251,
     "user": {
      "displayName": "Stephanie Fernandes",
      "userId": "14058772314077983436"
     },
     "user_tz": 180
    },
    "id": "15e7871c"
   },
   "outputs": [],
   "source": [
    "#trocando vigula por ponto e nudando de string para float\n",
    "valores_virgula = dados_brutos['valor_de_venda'].tolist()\n",
    "valores_ponto = [x.replace(',', '.') for x in valores_virgula]\n",
    "dados_brutos['valor_de_venda'] = valores_ponto\n",
    "dados_brutos['valor_de_venda'] = dados_brutos['valor_de_venda'].astype(float)"
   ]
  },
  {
   "cell_type": "code",
   "execution_count": 9,
   "id": "b119a352",
   "metadata": {
    "colab": {
     "base_uri": "https://localhost:8080/"
    },
    "executionInfo": {
     "elapsed": 10,
     "status": "ok",
     "timestamp": 1664940175251,
     "user": {
      "displayName": "Stephanie Fernandes",
      "userId": "14058772314077983436"
     },
     "user_tz": 180
    },
    "id": "b119a352",
    "outputId": "3e53376e-3e15-4a76-f98c-3dd7d7362319"
   },
   "outputs": [
    {
     "name": "stdout",
     "output_type": "stream",
     "text": [
      "<class 'pandas.core.frame.DataFrame'>\n",
      "RangeIndex: 127176 entries, 0 to 127175\n",
      "Data columns (total 16 columns):\n",
      " #   Column             Non-Null Count   Dtype         \n",
      "---  ------             --------------   -----         \n",
      " 0   regiao_sigla       127176 non-null  object        \n",
      " 1   estado_sigla       127176 non-null  object        \n",
      " 2   municipio          127176 non-null  object        \n",
      " 3   revenda            127176 non-null  object        \n",
      " 4   cnpj_da_revenda    127176 non-null  object        \n",
      " 5   nome_da_rua        127176 non-null  object        \n",
      " 6   numero_rua         127105 non-null  object        \n",
      " 7   complemento        27079 non-null   object        \n",
      " 8   bairro             126764 non-null  object        \n",
      " 9   cep                127176 non-null  object        \n",
      " 10  produto            127176 non-null  object        \n",
      " 11  data_da_coleta     127176 non-null  datetime64[ns]\n",
      " 12  valor_de_venda     127176 non-null  float64       \n",
      " 13  valor_de_compra    0 non-null       float64       \n",
      " 14  unidade_de_medida  127176 non-null  object        \n",
      " 15  bandeira           127176 non-null  object        \n",
      "dtypes: datetime64[ns](1), float64(2), object(13)\n",
      "memory usage: 15.5+ MB\n"
     ]
    }
   ],
   "source": [
    "dados_brutos.info()"
   ]
  },
  {
   "cell_type": "markdown",
   "id": "70b18086",
   "metadata": {
    "id": "70b18086"
   },
   "source": [
    "### Verificação colunas"
   ]
  },
  {
   "cell_type": "code",
   "execution_count": 10,
   "id": "966a73ac",
   "metadata": {
    "colab": {
     "base_uri": "https://localhost:8080/"
    },
    "executionInfo": {
     "elapsed": 9,
     "status": "ok",
     "timestamp": 1664940175252,
     "user": {
      "displayName": "Stephanie Fernandes",
      "userId": "14058772314077983436"
     },
     "user_tz": 180
    },
    "id": "966a73ac",
    "outputId": "580108da-41c9-48b9-9f3d-30e5358cfe58"
   },
   "outputs": [
    {
     "name": "stdout",
     "output_type": "stream",
     "text": [
      "<class 'pandas.core.frame.DataFrame'>\n",
      "RangeIndex: 127176 entries, 0 to 127175\n",
      "Data columns (total 16 columns):\n",
      " #   Column             Non-Null Count   Dtype         \n",
      "---  ------             --------------   -----         \n",
      " 0   regiao_sigla       127176 non-null  object        \n",
      " 1   estado_sigla       127176 non-null  object        \n",
      " 2   municipio          127176 non-null  object        \n",
      " 3   revenda            127176 non-null  object        \n",
      " 4   cnpj_da_revenda    127176 non-null  object        \n",
      " 5   nome_da_rua        127176 non-null  object        \n",
      " 6   numero_rua         127105 non-null  object        \n",
      " 7   complemento        27079 non-null   object        \n",
      " 8   bairro             126764 non-null  object        \n",
      " 9   cep                127176 non-null  object        \n",
      " 10  produto            127176 non-null  object        \n",
      " 11  data_da_coleta     127176 non-null  datetime64[ns]\n",
      " 12  valor_de_venda     127176 non-null  float64       \n",
      " 13  valor_de_compra    0 non-null       float64       \n",
      " 14  unidade_de_medida  127176 non-null  object        \n",
      " 15  bandeira           127176 non-null  object        \n",
      "dtypes: datetime64[ns](1), float64(2), object(13)\n",
      "memory usage: 15.5+ MB\n"
     ]
    }
   ],
   "source": [
    "dados_brutos.info()"
   ]
  },
  {
   "cell_type": "markdown",
   "id": "95f61f73",
   "metadata": {
    "id": "95f61f73"
   },
   "source": [
    "Aparentemente 'valor_de_compra' esta vazia e poucos valores em 'complemento'"
   ]
  },
  {
   "cell_type": "code",
   "execution_count": 11,
   "id": "34d4520b",
   "metadata": {
    "colab": {
     "base_uri": "https://localhost:8080/"
    },
    "executionInfo": {
     "elapsed": 7,
     "status": "ok",
     "timestamp": 1664940175252,
     "user": {
      "displayName": "Stephanie Fernandes",
      "userId": "14058772314077983436"
     },
     "user_tz": 180
    },
    "id": "34d4520b",
    "outputId": "def5bb66-1197-4c2a-c772-bcb0c3d2261b"
   },
   "outputs": [
    {
     "data": {
      "text/plain": [
       "array([nan])"
      ]
     },
     "execution_count": 11,
     "metadata": {},
     "output_type": "execute_result"
    }
   ],
   "source": [
    "#verificando se a coluna esta vazia \n",
    "dados_brutos.valor_de_compra.unique()"
   ]
  },
  {
   "cell_type": "code",
   "execution_count": 12,
   "id": "d19d9569",
   "metadata": {
    "executionInfo": {
     "elapsed": 361,
     "status": "ok",
     "timestamp": 1664940175607,
     "user": {
      "displayName": "Stephanie Fernandes",
      "userId": "14058772314077983436"
     },
     "user_tz": 180
    },
    "id": "d19d9569"
   },
   "outputs": [],
   "source": [
    "dados_brutos.drop(columns=['valor_de_compra'], inplace=True)"
   ]
  },
  {
   "cell_type": "code",
   "execution_count": 13,
   "id": "8cd625a7",
   "metadata": {
    "colab": {
     "base_uri": "https://localhost:8080/"
    },
    "executionInfo": {
     "elapsed": 14,
     "status": "ok",
     "timestamp": 1664940175608,
     "user": {
      "displayName": "Stephanie Fernandes",
      "userId": "14058772314077983436"
     },
     "user_tz": 180
    },
    "id": "8cd625a7",
    "outputId": "2654570c-6042-4b53-e23d-fe04ed8fa891"
   },
   "outputs": [
    {
     "name": "stdout",
     "output_type": "stream",
     "text": [
      "<class 'pandas.core.frame.DataFrame'>\n",
      "RangeIndex: 127176 entries, 0 to 127175\n",
      "Data columns (total 15 columns):\n",
      " #   Column             Non-Null Count   Dtype         \n",
      "---  ------             --------------   -----         \n",
      " 0   regiao_sigla       127176 non-null  object        \n",
      " 1   estado_sigla       127176 non-null  object        \n",
      " 2   municipio          127176 non-null  object        \n",
      " 3   revenda            127176 non-null  object        \n",
      " 4   cnpj_da_revenda    127176 non-null  object        \n",
      " 5   nome_da_rua        127176 non-null  object        \n",
      " 6   numero_rua         127105 non-null  object        \n",
      " 7   complemento        27079 non-null   object        \n",
      " 8   bairro             126764 non-null  object        \n",
      " 9   cep                127176 non-null  object        \n",
      " 10  produto            127176 non-null  object        \n",
      " 11  data_da_coleta     127176 non-null  datetime64[ns]\n",
      " 12  valor_de_venda     127176 non-null  float64       \n",
      " 13  unidade_de_medida  127176 non-null  object        \n",
      " 14  bandeira           127176 non-null  object        \n",
      "dtypes: datetime64[ns](1), float64(1), object(13)\n",
      "memory usage: 14.6+ MB\n"
     ]
    }
   ],
   "source": [
    "dados_brutos.info()"
   ]
  },
  {
   "cell_type": "markdown",
   "id": "a9f47635",
   "metadata": {
    "id": "a9f47635"
   },
   "source": [
    "verificando coluna complemento"
   ]
  },
  {
   "cell_type": "code",
   "execution_count": 14,
   "id": "dddd2d35",
   "metadata": {
    "colab": {
     "base_uri": "https://localhost:8080/"
    },
    "executionInfo": {
     "elapsed": 7,
     "status": "ok",
     "timestamp": 1664940175608,
     "user": {
      "displayName": "Stephanie Fernandes",
      "userId": "14058772314077983436"
     },
     "user_tz": 180
    },
    "id": "dddd2d35",
    "outputId": "212aa9dc-7e62-42a1-f81e-7992d233e4b3"
   },
   "outputs": [
    {
     "data": {
      "text/plain": [
       "array([nan, 'LETRA A', 'QUADRA 18, LOTE 01', ..., 'GARA6EM',\n",
       "       'KM    615  280 M', 'LOTE  00013                     0002'],\n",
       "      dtype=object)"
      ]
     },
     "execution_count": 14,
     "metadata": {},
     "output_type": "execute_result"
    }
   ],
   "source": [
    "dados_brutos.complemento.unique()"
   ]
  },
  {
   "cell_type": "code",
   "execution_count": 15,
   "id": "6f9c7701",
   "metadata": {
    "executionInfo": {
     "elapsed": 8,
     "status": "ok",
     "timestamp": 1664940175610,
     "user": {
      "displayName": "Stephanie Fernandes",
      "userId": "14058772314077983436"
     },
     "user_tz": 180
    },
    "id": "6f9c7701"
   },
   "outputs": [],
   "source": [
    "dados_brutos.drop(columns=['complemento'], inplace=True)"
   ]
  },
  {
   "cell_type": "markdown",
   "id": "d41c799b",
   "metadata": {
    "id": "d41c799b"
   },
   "source": [
    "## Verificando valores destoantes "
   ]
  },
  {
   "cell_type": "code",
   "execution_count": 16,
   "id": "5004172b",
   "metadata": {
    "colab": {
     "base_uri": "https://localhost:8080/"
    },
    "executionInfo": {
     "elapsed": 8,
     "status": "ok",
     "timestamp": 1664940175610,
     "user": {
      "displayName": "Stephanie Fernandes",
      "userId": "14058772314077983436"
     },
     "user_tz": 180
    },
    "id": "5004172b",
    "outputId": "49560e06-df5d-43fa-de31-abd7f2434151"
   },
   "outputs": [
    {
     "data": {
      "text/plain": [
       "count    127176.000000\n",
       "mean          5.355503\n",
       "std           0.860449\n",
       "min           2.890000\n",
       "25%           4.880000\n",
       "50%           5.490000\n",
       "75%           5.890000\n",
       "max           9.270000\n",
       "Name: valor_de_venda, dtype: float64"
      ]
     },
     "execution_count": 16,
     "metadata": {},
     "output_type": "execute_result"
    }
   ],
   "source": [
    "dados_brutos.valor_de_venda.describe()"
   ]
  },
  {
   "cell_type": "code",
   "execution_count": 17,
   "id": "4d36be6a",
   "metadata": {
    "colab": {
     "base_uri": "https://localhost:8080/",
     "height": 282
    },
    "executionInfo": {
     "elapsed": 290,
     "status": "ok",
     "timestamp": 1664940175894,
     "user": {
      "displayName": "Stephanie Fernandes",
      "userId": "14058772314077983436"
     },
     "user_tz": 180
    },
    "id": "4d36be6a",
    "outputId": "cca39a11-023a-456b-8b78-7740fe1c53f9"
   },
   "outputs": [
    {
     "data": {
      "text/plain": [
       "<AxesSubplot:ylabel='Frequency'>"
      ]
     },
     "execution_count": 17,
     "metadata": {},
     "output_type": "execute_result"
    },
    {
     "data": {
      "image/png": "[encoded data removed]",
      "text/plain": [
       "<Figure size 432x288 with 1 Axes>"
      ]
     },
     "metadata": {
      "needs_background": "light"
     },
     "output_type": "display_data"
    }
   ],
   "source": [
    "dados_brutos.valor_de_venda.plot(kind='hist')"
   ]
  },
  {
   "cell_type": "code",
   "execution_count": 18,
   "id": "3c16115d",
   "metadata": {
    "colab": {
     "base_uri": "https://localhost:8080/",
     "height": 352
    },
    "executionInfo": {
     "elapsed": 320,
     "status": "ok",
     "timestamp": 1664940176210,
     "user": {
      "displayName": "Stephanie Fernandes",
      "userId": "14058772314077983436"
     },
     "user_tz": 180
    },
    "id": "3c16115d",
    "outputId": "4bce0896-081e-49d6-bf26-e31c01831f9e"
   },
   "outputs": [
    {
     "name": "stderr",
     "output_type": "stream",
     "text": [
      "C:\\ProgramData\\Anaconda3\\lib\\site-packages\\seaborn\\_decorators.py:36: FutureWarning: Pass the following variable as a keyword arg: x. From version 0.12, the only valid positional argument will be `data`, and passing other arguments without an explicit keyword will result in an error or misinterpretation.\n",
      "  warnings.warn(\n"
     ]
    },
    {
     "data": {
      "text/plain": [
       "<AxesSubplot:xlabel='valor_de_venda'>"
      ]
     },
     "execution_count": 18,
     "metadata": {},
     "output_type": "execute_result"
    },
    {
     "data": {
      "image/png": "[encoded data removed]",
      "text/plain": [
       "<Figure size 432x288 with 1 Axes>"
      ]
     },
     "metadata": {
      "needs_background": "light"
     },
     "output_type": "display_data"
    }
   ],
   "source": [
    "sns.boxplot(dados_brutos.valor_de_venda)"
   ]
  },
  {
   "cell_type": "markdown",
   "id": "37064c45",
   "metadata": {
    "id": "37064c45"
   },
   "source": [
    "### Verificando produtos "
   ]
  },
  {
   "cell_type": "code",
   "execution_count": 19,
   "id": "27a12f7d",
   "metadata": {
    "colab": {
     "base_uri": "https://localhost:8080/"
    },
    "executionInfo": {
     "elapsed": 16,
     "status": "ok",
     "timestamp": 1664940176211,
     "user": {
      "displayName": "Stephanie Fernandes",
      "userId": "14058772314077983436"
     },
     "user_tz": 180
    },
    "id": "27a12f7d",
    "outputId": "3ab0f7bb-74ae-466e-e596-84f9df7e0d08"
   },
   "outputs": [
    {
     "data": {
      "text/plain": [
       "array(['GASOLINA ADITIVADA', 'GASOLINA', 'ETANOL'], dtype=object)"
      ]
     },
     "execution_count": 19,
     "metadata": {},
     "output_type": "execute_result"
    }
   ],
   "source": [
    "dados_brutos.produto.unique()"
   ]
  },
  {
   "cell_type": "markdown",
   "id": "db7939e8",
   "metadata": {
    "id": "db7939e8"
   },
   "source": [
    "Gasolina"
   ]
  },
  {
   "cell_type": "code",
   "execution_count": 20,
   "id": "bc61069f",
   "metadata": {
    "colab": {
     "base_uri": "https://localhost:8080/",
     "height": 300
    },
    "executionInfo": {
     "elapsed": 12,
     "status": "ok",
     "timestamp": 1664940176211,
     "user": {
      "displayName": "Stephanie Fernandes",
      "userId": "14058772314077983436"
     },
     "user_tz": 180
    },
    "id": "bc61069f",
    "outputId": "5f344817-b6d8-49fc-d248-ce6017b3d659"
   },
   "outputs": [
    {
     "data": {
      "text/html": [
       "<div>\n",
       "<style scoped>\n",
       "    .dataframe tbody tr th:only-of-type {\n",
       "        vertical-align: middle;\n",
       "    }\n",
       "\n",
       "    .dataframe tbody tr th {\n",
       "        vertical-align: top;\n",
       "    }\n",
       "\n",
       "    .dataframe thead th {\n",
       "        text-align: right;\n",
       "    }\n",
       "</style>\n",
       "<table border=\"1\" class=\"dataframe\">\n",
       "  <thead>\n",
       "    <tr style=\"text-align: right;\">\n",
       "      <th></th>\n",
       "      <th>valor_de_venda</th>\n",
       "    </tr>\n",
       "  </thead>\n",
       "  <tbody>\n",
       "    <tr>\n",
       "      <th>count</th>\n",
       "      <td>48341.000000</td>\n",
       "    </tr>\n",
       "    <tr>\n",
       "      <th>mean</th>\n",
       "      <td>5.711579</td>\n",
       "    </tr>\n",
       "    <tr>\n",
       "      <th>std</th>\n",
       "      <td>0.528368</td>\n",
       "    </tr>\n",
       "    <tr>\n",
       "      <th>min</th>\n",
       "      <td>4.130000</td>\n",
       "    </tr>\n",
       "    <tr>\n",
       "      <th>25%</th>\n",
       "      <td>5.380000</td>\n",
       "    </tr>\n",
       "    <tr>\n",
       "      <th>50%</th>\n",
       "      <td>5.670000</td>\n",
       "    </tr>\n",
       "    <tr>\n",
       "      <th>75%</th>\n",
       "      <td>5.990000</td>\n",
       "    </tr>\n",
       "    <tr>\n",
       "      <th>max</th>\n",
       "      <td>8.750000</td>\n",
       "    </tr>\n",
       "  </tbody>\n",
       "</table>\n",
       "</div>"
      ],
      "text/plain": [
       "       valor_de_venda\n",
       "count    48341.000000\n",
       "mean         5.711579\n",
       "std          0.528368\n",
       "min          4.130000\n",
       "25%          5.380000\n",
       "50%          5.670000\n",
       "75%          5.990000\n",
       "max          8.750000"
      ]
     },
     "execution_count": 20,
     "metadata": {},
     "output_type": "execute_result"
    }
   ],
   "source": [
    "dados_brutos.query(\"produto == 'GASOLINA'\").describe()"
   ]
  },
  {
   "cell_type": "code",
   "execution_count": 21,
   "id": "2dac2cf6",
   "metadata": {
    "executionInfo": {
     "elapsed": 12,
     "status": "ok",
     "timestamp": 1664940176212,
     "user": {
      "displayName": "Stephanie Fernandes",
      "userId": "14058772314077983436"
     },
     "user_tz": 180
    },
    "id": "2dac2cf6"
   },
   "outputs": [],
   "source": [
    "import seaborn as sns"
   ]
  },
  {
   "cell_type": "code",
   "execution_count": 22,
   "id": "8ee18fcb",
   "metadata": {
    "colab": {
     "base_uri": "https://localhost:8080/"
    },
    "executionInfo": {
     "elapsed": 12,
     "status": "ok",
     "timestamp": 1664940176212,
     "user": {
      "displayName": "Stephanie Fernandes",
      "userId": "14058772314077983436"
     },
     "user_tz": 180
    },
    "id": "8ee18fcb",
    "outputId": "2e65cd72-d41d-490e-ac2a-f1812f8bbdf8"
   },
   "outputs": [
    {
     "data": {
      "text/plain": [
       "1         7.38\n",
       "3         7.39\n",
       "6         5.99\n",
       "9         6.69\n",
       "12        7.77\n",
       "          ... \n",
       "127164    5.79\n",
       "127167    5.38\n",
       "127169    4.95\n",
       "127172    5.19\n",
       "127174    5.27\n",
       "Name: valor_de_venda, Length: 48341, dtype: float64"
      ]
     },
     "execution_count": 22,
     "metadata": {},
     "output_type": "execute_result"
    }
   ],
   "source": [
    "\n",
    "dados_brutos.query(\"produto == 'GASOLINA'\").valor_de_venda"
   ]
  },
  {
   "cell_type": "code",
   "execution_count": 23,
   "id": "bc011bc1",
   "metadata": {
    "colab": {
     "base_uri": "https://localhost:8080/"
    },
    "executionInfo": {
     "elapsed": 12,
     "status": "ok",
     "timestamp": 1664940176213,
     "user": {
      "displayName": "Stephanie Fernandes",
      "userId": "14058772314077983436"
     },
     "user_tz": 180
    },
    "id": "bc011bc1",
    "outputId": "12af4ceb-39eb-4ea2-d046-4ea8cc691465"
   },
   "outputs": [
    {
     "data": {
      "text/plain": [
       "array(['ES', 'PI', 'RJ', 'AL', 'AM', 'BA', 'CE', 'MA', 'MG', 'PA', 'PB',\n",
       "       'PE', 'RN', 'RS', 'SE', 'SP', 'TO', 'MS', 'PR', 'SC', 'GO', 'RO',\n",
       "       'AC', 'MT', 'RR'], dtype=object)"
      ]
     },
     "execution_count": 23,
     "metadata": {},
     "output_type": "execute_result"
    }
   ],
   "source": [
    "dados_brutos.query(\"valor_de_venda > 7\").estado_sigla.unique()"
   ]
  },
  {
   "cell_type": "code",
   "execution_count": 24,
   "id": "af4bf628",
   "metadata": {
    "colab": {
     "base_uri": "https://localhost:8080/",
     "height": 530
    },
    "executionInfo": {
     "elapsed": 360,
     "status": "ok",
     "timestamp": 1664940176563,
     "user": {
      "displayName": "Stephanie Fernandes",
      "userId": "14058772314077983436"
     },
     "user_tz": 180
    },
    "id": "af4bf628",
    "outputId": "b2817832-22db-421e-d8e1-a8f72421bf52"
   },
   "outputs": [
    {
     "data": {
      "text/html": [
       "<div>\n",
       "<style scoped>\n",
       "    .dataframe tbody tr th:only-of-type {\n",
       "        vertical-align: middle;\n",
       "    }\n",
       "\n",
       "    .dataframe tbody tr th {\n",
       "        vertical-align: top;\n",
       "    }\n",
       "\n",
       "    .dataframe thead th {\n",
       "        text-align: right;\n",
       "    }\n",
       "</style>\n",
       "<table border=\"1\" class=\"dataframe\">\n",
       "  <thead>\n",
       "    <tr style=\"text-align: right;\">\n",
       "      <th></th>\n",
       "      <th>regiao_sigla</th>\n",
       "      <th>estado_sigla</th>\n",
       "      <th>municipio</th>\n",
       "      <th>revenda</th>\n",
       "      <th>cnpj_da_revenda</th>\n",
       "      <th>nome_da_rua</th>\n",
       "      <th>numero_rua</th>\n",
       "      <th>bairro</th>\n",
       "      <th>cep</th>\n",
       "      <th>produto</th>\n",
       "      <th>data_da_coleta</th>\n",
       "      <th>valor_de_venda</th>\n",
       "      <th>unidade_de_medida</th>\n",
       "      <th>bandeira</th>\n",
       "    </tr>\n",
       "  </thead>\n",
       "  <tbody>\n",
       "    <tr>\n",
       "      <th>0</th>\n",
       "      <td>SE</td>\n",
       "      <td>ES</td>\n",
       "      <td>COLATINA</td>\n",
       "      <td>SAO FRANCISCO DE ASSIS COMERCIO DE COMBUSTIVEI...</td>\n",
       "      <td>08.519.545/0001-10</td>\n",
       "      <td>PRACA FIDELIS FERRARI</td>\n",
       "      <td>35</td>\n",
       "      <td>LACE</td>\n",
       "      <td>29703-030</td>\n",
       "      <td>GASOLINA ADITIVADA</td>\n",
       "      <td>2022-07-01</td>\n",
       "      <td>7.48</td>\n",
       "      <td>R$ / litro</td>\n",
       "      <td>VIBRA ENERGIA</td>\n",
       "    </tr>\n",
       "    <tr>\n",
       "      <th>1</th>\n",
       "      <td>SE</td>\n",
       "      <td>ES</td>\n",
       "      <td>COLATINA</td>\n",
       "      <td>SAO FRANCISCO DE ASSIS COMERCIO DE COMBUSTIVEI...</td>\n",
       "      <td>08.519.545/0001-10</td>\n",
       "      <td>PRACA FIDELIS FERRARI</td>\n",
       "      <td>35</td>\n",
       "      <td>LACE</td>\n",
       "      <td>29703-030</td>\n",
       "      <td>GASOLINA</td>\n",
       "      <td>2022-07-01</td>\n",
       "      <td>7.38</td>\n",
       "      <td>R$ / litro</td>\n",
       "      <td>VIBRA ENERGIA</td>\n",
       "    </tr>\n",
       "    <tr>\n",
       "      <th>2</th>\n",
       "      <td>SE</td>\n",
       "      <td>ES</td>\n",
       "      <td>COLATINA</td>\n",
       "      <td>POSTO MOTOCAP LTDA</td>\n",
       "      <td>04.814.652/0001-10</td>\n",
       "      <td>PRACA ALMIRANTE BARROSO</td>\n",
       "      <td>52</td>\n",
       "      <td>LACE</td>\n",
       "      <td>29703-055</td>\n",
       "      <td>ETANOL</td>\n",
       "      <td>2022-07-01</td>\n",
       "      <td>5.99</td>\n",
       "      <td>R$ / litro</td>\n",
       "      <td>VIBRA ENERGIA</td>\n",
       "    </tr>\n",
       "    <tr>\n",
       "      <th>3</th>\n",
       "      <td>SE</td>\n",
       "      <td>ES</td>\n",
       "      <td>COLATINA</td>\n",
       "      <td>POSTO MOTOCAP LTDA</td>\n",
       "      <td>04.814.652/0001-10</td>\n",
       "      <td>PRACA ALMIRANTE BARROSO</td>\n",
       "      <td>52</td>\n",
       "      <td>LACE</td>\n",
       "      <td>29703-055</td>\n",
       "      <td>GASOLINA</td>\n",
       "      <td>2022-07-01</td>\n",
       "      <td>7.39</td>\n",
       "      <td>R$ / litro</td>\n",
       "      <td>VIBRA ENERGIA</td>\n",
       "    </tr>\n",
       "    <tr>\n",
       "      <th>4</th>\n",
       "      <td>CO</td>\n",
       "      <td>GO</td>\n",
       "      <td>GOIANIA</td>\n",
       "      <td>JUSTINIANO &amp; JUSTINIANO LTDA</td>\n",
       "      <td>04.489.287/0001-16</td>\n",
       "      <td>AVENIDA JOSE LEANDRO DA CRUZ</td>\n",
       "      <td>2,36</td>\n",
       "      <td>PARQUE AMAZONIA</td>\n",
       "      <td>74840-390</td>\n",
       "      <td>GASOLINA ADITIVADA</td>\n",
       "      <td>2022-07-01</td>\n",
       "      <td>6.49</td>\n",
       "      <td>R$ / litro</td>\n",
       "      <td>IPIRANGA</td>\n",
       "    </tr>\n",
       "  </tbody>\n",
       "</table>\n",
       "</div>"
      ],
      "text/plain": [
       "  regiao_sigla estado_sigla municipio  \\\n",
       "0           SE           ES  COLATINA   \n",
       "1           SE           ES  COLATINA   \n",
       "2           SE           ES  COLATINA   \n",
       "3           SE           ES  COLATINA   \n",
       "4           CO           GO   GOIANIA   \n",
       "\n",
       "                                             revenda      cnpj_da_revenda  \\\n",
       "0  SAO FRANCISCO DE ASSIS COMERCIO DE COMBUSTIVEI...   08.519.545/0001-10   \n",
       "1  SAO FRANCISCO DE ASSIS COMERCIO DE COMBUSTIVEI...   08.519.545/0001-10   \n",
       "2                                 POSTO MOTOCAP LTDA   04.814.652/0001-10   \n",
       "3                                 POSTO MOTOCAP LTDA   04.814.652/0001-10   \n",
       "4                       JUSTINIANO & JUSTINIANO LTDA   04.489.287/0001-16   \n",
       "\n",
       "                    nome_da_rua numero_rua           bairro        cep  \\\n",
       "0         PRACA FIDELIS FERRARI         35             LACE  29703-030   \n",
       "1         PRACA FIDELIS FERRARI         35             LACE  29703-030   \n",
       "2       PRACA ALMIRANTE BARROSO         52             LACE  29703-055   \n",
       "3       PRACA ALMIRANTE BARROSO         52             LACE  29703-055   \n",
       "4  AVENIDA JOSE LEANDRO DA CRUZ       2,36  PARQUE AMAZONIA  74840-390   \n",
       "\n",
       "              produto data_da_coleta  valor_de_venda unidade_de_medida  \\\n",
       "0  GASOLINA ADITIVADA     2022-07-01            7.48        R$ / litro   \n",
       "1            GASOLINA     2022-07-01            7.38        R$ / litro   \n",
       "2              ETANOL     2022-07-01            5.99        R$ / litro   \n",
       "3            GASOLINA     2022-07-01            7.39        R$ / litro   \n",
       "4  GASOLINA ADITIVADA     2022-07-01            6.49        R$ / litro   \n",
       "\n",
       "        bandeira  \n",
       "0  VIBRA ENERGIA  \n",
       "1  VIBRA ENERGIA  \n",
       "2  VIBRA ENERGIA  \n",
       "3  VIBRA ENERGIA  \n",
       "4       IPIRANGA  "
      ]
     },
     "execution_count": 24,
     "metadata": {},
     "output_type": "execute_result"
    }
   ],
   "source": [
    "dados_novo_arquivo = dados_brutos\n",
    "dados_novo_arquivo.head()"
   ]
  },
  {
   "cell_type": "code",
   "execution_count": 25,
   "id": "4f0a03c4",
   "metadata": {
    "colab": {
     "base_uri": "https://localhost:8080/"
    },
    "executionInfo": {
     "elapsed": 11,
     "status": "ok",
     "timestamp": 1664940176564,
     "user": {
      "displayName": "Stephanie Fernandes",
      "userId": "14058772314077983436"
     },
     "user_tz": 180
    },
    "id": "4f0a03c4",
    "outputId": "11a9e1e8-cfc8-4306-c4ef-16c46ebc3930"
   },
   "outputs": [
    {
     "name": "stdout",
     "output_type": "stream",
     "text": [
      "<class 'pandas.core.frame.DataFrame'>\n",
      "RangeIndex: 127176 entries, 0 to 127175\n",
      "Data columns (total 14 columns):\n",
      " #   Column             Non-Null Count   Dtype         \n",
      "---  ------             --------------   -----         \n",
      " 0   regiao_sigla       127176 non-null  object        \n",
      " 1   estado_sigla       127176 non-null  object        \n",
      " 2   municipio          127176 non-null  object        \n",
      " 3   revenda            127176 non-null  object        \n",
      " 4   cnpj_da_revenda    127176 non-null  object        \n",
      " 5   nome_da_rua        127176 non-null  object        \n",
      " 6   numero_rua         127105 non-null  object        \n",
      " 7   bairro             126764 non-null  object        \n",
      " 8   cep                127176 non-null  object        \n",
      " 9   produto            127176 non-null  object        \n",
      " 10  data_da_coleta     127176 non-null  datetime64[ns]\n",
      " 11  valor_de_venda     127176 non-null  float64       \n",
      " 12  unidade_de_medida  127176 non-null  object        \n",
      " 13  bandeira           127176 non-null  object        \n",
      "dtypes: datetime64[ns](1), float64(1), object(12)\n",
      "memory usage: 13.6+ MB\n"
     ]
    }
   ],
   "source": [
    "dados_novo_arquivo.info()"
   ]
  },
  {
   "cell_type": "markdown",
   "id": "ZOJxW-t02qwy",
   "metadata": {
    "id": "ZOJxW-t02qwy"
   },
   "source": [
    "# Respondendo as perguntas"
   ]
  },
  {
   "cell_type": "markdown",
   "id": "hkgbWFzU2rfv",
   "metadata": {
    "id": "hkgbWFzU2rfv"
   },
   "source": [
    "Antes de responder as perguntas foi criada uma função anônima lambda para aplicar a formatação decimal nos nosso resultados:"
   ]
  },
  {
   "cell_type": "code",
   "execution_count": 26,
   "id": "9wlpTb7V2tr1",
   "metadata": {
    "executionInfo": {
     "elapsed": 9,
     "status": "ok",
     "timestamp": 1664940176565,
     "user": {
      "displayName": "Stephanie Fernandes",
      "userId": "14058772314077983436"
     },
     "user_tz": 180
    },
    "id": "9wlpTb7V2tr1"
   },
   "outputs": [],
   "source": [
    "formatar = lambda x: f'{x:.2f}'"
   ]
  },
  {
   "cell_type": "markdown",
   "id": "2JWN9J5_2hXI",
   "metadata": {
    "id": "2JWN9J5_2hXI"
   },
   "source": [
    "## 1. Como se comportaram o preço dos combustíveis durante os dois meses citados? Os valores do etanol e da gasolina tiveram uma queda ou diminuição?"
   ]
  },
  {
   "cell_type": "markdown",
   "id": "2eStgPyE2lVq",
   "metadata": {
    "id": "2eStgPyE2lVq"
   },
   "source": [
    "Primeiro, foram formados dataframes com a média dos valores de todos os tipos de combustíveis agrupados por data (gasolina, gasolina aditivada e etanol), também foi incluso a média geral (a média diária de todos os combustíveis), abaixo temos um exemplo:"
   ]
  },
  {
   "cell_type": "markdown",
   "id": "ZvxnrYo93LYa",
   "metadata": {
    "id": "ZvxnrYo93LYa"
   },
   "source": [
    "* ### Pergunta 1"
   ]
  },
  {
   "cell_type": "code",
   "execution_count": 27,
   "id": "SnHY5uUYmzUm",
   "metadata": {
    "colab": {
     "base_uri": "https://localhost:8080/",
     "height": 0
    },
    "executionInfo": {
     "elapsed": 9,
     "status": "ok",
     "timestamp": 1664940176565,
     "user": {
      "displayName": "Stephanie Fernandes",
      "userId": "14058772314077983436"
     },
     "user_tz": 180
    },
    "id": "SnHY5uUYmzUm",
    "outputId": "71520a3f-c74a-4598-8638-d8da11a6c892"
   },
   "outputs": [
    {
     "data": {
      "text/html": [
       "<div>\n",
       "<style scoped>\n",
       "    .dataframe tbody tr th:only-of-type {\n",
       "        vertical-align: middle;\n",
       "    }\n",
       "\n",
       "    .dataframe tbody tr th {\n",
       "        vertical-align: top;\n",
       "    }\n",
       "\n",
       "    .dataframe thead th {\n",
       "        text-align: right;\n",
       "    }\n",
       "</style>\n",
       "<table border=\"1\" class=\"dataframe\">\n",
       "  <thead>\n",
       "    <tr style=\"text-align: right;\">\n",
       "      <th></th>\n",
       "      <th>data_da_coleta</th>\n",
       "      <th>valor_de_venda</th>\n",
       "    </tr>\n",
       "  </thead>\n",
       "  <tbody>\n",
       "    <tr>\n",
       "      <th>0</th>\n",
       "      <td>2022-07-01</td>\n",
       "      <td>6.621690</td>\n",
       "    </tr>\n",
       "    <tr>\n",
       "      <th>1</th>\n",
       "      <td>2022-07-04</td>\n",
       "      <td>6.077862</td>\n",
       "    </tr>\n",
       "    <tr>\n",
       "      <th>2</th>\n",
       "      <td>2022-07-05</td>\n",
       "      <td>6.185041</td>\n",
       "    </tr>\n",
       "    <tr>\n",
       "      <th>3</th>\n",
       "      <td>2022-07-06</td>\n",
       "      <td>5.959738</td>\n",
       "    </tr>\n",
       "    <tr>\n",
       "      <th>4</th>\n",
       "      <td>2022-07-07</td>\n",
       "      <td>5.797347</td>\n",
       "    </tr>\n",
       "    <tr>\n",
       "      <th>5</th>\n",
       "      <td>2022-07-08</td>\n",
       "      <td>5.783333</td>\n",
       "    </tr>\n",
       "    <tr>\n",
       "      <th>6</th>\n",
       "      <td>2022-07-11</td>\n",
       "      <td>5.738744</td>\n",
       "    </tr>\n",
       "    <tr>\n",
       "      <th>7</th>\n",
       "      <td>2022-07-12</td>\n",
       "      <td>5.782261</td>\n",
       "    </tr>\n",
       "    <tr>\n",
       "      <th>8</th>\n",
       "      <td>2022-07-13</td>\n",
       "      <td>5.601108</td>\n",
       "    </tr>\n",
       "    <tr>\n",
       "      <th>9</th>\n",
       "      <td>2022-07-14</td>\n",
       "      <td>5.661235</td>\n",
       "    </tr>\n",
       "  </tbody>\n",
       "</table>\n",
       "</div>"
      ],
      "text/plain": [
       "  data_da_coleta  valor_de_venda\n",
       "0     2022-07-01        6.621690\n",
       "1     2022-07-04        6.077862\n",
       "2     2022-07-05        6.185041\n",
       "3     2022-07-06        5.959738\n",
       "4     2022-07-07        5.797347\n",
       "5     2022-07-08        5.783333\n",
       "6     2022-07-11        5.738744\n",
       "7     2022-07-12        5.782261\n",
       "8     2022-07-13        5.601108\n",
       "9     2022-07-14        5.661235"
      ]
     },
     "execution_count": 27,
     "metadata": {},
     "output_type": "execute_result"
    }
   ],
   "source": [
    "venda_por_data_gasolina_aditivada = dados_brutos.loc[dados_brutos['produto'] == 'GASOLINA ADITIVADA'].groupby(['data_da_coleta'])['valor_de_venda'].mean().reset_index()\n",
    "venda_por_data_gasolina = dados_brutos.loc[dados_brutos['produto'] == 'GASOLINA'].groupby(['data_da_coleta'])['valor_de_venda'].mean().reset_index()\n",
    "venda_por_data_etanol = dados_brutos.loc[dados_brutos['produto'] == 'ETANOL'].groupby(['data_da_coleta'])['valor_de_venda'].mean().reset_index()\n",
    "venda_por_data = dados_brutos.groupby(['data_da_coleta'])['valor_de_venda'].mean().reset_index()\n",
    "venda_por_data.head(10)"
   ]
  },
  {
   "cell_type": "markdown",
   "id": "Cp6dqckY6brL",
   "metadata": {
    "id": "Cp6dqckY6brL"
   },
   "source": [
    "Com esses dataframes criados, utilizamos o matplotlib para unir essas informações em um gráfico de linha:"
   ]
  },
  {
   "cell_type": "code",
   "execution_count": 28,
   "id": "jZ1hTIkToG0e",
   "metadata": {
    "colab": {
     "base_uri": "https://localhost:8080/",
     "height": 0
    },
    "executionInfo": {
     "elapsed": 645,
     "status": "ok",
     "timestamp": 1664940177203,
     "user": {
      "displayName": "Stephanie Fernandes",
      "userId": "14058772314077983436"
     },
     "user_tz": 180
    },
    "id": "jZ1hTIkToG0e",
    "outputId": "06d9772b-7363-41a8-f3c5-451f369a5d5e"
   },
   "outputs": [
    {
     "data": {
      "image/png": "[encoded data removed]",
      "text/plain": [
       "<Figure size 1440x720 with 1 Axes>"
      ]
     },
     "metadata": {
      "needs_background": "light"
     },
     "output_type": "display_data"
    }
   ],
   "source": [
    "plt.figure(figsize=(20,10))\n",
    "plt.rc('xtick', labelsize=15)\n",
    "plt.rc('ytick', labelsize=15)\n",
    "plt.rc('legend', fontsize=15)\n",
    "plt.plot(venda_por_data['data_da_coleta'], venda_por_data['valor_de_venda'], label='Combustíveis') \n",
    "plt.plot(venda_por_data_etanol['data_da_coleta'], venda_por_data_etanol['valor_de_venda'], label='Etanol', linestyle=\"--\")\n",
    "plt.plot(venda_por_data_gasolina['data_da_coleta'], venda_por_data_gasolina['valor_de_venda'], label='Gasolina', linestyle=\"-.\")\n",
    "plt.plot(venda_por_data_gasolina_aditivada['data_da_coleta'], venda_por_data_gasolina_aditivada['valor_de_venda'], label='Gasolina Aditivada', linestyle=\":\")\n",
    "plt.xlabel(\"Período de 2 meses\", size=18) \n",
    "plt.ylabel(\"Preço dos combustíveis\", size=18)  \n",
    "plt.title(\"Evolução do preço dos combustíveis\", size=20)  \n",
    "plt.legend()\n",
    "plt.show() "
   ]
  },
  {
   "cell_type": "markdown",
   "id": "B-Hb2sg46qV7",
   "metadata": {
    "id": "B-Hb2sg46qV7"
   },
   "source": [
    "## 2. Qual o preço médio da gasolina e do etanol nesses 2 meses?"
   ]
  },
  {
   "cell_type": "markdown",
   "id": "ukomp0ng5txq",
   "metadata": {
    "id": "ukomp0ng5txq"
   },
   "source": [
    "### preço médio da gasolina nos dois meses:"
   ]
  },
  {
   "cell_type": "code",
   "execution_count": 29,
   "id": "mnJ4Gm65zhvQ",
   "metadata": {
    "colab": {
     "base_uri": "https://localhost:8080/",
     "height": 0
    },
    "executionInfo": {
     "elapsed": 7,
     "status": "ok",
     "timestamp": 1664940177204,
     "user": {
      "displayName": "Stephanie Fernandes",
      "userId": "14058772314077983436"
     },
     "user_tz": 180
    },
    "id": "mnJ4Gm65zhvQ",
    "outputId": "ca3ae096-db9a-4eab-ca40-ce5d1f92e5a2"
   },
   "outputs": [
    {
     "data": {
      "text/plain": [
       "'5.71'"
      ]
     },
     "execution_count": 29,
     "metadata": {},
     "output_type": "execute_result"
    }
   ],
   "source": [
    "formatar(dados_novo_arquivo.loc[dados_novo_arquivo['produto'] == 'GASOLINA']['valor_de_venda'].mean())"
   ]
  },
  {
   "cell_type": "markdown",
   "id": "YxLrMzoa5vsk",
   "metadata": {
    "id": "YxLrMzoa5vsk"
   },
   "source": [
    "preço médio do etanol nos dois meses:"
   ]
  },
  {
   "cell_type": "code",
   "execution_count": 30,
   "id": "KslQYY7s5xQY",
   "metadata": {
    "colab": {
     "base_uri": "https://localhost:8080/",
     "height": 0
    },
    "executionInfo": {
     "elapsed": 503,
     "status": "ok",
     "timestamp": 1664940177701,
     "user": {
      "displayName": "Stephanie Fernandes",
      "userId": "14058772314077983436"
     },
     "user_tz": 180
    },
    "id": "KslQYY7s5xQY",
    "outputId": "b6de9fdb-76b8-440d-ce4b-84acbf42c75c"
   },
   "outputs": [
    {
     "data": {
      "text/plain": [
       "'4.51'"
      ]
     },
     "execution_count": 30,
     "metadata": {},
     "output_type": "execute_result"
    }
   ],
   "source": [
    "formatar(dados_novo_arquivo.loc[dados_novo_arquivo['produto'] == 'ETANOL']['valor_de_venda'].mean())"
   ]
  },
  {
   "cell_type": "markdown",
   "id": "KkdEsHVm7Npe",
   "metadata": {
    "id": "KkdEsHVm7Npe"
   },
   "source": [
    "## 3. Quais os 5 estados com o preço médio da gasolina e do etanol mais caros?\n"
   ]
  },
  {
   "cell_type": "code",
   "execution_count": 31,
   "id": "uWao7fQG7UX7",
   "metadata": {
    "colab": {
     "base_uri": "https://localhost:8080/",
     "height": 0
    },
    "executionInfo": {
     "elapsed": 44,
     "status": "ok",
     "timestamp": 1664940177702,
     "user": {
      "displayName": "Stephanie Fernandes",
      "userId": "14058772314077983436"
     },
     "user_tz": 180
    },
    "id": "uWao7fQG7UX7",
    "outputId": "0cca1e7f-a537-4607-cde0-83d53b78dc35"
   },
   "outputs": [
    {
     "data": {
      "text/html": [
       "<div>\n",
       "<style scoped>\n",
       "    .dataframe tbody tr th:only-of-type {\n",
       "        vertical-align: middle;\n",
       "    }\n",
       "\n",
       "    .dataframe tbody tr th {\n",
       "        vertical-align: top;\n",
       "    }\n",
       "\n",
       "    .dataframe thead th {\n",
       "        text-align: right;\n",
       "    }\n",
       "</style>\n",
       "<table border=\"1\" class=\"dataframe\">\n",
       "  <thead>\n",
       "    <tr style=\"text-align: right;\">\n",
       "      <th></th>\n",
       "      <th>estado_sigla</th>\n",
       "      <th>produto</th>\n",
       "      <th>revenda</th>\n",
       "      <th>cnpj_da_revenda</th>\n",
       "      <th>valor_de_venda</th>\n",
       "    </tr>\n",
       "  </thead>\n",
       "  <tbody>\n",
       "    <tr>\n",
       "      <th>0</th>\n",
       "      <td>ES</td>\n",
       "      <td>GASOLINA ADITIVADA</td>\n",
       "      <td>SAO FRANCISCO DE ASSIS COMERCIO DE COMBUSTIVEI...</td>\n",
       "      <td>08.519.545/0001-10</td>\n",
       "      <td>7.48</td>\n",
       "    </tr>\n",
       "    <tr>\n",
       "      <th>1</th>\n",
       "      <td>ES</td>\n",
       "      <td>GASOLINA</td>\n",
       "      <td>SAO FRANCISCO DE ASSIS COMERCIO DE COMBUSTIVEI...</td>\n",
       "      <td>08.519.545/0001-10</td>\n",
       "      <td>7.38</td>\n",
       "    </tr>\n",
       "    <tr>\n",
       "      <th>2</th>\n",
       "      <td>ES</td>\n",
       "      <td>ETANOL</td>\n",
       "      <td>POSTO MOTOCAP LTDA</td>\n",
       "      <td>04.814.652/0001-10</td>\n",
       "      <td>5.99</td>\n",
       "    </tr>\n",
       "    <tr>\n",
       "      <th>3</th>\n",
       "      <td>ES</td>\n",
       "      <td>GASOLINA</td>\n",
       "      <td>POSTO MOTOCAP LTDA</td>\n",
       "      <td>04.814.652/0001-10</td>\n",
       "      <td>7.39</td>\n",
       "    </tr>\n",
       "    <tr>\n",
       "      <th>4</th>\n",
       "      <td>GO</td>\n",
       "      <td>GASOLINA ADITIVADA</td>\n",
       "      <td>JUSTINIANO &amp; JUSTINIANO LTDA</td>\n",
       "      <td>04.489.287/0001-16</td>\n",
       "      <td>6.49</td>\n",
       "    </tr>\n",
       "    <tr>\n",
       "      <th>...</th>\n",
       "      <td>...</td>\n",
       "      <td>...</td>\n",
       "      <td>...</td>\n",
       "      <td>...</td>\n",
       "      <td>...</td>\n",
       "    </tr>\n",
       "    <tr>\n",
       "      <th>127171</th>\n",
       "      <td>DF</td>\n",
       "      <td>ETANOL</td>\n",
       "      <td>POSTO TOP TAGUATINGA COMERCIO DE COMBUSTIVEIS ...</td>\n",
       "      <td>37.189.518/0001-25</td>\n",
       "      <td>3.99</td>\n",
       "    </tr>\n",
       "    <tr>\n",
       "      <th>127172</th>\n",
       "      <td>DF</td>\n",
       "      <td>GASOLINA</td>\n",
       "      <td>POSTO TOP TAGUATINGA COMERCIO DE COMBUSTIVEIS ...</td>\n",
       "      <td>37.189.518/0001-25</td>\n",
       "      <td>5.19</td>\n",
       "    </tr>\n",
       "    <tr>\n",
       "      <th>127173</th>\n",
       "      <td>DF</td>\n",
       "      <td>GASOLINA ADITIVADA</td>\n",
       "      <td>POSTO TOP TAGUATINGA COMERCIO DE COMBUSTIVEIS ...</td>\n",
       "      <td>37.189.518/0001-25</td>\n",
       "      <td>5.19</td>\n",
       "    </tr>\n",
       "    <tr>\n",
       "      <th>127174</th>\n",
       "      <td>MG</td>\n",
       "      <td>GASOLINA</td>\n",
       "      <td>AUTO POSTO COMBUSTIVEIS VERAS SANTANA LTDA</td>\n",
       "      <td>33.063.482/0001-88</td>\n",
       "      <td>5.27</td>\n",
       "    </tr>\n",
       "    <tr>\n",
       "      <th>127175</th>\n",
       "      <td>MG</td>\n",
       "      <td>ETANOL</td>\n",
       "      <td>AUTO POSTO COMBUSTIVEIS VERAS SANTANA LTDA</td>\n",
       "      <td>33.063.482/0001-88</td>\n",
       "      <td>3.67</td>\n",
       "    </tr>\n",
       "  </tbody>\n",
       "</table>\n",
       "<p>127176 rows × 5 columns</p>\n",
       "</div>"
      ],
      "text/plain": [
       "       estado_sigla             produto  \\\n",
       "0                ES  GASOLINA ADITIVADA   \n",
       "1                ES            GASOLINA   \n",
       "2                ES              ETANOL   \n",
       "3                ES            GASOLINA   \n",
       "4                GO  GASOLINA ADITIVADA   \n",
       "...             ...                 ...   \n",
       "127171           DF              ETANOL   \n",
       "127172           DF            GASOLINA   \n",
       "127173           DF  GASOLINA ADITIVADA   \n",
       "127174           MG            GASOLINA   \n",
       "127175           MG              ETANOL   \n",
       "\n",
       "                                                  revenda  \\\n",
       "0       SAO FRANCISCO DE ASSIS COMERCIO DE COMBUSTIVEI...   \n",
       "1       SAO FRANCISCO DE ASSIS COMERCIO DE COMBUSTIVEI...   \n",
       "2                                      POSTO MOTOCAP LTDA   \n",
       "3                                      POSTO MOTOCAP LTDA   \n",
       "4                            JUSTINIANO & JUSTINIANO LTDA   \n",
       "...                                                   ...   \n",
       "127171  POSTO TOP TAGUATINGA COMERCIO DE COMBUSTIVEIS ...   \n",
       "127172  POSTO TOP TAGUATINGA COMERCIO DE COMBUSTIVEIS ...   \n",
       "127173  POSTO TOP TAGUATINGA COMERCIO DE COMBUSTIVEIS ...   \n",
       "127174         AUTO POSTO COMBUSTIVEIS VERAS SANTANA LTDA   \n",
       "127175         AUTO POSTO COMBUSTIVEIS VERAS SANTANA LTDA   \n",
       "\n",
       "            cnpj_da_revenda  valor_de_venda  \n",
       "0        08.519.545/0001-10            7.48  \n",
       "1        08.519.545/0001-10            7.38  \n",
       "2        04.814.652/0001-10            5.99  \n",
       "3        04.814.652/0001-10            7.39  \n",
       "4        04.489.287/0001-16            6.49  \n",
       "...                     ...             ...  \n",
       "127171   37.189.518/0001-25            3.99  \n",
       "127172   37.189.518/0001-25            5.19  \n",
       "127173   37.189.518/0001-25            5.19  \n",
       "127174   33.063.482/0001-88            5.27  \n",
       "127175   33.063.482/0001-88            3.67  \n",
       "\n",
       "[127176 rows x 5 columns]"
      ]
     },
     "metadata": {},
     "output_type": "display_data"
    }
   ],
   "source": [
    "# Quais os 5 estados com preço médio mais alto?\n",
    "\n",
    "#1. conferindo DF:\n",
    "\n",
    "dados_uteis=dados_novo_arquivo[['estado_sigla','produto','revenda','cnpj_da_revenda','valor_de_venda']]\n",
    "\n",
    "display(dados_uteis)"
   ]
  },
  {
   "cell_type": "code",
   "execution_count": 32,
   "id": "uFl5XvVX7VTx",
   "metadata": {
    "executionInfo": {
     "elapsed": 41,
     "status": "ok",
     "timestamp": 1664940177702,
     "user": {
      "displayName": "Stephanie Fernandes",
      "userId": "14058772314077983436"
     },
     "user_tz": 180
    },
    "id": "uFl5XvVX7VTx"
   },
   "outputs": [],
   "source": [
    "#2. Filtrando valores:\n",
    "\n",
    "#Tirando a média da Gasolina e do Etanol\n",
    "media_gas=dados_uteis.loc[dados_uteis['produto'] == 'GASOLINA']['valor_de_venda'].mean()\n",
    "media_et=dados_uteis.loc[dados_uteis['produto'] == 'ETANOL']['valor_de_venda'].mean()"
   ]
  },
  {
   "cell_type": "code",
   "execution_count": 33,
   "id": "YZftzS5z7ZmA",
   "metadata": {
    "colab": {
     "base_uri": "https://localhost:8080/",
     "height": 0
    },
    "executionInfo": {
     "elapsed": 41,
     "status": "ok",
     "timestamp": 1664940177703,
     "user": {
      "displayName": "Stephanie Fernandes",
      "userId": "14058772314077983436"
     },
     "user_tz": 180
    },
    "id": "YZftzS5z7ZmA",
    "outputId": "e2905464-24e8-430c-a13c-756599bc04ad"
   },
   "outputs": [
    {
     "data": {
      "text/html": [
       "<div>\n",
       "<style scoped>\n",
       "    .dataframe tbody tr th:only-of-type {\n",
       "        vertical-align: middle;\n",
       "    }\n",
       "\n",
       "    .dataframe tbody tr th {\n",
       "        vertical-align: top;\n",
       "    }\n",
       "\n",
       "    .dataframe thead th {\n",
       "        text-align: right;\n",
       "    }\n",
       "</style>\n",
       "<table border=\"1\" class=\"dataframe\">\n",
       "  <thead>\n",
       "    <tr style=\"text-align: right;\">\n",
       "      <th></th>\n",
       "      <th>estado_sigla</th>\n",
       "      <th>produto</th>\n",
       "      <th>revenda</th>\n",
       "      <th>cnpj_da_revenda</th>\n",
       "      <th>valor_de_venda</th>\n",
       "    </tr>\n",
       "  </thead>\n",
       "  <tbody>\n",
       "    <tr>\n",
       "      <th>1</th>\n",
       "      <td>ES</td>\n",
       "      <td>GASOLINA</td>\n",
       "      <td>SAO FRANCISCO DE ASSIS COMERCIO DE COMBUSTIVEI...</td>\n",
       "      <td>08.519.545/0001-10</td>\n",
       "      <td>7.38</td>\n",
       "    </tr>\n",
       "    <tr>\n",
       "      <th>3</th>\n",
       "      <td>ES</td>\n",
       "      <td>GASOLINA</td>\n",
       "      <td>POSTO MOTOCAP LTDA</td>\n",
       "      <td>04.814.652/0001-10</td>\n",
       "      <td>7.39</td>\n",
       "    </tr>\n",
       "    <tr>\n",
       "      <th>6</th>\n",
       "      <td>GO</td>\n",
       "      <td>GASOLINA</td>\n",
       "      <td>JUSTINIANO &amp; JUSTINIANO LTDA</td>\n",
       "      <td>04.489.287/0001-16</td>\n",
       "      <td>5.99</td>\n",
       "    </tr>\n",
       "    <tr>\n",
       "      <th>9</th>\n",
       "      <td>GO</td>\n",
       "      <td>GASOLINA</td>\n",
       "      <td>VIENA AUTO POSTO EIRELI</td>\n",
       "      <td>05.217.903/0001-42</td>\n",
       "      <td>6.69</td>\n",
       "    </tr>\n",
       "    <tr>\n",
       "      <th>12</th>\n",
       "      <td>PI</td>\n",
       "      <td>GASOLINA</td>\n",
       "      <td>T. M. VALENÇA LTDA.</td>\n",
       "      <td>08.570.781/0001-61</td>\n",
       "      <td>7.77</td>\n",
       "    </tr>\n",
       "  </tbody>\n",
       "</table>\n",
       "</div>"
      ],
      "text/plain": [
       "   estado_sigla   produto                                            revenda  \\\n",
       "1            ES  GASOLINA  SAO FRANCISCO DE ASSIS COMERCIO DE COMBUSTIVEI...   \n",
       "3            ES  GASOLINA                                 POSTO MOTOCAP LTDA   \n",
       "6            GO  GASOLINA                       JUSTINIANO & JUSTINIANO LTDA   \n",
       "9            GO  GASOLINA                            VIENA AUTO POSTO EIRELI   \n",
       "12           PI  GASOLINA                                T. M. VALENÇA LTDA.   \n",
       "\n",
       "        cnpj_da_revenda  valor_de_venda  \n",
       "1    08.519.545/0001-10            7.38  \n",
       "3    04.814.652/0001-10            7.39  \n",
       "6    04.489.287/0001-16            5.99  \n",
       "9    05.217.903/0001-42            6.69  \n",
       "12   08.570.781/0001-61            7.77  "
      ]
     },
     "execution_count": 33,
     "metadata": {},
     "output_type": "execute_result"
    }
   ],
   "source": [
    "# 3. Resgatando valores acima da média para Gasolina\n",
    "\n",
    "gas_df=dados_uteis.loc[dados_uteis['produto'] == 'GASOLINA']\n",
    "mediagas_df= gas_df.loc[gas_df['valor_de_venda'] >= media_gas]\n",
    "mediagas_df.head()          "
   ]
  },
  {
   "cell_type": "code",
   "execution_count": 34,
   "id": "yGgw4Nk_7an1",
   "metadata": {
    "colab": {
     "base_uri": "https://localhost:8080/",
     "height": 0
    },
    "executionInfo": {
     "elapsed": 39,
     "status": "ok",
     "timestamp": 1664940177703,
     "user": {
      "displayName": "Stephanie Fernandes",
      "userId": "14058772314077983436"
     },
     "user_tz": 180
    },
    "id": "yGgw4Nk_7an1",
    "outputId": "024226f4-c2ba-47e9-e0ce-2a5b9358a57e"
   },
   "outputs": [
    {
     "data": {
      "text/html": [
       "<div>\n",
       "<style scoped>\n",
       "    .dataframe tbody tr th:only-of-type {\n",
       "        vertical-align: middle;\n",
       "    }\n",
       "\n",
       "    .dataframe tbody tr th {\n",
       "        vertical-align: top;\n",
       "    }\n",
       "\n",
       "    .dataframe thead th {\n",
       "        text-align: right;\n",
       "    }\n",
       "</style>\n",
       "<table border=\"1\" class=\"dataframe\">\n",
       "  <thead>\n",
       "    <tr style=\"text-align: right;\">\n",
       "      <th></th>\n",
       "      <th>estado_sigla</th>\n",
       "      <th>produto</th>\n",
       "      <th>revenda</th>\n",
       "      <th>cnpj_da_revenda</th>\n",
       "      <th>valor_de_venda</th>\n",
       "    </tr>\n",
       "  </thead>\n",
       "  <tbody>\n",
       "    <tr>\n",
       "      <th>2</th>\n",
       "      <td>ES</td>\n",
       "      <td>ETANOL</td>\n",
       "      <td>POSTO MOTOCAP LTDA</td>\n",
       "      <td>04.814.652/0001-10</td>\n",
       "      <td>5.99</td>\n",
       "    </tr>\n",
       "    <tr>\n",
       "      <th>11</th>\n",
       "      <td>PI</td>\n",
       "      <td>ETANOL</td>\n",
       "      <td>T. M. VALENÇA LTDA.</td>\n",
       "      <td>08.570.781/0001-61</td>\n",
       "      <td>5.57</td>\n",
       "    </tr>\n",
       "    <tr>\n",
       "      <th>13</th>\n",
       "      <td>PI</td>\n",
       "      <td>ETANOL</td>\n",
       "      <td>POSTO SANTA MARIA LTDA</td>\n",
       "      <td>08.203.364/0001-80</td>\n",
       "      <td>5.57</td>\n",
       "    </tr>\n",
       "    <tr>\n",
       "      <th>16</th>\n",
       "      <td>PI</td>\n",
       "      <td>ETANOL</td>\n",
       "      <td>J A SILVA MERCADINHO</td>\n",
       "      <td>23.621.717/0002-37</td>\n",
       "      <td>5.49</td>\n",
       "    </tr>\n",
       "    <tr>\n",
       "      <th>21</th>\n",
       "      <td>PI</td>\n",
       "      <td>ETANOL</td>\n",
       "      <td>POSTO HIDROLANDIA LTDA</td>\n",
       "      <td>03.069.763/0001-87</td>\n",
       "      <td>5.45</td>\n",
       "    </tr>\n",
       "  </tbody>\n",
       "</table>\n",
       "</div>"
      ],
      "text/plain": [
       "   estado_sigla produto                 revenda      cnpj_da_revenda  \\\n",
       "2            ES  ETANOL      POSTO MOTOCAP LTDA   04.814.652/0001-10   \n",
       "11           PI  ETANOL     T. M. VALENÇA LTDA.   08.570.781/0001-61   \n",
       "13           PI  ETANOL  POSTO SANTA MARIA LTDA   08.203.364/0001-80   \n",
       "16           PI  ETANOL    J A SILVA MERCADINHO   23.621.717/0002-37   \n",
       "21           PI  ETANOL  POSTO HIDROLANDIA LTDA   03.069.763/0001-87   \n",
       "\n",
       "    valor_de_venda  \n",
       "2             5.99  \n",
       "11            5.57  \n",
       "13            5.57  \n",
       "16            5.49  \n",
       "21            5.45  "
      ]
     },
     "execution_count": 34,
     "metadata": {},
     "output_type": "execute_result"
    }
   ],
   "source": [
    "# 4. Resgatando valores acima da média para Etanol\n",
    "eta_df=dados_uteis.loc[dados_uteis['produto'] == 'ETANOL']\n",
    "mediaeta_df= eta_df.loc[eta_df['valor_de_venda'] >= media_et]\n",
    "mediaeta_df.head()  "
   ]
  },
  {
   "cell_type": "markdown",
   "id": "g-gEW7p27eHn",
   "metadata": {
    "id": "g-gEW7p27eHn"
   },
   "source": [
    "## 4. Qual o preço médio da gasolina e do etanol por estado?"
   ]
  },
  {
   "cell_type": "markdown",
   "id": "3aYUKs-27g9x",
   "metadata": {
    "id": "3aYUKs-27g9x"
   },
   "source": [
    "### Gasolina: "
   ]
  },
  {
   "cell_type": "code",
   "execution_count": 35,
   "id": "GMl7ap3j7i3Z",
   "metadata": {
    "colab": {
     "base_uri": "https://localhost:8080/",
     "height": 0
    },
    "collapsed": true,
    "executionInfo": {
     "elapsed": 38,
     "status": "ok",
     "timestamp": 1664940177704,
     "user": {
      "displayName": "Stephanie Fernandes",
      "userId": "14058772314077983436"
     },
     "user_tz": 180
    },
    "id": "GMl7ap3j7i3Z",
    "outputId": "a968112a-2581-4311-9f33-a5426faa8579"
   },
   "outputs": [
    {
     "data": {
      "text/html": [
       "<div>\n",
       "<style scoped>\n",
       "    .dataframe tbody tr th:only-of-type {\n",
       "        vertical-align: middle;\n",
       "    }\n",
       "\n",
       "    .dataframe tbody tr th {\n",
       "        vertical-align: top;\n",
       "    }\n",
       "\n",
       "    .dataframe thead th {\n",
       "        text-align: right;\n",
       "    }\n",
       "</style>\n",
       "<table border=\"1\" class=\"dataframe\">\n",
       "  <thead>\n",
       "    <tr style=\"text-align: right;\">\n",
       "      <th></th>\n",
       "      <th>valor_de_venda</th>\n",
       "    </tr>\n",
       "    <tr>\n",
       "      <th>estado_sigla</th>\n",
       "      <th></th>\n",
       "    </tr>\n",
       "  </thead>\n",
       "  <tbody>\n",
       "    <tr>\n",
       "      <th>AC</th>\n",
       "      <td>6.211454</td>\n",
       "    </tr>\n",
       "    <tr>\n",
       "      <th>AL</th>\n",
       "      <td>5.944651</td>\n",
       "    </tr>\n",
       "    <tr>\n",
       "      <th>AM</th>\n",
       "      <td>6.188049</td>\n",
       "    </tr>\n",
       "    <tr>\n",
       "      <th>AP</th>\n",
       "      <td>5.107056</td>\n",
       "    </tr>\n",
       "    <tr>\n",
       "      <th>BA</th>\n",
       "      <td>6.030862</td>\n",
       "    </tr>\n",
       "    <tr>\n",
       "      <th>CE</th>\n",
       "      <td>5.955275</td>\n",
       "    </tr>\n",
       "    <tr>\n",
       "      <th>DF</th>\n",
       "      <td>5.600662</td>\n",
       "    </tr>\n",
       "    <tr>\n",
       "      <th>ES</th>\n",
       "      <td>5.796058</td>\n",
       "    </tr>\n",
       "    <tr>\n",
       "      <th>GO</th>\n",
       "      <td>5.518703</td>\n",
       "    </tr>\n",
       "    <tr>\n",
       "      <th>MA</th>\n",
       "      <td>5.949016</td>\n",
       "    </tr>\n",
       "    <tr>\n",
       "      <th>MG</th>\n",
       "      <td>5.669344</td>\n",
       "    </tr>\n",
       "    <tr>\n",
       "      <th>MS</th>\n",
       "      <td>5.557874</td>\n",
       "    </tr>\n",
       "    <tr>\n",
       "      <th>MT</th>\n",
       "      <td>5.680068</td>\n",
       "    </tr>\n",
       "    <tr>\n",
       "      <th>PA</th>\n",
       "      <td>6.014379</td>\n",
       "    </tr>\n",
       "    <tr>\n",
       "      <th>PB</th>\n",
       "      <td>5.748032</td>\n",
       "    </tr>\n",
       "    <tr>\n",
       "      <th>PE</th>\n",
       "      <td>5.928172</td>\n",
       "    </tr>\n",
       "    <tr>\n",
       "      <th>PI</th>\n",
       "      <td>6.075050</td>\n",
       "    </tr>\n",
       "    <tr>\n",
       "      <th>PR</th>\n",
       "      <td>5.630792</td>\n",
       "    </tr>\n",
       "    <tr>\n",
       "      <th>RJ</th>\n",
       "      <td>5.840389</td>\n",
       "    </tr>\n",
       "    <tr>\n",
       "      <th>RN</th>\n",
       "      <td>6.029264</td>\n",
       "    </tr>\n",
       "    <tr>\n",
       "      <th>RO</th>\n",
       "      <td>5.833149</td>\n",
       "    </tr>\n",
       "    <tr>\n",
       "      <th>RR</th>\n",
       "      <td>6.030085</td>\n",
       "    </tr>\n",
       "    <tr>\n",
       "      <th>RS</th>\n",
       "      <td>5.628316</td>\n",
       "    </tr>\n",
       "    <tr>\n",
       "      <th>SC</th>\n",
       "      <td>5.675602</td>\n",
       "    </tr>\n",
       "    <tr>\n",
       "      <th>SE</th>\n",
       "      <td>5.575627</td>\n",
       "    </tr>\n",
       "    <tr>\n",
       "      <th>SP</th>\n",
       "      <td>5.527844</td>\n",
       "    </tr>\n",
       "    <tr>\n",
       "      <th>TO</th>\n",
       "      <td>6.046250</td>\n",
       "    </tr>\n",
       "  </tbody>\n",
       "</table>\n",
       "</div>"
      ],
      "text/plain": [
       "              valor_de_venda\n",
       "estado_sigla                \n",
       "AC                  6.211454\n",
       "AL                  5.944651\n",
       "AM                  6.188049\n",
       "AP                  5.107056\n",
       "BA                  6.030862\n",
       "CE                  5.955275\n",
       "DF                  5.600662\n",
       "ES                  5.796058\n",
       "GO                  5.518703\n",
       "MA                  5.949016\n",
       "MG                  5.669344\n",
       "MS                  5.557874\n",
       "MT                  5.680068\n",
       "PA                  6.014379\n",
       "PB                  5.748032\n",
       "PE                  5.928172\n",
       "PI                  6.075050\n",
       "PR                  5.630792\n",
       "RJ                  5.840389\n",
       "RN                  6.029264\n",
       "RO                  5.833149\n",
       "RR                  6.030085\n",
       "RS                  5.628316\n",
       "SC                  5.675602\n",
       "SE                  5.575627\n",
       "SP                  5.527844\n",
       "TO                  6.046250"
      ]
     },
     "execution_count": 35,
     "metadata": {},
     "output_type": "execute_result"
    }
   ],
   "source": [
    "gas_df.groupby(['estado_sigla']).mean()"
   ]
  },
  {
   "cell_type": "markdown",
   "id": "7HXTbqWJ7kw5",
   "metadata": {
    "id": "7HXTbqWJ7kw5"
   },
   "source": [
    "### Etanol:"
   ]
  },
  {
   "cell_type": "code",
   "execution_count": 36,
   "id": "U9uyyv1M7mX5",
   "metadata": {
    "colab": {
     "base_uri": "https://localhost:8080/",
     "height": 0
    },
    "collapsed": true,
    "executionInfo": {
     "elapsed": 36,
     "status": "ok",
     "timestamp": 1664940177704,
     "user": {
      "displayName": "Stephanie Fernandes",
      "userId": "14058772314077983436"
     },
     "user_tz": 180
    },
    "id": "U9uyyv1M7mX5",
    "outputId": "94adb5c1-364a-4c53-ee36-4d49ed3c4bc4"
   },
   "outputs": [
    {
     "data": {
      "text/html": [
       "<div>\n",
       "<style scoped>\n",
       "    .dataframe tbody tr th:only-of-type {\n",
       "        vertical-align: middle;\n",
       "    }\n",
       "\n",
       "    .dataframe tbody tr th {\n",
       "        vertical-align: top;\n",
       "    }\n",
       "\n",
       "    .dataframe thead th {\n",
       "        text-align: right;\n",
       "    }\n",
       "</style>\n",
       "<table border=\"1\" class=\"dataframe\">\n",
       "  <thead>\n",
       "    <tr style=\"text-align: right;\">\n",
       "      <th></th>\n",
       "      <th>valor_de_venda</th>\n",
       "    </tr>\n",
       "    <tr>\n",
       "      <th>estado_sigla</th>\n",
       "      <th></th>\n",
       "    </tr>\n",
       "  </thead>\n",
       "  <tbody>\n",
       "    <tr>\n",
       "      <th>AC</th>\n",
       "      <td>5.376684</td>\n",
       "    </tr>\n",
       "    <tr>\n",
       "      <th>AL</th>\n",
       "      <td>5.240854</td>\n",
       "    </tr>\n",
       "    <tr>\n",
       "      <th>AM</th>\n",
       "      <td>4.952985</td>\n",
       "    </tr>\n",
       "    <tr>\n",
       "      <th>AP</th>\n",
       "      <td>5.896250</td>\n",
       "    </tr>\n",
       "    <tr>\n",
       "      <th>BA</th>\n",
       "      <td>5.074360</td>\n",
       "    </tr>\n",
       "    <tr>\n",
       "      <th>CE</th>\n",
       "      <td>5.482219</td>\n",
       "    </tr>\n",
       "    <tr>\n",
       "      <th>DF</th>\n",
       "      <td>4.749265</td>\n",
       "    </tr>\n",
       "    <tr>\n",
       "      <th>ES</th>\n",
       "      <td>4.963646</td>\n",
       "    </tr>\n",
       "    <tr>\n",
       "      <th>GO</th>\n",
       "      <td>4.060479</td>\n",
       "    </tr>\n",
       "    <tr>\n",
       "      <th>MA</th>\n",
       "      <td>5.332013</td>\n",
       "    </tr>\n",
       "    <tr>\n",
       "      <th>MG</th>\n",
       "      <td>4.250565</td>\n",
       "    </tr>\n",
       "    <tr>\n",
       "      <th>MS</th>\n",
       "      <td>4.407469</td>\n",
       "    </tr>\n",
       "    <tr>\n",
       "      <th>MT</th>\n",
       "      <td>3.805687</td>\n",
       "    </tr>\n",
       "    <tr>\n",
       "      <th>PA</th>\n",
       "      <td>5.624816</td>\n",
       "    </tr>\n",
       "    <tr>\n",
       "      <th>PB</th>\n",
       "      <td>5.103019</td>\n",
       "    </tr>\n",
       "    <tr>\n",
       "      <th>PE</th>\n",
       "      <td>5.344424</td>\n",
       "    </tr>\n",
       "    <tr>\n",
       "      <th>PI</th>\n",
       "      <td>4.987114</td>\n",
       "    </tr>\n",
       "    <tr>\n",
       "      <th>PR</th>\n",
       "      <td>4.422551</td>\n",
       "    </tr>\n",
       "    <tr>\n",
       "      <th>RJ</th>\n",
       "      <td>4.874418</td>\n",
       "    </tr>\n",
       "    <tr>\n",
       "      <th>RN</th>\n",
       "      <td>5.482434</td>\n",
       "    </tr>\n",
       "    <tr>\n",
       "      <th>RO</th>\n",
       "      <td>5.599120</td>\n",
       "    </tr>\n",
       "    <tr>\n",
       "      <th>RR</th>\n",
       "      <td>5.568182</td>\n",
       "    </tr>\n",
       "    <tr>\n",
       "      <th>RS</th>\n",
       "      <td>5.660152</td>\n",
       "    </tr>\n",
       "    <tr>\n",
       "      <th>SC</th>\n",
       "      <td>5.214084</td>\n",
       "    </tr>\n",
       "    <tr>\n",
       "      <th>SE</th>\n",
       "      <td>5.092656</td>\n",
       "    </tr>\n",
       "    <tr>\n",
       "      <th>SP</th>\n",
       "      <td>3.895819</td>\n",
       "    </tr>\n",
       "    <tr>\n",
       "      <th>TO</th>\n",
       "      <td>5.151095</td>\n",
       "    </tr>\n",
       "  </tbody>\n",
       "</table>\n",
       "</div>"
      ],
      "text/plain": [
       "              valor_de_venda\n",
       "estado_sigla                \n",
       "AC                  5.376684\n",
       "AL                  5.240854\n",
       "AM                  4.952985\n",
       "AP                  5.896250\n",
       "BA                  5.074360\n",
       "CE                  5.482219\n",
       "DF                  4.749265\n",
       "ES                  4.963646\n",
       "GO                  4.060479\n",
       "MA                  5.332013\n",
       "MG                  4.250565\n",
       "MS                  4.407469\n",
       "MT                  3.805687\n",
       "PA                  5.624816\n",
       "PB                  5.103019\n",
       "PE                  5.344424\n",
       "PI                  4.987114\n",
       "PR                  4.422551\n",
       "RJ                  4.874418\n",
       "RN                  5.482434\n",
       "RO                  5.599120\n",
       "RR                  5.568182\n",
       "RS                  5.660152\n",
       "SC                  5.214084\n",
       "SE                  5.092656\n",
       "SP                  3.895819\n",
       "TO                  5.151095"
      ]
     },
     "execution_count": 36,
     "metadata": {},
     "output_type": "execute_result"
    }
   ],
   "source": [
    "eta_df.groupby(['estado_sigla']).mean()"
   ]
  },
  {
   "cell_type": "markdown",
   "id": "5sse181N_fGo",
   "metadata": {
    "id": "5sse181N_fGo"
   },
   "source": [
    "## 5. Qual o município que possui o menor preço para a gasolina e para o etanol?"
   ]
  },
  {
   "cell_type": "code",
   "execution_count": 60,
   "id": "d3b05dfb",
   "metadata": {},
   "outputs": [
    {
     "name": "stderr",
     "output_type": "stream",
     "text": [
      "C:\\Users\\bruno\\AppData\\Local\\Temp\\ipykernel_2128\\2574646517.py:1: FutureWarning: Dropping of nuisance columns in DataFrame reductions (with 'numeric_only=None') is deprecated; in a future version this will raise TypeError.  Select only valid columns before calling the reduction.\n",
      "  dados.query(\"produto == 'GASOLINA'\").min()\n"
     ]
    },
    {
     "data": {
      "text/plain": [
       "regiao_sigla                      CO: Centro-Oeste\n",
       "estado_sigla                                    AC\n",
       "municipio                               ABAETETUBA\n",
       "revenda               AUTO POSTO FORCA MAXIMA LTDA\n",
       "cnpj_da_revenda                 00.002.953/0001-99\n",
       "nome_da_rua              -V. ADALBERTO SIMAO NADER\n",
       "cep                                      00000-000\n",
       "produto                                   GASOLINA\n",
       "data_da_coleta                 2022-07-01 00:00:00\n",
       "valor_de_venda                                4.13\n",
       "unidade_de_medida                       R$ / litro\n",
       "bandeira                                    ALESAT\n",
       "dtype: object"
      ]
     },
     "execution_count": 60,
     "metadata": {},
     "output_type": "execute_result"
    }
   ],
   "source": [
    "dados.query(\"produto == 'GASOLINA'\").min()"
   ]
  },
  {
   "cell_type": "code",
   "execution_count": 59,
   "id": "9b5c1c6b",
   "metadata": {},
   "outputs": [
    {
     "name": "stderr",
     "output_type": "stream",
     "text": [
      "C:\\Users\\bruno\\AppData\\Local\\Temp\\ipykernel_2128\\1448086410.py:1: FutureWarning: Dropping of nuisance columns in DataFrame reductions (with 'numeric_only=None') is deprecated; in a future version this will raise TypeError.  Select only valid columns before calling the reduction.\n",
      "  dados.query(\"produto == 'ETANOL'\").min()\n"
     ]
    },
    {
     "data": {
      "text/plain": [
       "regiao_sigla                      CO: Centro-Oeste\n",
       "estado_sigla                                    AC\n",
       "municipio                               ABAETETUBA\n",
       "revenda               AUTO POSTO FORCA MAXIMA LTDA\n",
       "cnpj_da_revenda                 00.002.953/0001-99\n",
       "nome_da_rua              -V. ADALBERTO SIMAO NADER\n",
       "cep                                      00000-000\n",
       "produto                                     ETANOL\n",
       "data_da_coleta                 2022-07-01 00:00:00\n",
       "valor_de_venda                                2.89\n",
       "unidade_de_medida                       R$ / litro\n",
       "bandeira                                    ALESAT\n",
       "dtype: object"
      ]
     },
     "execution_count": 59,
     "metadata": {},
     "output_type": "execute_result"
    }
   ],
   "source": [
    "dados.query(\"produto == 'ETANOL'\").min()"
   ]
  },
  {
   "cell_type": "markdown",
   "id": "C3DJFiPI_0HD",
   "metadata": {
    "id": "C3DJFiPI_0HD"
   },
   "source": [
    "## 6. Qual o município que possui o maior preço para a gasolina e para o etanol?"
   ]
  },
  {
   "cell_type": "code",
   "execution_count": 65,
   "id": "Q0FUOU_4_5W8",
   "metadata": {
    "executionInfo": {
     "elapsed": 33,
     "status": "ok",
     "timestamp": 1664940177705,
     "user": {
      "displayName": "Stephanie Fernandes",
      "userId": "14058772314077983436"
     },
     "user_tz": 180
    },
    "id": "Q0FUOU_4_5W8"
   },
   "outputs": [
    {
     "name": "stderr",
     "output_type": "stream",
     "text": [
      "C:\\Users\\bruno\\AppData\\Local\\Temp\\ipykernel_2128\\2503905277.py:1: FutureWarning: Dropping of nuisance columns in DataFrame reductions (with 'numeric_only=None') is deprecated; in a future version this will raise TypeError.  Select only valid columns before calling the reduction.\n",
      "  dados.query(\"produto == 'GASOLINA'\").max()\n"
     ]
    },
    {
     "data": {
      "text/plain": [
       "regiao_sigla                       SE: Sudeste\n",
       "estado_sigla                                TO\n",
       "municipio                             XINGUARA\n",
       "revenda              ZV POSTO DE SERVIÇO LTDA.\n",
       "cnpj_da_revenda             98.338.072/0041-35\n",
       "nome_da_rua                  ÁREA 5 DA GLEBA C\n",
       "cep                                  99714-052\n",
       "produto                               GASOLINA\n",
       "data_da_coleta             2022-08-31 00:00:00\n",
       "valor_de_venda                            8.75\n",
       "unidade_de_medida                   R$ / litro\n",
       "bandeira                                  WATT\n",
       "dtype: object"
      ]
     },
     "execution_count": 65,
     "metadata": {},
     "output_type": "execute_result"
    }
   ],
   "source": [
    "dados.query(\"produto == 'GASOLINA'\").max()"
   ]
  },
  {
   "cell_type": "code",
   "execution_count": 61,
   "id": "b0c80120",
   "metadata": {},
   "outputs": [
    {
     "name": "stderr",
     "output_type": "stream",
     "text": [
      "C:\\Users\\bruno\\AppData\\Local\\Temp\\ipykernel_2128\\1102311132.py:1: FutureWarning: Dropping of nuisance columns in DataFrame reductions (with 'numeric_only=None') is deprecated; in a future version this will raise TypeError.  Select only valid columns before calling the reduction.\n",
      "  dados.query(\"produto == 'ETANOL'\").max()\n"
     ]
    },
    {
     "data": {
      "text/plain": [
       "regiao_sigla                       SE: Sudeste\n",
       "estado_sigla                                TO\n",
       "municipio                             XINGUARA\n",
       "revenda              ZV POSTO DE SERVIÇO LTDA.\n",
       "cnpj_da_revenda             97.550.180/0001-17\n",
       "nome_da_rua                  ÁREA 5 DA GLEBA C\n",
       "cep                                  99714-052\n",
       "produto                                 ETANOL\n",
       "data_da_coleta             2022-08-31 00:00:00\n",
       "valor_de_venda                            7.89\n",
       "unidade_de_medida                   R$ / litro\n",
       "bandeira                                  WATT\n",
       "dtype: object"
      ]
     },
     "execution_count": 61,
     "metadata": {},
     "output_type": "execute_result"
    }
   ],
   "source": [
    "dados.query(\"produto == 'ETANOL'\").max()"
   ]
  },
  {
   "cell_type": "markdown",
   "id": "DV3_aiBs7o1T",
   "metadata": {
    "id": "DV3_aiBs7o1T"
   },
   "source": [
    "## 7. Qual a região que possui o maior valor médio da gasolina?"
   ]
  },
  {
   "cell_type": "code",
   "execution_count": 38,
   "id": "V2gRQnrfLC1Y",
   "metadata": {
    "colab": {
     "base_uri": "https://localhost:8080/"
    },
    "executionInfo": {
     "elapsed": 298,
     "status": "ok",
     "timestamp": 1664940260805,
     "user": {
      "displayName": "Stephanie Fernandes",
      "userId": "14058772314077983436"
     },
     "user_tz": 180
    },
    "id": "V2gRQnrfLC1Y",
    "outputId": "ed4ea08a-6c6b-495c-f2df-bce5a6252c2b"
   },
   "outputs": [
    {
     "data": {
      "text/plain": [
       "0              SE: Sudeste\n",
       "1              SE: Sudeste\n",
       "2              SE: Sudeste\n",
       "3              SE: Sudeste\n",
       "4         CO: Centro-Oeste\n",
       "                ...       \n",
       "127171    CO: Centro-Oeste\n",
       "127172    CO: Centro-Oeste\n",
       "127173    CO: Centro-Oeste\n",
       "127174         SE: Sudeste\n",
       "127175         SE: Sudeste\n",
       "Name: regiao_sigla, Length: 127176, dtype: object"
      ]
     },
     "execution_count": 38,
     "metadata": {},
     "output_type": "execute_result"
    }
   ],
   "source": [
    "#descrever as siglas das regiões para melhor visualização das queries\n",
    "dados_novo_arquivo.regiao_sigla= dados_brutos.regiao_sigla.map({'CO':'CO: Centro-Oeste', 'SE': 'SE: Sudeste', 'S':'S: Sul', 'NE': 'NE: Nordeste', 'N': 'N: Norte'})\n",
    "dados_novo_arquivo.regiao_sigla"
   ]
  },
  {
   "cell_type": "code",
   "execution_count": 39,
   "id": "cNN1HQ7W7xDc",
   "metadata": {
    "colab": {
     "base_uri": "https://localhost:8080/",
     "height": 237
    },
    "executionInfo": {
     "elapsed": 276,
     "status": "ok",
     "timestamp": 1664940269099,
     "user": {
      "displayName": "Stephanie Fernandes",
      "userId": "14058772314077983436"
     },
     "user_tz": 180
    },
    "id": "cNN1HQ7W7xDc",
    "outputId": "1453f7d7-8cd3-460f-9de1-3526e9e250b8"
   },
   "outputs": [
    {
     "data": {
      "text/html": [
       "<style type=\"text/css\">\n",
       "#T_d303a_row0_col0 {\n",
       "  background-color: #7f2704;\n",
       "  color: #f1f1f1;\n",
       "}\n",
       "#T_d303a_row1_col0 {\n",
       "  background-color: #8b2c04;\n",
       "  color: #f1f1f1;\n",
       "}\n",
       "#T_d303a_row2_col0 {\n",
       "  background-color: #fee2c6;\n",
       "  color: #000000;\n",
       "}\n",
       "#T_d303a_row3_col0 {\n",
       "  background-color: #feebd7;\n",
       "  color: #000000;\n",
       "}\n",
       "#T_d303a_row4_col0 {\n",
       "  background-color: #fff5eb;\n",
       "  color: #000000;\n",
       "}\n",
       "</style>\n",
       "<table id=\"T_d303a\">\n",
       "  <thead>\n",
       "    <tr>\n",
       "      <th class=\"blank\" >&nbsp;</th>\n",
       "      <th class=\"blank level0\" >&nbsp;</th>\n",
       "      <th id=\"T_d303a_level0_col0\" class=\"col_heading level0 col0\" >valor_de_venda</th>\n",
       "    </tr>\n",
       "    <tr>\n",
       "      <th class=\"index_name level0\" >regiao_sigla</th>\n",
       "      <th class=\"index_name level1\" >produto</th>\n",
       "      <th class=\"blank col0\" >&nbsp;</th>\n",
       "    </tr>\n",
       "  </thead>\n",
       "  <tbody>\n",
       "    <tr>\n",
       "      <th id=\"T_d303a_level0_row0\" class=\"row_heading level0 row0\" >N: Norte</th>\n",
       "      <th id=\"T_d303a_level1_row0\" class=\"row_heading level1 row0\" >GASOLINA</th>\n",
       "      <td id=\"T_d303a_row0_col0\" class=\"data row0 col0\" >5.972000</td>\n",
       "    </tr>\n",
       "    <tr>\n",
       "      <th id=\"T_d303a_level0_row1\" class=\"row_heading level0 row1\" >NE: Nordeste</th>\n",
       "      <th id=\"T_d303a_level1_row1\" class=\"row_heading level1 row1\" >GASOLINA</th>\n",
       "      <td id=\"T_d303a_row1_col0\" class=\"data row1 col0\" >5.956000</td>\n",
       "    </tr>\n",
       "    <tr>\n",
       "      <th id=\"T_d303a_level0_row2\" class=\"row_heading level0 row2\" >S: Sul</th>\n",
       "      <th id=\"T_d303a_level1_row2\" class=\"row_heading level1 row2\" >GASOLINA</th>\n",
       "      <td id=\"T_d303a_row2_col0\" class=\"data row2 col0\" >5.641000</td>\n",
       "    </tr>\n",
       "    <tr>\n",
       "      <th id=\"T_d303a_level0_row3\" class=\"row_heading level0 row3\" >SE: Sudeste</th>\n",
       "      <th id=\"T_d303a_level1_row3\" class=\"row_heading level1 row3\" >GASOLINA</th>\n",
       "      <td id=\"T_d303a_row3_col0\" class=\"data row3 col0\" >5.616000</td>\n",
       "    </tr>\n",
       "    <tr>\n",
       "      <th id=\"T_d303a_level0_row4\" class=\"row_heading level0 row4\" >CO: Centro-Oeste</th>\n",
       "      <th id=\"T_d303a_level1_row4\" class=\"row_heading level1 row4\" >GASOLINA</th>\n",
       "      <td id=\"T_d303a_row4_col0\" class=\"data row4 col0\" >5.582000</td>\n",
       "    </tr>\n",
       "  </tbody>\n",
       "</table>\n"
      ],
      "text/plain": [
       "<pandas.io.formats.style.Styler at 0x13a69c3f640>"
      ]
     },
     "execution_count": 39,
     "metadata": {},
     "output_type": "execute_result"
    }
   ],
   "source": [
    "regiao_maior_med_gas = dados_novo_arquivo[dados_novo_arquivo['produto']=='GASOLINA'].groupby(['regiao_sigla', 'produto']).aggregate( {\"valor_de_venda\":\"mean\"}).round(3).sort_values('valor_de_venda', ascending=False)\n",
    "regiao_maior_med_gas.style.background_gradient(cmap='Oranges')"
   ]
  },
  {
   "cell_type": "code",
   "execution_count": 40,
   "id": "NJAe6Reo71Df",
   "metadata": {
    "colab": {
     "base_uri": "https://localhost:8080/",
     "height": 112
    },
    "executionInfo": {
     "elapsed": 265,
     "status": "ok",
     "timestamp": 1664940273768,
     "user": {
      "displayName": "Stephanie Fernandes",
      "userId": "14058772314077983436"
     },
     "user_tz": 180
    },
    "id": "NJAe6Reo71Df",
    "outputId": "1a11e0c8-9eb7-4474-c975-68317208f80c"
   },
   "outputs": [
    {
     "data": {
      "text/html": [
       "<div>\n",
       "<style scoped>\n",
       "    .dataframe tbody tr th:only-of-type {\n",
       "        vertical-align: middle;\n",
       "    }\n",
       "\n",
       "    .dataframe tbody tr th {\n",
       "        vertical-align: top;\n",
       "    }\n",
       "\n",
       "    .dataframe thead th {\n",
       "        text-align: right;\n",
       "    }\n",
       "</style>\n",
       "<table border=\"1\" class=\"dataframe\">\n",
       "  <thead>\n",
       "    <tr style=\"text-align: right;\">\n",
       "      <th></th>\n",
       "      <th></th>\n",
       "      <th>valor_de_venda</th>\n",
       "    </tr>\n",
       "    <tr>\n",
       "      <th>regiao_sigla</th>\n",
       "      <th>produto</th>\n",
       "      <th></th>\n",
       "    </tr>\n",
       "  </thead>\n",
       "  <tbody>\n",
       "    <tr>\n",
       "      <th>N: Norte</th>\n",
       "      <th>GASOLINA</th>\n",
       "      <td>5.972</td>\n",
       "    </tr>\n",
       "  </tbody>\n",
       "</table>\n",
       "</div>"
      ],
      "text/plain": [
       "                       valor_de_venda\n",
       "regiao_sigla produto                 \n",
       "N: Norte     GASOLINA           5.972"
      ]
     },
     "execution_count": 40,
     "metadata": {},
     "output_type": "execute_result"
    }
   ],
   "source": [
    "regiao_maior_med_gas.nlargest(1, columns = 'valor_de_venda')"
   ]
  },
  {
   "cell_type": "markdown",
   "id": "8py6YqAy73Fg",
   "metadata": {
    "id": "8py6YqAy73Fg"
   },
   "source": [
    "## 8. Qual a região que possui o menor valor médio do etanol?"
   ]
  },
  {
   "cell_type": "code",
   "execution_count": 41,
   "id": "k5-BTd4c-FBb",
   "metadata": {
    "colab": {
     "base_uri": "https://localhost:8080/",
     "height": 237
    },
    "executionInfo": {
     "elapsed": 282,
     "status": "ok",
     "timestamp": 1664940278815,
     "user": {
      "displayName": "Stephanie Fernandes",
      "userId": "14058772314077983436"
     },
     "user_tz": 180
    },
    "id": "k5-BTd4c-FBb",
    "outputId": "ed5e71fa-698e-4409-b7d2-324cc09af62b"
   },
   "outputs": [
    {
     "data": {
      "text/html": [
       "<style type=\"text/css\">\n",
       "#T_c7bdf_row0_col0 {\n",
       "  background-color: #f7fcfd;\n",
       "  color: #000000;\n",
       "}\n",
       "#T_c7bdf_row1_col0 {\n",
       "  background-color: #f1f8fb;\n",
       "  color: #000000;\n",
       "}\n",
       "#T_c7bdf_row2_col0 {\n",
       "  background-color: #8c75b6;\n",
       "  color: #f1f1f1;\n",
       "}\n",
       "#T_c7bdf_row3_col0 {\n",
       "  background-color: #6c0968;\n",
       "  color: #f1f1f1;\n",
       "}\n",
       "#T_c7bdf_row4_col0 {\n",
       "  background-color: #4d004b;\n",
       "  color: #f1f1f1;\n",
       "}\n",
       "</style>\n",
       "<table id=\"T_c7bdf\">\n",
       "  <thead>\n",
       "    <tr>\n",
       "      <th class=\"blank\" >&nbsp;</th>\n",
       "      <th class=\"blank level0\" >&nbsp;</th>\n",
       "      <th id=\"T_c7bdf_level0_col0\" class=\"col_heading level0 col0\" >valor_de_venda</th>\n",
       "    </tr>\n",
       "    <tr>\n",
       "      <th class=\"index_name level0\" >regiao_sigla</th>\n",
       "      <th class=\"index_name level1\" >produto</th>\n",
       "      <th class=\"blank col0\" >&nbsp;</th>\n",
       "    </tr>\n",
       "  </thead>\n",
       "  <tbody>\n",
       "    <tr>\n",
       "      <th id=\"T_c7bdf_level0_row0\" class=\"row_heading level0 row0\" >CO: Centro-Oeste</th>\n",
       "      <th id=\"T_c7bdf_level1_row0\" class=\"row_heading level1 row0\" >ETANOL</th>\n",
       "      <td id=\"T_c7bdf_row0_col0\" class=\"data row0 col0\" >4.107000</td>\n",
       "    </tr>\n",
       "    <tr>\n",
       "      <th id=\"T_c7bdf_level0_row1\" class=\"row_heading level0 row1\" >SE: Sudeste</th>\n",
       "      <th id=\"T_c7bdf_level1_row1\" class=\"row_heading level1 row1\" >ETANOL</th>\n",
       "      <td id=\"T_c7bdf_row1_col0\" class=\"data row1 col0\" >4.150000</td>\n",
       "    </tr>\n",
       "    <tr>\n",
       "      <th id=\"T_c7bdf_level0_row2\" class=\"row_heading level0 row2\" >S: Sul</th>\n",
       "      <th id=\"T_c7bdf_level1_row2\" class=\"row_heading level1 row2\" >ETANOL</th>\n",
       "      <td id=\"T_c7bdf_row2_col0\" class=\"data row2 col0\" >4.842000</td>\n",
       "    </tr>\n",
       "    <tr>\n",
       "      <th id=\"T_c7bdf_level0_row3\" class=\"row_heading level0 row3\" >NE: Nordeste</th>\n",
       "      <th id=\"T_c7bdf_level1_row3\" class=\"row_heading level1 row3\" >ETANOL</th>\n",
       "      <td id=\"T_c7bdf_row3_col0\" class=\"data row3 col0\" >5.246000</td>\n",
       "    </tr>\n",
       "    <tr>\n",
       "      <th id=\"T_c7bdf_level0_row4\" class=\"row_heading level0 row4\" >N: Norte</th>\n",
       "      <th id=\"T_c7bdf_level1_row4\" class=\"row_heading level1 row4\" >ETANOL</th>\n",
       "      <td id=\"T_c7bdf_row4_col0\" class=\"data row4 col0\" >5.341000</td>\n",
       "    </tr>\n",
       "  </tbody>\n",
       "</table>\n"
      ],
      "text/plain": [
       "<pandas.io.formats.style.Styler at 0x13a6c2cd820>"
      ]
     },
     "execution_count": 41,
     "metadata": {},
     "output_type": "execute_result"
    }
   ],
   "source": [
    "# 8. Qual a região que possui o menor valor médio do etanol?\n",
    "regiao_menor_med_etanol = dados_novo_arquivo[dados_novo_arquivo['produto']=='ETANOL'].groupby(['regiao_sigla', 'produto']).aggregate( {\"valor_de_venda\":\"mean\"}).round(3).sort_values('valor_de_venda')\n",
    "regiao_menor_med_etanol.style.background_gradient(cmap='BuPu')"
   ]
  },
  {
   "cell_type": "code",
   "execution_count": 42,
   "id": "2lFlLtip-HyW",
   "metadata": {
    "colab": {
     "base_uri": "https://localhost:8080/",
     "height": 112
    },
    "executionInfo": {
     "elapsed": 281,
     "status": "ok",
     "timestamp": 1664940283569,
     "user": {
      "displayName": "Stephanie Fernandes",
      "userId": "14058772314077983436"
     },
     "user_tz": 180
    },
    "id": "2lFlLtip-HyW",
    "outputId": "911236e7-e938-461f-ea07-dcc16e1cf3c5"
   },
   "outputs": [
    {
     "data": {
      "text/html": [
       "<div>\n",
       "<style scoped>\n",
       "    .dataframe tbody tr th:only-of-type {\n",
       "        vertical-align: middle;\n",
       "    }\n",
       "\n",
       "    .dataframe tbody tr th {\n",
       "        vertical-align: top;\n",
       "    }\n",
       "\n",
       "    .dataframe thead th {\n",
       "        text-align: right;\n",
       "    }\n",
       "</style>\n",
       "<table border=\"1\" class=\"dataframe\">\n",
       "  <thead>\n",
       "    <tr style=\"text-align: right;\">\n",
       "      <th></th>\n",
       "      <th></th>\n",
       "      <th>valor_de_venda</th>\n",
       "    </tr>\n",
       "    <tr>\n",
       "      <th>regiao_sigla</th>\n",
       "      <th>produto</th>\n",
       "      <th></th>\n",
       "    </tr>\n",
       "  </thead>\n",
       "  <tbody>\n",
       "    <tr>\n",
       "      <th>CO: Centro-Oeste</th>\n",
       "      <th>ETANOL</th>\n",
       "      <td>4.107</td>\n",
       "    </tr>\n",
       "  </tbody>\n",
       "</table>\n",
       "</div>"
      ],
      "text/plain": [
       "                          valor_de_venda\n",
       "regiao_sigla     produto                \n",
       "CO: Centro-Oeste ETANOL            4.107"
      ]
     },
     "execution_count": 42,
     "metadata": {},
     "output_type": "execute_result"
    }
   ],
   "source": [
    "regiao_menor_med_etanol.nsmallest(1, columns = 'valor_de_venda')"
   ]
  },
  {
   "cell_type": "code",
   "execution_count": 43,
   "id": "DWwal_4j-LSX",
   "metadata": {
    "executionInfo": {
     "elapsed": 26,
     "status": "ok",
     "timestamp": 1664940177707,
     "user": {
      "displayName": "Stephanie Fernandes",
      "userId": "14058772314077983436"
     },
     "user_tz": 180
    },
    "id": "DWwal_4j-LSX"
   },
   "outputs": [],
   "source": [
    "vl_medio_regiao = dados_novo_arquivo.groupby(['regiao_sigla', 'produto'])['valor_de_venda'].mean().reset_index()"
   ]
  },
  {
   "cell_type": "code",
   "execution_count": 63,
   "id": "grko1eZG-PyJ",
   "metadata": {
    "colab": {
     "base_uri": "https://localhost:8080/",
     "height": 713
    },
    "executionInfo": {
     "elapsed": 3426,
     "status": "ok",
     "timestamp": 1664940970964,
     "user": {
      "displayName": "Stephanie Fernandes",
      "userId": "14058772314077983436"
     },
     "user_tz": 180
    },
    "id": "grko1eZG-PyJ",
    "outputId": "9ecda033-8636-4460-81fc-a093035fcb80"
   },
   "outputs": [
    {
     "data": {
      "image/png": "[encoded data removed]",
      "text/plain": [
       "<Figure size 4320x2160 with 1 Axes>"
      ]
     },
     "metadata": {},
     "output_type": "display_data"
    }
   ],
   "source": [
    "grafico_val_med_reg = plt.figure(figsize=(60,30))\n",
    "plt.title('PREÇO MÉDIO - GASOLINA COMUM x ETANOL x GASOLINA ADITIVADA', fontsize=40)\n",
    "sns.set(font_scale=3)\n",
    "sns.barplot(y='valor_de_venda', x='regiao_sigla', hue='produto',  data = vl_medio_regiao, palette='plasma');\n",
    "plt.ylabel('VALOR MÉDIO DA GASOLINA')\n",
    "plt.xlabel('REGIÃO')\n",
    "plt.legend(title=\"PRODUTO\")\n",
    "\n",
    "plt.tight_layout()"
   ]
  }
 ],
 "metadata": {
  "colab": {
   "collapsed_sections": [
    "333ceebc",
    "caecfb3d",
    "428fbdf4",
    "70b18086",
    "2JWN9J5_2hXI",
    "B-Hb2sg46qV7",
    "KkdEsHVm7Npe",
    "g-gEW7p27eHn",
    "3aYUKs-27g9x",
    "7HXTbqWJ7kw5",
    "5sse181N_fGo",
    "C3DJFiPI_0HD"
   ],
   "provenance": []
  },
  "kernelspec": {
   "display_name": "Python 3 (ipykernel)",
   "language": "python",
   "name": "python3"
  },
  "language_info": {
   "codemirror_mode": {
    "name": "ipython",
    "version": 3
   },
   "file_extension": ".py",
   "mimetype": "text/x-python",
   "name": "python",
   "nbconvert_exporter": "python",
   "pygments_lexer": "ipython3",
   "version": "3.9.12"
  },
  "vscode": {
   "interpreter": {
    "hash": "26de051ba29f2982a8de78e945f0abaf191376122a1563185a90213a26c5da77"
   }
  }
 },
 "nbformat": 4,
 "nbformat_minor": 5
}

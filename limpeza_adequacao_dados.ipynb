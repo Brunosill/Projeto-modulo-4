{
  "cells": [
    {
      "cell_type": "markdown",
      "id": "581082a2",
      "metadata": {
        "id": "581082a2"
      },
      "source": [
        "#  Limpeza e adequação da nomenclatura "
      ]
    },
    {
      "cell_type": "markdown",
      "id": "19c169b4",
      "metadata": {
        "id": "19c169b4"
      },
      "source": [
        "## Entrada dos dados"
      ]
    },
    {
      "cell_type": "markdown",
      "id": "29859f30",
      "metadata": {
        "id": "29859f30"
      },
      "source": [
        "### Preparando ambiente"
      ]
    },
    {
      "cell_type": "code",
      "execution_count": 3,
      "id": "56ce07d4",
      "metadata": {
        "id": "56ce07d4"
      },
      "outputs": [],
      "source": [
        "#importando bibliotecas \n",
        "import pandas as pd\n",
        "import numpy as np\n",
        "import seaborn as sns\n",
        "import matplotlib\n",
        "import matplotlib.pyplot as plt"
      ]
    },
    {
      "cell_type": "markdown",
      "id": "de72661a",
      "metadata": {
        "id": "de72661a"
      },
      "source": [
        "### Importando dados de julho de 2022"
      ]
    },
    {
      "cell_type": "code",
      "execution_count": 4,
      "id": "9361be54",
      "metadata": {
        "colab": {
          "base_uri": "https://localhost:8080/",
          "height": 0
        },
        "id": "9361be54",
        "outputId": "da849b44-6c4c-4bb7-e6ed-7dd224df9ef4"
      },
      "outputs": [
        {
          "output_type": "execute_result",
          "data": {
            "text/plain": [
              "  Regiao - Sigla Estado - Sigla Municipio  \\\n",
              "0             SE             ES  COLATINA   \n",
              "1             SE             ES  COLATINA   \n",
              "2             SE             ES  COLATINA   \n",
              "3             SE             ES  COLATINA   \n",
              "4             CO             GO   GOIANIA   \n",
              "\n",
              "                                             Revenda      CNPJ da Revenda  \\\n",
              "0  SAO FRANCISCO DE ASSIS COMERCIO DE COMBUSTIVEI...   08.519.545/0001-10   \n",
              "1  SAO FRANCISCO DE ASSIS COMERCIO DE COMBUSTIVEI...   08.519.545/0001-10   \n",
              "2                                 POSTO MOTOCAP LTDA   04.814.652/0001-10   \n",
              "3                                 POSTO MOTOCAP LTDA   04.814.652/0001-10   \n",
              "4                       JUSTINIANO & JUSTINIANO LTDA   04.489.287/0001-16   \n",
              "\n",
              "                    Nome da Rua Numero Rua         Complemento  \\\n",
              "0         PRACA FIDELIS FERRARI         35                 NaN   \n",
              "1         PRACA FIDELIS FERRARI         35                 NaN   \n",
              "2       PRACA ALMIRANTE BARROSO         52             LETRA A   \n",
              "3       PRACA ALMIRANTE BARROSO         52             LETRA A   \n",
              "4  AVENIDA JOSE LEANDRO DA CRUZ       2,36  QUADRA 18, LOTE 01   \n",
              "\n",
              "            Bairro        Cep             Produto Data da Coleta  \\\n",
              "0             LACE  29703-030  GASOLINA ADITIVADA     01/07/2022   \n",
              "1             LACE  29703-030            GASOLINA     01/07/2022   \n",
              "2             LACE  29703-055              ETANOL     01/07/2022   \n",
              "3             LACE  29703-055            GASOLINA     01/07/2022   \n",
              "4  PARQUE AMAZONIA  74840-390  GASOLINA ADITIVADA     01/07/2022   \n",
              "\n",
              "  Valor de Venda  Valor de Compra Unidade de Medida       Bandeira  \n",
              "0           7,48              NaN        R$ / litro  VIBRA ENERGIA  \n",
              "1           7,38              NaN        R$ / litro  VIBRA ENERGIA  \n",
              "2           5,99              NaN        R$ / litro  VIBRA ENERGIA  \n",
              "3           7,39              NaN        R$ / litro  VIBRA ENERGIA  \n",
              "4           6,49              NaN        R$ / litro       IPIRANGA  "
            ],
            "text/html": [
              "\n",
              "  <div id=\"df-4f8afa1e-338c-4603-bdf8-1e537f1c6738\">\n",
              "    <div class=\"colab-df-container\">\n",
              "      <div>\n",
              "<style scoped>\n",
              "    .dataframe tbody tr th:only-of-type {\n",
              "        vertical-align: middle;\n",
              "    }\n",
              "\n",
              "    .dataframe tbody tr th {\n",
              "        vertical-align: top;\n",
              "    }\n",
              "\n",
              "    .dataframe thead th {\n",
              "        text-align: right;\n",
              "    }\n",
              "</style>\n",
              "<table border=\"1\" class=\"dataframe\">\n",
              "  <thead>\n",
              "    <tr style=\"text-align: right;\">\n",
              "      <th></th>\n",
              "      <th>Regiao - Sigla</th>\n",
              "      <th>Estado - Sigla</th>\n",
              "      <th>Municipio</th>\n",
              "      <th>Revenda</th>\n",
              "      <th>CNPJ da Revenda</th>\n",
              "      <th>Nome da Rua</th>\n",
              "      <th>Numero Rua</th>\n",
              "      <th>Complemento</th>\n",
              "      <th>Bairro</th>\n",
              "      <th>Cep</th>\n",
              "      <th>Produto</th>\n",
              "      <th>Data da Coleta</th>\n",
              "      <th>Valor de Venda</th>\n",
              "      <th>Valor de Compra</th>\n",
              "      <th>Unidade de Medida</th>\n",
              "      <th>Bandeira</th>\n",
              "    </tr>\n",
              "  </thead>\n",
              "  <tbody>\n",
              "    <tr>\n",
              "      <th>0</th>\n",
              "      <td>SE</td>\n",
              "      <td>ES</td>\n",
              "      <td>COLATINA</td>\n",
              "      <td>SAO FRANCISCO DE ASSIS COMERCIO DE COMBUSTIVEI...</td>\n",
              "      <td>08.519.545/0001-10</td>\n",
              "      <td>PRACA FIDELIS FERRARI</td>\n",
              "      <td>35</td>\n",
              "      <td>NaN</td>\n",
              "      <td>LACE</td>\n",
              "      <td>29703-030</td>\n",
              "      <td>GASOLINA ADITIVADA</td>\n",
              "      <td>01/07/2022</td>\n",
              "      <td>7,48</td>\n",
              "      <td>NaN</td>\n",
              "      <td>R$ / litro</td>\n",
              "      <td>VIBRA ENERGIA</td>\n",
              "    </tr>\n",
              "    <tr>\n",
              "      <th>1</th>\n",
              "      <td>SE</td>\n",
              "      <td>ES</td>\n",
              "      <td>COLATINA</td>\n",
              "      <td>SAO FRANCISCO DE ASSIS COMERCIO DE COMBUSTIVEI...</td>\n",
              "      <td>08.519.545/0001-10</td>\n",
              "      <td>PRACA FIDELIS FERRARI</td>\n",
              "      <td>35</td>\n",
              "      <td>NaN</td>\n",
              "      <td>LACE</td>\n",
              "      <td>29703-030</td>\n",
              "      <td>GASOLINA</td>\n",
              "      <td>01/07/2022</td>\n",
              "      <td>7,38</td>\n",
              "      <td>NaN</td>\n",
              "      <td>R$ / litro</td>\n",
              "      <td>VIBRA ENERGIA</td>\n",
              "    </tr>\n",
              "    <tr>\n",
              "      <th>2</th>\n",
              "      <td>SE</td>\n",
              "      <td>ES</td>\n",
              "      <td>COLATINA</td>\n",
              "      <td>POSTO MOTOCAP LTDA</td>\n",
              "      <td>04.814.652/0001-10</td>\n",
              "      <td>PRACA ALMIRANTE BARROSO</td>\n",
              "      <td>52</td>\n",
              "      <td>LETRA A</td>\n",
              "      <td>LACE</td>\n",
              "      <td>29703-055</td>\n",
              "      <td>ETANOL</td>\n",
              "      <td>01/07/2022</td>\n",
              "      <td>5,99</td>\n",
              "      <td>NaN</td>\n",
              "      <td>R$ / litro</td>\n",
              "      <td>VIBRA ENERGIA</td>\n",
              "    </tr>\n",
              "    <tr>\n",
              "      <th>3</th>\n",
              "      <td>SE</td>\n",
              "      <td>ES</td>\n",
              "      <td>COLATINA</td>\n",
              "      <td>POSTO MOTOCAP LTDA</td>\n",
              "      <td>04.814.652/0001-10</td>\n",
              "      <td>PRACA ALMIRANTE BARROSO</td>\n",
              "      <td>52</td>\n",
              "      <td>LETRA A</td>\n",
              "      <td>LACE</td>\n",
              "      <td>29703-055</td>\n",
              "      <td>GASOLINA</td>\n",
              "      <td>01/07/2022</td>\n",
              "      <td>7,39</td>\n",
              "      <td>NaN</td>\n",
              "      <td>R$ / litro</td>\n",
              "      <td>VIBRA ENERGIA</td>\n",
              "    </tr>\n",
              "    <tr>\n",
              "      <th>4</th>\n",
              "      <td>CO</td>\n",
              "      <td>GO</td>\n",
              "      <td>GOIANIA</td>\n",
              "      <td>JUSTINIANO &amp; JUSTINIANO LTDA</td>\n",
              "      <td>04.489.287/0001-16</td>\n",
              "      <td>AVENIDA JOSE LEANDRO DA CRUZ</td>\n",
              "      <td>2,36</td>\n",
              "      <td>QUADRA 18, LOTE 01</td>\n",
              "      <td>PARQUE AMAZONIA</td>\n",
              "      <td>74840-390</td>\n",
              "      <td>GASOLINA ADITIVADA</td>\n",
              "      <td>01/07/2022</td>\n",
              "      <td>6,49</td>\n",
              "      <td>NaN</td>\n",
              "      <td>R$ / litro</td>\n",
              "      <td>IPIRANGA</td>\n",
              "    </tr>\n",
              "  </tbody>\n",
              "</table>\n",
              "</div>\n",
              "      <button class=\"colab-df-convert\" onclick=\"convertToInteractive('df-4f8afa1e-338c-4603-bdf8-1e537f1c6738')\"\n",
              "              title=\"Convert this dataframe to an interactive table.\"\n",
              "              style=\"display:none;\">\n",
              "        \n",
              "  <svg xmlns=\"http://www.w3.org/2000/svg\" height=\"24px\"viewBox=\"0 0 24 24\"\n",
              "       width=\"24px\">\n",
              "    <path d=\"M0 0h24v24H0V0z\" fill=\"none\"/>\n",
              "    <path d=\"M18.56 5.44l.94 2.06.94-2.06 2.06-.94-2.06-.94-.94-2.06-.94 2.06-2.06.94zm-11 1L8.5 8.5l.94-2.06 2.06-.94-2.06-.94L8.5 2.5l-.94 2.06-2.06.94zm10 10l.94 2.06.94-2.06 2.06-.94-2.06-.94-.94-2.06-.94 2.06-2.06.94z\"/><path d=\"M17.41 7.96l-1.37-1.37c-.4-.4-.92-.59-1.43-.59-.52 0-1.04.2-1.43.59L10.3 9.45l-7.72 7.72c-.78.78-.78 2.05 0 2.83L4 21.41c.39.39.9.59 1.41.59.51 0 1.02-.2 1.41-.59l7.78-7.78 2.81-2.81c.8-.78.8-2.07 0-2.86zM5.41 20L4 18.59l7.72-7.72 1.47 1.35L5.41 20z\"/>\n",
              "  </svg>\n",
              "      </button>\n",
              "      \n",
              "  <style>\n",
              "    .colab-df-container {\n",
              "      display:flex;\n",
              "      flex-wrap:wrap;\n",
              "      gap: 12px;\n",
              "    }\n",
              "\n",
              "    .colab-df-convert {\n",
              "      background-color: #E8F0FE;\n",
              "      border: none;\n",
              "      border-radius: 50%;\n",
              "      cursor: pointer;\n",
              "      display: none;\n",
              "      fill: #1967D2;\n",
              "      height: 32px;\n",
              "      padding: 0 0 0 0;\n",
              "      width: 32px;\n",
              "    }\n",
              "\n",
              "    .colab-df-convert:hover {\n",
              "      background-color: #E2EBFA;\n",
              "      box-shadow: 0px 1px 2px rgba(60, 64, 67, 0.3), 0px 1px 3px 1px rgba(60, 64, 67, 0.15);\n",
              "      fill: #174EA6;\n",
              "    }\n",
              "\n",
              "    [theme=dark] .colab-df-convert {\n",
              "      background-color: #3B4455;\n",
              "      fill: #D2E3FC;\n",
              "    }\n",
              "\n",
              "    [theme=dark] .colab-df-convert:hover {\n",
              "      background-color: #434B5C;\n",
              "      box-shadow: 0px 1px 3px 1px rgba(0, 0, 0, 0.15);\n",
              "      filter: drop-shadow(0px 1px 2px rgba(0, 0, 0, 0.3));\n",
              "      fill: #FFFFFF;\n",
              "    }\n",
              "  </style>\n",
              "\n",
              "      <script>\n",
              "        const buttonEl =\n",
              "          document.querySelector('#df-4f8afa1e-338c-4603-bdf8-1e537f1c6738 button.colab-df-convert');\n",
              "        buttonEl.style.display =\n",
              "          google.colab.kernel.accessAllowed ? 'block' : 'none';\n",
              "\n",
              "        async function convertToInteractive(key) {\n",
              "          const element = document.querySelector('#df-4f8afa1e-338c-4603-bdf8-1e537f1c6738');\n",
              "          const dataTable =\n",
              "            await google.colab.kernel.invokeFunction('convertToInteractive',\n",
              "                                                     [key], {});\n",
              "          if (!dataTable) return;\n",
              "\n",
              "          const docLinkHtml = 'Like what you see? Visit the ' +\n",
              "            '<a target=\"_blank\" href=https://colab.research.google.com/notebooks/data_table.ipynb>data table notebook</a>'\n",
              "            + ' to learn more about interactive tables.';\n",
              "          element.innerHTML = '';\n",
              "          dataTable['output_type'] = 'display_data';\n",
              "          await google.colab.output.renderOutput(dataTable, element);\n",
              "          const docLink = document.createElement('div');\n",
              "          docLink.innerHTML = docLinkHtml;\n",
              "          element.appendChild(docLink);\n",
              "        }\n",
              "      </script>\n",
              "    </div>\n",
              "  </div>\n",
              "  "
            ]
          },
          "metadata": {},
          "execution_count": 4
        }
      ],
      "source": [
        "def julhoCsv():\n",
        "        try:\n",
        "          url_julho = 'https://www.gov.br/anp/pt-br/centrais-de-conteudo/dados-abertos/arquivos/shpc/dsan/2022/precos-gasolina-etanol-07.csv'\n",
        "          dados_brutos_julho = pd.read_csv(url_julho, sep=';')\n",
        "          return dados_brutos_julho\n",
        "\n",
        "        except:\n",
        "          url_julho = 'https://raw.githubusercontent.com/lucasCanella/Projeto-modulo-4/colab1/dados/dados_originais/precos-gasolina-etanol-julho.csv'\n",
        "          dados_brutos_julho = pd.read_csv(url_julho, sep=';')\n",
        "          return dados_brutos_julho\n",
        "\n",
        "dados_brutos_julho = julhoCsv()\n",
        "dados_brutos_julho.head()"
      ]
    },
    {
      "cell_type": "markdown",
      "id": "eac24cf0",
      "metadata": {
        "id": "eac24cf0"
      },
      "source": [
        "### Importando dados de agosto de 2022"
      ]
    },
    {
      "cell_type": "code",
      "execution_count": 5,
      "id": "87afea01",
      "metadata": {
        "colab": {
          "base_uri": "https://localhost:8080/",
          "height": 0
        },
        "id": "87afea01",
        "outputId": "0ebf3050-a794-42fd-d183-99ac02b9e29d"
      },
      "outputs": [
        {
          "output_type": "execute_result",
          "data": {
            "text/plain": [
              "  Regiao - Sigla Estado - Sigla  Municipio                        Revenda  \\\n",
              "0             NE             AL  ARAPIRACA    AUTO POSTO M M GARROTE LTDA   \n",
              "1             NE             AL  ARAPIRACA    AUTO POSTO M M GARROTE LTDA   \n",
              "2             NE             AL  ARAPIRACA  AUTO POSTO MASSARANDUBA LTDA.   \n",
              "3             NE             AL  ARAPIRACA  AUTO POSTO MASSARANDUBA LTDA.   \n",
              "4             NE             AL  ARAPIRACA  AUTO POSTO MASSARANDUBA LTDA.   \n",
              "\n",
              "       CNPJ da Revenda     Nome da Rua Numero Rua Complemento       Bairro  \\\n",
              "0   08.738.994/0001-50  RODOVIA AL-220       5848    KM    96  BOM SUCESSO   \n",
              "1   08.738.994/0001-50  RODOVIA AL-220       5848    KM    96  BOM SUCESSO   \n",
              "2   07.248.398/0001-29  RODOVIA AL 220       4698         NaN     PLANALTO   \n",
              "3   07.248.398/0001-29  RODOVIA AL 220       4698         NaN     PLANALTO   \n",
              "4   07.248.398/0001-29  RODOVIA AL 220       4698         NaN     PLANALTO   \n",
              "\n",
              "         Cep             Produto Data da Coleta Valor de Venda  \\\n",
              "0  57309-035              ETANOL     01/08/2022           4,79   \n",
              "1  57309-035            GASOLINA     01/08/2022           5,59   \n",
              "2  57308-000  GASOLINA ADITIVADA     01/08/2022           5,99   \n",
              "3  57308-000              ETANOL     01/08/2022           4,99   \n",
              "4  57308-000            GASOLINA     01/08/2022           5,79   \n",
              "\n",
              "   Valor de Compra Unidade de Medida       Bandeira  \n",
              "0              NaN        R$ / litro  VIBRA ENERGIA  \n",
              "1              NaN        R$ / litro  VIBRA ENERGIA  \n",
              "2              NaN        R$ / litro         BRANCA  \n",
              "3              NaN        R$ / litro         BRANCA  \n",
              "4              NaN        R$ / litro         BRANCA  "
            ],
            "text/html": [
              "\n",
              "  <div id=\"df-7f1aac2f-e36e-4773-a596-3f49ec5d311b\">\n",
              "    <div class=\"colab-df-container\">\n",
              "      <div>\n",
              "<style scoped>\n",
              "    .dataframe tbody tr th:only-of-type {\n",
              "        vertical-align: middle;\n",
              "    }\n",
              "\n",
              "    .dataframe tbody tr th {\n",
              "        vertical-align: top;\n",
              "    }\n",
              "\n",
              "    .dataframe thead th {\n",
              "        text-align: right;\n",
              "    }\n",
              "</style>\n",
              "<table border=\"1\" class=\"dataframe\">\n",
              "  <thead>\n",
              "    <tr style=\"text-align: right;\">\n",
              "      <th></th>\n",
              "      <th>Regiao - Sigla</th>\n",
              "      <th>Estado - Sigla</th>\n",
              "      <th>Municipio</th>\n",
              "      <th>Revenda</th>\n",
              "      <th>CNPJ da Revenda</th>\n",
              "      <th>Nome da Rua</th>\n",
              "      <th>Numero Rua</th>\n",
              "      <th>Complemento</th>\n",
              "      <th>Bairro</th>\n",
              "      <th>Cep</th>\n",
              "      <th>Produto</th>\n",
              "      <th>Data da Coleta</th>\n",
              "      <th>Valor de Venda</th>\n",
              "      <th>Valor de Compra</th>\n",
              "      <th>Unidade de Medida</th>\n",
              "      <th>Bandeira</th>\n",
              "    </tr>\n",
              "  </thead>\n",
              "  <tbody>\n",
              "    <tr>\n",
              "      <th>0</th>\n",
              "      <td>NE</td>\n",
              "      <td>AL</td>\n",
              "      <td>ARAPIRACA</td>\n",
              "      <td>AUTO POSTO M M GARROTE LTDA</td>\n",
              "      <td>08.738.994/0001-50</td>\n",
              "      <td>RODOVIA AL-220</td>\n",
              "      <td>5848</td>\n",
              "      <td>KM    96</td>\n",
              "      <td>BOM SUCESSO</td>\n",
              "      <td>57309-035</td>\n",
              "      <td>ETANOL</td>\n",
              "      <td>01/08/2022</td>\n",
              "      <td>4,79</td>\n",
              "      <td>NaN</td>\n",
              "      <td>R$ / litro</td>\n",
              "      <td>VIBRA ENERGIA</td>\n",
              "    </tr>\n",
              "    <tr>\n",
              "      <th>1</th>\n",
              "      <td>NE</td>\n",
              "      <td>AL</td>\n",
              "      <td>ARAPIRACA</td>\n",
              "      <td>AUTO POSTO M M GARROTE LTDA</td>\n",
              "      <td>08.738.994/0001-50</td>\n",
              "      <td>RODOVIA AL-220</td>\n",
              "      <td>5848</td>\n",
              "      <td>KM    96</td>\n",
              "      <td>BOM SUCESSO</td>\n",
              "      <td>57309-035</td>\n",
              "      <td>GASOLINA</td>\n",
              "      <td>01/08/2022</td>\n",
              "      <td>5,59</td>\n",
              "      <td>NaN</td>\n",
              "      <td>R$ / litro</td>\n",
              "      <td>VIBRA ENERGIA</td>\n",
              "    </tr>\n",
              "    <tr>\n",
              "      <th>2</th>\n",
              "      <td>NE</td>\n",
              "      <td>AL</td>\n",
              "      <td>ARAPIRACA</td>\n",
              "      <td>AUTO POSTO MASSARANDUBA LTDA.</td>\n",
              "      <td>07.248.398/0001-29</td>\n",
              "      <td>RODOVIA AL 220</td>\n",
              "      <td>4698</td>\n",
              "      <td>NaN</td>\n",
              "      <td>PLANALTO</td>\n",
              "      <td>57308-000</td>\n",
              "      <td>GASOLINA ADITIVADA</td>\n",
              "      <td>01/08/2022</td>\n",
              "      <td>5,99</td>\n",
              "      <td>NaN</td>\n",
              "      <td>R$ / litro</td>\n",
              "      <td>BRANCA</td>\n",
              "    </tr>\n",
              "    <tr>\n",
              "      <th>3</th>\n",
              "      <td>NE</td>\n",
              "      <td>AL</td>\n",
              "      <td>ARAPIRACA</td>\n",
              "      <td>AUTO POSTO MASSARANDUBA LTDA.</td>\n",
              "      <td>07.248.398/0001-29</td>\n",
              "      <td>RODOVIA AL 220</td>\n",
              "      <td>4698</td>\n",
              "      <td>NaN</td>\n",
              "      <td>PLANALTO</td>\n",
              "      <td>57308-000</td>\n",
              "      <td>ETANOL</td>\n",
              "      <td>01/08/2022</td>\n",
              "      <td>4,99</td>\n",
              "      <td>NaN</td>\n",
              "      <td>R$ / litro</td>\n",
              "      <td>BRANCA</td>\n",
              "    </tr>\n",
              "    <tr>\n",
              "      <th>4</th>\n",
              "      <td>NE</td>\n",
              "      <td>AL</td>\n",
              "      <td>ARAPIRACA</td>\n",
              "      <td>AUTO POSTO MASSARANDUBA LTDA.</td>\n",
              "      <td>07.248.398/0001-29</td>\n",
              "      <td>RODOVIA AL 220</td>\n",
              "      <td>4698</td>\n",
              "      <td>NaN</td>\n",
              "      <td>PLANALTO</td>\n",
              "      <td>57308-000</td>\n",
              "      <td>GASOLINA</td>\n",
              "      <td>01/08/2022</td>\n",
              "      <td>5,79</td>\n",
              "      <td>NaN</td>\n",
              "      <td>R$ / litro</td>\n",
              "      <td>BRANCA</td>\n",
              "    </tr>\n",
              "  </tbody>\n",
              "</table>\n",
              "</div>\n",
              "      <button class=\"colab-df-convert\" onclick=\"convertToInteractive('df-7f1aac2f-e36e-4773-a596-3f49ec5d311b')\"\n",
              "              title=\"Convert this dataframe to an interactive table.\"\n",
              "              style=\"display:none;\">\n",
              "        \n",
              "  <svg xmlns=\"http://www.w3.org/2000/svg\" height=\"24px\"viewBox=\"0 0 24 24\"\n",
              "       width=\"24px\">\n",
              "    <path d=\"M0 0h24v24H0V0z\" fill=\"none\"/>\n",
              "    <path d=\"M18.56 5.44l.94 2.06.94-2.06 2.06-.94-2.06-.94-.94-2.06-.94 2.06-2.06.94zm-11 1L8.5 8.5l.94-2.06 2.06-.94-2.06-.94L8.5 2.5l-.94 2.06-2.06.94zm10 10l.94 2.06.94-2.06 2.06-.94-2.06-.94-.94-2.06-.94 2.06-2.06.94z\"/><path d=\"M17.41 7.96l-1.37-1.37c-.4-.4-.92-.59-1.43-.59-.52 0-1.04.2-1.43.59L10.3 9.45l-7.72 7.72c-.78.78-.78 2.05 0 2.83L4 21.41c.39.39.9.59 1.41.59.51 0 1.02-.2 1.41-.59l7.78-7.78 2.81-2.81c.8-.78.8-2.07 0-2.86zM5.41 20L4 18.59l7.72-7.72 1.47 1.35L5.41 20z\"/>\n",
              "  </svg>\n",
              "      </button>\n",
              "      \n",
              "  <style>\n",
              "    .colab-df-container {\n",
              "      display:flex;\n",
              "      flex-wrap:wrap;\n",
              "      gap: 12px;\n",
              "    }\n",
              "\n",
              "    .colab-df-convert {\n",
              "      background-color: #E8F0FE;\n",
              "      border: none;\n",
              "      border-radius: 50%;\n",
              "      cursor: pointer;\n",
              "      display: none;\n",
              "      fill: #1967D2;\n",
              "      height: 32px;\n",
              "      padding: 0 0 0 0;\n",
              "      width: 32px;\n",
              "    }\n",
              "\n",
              "    .colab-df-convert:hover {\n",
              "      background-color: #E2EBFA;\n",
              "      box-shadow: 0px 1px 2px rgba(60, 64, 67, 0.3), 0px 1px 3px 1px rgba(60, 64, 67, 0.15);\n",
              "      fill: #174EA6;\n",
              "    }\n",
              "\n",
              "    [theme=dark] .colab-df-convert {\n",
              "      background-color: #3B4455;\n",
              "      fill: #D2E3FC;\n",
              "    }\n",
              "\n",
              "    [theme=dark] .colab-df-convert:hover {\n",
              "      background-color: #434B5C;\n",
              "      box-shadow: 0px 1px 3px 1px rgba(0, 0, 0, 0.15);\n",
              "      filter: drop-shadow(0px 1px 2px rgba(0, 0, 0, 0.3));\n",
              "      fill: #FFFFFF;\n",
              "    }\n",
              "  </style>\n",
              "\n",
              "      <script>\n",
              "        const buttonEl =\n",
              "          document.querySelector('#df-7f1aac2f-e36e-4773-a596-3f49ec5d311b button.colab-df-convert');\n",
              "        buttonEl.style.display =\n",
              "          google.colab.kernel.accessAllowed ? 'block' : 'none';\n",
              "\n",
              "        async function convertToInteractive(key) {\n",
              "          const element = document.querySelector('#df-7f1aac2f-e36e-4773-a596-3f49ec5d311b');\n",
              "          const dataTable =\n",
              "            await google.colab.kernel.invokeFunction('convertToInteractive',\n",
              "                                                     [key], {});\n",
              "          if (!dataTable) return;\n",
              "\n",
              "          const docLinkHtml = 'Like what you see? Visit the ' +\n",
              "            '<a target=\"_blank\" href=https://colab.research.google.com/notebooks/data_table.ipynb>data table notebook</a>'\n",
              "            + ' to learn more about interactive tables.';\n",
              "          element.innerHTML = '';\n",
              "          dataTable['output_type'] = 'display_data';\n",
              "          await google.colab.output.renderOutput(dataTable, element);\n",
              "          const docLink = document.createElement('div');\n",
              "          docLink.innerHTML = docLinkHtml;\n",
              "          element.appendChild(docLink);\n",
              "        }\n",
              "      </script>\n",
              "    </div>\n",
              "  </div>\n",
              "  "
            ]
          },
          "metadata": {},
          "execution_count": 5
        }
      ],
      "source": [
        "def agostoCsv():\n",
        "        try:\n",
        "          url_agosto = 'https://www.gov.br/anp/pt-br/centrais-de-conteudo/dados-abertos/arquivos/shpc/dsan/2022/precos-gasolina-etanol-08.csv'\n",
        "          dados_brutos_agosto = pd.read_csv(url_agosto, sep=';')\n",
        "          return dados_brutos_agosto\n",
        "\n",
        "        except:\n",
        "          url_agosto = 'https://raw.githubusercontent.com/lucasCanella/Projeto-modulo-4/colab1/dados/dados_originais/precos-gasolina-etanol-agosto.csv'\n",
        "\n",
        "          dados_brutos_agosto = pd.read_csv(url_agosto, sep=';')\n",
        "          return dados_brutos_agosto\n",
        "\n",
        "dados_brutos_agosto = agostoCsv()\n",
        "dados_brutos_agosto.head()"
      ]
    },
    {
      "cell_type": "code",
      "execution_count": 6,
      "id": "571fefaf",
      "metadata": {
        "colab": {
          "base_uri": "https://localhost:8080/"
        },
        "id": "571fefaf",
        "outputId": "da896ef4-afe3-4d2d-a770-5b3a66a0722d"
      },
      "outputs": [
        {
          "output_type": "execute_result",
          "data": {
            "text/plain": [
              "(69544, 16)"
            ]
          },
          "metadata": {},
          "execution_count": 6
        }
      ],
      "source": [
        "dados_brutos_agosto.shape"
      ]
    },
    {
      "cell_type": "code",
      "execution_count": 7,
      "id": "4b117649",
      "metadata": {
        "colab": {
          "base_uri": "https://localhost:8080/"
        },
        "id": "4b117649",
        "outputId": "fa412e7f-a3e1-4676-c0c8-c648ef407402"
      },
      "outputs": [
        {
          "output_type": "execute_result",
          "data": {
            "text/plain": [
              "Regiao - Sigla           0\n",
              "Estado - Sigla           0\n",
              "Municipio                0\n",
              "Revenda                  0\n",
              "CNPJ da Revenda          0\n",
              "Nome da Rua              0\n",
              "Numero Rua              36\n",
              "Complemento          54607\n",
              "Bairro                 218\n",
              "Cep                      0\n",
              "Produto                  0\n",
              "Data da Coleta           0\n",
              "Valor de Venda           0\n",
              "Valor de Compra      69544\n",
              "Unidade de Medida        0\n",
              "Bandeira                 0\n",
              "dtype: int64"
            ]
          },
          "metadata": {},
          "execution_count": 7
        }
      ],
      "source": [
        "dados_brutos_agosto.isna().sum()"
      ]
    },
    {
      "cell_type": "markdown",
      "id": "333ceebc",
      "metadata": {
        "id": "333ceebc"
      },
      "source": [
        "## União, adequação de dados e de nomenclatura"
      ]
    },
    {
      "cell_type": "markdown",
      "id": "6380cc97",
      "metadata": {
        "id": "6380cc97"
      },
      "source": [
        "### Modificação do padrão das datas"
      ]
    },
    {
      "cell_type": "code",
      "execution_count": 8,
      "id": "0faf0d5f",
      "metadata": {
        "colab": {
          "base_uri": "https://localhost:8080/"
        },
        "id": "0faf0d5f",
        "outputId": "c45b034b-600f-49e6-fcbd-9af5beeb0a2e"
      },
      "outputs": [
        {
          "output_type": "execute_result",
          "data": {
            "text/plain": [
              "0   2022-07-01\n",
              "1   2022-07-01\n",
              "2   2022-07-01\n",
              "3   2022-07-01\n",
              "4   2022-07-01\n",
              "Name: Data da Coleta, dtype: datetime64[ns]"
            ]
          },
          "metadata": {},
          "execution_count": 8
        }
      ],
      "source": [
        "#dados de julho\n",
        "dados_brutos_julho['Data da Coleta'] = pd.to_datetime(dados_brutos_julho['Data da Coleta'], dayfirst=True)\n",
        "dados_brutos_julho['Data da Coleta'].head()"
      ]
    },
    {
      "cell_type": "code",
      "execution_count": 9,
      "id": "d574d72d",
      "metadata": {
        "colab": {
          "base_uri": "https://localhost:8080/"
        },
        "id": "d574d72d",
        "outputId": "93a55809-9a8c-43a5-cfd6-6b41820832d1"
      },
      "outputs": [
        {
          "output_type": "execute_result",
          "data": {
            "text/plain": [
              "0   2022-08-01\n",
              "1   2022-08-01\n",
              "2   2022-08-01\n",
              "3   2022-08-01\n",
              "4   2022-08-01\n",
              "Name: Data da Coleta, dtype: datetime64[ns]"
            ]
          },
          "metadata": {},
          "execution_count": 9
        }
      ],
      "source": [
        "#dados de agosto\n",
        "dados_brutos_agosto['Data da Coleta'] = pd.to_datetime(dados_brutos_agosto['Data da Coleta'], dayfirst=True)\n",
        "dados_brutos_agosto['Data da Coleta'].head()"
      ]
    },
    {
      "cell_type": "markdown",
      "id": "5a5ce2be",
      "metadata": {
        "id": "5a5ce2be"
      },
      "source": [
        "### União dos dataframes "
      ]
    },
    {
      "cell_type": "code",
      "execution_count": 10,
      "id": "f02ce91a",
      "metadata": {
        "id": "f02ce91a"
      },
      "outputs": [],
      "source": [
        "lista_dados = [dados_brutos_julho ,dados_brutos_agosto]\n",
        "dados_brutos = pd.concat(lista_dados, ignore_index= True, verify_integrity=True)"
      ]
    },
    {
      "cell_type": "markdown",
      "id": "fe4fb906",
      "metadata": {
        "id": "fe4fb906"
      },
      "source": [
        "### Momenclatura das colunas "
      ]
    },
    {
      "cell_type": "code",
      "execution_count": 11,
      "id": "8368bae7",
      "metadata": {
        "colab": {
          "base_uri": "https://localhost:8080/"
        },
        "id": "8368bae7",
        "outputId": "61d6b755-4dc4-4cde-a171-76e94cdc7fb1"
      },
      "outputs": [
        {
          "output_type": "execute_result",
          "data": {
            "text/plain": [
              "Index(['regiao_sigla', 'estado_sigla', 'municipio', 'revenda',\n",
              "       'cnpj_da_revenda', 'nome_da_rua', 'numero_rua', 'complemento', 'bairro',\n",
              "       'cep', 'produto', 'data_da_coleta', 'valor_de_venda', 'valor_de_compra',\n",
              "       'unidade_de_medida', 'bandeira'],\n",
              "      dtype='object')"
            ]
          },
          "metadata": {},
          "execution_count": 11
        }
      ],
      "source": [
        "#modificacao do nome de columas\n",
        "dados_brutos.columns = dados_brutos.columns.str.replace('- ','')\n",
        "dados_brutos.columns = dados_brutos.columns.str.replace(' ','_')\n",
        "dados_brutos.columns = dados_brutos.columns.str.lower()\n",
        "dados_brutos.columns"
      ]
    },
    {
      "cell_type": "markdown",
      "id": "caecfb3d",
      "metadata": {
        "id": "caecfb3d"
      },
      "source": [
        "## Verificação de valores "
      ]
    },
    {
      "cell_type": "markdown",
      "id": "428fbdf4",
      "metadata": {
        "id": "428fbdf4"
      },
      "source": [
        "### Adequação dos valores da coluna valor_de_venda"
      ]
    },
    {
      "cell_type": "code",
      "execution_count": 12,
      "id": "15e7871c",
      "metadata": {
        "id": "15e7871c"
      },
      "outputs": [],
      "source": [
        "#trocando vigula por ponto e nudando de string para float\n",
        "valores_virgula = dados_brutos['valor_de_venda'].tolist()\n",
        "valores_ponto = [x.replace(',', '.') for x in valores_virgula]\n",
        "dados_brutos['valor_de_venda'] = valores_ponto\n",
        "dados_brutos['valor_de_venda'] = dados_brutos['valor_de_venda'].astype(float)"
      ]
    },
    {
      "cell_type": "code",
      "execution_count": 13,
      "id": "b119a352",
      "metadata": {
        "colab": {
          "base_uri": "https://localhost:8080/"
        },
        "id": "b119a352",
        "outputId": "027317ea-9693-49ed-f202-a9a243ddcdee"
      },
      "outputs": [
        {
          "output_type": "stream",
          "name": "stdout",
          "text": [
            "<class 'pandas.core.frame.DataFrame'>\n",
            "RangeIndex: 127176 entries, 0 to 127175\n",
            "Data columns (total 16 columns):\n",
            " #   Column             Non-Null Count   Dtype         \n",
            "---  ------             --------------   -----         \n",
            " 0   regiao_sigla       127176 non-null  object        \n",
            " 1   estado_sigla       127176 non-null  object        \n",
            " 2   municipio          127176 non-null  object        \n",
            " 3   revenda            127176 non-null  object        \n",
            " 4   cnpj_da_revenda    127176 non-null  object        \n",
            " 5   nome_da_rua        127176 non-null  object        \n",
            " 6   numero_rua         127105 non-null  object        \n",
            " 7   complemento        27079 non-null   object        \n",
            " 8   bairro             126764 non-null  object        \n",
            " 9   cep                127176 non-null  object        \n",
            " 10  produto            127176 non-null  object        \n",
            " 11  data_da_coleta     127176 non-null  datetime64[ns]\n",
            " 12  valor_de_venda     127176 non-null  float64       \n",
            " 13  valor_de_compra    0 non-null       float64       \n",
            " 14  unidade_de_medida  127176 non-null  object        \n",
            " 15  bandeira           127176 non-null  object        \n",
            "dtypes: datetime64[ns](1), float64(2), object(13)\n",
            "memory usage: 15.5+ MB\n"
          ]
        }
      ],
      "source": [
        "dados_brutos.info()"
      ]
    },
    {
      "cell_type": "markdown",
      "id": "70b18086",
      "metadata": {
        "id": "70b18086"
      },
      "source": [
        "### Verificação colunas"
      ]
    },
    {
      "cell_type": "markdown",
      "id": "95f61f73",
      "metadata": {
        "id": "95f61f73"
      },
      "source": [
        "Aparentemente 'valor_de_compra' esta vazia e poucos valores em 'complemento'"
      ]
    },
    {
      "cell_type": "code",
      "execution_count": 14,
      "id": "34d4520b",
      "metadata": {
        "colab": {
          "base_uri": "https://localhost:8080/"
        },
        "id": "34d4520b",
        "outputId": "9b3dab45-8e37-4267-bad0-dd6920521ef3"
      },
      "outputs": [
        {
          "output_type": "execute_result",
          "data": {
            "text/plain": [
              "array([nan])"
            ]
          },
          "metadata": {},
          "execution_count": 14
        }
      ],
      "source": [
        "#verificando se a coluna esta vazia \n",
        "dados_brutos.valor_de_compra.unique()"
      ]
    },
    {
      "cell_type": "code",
      "execution_count": 15,
      "id": "d19d9569",
      "metadata": {
        "id": "d19d9569"
      },
      "outputs": [],
      "source": [
        "dados_brutos.drop(columns=['valor_de_compra'], inplace=True)"
      ]
    },
    {
      "cell_type": "code",
      "execution_count": 16,
      "id": "8cd625a7",
      "metadata": {
        "colab": {
          "base_uri": "https://localhost:8080/"
        },
        "id": "8cd625a7",
        "outputId": "c3f2382b-61f4-4703-ccd1-8f7aeba913d1"
      },
      "outputs": [
        {
          "output_type": "stream",
          "name": "stdout",
          "text": [
            "<class 'pandas.core.frame.DataFrame'>\n",
            "RangeIndex: 127176 entries, 0 to 127175\n",
            "Data columns (total 15 columns):\n",
            " #   Column             Non-Null Count   Dtype         \n",
            "---  ------             --------------   -----         \n",
            " 0   regiao_sigla       127176 non-null  object        \n",
            " 1   estado_sigla       127176 non-null  object        \n",
            " 2   municipio          127176 non-null  object        \n",
            " 3   revenda            127176 non-null  object        \n",
            " 4   cnpj_da_revenda    127176 non-null  object        \n",
            " 5   nome_da_rua        127176 non-null  object        \n",
            " 6   numero_rua         127105 non-null  object        \n",
            " 7   complemento        27079 non-null   object        \n",
            " 8   bairro             126764 non-null  object        \n",
            " 9   cep                127176 non-null  object        \n",
            " 10  produto            127176 non-null  object        \n",
            " 11  data_da_coleta     127176 non-null  datetime64[ns]\n",
            " 12  valor_de_venda     127176 non-null  float64       \n",
            " 13  unidade_de_medida  127176 non-null  object        \n",
            " 14  bandeira           127176 non-null  object        \n",
            "dtypes: datetime64[ns](1), float64(1), object(13)\n",
            "memory usage: 14.6+ MB\n"
          ]
        }
      ],
      "source": [
        "dados_brutos.info()"
      ]
    },
    {
      "cell_type": "markdown",
      "id": "a9f47635",
      "metadata": {
        "id": "a9f47635"
      },
      "source": [
        "verificando coluna complemento"
      ]
    },
    {
      "cell_type": "code",
      "execution_count": 17,
      "id": "dddd2d35",
      "metadata": {
        "colab": {
          "base_uri": "https://localhost:8080/"
        },
        "id": "dddd2d35",
        "outputId": "f6e9ab5e-9674-4970-96c7-188eb6fabd27"
      },
      "outputs": [
        {
          "output_type": "execute_result",
          "data": {
            "text/plain": [
              "array([nan, 'LETRA A', 'QUADRA 18, LOTE 01', ..., 'GARA6EM',\n",
              "       'KM    615  280 M', 'LOTE  00013                     0002'],\n",
              "      dtype=object)"
            ]
          },
          "metadata": {},
          "execution_count": 17
        }
      ],
      "source": [
        "dados_brutos.complemento.unique()"
      ]
    },
    {
      "cell_type": "code",
      "execution_count": 18,
      "id": "6f9c7701",
      "metadata": {
        "id": "6f9c7701"
      },
      "outputs": [],
      "source": [
        "dados_brutos.drop(columns=['complemento'], inplace=True)"
      ]
    },
    {
      "cell_type": "markdown",
      "id": "d41c799b",
      "metadata": {
        "id": "d41c799b"
      },
      "source": [
        "## Verificando valores destoantes "
      ]
    },
    {
      "cell_type": "code",
      "execution_count": 19,
      "id": "5004172b",
      "metadata": {
        "colab": {
          "base_uri": "https://localhost:8080/"
        },
        "id": "5004172b",
        "outputId": "1d7999d9-fc0c-40a1-ffc5-08dc020a566e"
      },
      "outputs": [
        {
          "output_type": "execute_result",
          "data": {
            "text/plain": [
              "count    127176.000000\n",
              "mean          5.355503\n",
              "std           0.860449\n",
              "min           2.890000\n",
              "25%           4.880000\n",
              "50%           5.490000\n",
              "75%           5.890000\n",
              "max           9.270000\n",
              "Name: valor_de_venda, dtype: float64"
            ]
          },
          "metadata": {},
          "execution_count": 19
        }
      ],
      "source": [
        "dados_brutos.valor_de_venda.describe()"
      ]
    },
    {
      "cell_type": "code",
      "execution_count": 20,
      "id": "4d36be6a",
      "metadata": {
        "colab": {
          "base_uri": "https://localhost:8080/",
          "height": 0
        },
        "id": "4d36be6a",
        "outputId": "3e37c4d2-21a0-4ec6-f050-47db22640691"
      },
      "outputs": [
        {
          "output_type": "execute_result",
          "data": {
            "text/plain": [
              "<matplotlib.axes._subplots.AxesSubplot at 0x7f6cd1cc1650>"
            ]
          },
          "metadata": {},
          "execution_count": 20
        },
        {
          "output_type": "display_data",
          "data": {
            "text/plain": [
              "<Figure size 432x288 with 1 Axes>"
            ],
            "image/png": "[encoded data removed]"
          },
          "metadata": {
            "needs_background": "light"
          }
        }
      ],
      "source": [
        "dados_brutos.valor_de_venda.plot(kind='hist')"
      ]
    },
    {
      "cell_type": "code",
      "execution_count": 21,
      "id": "3c16115d",
      "metadata": {
        "colab": {
          "base_uri": "https://localhost:8080/",
          "height": 0
        },
        "id": "3c16115d",
        "outputId": "7a2c8ad4-aa33-4d4a-b664-306130bbcfd9"
      },
      "outputs": [
        {
          "output_type": "stream",
          "name": "stderr",
          "text": [
            "/usr/local/lib/python3.7/dist-packages/seaborn/_decorators.py:43: FutureWarning: Pass the following variable as a keyword arg: x. From version 0.12, the only valid positional argument will be `data`, and passing other arguments without an explicit keyword will result in an error or misinterpretation.\n",
            "  FutureWarning\n"
          ]
        },
        {
          "output_type": "execute_result",
          "data": {
            "text/plain": [
              "<matplotlib.axes._subplots.AxesSubplot at 0x7f6ccf9f7850>"
            ]
          },
          "metadata": {},
          "execution_count": 21
        },
        {
          "output_type": "display_data",
          "data": {
            "text/plain": [
              "<Figure size 432x288 with 1 Axes>"
            ],
            "image/png": "[encoded data removed]"
          },
          "metadata": {
            "needs_background": "light"
          }
        }
      ],
      "source": [
        "sns.boxplot(dados_brutos.valor_de_venda)"
      ]
    },
    {
      "cell_type": "markdown",
      "id": "37064c45",
      "metadata": {
        "id": "37064c45"
      },
      "source": [
        "### Verificando produtos "
      ]
    },
    {
      "cell_type": "code",
      "execution_count": 22,
      "id": "27a12f7d",
      "metadata": {
        "colab": {
          "base_uri": "https://localhost:8080/"
        },
        "id": "27a12f7d",
        "outputId": "2d894920-2def-473f-8cc0-61ee4bd3911c"
      },
      "outputs": [
        {
          "output_type": "execute_result",
          "data": {
            "text/plain": [
              "array(['GASOLINA ADITIVADA', 'GASOLINA', 'ETANOL'], dtype=object)"
            ]
          },
          "metadata": {},
          "execution_count": 22
        }
      ],
      "source": [
        "dados_brutos.produto.unique()"
      ]
    },
    {
      "cell_type": "markdown",
      "id": "db7939e8",
      "metadata": {
        "id": "db7939e8"
      },
      "source": [
        "Gasolina"
      ]
    },
    {
      "cell_type": "code",
      "execution_count": 23,
      "id": "bc61069f",
      "metadata": {
        "colab": {
          "base_uri": "https://localhost:8080/",
          "height": 0
        },
        "id": "bc61069f",
        "outputId": "eb8e4fe9-d106-47a3-81de-b33458d34e10"
      },
      "outputs": [
        {
          "output_type": "execute_result",
          "data": {
            "text/plain": [
              "       valor_de_venda\n",
              "count    48341.000000\n",
              "mean         5.711579\n",
              "std          0.528368\n",
              "min          4.130000\n",
              "25%          5.380000\n",
              "50%          5.670000\n",
              "75%          5.990000\n",
              "max          8.750000"
            ],
            "text/html": [
              "\n",
              "  <div id=\"df-e21141a4-dca6-46a0-8179-9d7baf11e466\">\n",
              "    <div class=\"colab-df-container\">\n",
              "      <div>\n",
              "<style scoped>\n",
              "    .dataframe tbody tr th:only-of-type {\n",
              "        vertical-align: middle;\n",
              "    }\n",
              "\n",
              "    .dataframe tbody tr th {\n",
              "        vertical-align: top;\n",
              "    }\n",
              "\n",
              "    .dataframe thead th {\n",
              "        text-align: right;\n",
              "    }\n",
              "</style>\n",
              "<table border=\"1\" class=\"dataframe\">\n",
              "  <thead>\n",
              "    <tr style=\"text-align: right;\">\n",
              "      <th></th>\n",
              "      <th>valor_de_venda</th>\n",
              "    </tr>\n",
              "  </thead>\n",
              "  <tbody>\n",
              "    <tr>\n",
              "      <th>count</th>\n",
              "      <td>48341.000000</td>\n",
              "    </tr>\n",
              "    <tr>\n",
              "      <th>mean</th>\n",
              "      <td>5.711579</td>\n",
              "    </tr>\n",
              "    <tr>\n",
              "      <th>std</th>\n",
              "      <td>0.528368</td>\n",
              "    </tr>\n",
              "    <tr>\n",
              "      <th>min</th>\n",
              "      <td>4.130000</td>\n",
              "    </tr>\n",
              "    <tr>\n",
              "      <th>25%</th>\n",
              "      <td>5.380000</td>\n",
              "    </tr>\n",
              "    <tr>\n",
              "      <th>50%</th>\n",
              "      <td>5.670000</td>\n",
              "    </tr>\n",
              "    <tr>\n",
              "      <th>75%</th>\n",
              "      <td>5.990000</td>\n",
              "    </tr>\n",
              "    <tr>\n",
              "      <th>max</th>\n",
              "      <td>8.750000</td>\n",
              "    </tr>\n",
              "  </tbody>\n",
              "</table>\n",
              "</div>\n",
              "      <button class=\"colab-df-convert\" onclick=\"convertToInteractive('df-e21141a4-dca6-46a0-8179-9d7baf11e466')\"\n",
              "              title=\"Convert this dataframe to an interactive table.\"\n",
              "              style=\"display:none;\">\n",
              "        \n",
              "  <svg xmlns=\"http://www.w3.org/2000/svg\" height=\"24px\"viewBox=\"0 0 24 24\"\n",
              "       width=\"24px\">\n",
              "    <path d=\"M0 0h24v24H0V0z\" fill=\"none\"/>\n",
              "    <path d=\"M18.56 5.44l.94 2.06.94-2.06 2.06-.94-2.06-.94-.94-2.06-.94 2.06-2.06.94zm-11 1L8.5 8.5l.94-2.06 2.06-.94-2.06-.94L8.5 2.5l-.94 2.06-2.06.94zm10 10l.94 2.06.94-2.06 2.06-.94-2.06-.94-.94-2.06-.94 2.06-2.06.94z\"/><path d=\"M17.41 7.96l-1.37-1.37c-.4-.4-.92-.59-1.43-.59-.52 0-1.04.2-1.43.59L10.3 9.45l-7.72 7.72c-.78.78-.78 2.05 0 2.83L4 21.41c.39.39.9.59 1.41.59.51 0 1.02-.2 1.41-.59l7.78-7.78 2.81-2.81c.8-.78.8-2.07 0-2.86zM5.41 20L4 18.59l7.72-7.72 1.47 1.35L5.41 20z\"/>\n",
              "  </svg>\n",
              "      </button>\n",
              "      \n",
              "  <style>\n",
              "    .colab-df-container {\n",
              "      display:flex;\n",
              "      flex-wrap:wrap;\n",
              "      gap: 12px;\n",
              "    }\n",
              "\n",
              "    .colab-df-convert {\n",
              "      background-color: #E8F0FE;\n",
              "      border: none;\n",
              "      border-radius: 50%;\n",
              "      cursor: pointer;\n",
              "      display: none;\n",
              "      fill: #1967D2;\n",
              "      height: 32px;\n",
              "      padding: 0 0 0 0;\n",
              "      width: 32px;\n",
              "    }\n",
              "\n",
              "    .colab-df-convert:hover {\n",
              "      background-color: #E2EBFA;\n",
              "      box-shadow: 0px 1px 2px rgba(60, 64, 67, 0.3), 0px 1px 3px 1px rgba(60, 64, 67, 0.15);\n",
              "      fill: #174EA6;\n",
              "    }\n",
              "\n",
              "    [theme=dark] .colab-df-convert {\n",
              "      background-color: #3B4455;\n",
              "      fill: #D2E3FC;\n",
              "    }\n",
              "\n",
              "    [theme=dark] .colab-df-convert:hover {\n",
              "      background-color: #434B5C;\n",
              "      box-shadow: 0px 1px 3px 1px rgba(0, 0, 0, 0.15);\n",
              "      filter: drop-shadow(0px 1px 2px rgba(0, 0, 0, 0.3));\n",
              "      fill: #FFFFFF;\n",
              "    }\n",
              "  </style>\n",
              "\n",
              "      <script>\n",
              "        const buttonEl =\n",
              "          document.querySelector('#df-e21141a4-dca6-46a0-8179-9d7baf11e466 button.colab-df-convert');\n",
              "        buttonEl.style.display =\n",
              "          google.colab.kernel.accessAllowed ? 'block' : 'none';\n",
              "\n",
              "        async function convertToInteractive(key) {\n",
              "          const element = document.querySelector('#df-e21141a4-dca6-46a0-8179-9d7baf11e466');\n",
              "          const dataTable =\n",
              "            await google.colab.kernel.invokeFunction('convertToInteractive',\n",
              "                                                     [key], {});\n",
              "          if (!dataTable) return;\n",
              "\n",
              "          const docLinkHtml = 'Like what you see? Visit the ' +\n",
              "            '<a target=\"_blank\" href=https://colab.research.google.com/notebooks/data_table.ipynb>data table notebook</a>'\n",
              "            + ' to learn more about interactive tables.';\n",
              "          element.innerHTML = '';\n",
              "          dataTable['output_type'] = 'display_data';\n",
              "          await google.colab.output.renderOutput(dataTable, element);\n",
              "          const docLink = document.createElement('div');\n",
              "          docLink.innerHTML = docLinkHtml;\n",
              "          element.appendChild(docLink);\n",
              "        }\n",
              "      </script>\n",
              "    </div>\n",
              "  </div>\n",
              "  "
            ]
          },
          "metadata": {},
          "execution_count": 23
        }
      ],
      "source": [
        "dados_brutos.query(\"produto == 'GASOLINA'\").describe()"
      ]
    },
    {
      "cell_type": "code",
      "execution_count": 24,
      "id": "8ee18fcb",
      "metadata": {
        "colab": {
          "base_uri": "https://localhost:8080/"
        },
        "id": "8ee18fcb",
        "outputId": "700075cf-5e39-4a6e-d5ce-9a8f1dadb44e"
      },
      "outputs": [
        {
          "output_type": "execute_result",
          "data": {
            "text/plain": [
              "1         7.38\n",
              "3         7.39\n",
              "6         5.99\n",
              "9         6.69\n",
              "12        7.77\n",
              "          ... \n",
              "127164    5.79\n",
              "127167    5.38\n",
              "127169    4.95\n",
              "127172    5.19\n",
              "127174    5.27\n",
              "Name: valor_de_venda, Length: 48341, dtype: float64"
            ]
          },
          "metadata": {},
          "execution_count": 24
        }
      ],
      "source": [
        "dados_brutos.query(\"produto == 'GASOLINA'\").valor_de_venda"
      ]
    },
    {
      "cell_type": "code",
      "execution_count": 25,
      "id": "bc011bc1",
      "metadata": {
        "colab": {
          "base_uri": "https://localhost:8080/"
        },
        "id": "bc011bc1",
        "outputId": "18428a47-8d46-4ee9-d574-248e16c77475"
      },
      "outputs": [
        {
          "output_type": "execute_result",
          "data": {
            "text/plain": [
              "array(['ES', 'PI', 'RJ', 'AL', 'AM', 'BA', 'CE', 'MA', 'MG', 'PA', 'PB',\n",
              "       'PE', 'RN', 'RS', 'SE', 'SP', 'TO', 'MS', 'PR', 'SC', 'GO', 'RO',\n",
              "       'AC', 'MT', 'RR'], dtype=object)"
            ]
          },
          "metadata": {},
          "execution_count": 25
        }
      ],
      "source": [
        "dados_brutos.query(\"valor_de_venda > 7\").estado_sigla.unique()"
      ]
    },
    {
      "cell_type": "code",
      "execution_count": 26,
      "id": "af4bf628",
      "metadata": {
        "colab": {
          "base_uri": "https://localhost:8080/",
          "height": 0
        },
        "id": "af4bf628",
        "outputId": "b5b90ae8-97dc-4437-d86e-27da43833c6d"
      },
      "outputs": [
        {
          "output_type": "execute_result",
          "data": {
            "text/plain": [
              "  regiao_sigla estado_sigla municipio  \\\n",
              "0           SE           ES  COLATINA   \n",
              "1           SE           ES  COLATINA   \n",
              "2           SE           ES  COLATINA   \n",
              "3           SE           ES  COLATINA   \n",
              "4           CO           GO   GOIANIA   \n",
              "\n",
              "                                             revenda      cnpj_da_revenda  \\\n",
              "0  SAO FRANCISCO DE ASSIS COMERCIO DE COMBUSTIVEI...   08.519.545/0001-10   \n",
              "1  SAO FRANCISCO DE ASSIS COMERCIO DE COMBUSTIVEI...   08.519.545/0001-10   \n",
              "2                                 POSTO MOTOCAP LTDA   04.814.652/0001-10   \n",
              "3                                 POSTO MOTOCAP LTDA   04.814.652/0001-10   \n",
              "4                       JUSTINIANO & JUSTINIANO LTDA   04.489.287/0001-16   \n",
              "\n",
              "                    nome_da_rua numero_rua           bairro        cep  \\\n",
              "0         PRACA FIDELIS FERRARI         35             LACE  29703-030   \n",
              "1         PRACA FIDELIS FERRARI         35             LACE  29703-030   \n",
              "2       PRACA ALMIRANTE BARROSO         52             LACE  29703-055   \n",
              "3       PRACA ALMIRANTE BARROSO         52             LACE  29703-055   \n",
              "4  AVENIDA JOSE LEANDRO DA CRUZ       2,36  PARQUE AMAZONIA  74840-390   \n",
              "\n",
              "              produto data_da_coleta  valor_de_venda unidade_de_medida  \\\n",
              "0  GASOLINA ADITIVADA     2022-07-01            7.48        R$ / litro   \n",
              "1            GASOLINA     2022-07-01            7.38        R$ / litro   \n",
              "2              ETANOL     2022-07-01            5.99        R$ / litro   \n",
              "3            GASOLINA     2022-07-01            7.39        R$ / litro   \n",
              "4  GASOLINA ADITIVADA     2022-07-01            6.49        R$ / litro   \n",
              "\n",
              "        bandeira  \n",
              "0  VIBRA ENERGIA  \n",
              "1  VIBRA ENERGIA  \n",
              "2  VIBRA ENERGIA  \n",
              "3  VIBRA ENERGIA  \n",
              "4       IPIRANGA  "
            ],
            "text/html": [
              "\n",
              "  <div id=\"df-af819492-904e-4f07-bfb8-1a4d230b79d8\">\n",
              "    <div class=\"colab-df-container\">\n",
              "      <div>\n",
              "<style scoped>\n",
              "    .dataframe tbody tr th:only-of-type {\n",
              "        vertical-align: middle;\n",
              "    }\n",
              "\n",
              "    .dataframe tbody tr th {\n",
              "        vertical-align: top;\n",
              "    }\n",
              "\n",
              "    .dataframe thead th {\n",
              "        text-align: right;\n",
              "    }\n",
              "</style>\n",
              "<table border=\"1\" class=\"dataframe\">\n",
              "  <thead>\n",
              "    <tr style=\"text-align: right;\">\n",
              "      <th></th>\n",
              "      <th>regiao_sigla</th>\n",
              "      <th>estado_sigla</th>\n",
              "      <th>municipio</th>\n",
              "      <th>revenda</th>\n",
              "      <th>cnpj_da_revenda</th>\n",
              "      <th>nome_da_rua</th>\n",
              "      <th>numero_rua</th>\n",
              "      <th>bairro</th>\n",
              "      <th>cep</th>\n",
              "      <th>produto</th>\n",
              "      <th>data_da_coleta</th>\n",
              "      <th>valor_de_venda</th>\n",
              "      <th>unidade_de_medida</th>\n",
              "      <th>bandeira</th>\n",
              "    </tr>\n",
              "  </thead>\n",
              "  <tbody>\n",
              "    <tr>\n",
              "      <th>0</th>\n",
              "      <td>SE</td>\n",
              "      <td>ES</td>\n",
              "      <td>COLATINA</td>\n",
              "      <td>SAO FRANCISCO DE ASSIS COMERCIO DE COMBUSTIVEI...</td>\n",
              "      <td>08.519.545/0001-10</td>\n",
              "      <td>PRACA FIDELIS FERRARI</td>\n",
              "      <td>35</td>\n",
              "      <td>LACE</td>\n",
              "      <td>29703-030</td>\n",
              "      <td>GASOLINA ADITIVADA</td>\n",
              "      <td>2022-07-01</td>\n",
              "      <td>7.48</td>\n",
              "      <td>R$ / litro</td>\n",
              "      <td>VIBRA ENERGIA</td>\n",
              "    </tr>\n",
              "    <tr>\n",
              "      <th>1</th>\n",
              "      <td>SE</td>\n",
              "      <td>ES</td>\n",
              "      <td>COLATINA</td>\n",
              "      <td>SAO FRANCISCO DE ASSIS COMERCIO DE COMBUSTIVEI...</td>\n",
              "      <td>08.519.545/0001-10</td>\n",
              "      <td>PRACA FIDELIS FERRARI</td>\n",
              "      <td>35</td>\n",
              "      <td>LACE</td>\n",
              "      <td>29703-030</td>\n",
              "      <td>GASOLINA</td>\n",
              "      <td>2022-07-01</td>\n",
              "      <td>7.38</td>\n",
              "      <td>R$ / litro</td>\n",
              "      <td>VIBRA ENERGIA</td>\n",
              "    </tr>\n",
              "    <tr>\n",
              "      <th>2</th>\n",
              "      <td>SE</td>\n",
              "      <td>ES</td>\n",
              "      <td>COLATINA</td>\n",
              "      <td>POSTO MOTOCAP LTDA</td>\n",
              "      <td>04.814.652/0001-10</td>\n",
              "      <td>PRACA ALMIRANTE BARROSO</td>\n",
              "      <td>52</td>\n",
              "      <td>LACE</td>\n",
              "      <td>29703-055</td>\n",
              "      <td>ETANOL</td>\n",
              "      <td>2022-07-01</td>\n",
              "      <td>5.99</td>\n",
              "      <td>R$ / litro</td>\n",
              "      <td>VIBRA ENERGIA</td>\n",
              "    </tr>\n",
              "    <tr>\n",
              "      <th>3</th>\n",
              "      <td>SE</td>\n",
              "      <td>ES</td>\n",
              "      <td>COLATINA</td>\n",
              "      <td>POSTO MOTOCAP LTDA</td>\n",
              "      <td>04.814.652/0001-10</td>\n",
              "      <td>PRACA ALMIRANTE BARROSO</td>\n",
              "      <td>52</td>\n",
              "      <td>LACE</td>\n",
              "      <td>29703-055</td>\n",
              "      <td>GASOLINA</td>\n",
              "      <td>2022-07-01</td>\n",
              "      <td>7.39</td>\n",
              "      <td>R$ / litro</td>\n",
              "      <td>VIBRA ENERGIA</td>\n",
              "    </tr>\n",
              "    <tr>\n",
              "      <th>4</th>\n",
              "      <td>CO</td>\n",
              "      <td>GO</td>\n",
              "      <td>GOIANIA</td>\n",
              "      <td>JUSTINIANO &amp; JUSTINIANO LTDA</td>\n",
              "      <td>04.489.287/0001-16</td>\n",
              "      <td>AVENIDA JOSE LEANDRO DA CRUZ</td>\n",
              "      <td>2,36</td>\n",
              "      <td>PARQUE AMAZONIA</td>\n",
              "      <td>74840-390</td>\n",
              "      <td>GASOLINA ADITIVADA</td>\n",
              "      <td>2022-07-01</td>\n",
              "      <td>6.49</td>\n",
              "      <td>R$ / litro</td>\n",
              "      <td>IPIRANGA</td>\n",
              "    </tr>\n",
              "  </tbody>\n",
              "</table>\n",
              "</div>\n",
              "      <button class=\"colab-df-convert\" onclick=\"convertToInteractive('df-af819492-904e-4f07-bfb8-1a4d230b79d8')\"\n",
              "              title=\"Convert this dataframe to an interactive table.\"\n",
              "              style=\"display:none;\">\n",
              "        \n",
              "  <svg xmlns=\"http://www.w3.org/2000/svg\" height=\"24px\"viewBox=\"0 0 24 24\"\n",
              "       width=\"24px\">\n",
              "    <path d=\"M0 0h24v24H0V0z\" fill=\"none\"/>\n",
              "    <path d=\"M18.56 5.44l.94 2.06.94-2.06 2.06-.94-2.06-.94-.94-2.06-.94 2.06-2.06.94zm-11 1L8.5 8.5l.94-2.06 2.06-.94-2.06-.94L8.5 2.5l-.94 2.06-2.06.94zm10 10l.94 2.06.94-2.06 2.06-.94-2.06-.94-.94-2.06-.94 2.06-2.06.94z\"/><path d=\"M17.41 7.96l-1.37-1.37c-.4-.4-.92-.59-1.43-.59-.52 0-1.04.2-1.43.59L10.3 9.45l-7.72 7.72c-.78.78-.78 2.05 0 2.83L4 21.41c.39.39.9.59 1.41.59.51 0 1.02-.2 1.41-.59l7.78-7.78 2.81-2.81c.8-.78.8-2.07 0-2.86zM5.41 20L4 18.59l7.72-7.72 1.47 1.35L5.41 20z\"/>\n",
              "  </svg>\n",
              "      </button>\n",
              "      \n",
              "  <style>\n",
              "    .colab-df-container {\n",
              "      display:flex;\n",
              "      flex-wrap:wrap;\n",
              "      gap: 12px;\n",
              "    }\n",
              "\n",
              "    .colab-df-convert {\n",
              "      background-color: #E8F0FE;\n",
              "      border: none;\n",
              "      border-radius: 50%;\n",
              "      cursor: pointer;\n",
              "      display: none;\n",
              "      fill: #1967D2;\n",
              "      height: 32px;\n",
              "      padding: 0 0 0 0;\n",
              "      width: 32px;\n",
              "    }\n",
              "\n",
              "    .colab-df-convert:hover {\n",
              "      background-color: #E2EBFA;\n",
              "      box-shadow: 0px 1px 2px rgba(60, 64, 67, 0.3), 0px 1px 3px 1px rgba(60, 64, 67, 0.15);\n",
              "      fill: #174EA6;\n",
              "    }\n",
              "\n",
              "    [theme=dark] .colab-df-convert {\n",
              "      background-color: #3B4455;\n",
              "      fill: #D2E3FC;\n",
              "    }\n",
              "\n",
              "    [theme=dark] .colab-df-convert:hover {\n",
              "      background-color: #434B5C;\n",
              "      box-shadow: 0px 1px 3px 1px rgba(0, 0, 0, 0.15);\n",
              "      filter: drop-shadow(0px 1px 2px rgba(0, 0, 0, 0.3));\n",
              "      fill: #FFFFFF;\n",
              "    }\n",
              "  </style>\n",
              "\n",
              "      <script>\n",
              "        const buttonEl =\n",
              "          document.querySelector('#df-af819492-904e-4f07-bfb8-1a4d230b79d8 button.colab-df-convert');\n",
              "        buttonEl.style.display =\n",
              "          google.colab.kernel.accessAllowed ? 'block' : 'none';\n",
              "\n",
              "        async function convertToInteractive(key) {\n",
              "          const element = document.querySelector('#df-af819492-904e-4f07-bfb8-1a4d230b79d8');\n",
              "          const dataTable =\n",
              "            await google.colab.kernel.invokeFunction('convertToInteractive',\n",
              "                                                     [key], {});\n",
              "          if (!dataTable) return;\n",
              "\n",
              "          const docLinkHtml = 'Like what you see? Visit the ' +\n",
              "            '<a target=\"_blank\" href=https://colab.research.google.com/notebooks/data_table.ipynb>data table notebook</a>'\n",
              "            + ' to learn more about interactive tables.';\n",
              "          element.innerHTML = '';\n",
              "          dataTable['output_type'] = 'display_data';\n",
              "          await google.colab.output.renderOutput(dataTable, element);\n",
              "          const docLink = document.createElement('div');\n",
              "          docLink.innerHTML = docLinkHtml;\n",
              "          element.appendChild(docLink);\n",
              "        }\n",
              "      </script>\n",
              "    </div>\n",
              "  </div>\n",
              "  "
            ]
          },
          "metadata": {},
          "execution_count": 26
        }
      ],
      "source": [
        "dados = dados_brutos\n",
        "dados.head()"
      ]
    },
    {
      "cell_type": "code",
      "execution_count": 27,
      "id": "4f0a03c4",
      "metadata": {
        "colab": {
          "base_uri": "https://localhost:8080/"
        },
        "id": "4f0a03c4",
        "outputId": "2c3610c8-1f7e-40f4-e467-02eafe80a255"
      },
      "outputs": [
        {
          "output_type": "stream",
          "name": "stdout",
          "text": [
            "<class 'pandas.core.frame.DataFrame'>\n",
            "RangeIndex: 127176 entries, 0 to 127175\n",
            "Data columns (total 14 columns):\n",
            " #   Column             Non-Null Count   Dtype         \n",
            "---  ------             --------------   -----         \n",
            " 0   regiao_sigla       127176 non-null  object        \n",
            " 1   estado_sigla       127176 non-null  object        \n",
            " 2   municipio          127176 non-null  object        \n",
            " 3   revenda            127176 non-null  object        \n",
            " 4   cnpj_da_revenda    127176 non-null  object        \n",
            " 5   nome_da_rua        127176 non-null  object        \n",
            " 6   numero_rua         127105 non-null  object        \n",
            " 7   bairro             126764 non-null  object        \n",
            " 8   cep                127176 non-null  object        \n",
            " 9   produto            127176 non-null  object        \n",
            " 10  data_da_coleta     127176 non-null  datetime64[ns]\n",
            " 11  valor_de_venda     127176 non-null  float64       \n",
            " 12  unidade_de_medida  127176 non-null  object        \n",
            " 13  bandeira           127176 non-null  object        \n",
            "dtypes: datetime64[ns](1), float64(1), object(12)\n",
            "memory usage: 13.6+ MB\n"
          ]
        }
      ],
      "source": [
        "dados.info()"
      ]
    },
    {
      "cell_type": "markdown",
      "id": "ZOJxW-t02qwy",
      "metadata": {
        "id": "ZOJxW-t02qwy"
      },
      "source": [
        "# Respondendo as perguntas"
      ]
    },
    {
      "cell_type": "markdown",
      "id": "hkgbWFzU2rfv",
      "metadata": {
        "id": "hkgbWFzU2rfv"
      },
      "source": [
        "Antes de responder as perguntas foi criada uma função anônima lambda para aplicar a formatação decimal nos nosso resultados:"
      ]
    },
    {
      "cell_type": "code",
      "execution_count": 28,
      "id": "9wlpTb7V2tr1",
      "metadata": {
        "id": "9wlpTb7V2tr1"
      },
      "outputs": [],
      "source": [
        "formatar = lambda x: f'{x:.2f}'"
      ]
    },
    {
      "cell_type": "markdown",
      "id": "2JWN9J5_2hXI",
      "metadata": {
        "id": "2JWN9J5_2hXI"
      },
      "source": [
        "## 1. Como se comportaram o preço dos combustíveis durante os dois meses citados? Os valores do etanol e da gasolina tiveram uma queda ou diminuição?"
      ]
    },
    {
      "cell_type": "markdown",
      "id": "2eStgPyE2lVq",
      "metadata": {
        "id": "2eStgPyE2lVq"
      },
      "source": [
        "Primeiro, foram formados dataframes com a média dos valores de todos os tipos de combustíveis agrupados por data (gasolina, gasolina aditivada e etanol), também foi incluso a média geral (a média diária de todos os combustíveis), abaixo temos um exemplo:"
      ]
    },
    {
      "cell_type": "markdown",
      "id": "ZvxnrYo93LYa",
      "metadata": {
        "id": "ZvxnrYo93LYa"
      },
      "source": [
        "* ### Pergunta 1"
      ]
    },
    {
      "cell_type": "code",
      "execution_count": 29,
      "id": "SnHY5uUYmzUm",
      "metadata": {
        "colab": {
          "base_uri": "https://localhost:8080/",
          "height": 363
        },
        "id": "SnHY5uUYmzUm",
        "outputId": "261d2cad-ffbd-4e86-fe6d-2b25352ff344"
      },
      "outputs": [
        {
          "output_type": "execute_result",
          "data": {
            "text/plain": [
              "  data_da_coleta  valor_de_venda\n",
              "0     2022-07-01        6.621690\n",
              "1     2022-07-04        6.077862\n",
              "2     2022-07-05        6.185041\n",
              "3     2022-07-06        5.959738\n",
              "4     2022-07-07        5.797347\n",
              "5     2022-07-08        5.783333\n",
              "6     2022-07-11        5.738744\n",
              "7     2022-07-12        5.782261\n",
              "8     2022-07-13        5.601108\n",
              "9     2022-07-14        5.661235"
            ],
            "text/html": [
              "\n",
              "  <div id=\"df-0253b4ab-e5f8-456f-afda-d7e535d0e5e8\">\n",
              "    <div class=\"colab-df-container\">\n",
              "      <div>\n",
              "<style scoped>\n",
              "    .dataframe tbody tr th:only-of-type {\n",
              "        vertical-align: middle;\n",
              "    }\n",
              "\n",
              "    .dataframe tbody tr th {\n",
              "        vertical-align: top;\n",
              "    }\n",
              "\n",
              "    .dataframe thead th {\n",
              "        text-align: right;\n",
              "    }\n",
              "</style>\n",
              "<table border=\"1\" class=\"dataframe\">\n",
              "  <thead>\n",
              "    <tr style=\"text-align: right;\">\n",
              "      <th></th>\n",
              "      <th>data_da_coleta</th>\n",
              "      <th>valor_de_venda</th>\n",
              "    </tr>\n",
              "  </thead>\n",
              "  <tbody>\n",
              "    <tr>\n",
              "      <th>0</th>\n",
              "      <td>2022-07-01</td>\n",
              "      <td>6.621690</td>\n",
              "    </tr>\n",
              "    <tr>\n",
              "      <th>1</th>\n",
              "      <td>2022-07-04</td>\n",
              "      <td>6.077862</td>\n",
              "    </tr>\n",
              "    <tr>\n",
              "      <th>2</th>\n",
              "      <td>2022-07-05</td>\n",
              "      <td>6.185041</td>\n",
              "    </tr>\n",
              "    <tr>\n",
              "      <th>3</th>\n",
              "      <td>2022-07-06</td>\n",
              "      <td>5.959738</td>\n",
              "    </tr>\n",
              "    <tr>\n",
              "      <th>4</th>\n",
              "      <td>2022-07-07</td>\n",
              "      <td>5.797347</td>\n",
              "    </tr>\n",
              "    <tr>\n",
              "      <th>5</th>\n",
              "      <td>2022-07-08</td>\n",
              "      <td>5.783333</td>\n",
              "    </tr>\n",
              "    <tr>\n",
              "      <th>6</th>\n",
              "      <td>2022-07-11</td>\n",
              "      <td>5.738744</td>\n",
              "    </tr>\n",
              "    <tr>\n",
              "      <th>7</th>\n",
              "      <td>2022-07-12</td>\n",
              "      <td>5.782261</td>\n",
              "    </tr>\n",
              "    <tr>\n",
              "      <th>8</th>\n",
              "      <td>2022-07-13</td>\n",
              "      <td>5.601108</td>\n",
              "    </tr>\n",
              "    <tr>\n",
              "      <th>9</th>\n",
              "      <td>2022-07-14</td>\n",
              "      <td>5.661235</td>\n",
              "    </tr>\n",
              "  </tbody>\n",
              "</table>\n",
              "</div>\n",
              "      <button class=\"colab-df-convert\" onclick=\"convertToInteractive('df-0253b4ab-e5f8-456f-afda-d7e535d0e5e8')\"\n",
              "              title=\"Convert this dataframe to an interactive table.\"\n",
              "              style=\"display:none;\">\n",
              "        \n",
              "  <svg xmlns=\"http://www.w3.org/2000/svg\" height=\"24px\"viewBox=\"0 0 24 24\"\n",
              "       width=\"24px\">\n",
              "    <path d=\"M0 0h24v24H0V0z\" fill=\"none\"/>\n",
              "    <path d=\"M18.56 5.44l.94 2.06.94-2.06 2.06-.94-2.06-.94-.94-2.06-.94 2.06-2.06.94zm-11 1L8.5 8.5l.94-2.06 2.06-.94-2.06-.94L8.5 2.5l-.94 2.06-2.06.94zm10 10l.94 2.06.94-2.06 2.06-.94-2.06-.94-.94-2.06-.94 2.06-2.06.94z\"/><path d=\"M17.41 7.96l-1.37-1.37c-.4-.4-.92-.59-1.43-.59-.52 0-1.04.2-1.43.59L10.3 9.45l-7.72 7.72c-.78.78-.78 2.05 0 2.83L4 21.41c.39.39.9.59 1.41.59.51 0 1.02-.2 1.41-.59l7.78-7.78 2.81-2.81c.8-.78.8-2.07 0-2.86zM5.41 20L4 18.59l7.72-7.72 1.47 1.35L5.41 20z\"/>\n",
              "  </svg>\n",
              "      </button>\n",
              "      \n",
              "  <style>\n",
              "    .colab-df-container {\n",
              "      display:flex;\n",
              "      flex-wrap:wrap;\n",
              "      gap: 12px;\n",
              "    }\n",
              "\n",
              "    .colab-df-convert {\n",
              "      background-color: #E8F0FE;\n",
              "      border: none;\n",
              "      border-radius: 50%;\n",
              "      cursor: pointer;\n",
              "      display: none;\n",
              "      fill: #1967D2;\n",
              "      height: 32px;\n",
              "      padding: 0 0 0 0;\n",
              "      width: 32px;\n",
              "    }\n",
              "\n",
              "    .colab-df-convert:hover {\n",
              "      background-color: #E2EBFA;\n",
              "      box-shadow: 0px 1px 2px rgba(60, 64, 67, 0.3), 0px 1px 3px 1px rgba(60, 64, 67, 0.15);\n",
              "      fill: #174EA6;\n",
              "    }\n",
              "\n",
              "    [theme=dark] .colab-df-convert {\n",
              "      background-color: #3B4455;\n",
              "      fill: #D2E3FC;\n",
              "    }\n",
              "\n",
              "    [theme=dark] .colab-df-convert:hover {\n",
              "      background-color: #434B5C;\n",
              "      box-shadow: 0px 1px 3px 1px rgba(0, 0, 0, 0.15);\n",
              "      filter: drop-shadow(0px 1px 2px rgba(0, 0, 0, 0.3));\n",
              "      fill: #FFFFFF;\n",
              "    }\n",
              "  </style>\n",
              "\n",
              "      <script>\n",
              "        const buttonEl =\n",
              "          document.querySelector('#df-0253b4ab-e5f8-456f-afda-d7e535d0e5e8 button.colab-df-convert');\n",
              "        buttonEl.style.display =\n",
              "          google.colab.kernel.accessAllowed ? 'block' : 'none';\n",
              "\n",
              "        async function convertToInteractive(key) {\n",
              "          const element = document.querySelector('#df-0253b4ab-e5f8-456f-afda-d7e535d0e5e8');\n",
              "          const dataTable =\n",
              "            await google.colab.kernel.invokeFunction('convertToInteractive',\n",
              "                                                     [key], {});\n",
              "          if (!dataTable) return;\n",
              "\n",
              "          const docLinkHtml = 'Like what you see? Visit the ' +\n",
              "            '<a target=\"_blank\" href=https://colab.research.google.com/notebooks/data_table.ipynb>data table notebook</a>'\n",
              "            + ' to learn more about interactive tables.';\n",
              "          element.innerHTML = '';\n",
              "          dataTable['output_type'] = 'display_data';\n",
              "          await google.colab.output.renderOutput(dataTable, element);\n",
              "          const docLink = document.createElement('div');\n",
              "          docLink.innerHTML = docLinkHtml;\n",
              "          element.appendChild(docLink);\n",
              "        }\n",
              "      </script>\n",
              "    </div>\n",
              "  </div>\n",
              "  "
            ]
          },
          "metadata": {},
          "execution_count": 29
        }
      ],
      "source": [
        "venda_por_data_gasolina_aditivada = dados.loc[dados['produto'] == 'GASOLINA ADITIVADA'].groupby(['data_da_coleta'])['valor_de_venda'].mean().reset_index()\n",
        "venda_por_data_gasolina = dados.loc[dados['produto'] == 'GASOLINA'].groupby(['data_da_coleta'])['valor_de_venda'].mean().reset_index()\n",
        "venda_por_data_etanol = dados.loc[dados['produto'] == 'ETANOL'].groupby(['data_da_coleta'])['valor_de_venda'].mean().reset_index()\n",
        "venda_por_data = dados.groupby(['data_da_coleta'])['valor_de_venda'].mean().reset_index()\n",
        "venda_por_data.head(10)"
      ]
    },
    {
      "cell_type": "markdown",
      "id": "Cp6dqckY6brL",
      "metadata": {
        "id": "Cp6dqckY6brL"
      },
      "source": [
        "Com esses dataframes criados, utilizamos o matplotlib para unir essas informações em um gráfico de linha:"
      ]
    },
    {
      "cell_type": "code",
      "execution_count": 30,
      "id": "jZ1hTIkToG0e",
      "metadata": {
        "colab": {
          "base_uri": "https://localhost:8080/",
          "height": 655
        },
        "id": "jZ1hTIkToG0e",
        "outputId": "6bc6178b-cf2c-4ee2-ed63-2943a5902f3e"
      },
      "outputs": [
        {
          "output_type": "display_data",
          "data": {
            "text/plain": [
              "<Figure size 1440x720 with 1 Axes>"
            ],
            "image/png": "[encoded data removed]"
          },
          "metadata": {
            "needs_background": "light"
          }
        }
      ],
      "source": [
        "plt.figure(figsize=(20,10))\n",
        "plt.rc('xtick', labelsize=15)\n",
        "plt.rc('ytick', labelsize=15)\n",
        "plt.rc('legend', fontsize=15)\n",
        "plt.plot(venda_por_data['data_da_coleta'], venda_por_data['valor_de_venda'], label='Combustíveis') \n",
        "plt.plot(venda_por_data_etanol['data_da_coleta'], venda_por_data_etanol['valor_de_venda'], label='Etanol', linestyle=\"--\")\n",
        "plt.plot(venda_por_data_gasolina['data_da_coleta'], venda_por_data_gasolina['valor_de_venda'], label='Gasolina', linestyle=\"-.\")\n",
        "plt.plot(venda_por_data_gasolina_aditivada['data_da_coleta'], venda_por_data_gasolina_aditivada['valor_de_venda'], label='Gasolina Aditivada', linestyle=\":\")\n",
        "plt.xlabel(\"Período de 2 meses\", size=24) \n",
        "plt.ylabel(\"Preço dos combustíveis\", size=24)  \n",
        "plt.title(\"Evolução do preço dos combustíveis\",loc='left', size=30)  \n",
        "plt.legend()\n",
        "plt.show() "
      ]
    },
    {
      "cell_type": "markdown",
      "id": "B-Hb2sg46qV7",
      "metadata": {
        "id": "B-Hb2sg46qV7"
      },
      "source": [
        "## 2. Qual o preço médio da gasolina e do etanol nesses 2 meses?"
      ]
    },
    {
      "cell_type": "markdown",
      "id": "ukomp0ng5txq",
      "metadata": {
        "id": "ukomp0ng5txq"
      },
      "source": [
        "### preço médio da gasolina nos dois meses:"
      ]
    },
    {
      "cell_type": "code",
      "execution_count": 31,
      "id": "mnJ4Gm65zhvQ",
      "metadata": {
        "colab": {
          "base_uri": "https://localhost:8080/",
          "height": 0
        },
        "id": "mnJ4Gm65zhvQ",
        "outputId": "da9c439a-5f06-4ef9-d911-d9bc2b4c0cf5"
      },
      "outputs": [
        {
          "output_type": "execute_result",
          "data": {
            "text/plain": [
              "'5.71'"
            ],
            "application/vnd.google.colaboratory.intrinsic+json": {
              "type": "string"
            }
          },
          "metadata": {},
          "execution_count": 31
        }
      ],
      "source": [
        "formatar(dados.loc[dados['produto'] == 'GASOLINA']['valor_de_venda'].mean())"
      ]
    },
    {
      "cell_type": "markdown",
      "id": "YxLrMzoa5vsk",
      "metadata": {
        "id": "YxLrMzoa5vsk"
      },
      "source": [
        "preço médio do etanol nos dois meses:"
      ]
    },
    {
      "cell_type": "code",
      "execution_count": 32,
      "id": "KslQYY7s5xQY",
      "metadata": {
        "colab": {
          "base_uri": "https://localhost:8080/",
          "height": 0
        },
        "id": "KslQYY7s5xQY",
        "outputId": "9d04d263-d0d3-462c-bb31-1d830577bb49"
      },
      "outputs": [
        {
          "output_type": "execute_result",
          "data": {
            "text/plain": [
              "'4.51'"
            ],
            "application/vnd.google.colaboratory.intrinsic+json": {
              "type": "string"
            }
          },
          "metadata": {},
          "execution_count": 32
        }
      ],
      "source": [
        "formatar(dados.loc[dados['produto'] == 'ETANOL']['valor_de_venda'].mean())"
      ]
    },
    {
      "cell_type": "markdown",
      "id": "KkdEsHVm7Npe",
      "metadata": {
        "id": "KkdEsHVm7Npe"
      },
      "source": [
        "## 3. Quais os 5 estados com o preço médio da gasolina e do etanol mais caros?\n"
      ]
    },
    {
      "cell_type": "code",
      "execution_count": 33,
      "id": "uWao7fQG7UX7",
      "metadata": {
        "id": "uWao7fQG7UX7",
        "colab": {
          "base_uri": "https://localhost:8080/",
          "height": 0
        },
        "outputId": "0b8651f6-55c2-4dfd-a170-59c683d3cca5"
      },
      "outputs": [
        {
          "output_type": "display_data",
          "data": {
            "text/plain": [
              "       estado_sigla             produto  \\\n",
              "0                ES  GASOLINA ADITIVADA   \n",
              "1                ES            GASOLINA   \n",
              "2                ES              ETANOL   \n",
              "3                ES            GASOLINA   \n",
              "4                GO  GASOLINA ADITIVADA   \n",
              "...             ...                 ...   \n",
              "127171           DF              ETANOL   \n",
              "127172           DF            GASOLINA   \n",
              "127173           DF  GASOLINA ADITIVADA   \n",
              "127174           MG            GASOLINA   \n",
              "127175           MG              ETANOL   \n",
              "\n",
              "                                                  revenda  \\\n",
              "0       SAO FRANCISCO DE ASSIS COMERCIO DE COMBUSTIVEI...   \n",
              "1       SAO FRANCISCO DE ASSIS COMERCIO DE COMBUSTIVEI...   \n",
              "2                                      POSTO MOTOCAP LTDA   \n",
              "3                                      POSTO MOTOCAP LTDA   \n",
              "4                            JUSTINIANO & JUSTINIANO LTDA   \n",
              "...                                                   ...   \n",
              "127171  POSTO TOP TAGUATINGA COMERCIO DE COMBUSTIVEIS ...   \n",
              "127172  POSTO TOP TAGUATINGA COMERCIO DE COMBUSTIVEIS ...   \n",
              "127173  POSTO TOP TAGUATINGA COMERCIO DE COMBUSTIVEIS ...   \n",
              "127174         AUTO POSTO COMBUSTIVEIS VERAS SANTANA LTDA   \n",
              "127175         AUTO POSTO COMBUSTIVEIS VERAS SANTANA LTDA   \n",
              "\n",
              "            cnpj_da_revenda  valor_de_venda  \n",
              "0        08.519.545/0001-10            7.48  \n",
              "1        08.519.545/0001-10            7.38  \n",
              "2        04.814.652/0001-10            5.99  \n",
              "3        04.814.652/0001-10            7.39  \n",
              "4        04.489.287/0001-16            6.49  \n",
              "...                     ...             ...  \n",
              "127171   37.189.518/0001-25            3.99  \n",
              "127172   37.189.518/0001-25            5.19  \n",
              "127173   37.189.518/0001-25            5.19  \n",
              "127174   33.063.482/0001-88            5.27  \n",
              "127175   33.063.482/0001-88            3.67  \n",
              "\n",
              "[127176 rows x 5 columns]"
            ],
            "text/html": [
              "\n",
              "  <div id=\"df-1c9fef83-d03e-42a8-9f4f-920555d58ae8\">\n",
              "    <div class=\"colab-df-container\">\n",
              "      <div>\n",
              "<style scoped>\n",
              "    .dataframe tbody tr th:only-of-type {\n",
              "        vertical-align: middle;\n",
              "    }\n",
              "\n",
              "    .dataframe tbody tr th {\n",
              "        vertical-align: top;\n",
              "    }\n",
              "\n",
              "    .dataframe thead th {\n",
              "        text-align: right;\n",
              "    }\n",
              "</style>\n",
              "<table border=\"1\" class=\"dataframe\">\n",
              "  <thead>\n",
              "    <tr style=\"text-align: right;\">\n",
              "      <th></th>\n",
              "      <th>estado_sigla</th>\n",
              "      <th>produto</th>\n",
              "      <th>revenda</th>\n",
              "      <th>cnpj_da_revenda</th>\n",
              "      <th>valor_de_venda</th>\n",
              "    </tr>\n",
              "  </thead>\n",
              "  <tbody>\n",
              "    <tr>\n",
              "      <th>0</th>\n",
              "      <td>ES</td>\n",
              "      <td>GASOLINA ADITIVADA</td>\n",
              "      <td>SAO FRANCISCO DE ASSIS COMERCIO DE COMBUSTIVEI...</td>\n",
              "      <td>08.519.545/0001-10</td>\n",
              "      <td>7.48</td>\n",
              "    </tr>\n",
              "    <tr>\n",
              "      <th>1</th>\n",
              "      <td>ES</td>\n",
              "      <td>GASOLINA</td>\n",
              "      <td>SAO FRANCISCO DE ASSIS COMERCIO DE COMBUSTIVEI...</td>\n",
              "      <td>08.519.545/0001-10</td>\n",
              "      <td>7.38</td>\n",
              "    </tr>\n",
              "    <tr>\n",
              "      <th>2</th>\n",
              "      <td>ES</td>\n",
              "      <td>ETANOL</td>\n",
              "      <td>POSTO MOTOCAP LTDA</td>\n",
              "      <td>04.814.652/0001-10</td>\n",
              "      <td>5.99</td>\n",
              "    </tr>\n",
              "    <tr>\n",
              "      <th>3</th>\n",
              "      <td>ES</td>\n",
              "      <td>GASOLINA</td>\n",
              "      <td>POSTO MOTOCAP LTDA</td>\n",
              "      <td>04.814.652/0001-10</td>\n",
              "      <td>7.39</td>\n",
              "    </tr>\n",
              "    <tr>\n",
              "      <th>4</th>\n",
              "      <td>GO</td>\n",
              "      <td>GASOLINA ADITIVADA</td>\n",
              "      <td>JUSTINIANO &amp; JUSTINIANO LTDA</td>\n",
              "      <td>04.489.287/0001-16</td>\n",
              "      <td>6.49</td>\n",
              "    </tr>\n",
              "    <tr>\n",
              "      <th>...</th>\n",
              "      <td>...</td>\n",
              "      <td>...</td>\n",
              "      <td>...</td>\n",
              "      <td>...</td>\n",
              "      <td>...</td>\n",
              "    </tr>\n",
              "    <tr>\n",
              "      <th>127171</th>\n",
              "      <td>DF</td>\n",
              "      <td>ETANOL</td>\n",
              "      <td>POSTO TOP TAGUATINGA COMERCIO DE COMBUSTIVEIS ...</td>\n",
              "      <td>37.189.518/0001-25</td>\n",
              "      <td>3.99</td>\n",
              "    </tr>\n",
              "    <tr>\n",
              "      <th>127172</th>\n",
              "      <td>DF</td>\n",
              "      <td>GASOLINA</td>\n",
              "      <td>POSTO TOP TAGUATINGA COMERCIO DE COMBUSTIVEIS ...</td>\n",
              "      <td>37.189.518/0001-25</td>\n",
              "      <td>5.19</td>\n",
              "    </tr>\n",
              "    <tr>\n",
              "      <th>127173</th>\n",
              "      <td>DF</td>\n",
              "      <td>GASOLINA ADITIVADA</td>\n",
              "      <td>POSTO TOP TAGUATINGA COMERCIO DE COMBUSTIVEIS ...</td>\n",
              "      <td>37.189.518/0001-25</td>\n",
              "      <td>5.19</td>\n",
              "    </tr>\n",
              "    <tr>\n",
              "      <th>127174</th>\n",
              "      <td>MG</td>\n",
              "      <td>GASOLINA</td>\n",
              "      <td>AUTO POSTO COMBUSTIVEIS VERAS SANTANA LTDA</td>\n",
              "      <td>33.063.482/0001-88</td>\n",
              "      <td>5.27</td>\n",
              "    </tr>\n",
              "    <tr>\n",
              "      <th>127175</th>\n",
              "      <td>MG</td>\n",
              "      <td>ETANOL</td>\n",
              "      <td>AUTO POSTO COMBUSTIVEIS VERAS SANTANA LTDA</td>\n",
              "      <td>33.063.482/0001-88</td>\n",
              "      <td>3.67</td>\n",
              "    </tr>\n",
              "  </tbody>\n",
              "</table>\n",
              "<p>127176 rows × 5 columns</p>\n",
              "</div>\n",
              "      <button class=\"colab-df-convert\" onclick=\"convertToInteractive('df-1c9fef83-d03e-42a8-9f4f-920555d58ae8')\"\n",
              "              title=\"Convert this dataframe to an interactive table.\"\n",
              "              style=\"display:none;\">\n",
              "        \n",
              "  <svg xmlns=\"http://www.w3.org/2000/svg\" height=\"24px\"viewBox=\"0 0 24 24\"\n",
              "       width=\"24px\">\n",
              "    <path d=\"M0 0h24v24H0V0z\" fill=\"none\"/>\n",
              "    <path d=\"M18.56 5.44l.94 2.06.94-2.06 2.06-.94-2.06-.94-.94-2.06-.94 2.06-2.06.94zm-11 1L8.5 8.5l.94-2.06 2.06-.94-2.06-.94L8.5 2.5l-.94 2.06-2.06.94zm10 10l.94 2.06.94-2.06 2.06-.94-2.06-.94-.94-2.06-.94 2.06-2.06.94z\"/><path d=\"M17.41 7.96l-1.37-1.37c-.4-.4-.92-.59-1.43-.59-.52 0-1.04.2-1.43.59L10.3 9.45l-7.72 7.72c-.78.78-.78 2.05 0 2.83L4 21.41c.39.39.9.59 1.41.59.51 0 1.02-.2 1.41-.59l7.78-7.78 2.81-2.81c.8-.78.8-2.07 0-2.86zM5.41 20L4 18.59l7.72-7.72 1.47 1.35L5.41 20z\"/>\n",
              "  </svg>\n",
              "      </button>\n",
              "      \n",
              "  <style>\n",
              "    .colab-df-container {\n",
              "      display:flex;\n",
              "      flex-wrap:wrap;\n",
              "      gap: 12px;\n",
              "    }\n",
              "\n",
              "    .colab-df-convert {\n",
              "      background-color: #E8F0FE;\n",
              "      border: none;\n",
              "      border-radius: 50%;\n",
              "      cursor: pointer;\n",
              "      display: none;\n",
              "      fill: #1967D2;\n",
              "      height: 32px;\n",
              "      padding: 0 0 0 0;\n",
              "      width: 32px;\n",
              "    }\n",
              "\n",
              "    .colab-df-convert:hover {\n",
              "      background-color: #E2EBFA;\n",
              "      box-shadow: 0px 1px 2px rgba(60, 64, 67, 0.3), 0px 1px 3px 1px rgba(60, 64, 67, 0.15);\n",
              "      fill: #174EA6;\n",
              "    }\n",
              "\n",
              "    [theme=dark] .colab-df-convert {\n",
              "      background-color: #3B4455;\n",
              "      fill: #D2E3FC;\n",
              "    }\n",
              "\n",
              "    [theme=dark] .colab-df-convert:hover {\n",
              "      background-color: #434B5C;\n",
              "      box-shadow: 0px 1px 3px 1px rgba(0, 0, 0, 0.15);\n",
              "      filter: drop-shadow(0px 1px 2px rgba(0, 0, 0, 0.3));\n",
              "      fill: #FFFFFF;\n",
              "    }\n",
              "  </style>\n",
              "\n",
              "      <script>\n",
              "        const buttonEl =\n",
              "          document.querySelector('#df-1c9fef83-d03e-42a8-9f4f-920555d58ae8 button.colab-df-convert');\n",
              "        buttonEl.style.display =\n",
              "          google.colab.kernel.accessAllowed ? 'block' : 'none';\n",
              "\n",
              "        async function convertToInteractive(key) {\n",
              "          const element = document.querySelector('#df-1c9fef83-d03e-42a8-9f4f-920555d58ae8');\n",
              "          const dataTable =\n",
              "            await google.colab.kernel.invokeFunction('convertToInteractive',\n",
              "                                                     [key], {});\n",
              "          if (!dataTable) return;\n",
              "\n",
              "          const docLinkHtml = 'Like what you see? Visit the ' +\n",
              "            '<a target=\"_blank\" href=https://colab.research.google.com/notebooks/data_table.ipynb>data table notebook</a>'\n",
              "            + ' to learn more about interactive tables.';\n",
              "          element.innerHTML = '';\n",
              "          dataTable['output_type'] = 'display_data';\n",
              "          await google.colab.output.renderOutput(dataTable, element);\n",
              "          const docLink = document.createElement('div');\n",
              "          docLink.innerHTML = docLinkHtml;\n",
              "          element.appendChild(docLink);\n",
              "        }\n",
              "      </script>\n",
              "    </div>\n",
              "  </div>\n",
              "  "
            ]
          },
          "metadata": {}
        }
      ],
      "source": [
        "# Quais os 5 estados com preço médio mais alto?\n",
        "\n",
        "#1. conferindo DF:\n",
        "\n",
        "dados_uteis=dados[['estado_sigla','produto','revenda','cnpj_da_revenda','valor_de_venda']]\n",
        "\n",
        "display(dados_uteis)"
      ]
    },
    {
      "cell_type": "code",
      "execution_count": 34,
      "id": "uFl5XvVX7VTx",
      "metadata": {
        "id": "uFl5XvVX7VTx"
      },
      "outputs": [],
      "source": [
        "#2. Filtrando valores:\n",
        "\n",
        "#Tirando a média da Gasolina e do Etanol\n",
        "media_gas=dados_uteis.loc[dados_uteis['produto'] == 'GASOLINA']['valor_de_venda'].mean()\n",
        "media_et=dados_uteis.loc[dados_uteis['produto'] == 'ETANOL']['valor_de_venda'].mean()"
      ]
    },
    {
      "cell_type": "code",
      "execution_count": 35,
      "id": "YZftzS5z7ZmA",
      "metadata": {
        "id": "YZftzS5z7ZmA",
        "colab": {
          "base_uri": "https://localhost:8080/"
        },
        "outputId": "74922db8-510c-4c24-dc25-b24ebe68d79d"
      },
      "outputs": [
        {
          "output_type": "execute_result",
          "data": {
            "text/plain": [
              "estado_sigla\n",
              "AM    6.498248\n",
              "PI    6.437978\n",
              "MA    6.420524\n",
              "RN    6.387143\n",
              "PA    6.366147\n",
              "Name: valor_de_venda, dtype: float64"
            ]
          },
          "metadata": {},
          "execution_count": 35
        }
      ],
      "source": [
        "# 3. Resgatando valores acima da média para Gasolina\n",
        "\n",
        "gas_df=dados_uteis.loc[dados_uteis['produto'] == 'GASOLINA']\n",
        "mediagas_df= gas_df.loc[gas_df['valor_de_venda'] >= media_gas]\n",
        "mediagas_df.groupby(['estado_sigla'])['valor_de_venda'].mean().nlargest(5)"
      ]
    },
    {
      "cell_type": "code",
      "execution_count": 36,
      "id": "yGgw4Nk_7an1",
      "metadata": {
        "id": "yGgw4Nk_7an1",
        "colab": {
          "base_uri": "https://localhost:8080/"
        },
        "outputId": "22b2e699-6728-4f0d-da8b-d641af667fb5"
      },
      "outputs": [
        {
          "output_type": "execute_result",
          "data": {
            "text/plain": [
              "estado_sigla\n",
              "AP    5.896250\n",
              "RS    5.669429\n",
              "PA    5.645250\n",
              "RO    5.603039\n",
              "RR    5.568182\n",
              "Name: valor_de_venda, dtype: float64"
            ]
          },
          "metadata": {},
          "execution_count": 36
        }
      ],
      "source": [
        "# 4. Resgatando valores acima da média para Etanol\n",
        "eta_df=dados_uteis.loc[dados_uteis['produto'] == 'ETANOL']\n",
        "mediaeta_df= eta_df.loc[eta_df['valor_de_venda'] >= media_et]\n",
        "mediaeta_df.groupby(['estado_sigla'])['valor_de_venda'].mean().nlargest(5)"
      ]
    },
    {
      "cell_type": "markdown",
      "id": "g-gEW7p27eHn",
      "metadata": {
        "id": "g-gEW7p27eHn"
      },
      "source": [
        "## 4. Qual o preço médio da gasolina e do etanol por estado?"
      ]
    },
    {
      "cell_type": "markdown",
      "id": "3aYUKs-27g9x",
      "metadata": {
        "id": "3aYUKs-27g9x"
      },
      "source": [
        "### Gasolina: "
      ]
    },
    {
      "cell_type": "code",
      "execution_count": 37,
      "id": "GMl7ap3j7i3Z",
      "metadata": {
        "collapsed": true,
        "id": "GMl7ap3j7i3Z",
        "colab": {
          "base_uri": "https://localhost:8080/",
          "height": 0
        },
        "outputId": "beeac029-732f-45ba-d001-64be7360a421"
      },
      "outputs": [
        {
          "output_type": "execute_result",
          "data": {
            "text/plain": [
              "              valor_de_venda\n",
              "estado_sigla                \n",
              "AC                  6.211454\n",
              "AM                  6.188049\n",
              "PI                  6.075050\n",
              "TO                  6.046250\n",
              "BA                  6.030862"
            ],
            "text/html": [
              "\n",
              "  <div id=\"df-e41fc6db-52d7-4f95-8e33-dabb0d3c681a\">\n",
              "    <div class=\"colab-df-container\">\n",
              "      <div>\n",
              "<style scoped>\n",
              "    .dataframe tbody tr th:only-of-type {\n",
              "        vertical-align: middle;\n",
              "    }\n",
              "\n",
              "    .dataframe tbody tr th {\n",
              "        vertical-align: top;\n",
              "    }\n",
              "\n",
              "    .dataframe thead th {\n",
              "        text-align: right;\n",
              "    }\n",
              "</style>\n",
              "<table border=\"1\" class=\"dataframe\">\n",
              "  <thead>\n",
              "    <tr style=\"text-align: right;\">\n",
              "      <th></th>\n",
              "      <th>valor_de_venda</th>\n",
              "    </tr>\n",
              "    <tr>\n",
              "      <th>estado_sigla</th>\n",
              "      <th></th>\n",
              "    </tr>\n",
              "  </thead>\n",
              "  <tbody>\n",
              "    <tr>\n",
              "      <th>AC</th>\n",
              "      <td>6.211454</td>\n",
              "    </tr>\n",
              "    <tr>\n",
              "      <th>AM</th>\n",
              "      <td>6.188049</td>\n",
              "    </tr>\n",
              "    <tr>\n",
              "      <th>PI</th>\n",
              "      <td>6.075050</td>\n",
              "    </tr>\n",
              "    <tr>\n",
              "      <th>TO</th>\n",
              "      <td>6.046250</td>\n",
              "    </tr>\n",
              "    <tr>\n",
              "      <th>BA</th>\n",
              "      <td>6.030862</td>\n",
              "    </tr>\n",
              "  </tbody>\n",
              "</table>\n",
              "</div>\n",
              "      <button class=\"colab-df-convert\" onclick=\"convertToInteractive('df-e41fc6db-52d7-4f95-8e33-dabb0d3c681a')\"\n",
              "              title=\"Convert this dataframe to an interactive table.\"\n",
              "              style=\"display:none;\">\n",
              "        \n",
              "  <svg xmlns=\"http://www.w3.org/2000/svg\" height=\"24px\"viewBox=\"0 0 24 24\"\n",
              "       width=\"24px\">\n",
              "    <path d=\"M0 0h24v24H0V0z\" fill=\"none\"/>\n",
              "    <path d=\"M18.56 5.44l.94 2.06.94-2.06 2.06-.94-2.06-.94-.94-2.06-.94 2.06-2.06.94zm-11 1L8.5 8.5l.94-2.06 2.06-.94-2.06-.94L8.5 2.5l-.94 2.06-2.06.94zm10 10l.94 2.06.94-2.06 2.06-.94-2.06-.94-.94-2.06-.94 2.06-2.06.94z\"/><path d=\"M17.41 7.96l-1.37-1.37c-.4-.4-.92-.59-1.43-.59-.52 0-1.04.2-1.43.59L10.3 9.45l-7.72 7.72c-.78.78-.78 2.05 0 2.83L4 21.41c.39.39.9.59 1.41.59.51 0 1.02-.2 1.41-.59l7.78-7.78 2.81-2.81c.8-.78.8-2.07 0-2.86zM5.41 20L4 18.59l7.72-7.72 1.47 1.35L5.41 20z\"/>\n",
              "  </svg>\n",
              "      </button>\n",
              "      \n",
              "  <style>\n",
              "    .colab-df-container {\n",
              "      display:flex;\n",
              "      flex-wrap:wrap;\n",
              "      gap: 12px;\n",
              "    }\n",
              "\n",
              "    .colab-df-convert {\n",
              "      background-color: #E8F0FE;\n",
              "      border: none;\n",
              "      border-radius: 50%;\n",
              "      cursor: pointer;\n",
              "      display: none;\n",
              "      fill: #1967D2;\n",
              "      height: 32px;\n",
              "      padding: 0 0 0 0;\n",
              "      width: 32px;\n",
              "    }\n",
              "\n",
              "    .colab-df-convert:hover {\n",
              "      background-color: #E2EBFA;\n",
              "      box-shadow: 0px 1px 2px rgba(60, 64, 67, 0.3), 0px 1px 3px 1px rgba(60, 64, 67, 0.15);\n",
              "      fill: #174EA6;\n",
              "    }\n",
              "\n",
              "    [theme=dark] .colab-df-convert {\n",
              "      background-color: #3B4455;\n",
              "      fill: #D2E3FC;\n",
              "    }\n",
              "\n",
              "    [theme=dark] .colab-df-convert:hover {\n",
              "      background-color: #434B5C;\n",
              "      box-shadow: 0px 1px 3px 1px rgba(0, 0, 0, 0.15);\n",
              "      filter: drop-shadow(0px 1px 2px rgba(0, 0, 0, 0.3));\n",
              "      fill: #FFFFFF;\n",
              "    }\n",
              "  </style>\n",
              "\n",
              "      <script>\n",
              "        const buttonEl =\n",
              "          document.querySelector('#df-e41fc6db-52d7-4f95-8e33-dabb0d3c681a button.colab-df-convert');\n",
              "        buttonEl.style.display =\n",
              "          google.colab.kernel.accessAllowed ? 'block' : 'none';\n",
              "\n",
              "        async function convertToInteractive(key) {\n",
              "          const element = document.querySelector('#df-e41fc6db-52d7-4f95-8e33-dabb0d3c681a');\n",
              "          const dataTable =\n",
              "            await google.colab.kernel.invokeFunction('convertToInteractive',\n",
              "                                                     [key], {});\n",
              "          if (!dataTable) return;\n",
              "\n",
              "          const docLinkHtml = 'Like what you see? Visit the ' +\n",
              "            '<a target=\"_blank\" href=https://colab.research.google.com/notebooks/data_table.ipynb>data table notebook</a>'\n",
              "            + ' to learn more about interactive tables.';\n",
              "          element.innerHTML = '';\n",
              "          dataTable['output_type'] = 'display_data';\n",
              "          await google.colab.output.renderOutput(dataTable, element);\n",
              "          const docLink = document.createElement('div');\n",
              "          docLink.innerHTML = docLinkHtml;\n",
              "          element.appendChild(docLink);\n",
              "        }\n",
              "      </script>\n",
              "    </div>\n",
              "  </div>\n",
              "  "
            ]
          },
          "metadata": {},
          "execution_count": 37
        }
      ],
      "source": [
        "gas_df.groupby(['estado_sigla']).mean().nlargest(5,columns=['valor_de_venda'])"
      ]
    },
    {
      "cell_type": "markdown",
      "id": "7HXTbqWJ7kw5",
      "metadata": {
        "id": "7HXTbqWJ7kw5"
      },
      "source": [
        "### Etanol:"
      ]
    },
    {
      "cell_type": "code",
      "execution_count": 38,
      "id": "U9uyyv1M7mX5",
      "metadata": {
        "collapsed": true,
        "id": "U9uyyv1M7mX5",
        "colab": {
          "base_uri": "https://localhost:8080/",
          "height": 0
        },
        "outputId": "2cb36c62-3bb7-40be-a31b-d7a789c026ad"
      },
      "outputs": [
        {
          "output_type": "execute_result",
          "data": {
            "text/plain": [
              "              valor_de_venda\n",
              "estado_sigla                \n",
              "AP                  5.896250\n",
              "RS                  5.660152\n",
              "PA                  5.624816\n",
              "RO                  5.599120\n",
              "RR                  5.568182"
            ],
            "text/html": [
              "\n",
              "  <div id=\"df-9292edd9-38d4-4753-92e4-844109235d12\">\n",
              "    <div class=\"colab-df-container\">\n",
              "      <div>\n",
              "<style scoped>\n",
              "    .dataframe tbody tr th:only-of-type {\n",
              "        vertical-align: middle;\n",
              "    }\n",
              "\n",
              "    .dataframe tbody tr th {\n",
              "        vertical-align: top;\n",
              "    }\n",
              "\n",
              "    .dataframe thead th {\n",
              "        text-align: right;\n",
              "    }\n",
              "</style>\n",
              "<table border=\"1\" class=\"dataframe\">\n",
              "  <thead>\n",
              "    <tr style=\"text-align: right;\">\n",
              "      <th></th>\n",
              "      <th>valor_de_venda</th>\n",
              "    </tr>\n",
              "    <tr>\n",
              "      <th>estado_sigla</th>\n",
              "      <th></th>\n",
              "    </tr>\n",
              "  </thead>\n",
              "  <tbody>\n",
              "    <tr>\n",
              "      <th>AP</th>\n",
              "      <td>5.896250</td>\n",
              "    </tr>\n",
              "    <tr>\n",
              "      <th>RS</th>\n",
              "      <td>5.660152</td>\n",
              "    </tr>\n",
              "    <tr>\n",
              "      <th>PA</th>\n",
              "      <td>5.624816</td>\n",
              "    </tr>\n",
              "    <tr>\n",
              "      <th>RO</th>\n",
              "      <td>5.599120</td>\n",
              "    </tr>\n",
              "    <tr>\n",
              "      <th>RR</th>\n",
              "      <td>5.568182</td>\n",
              "    </tr>\n",
              "  </tbody>\n",
              "</table>\n",
              "</div>\n",
              "      <button class=\"colab-df-convert\" onclick=\"convertToInteractive('df-9292edd9-38d4-4753-92e4-844109235d12')\"\n",
              "              title=\"Convert this dataframe to an interactive table.\"\n",
              "              style=\"display:none;\">\n",
              "        \n",
              "  <svg xmlns=\"http://www.w3.org/2000/svg\" height=\"24px\"viewBox=\"0 0 24 24\"\n",
              "       width=\"24px\">\n",
              "    <path d=\"M0 0h24v24H0V0z\" fill=\"none\"/>\n",
              "    <path d=\"M18.56 5.44l.94 2.06.94-2.06 2.06-.94-2.06-.94-.94-2.06-.94 2.06-2.06.94zm-11 1L8.5 8.5l.94-2.06 2.06-.94-2.06-.94L8.5 2.5l-.94 2.06-2.06.94zm10 10l.94 2.06.94-2.06 2.06-.94-2.06-.94-.94-2.06-.94 2.06-2.06.94z\"/><path d=\"M17.41 7.96l-1.37-1.37c-.4-.4-.92-.59-1.43-.59-.52 0-1.04.2-1.43.59L10.3 9.45l-7.72 7.72c-.78.78-.78 2.05 0 2.83L4 21.41c.39.39.9.59 1.41.59.51 0 1.02-.2 1.41-.59l7.78-7.78 2.81-2.81c.8-.78.8-2.07 0-2.86zM5.41 20L4 18.59l7.72-7.72 1.47 1.35L5.41 20z\"/>\n",
              "  </svg>\n",
              "      </button>\n",
              "      \n",
              "  <style>\n",
              "    .colab-df-container {\n",
              "      display:flex;\n",
              "      flex-wrap:wrap;\n",
              "      gap: 12px;\n",
              "    }\n",
              "\n",
              "    .colab-df-convert {\n",
              "      background-color: #E8F0FE;\n",
              "      border: none;\n",
              "      border-radius: 50%;\n",
              "      cursor: pointer;\n",
              "      display: none;\n",
              "      fill: #1967D2;\n",
              "      height: 32px;\n",
              "      padding: 0 0 0 0;\n",
              "      width: 32px;\n",
              "    }\n",
              "\n",
              "    .colab-df-convert:hover {\n",
              "      background-color: #E2EBFA;\n",
              "      box-shadow: 0px 1px 2px rgba(60, 64, 67, 0.3), 0px 1px 3px 1px rgba(60, 64, 67, 0.15);\n",
              "      fill: #174EA6;\n",
              "    }\n",
              "\n",
              "    [theme=dark] .colab-df-convert {\n",
              "      background-color: #3B4455;\n",
              "      fill: #D2E3FC;\n",
              "    }\n",
              "\n",
              "    [theme=dark] .colab-df-convert:hover {\n",
              "      background-color: #434B5C;\n",
              "      box-shadow: 0px 1px 3px 1px rgba(0, 0, 0, 0.15);\n",
              "      filter: drop-shadow(0px 1px 2px rgba(0, 0, 0, 0.3));\n",
              "      fill: #FFFFFF;\n",
              "    }\n",
              "  </style>\n",
              "\n",
              "      <script>\n",
              "        const buttonEl =\n",
              "          document.querySelector('#df-9292edd9-38d4-4753-92e4-844109235d12 button.colab-df-convert');\n",
              "        buttonEl.style.display =\n",
              "          google.colab.kernel.accessAllowed ? 'block' : 'none';\n",
              "\n",
              "        async function convertToInteractive(key) {\n",
              "          const element = document.querySelector('#df-9292edd9-38d4-4753-92e4-844109235d12');\n",
              "          const dataTable =\n",
              "            await google.colab.kernel.invokeFunction('convertToInteractive',\n",
              "                                                     [key], {});\n",
              "          if (!dataTable) return;\n",
              "\n",
              "          const docLinkHtml = 'Like what you see? Visit the ' +\n",
              "            '<a target=\"_blank\" href=https://colab.research.google.com/notebooks/data_table.ipynb>data table notebook</a>'\n",
              "            + ' to learn more about interactive tables.';\n",
              "          element.innerHTML = '';\n",
              "          dataTable['output_type'] = 'display_data';\n",
              "          await google.colab.output.renderOutput(dataTable, element);\n",
              "          const docLink = document.createElement('div');\n",
              "          docLink.innerHTML = docLinkHtml;\n",
              "          element.appendChild(docLink);\n",
              "        }\n",
              "      </script>\n",
              "    </div>\n",
              "  </div>\n",
              "  "
            ]
          },
          "metadata": {},
          "execution_count": 38
        }
      ],
      "source": [
        "eta_df.groupby(['estado_sigla']).mean().nlargest(5,columns=['valor_de_venda'])"
      ]
    },
    {
      "cell_type": "markdown",
      "id": "5sse181N_fGo",
      "metadata": {
        "id": "5sse181N_fGo"
      },
      "source": [
        "## 5. Qual o município que possui o menor preço para a gasolina e para o etanol?"
      ]
    },
    {
      "cell_type": "code",
      "execution_count": 39,
      "id": "d3b05dfb",
      "metadata": {
        "id": "d3b05dfb",
        "colab": {
          "base_uri": "https://localhost:8080/"
        },
        "outputId": "8f00c3c0-e73a-491d-e2ef-956d152e7107"
      },
      "outputs": [
        {
          "output_type": "stream",
          "name": "stderr",
          "text": [
            "/usr/local/lib/python3.7/dist-packages/ipykernel_launcher.py:1: FutureWarning: Dropping of nuisance columns in DataFrame reductions (with 'numeric_only=None') is deprecated; in a future version this will raise TypeError.  Select only valid columns before calling the reduction.\n",
            "  \"\"\"Entry point for launching an IPython kernel.\n"
          ]
        },
        {
          "output_type": "execute_result",
          "data": {
            "text/plain": [
              "regiao_sigla                                    CO\n",
              "estado_sigla                                    AC\n",
              "municipio                               ABAETETUBA\n",
              "revenda               AUTO POSTO FORCA MAXIMA LTDA\n",
              "cnpj_da_revenda                 00.002.953/0001-99\n",
              "nome_da_rua              -V. ADALBERTO SIMAO NADER\n",
              "cep                                      00000-000\n",
              "produto                                   GASOLINA\n",
              "data_da_coleta                 2022-07-01 00:00:00\n",
              "valor_de_venda                                4.13\n",
              "unidade_de_medida                       R$ / litro\n",
              "bandeira                                    ALESAT\n",
              "dtype: object"
            ]
          },
          "metadata": {},
          "execution_count": 39
        }
      ],
      "source": [
        "dados.query(\"produto == 'GASOLINA'\").min()"
      ]
    },
    {
      "cell_type": "code",
      "execution_count": 40,
      "id": "9b5c1c6b",
      "metadata": {
        "id": "9b5c1c6b",
        "colab": {
          "base_uri": "https://localhost:8080/"
        },
        "outputId": "401a6533-206b-40dd-95ea-f0bdd1657455"
      },
      "outputs": [
        {
          "output_type": "stream",
          "name": "stderr",
          "text": [
            "/usr/local/lib/python3.7/dist-packages/ipykernel_launcher.py:1: FutureWarning: Dropping of nuisance columns in DataFrame reductions (with 'numeric_only=None') is deprecated; in a future version this will raise TypeError.  Select only valid columns before calling the reduction.\n",
            "  \"\"\"Entry point for launching an IPython kernel.\n"
          ]
        },
        {
          "output_type": "execute_result",
          "data": {
            "text/plain": [
              "regiao_sigla                                    CO\n",
              "estado_sigla                                    AC\n",
              "municipio                               ABAETETUBA\n",
              "revenda               AUTO POSTO FORCA MAXIMA LTDA\n",
              "cnpj_da_revenda                 00.002.953/0001-99\n",
              "nome_da_rua              -V. ADALBERTO SIMAO NADER\n",
              "cep                                      00000-000\n",
              "produto                                     ETANOL\n",
              "data_da_coleta                 2022-07-01 00:00:00\n",
              "valor_de_venda                                2.89\n",
              "unidade_de_medida                       R$ / litro\n",
              "bandeira                                    ALESAT\n",
              "dtype: object"
            ]
          },
          "metadata": {},
          "execution_count": 40
        }
      ],
      "source": [
        "dados.query(\"produto == 'ETANOL'\").min()"
      ]
    },
    {
      "cell_type": "markdown",
      "id": "C3DJFiPI_0HD",
      "metadata": {
        "id": "C3DJFiPI_0HD"
      },
      "source": [
        "## 6. Qual o município que possui o maior preço para a gasolina e para o etanol?"
      ]
    },
    {
      "cell_type": "code",
      "execution_count": 41,
      "id": "Q0FUOU_4_5W8",
      "metadata": {
        "colab": {
          "base_uri": "https://localhost:8080/"
        },
        "id": "Q0FUOU_4_5W8",
        "outputId": "6845a9b4-1c2d-40a9-bc96-5e3f24669fc0"
      },
      "outputs": [
        {
          "output_type": "stream",
          "name": "stderr",
          "text": [
            "/usr/local/lib/python3.7/dist-packages/ipykernel_launcher.py:1: FutureWarning: Dropping of nuisance columns in DataFrame reductions (with 'numeric_only=None') is deprecated; in a future version this will raise TypeError.  Select only valid columns before calling the reduction.\n",
            "  \"\"\"Entry point for launching an IPython kernel.\n"
          ]
        },
        {
          "output_type": "execute_result",
          "data": {
            "text/plain": [
              "regiao_sigla                                SE\n",
              "estado_sigla                                TO\n",
              "municipio                             XINGUARA\n",
              "revenda              ZV POSTO DE SERVIÇO LTDA.\n",
              "cnpj_da_revenda             98.338.072/0041-35\n",
              "nome_da_rua                  ÁREA 5 DA GLEBA C\n",
              "cep                                  99714-052\n",
              "produto                               GASOLINA\n",
              "data_da_coleta             2022-08-31 00:00:00\n",
              "valor_de_venda                            8.75\n",
              "unidade_de_medida                   R$ / litro\n",
              "bandeira                                  WATT\n",
              "dtype: object"
            ]
          },
          "metadata": {},
          "execution_count": 41
        }
      ],
      "source": [
        "dados.query(\"produto == 'GASOLINA'\").max()"
      ]
    },
    {
      "cell_type": "code",
      "execution_count": 42,
      "id": "b0c80120",
      "metadata": {
        "colab": {
          "base_uri": "https://localhost:8080/"
        },
        "id": "b0c80120",
        "outputId": "e8fad4d2-9509-4cae-aab3-be5b605a291a"
      },
      "outputs": [
        {
          "output_type": "stream",
          "name": "stderr",
          "text": [
            "/usr/local/lib/python3.7/dist-packages/ipykernel_launcher.py:1: FutureWarning: Dropping of nuisance columns in DataFrame reductions (with 'numeric_only=None') is deprecated; in a future version this will raise TypeError.  Select only valid columns before calling the reduction.\n",
            "  \"\"\"Entry point for launching an IPython kernel.\n"
          ]
        },
        {
          "output_type": "execute_result",
          "data": {
            "text/plain": [
              "regiao_sigla                                SE\n",
              "estado_sigla                                TO\n",
              "municipio                             XINGUARA\n",
              "revenda              ZV POSTO DE SERVIÇO LTDA.\n",
              "cnpj_da_revenda             97.550.180/0001-17\n",
              "nome_da_rua                  ÁREA 5 DA GLEBA C\n",
              "cep                                  99714-052\n",
              "produto                                 ETANOL\n",
              "data_da_coleta             2022-08-31 00:00:00\n",
              "valor_de_venda                            7.89\n",
              "unidade_de_medida                   R$ / litro\n",
              "bandeira                                  WATT\n",
              "dtype: object"
            ]
          },
          "metadata": {},
          "execution_count": 42
        }
      ],
      "source": [
        "dados.query(\"produto == 'ETANOL'\").max()"
      ]
    },
    {
      "cell_type": "markdown",
      "id": "DV3_aiBs7o1T",
      "metadata": {
        "id": "DV3_aiBs7o1T"
      },
      "source": [
        "## 7. Qual a região que possui o maior valor médio da gasolina?"
      ]
    },
    {
      "cell_type": "code",
      "execution_count": 43,
      "id": "V2gRQnrfLC1Y",
      "metadata": {
        "id": "V2gRQnrfLC1Y",
        "colab": {
          "base_uri": "https://localhost:8080/"
        },
        "outputId": "8f07ccc9-83e5-435f-effe-04064a80c735"
      },
      "outputs": [
        {
          "output_type": "execute_result",
          "data": {
            "text/plain": [
              "0              SE: Sudeste\n",
              "1              SE: Sudeste\n",
              "2              SE: Sudeste\n",
              "3              SE: Sudeste\n",
              "4         CO: Centro-Oeste\n",
              "                ...       \n",
              "127171    CO: Centro-Oeste\n",
              "127172    CO: Centro-Oeste\n",
              "127173    CO: Centro-Oeste\n",
              "127174         SE: Sudeste\n",
              "127175         SE: Sudeste\n",
              "Name: regiao_sigla, Length: 127176, dtype: object"
            ]
          },
          "metadata": {},
          "execution_count": 43
        }
      ],
      "source": [
        "#descrever as siglas das regiões para melhor visualização das queries\n",
        "dados.regiao_sigla= dados.regiao_sigla.map({'CO':'CO: Centro-Oeste', 'SE': 'SE: Sudeste', 'S':'S: Sul', 'NE': 'NE: Nordeste', 'N': 'N: Norte'})\n",
        "dados.regiao_sigla"
      ]
    },
    {
      "cell_type": "code",
      "execution_count": 44,
      "id": "cNN1HQ7W7xDc",
      "metadata": {
        "id": "cNN1HQ7W7xDc",
        "colab": {
          "base_uri": "https://localhost:8080/",
          "height": 0
        },
        "outputId": "71b81a34-cc04-4fe1-af5c-9420d13a149e"
      },
      "outputs": [
        {
          "output_type": "execute_result",
          "data": {
            "text/plain": [
              "<pandas.io.formats.style.Styler at 0x7f6ccf4e8a10>"
            ],
            "text/html": [
              "<style type=\"text/css\">\n",
              "#T_612fa_row0_col0 {\n",
              "  background-color: #7f2704;\n",
              "  color: #f1f1f1;\n",
              "}\n",
              "#T_612fa_row1_col0 {\n",
              "  background-color: #8b2c04;\n",
              "  color: #f1f1f1;\n",
              "}\n",
              "#T_612fa_row2_col0 {\n",
              "  background-color: #fee2c6;\n",
              "  color: #000000;\n",
              "}\n",
              "#T_612fa_row3_col0 {\n",
              "  background-color: #feebd7;\n",
              "  color: #000000;\n",
              "}\n",
              "#T_612fa_row4_col0 {\n",
              "  background-color: #fff5eb;\n",
              "  color: #000000;\n",
              "}\n",
              "</style>\n",
              "<table id=\"T_612fa_\" class=\"dataframe\">\n",
              "  <thead>\n",
              "    <tr>\n",
              "      <th class=\"blank\" >&nbsp;</th>\n",
              "      <th class=\"blank level0\" >&nbsp;</th>\n",
              "      <th class=\"col_heading level0 col0\" >valor_de_venda</th>\n",
              "    </tr>\n",
              "    <tr>\n",
              "      <th class=\"index_name level0\" >regiao_sigla</th>\n",
              "      <th class=\"index_name level1\" >produto</th>\n",
              "      <th class=\"blank col0\" >&nbsp;</th>\n",
              "    </tr>\n",
              "  </thead>\n",
              "  <tbody>\n",
              "    <tr>\n",
              "      <th id=\"T_612fa_level0_row0\" class=\"row_heading level0 row0\" >N: Norte</th>\n",
              "      <th id=\"T_612fa_level1_row0\" class=\"row_heading level1 row0\" >GASOLINA</th>\n",
              "      <td id=\"T_612fa_row0_col0\" class=\"data row0 col0\" >5.972000</td>\n",
              "    </tr>\n",
              "    <tr>\n",
              "      <th id=\"T_612fa_level0_row1\" class=\"row_heading level0 row1\" >NE: Nordeste</th>\n",
              "      <th id=\"T_612fa_level1_row1\" class=\"row_heading level1 row1\" >GASOLINA</th>\n",
              "      <td id=\"T_612fa_row1_col0\" class=\"data row1 col0\" >5.956000</td>\n",
              "    </tr>\n",
              "    <tr>\n",
              "      <th id=\"T_612fa_level0_row2\" class=\"row_heading level0 row2\" >S: Sul</th>\n",
              "      <th id=\"T_612fa_level1_row2\" class=\"row_heading level1 row2\" >GASOLINA</th>\n",
              "      <td id=\"T_612fa_row2_col0\" class=\"data row2 col0\" >5.641000</td>\n",
              "    </tr>\n",
              "    <tr>\n",
              "      <th id=\"T_612fa_level0_row3\" class=\"row_heading level0 row3\" >SE: Sudeste</th>\n",
              "      <th id=\"T_612fa_level1_row3\" class=\"row_heading level1 row3\" >GASOLINA</th>\n",
              "      <td id=\"T_612fa_row3_col0\" class=\"data row3 col0\" >5.616000</td>\n",
              "    </tr>\n",
              "    <tr>\n",
              "      <th id=\"T_612fa_level0_row4\" class=\"row_heading level0 row4\" >CO: Centro-Oeste</th>\n",
              "      <th id=\"T_612fa_level1_row4\" class=\"row_heading level1 row4\" >GASOLINA</th>\n",
              "      <td id=\"T_612fa_row4_col0\" class=\"data row4 col0\" >5.582000</td>\n",
              "    </tr>\n",
              "  </tbody>\n",
              "</table>\n"
            ]
          },
          "metadata": {},
          "execution_count": 44
        }
      ],
      "source": [
        "regiao_maior_med_gas = dados[dados['produto']=='GASOLINA'].groupby(['regiao_sigla', 'produto']).aggregate( {\"valor_de_venda\":\"mean\"}).round(3).sort_values('valor_de_venda', ascending=False)\n",
        "regiao_maior_med_gas.style.background_gradient(cmap='Oranges')"
      ]
    },
    {
      "cell_type": "code",
      "execution_count": 45,
      "id": "NJAe6Reo71Df",
      "metadata": {
        "colab": {
          "base_uri": "https://localhost:8080/",
          "height": 0
        },
        "id": "NJAe6Reo71Df",
        "outputId": "263bc537-bf5b-449f-c457-9fb597249609"
      },
      "outputs": [
        {
          "output_type": "execute_result",
          "data": {
            "text/plain": [
              "                       valor_de_venda\n",
              "regiao_sigla produto                 \n",
              "N: Norte     GASOLINA           5.972"
            ],
            "text/html": [
              "\n",
              "  <div id=\"df-42ae2509-f71c-4b05-a463-658920c2e67c\">\n",
              "    <div class=\"colab-df-container\">\n",
              "      <div>\n",
              "<style scoped>\n",
              "    .dataframe tbody tr th:only-of-type {\n",
              "        vertical-align: middle;\n",
              "    }\n",
              "\n",
              "    .dataframe tbody tr th {\n",
              "        vertical-align: top;\n",
              "    }\n",
              "\n",
              "    .dataframe thead th {\n",
              "        text-align: right;\n",
              "    }\n",
              "</style>\n",
              "<table border=\"1\" class=\"dataframe\">\n",
              "  <thead>\n",
              "    <tr style=\"text-align: right;\">\n",
              "      <th></th>\n",
              "      <th></th>\n",
              "      <th>valor_de_venda</th>\n",
              "    </tr>\n",
              "    <tr>\n",
              "      <th>regiao_sigla</th>\n",
              "      <th>produto</th>\n",
              "      <th></th>\n",
              "    </tr>\n",
              "  </thead>\n",
              "  <tbody>\n",
              "    <tr>\n",
              "      <th>N: Norte</th>\n",
              "      <th>GASOLINA</th>\n",
              "      <td>5.972</td>\n",
              "    </tr>\n",
              "  </tbody>\n",
              "</table>\n",
              "</div>\n",
              "      <button class=\"colab-df-convert\" onclick=\"convertToInteractive('df-42ae2509-f71c-4b05-a463-658920c2e67c')\"\n",
              "              title=\"Convert this dataframe to an interactive table.\"\n",
              "              style=\"display:none;\">\n",
              "        \n",
              "  <svg xmlns=\"http://www.w3.org/2000/svg\" height=\"24px\"viewBox=\"0 0 24 24\"\n",
              "       width=\"24px\">\n",
              "    <path d=\"M0 0h24v24H0V0z\" fill=\"none\"/>\n",
              "    <path d=\"M18.56 5.44l.94 2.06.94-2.06 2.06-.94-2.06-.94-.94-2.06-.94 2.06-2.06.94zm-11 1L8.5 8.5l.94-2.06 2.06-.94-2.06-.94L8.5 2.5l-.94 2.06-2.06.94zm10 10l.94 2.06.94-2.06 2.06-.94-2.06-.94-.94-2.06-.94 2.06-2.06.94z\"/><path d=\"M17.41 7.96l-1.37-1.37c-.4-.4-.92-.59-1.43-.59-.52 0-1.04.2-1.43.59L10.3 9.45l-7.72 7.72c-.78.78-.78 2.05 0 2.83L4 21.41c.39.39.9.59 1.41.59.51 0 1.02-.2 1.41-.59l7.78-7.78 2.81-2.81c.8-.78.8-2.07 0-2.86zM5.41 20L4 18.59l7.72-7.72 1.47 1.35L5.41 20z\"/>\n",
              "  </svg>\n",
              "      </button>\n",
              "      \n",
              "  <style>\n",
              "    .colab-df-container {\n",
              "      display:flex;\n",
              "      flex-wrap:wrap;\n",
              "      gap: 12px;\n",
              "    }\n",
              "\n",
              "    .colab-df-convert {\n",
              "      background-color: #E8F0FE;\n",
              "      border: none;\n",
              "      border-radius: 50%;\n",
              "      cursor: pointer;\n",
              "      display: none;\n",
              "      fill: #1967D2;\n",
              "      height: 32px;\n",
              "      padding: 0 0 0 0;\n",
              "      width: 32px;\n",
              "    }\n",
              "\n",
              "    .colab-df-convert:hover {\n",
              "      background-color: #E2EBFA;\n",
              "      box-shadow: 0px 1px 2px rgba(60, 64, 67, 0.3), 0px 1px 3px 1px rgba(60, 64, 67, 0.15);\n",
              "      fill: #174EA6;\n",
              "    }\n",
              "\n",
              "    [theme=dark] .colab-df-convert {\n",
              "      background-color: #3B4455;\n",
              "      fill: #D2E3FC;\n",
              "    }\n",
              "\n",
              "    [theme=dark] .colab-df-convert:hover {\n",
              "      background-color: #434B5C;\n",
              "      box-shadow: 0px 1px 3px 1px rgba(0, 0, 0, 0.15);\n",
              "      filter: drop-shadow(0px 1px 2px rgba(0, 0, 0, 0.3));\n",
              "      fill: #FFFFFF;\n",
              "    }\n",
              "  </style>\n",
              "\n",
              "      <script>\n",
              "        const buttonEl =\n",
              "          document.querySelector('#df-42ae2509-f71c-4b05-a463-658920c2e67c button.colab-df-convert');\n",
              "        buttonEl.style.display =\n",
              "          google.colab.kernel.accessAllowed ? 'block' : 'none';\n",
              "\n",
              "        async function convertToInteractive(key) {\n",
              "          const element = document.querySelector('#df-42ae2509-f71c-4b05-a463-658920c2e67c');\n",
              "          const dataTable =\n",
              "            await google.colab.kernel.invokeFunction('convertToInteractive',\n",
              "                                                     [key], {});\n",
              "          if (!dataTable) return;\n",
              "\n",
              "          const docLinkHtml = 'Like what you see? Visit the ' +\n",
              "            '<a target=\"_blank\" href=https://colab.research.google.com/notebooks/data_table.ipynb>data table notebook</a>'\n",
              "            + ' to learn more about interactive tables.';\n",
              "          element.innerHTML = '';\n",
              "          dataTable['output_type'] = 'display_data';\n",
              "          await google.colab.output.renderOutput(dataTable, element);\n",
              "          const docLink = document.createElement('div');\n",
              "          docLink.innerHTML = docLinkHtml;\n",
              "          element.appendChild(docLink);\n",
              "        }\n",
              "      </script>\n",
              "    </div>\n",
              "  </div>\n",
              "  "
            ]
          },
          "metadata": {},
          "execution_count": 45
        }
      ],
      "source": [
        "regiao_maior_med_gas.nlargest(1, columns = 'valor_de_venda')"
      ]
    },
    {
      "cell_type": "markdown",
      "id": "8py6YqAy73Fg",
      "metadata": {
        "id": "8py6YqAy73Fg"
      },
      "source": [
        "## 8. Qual a região que possui o menor valor médio do etanol?"
      ]
    },
    {
      "cell_type": "code",
      "execution_count": 46,
      "id": "k5-BTd4c-FBb",
      "metadata": {
        "id": "k5-BTd4c-FBb",
        "colab": {
          "base_uri": "https://localhost:8080/",
          "height": 237
        },
        "outputId": "f5c03053-34d5-4885-bedb-4b38d50b2b5c"
      },
      "outputs": [
        {
          "output_type": "execute_result",
          "data": {
            "text/plain": [
              "<pandas.io.formats.style.Styler at 0x7f6ccf41d110>"
            ],
            "text/html": [
              "<style type=\"text/css\">\n",
              "#T_ab14d_row0_col0 {\n",
              "  background-color: #f7fcfd;\n",
              "  color: #000000;\n",
              "}\n",
              "#T_ab14d_row1_col0 {\n",
              "  background-color: #f1f8fb;\n",
              "  color: #000000;\n",
              "}\n",
              "#T_ab14d_row2_col0 {\n",
              "  background-color: #8c75b6;\n",
              "  color: #f1f1f1;\n",
              "}\n",
              "#T_ab14d_row3_col0 {\n",
              "  background-color: #6c0968;\n",
              "  color: #f1f1f1;\n",
              "}\n",
              "#T_ab14d_row4_col0 {\n",
              "  background-color: #4d004b;\n",
              "  color: #f1f1f1;\n",
              "}\n",
              "</style>\n",
              "<table id=\"T_ab14d_\" class=\"dataframe\">\n",
              "  <thead>\n",
              "    <tr>\n",
              "      <th class=\"blank\" >&nbsp;</th>\n",
              "      <th class=\"blank level0\" >&nbsp;</th>\n",
              "      <th class=\"col_heading level0 col0\" >valor_de_venda</th>\n",
              "    </tr>\n",
              "    <tr>\n",
              "      <th class=\"index_name level0\" >regiao_sigla</th>\n",
              "      <th class=\"index_name level1\" >produto</th>\n",
              "      <th class=\"blank col0\" >&nbsp;</th>\n",
              "    </tr>\n",
              "  </thead>\n",
              "  <tbody>\n",
              "    <tr>\n",
              "      <th id=\"T_ab14d_level0_row0\" class=\"row_heading level0 row0\" >CO: Centro-Oeste</th>\n",
              "      <th id=\"T_ab14d_level1_row0\" class=\"row_heading level1 row0\" >ETANOL</th>\n",
              "      <td id=\"T_ab14d_row0_col0\" class=\"data row0 col0\" >4.107000</td>\n",
              "    </tr>\n",
              "    <tr>\n",
              "      <th id=\"T_ab14d_level0_row1\" class=\"row_heading level0 row1\" >SE: Sudeste</th>\n",
              "      <th id=\"T_ab14d_level1_row1\" class=\"row_heading level1 row1\" >ETANOL</th>\n",
              "      <td id=\"T_ab14d_row1_col0\" class=\"data row1 col0\" >4.150000</td>\n",
              "    </tr>\n",
              "    <tr>\n",
              "      <th id=\"T_ab14d_level0_row2\" class=\"row_heading level0 row2\" >S: Sul</th>\n",
              "      <th id=\"T_ab14d_level1_row2\" class=\"row_heading level1 row2\" >ETANOL</th>\n",
              "      <td id=\"T_ab14d_row2_col0\" class=\"data row2 col0\" >4.842000</td>\n",
              "    </tr>\n",
              "    <tr>\n",
              "      <th id=\"T_ab14d_level0_row3\" class=\"row_heading level0 row3\" >NE: Nordeste</th>\n",
              "      <th id=\"T_ab14d_level1_row3\" class=\"row_heading level1 row3\" >ETANOL</th>\n",
              "      <td id=\"T_ab14d_row3_col0\" class=\"data row3 col0\" >5.246000</td>\n",
              "    </tr>\n",
              "    <tr>\n",
              "      <th id=\"T_ab14d_level0_row4\" class=\"row_heading level0 row4\" >N: Norte</th>\n",
              "      <th id=\"T_ab14d_level1_row4\" class=\"row_heading level1 row4\" >ETANOL</th>\n",
              "      <td id=\"T_ab14d_row4_col0\" class=\"data row4 col0\" >5.341000</td>\n",
              "    </tr>\n",
              "  </tbody>\n",
              "</table>\n"
            ]
          },
          "metadata": {},
          "execution_count": 46
        }
      ],
      "source": [
        "# 8. Qual a região que possui o menor valor médio do etanol?\n",
        "regiao_menor_med_etanol = dados[dados['produto']=='ETANOL'].groupby(['regiao_sigla', 'produto']).aggregate( {\"valor_de_venda\":\"mean\"}).round(3).sort_values('valor_de_venda')\n",
        "regiao_menor_med_etanol.style.background_gradient(cmap='BuPu')"
      ]
    },
    {
      "cell_type": "code",
      "execution_count": 47,
      "id": "2lFlLtip-HyW",
      "metadata": {
        "id": "2lFlLtip-HyW",
        "colab": {
          "base_uri": "https://localhost:8080/",
          "height": 112
        },
        "outputId": "e28216f2-a735-4e95-c65f-8be6ce67535c"
      },
      "outputs": [
        {
          "output_type": "execute_result",
          "data": {
            "text/plain": [
              "                          valor_de_venda\n",
              "regiao_sigla     produto                \n",
              "CO: Centro-Oeste ETANOL            4.107"
            ],
            "text/html": [
              "\n",
              "  <div id=\"df-1c901f75-d3f9-4dbc-9881-d42abbfcbca8\">\n",
              "    <div class=\"colab-df-container\">\n",
              "      <div>\n",
              "<style scoped>\n",
              "    .dataframe tbody tr th:only-of-type {\n",
              "        vertical-align: middle;\n",
              "    }\n",
              "\n",
              "    .dataframe tbody tr th {\n",
              "        vertical-align: top;\n",
              "    }\n",
              "\n",
              "    .dataframe thead th {\n",
              "        text-align: right;\n",
              "    }\n",
              "</style>\n",
              "<table border=\"1\" class=\"dataframe\">\n",
              "  <thead>\n",
              "    <tr style=\"text-align: right;\">\n",
              "      <th></th>\n",
              "      <th></th>\n",
              "      <th>valor_de_venda</th>\n",
              "    </tr>\n",
              "    <tr>\n",
              "      <th>regiao_sigla</th>\n",
              "      <th>produto</th>\n",
              "      <th></th>\n",
              "    </tr>\n",
              "  </thead>\n",
              "  <tbody>\n",
              "    <tr>\n",
              "      <th>CO: Centro-Oeste</th>\n",
              "      <th>ETANOL</th>\n",
              "      <td>4.107</td>\n",
              "    </tr>\n",
              "  </tbody>\n",
              "</table>\n",
              "</div>\n",
              "      <button class=\"colab-df-convert\" onclick=\"convertToInteractive('df-1c901f75-d3f9-4dbc-9881-d42abbfcbca8')\"\n",
              "              title=\"Convert this dataframe to an interactive table.\"\n",
              "              style=\"display:none;\">\n",
              "        \n",
              "  <svg xmlns=\"http://www.w3.org/2000/svg\" height=\"24px\"viewBox=\"0 0 24 24\"\n",
              "       width=\"24px\">\n",
              "    <path d=\"M0 0h24v24H0V0z\" fill=\"none\"/>\n",
              "    <path d=\"M18.56 5.44l.94 2.06.94-2.06 2.06-.94-2.06-.94-.94-2.06-.94 2.06-2.06.94zm-11 1L8.5 8.5l.94-2.06 2.06-.94-2.06-.94L8.5 2.5l-.94 2.06-2.06.94zm10 10l.94 2.06.94-2.06 2.06-.94-2.06-.94-.94-2.06-.94 2.06-2.06.94z\"/><path d=\"M17.41 7.96l-1.37-1.37c-.4-.4-.92-.59-1.43-.59-.52 0-1.04.2-1.43.59L10.3 9.45l-7.72 7.72c-.78.78-.78 2.05 0 2.83L4 21.41c.39.39.9.59 1.41.59.51 0 1.02-.2 1.41-.59l7.78-7.78 2.81-2.81c.8-.78.8-2.07 0-2.86zM5.41 20L4 18.59l7.72-7.72 1.47 1.35L5.41 20z\"/>\n",
              "  </svg>\n",
              "      </button>\n",
              "      \n",
              "  <style>\n",
              "    .colab-df-container {\n",
              "      display:flex;\n",
              "      flex-wrap:wrap;\n",
              "      gap: 12px;\n",
              "    }\n",
              "\n",
              "    .colab-df-convert {\n",
              "      background-color: #E8F0FE;\n",
              "      border: none;\n",
              "      border-radius: 50%;\n",
              "      cursor: pointer;\n",
              "      display: none;\n",
              "      fill: #1967D2;\n",
              "      height: 32px;\n",
              "      padding: 0 0 0 0;\n",
              "      width: 32px;\n",
              "    }\n",
              "\n",
              "    .colab-df-convert:hover {\n",
              "      background-color: #E2EBFA;\n",
              "      box-shadow: 0px 1px 2px rgba(60, 64, 67, 0.3), 0px 1px 3px 1px rgba(60, 64, 67, 0.15);\n",
              "      fill: #174EA6;\n",
              "    }\n",
              "\n",
              "    [theme=dark] .colab-df-convert {\n",
              "      background-color: #3B4455;\n",
              "      fill: #D2E3FC;\n",
              "    }\n",
              "\n",
              "    [theme=dark] .colab-df-convert:hover {\n",
              "      background-color: #434B5C;\n",
              "      box-shadow: 0px 1px 3px 1px rgba(0, 0, 0, 0.15);\n",
              "      filter: drop-shadow(0px 1px 2px rgba(0, 0, 0, 0.3));\n",
              "      fill: #FFFFFF;\n",
              "    }\n",
              "  </style>\n",
              "\n",
              "      <script>\n",
              "        const buttonEl =\n",
              "          document.querySelector('#df-1c901f75-d3f9-4dbc-9881-d42abbfcbca8 button.colab-df-convert');\n",
              "        buttonEl.style.display =\n",
              "          google.colab.kernel.accessAllowed ? 'block' : 'none';\n",
              "\n",
              "        async function convertToInteractive(key) {\n",
              "          const element = document.querySelector('#df-1c901f75-d3f9-4dbc-9881-d42abbfcbca8');\n",
              "          const dataTable =\n",
              "            await google.colab.kernel.invokeFunction('convertToInteractive',\n",
              "                                                     [key], {});\n",
              "          if (!dataTable) return;\n",
              "\n",
              "          const docLinkHtml = 'Like what you see? Visit the ' +\n",
              "            '<a target=\"_blank\" href=https://colab.research.google.com/notebooks/data_table.ipynb>data table notebook</a>'\n",
              "            + ' to learn more about interactive tables.';\n",
              "          element.innerHTML = '';\n",
              "          dataTable['output_type'] = 'display_data';\n",
              "          await google.colab.output.renderOutput(dataTable, element);\n",
              "          const docLink = document.createElement('div');\n",
              "          docLink.innerHTML = docLinkHtml;\n",
              "          element.appendChild(docLink);\n",
              "        }\n",
              "      </script>\n",
              "    </div>\n",
              "  </div>\n",
              "  "
            ]
          },
          "metadata": {},
          "execution_count": 47
        }
      ],
      "source": [
        "regiao_menor_med_etanol.nsmallest(1, columns = 'valor_de_venda')"
      ]
    },
    {
      "cell_type": "code",
      "execution_count": 48,
      "id": "DWwal_4j-LSX",
      "metadata": {
        "id": "DWwal_4j-LSX"
      },
      "outputs": [],
      "source": [
        "vl_medio_regiao = dados.groupby(['regiao_sigla', 'produto'])['valor_de_venda'].mean().reset_index()"
      ]
    },
    {
      "cell_type": "code",
      "execution_count": 49,
      "id": "grko1eZG-PyJ",
      "metadata": {
        "id": "grko1eZG-PyJ",
        "colab": {
          "base_uri": "https://localhost:8080/",
          "height": 694
        },
        "outputId": "b7616e4c-752c-41ef-86e2-710aa14bd85c"
      },
      "outputs": [
        {
          "output_type": "display_data",
          "data": {
            "text/plain": [
              "<Figure size 2160x1080 with 1 Axes>"
            ],
            "image/png": "[encoded data removed]"
          },
          "metadata": {
            "needs_background": "light"
          }
        }
      ],
      "source": [
        "grafico_val_med_reg = plt.figure(figsize=(30,15))\n",
        "plt.title('PREÇO MÉDIO - GASOLINA COMUM x ETANOL x GASOLINA ADITIVADA', loc='left', fontsize=45)\n",
        "sns.set(font_scale=3)\n",
        "sns.barplot(y='valor_de_venda', x='regiao_sigla', hue='produto',  data = vl_medio_regiao, palette='plasma');\n",
        "plt.ylabel('VALOR MÉDIO DA GASOLINA')\n",
        "plt.xlabel('REGIÃO')\n",
        "plt.legend(title=\"PRODUTO\", loc='lower left')\n",
        "\n",
        "plt.tight_layout()"
      ]
    },
    {
      "cell_type": "markdown",
      "source": [
        "## 9. Há alguma correlação entre o valor do combustível (gasolina e etanol) e a região onde ele é vendido?"
      ],
      "metadata": {
        "id": "9hO37CFs3g0a"
      },
      "id": "9hO37CFs3g0a"
    },
    {
      "cell_type": "code",
      "source": [
        "dados.groupby(['regiao_sigla', 'produto', pd.Grouper(key='data_da_coleta', freq='M')]).agg({'valor_de_venda' : 'mean'})"
      ],
      "metadata": {
        "colab": {
          "base_uri": "https://localhost:8080/",
          "height": 1000
        },
        "id": "tvV2UjjW3758",
        "outputId": "00b9f884-b5e2-47fe-b879-c5f79e1f0a39"
      },
      "id": "tvV2UjjW3758",
      "execution_count": 57,
      "outputs": [
        {
          "output_type": "execute_result",
          "data": {
            "text/plain": [
              "                                                    valor_de_venda\n",
              "regiao_sigla     produto            data_da_coleta                \n",
              "CO: Centro-Oeste ETANOL             2022-07-31            4.324710\n",
              "                                    2022-08-31            3.927304\n",
              "                 GASOLINA           2022-07-31            5.894329\n",
              "                                    2022-08-31            5.321278\n",
              "                 GASOLINA ADITIVADA 2022-07-31            6.034480\n",
              "                                    2022-08-31            5.460218\n",
              "N: Norte         ETANOL             2022-07-31            5.637043\n",
              "                                    2022-08-31            5.098576\n",
              "                 GASOLINA           2022-07-31            6.322346\n",
              "                                    2022-08-31            5.686267\n",
              "                 GASOLINA ADITIVADA 2022-07-31            6.457643\n",
              "                                    2022-08-31            5.817659\n",
              "NE: Nordeste     ETANOL             2022-07-31            5.605162\n",
              "                                    2022-08-31            4.951936\n",
              "                 GASOLINA           2022-07-31            6.443064\n",
              "                                    2022-08-31            5.553415\n",
              "                 GASOLINA ADITIVADA 2022-07-31            6.600561\n",
              "                                    2022-08-31            5.705540\n",
              "S: Sul           ETANOL             2022-07-31            5.104525\n",
              "                                    2022-08-31            4.622566\n",
              "                 GASOLINA           2022-07-31            5.939016\n",
              "                                    2022-08-31            5.388389\n",
              "                 GASOLINA ADITIVADA 2022-07-31            6.079456\n",
              "                                    2022-08-31            5.520075\n",
              "SE: Sudeste      ETANOL             2022-07-31            4.364011\n",
              "                                    2022-08-31            3.973156\n",
              "                 GASOLINA           2022-07-31            5.926829\n",
              "                                    2022-08-31            5.358708\n",
              "                 GASOLINA ADITIVADA 2022-07-31            6.140690\n",
              "                                    2022-08-31            5.568004"
            ],
            "text/html": [
              "\n",
              "  <div id=\"df-787acc13-ae99-4168-8dc5-e0a396ad779e\">\n",
              "    <div class=\"colab-df-container\">\n",
              "      <div>\n",
              "<style scoped>\n",
              "    .dataframe tbody tr th:only-of-type {\n",
              "        vertical-align: middle;\n",
              "    }\n",
              "\n",
              "    .dataframe tbody tr th {\n",
              "        vertical-align: top;\n",
              "    }\n",
              "\n",
              "    .dataframe thead th {\n",
              "        text-align: right;\n",
              "    }\n",
              "</style>\n",
              "<table border=\"1\" class=\"dataframe\">\n",
              "  <thead>\n",
              "    <tr style=\"text-align: right;\">\n",
              "      <th></th>\n",
              "      <th></th>\n",
              "      <th></th>\n",
              "      <th>valor_de_venda</th>\n",
              "    </tr>\n",
              "    <tr>\n",
              "      <th>regiao_sigla</th>\n",
              "      <th>produto</th>\n",
              "      <th>data_da_coleta</th>\n",
              "      <th></th>\n",
              "    </tr>\n",
              "  </thead>\n",
              "  <tbody>\n",
              "    <tr>\n",
              "      <th rowspan=\"6\" valign=\"top\">CO: Centro-Oeste</th>\n",
              "      <th rowspan=\"2\" valign=\"top\">ETANOL</th>\n",
              "      <th>2022-07-31</th>\n",
              "      <td>4.324710</td>\n",
              "    </tr>\n",
              "    <tr>\n",
              "      <th>2022-08-31</th>\n",
              "      <td>3.927304</td>\n",
              "    </tr>\n",
              "    <tr>\n",
              "      <th rowspan=\"2\" valign=\"top\">GASOLINA</th>\n",
              "      <th>2022-07-31</th>\n",
              "      <td>5.894329</td>\n",
              "    </tr>\n",
              "    <tr>\n",
              "      <th>2022-08-31</th>\n",
              "      <td>5.321278</td>\n",
              "    </tr>\n",
              "    <tr>\n",
              "      <th rowspan=\"2\" valign=\"top\">GASOLINA ADITIVADA</th>\n",
              "      <th>2022-07-31</th>\n",
              "      <td>6.034480</td>\n",
              "    </tr>\n",
              "    <tr>\n",
              "      <th>2022-08-31</th>\n",
              "      <td>5.460218</td>\n",
              "    </tr>\n",
              "    <tr>\n",
              "      <th rowspan=\"6\" valign=\"top\">N: Norte</th>\n",
              "      <th rowspan=\"2\" valign=\"top\">ETANOL</th>\n",
              "      <th>2022-07-31</th>\n",
              "      <td>5.637043</td>\n",
              "    </tr>\n",
              "    <tr>\n",
              "      <th>2022-08-31</th>\n",
              "      <td>5.098576</td>\n",
              "    </tr>\n",
              "    <tr>\n",
              "      <th rowspan=\"2\" valign=\"top\">GASOLINA</th>\n",
              "      <th>2022-07-31</th>\n",
              "      <td>6.322346</td>\n",
              "    </tr>\n",
              "    <tr>\n",
              "      <th>2022-08-31</th>\n",
              "      <td>5.686267</td>\n",
              "    </tr>\n",
              "    <tr>\n",
              "      <th rowspan=\"2\" valign=\"top\">GASOLINA ADITIVADA</th>\n",
              "      <th>2022-07-31</th>\n",
              "      <td>6.457643</td>\n",
              "    </tr>\n",
              "    <tr>\n",
              "      <th>2022-08-31</th>\n",
              "      <td>5.817659</td>\n",
              "    </tr>\n",
              "    <tr>\n",
              "      <th rowspan=\"6\" valign=\"top\">NE: Nordeste</th>\n",
              "      <th rowspan=\"2\" valign=\"top\">ETANOL</th>\n",
              "      <th>2022-07-31</th>\n",
              "      <td>5.605162</td>\n",
              "    </tr>\n",
              "    <tr>\n",
              "      <th>2022-08-31</th>\n",
              "      <td>4.951936</td>\n",
              "    </tr>\n",
              "    <tr>\n",
              "      <th rowspan=\"2\" valign=\"top\">GASOLINA</th>\n",
              "      <th>2022-07-31</th>\n",
              "      <td>6.443064</td>\n",
              "    </tr>\n",
              "    <tr>\n",
              "      <th>2022-08-31</th>\n",
              "      <td>5.553415</td>\n",
              "    </tr>\n",
              "    <tr>\n",
              "      <th rowspan=\"2\" valign=\"top\">GASOLINA ADITIVADA</th>\n",
              "      <th>2022-07-31</th>\n",
              "      <td>6.600561</td>\n",
              "    </tr>\n",
              "    <tr>\n",
              "      <th>2022-08-31</th>\n",
              "      <td>5.705540</td>\n",
              "    </tr>\n",
              "    <tr>\n",
              "      <th rowspan=\"6\" valign=\"top\">S: Sul</th>\n",
              "      <th rowspan=\"2\" valign=\"top\">ETANOL</th>\n",
              "      <th>2022-07-31</th>\n",
              "      <td>5.104525</td>\n",
              "    </tr>\n",
              "    <tr>\n",
              "      <th>2022-08-31</th>\n",
              "      <td>4.622566</td>\n",
              "    </tr>\n",
              "    <tr>\n",
              "      <th rowspan=\"2\" valign=\"top\">GASOLINA</th>\n",
              "      <th>2022-07-31</th>\n",
              "      <td>5.939016</td>\n",
              "    </tr>\n",
              "    <tr>\n",
              "      <th>2022-08-31</th>\n",
              "      <td>5.388389</td>\n",
              "    </tr>\n",
              "    <tr>\n",
              "      <th rowspan=\"2\" valign=\"top\">GASOLINA ADITIVADA</th>\n",
              "      <th>2022-07-31</th>\n",
              "      <td>6.079456</td>\n",
              "    </tr>\n",
              "    <tr>\n",
              "      <th>2022-08-31</th>\n",
              "      <td>5.520075</td>\n",
              "    </tr>\n",
              "    <tr>\n",
              "      <th rowspan=\"6\" valign=\"top\">SE: Sudeste</th>\n",
              "      <th rowspan=\"2\" valign=\"top\">ETANOL</th>\n",
              "      <th>2022-07-31</th>\n",
              "      <td>4.364011</td>\n",
              "    </tr>\n",
              "    <tr>\n",
              "      <th>2022-08-31</th>\n",
              "      <td>3.973156</td>\n",
              "    </tr>\n",
              "    <tr>\n",
              "      <th rowspan=\"2\" valign=\"top\">GASOLINA</th>\n",
              "      <th>2022-07-31</th>\n",
              "      <td>5.926829</td>\n",
              "    </tr>\n",
              "    <tr>\n",
              "      <th>2022-08-31</th>\n",
              "      <td>5.358708</td>\n",
              "    </tr>\n",
              "    <tr>\n",
              "      <th rowspan=\"2\" valign=\"top\">GASOLINA ADITIVADA</th>\n",
              "      <th>2022-07-31</th>\n",
              "      <td>6.140690</td>\n",
              "    </tr>\n",
              "    <tr>\n",
              "      <th>2022-08-31</th>\n",
              "      <td>5.568004</td>\n",
              "    </tr>\n",
              "  </tbody>\n",
              "</table>\n",
              "</div>\n",
              "      <button class=\"colab-df-convert\" onclick=\"convertToInteractive('df-787acc13-ae99-4168-8dc5-e0a396ad779e')\"\n",
              "              title=\"Convert this dataframe to an interactive table.\"\n",
              "              style=\"display:none;\">\n",
              "        \n",
              "  <svg xmlns=\"http://www.w3.org/2000/svg\" height=\"24px\"viewBox=\"0 0 24 24\"\n",
              "       width=\"24px\">\n",
              "    <path d=\"M0 0h24v24H0V0z\" fill=\"none\"/>\n",
              "    <path d=\"M18.56 5.44l.94 2.06.94-2.06 2.06-.94-2.06-.94-.94-2.06-.94 2.06-2.06.94zm-11 1L8.5 8.5l.94-2.06 2.06-.94-2.06-.94L8.5 2.5l-.94 2.06-2.06.94zm10 10l.94 2.06.94-2.06 2.06-.94-2.06-.94-.94-2.06-.94 2.06-2.06.94z\"/><path d=\"M17.41 7.96l-1.37-1.37c-.4-.4-.92-.59-1.43-.59-.52 0-1.04.2-1.43.59L10.3 9.45l-7.72 7.72c-.78.78-.78 2.05 0 2.83L4 21.41c.39.39.9.59 1.41.59.51 0 1.02-.2 1.41-.59l7.78-7.78 2.81-2.81c.8-.78.8-2.07 0-2.86zM5.41 20L4 18.59l7.72-7.72 1.47 1.35L5.41 20z\"/>\n",
              "  </svg>\n",
              "      </button>\n",
              "      \n",
              "  <style>\n",
              "    .colab-df-container {\n",
              "      display:flex;\n",
              "      flex-wrap:wrap;\n",
              "      gap: 12px;\n",
              "    }\n",
              "\n",
              "    .colab-df-convert {\n",
              "      background-color: #E8F0FE;\n",
              "      border: none;\n",
              "      border-radius: 50%;\n",
              "      cursor: pointer;\n",
              "      display: none;\n",
              "      fill: #1967D2;\n",
              "      height: 32px;\n",
              "      padding: 0 0 0 0;\n",
              "      width: 32px;\n",
              "    }\n",
              "\n",
              "    .colab-df-convert:hover {\n",
              "      background-color: #E2EBFA;\n",
              "      box-shadow: 0px 1px 2px rgba(60, 64, 67, 0.3), 0px 1px 3px 1px rgba(60, 64, 67, 0.15);\n",
              "      fill: #174EA6;\n",
              "    }\n",
              "\n",
              "    [theme=dark] .colab-df-convert {\n",
              "      background-color: #3B4455;\n",
              "      fill: #D2E3FC;\n",
              "    }\n",
              "\n",
              "    [theme=dark] .colab-df-convert:hover {\n",
              "      background-color: #434B5C;\n",
              "      box-shadow: 0px 1px 3px 1px rgba(0, 0, 0, 0.15);\n",
              "      filter: drop-shadow(0px 1px 2px rgba(0, 0, 0, 0.3));\n",
              "      fill: #FFFFFF;\n",
              "    }\n",
              "  </style>\n",
              "\n",
              "      <script>\n",
              "        const buttonEl =\n",
              "          document.querySelector('#df-787acc13-ae99-4168-8dc5-e0a396ad779e button.colab-df-convert');\n",
              "        buttonEl.style.display =\n",
              "          google.colab.kernel.accessAllowed ? 'block' : 'none';\n",
              "\n",
              "        async function convertToInteractive(key) {\n",
              "          const element = document.querySelector('#df-787acc13-ae99-4168-8dc5-e0a396ad779e');\n",
              "          const dataTable =\n",
              "            await google.colab.kernel.invokeFunction('convertToInteractive',\n",
              "                                                     [key], {});\n",
              "          if (!dataTable) return;\n",
              "\n",
              "          const docLinkHtml = 'Like what you see? Visit the ' +\n",
              "            '<a target=\"_blank\" href=https://colab.research.google.com/notebooks/data_table.ipynb>data table notebook</a>'\n",
              "            + ' to learn more about interactive tables.';\n",
              "          element.innerHTML = '';\n",
              "          dataTable['output_type'] = 'display_data';\n",
              "          await google.colab.output.renderOutput(dataTable, element);\n",
              "          const docLink = document.createElement('div');\n",
              "          docLink.innerHTML = docLinkHtml;\n",
              "          element.appendChild(docLink);\n",
              "        }\n",
              "      </script>\n",
              "    </div>\n",
              "  </div>\n",
              "  "
            ]
          },
          "metadata": {},
          "execution_count": 57
        }
      ]
    },
    {
      "cell_type": "markdown",
      "source": [
        "## 10. Há alguma correlação entre o valor do combustível (gasolina e etanol) e a bandeira que vende ele?"
      ],
      "metadata": {
        "id": "5H7ztnir5JAq"
      },
      "id": "5H7ztnir5JAq"
    },
    {
      "cell_type": "code",
      "source": [
        "dados_brutos.groupby(['bandeira', 'produto', pd.Grouper(key='data_da_coleta', freq='M')]).agg({'valor_de_venda' : 'mean'})"
      ],
      "metadata": {
        "colab": {
          "base_uri": "https://localhost:8080/",
          "height": 455
        },
        "id": "bsn5Mu9Z5Xz2",
        "outputId": "f0b4dce0-4da3-49c7-ce3a-a60435672ce6"
      },
      "id": "bsn5Mu9Z5Xz2",
      "execution_count": 56,
      "outputs": [
        {
          "output_type": "execute_result",
          "data": {
            "text/plain": [
              "                                            valor_de_venda\n",
              "bandeira produto            data_da_coleta                \n",
              "ALESAT   ETANOL             2022-07-31            4.956206\n",
              "                            2022-08-31            4.409747\n",
              "         GASOLINA           2022-07-31            6.192303\n",
              "                            2022-08-31            5.467695\n",
              "         GASOLINA ADITIVADA 2022-07-31            6.299700\n",
              "...                                                    ...\n",
              "WATT     ETANOL             2022-08-31            3.983333\n",
              "         GASOLINA           2022-07-31            6.400000\n",
              "                            2022-08-31            5.716667\n",
              "         GASOLINA ADITIVADA 2022-07-31            7.630000\n",
              "                            2022-08-31            6.290000\n",
              "\n",
              "[283 rows x 1 columns]"
            ],
            "text/html": [
              "\n",
              "  <div id=\"df-dec168dd-da65-4419-8b4e-2011dd6d78b9\">\n",
              "    <div class=\"colab-df-container\">\n",
              "      <div>\n",
              "<style scoped>\n",
              "    .dataframe tbody tr th:only-of-type {\n",
              "        vertical-align: middle;\n",
              "    }\n",
              "\n",
              "    .dataframe tbody tr th {\n",
              "        vertical-align: top;\n",
              "    }\n",
              "\n",
              "    .dataframe thead th {\n",
              "        text-align: right;\n",
              "    }\n",
              "</style>\n",
              "<table border=\"1\" class=\"dataframe\">\n",
              "  <thead>\n",
              "    <tr style=\"text-align: right;\">\n",
              "      <th></th>\n",
              "      <th></th>\n",
              "      <th></th>\n",
              "      <th>valor_de_venda</th>\n",
              "    </tr>\n",
              "    <tr>\n",
              "      <th>bandeira</th>\n",
              "      <th>produto</th>\n",
              "      <th>data_da_coleta</th>\n",
              "      <th></th>\n",
              "    </tr>\n",
              "  </thead>\n",
              "  <tbody>\n",
              "    <tr>\n",
              "      <th rowspan=\"5\" valign=\"top\">ALESAT</th>\n",
              "      <th rowspan=\"2\" valign=\"top\">ETANOL</th>\n",
              "      <th>2022-07-31</th>\n",
              "      <td>4.956206</td>\n",
              "    </tr>\n",
              "    <tr>\n",
              "      <th>2022-08-31</th>\n",
              "      <td>4.409747</td>\n",
              "    </tr>\n",
              "    <tr>\n",
              "      <th rowspan=\"2\" valign=\"top\">GASOLINA</th>\n",
              "      <th>2022-07-31</th>\n",
              "      <td>6.192303</td>\n",
              "    </tr>\n",
              "    <tr>\n",
              "      <th>2022-08-31</th>\n",
              "      <td>5.467695</td>\n",
              "    </tr>\n",
              "    <tr>\n",
              "      <th>GASOLINA ADITIVADA</th>\n",
              "      <th>2022-07-31</th>\n",
              "      <td>6.299700</td>\n",
              "    </tr>\n",
              "    <tr>\n",
              "      <th>...</th>\n",
              "      <th>...</th>\n",
              "      <th>...</th>\n",
              "      <td>...</td>\n",
              "    </tr>\n",
              "    <tr>\n",
              "      <th rowspan=\"5\" valign=\"top\">WATT</th>\n",
              "      <th>ETANOL</th>\n",
              "      <th>2022-08-31</th>\n",
              "      <td>3.983333</td>\n",
              "    </tr>\n",
              "    <tr>\n",
              "      <th rowspan=\"2\" valign=\"top\">GASOLINA</th>\n",
              "      <th>2022-07-31</th>\n",
              "      <td>6.400000</td>\n",
              "    </tr>\n",
              "    <tr>\n",
              "      <th>2022-08-31</th>\n",
              "      <td>5.716667</td>\n",
              "    </tr>\n",
              "    <tr>\n",
              "      <th rowspan=\"2\" valign=\"top\">GASOLINA ADITIVADA</th>\n",
              "      <th>2022-07-31</th>\n",
              "      <td>7.630000</td>\n",
              "    </tr>\n",
              "    <tr>\n",
              "      <th>2022-08-31</th>\n",
              "      <td>6.290000</td>\n",
              "    </tr>\n",
              "  </tbody>\n",
              "</table>\n",
              "<p>283 rows × 1 columns</p>\n",
              "</div>\n",
              "      <button class=\"colab-df-convert\" onclick=\"convertToInteractive('df-dec168dd-da65-4419-8b4e-2011dd6d78b9')\"\n",
              "              title=\"Convert this dataframe to an interactive table.\"\n",
              "              style=\"display:none;\">\n",
              "        \n",
              "  <svg xmlns=\"http://www.w3.org/2000/svg\" height=\"24px\"viewBox=\"0 0 24 24\"\n",
              "       width=\"24px\">\n",
              "    <path d=\"M0 0h24v24H0V0z\" fill=\"none\"/>\n",
              "    <path d=\"M18.56 5.44l.94 2.06.94-2.06 2.06-.94-2.06-.94-.94-2.06-.94 2.06-2.06.94zm-11 1L8.5 8.5l.94-2.06 2.06-.94-2.06-.94L8.5 2.5l-.94 2.06-2.06.94zm10 10l.94 2.06.94-2.06 2.06-.94-2.06-.94-.94-2.06-.94 2.06-2.06.94z\"/><path d=\"M17.41 7.96l-1.37-1.37c-.4-.4-.92-.59-1.43-.59-.52 0-1.04.2-1.43.59L10.3 9.45l-7.72 7.72c-.78.78-.78 2.05 0 2.83L4 21.41c.39.39.9.59 1.41.59.51 0 1.02-.2 1.41-.59l7.78-7.78 2.81-2.81c.8-.78.8-2.07 0-2.86zM5.41 20L4 18.59l7.72-7.72 1.47 1.35L5.41 20z\"/>\n",
              "  </svg>\n",
              "      </button>\n",
              "      \n",
              "  <style>\n",
              "    .colab-df-container {\n",
              "      display:flex;\n",
              "      flex-wrap:wrap;\n",
              "      gap: 12px;\n",
              "    }\n",
              "\n",
              "    .colab-df-convert {\n",
              "      background-color: #E8F0FE;\n",
              "      border: none;\n",
              "      border-radius: 50%;\n",
              "      cursor: pointer;\n",
              "      display: none;\n",
              "      fill: #1967D2;\n",
              "      height: 32px;\n",
              "      padding: 0 0 0 0;\n",
              "      width: 32px;\n",
              "    }\n",
              "\n",
              "    .colab-df-convert:hover {\n",
              "      background-color: #E2EBFA;\n",
              "      box-shadow: 0px 1px 2px rgba(60, 64, 67, 0.3), 0px 1px 3px 1px rgba(60, 64, 67, 0.15);\n",
              "      fill: #174EA6;\n",
              "    }\n",
              "\n",
              "    [theme=dark] .colab-df-convert {\n",
              "      background-color: #3B4455;\n",
              "      fill: #D2E3FC;\n",
              "    }\n",
              "\n",
              "    [theme=dark] .colab-df-convert:hover {\n",
              "      background-color: #434B5C;\n",
              "      box-shadow: 0px 1px 3px 1px rgba(0, 0, 0, 0.15);\n",
              "      filter: drop-shadow(0px 1px 2px rgba(0, 0, 0, 0.3));\n",
              "      fill: #FFFFFF;\n",
              "    }\n",
              "  </style>\n",
              "\n",
              "      <script>\n",
              "        const buttonEl =\n",
              "          document.querySelector('#df-dec168dd-da65-4419-8b4e-2011dd6d78b9 button.colab-df-convert');\n",
              "        buttonEl.style.display =\n",
              "          google.colab.kernel.accessAllowed ? 'block' : 'none';\n",
              "\n",
              "        async function convertToInteractive(key) {\n",
              "          const element = document.querySelector('#df-dec168dd-da65-4419-8b4e-2011dd6d78b9');\n",
              "          const dataTable =\n",
              "            await google.colab.kernel.invokeFunction('convertToInteractive',\n",
              "                                                     [key], {});\n",
              "          if (!dataTable) return;\n",
              "\n",
              "          const docLinkHtml = 'Like what you see? Visit the ' +\n",
              "            '<a target=\"_blank\" href=https://colab.research.google.com/notebooks/data_table.ipynb>data table notebook</a>'\n",
              "            + ' to learn more about interactive tables.';\n",
              "          element.innerHTML = '';\n",
              "          dataTable['output_type'] = 'display_data';\n",
              "          await google.colab.output.renderOutput(dataTable, element);\n",
              "          const docLink = document.createElement('div');\n",
              "          docLink.innerHTML = docLinkHtml;\n",
              "          element.appendChild(docLink);\n",
              "        }\n",
              "      </script>\n",
              "    </div>\n",
              "  </div>\n",
              "  "
            ]
          },
          "metadata": {},
          "execution_count": 56
        }
      ]
    },
    {
      "cell_type": "markdown",
      "id": "5KaqBJbfy4pI",
      "metadata": {
        "id": "5KaqBJbfy4pI"
      },
      "source": [
        "## 11. Aceleração da queda dos preço"
      ]
    },
    {
      "cell_type": "code",
      "execution_count": 51,
      "id": "OIQkYLNE1FYa",
      "metadata": {
        "id": "OIQkYLNE1FYa"
      },
      "outputs": [],
      "source": [
        "def plotagem(titulo, labelx, labely, x, y, dataset):\n",
        "  sns.set_palette('Accent')\n",
        "  sns.set_style('darkgrid')\n",
        "  ax = sns.lineplot(x=x, y=y, data=dataset)\n",
        "  ax.figure.set_size_inches(12,6)\n",
        "  ax.set_title(titulo, loc='left', fontsize=18)\n",
        "  ax.set_xlabel(labelx, fontsize=18)\n",
        "  ax.set_ylabel(labely, fontsize=14)\n",
        "  ax = ax"
      ]
    },
    {
      "cell_type": "code",
      "execution_count": 52,
      "id": "sTpcoLg78e3y",
      "metadata": {
        "colab": {
          "base_uri": "https://localhost:8080/",
          "height": 237
        },
        "id": "sTpcoLg78e3y",
        "outputId": "5e8147f3-40d5-4eaa-9f71-1f888787a87a"
      },
      "outputs": [
        {
          "output_type": "execute_result",
          "data": {
            "text/plain": [
              "                valor_de_venda  variacao\n",
              "data_da_coleta                          \n",
              "2022-07-01                7.48       NaN\n",
              "2022-07-04                6.59     -0.89\n",
              "2022-07-05                6.59      0.00\n",
              "2022-07-06                6.29     -0.30\n",
              "2022-07-07                5.99     -0.30"
            ],
            "text/html": [
              "\n",
              "  <div id=\"df-6503bfed-fcb9-4078-9e5e-402d5b087667\">\n",
              "    <div class=\"colab-df-container\">\n",
              "      <div>\n",
              "<style scoped>\n",
              "    .dataframe tbody tr th:only-of-type {\n",
              "        vertical-align: middle;\n",
              "    }\n",
              "\n",
              "    .dataframe tbody tr th {\n",
              "        vertical-align: top;\n",
              "    }\n",
              "\n",
              "    .dataframe thead th {\n",
              "        text-align: right;\n",
              "    }\n",
              "</style>\n",
              "<table border=\"1\" class=\"dataframe\">\n",
              "  <thead>\n",
              "    <tr style=\"text-align: right;\">\n",
              "      <th></th>\n",
              "      <th>valor_de_venda</th>\n",
              "      <th>variacao</th>\n",
              "    </tr>\n",
              "    <tr>\n",
              "      <th>data_da_coleta</th>\n",
              "      <th></th>\n",
              "      <th></th>\n",
              "    </tr>\n",
              "  </thead>\n",
              "  <tbody>\n",
              "    <tr>\n",
              "      <th>2022-07-01</th>\n",
              "      <td>7.48</td>\n",
              "      <td>NaN</td>\n",
              "    </tr>\n",
              "    <tr>\n",
              "      <th>2022-07-04</th>\n",
              "      <td>6.59</td>\n",
              "      <td>-0.89</td>\n",
              "    </tr>\n",
              "    <tr>\n",
              "      <th>2022-07-05</th>\n",
              "      <td>6.59</td>\n",
              "      <td>0.00</td>\n",
              "    </tr>\n",
              "    <tr>\n",
              "      <th>2022-07-06</th>\n",
              "      <td>6.29</td>\n",
              "      <td>-0.30</td>\n",
              "    </tr>\n",
              "    <tr>\n",
              "      <th>2022-07-07</th>\n",
              "      <td>5.99</td>\n",
              "      <td>-0.30</td>\n",
              "    </tr>\n",
              "  </tbody>\n",
              "</table>\n",
              "</div>\n",
              "      <button class=\"colab-df-convert\" onclick=\"convertToInteractive('df-6503bfed-fcb9-4078-9e5e-402d5b087667')\"\n",
              "              title=\"Convert this dataframe to an interactive table.\"\n",
              "              style=\"display:none;\">\n",
              "        \n",
              "  <svg xmlns=\"http://www.w3.org/2000/svg\" height=\"24px\"viewBox=\"0 0 24 24\"\n",
              "       width=\"24px\">\n",
              "    <path d=\"M0 0h24v24H0V0z\" fill=\"none\"/>\n",
              "    <path d=\"M18.56 5.44l.94 2.06.94-2.06 2.06-.94-2.06-.94-.94-2.06-.94 2.06-2.06.94zm-11 1L8.5 8.5l.94-2.06 2.06-.94-2.06-.94L8.5 2.5l-.94 2.06-2.06.94zm10 10l.94 2.06.94-2.06 2.06-.94-2.06-.94-.94-2.06-.94 2.06-2.06.94z\"/><path d=\"M17.41 7.96l-1.37-1.37c-.4-.4-.92-.59-1.43-.59-.52 0-1.04.2-1.43.59L10.3 9.45l-7.72 7.72c-.78.78-.78 2.05 0 2.83L4 21.41c.39.39.9.59 1.41.59.51 0 1.02-.2 1.41-.59l7.78-7.78 2.81-2.81c.8-.78.8-2.07 0-2.86zM5.41 20L4 18.59l7.72-7.72 1.47 1.35L5.41 20z\"/>\n",
              "  </svg>\n",
              "      </button>\n",
              "      \n",
              "  <style>\n",
              "    .colab-df-container {\n",
              "      display:flex;\n",
              "      flex-wrap:wrap;\n",
              "      gap: 12px;\n",
              "    }\n",
              "\n",
              "    .colab-df-convert {\n",
              "      background-color: #E8F0FE;\n",
              "      border: none;\n",
              "      border-radius: 50%;\n",
              "      cursor: pointer;\n",
              "      display: none;\n",
              "      fill: #1967D2;\n",
              "      height: 32px;\n",
              "      padding: 0 0 0 0;\n",
              "      width: 32px;\n",
              "    }\n",
              "\n",
              "    .colab-df-convert:hover {\n",
              "      background-color: #E2EBFA;\n",
              "      box-shadow: 0px 1px 2px rgba(60, 64, 67, 0.3), 0px 1px 3px 1px rgba(60, 64, 67, 0.15);\n",
              "      fill: #174EA6;\n",
              "    }\n",
              "\n",
              "    [theme=dark] .colab-df-convert {\n",
              "      background-color: #3B4455;\n",
              "      fill: #D2E3FC;\n",
              "    }\n",
              "\n",
              "    [theme=dark] .colab-df-convert:hover {\n",
              "      background-color: #434B5C;\n",
              "      box-shadow: 0px 1px 3px 1px rgba(0, 0, 0, 0.15);\n",
              "      filter: drop-shadow(0px 1px 2px rgba(0, 0, 0, 0.3));\n",
              "      fill: #FFFFFF;\n",
              "    }\n",
              "  </style>\n",
              "\n",
              "      <script>\n",
              "        const buttonEl =\n",
              "          document.querySelector('#df-6503bfed-fcb9-4078-9e5e-402d5b087667 button.colab-df-convert');\n",
              "        buttonEl.style.display =\n",
              "          google.colab.kernel.accessAllowed ? 'block' : 'none';\n",
              "\n",
              "        async function convertToInteractive(key) {\n",
              "          const element = document.querySelector('#df-6503bfed-fcb9-4078-9e5e-402d5b087667');\n",
              "          const dataTable =\n",
              "            await google.colab.kernel.invokeFunction('convertToInteractive',\n",
              "                                                     [key], {});\n",
              "          if (!dataTable) return;\n",
              "\n",
              "          const docLinkHtml = 'Like what you see? Visit the ' +\n",
              "            '<a target=\"_blank\" href=https://colab.research.google.com/notebooks/data_table.ipynb>data table notebook</a>'\n",
              "            + ' to learn more about interactive tables.';\n",
              "          element.innerHTML = '';\n",
              "          dataTable['output_type'] = 'display_data';\n",
              "          await google.colab.output.renderOutput(dataTable, element);\n",
              "          const docLink = document.createElement('div');\n",
              "          docLink.innerHTML = docLinkHtml;\n",
              "          element.appendChild(docLink);\n",
              "        }\n",
              "      </script>\n",
              "    </div>\n",
              "  </div>\n",
              "  "
            ]
          },
          "metadata": {},
          "execution_count": 52
        }
      ],
      "source": [
        "dados_gasolina = dados.query(\"produto == 'GASOLINA'\")\n",
        "dados_valor_medio_gasolina = dados_gasolina.groupby(\"data_da_coleta\").median()\n",
        "dados_valor_medio_gasolina[\"variacao\"] = dados_valor_medio_gasolina['valor_de_venda'].diff()\n",
        "dados_valor_medio_gasolina.head()"
      ]
    },
    {
      "cell_type": "code",
      "execution_count": 53,
      "id": "rhNVEK0s2rXd",
      "metadata": {
        "id": "rhNVEK0s2rXd",
        "colab": {
          "base_uri": "https://localhost:8080/",
          "height": 442
        },
        "outputId": "add5a94a-9a96-4b05-d740-bbc8fbdca333"
      },
      "outputs": [
        {
          "output_type": "display_data",
          "data": {
            "text/plain": [
              "<Figure size 864x432 with 1 Axes>"
            ],
            "image/png": "[encoded data removed]"
          },
          "metadata": {}
        }
      ],
      "source": [
        "plotagem('Variação media do valor de venda da gasolina entre Julho e agosto',\n",
        "         'Tempo',\n",
        "         'Variação',\n",
        "         'data_da_coleta',\n",
        "         'variacao',\n",
        "         dados_valor_medio_gasolina)"
      ]
    },
    {
      "cell_type": "markdown",
      "id": "dX7ppEKe6kVE",
      "metadata": {
        "id": "dX7ppEKe6kVE"
      },
      "source": [
        "## 12. Variação do preço do Etanol"
      ]
    },
    {
      "cell_type": "code",
      "execution_count": 54,
      "id": "gPbHTaxA94Pa",
      "metadata": {
        "colab": {
          "base_uri": "https://localhost:8080/",
          "height": 237
        },
        "id": "gPbHTaxA94Pa",
        "outputId": "18b6ab2a-8ee6-4d26-de20-c6314c76a08f"
      },
      "outputs": [
        {
          "output_type": "execute_result",
          "data": {
            "text/plain": [
              "                valor_de_venda  variacao\n",
              "data_da_coleta                          \n",
              "2022-07-01               5.570       NaN\n",
              "2022-07-04               4.680    -0.890\n",
              "2022-07-05               5.185     0.505\n",
              "2022-07-06               4.750    -0.435\n",
              "2022-07-07               4.755     0.005"
            ],
            "text/html": [
              "\n",
              "  <div id=\"df-3d3a93ae-529e-48e5-8bc9-cffe28f77833\">\n",
              "    <div class=\"colab-df-container\">\n",
              "      <div>\n",
              "<style scoped>\n",
              "    .dataframe tbody tr th:only-of-type {\n",
              "        vertical-align: middle;\n",
              "    }\n",
              "\n",
              "    .dataframe tbody tr th {\n",
              "        vertical-align: top;\n",
              "    }\n",
              "\n",
              "    .dataframe thead th {\n",
              "        text-align: right;\n",
              "    }\n",
              "</style>\n",
              "<table border=\"1\" class=\"dataframe\">\n",
              "  <thead>\n",
              "    <tr style=\"text-align: right;\">\n",
              "      <th></th>\n",
              "      <th>valor_de_venda</th>\n",
              "      <th>variacao</th>\n",
              "    </tr>\n",
              "    <tr>\n",
              "      <th>data_da_coleta</th>\n",
              "      <th></th>\n",
              "      <th></th>\n",
              "    </tr>\n",
              "  </thead>\n",
              "  <tbody>\n",
              "    <tr>\n",
              "      <th>2022-07-01</th>\n",
              "      <td>5.570</td>\n",
              "      <td>NaN</td>\n",
              "    </tr>\n",
              "    <tr>\n",
              "      <th>2022-07-04</th>\n",
              "      <td>4.680</td>\n",
              "      <td>-0.890</td>\n",
              "    </tr>\n",
              "    <tr>\n",
              "      <th>2022-07-05</th>\n",
              "      <td>5.185</td>\n",
              "      <td>0.505</td>\n",
              "    </tr>\n",
              "    <tr>\n",
              "      <th>2022-07-06</th>\n",
              "      <td>4.750</td>\n",
              "      <td>-0.435</td>\n",
              "    </tr>\n",
              "    <tr>\n",
              "      <th>2022-07-07</th>\n",
              "      <td>4.755</td>\n",
              "      <td>0.005</td>\n",
              "    </tr>\n",
              "  </tbody>\n",
              "</table>\n",
              "</div>\n",
              "      <button class=\"colab-df-convert\" onclick=\"convertToInteractive('df-3d3a93ae-529e-48e5-8bc9-cffe28f77833')\"\n",
              "              title=\"Convert this dataframe to an interactive table.\"\n",
              "              style=\"display:none;\">\n",
              "        \n",
              "  <svg xmlns=\"http://www.w3.org/2000/svg\" height=\"24px\"viewBox=\"0 0 24 24\"\n",
              "       width=\"24px\">\n",
              "    <path d=\"M0 0h24v24H0V0z\" fill=\"none\"/>\n",
              "    <path d=\"M18.56 5.44l.94 2.06.94-2.06 2.06-.94-2.06-.94-.94-2.06-.94 2.06-2.06.94zm-11 1L8.5 8.5l.94-2.06 2.06-.94-2.06-.94L8.5 2.5l-.94 2.06-2.06.94zm10 10l.94 2.06.94-2.06 2.06-.94-2.06-.94-.94-2.06-.94 2.06-2.06.94z\"/><path d=\"M17.41 7.96l-1.37-1.37c-.4-.4-.92-.59-1.43-.59-.52 0-1.04.2-1.43.59L10.3 9.45l-7.72 7.72c-.78.78-.78 2.05 0 2.83L4 21.41c.39.39.9.59 1.41.59.51 0 1.02-.2 1.41-.59l7.78-7.78 2.81-2.81c.8-.78.8-2.07 0-2.86zM5.41 20L4 18.59l7.72-7.72 1.47 1.35L5.41 20z\"/>\n",
              "  </svg>\n",
              "      </button>\n",
              "      \n",
              "  <style>\n",
              "    .colab-df-container {\n",
              "      display:flex;\n",
              "      flex-wrap:wrap;\n",
              "      gap: 12px;\n",
              "    }\n",
              "\n",
              "    .colab-df-convert {\n",
              "      background-color: #E8F0FE;\n",
              "      border: none;\n",
              "      border-radius: 50%;\n",
              "      cursor: pointer;\n",
              "      display: none;\n",
              "      fill: #1967D2;\n",
              "      height: 32px;\n",
              "      padding: 0 0 0 0;\n",
              "      width: 32px;\n",
              "    }\n",
              "\n",
              "    .colab-df-convert:hover {\n",
              "      background-color: #E2EBFA;\n",
              "      box-shadow: 0px 1px 2px rgba(60, 64, 67, 0.3), 0px 1px 3px 1px rgba(60, 64, 67, 0.15);\n",
              "      fill: #174EA6;\n",
              "    }\n",
              "\n",
              "    [theme=dark] .colab-df-convert {\n",
              "      background-color: #3B4455;\n",
              "      fill: #D2E3FC;\n",
              "    }\n",
              "\n",
              "    [theme=dark] .colab-df-convert:hover {\n",
              "      background-color: #434B5C;\n",
              "      box-shadow: 0px 1px 3px 1px rgba(0, 0, 0, 0.15);\n",
              "      filter: drop-shadow(0px 1px 2px rgba(0, 0, 0, 0.3));\n",
              "      fill: #FFFFFF;\n",
              "    }\n",
              "  </style>\n",
              "\n",
              "      <script>\n",
              "        const buttonEl =\n",
              "          document.querySelector('#df-3d3a93ae-529e-48e5-8bc9-cffe28f77833 button.colab-df-convert');\n",
              "        buttonEl.style.display =\n",
              "          google.colab.kernel.accessAllowed ? 'block' : 'none';\n",
              "\n",
              "        async function convertToInteractive(key) {\n",
              "          const element = document.querySelector('#df-3d3a93ae-529e-48e5-8bc9-cffe28f77833');\n",
              "          const dataTable =\n",
              "            await google.colab.kernel.invokeFunction('convertToInteractive',\n",
              "                                                     [key], {});\n",
              "          if (!dataTable) return;\n",
              "\n",
              "          const docLinkHtml = 'Like what you see? Visit the ' +\n",
              "            '<a target=\"_blank\" href=https://colab.research.google.com/notebooks/data_table.ipynb>data table notebook</a>'\n",
              "            + ' to learn more about interactive tables.';\n",
              "          element.innerHTML = '';\n",
              "          dataTable['output_type'] = 'display_data';\n",
              "          await google.colab.output.renderOutput(dataTable, element);\n",
              "          const docLink = document.createElement('div');\n",
              "          docLink.innerHTML = docLinkHtml;\n",
              "          element.appendChild(docLink);\n",
              "        }\n",
              "      </script>\n",
              "    </div>\n",
              "  </div>\n",
              "  "
            ]
          },
          "metadata": {},
          "execution_count": 54
        }
      ],
      "source": [
        "dados_etanol = dados.query(\"produto == 'ETANOL'\")\n",
        "dados_valor_medio_etanol = dados_etanol.groupby(\"data_da_coleta\").median()\n",
        "dados_valor_medio_etanol\n",
        "dados_valor_medio_etanol[\"variacao\"] = dados_valor_medio_etanol['valor_de_venda'].diff()\n",
        "dados_valor_medio_etanol.head()"
      ]
    },
    {
      "cell_type": "code",
      "execution_count": 55,
      "id": "5Vv5ZsnD6r66",
      "metadata": {
        "colab": {
          "base_uri": "https://localhost:8080/",
          "height": 442
        },
        "id": "5Vv5ZsnD6r66",
        "outputId": "59ce5bcb-7f16-4d9c-c58e-36faaf5144b6"
      },
      "outputs": [
        {
          "output_type": "display_data",
          "data": {
            "text/plain": [
              "<Figure size 864x432 with 1 Axes>"
            ],
            "image/png": "[encoded data removed]"
          },
          "metadata": {}
        }
      ],
      "source": [
        "plotagem('Variação media do valor de venda da Etanol entre Julho e agosto',\n",
        "         'Tempo',\n",
        "         'Variação',\n",
        "         'data_da_coleta',\n",
        "         'variacao',\n",
        "         dados_valor_medio_etanol)"
      ]
    }
  ],
  "metadata": {
    "colab": {
      "collapsed_sections": [
        "581082a2",
        "19c169b4",
        "29859f30",
        "de72661a",
        "eac24cf0",
        "333ceebc",
        "6380cc97",
        "5a5ce2be",
        "fe4fb906",
        "caecfb3d",
        "428fbdf4",
        "70b18086",
        "d41c799b",
        "B-Hb2sg46qV7",
        "ukomp0ng5txq",
        "KkdEsHVm7Npe",
        "g-gEW7p27eHn",
        "5sse181N_fGo",
        "DV3_aiBs7o1T"
      ],
      "provenance": []
    },
    "kernelspec": {
      "display_name": "Python 3 (ipykernel)",
      "language": "python",
      "name": "python3"
    },
    "language_info": {
      "codemirror_mode": {
        "name": "ipython",
        "version": 3
      },
      "file_extension": ".py",
      "mimetype": "text/x-python",
      "name": "python",
      "nbconvert_exporter": "python",
      "pygments_lexer": "ipython3",
      "version": "3.9.12"
    },
    "vscode": {
      "interpreter": {
        "hash": "26de051ba29f2982a8de78e945f0abaf191376122a1563185a90213a26c5da77"
      }
    }
  },
  "nbformat": 4,
  "nbformat_minor": 5
}
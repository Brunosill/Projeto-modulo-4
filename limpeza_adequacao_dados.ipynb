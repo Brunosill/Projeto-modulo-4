{
 "cells": [
  {
   "cell_type": "markdown",
   "id": "581082a2",
   "metadata": {
    "id": "581082a2"
   },
   "source": [
    "#  Limpeza e adequação da nomenclatura "
   ]
  },
  {
   "cell_type": "markdown",
   "id": "19c169b4",
   "metadata": {
    "id": "19c169b4"
   },
   "source": [
    "## Entrada dos dados"
   ]
  },
  {
   "cell_type": "markdown",
   "id": "29859f30",
   "metadata": {
    "id": "29859f30"
   },
   "source": [
    "### Preparando ambiente"
   ]
  },
  {
   "cell_type": "code",
   "execution_count": 97,
   "id": "56ce07d4",
   "metadata": {
    "executionInfo": {
     "elapsed": 2,
     "status": "ok",
     "timestamp": 1664846379526,
     "user": {
      "displayName": "Stephanie Fernandes",
      "userId": "14058772314077983436"
     },
     "user_tz": 180
    },
    "id": "56ce07d4"
   },
   "outputs": [],
   "source": [
    "#importando bibliotecas \n",
    "import pandas as pd\n",
    "import numpy as np\n",
    "import seaborn as sns\n",
    "import matplotlib.pyplot as plt"
   ]
  },
  {
   "cell_type": "markdown",
   "id": "de72661a",
   "metadata": {
    "id": "de72661a"
   },
   "source": [
    "### Importando dados de julho de 2022"
   ]
  },
  {
   "cell_type": "code",
   "execution_count": 98,
   "id": "9361be54",
   "metadata": {
    "colab": {
     "base_uri": "https://localhost:8080/",
     "height": 328
    },
    "executionInfo": {
     "elapsed": 503,
     "status": "error",
     "timestamp": 1664846380379,
     "user": {
      "displayName": "Stephanie Fernandes",
      "userId": "14058772314077983436"
     },
     "user_tz": 180
    },
    "id": "9361be54",
    "outputId": "c528e25d-19cd-4271-f4d6-127501710e86"
   },
   "outputs": [
    {
     "data": {
      "text/html": [
       "<div>\n",
       "<style scoped>\n",
       "    .dataframe tbody tr th:only-of-type {\n",
       "        vertical-align: middle;\n",
       "    }\n",
       "\n",
       "    .dataframe tbody tr th {\n",
       "        vertical-align: top;\n",
       "    }\n",
       "\n",
       "    .dataframe thead th {\n",
       "        text-align: right;\n",
       "    }\n",
       "</style>\n",
       "<table border=\"1\" class=\"dataframe\">\n",
       "  <thead>\n",
       "    <tr style=\"text-align: right;\">\n",
       "      <th></th>\n",
       "      <th>Regiao - Sigla</th>\n",
       "      <th>Estado - Sigla</th>\n",
       "      <th>Municipio</th>\n",
       "      <th>Revenda</th>\n",
       "      <th>CNPJ da Revenda</th>\n",
       "      <th>Nome da Rua</th>\n",
       "      <th>Numero Rua</th>\n",
       "      <th>Complemento</th>\n",
       "      <th>Bairro</th>\n",
       "      <th>Cep</th>\n",
       "      <th>Produto</th>\n",
       "      <th>Data da Coleta</th>\n",
       "      <th>Valor de Venda</th>\n",
       "      <th>Valor de Compra</th>\n",
       "      <th>Unidade de Medida</th>\n",
       "      <th>Bandeira</th>\n",
       "    </tr>\n",
       "  </thead>\n",
       "  <tbody>\n",
       "    <tr>\n",
       "      <th>0</th>\n",
       "      <td>SE</td>\n",
       "      <td>ES</td>\n",
       "      <td>COLATINA</td>\n",
       "      <td>SAO FRANCISCO DE ASSIS COMERCIO DE COMBUSTIVEI...</td>\n",
       "      <td>08.519.545/0001-10</td>\n",
       "      <td>PRACA FIDELIS FERRARI</td>\n",
       "      <td>35</td>\n",
       "      <td>NaN</td>\n",
       "      <td>LACE</td>\n",
       "      <td>29703-030</td>\n",
       "      <td>GASOLINA ADITIVADA</td>\n",
       "      <td>01/07/2022</td>\n",
       "      <td>7,48</td>\n",
       "      <td>NaN</td>\n",
       "      <td>R$ / litro</td>\n",
       "      <td>VIBRA ENERGIA</td>\n",
       "    </tr>\n",
       "    <tr>\n",
       "      <th>1</th>\n",
       "      <td>SE</td>\n",
       "      <td>ES</td>\n",
       "      <td>COLATINA</td>\n",
       "      <td>SAO FRANCISCO DE ASSIS COMERCIO DE COMBUSTIVEI...</td>\n",
       "      <td>08.519.545/0001-10</td>\n",
       "      <td>PRACA FIDELIS FERRARI</td>\n",
       "      <td>35</td>\n",
       "      <td>NaN</td>\n",
       "      <td>LACE</td>\n",
       "      <td>29703-030</td>\n",
       "      <td>GASOLINA</td>\n",
       "      <td>01/07/2022</td>\n",
       "      <td>7,38</td>\n",
       "      <td>NaN</td>\n",
       "      <td>R$ / litro</td>\n",
       "      <td>VIBRA ENERGIA</td>\n",
       "    </tr>\n",
       "    <tr>\n",
       "      <th>2</th>\n",
       "      <td>SE</td>\n",
       "      <td>ES</td>\n",
       "      <td>COLATINA</td>\n",
       "      <td>POSTO MOTOCAP LTDA</td>\n",
       "      <td>04.814.652/0001-10</td>\n",
       "      <td>PRACA ALMIRANTE BARROSO</td>\n",
       "      <td>52</td>\n",
       "      <td>LETRA A</td>\n",
       "      <td>LACE</td>\n",
       "      <td>29703-055</td>\n",
       "      <td>ETANOL</td>\n",
       "      <td>01/07/2022</td>\n",
       "      <td>5,99</td>\n",
       "      <td>NaN</td>\n",
       "      <td>R$ / litro</td>\n",
       "      <td>VIBRA ENERGIA</td>\n",
       "    </tr>\n",
       "    <tr>\n",
       "      <th>3</th>\n",
       "      <td>SE</td>\n",
       "      <td>ES</td>\n",
       "      <td>COLATINA</td>\n",
       "      <td>POSTO MOTOCAP LTDA</td>\n",
       "      <td>04.814.652/0001-10</td>\n",
       "      <td>PRACA ALMIRANTE BARROSO</td>\n",
       "      <td>52</td>\n",
       "      <td>LETRA A</td>\n",
       "      <td>LACE</td>\n",
       "      <td>29703-055</td>\n",
       "      <td>GASOLINA</td>\n",
       "      <td>01/07/2022</td>\n",
       "      <td>7,39</td>\n",
       "      <td>NaN</td>\n",
       "      <td>R$ / litro</td>\n",
       "      <td>VIBRA ENERGIA</td>\n",
       "    </tr>\n",
       "    <tr>\n",
       "      <th>4</th>\n",
       "      <td>CO</td>\n",
       "      <td>GO</td>\n",
       "      <td>GOIANIA</td>\n",
       "      <td>JUSTINIANO &amp; JUSTINIANO LTDA</td>\n",
       "      <td>04.489.287/0001-16</td>\n",
       "      <td>AVENIDA JOSE LEANDRO DA CRUZ</td>\n",
       "      <td>2,36</td>\n",
       "      <td>QUADRA 18, LOTE 01</td>\n",
       "      <td>PARQUE AMAZONIA</td>\n",
       "      <td>74840-390</td>\n",
       "      <td>GASOLINA ADITIVADA</td>\n",
       "      <td>01/07/2022</td>\n",
       "      <td>6,49</td>\n",
       "      <td>NaN</td>\n",
       "      <td>R$ / litro</td>\n",
       "      <td>IPIRANGA</td>\n",
       "    </tr>\n",
       "  </tbody>\n",
       "</table>\n",
       "</div>"
      ],
      "text/plain": [
       "  Regiao - Sigla Estado - Sigla Municipio  \\\n",
       "0             SE             ES  COLATINA   \n",
       "1             SE             ES  COLATINA   \n",
       "2             SE             ES  COLATINA   \n",
       "3             SE             ES  COLATINA   \n",
       "4             CO             GO   GOIANIA   \n",
       "\n",
       "                                             Revenda      CNPJ da Revenda  \\\n",
       "0  SAO FRANCISCO DE ASSIS COMERCIO DE COMBUSTIVEI...   08.519.545/0001-10   \n",
       "1  SAO FRANCISCO DE ASSIS COMERCIO DE COMBUSTIVEI...   08.519.545/0001-10   \n",
       "2                                 POSTO MOTOCAP LTDA   04.814.652/0001-10   \n",
       "3                                 POSTO MOTOCAP LTDA   04.814.652/0001-10   \n",
       "4                       JUSTINIANO & JUSTINIANO LTDA   04.489.287/0001-16   \n",
       "\n",
       "                    Nome da Rua Numero Rua         Complemento  \\\n",
       "0         PRACA FIDELIS FERRARI         35                 NaN   \n",
       "1         PRACA FIDELIS FERRARI         35                 NaN   \n",
       "2       PRACA ALMIRANTE BARROSO         52             LETRA A   \n",
       "3       PRACA ALMIRANTE BARROSO         52             LETRA A   \n",
       "4  AVENIDA JOSE LEANDRO DA CRUZ       2,36  QUADRA 18, LOTE 01   \n",
       "\n",
       "            Bairro        Cep             Produto Data da Coleta  \\\n",
       "0             LACE  29703-030  GASOLINA ADITIVADA     01/07/2022   \n",
       "1             LACE  29703-030            GASOLINA     01/07/2022   \n",
       "2             LACE  29703-055              ETANOL     01/07/2022   \n",
       "3             LACE  29703-055            GASOLINA     01/07/2022   \n",
       "4  PARQUE AMAZONIA  74840-390  GASOLINA ADITIVADA     01/07/2022   \n",
       "\n",
       "  Valor de Venda  Valor de Compra Unidade de Medida       Bandeira  \n",
       "0           7,48              NaN        R$ / litro  VIBRA ENERGIA  \n",
       "1           7,38              NaN        R$ / litro  VIBRA ENERGIA  \n",
       "2           5,99              NaN        R$ / litro  VIBRA ENERGIA  \n",
       "3           7,39              NaN        R$ / litro  VIBRA ENERGIA  \n",
       "4           6,49              NaN        R$ / litro       IPIRANGA  "
      ]
     },
     "execution_count": 98,
     "metadata": {},
     "output_type": "execute_result"
    }
   ],
   "source": [
    "def julhoCsv():\n",
    "        try:\n",
    "          url_julho = 'https://www.gov.br/anp/pt-br/centrais-de-conteudo/dados-abertos/arquivos/shpc/dsan/2022/precos-gasolina-etanol-07.csv'\n",
    "          dados_brutos_julho = pd.read_csv(url_julho, sep=';')\n",
    "          return dados_brutos_julho\n",
    "\n",
    "        except:\n",
    "          url_julho = 'https://raw.githubusercontent.com/lucasCanella/Projeto-modulo-4/colab1/dados/dados_originais/precos-gasolina-etanol-julho.csv'\n",
    "          dados_brutos_julho = pd.read_csv(url_julho, sep=';')\n",
    "          return dados_brutos_julho\n",
    "\n",
    "dados_brutos_julho = julhoCsv()\n",
    "dados_brutos_julho.head()"
   ]
  },
  {
   "cell_type": "markdown",
   "id": "eac24cf0",
   "metadata": {
    "id": "eac24cf0"
   },
   "source": [
    "### Importando dados de agosto de 2022"
   ]
  },
  {
   "cell_type": "code",
   "execution_count": 99,
   "id": "87afea01",
   "metadata": {
    "executionInfo": {
     "elapsed": 19,
     "status": "aborted",
     "timestamp": 1664846380380,
     "user": {
      "displayName": "Stephanie Fernandes",
      "userId": "14058772314077983436"
     },
     "user_tz": 180
    },
    "id": "87afea01"
   },
   "outputs": [
    {
     "data": {
      "text/html": [
       "<div>\n",
       "<style scoped>\n",
       "    .dataframe tbody tr th:only-of-type {\n",
       "        vertical-align: middle;\n",
       "    }\n",
       "\n",
       "    .dataframe tbody tr th {\n",
       "        vertical-align: top;\n",
       "    }\n",
       "\n",
       "    .dataframe thead th {\n",
       "        text-align: right;\n",
       "    }\n",
       "</style>\n",
       "<table border=\"1\" class=\"dataframe\">\n",
       "  <thead>\n",
       "    <tr style=\"text-align: right;\">\n",
       "      <th></th>\n",
       "      <th>Regiao - Sigla</th>\n",
       "      <th>Estado - Sigla</th>\n",
       "      <th>Municipio</th>\n",
       "      <th>Revenda</th>\n",
       "      <th>CNPJ da Revenda</th>\n",
       "      <th>Nome da Rua</th>\n",
       "      <th>Numero Rua</th>\n",
       "      <th>Complemento</th>\n",
       "      <th>Bairro</th>\n",
       "      <th>Cep</th>\n",
       "      <th>Produto</th>\n",
       "      <th>Data da Coleta</th>\n",
       "      <th>Valor de Venda</th>\n",
       "      <th>Valor de Compra</th>\n",
       "      <th>Unidade de Medida</th>\n",
       "      <th>Bandeira</th>\n",
       "    </tr>\n",
       "  </thead>\n",
       "  <tbody>\n",
       "    <tr>\n",
       "      <th>0</th>\n",
       "      <td>NE</td>\n",
       "      <td>AL</td>\n",
       "      <td>ARAPIRACA</td>\n",
       "      <td>AUTO POSTO M M GARROTE LTDA</td>\n",
       "      <td>08.738.994/0001-50</td>\n",
       "      <td>RODOVIA AL-220</td>\n",
       "      <td>5848</td>\n",
       "      <td>KM    96</td>\n",
       "      <td>BOM SUCESSO</td>\n",
       "      <td>57309-035</td>\n",
       "      <td>ETANOL</td>\n",
       "      <td>01/08/2022</td>\n",
       "      <td>4,79</td>\n",
       "      <td>NaN</td>\n",
       "      <td>R$ / litro</td>\n",
       "      <td>VIBRA ENERGIA</td>\n",
       "    </tr>\n",
       "    <tr>\n",
       "      <th>1</th>\n",
       "      <td>NE</td>\n",
       "      <td>AL</td>\n",
       "      <td>ARAPIRACA</td>\n",
       "      <td>AUTO POSTO M M GARROTE LTDA</td>\n",
       "      <td>08.738.994/0001-50</td>\n",
       "      <td>RODOVIA AL-220</td>\n",
       "      <td>5848</td>\n",
       "      <td>KM    96</td>\n",
       "      <td>BOM SUCESSO</td>\n",
       "      <td>57309-035</td>\n",
       "      <td>GASOLINA</td>\n",
       "      <td>01/08/2022</td>\n",
       "      <td>5,59</td>\n",
       "      <td>NaN</td>\n",
       "      <td>R$ / litro</td>\n",
       "      <td>VIBRA ENERGIA</td>\n",
       "    </tr>\n",
       "    <tr>\n",
       "      <th>2</th>\n",
       "      <td>NE</td>\n",
       "      <td>AL</td>\n",
       "      <td>ARAPIRACA</td>\n",
       "      <td>AUTO POSTO MASSARANDUBA LTDA.</td>\n",
       "      <td>07.248.398/0001-29</td>\n",
       "      <td>RODOVIA AL 220</td>\n",
       "      <td>4698</td>\n",
       "      <td>NaN</td>\n",
       "      <td>PLANALTO</td>\n",
       "      <td>57308-000</td>\n",
       "      <td>GASOLINA ADITIVADA</td>\n",
       "      <td>01/08/2022</td>\n",
       "      <td>5,99</td>\n",
       "      <td>NaN</td>\n",
       "      <td>R$ / litro</td>\n",
       "      <td>BRANCA</td>\n",
       "    </tr>\n",
       "    <tr>\n",
       "      <th>3</th>\n",
       "      <td>NE</td>\n",
       "      <td>AL</td>\n",
       "      <td>ARAPIRACA</td>\n",
       "      <td>AUTO POSTO MASSARANDUBA LTDA.</td>\n",
       "      <td>07.248.398/0001-29</td>\n",
       "      <td>RODOVIA AL 220</td>\n",
       "      <td>4698</td>\n",
       "      <td>NaN</td>\n",
       "      <td>PLANALTO</td>\n",
       "      <td>57308-000</td>\n",
       "      <td>ETANOL</td>\n",
       "      <td>01/08/2022</td>\n",
       "      <td>4,99</td>\n",
       "      <td>NaN</td>\n",
       "      <td>R$ / litro</td>\n",
       "      <td>BRANCA</td>\n",
       "    </tr>\n",
       "    <tr>\n",
       "      <th>4</th>\n",
       "      <td>NE</td>\n",
       "      <td>AL</td>\n",
       "      <td>ARAPIRACA</td>\n",
       "      <td>AUTO POSTO MASSARANDUBA LTDA.</td>\n",
       "      <td>07.248.398/0001-29</td>\n",
       "      <td>RODOVIA AL 220</td>\n",
       "      <td>4698</td>\n",
       "      <td>NaN</td>\n",
       "      <td>PLANALTO</td>\n",
       "      <td>57308-000</td>\n",
       "      <td>GASOLINA</td>\n",
       "      <td>01/08/2022</td>\n",
       "      <td>5,79</td>\n",
       "      <td>NaN</td>\n",
       "      <td>R$ / litro</td>\n",
       "      <td>BRANCA</td>\n",
       "    </tr>\n",
       "  </tbody>\n",
       "</table>\n",
       "</div>"
      ],
      "text/plain": [
       "  Regiao - Sigla Estado - Sigla  Municipio                        Revenda  \\\n",
       "0             NE             AL  ARAPIRACA    AUTO POSTO M M GARROTE LTDA   \n",
       "1             NE             AL  ARAPIRACA    AUTO POSTO M M GARROTE LTDA   \n",
       "2             NE             AL  ARAPIRACA  AUTO POSTO MASSARANDUBA LTDA.   \n",
       "3             NE             AL  ARAPIRACA  AUTO POSTO MASSARANDUBA LTDA.   \n",
       "4             NE             AL  ARAPIRACA  AUTO POSTO MASSARANDUBA LTDA.   \n",
       "\n",
       "       CNPJ da Revenda     Nome da Rua Numero Rua Complemento       Bairro  \\\n",
       "0   08.738.994/0001-50  RODOVIA AL-220       5848    KM    96  BOM SUCESSO   \n",
       "1   08.738.994/0001-50  RODOVIA AL-220       5848    KM    96  BOM SUCESSO   \n",
       "2   07.248.398/0001-29  RODOVIA AL 220       4698         NaN     PLANALTO   \n",
       "3   07.248.398/0001-29  RODOVIA AL 220       4698         NaN     PLANALTO   \n",
       "4   07.248.398/0001-29  RODOVIA AL 220       4698         NaN     PLANALTO   \n",
       "\n",
       "         Cep             Produto Data da Coleta Valor de Venda  \\\n",
       "0  57309-035              ETANOL     01/08/2022           4,79   \n",
       "1  57309-035            GASOLINA     01/08/2022           5,59   \n",
       "2  57308-000  GASOLINA ADITIVADA     01/08/2022           5,99   \n",
       "3  57308-000              ETANOL     01/08/2022           4,99   \n",
       "4  57308-000            GASOLINA     01/08/2022           5,79   \n",
       "\n",
       "   Valor de Compra Unidade de Medida       Bandeira  \n",
       "0              NaN        R$ / litro  VIBRA ENERGIA  \n",
       "1              NaN        R$ / litro  VIBRA ENERGIA  \n",
       "2              NaN        R$ / litro         BRANCA  \n",
       "3              NaN        R$ / litro         BRANCA  \n",
       "4              NaN        R$ / litro         BRANCA  "
      ]
     },
     "execution_count": 99,
     "metadata": {},
     "output_type": "execute_result"
    }
   ],
   "source": [
    "def agostoCsv():\n",
    "        try:\n",
    "          url_agosto = 'https://www.gov.br/anp/pt-br/centrais-de-conteudo/dados-abertos/arquivos/shpc/dsan/2022/precos-gasolina-etanol-08.csv'\n",
    "          dados_brutos_agosto = pd.read_csv(url_agosto, sep=';')\n",
    "          return dados_brutos_agosto\n",
    "\n",
    "        except:\n",
    "          url_agosto = 'https://raw.githubusercontent.com/lucasCanella/Projeto-modulo-4/colab1/dados/dados_originais/precos-gasolina-etanol-agosto.csv'\n",
    "\n",
    "          dados_brutos_agosto = pd.read_csv(url_agosto, sep=';')\n",
    "          return dados_brutos_agosto\n",
    "\n",
    "dados_brutos_agosto = agostoCsv()\n",
    "dados_brutos_agosto.head()"
   ]
  },
  {
   "cell_type": "markdown",
   "id": "333ceebc",
   "metadata": {
    "id": "333ceebc"
   },
   "source": [
    "## União, adequação de dados e de nomenclatura"
   ]
  },
  {
   "cell_type": "markdown",
   "id": "6380cc97",
   "metadata": {
    "id": "6380cc97"
   },
   "source": [
    "### Modificação do padrão das datas"
   ]
  },
  {
   "cell_type": "code",
   "execution_count": 100,
   "id": "0faf0d5f",
   "metadata": {
    "executionInfo": {
     "elapsed": 20,
     "status": "aborted",
     "timestamp": 1664846380381,
     "user": {
      "displayName": "Stephanie Fernandes",
      "userId": "14058772314077983436"
     },
     "user_tz": 180
    },
    "id": "0faf0d5f"
   },
   "outputs": [
    {
     "data": {
      "text/plain": [
       "0   2022-07-01\n",
       "1   2022-07-01\n",
       "2   2022-07-01\n",
       "3   2022-07-01\n",
       "4   2022-07-01\n",
       "Name: Data da Coleta, dtype: datetime64[ns]"
      ]
     },
     "execution_count": 100,
     "metadata": {},
     "output_type": "execute_result"
    }
   ],
   "source": [
    "#dados de julho\n",
    "dados_brutos_julho['Data da Coleta'] = pd.to_datetime(dados_brutos_julho['Data da Coleta'], dayfirst=True)\n",
    "dados_brutos_julho['Data da Coleta'].head()"
   ]
  },
  {
   "cell_type": "code",
   "execution_count": 101,
   "id": "d574d72d",
   "metadata": {
    "executionInfo": {
     "elapsed": 20,
     "status": "aborted",
     "timestamp": 1664846380381,
     "user": {
      "displayName": "Stephanie Fernandes",
      "userId": "14058772314077983436"
     },
     "user_tz": 180
    },
    "id": "d574d72d"
   },
   "outputs": [
    {
     "data": {
      "text/plain": [
       "0   2022-08-01\n",
       "1   2022-08-01\n",
       "2   2022-08-01\n",
       "3   2022-08-01\n",
       "4   2022-08-01\n",
       "Name: Data da Coleta, dtype: datetime64[ns]"
      ]
     },
     "execution_count": 101,
     "metadata": {},
     "output_type": "execute_result"
    }
   ],
   "source": [
    "#dados de agosto\n",
    "dados_brutos_agosto['Data da Coleta'] = pd.to_datetime(dados_brutos_agosto['Data da Coleta'], dayfirst=True)\n",
    "dados_brutos_agosto['Data da Coleta'].head()"
   ]
  },
  {
   "cell_type": "markdown",
   "id": "5a5ce2be",
   "metadata": {
    "id": "5a5ce2be"
   },
   "source": [
    "### União dos dataframes "
   ]
  },
  {
   "cell_type": "code",
   "execution_count": 102,
   "id": "f02ce91a",
   "metadata": {
    "executionInfo": {
     "elapsed": 19,
     "status": "aborted",
     "timestamp": 1664846380381,
     "user": {
      "displayName": "Stephanie Fernandes",
      "userId": "14058772314077983436"
     },
     "user_tz": 180
    },
    "id": "f02ce91a"
   },
   "outputs": [],
   "source": [
    "lista_dados = [dados_brutos_julho ,dados_brutos_agosto]\n",
    "dados_brutos = pd.concat(lista_dados, ignore_index= True, verify_integrity=True)"
   ]
  },
  {
   "cell_type": "markdown",
   "id": "fe4fb906",
   "metadata": {
    "id": "fe4fb906"
   },
   "source": [
    "### Momenclatura das colunas "
   ]
  },
  {
   "cell_type": "code",
   "execution_count": 103,
   "id": "8368bae7",
   "metadata": {
    "executionInfo": {
     "elapsed": 20,
     "status": "aborted",
     "timestamp": 1664846380382,
     "user": {
      "displayName": "Stephanie Fernandes",
      "userId": "14058772314077983436"
     },
     "user_tz": 180
    },
    "id": "8368bae7"
   },
   "outputs": [
    {
     "data": {
      "text/plain": [
       "Index(['regiao_sigla', 'estado_sigla', 'municipio', 'revenda',\n",
       "       'cnpj_da_revenda', 'nome_da_rua', 'numero_rua', 'complemento', 'bairro',\n",
       "       'cep', 'produto', 'data_da_coleta', 'valor_de_venda', 'valor_de_compra',\n",
       "       'unidade_de_medida', 'bandeira'],\n",
       "      dtype='object')"
      ]
     },
     "execution_count": 103,
     "metadata": {},
     "output_type": "execute_result"
    }
   ],
   "source": [
    "#modificacao do nome de columas\n",
    "dados_brutos.columns = dados_brutos.columns.str.replace('- ','')\n",
    "dados_brutos.columns = dados_brutos.columns.str.replace(' ','_')\n",
    "dados_brutos.columns = dados_brutos.columns.str.lower()\n",
    "dados_brutos.columns"
   ]
  },
  {
   "cell_type": "markdown",
   "id": "caecfb3d",
   "metadata": {
    "id": "caecfb3d"
   },
   "source": [
    "## Verificação de valores "
   ]
  },
  {
   "cell_type": "markdown",
   "id": "428fbdf4",
   "metadata": {
    "id": "428fbdf4"
   },
   "source": [
    "### Adequação dos valores da coluna valor_de_venda"
   ]
  },
  {
   "cell_type": "code",
   "execution_count": 104,
   "id": "15e7871c",
   "metadata": {
    "executionInfo": {
     "elapsed": 20,
     "status": "aborted",
     "timestamp": 1664846380382,
     "user": {
      "displayName": "Stephanie Fernandes",
      "userId": "14058772314077983436"
     },
     "user_tz": 180
    },
    "id": "15e7871c"
   },
   "outputs": [],
   "source": [
    "#trocando vigula por ponto e nudando de string para float\n",
    "valores_virgula = dados_brutos['valor_de_venda'].tolist()\n",
    "valores_ponto = [x.replace(',', '.') for x in valores_virgula]\n",
    "dados_brutos['valor_de_venda'] = valores_ponto\n",
    "dados_brutos['valor_de_venda'] = dados_brutos['valor_de_venda'].astype(float)"
   ]
  },
  {
   "cell_type": "code",
   "execution_count": 105,
   "id": "b119a352",
   "metadata": {
    "executionInfo": {
     "elapsed": 19,
     "status": "aborted",
     "timestamp": 1664846380382,
     "user": {
      "displayName": "Stephanie Fernandes",
      "userId": "14058772314077983436"
     },
     "user_tz": 180
    },
    "id": "b119a352"
   },
   "outputs": [
    {
     "name": "stdout",
     "output_type": "stream",
     "text": [
      "<class 'pandas.core.frame.DataFrame'>\n",
      "RangeIndex: 127176 entries, 0 to 127175\n",
      "Data columns (total 16 columns):\n",
      " #   Column             Non-Null Count   Dtype         \n",
      "---  ------             --------------   -----         \n",
      " 0   regiao_sigla       127176 non-null  object        \n",
      " 1   estado_sigla       127176 non-null  object        \n",
      " 2   municipio          127176 non-null  object        \n",
      " 3   revenda            127176 non-null  object        \n",
      " 4   cnpj_da_revenda    127176 non-null  object        \n",
      " 5   nome_da_rua        127176 non-null  object        \n",
      " 6   numero_rua         127105 non-null  object        \n",
      " 7   complemento        27079 non-null   object        \n",
      " 8   bairro             126764 non-null  object        \n",
      " 9   cep                127176 non-null  object        \n",
      " 10  produto            127176 non-null  object        \n",
      " 11  data_da_coleta     127176 non-null  datetime64[ns]\n",
      " 12  valor_de_venda     127176 non-null  float64       \n",
      " 13  valor_de_compra    0 non-null       float64       \n",
      " 14  unidade_de_medida  127176 non-null  object        \n",
      " 15  bandeira           127176 non-null  object        \n",
      "dtypes: datetime64[ns](1), float64(2), object(13)\n",
      "memory usage: 15.5+ MB\n"
     ]
    }
   ],
   "source": [
    "dados_brutos.info()"
   ]
  },
  {
   "cell_type": "markdown",
   "id": "70b18086",
   "metadata": {
    "id": "70b18086"
   },
   "source": [
    "### Verificação colunas"
   ]
  },
  {
   "cell_type": "code",
   "execution_count": 106,
   "id": "966a73ac",
   "metadata": {
    "executionInfo": {
     "elapsed": 20,
     "status": "aborted",
     "timestamp": 1664846380383,
     "user": {
      "displayName": "Stephanie Fernandes",
      "userId": "14058772314077983436"
     },
     "user_tz": 180
    },
    "id": "966a73ac"
   },
   "outputs": [
    {
     "name": "stdout",
     "output_type": "stream",
     "text": [
      "<class 'pandas.core.frame.DataFrame'>\n",
      "RangeIndex: 127176 entries, 0 to 127175\n",
      "Data columns (total 16 columns):\n",
      " #   Column             Non-Null Count   Dtype         \n",
      "---  ------             --------------   -----         \n",
      " 0   regiao_sigla       127176 non-null  object        \n",
      " 1   estado_sigla       127176 non-null  object        \n",
      " 2   municipio          127176 non-null  object        \n",
      " 3   revenda            127176 non-null  object        \n",
      " 4   cnpj_da_revenda    127176 non-null  object        \n",
      " 5   nome_da_rua        127176 non-null  object        \n",
      " 6   numero_rua         127105 non-null  object        \n",
      " 7   complemento        27079 non-null   object        \n",
      " 8   bairro             126764 non-null  object        \n",
      " 9   cep                127176 non-null  object        \n",
      " 10  produto            127176 non-null  object        \n",
      " 11  data_da_coleta     127176 non-null  datetime64[ns]\n",
      " 12  valor_de_venda     127176 non-null  float64       \n",
      " 13  valor_de_compra    0 non-null       float64       \n",
      " 14  unidade_de_medida  127176 non-null  object        \n",
      " 15  bandeira           127176 non-null  object        \n",
      "dtypes: datetime64[ns](1), float64(2), object(13)\n",
      "memory usage: 15.5+ MB\n"
     ]
    }
   ],
   "source": [
    "dados_brutos.info()"
   ]
  },
  {
   "cell_type": "markdown",
   "id": "95f61f73",
   "metadata": {
    "id": "95f61f73"
   },
   "source": [
    "Aparentemente 'valor_de_compra' esta vazia e poucos valores em 'complemento'"
   ]
  },
  {
   "cell_type": "code",
   "execution_count": 107,
   "id": "34d4520b",
   "metadata": {
    "executionInfo": {
     "elapsed": 20,
     "status": "aborted",
     "timestamp": 1664846380383,
     "user": {
      "displayName": "Stephanie Fernandes",
      "userId": "14058772314077983436"
     },
     "user_tz": 180
    },
    "id": "34d4520b"
   },
   "outputs": [
    {
     "data": {
      "text/plain": [
       "array([nan])"
      ]
     },
     "execution_count": 107,
     "metadata": {},
     "output_type": "execute_result"
    }
   ],
   "source": [
    "#verificando se a coluna esta vazia \n",
    "dados_brutos.valor_de_compra.unique()"
   ]
  },
  {
   "cell_type": "code",
   "execution_count": 108,
   "id": "d19d9569",
   "metadata": {
    "executionInfo": {
     "elapsed": 20,
     "status": "aborted",
     "timestamp": 1664846380383,
     "user": {
      "displayName": "Stephanie Fernandes",
      "userId": "14058772314077983436"
     },
     "user_tz": 180
    },
    "id": "d19d9569"
   },
   "outputs": [],
   "source": [
    "dados_brutos.drop(columns=['valor_de_compra'], inplace=True)"
   ]
  },
  {
   "cell_type": "code",
   "execution_count": 109,
   "id": "8cd625a7",
   "metadata": {
    "executionInfo": {
     "elapsed": 20,
     "status": "aborted",
     "timestamp": 1664846380384,
     "user": {
      "displayName": "Stephanie Fernandes",
      "userId": "14058772314077983436"
     },
     "user_tz": 180
    },
    "id": "8cd625a7"
   },
   "outputs": [
    {
     "name": "stdout",
     "output_type": "stream",
     "text": [
      "<class 'pandas.core.frame.DataFrame'>\n",
      "RangeIndex: 127176 entries, 0 to 127175\n",
      "Data columns (total 15 columns):\n",
      " #   Column             Non-Null Count   Dtype         \n",
      "---  ------             --------------   -----         \n",
      " 0   regiao_sigla       127176 non-null  object        \n",
      " 1   estado_sigla       127176 non-null  object        \n",
      " 2   municipio          127176 non-null  object        \n",
      " 3   revenda            127176 non-null  object        \n",
      " 4   cnpj_da_revenda    127176 non-null  object        \n",
      " 5   nome_da_rua        127176 non-null  object        \n",
      " 6   numero_rua         127105 non-null  object        \n",
      " 7   complemento        27079 non-null   object        \n",
      " 8   bairro             126764 non-null  object        \n",
      " 9   cep                127176 non-null  object        \n",
      " 10  produto            127176 non-null  object        \n",
      " 11  data_da_coleta     127176 non-null  datetime64[ns]\n",
      " 12  valor_de_venda     127176 non-null  float64       \n",
      " 13  unidade_de_medida  127176 non-null  object        \n",
      " 14  bandeira           127176 non-null  object        \n",
      "dtypes: datetime64[ns](1), float64(1), object(13)\n",
      "memory usage: 14.6+ MB\n"
     ]
    }
   ],
   "source": [
    "dados_brutos.info()"
   ]
  },
  {
   "cell_type": "markdown",
   "id": "a9f47635",
   "metadata": {
    "id": "a9f47635"
   },
   "source": [
    "verificando coluna complemento"
   ]
  },
  {
   "cell_type": "code",
   "execution_count": 110,
   "id": "dddd2d35",
   "metadata": {
    "executionInfo": {
     "elapsed": 20,
     "status": "aborted",
     "timestamp": 1664846380384,
     "user": {
      "displayName": "Stephanie Fernandes",
      "userId": "14058772314077983436"
     },
     "user_tz": 180
    },
    "id": "dddd2d35"
   },
   "outputs": [
    {
     "data": {
      "text/plain": [
       "array([nan, 'LETRA A', 'QUADRA 18, LOTE 01', ..., 'GARA6EM',\n",
       "       'KM    615  280 M', 'LOTE  00013                     0002'],\n",
       "      dtype=object)"
      ]
     },
     "execution_count": 110,
     "metadata": {},
     "output_type": "execute_result"
    }
   ],
   "source": [
    "dados_brutos.complemento.unique()"
   ]
  },
  {
   "cell_type": "code",
   "execution_count": 111,
   "id": "6f9c7701",
   "metadata": {
    "executionInfo": {
     "elapsed": 20,
     "status": "aborted",
     "timestamp": 1664846380384,
     "user": {
      "displayName": "Stephanie Fernandes",
      "userId": "14058772314077983436"
     },
     "user_tz": 180
    },
    "id": "6f9c7701"
   },
   "outputs": [],
   "source": [
    "dados_brutos.drop(columns=['complemento'], inplace=True)"
   ]
  },
  {
   "cell_type": "code",
   "execution_count": 112,
   "id": "cefc5cf3",
   "metadata": {},
   "outputs": [
    {
     "data": {
      "text/plain": [
       "array(['2022-07-01T00:00:00.000000000', '2022-07-04T00:00:00.000000000',\n",
       "       '2022-07-05T00:00:00.000000000', '2022-07-06T00:00:00.000000000',\n",
       "       '2022-07-07T00:00:00.000000000', '2022-07-08T00:00:00.000000000',\n",
       "       '2022-07-11T00:00:00.000000000', '2022-07-12T00:00:00.000000000',\n",
       "       '2022-07-13T00:00:00.000000000', '2022-07-14T00:00:00.000000000',\n",
       "       '2022-07-15T00:00:00.000000000', '2022-07-18T00:00:00.000000000',\n",
       "       '2022-07-19T00:00:00.000000000', '2022-07-20T00:00:00.000000000',\n",
       "       '2022-07-21T00:00:00.000000000', '2022-07-22T00:00:00.000000000',\n",
       "       '2022-07-25T00:00:00.000000000', '2022-07-26T00:00:00.000000000',\n",
       "       '2022-07-27T00:00:00.000000000', '2022-07-28T00:00:00.000000000',\n",
       "       '2022-07-29T00:00:00.000000000', '2022-08-01T00:00:00.000000000',\n",
       "       '2022-08-02T00:00:00.000000000', '2022-08-03T00:00:00.000000000',\n",
       "       '2022-08-04T00:00:00.000000000', '2022-08-05T00:00:00.000000000',\n",
       "       '2022-08-08T00:00:00.000000000', '2022-08-09T00:00:00.000000000',\n",
       "       '2022-08-10T00:00:00.000000000', '2022-08-11T00:00:00.000000000',\n",
       "       '2022-08-12T00:00:00.000000000', '2022-08-15T00:00:00.000000000',\n",
       "       '2022-08-16T00:00:00.000000000', '2022-08-17T00:00:00.000000000',\n",
       "       '2022-08-18T00:00:00.000000000', '2022-08-19T00:00:00.000000000',\n",
       "       '2022-08-22T00:00:00.000000000', '2022-08-23T00:00:00.000000000',\n",
       "       '2022-08-24T00:00:00.000000000', '2022-08-25T00:00:00.000000000',\n",
       "       '2022-08-26T00:00:00.000000000', '2022-08-29T00:00:00.000000000',\n",
       "       '2022-08-30T00:00:00.000000000', '2022-08-31T00:00:00.000000000'],\n",
       "      dtype='datetime64[ns]')"
      ]
     },
     "execution_count": 112,
     "metadata": {},
     "output_type": "execute_result"
    }
   ],
   "source": [
    "dados_brutos.data_da_coleta.unique()"
   ]
  },
  {
   "cell_type": "markdown",
   "id": "d41c799b",
   "metadata": {
    "id": "d41c799b"
   },
   "source": [
    "## Verificando valores destoan"
   ]
  },
  {
   "cell_type": "code",
   "execution_count": 113,
   "id": "5004172b",
   "metadata": {
    "executionInfo": {
     "elapsed": 20,
     "status": "aborted",
     "timestamp": 1664846380384,
     "user": {
      "displayName": "Stephanie Fernandes",
      "userId": "14058772314077983436"
     },
     "user_tz": 180
    },
    "id": "5004172b"
   },
   "outputs": [
    {
     "data": {
      "text/plain": [
       "count    127176.000000\n",
       "mean          5.355503\n",
       "std           0.860449\n",
       "min           2.890000\n",
       "25%           4.880000\n",
       "50%           5.490000\n",
       "75%           5.890000\n",
       "max           9.270000\n",
       "Name: valor_de_venda, dtype: float64"
      ]
     },
     "execution_count": 113,
     "metadata": {},
     "output_type": "execute_result"
    }
   ],
   "source": [
    "dados_brutos.valor_de_venda.describe()"
   ]
  },
  {
   "cell_type": "code",
   "execution_count": 114,
   "id": "4d36be6a",
   "metadata": {
    "executionInfo": {
     "elapsed": 20,
     "status": "aborted",
     "timestamp": 1664846380385,
     "user": {
      "displayName": "Stephanie Fernandes",
      "userId": "14058772314077983436"
     },
     "user_tz": 180
    },
    "id": "4d36be6a"
   },
   "outputs": [
    {
     "data": {
      "text/plain": [
       "<AxesSubplot:ylabel='Frequency'>"
      ]
     },
     "execution_count": 114,
     "metadata": {},
     "output_type": "execute_result"
    },
    {
     "data": {
      "image/png": "[encoded data removed]",
      "text/plain": [
       "<Figure size 432x288 with 1 Axes>"
      ]
     },
     "metadata": {
      "needs_background": "light"
     },
     "output_type": "display_data"
    }
   ],
   "source": [
    "dados_brutos.valor_de_venda.plot(kind='hist')"
   ]
  },
  {
   "cell_type": "code",
   "execution_count": 115,
   "id": "3c16115d",
   "metadata": {
    "executionInfo": {
     "elapsed": 20,
     "status": "aborted",
     "timestamp": 1664846380385,
     "user": {
      "displayName": "Stephanie Fernandes",
      "userId": "14058772314077983436"
     },
     "user_tz": 180
    },
    "id": "3c16115d"
   },
   "outputs": [
    {
     "name": "stderr",
     "output_type": "stream",
     "text": [
      "C:\\ProgramData\\Anaconda3\\lib\\site-packages\\seaborn\\_decorators.py:36: FutureWarning: Pass the following variable as a keyword arg: x. From version 0.12, the only valid positional argument will be `data`, and passing other arguments without an explicit keyword will result in an error or misinterpretation.\n",
      "  warnings.warn(\n"
     ]
    },
    {
     "data": {
      "text/plain": [
       "<AxesSubplot:xlabel='valor_de_venda'>"
      ]
     },
     "execution_count": 115,
     "metadata": {},
     "output_type": "execute_result"
    },
    {
     "data": {
      "image/png": "[encoded data removed]",
      "text/plain": [
       "<Figure size 432x288 with 1 Axes>"
      ]
     },
     "metadata": {
      "needs_background": "light"
     },
     "output_type": "display_data"
    }
   ],
   "source": [
    "sns.boxplot(dados_brutos.valor_de_venda)"
   ]
  },
  {
   "cell_type": "markdown",
   "id": "37064c45",
   "metadata": {
    "id": "37064c45"
   },
   "source": [
    "### Verificando produtos "
   ]
  },
  {
   "cell_type": "code",
   "execution_count": 116,
   "id": "27a12f7d",
   "metadata": {
    "executionInfo": {
     "elapsed": 20,
     "status": "aborted",
     "timestamp": 1664846380385,
     "user": {
      "displayName": "Stephanie Fernandes",
      "userId": "14058772314077983436"
     },
     "user_tz": 180
    },
    "id": "27a12f7d"
   },
   "outputs": [
    {
     "data": {
      "text/plain": [
       "array(['GASOLINA ADITIVADA', 'GASOLINA', 'ETANOL'], dtype=object)"
      ]
     },
     "execution_count": 116,
     "metadata": {},
     "output_type": "execute_result"
    }
   ],
   "source": [
    "dados_brutos.produto.unique()"
   ]
  },
  {
   "cell_type": "markdown",
   "id": "db7939e8",
   "metadata": {
    "id": "db7939e8"
   },
   "source": [
    "Gasolina"
   ]
  },
  {
   "cell_type": "code",
   "execution_count": 117,
   "id": "bc61069f",
   "metadata": {
    "executionInfo": {
     "elapsed": 21,
     "status": "aborted",
     "timestamp": 1664846380386,
     "user": {
      "displayName": "Stephanie Fernandes",
      "userId": "14058772314077983436"
     },
     "user_tz": 180
    },
    "id": "bc61069f"
   },
   "outputs": [
    {
     "data": {
      "text/html": [
       "<div>\n",
       "<style scoped>\n",
       "    .dataframe tbody tr th:only-of-type {\n",
       "        vertical-align: middle;\n",
       "    }\n",
       "\n",
       "    .dataframe tbody tr th {\n",
       "        vertical-align: top;\n",
       "    }\n",
       "\n",
       "    .dataframe thead th {\n",
       "        text-align: right;\n",
       "    }\n",
       "</style>\n",
       "<table border=\"1\" class=\"dataframe\">\n",
       "  <thead>\n",
       "    <tr style=\"text-align: right;\">\n",
       "      <th></th>\n",
       "      <th>valor_de_venda</th>\n",
       "    </tr>\n",
       "  </thead>\n",
       "  <tbody>\n",
       "    <tr>\n",
       "      <th>count</th>\n",
       "      <td>48341.000000</td>\n",
       "    </tr>\n",
       "    <tr>\n",
       "      <th>mean</th>\n",
       "      <td>5.711579</td>\n",
       "    </tr>\n",
       "    <tr>\n",
       "      <th>std</th>\n",
       "      <td>0.528368</td>\n",
       "    </tr>\n",
       "    <tr>\n",
       "      <th>min</th>\n",
       "      <td>4.130000</td>\n",
       "    </tr>\n",
       "    <tr>\n",
       "      <th>25%</th>\n",
       "      <td>5.380000</td>\n",
       "    </tr>\n",
       "    <tr>\n",
       "      <th>50%</th>\n",
       "      <td>5.670000</td>\n",
       "    </tr>\n",
       "    <tr>\n",
       "      <th>75%</th>\n",
       "      <td>5.990000</td>\n",
       "    </tr>\n",
       "    <tr>\n",
       "      <th>max</th>\n",
       "      <td>8.750000</td>\n",
       "    </tr>\n",
       "  </tbody>\n",
       "</table>\n",
       "</div>"
      ],
      "text/plain": [
       "       valor_de_venda\n",
       "count    48341.000000\n",
       "mean         5.711579\n",
       "std          0.528368\n",
       "min          4.130000\n",
       "25%          5.380000\n",
       "50%          5.670000\n",
       "75%          5.990000\n",
       "max          8.750000"
      ]
     },
     "execution_count": 117,
     "metadata": {},
     "output_type": "execute_result"
    }
   ],
   "source": [
    "dados_brutos.query(\"produto == 'GASOLINA'\").describe()"
   ]
  },
  {
   "cell_type": "code",
   "execution_count": 118,
   "id": "8ee18fcb",
   "metadata": {
    "executionInfo": {
     "elapsed": 20,
     "status": "aborted",
     "timestamp": 1664846380386,
     "user": {
      "displayName": "Stephanie Fernandes",
      "userId": "14058772314077983436"
     },
     "user_tz": 180
    },
    "id": "8ee18fcb",
    "scrolled": true
   },
   "outputs": [
    {
     "name": "stderr",
     "output_type": "stream",
     "text": [
      "C:\\ProgramData\\Anaconda3\\lib\\site-packages\\seaborn\\_decorators.py:36: FutureWarning: Pass the following variable as a keyword arg: x. From version 0.12, the only valid positional argument will be `data`, and passing other arguments without an explicit keyword will result in an error or misinterpretation.\n",
      "  warnings.warn(\n"
     ]
    },
    {
     "data": {
      "text/plain": [
       "<AxesSubplot:xlabel='valor_de_venda'>"
      ]
     },
     "execution_count": 118,
     "metadata": {},
     "output_type": "execute_result"
    },
    {
     "data": {
      "image/png": "[encoded data removed]",
      "text/plain": [
       "<Figure size 432x288 with 1 Axes>"
      ]
     },
     "metadata": {
      "needs_background": "light"
     },
     "output_type": "display_data"
    }
   ],
   "source": [
    "sns.boxplot(dados_brutos.query(\"produto == 'GASOLINA'\").valor_de_venda)"
   ]
  },
  {
   "cell_type": "code",
   "execution_count": 119,
   "id": "bc011bc1",
   "metadata": {
    "executionInfo": {
     "elapsed": 20,
     "status": "aborted",
     "timestamp": 1664846380386,
     "user": {
      "displayName": "Stephanie Fernandes",
      "userId": "14058772314077983436"
     },
     "user_tz": 180
    },
    "id": "bc011bc1"
   },
   "outputs": [
    {
     "data": {
      "text/plain": [
       "array(['ES', 'PI', 'RJ', 'AL', 'AM', 'BA', 'CE', 'MA', 'MG', 'PA', 'PB',\n",
       "       'PE', 'RN', 'RS', 'SE', 'SP', 'TO', 'MS', 'PR', 'SC', 'GO', 'RO',\n",
       "       'AC', 'MT', 'RR'], dtype=object)"
      ]
     },
     "execution_count": 119,
     "metadata": {},
     "output_type": "execute_result"
    }
   ],
   "source": [
    "dados_brutos.query(\"valor_de_venda > 7\").estado_sigla.unique()"
   ]
  },
  {
   "cell_type": "code",
   "execution_count": 120,
   "id": "c7170faf",
   "metadata": {},
   "outputs": [],
   "source": [
    "dados_novo_arquivo = dados_brutos"
   ]
  },
  {
   "cell_type": "code",
   "execution_count": 121,
   "id": "ITDPmvQQh1uw",
   "metadata": {
    "executionInfo": {
     "elapsed": 21,
     "status": "aborted",
     "timestamp": 1664846380388,
     "user": {
      "displayName": "Stephanie Fernandes",
      "userId": "14058772314077983436"
     },
     "user_tz": 180
    },
    "id": "ITDPmvQQh1uw",
    "scrolled": true
   },
   "outputs": [
    {
     "data": {
      "text/plain": [
       "0              SE: Sudeste\n",
       "1              SE: Sudeste\n",
       "2              SE: Sudeste\n",
       "3              SE: Sudeste\n",
       "4         CO: Centro-Oeste\n",
       "                ...       \n",
       "127171    CO: Centro-Oeste\n",
       "127172    CO: Centro-Oeste\n",
       "127173    CO: Centro-Oeste\n",
       "127174         SE: Sudeste\n",
       "127175         SE: Sudeste\n",
       "Name: regiao_sigla, Length: 127176, dtype: object"
      ]
     },
     "execution_count": 121,
     "metadata": {},
     "output_type": "execute_result"
    }
   ],
   "source": [
    "#descrever as siglas das regiões para melhor visualização das queries\n",
    "dados_novo_arquivo.regiao_sigla= dados_brutos.regiao_sigla.map({'CO':'CO: Centro-Oeste', 'SE': 'SE: Sudeste', 'S':'S: Sul', 'NE': 'NE: Nordeste', 'N': 'N: Norte'})\n",
    "dados_novo_arquivo.regiao_sigla"
   ]
  },
  {
   "cell_type": "markdown",
   "id": "ZvxnrYo93LYa",
   "metadata": {
    "id": "ZvxnrYo93LYa"
   },
   "source": [
    "* ### Pergunta 1"
   ]
  },
  {
   "cell_type": "code",
   "execution_count": 122,
   "id": "SnHY5uUYmzUm",
   "metadata": {
    "executionInfo": {
     "elapsed": 21,
     "status": "aborted",
     "timestamp": 1664846380388,
     "user": {
      "displayName": "Stephanie Fernandes",
      "userId": "14058772314077983436"
     },
     "user_tz": 180
    },
    "id": "SnHY5uUYmzUm"
   },
   "outputs": [
    {
     "data": {
      "text/html": [
       "<div>\n",
       "<style scoped>\n",
       "    .dataframe tbody tr th:only-of-type {\n",
       "        vertical-align: middle;\n",
       "    }\n",
       "\n",
       "    .dataframe tbody tr th {\n",
       "        vertical-align: top;\n",
       "    }\n",
       "\n",
       "    .dataframe thead th {\n",
       "        text-align: right;\n",
       "    }\n",
       "</style>\n",
       "<table border=\"1\" class=\"dataframe\">\n",
       "  <thead>\n",
       "    <tr style=\"text-align: right;\">\n",
       "      <th></th>\n",
       "      <th>data_da_coleta</th>\n",
       "      <th>valor_de_venda</th>\n",
       "    </tr>\n",
       "  </thead>\n",
       "  <tbody>\n",
       "    <tr>\n",
       "      <th>0</th>\n",
       "      <td>2022-07-01</td>\n",
       "      <td>6.621690</td>\n",
       "    </tr>\n",
       "    <tr>\n",
       "      <th>1</th>\n",
       "      <td>2022-07-04</td>\n",
       "      <td>6.077862</td>\n",
       "    </tr>\n",
       "    <tr>\n",
       "      <th>2</th>\n",
       "      <td>2022-07-05</td>\n",
       "      <td>6.185041</td>\n",
       "    </tr>\n",
       "    <tr>\n",
       "      <th>3</th>\n",
       "      <td>2022-07-06</td>\n",
       "      <td>5.959738</td>\n",
       "    </tr>\n",
       "    <tr>\n",
       "      <th>4</th>\n",
       "      <td>2022-07-07</td>\n",
       "      <td>5.797347</td>\n",
       "    </tr>\n",
       "    <tr>\n",
       "      <th>5</th>\n",
       "      <td>2022-07-08</td>\n",
       "      <td>5.783333</td>\n",
       "    </tr>\n",
       "    <tr>\n",
       "      <th>6</th>\n",
       "      <td>2022-07-11</td>\n",
       "      <td>5.738744</td>\n",
       "    </tr>\n",
       "    <tr>\n",
       "      <th>7</th>\n",
       "      <td>2022-07-12</td>\n",
       "      <td>5.782261</td>\n",
       "    </tr>\n",
       "    <tr>\n",
       "      <th>8</th>\n",
       "      <td>2022-07-13</td>\n",
       "      <td>5.601108</td>\n",
       "    </tr>\n",
       "    <tr>\n",
       "      <th>9</th>\n",
       "      <td>2022-07-14</td>\n",
       "      <td>5.661235</td>\n",
       "    </tr>\n",
       "  </tbody>\n",
       "</table>\n",
       "</div>"
      ],
      "text/plain": [
       "  data_da_coleta  valor_de_venda\n",
       "0     2022-07-01        6.621690\n",
       "1     2022-07-04        6.077862\n",
       "2     2022-07-05        6.185041\n",
       "3     2022-07-06        5.959738\n",
       "4     2022-07-07        5.797347\n",
       "5     2022-07-08        5.783333\n",
       "6     2022-07-11        5.738744\n",
       "7     2022-07-12        5.782261\n",
       "8     2022-07-13        5.601108\n",
       "9     2022-07-14        5.661235"
      ]
     },
     "execution_count": 122,
     "metadata": {},
     "output_type": "execute_result"
    }
   ],
   "source": [
    "venda_por_data_gasolina_aditivada = dados_brutos.loc[dados_brutos['produto'] == 'GASOLINA ADITIVADA'].groupby(['data_da_coleta'])['valor_de_venda'].mean().reset_index()\n",
    "venda_por_data_gasolina = dados_brutos.loc[dados_brutos['produto'] == 'GASOLINA'].groupby(['data_da_coleta'])['valor_de_venda'].mean().reset_index()\n",
    "venda_por_data_etanol = dados_brutos.loc[dados_brutos['produto'] == 'ETANOL'].groupby(['data_da_coleta'])['valor_de_venda'].mean().reset_index()\n",
    "venda_por_data = dados_brutos.groupby(['data_da_coleta'])['valor_de_venda'].mean().reset_index()\n",
    "venda_por_data.head(10)"
   ]
  },
  {
   "cell_type": "code",
   "execution_count": 123,
   "id": "jZ1hTIkToG0e",
   "metadata": {
    "executionInfo": {
     "elapsed": 22,
     "status": "aborted",
     "timestamp": 1664846380389,
     "user": {
      "displayName": "Stephanie Fernandes",
      "userId": "14058772314077983436"
     },
     "user_tz": 180
    },
    "id": "jZ1hTIkToG0e"
   },
   "outputs": [
    {
     "data": {
      "image/png": "[encoded data removed]",
      "text/plain": [
       "<Figure size 1440x720 with 1 Axes>"
      ]
     },
     "metadata": {
      "needs_background": "light"
     },
     "output_type": "display_data"
    }
   ],
   "source": [
    "plt.figure(figsize=(20,10))\n",
    "plt.plot(venda_por_data['data_da_coleta'], venda_por_data['valor_de_venda'], label='Combustíveis') \n",
    "plt.plot(venda_por_data_etanol['data_da_coleta'], venda_por_data_etanol['valor_de_venda'], label='Etanol', linestyle=\"--\")\n",
    "plt.plot(venda_por_data_gasolina['data_da_coleta'], venda_por_data_gasolina['valor_de_venda'], label='Gasolina', linestyle=\"-.\")\n",
    "plt.plot(venda_por_data_gasolina_aditivada['data_da_coleta'], venda_por_data_gasolina_aditivada['valor_de_venda'], label='Gasolina Aditivada', linestyle=\":\")\n",
    "plt.xlabel(\"X-axis\")  \n",
    "plt.ylabel(\"Y-axis\")  \n",
    "plt.title(\"Evolução do preço dos combustíveis\")  \n",
    "plt.legend()\n",
    "plt.show() "
   ]
  },
  {
   "cell_type": "markdown",
   "id": "lWRHgP8L3YLw",
   "metadata": {
    "id": "lWRHgP8L3YLw"
   },
   "source": [
    "* ### Pergunta 2"
   ]
  },
  {
   "cell_type": "markdown",
   "id": "ukomp0ng5txq",
   "metadata": {
    "id": "ukomp0ng5txq"
   },
   "source": [
    "preço médio da gasolina nos dois meses:"
   ]
  },
  {
   "cell_type": "code",
   "execution_count": 124,
   "id": "mnJ4Gm65zhvQ",
   "metadata": {
    "executionInfo": {
     "elapsed": 22,
     "status": "aborted",
     "timestamp": 1664846380389,
     "user": {
      "displayName": "Stephanie Fernandes",
      "userId": "14058772314077983436"
     },
     "user_tz": 180
    },
    "id": "mnJ4Gm65zhvQ"
   },
   "outputs": [
    {
     "data": {
      "text/plain": [
       "5.711579404646556"
      ]
     },
     "execution_count": 124,
     "metadata": {},
     "output_type": "execute_result"
    }
   ],
   "source": [
    "dados_novo_arquivo.loc[dados_novo_arquivo['produto'] == 'GASOLINA']['valor_de_venda'].mean()"
   ]
  },
  {
   "cell_type": "markdown",
   "id": "YxLrMzoa5vsk",
   "metadata": {
    "id": "YxLrMzoa5vsk"
   },
   "source": [
    "preço médio do etanol nos dois meses:"
   ]
  },
  {
   "cell_type": "code",
   "execution_count": 125,
   "id": "KslQYY7s5xQY",
   "metadata": {
    "executionInfo": {
     "elapsed": 23,
     "status": "aborted",
     "timestamp": 1664846380390,
     "user": {
      "displayName": "Stephanie Fernandes",
      "userId": "14058772314077983436"
     },
     "user_tz": 180
    },
    "id": "KslQYY7s5xQY"
   },
   "outputs": [
    {
     "data": {
      "text/plain": [
       "4.506026105027461"
      ]
     },
     "execution_count": 125,
     "metadata": {},
     "output_type": "execute_result"
    }
   ],
   "source": [
    "dados_novo_arquivo.loc[dados_novo_arquivo['produto'] == 'ETANOL']['valor_de_venda'].mean()"
   ]
  },
  {
   "cell_type": "markdown",
   "id": "ftlJKlVcz-eq",
   "metadata": {
    "id": "ftlJKlVcz-eq"
   },
   "source": [
    "### Pergunta 3 & 4\n"
   ]
  },
  {
   "cell_type": "code",
   "execution_count": 126,
   "id": "5Vl7L8gv0LUz",
   "metadata": {
    "executionInfo": {
     "elapsed": 23,
     "status": "aborted",
     "timestamp": 1664846380390,
     "user": {
      "displayName": "Stephanie Fernandes",
      "userId": "14058772314077983436"
     },
     "user_tz": 180
    },
    "id": "5Vl7L8gv0LUz"
   },
   "outputs": [
    {
     "data": {
      "text/html": [
       "<div>\n",
       "<style scoped>\n",
       "    .dataframe tbody tr th:only-of-type {\n",
       "        vertical-align: middle;\n",
       "    }\n",
       "\n",
       "    .dataframe tbody tr th {\n",
       "        vertical-align: top;\n",
       "    }\n",
       "\n",
       "    .dataframe thead th {\n",
       "        text-align: right;\n",
       "    }\n",
       "</style>\n",
       "<table border=\"1\" class=\"dataframe\">\n",
       "  <thead>\n",
       "    <tr style=\"text-align: right;\">\n",
       "      <th></th>\n",
       "      <th>estado_sigla</th>\n",
       "      <th>produto</th>\n",
       "      <th>revenda</th>\n",
       "      <th>cnpj_da_revenda</th>\n",
       "      <th>valor_de_venda</th>\n",
       "    </tr>\n",
       "  </thead>\n",
       "  <tbody>\n",
       "    <tr>\n",
       "      <th>0</th>\n",
       "      <td>ES</td>\n",
       "      <td>GASOLINA ADITIVADA</td>\n",
       "      <td>SAO FRANCISCO DE ASSIS COMERCIO DE COMBUSTIVEI...</td>\n",
       "      <td>08.519.545/0001-10</td>\n",
       "      <td>7.48</td>\n",
       "    </tr>\n",
       "    <tr>\n",
       "      <th>1</th>\n",
       "      <td>ES</td>\n",
       "      <td>GASOLINA</td>\n",
       "      <td>SAO FRANCISCO DE ASSIS COMERCIO DE COMBUSTIVEI...</td>\n",
       "      <td>08.519.545/0001-10</td>\n",
       "      <td>7.38</td>\n",
       "    </tr>\n",
       "    <tr>\n",
       "      <th>2</th>\n",
       "      <td>ES</td>\n",
       "      <td>ETANOL</td>\n",
       "      <td>POSTO MOTOCAP LTDA</td>\n",
       "      <td>04.814.652/0001-10</td>\n",
       "      <td>5.99</td>\n",
       "    </tr>\n",
       "    <tr>\n",
       "      <th>3</th>\n",
       "      <td>ES</td>\n",
       "      <td>GASOLINA</td>\n",
       "      <td>POSTO MOTOCAP LTDA</td>\n",
       "      <td>04.814.652/0001-10</td>\n",
       "      <td>7.39</td>\n",
       "    </tr>\n",
       "    <tr>\n",
       "      <th>4</th>\n",
       "      <td>GO</td>\n",
       "      <td>GASOLINA ADITIVADA</td>\n",
       "      <td>JUSTINIANO &amp; JUSTINIANO LTDA</td>\n",
       "      <td>04.489.287/0001-16</td>\n",
       "      <td>6.49</td>\n",
       "    </tr>\n",
       "    <tr>\n",
       "      <th>...</th>\n",
       "      <td>...</td>\n",
       "      <td>...</td>\n",
       "      <td>...</td>\n",
       "      <td>...</td>\n",
       "      <td>...</td>\n",
       "    </tr>\n",
       "    <tr>\n",
       "      <th>127171</th>\n",
       "      <td>DF</td>\n",
       "      <td>ETANOL</td>\n",
       "      <td>POSTO TOP TAGUATINGA COMERCIO DE COMBUSTIVEIS ...</td>\n",
       "      <td>37.189.518/0001-25</td>\n",
       "      <td>3.99</td>\n",
       "    </tr>\n",
       "    <tr>\n",
       "      <th>127172</th>\n",
       "      <td>DF</td>\n",
       "      <td>GASOLINA</td>\n",
       "      <td>POSTO TOP TAGUATINGA COMERCIO DE COMBUSTIVEIS ...</td>\n",
       "      <td>37.189.518/0001-25</td>\n",
       "      <td>5.19</td>\n",
       "    </tr>\n",
       "    <tr>\n",
       "      <th>127173</th>\n",
       "      <td>DF</td>\n",
       "      <td>GASOLINA ADITIVADA</td>\n",
       "      <td>POSTO TOP TAGUATINGA COMERCIO DE COMBUSTIVEIS ...</td>\n",
       "      <td>37.189.518/0001-25</td>\n",
       "      <td>5.19</td>\n",
       "    </tr>\n",
       "    <tr>\n",
       "      <th>127174</th>\n",
       "      <td>MG</td>\n",
       "      <td>GASOLINA</td>\n",
       "      <td>AUTO POSTO COMBUSTIVEIS VERAS SANTANA LTDA</td>\n",
       "      <td>33.063.482/0001-88</td>\n",
       "      <td>5.27</td>\n",
       "    </tr>\n",
       "    <tr>\n",
       "      <th>127175</th>\n",
       "      <td>MG</td>\n",
       "      <td>ETANOL</td>\n",
       "      <td>AUTO POSTO COMBUSTIVEIS VERAS SANTANA LTDA</td>\n",
       "      <td>33.063.482/0001-88</td>\n",
       "      <td>3.67</td>\n",
       "    </tr>\n",
       "  </tbody>\n",
       "</table>\n",
       "<p>127176 rows × 5 columns</p>\n",
       "</div>"
      ],
      "text/plain": [
       "       estado_sigla             produto  \\\n",
       "0                ES  GASOLINA ADITIVADA   \n",
       "1                ES            GASOLINA   \n",
       "2                ES              ETANOL   \n",
       "3                ES            GASOLINA   \n",
       "4                GO  GASOLINA ADITIVADA   \n",
       "...             ...                 ...   \n",
       "127171           DF              ETANOL   \n",
       "127172           DF            GASOLINA   \n",
       "127173           DF  GASOLINA ADITIVADA   \n",
       "127174           MG            GASOLINA   \n",
       "127175           MG              ETANOL   \n",
       "\n",
       "                                                  revenda  \\\n",
       "0       SAO FRANCISCO DE ASSIS COMERCIO DE COMBUSTIVEI...   \n",
       "1       SAO FRANCISCO DE ASSIS COMERCIO DE COMBUSTIVEI...   \n",
       "2                                      POSTO MOTOCAP LTDA   \n",
       "3                                      POSTO MOTOCAP LTDA   \n",
       "4                            JUSTINIANO & JUSTINIANO LTDA   \n",
       "...                                                   ...   \n",
       "127171  POSTO TOP TAGUATINGA COMERCIO DE COMBUSTIVEIS ...   \n",
       "127172  POSTO TOP TAGUATINGA COMERCIO DE COMBUSTIVEIS ...   \n",
       "127173  POSTO TOP TAGUATINGA COMERCIO DE COMBUSTIVEIS ...   \n",
       "127174         AUTO POSTO COMBUSTIVEIS VERAS SANTANA LTDA   \n",
       "127175         AUTO POSTO COMBUSTIVEIS VERAS SANTANA LTDA   \n",
       "\n",
       "            cnpj_da_revenda  valor_de_venda  \n",
       "0        08.519.545/0001-10            7.48  \n",
       "1        08.519.545/0001-10            7.38  \n",
       "2        04.814.652/0001-10            5.99  \n",
       "3        04.814.652/0001-10            7.39  \n",
       "4        04.489.287/0001-16            6.49  \n",
       "...                     ...             ...  \n",
       "127171   37.189.518/0001-25            3.99  \n",
       "127172   37.189.518/0001-25            5.19  \n",
       "127173   37.189.518/0001-25            5.19  \n",
       "127174   33.063.482/0001-88            5.27  \n",
       "127175   33.063.482/0001-88            3.67  \n",
       "\n",
       "[127176 rows x 5 columns]"
      ]
     },
     "metadata": {},
     "output_type": "display_data"
    }
   ],
   "source": [
    "# Quais os 5 estados com preço médio mais alto?\n",
    "\n",
    "#1. conferindo DF:\n",
    "\n",
    "dados_uteis=dados_novo_arquivo[['estado_sigla','produto','revenda','cnpj_da_revenda','valor_de_venda']]\n",
    "\n",
    "display(dados_uteis)"
   ]
  },
  {
   "cell_type": "code",
   "execution_count": 127,
   "id": "Qm__7z9p10Il",
   "metadata": {
    "executionInfo": {
     "elapsed": 23,
     "status": "aborted",
     "timestamp": 1664846380390,
     "user": {
      "displayName": "Stephanie Fernandes",
      "userId": "14058772314077983436"
     },
     "user_tz": 180
    },
    "id": "Qm__7z9p10Il"
   },
   "outputs": [],
   "source": [
    "#2. Filtrando valores:\n",
    "\n",
    "#Tirando a média da Gasolina e do Etanol\n",
    "media_gas=dados_uteis.loc[dados_uteis['produto'] == 'GASOLINA']['valor_de_venda'].mean()\n",
    "media_et=dados_uteis.loc[dados_uteis['produto'] == 'ETANOL']['valor_de_venda'].mean()\n"
   ]
  },
  {
   "cell_type": "code",
   "execution_count": 128,
   "id": "_QBwNiPE4u7i",
   "metadata": {
    "executionInfo": {
     "elapsed": 23,
     "status": "aborted",
     "timestamp": 1664846380391,
     "user": {
      "displayName": "Stephanie Fernandes",
      "userId": "14058772314077983436"
     },
     "user_tz": 180
    },
    "id": "_QBwNiPE4u7i"
   },
   "outputs": [
    {
     "data": {
      "text/html": [
       "<div>\n",
       "<style scoped>\n",
       "    .dataframe tbody tr th:only-of-type {\n",
       "        vertical-align: middle;\n",
       "    }\n",
       "\n",
       "    .dataframe tbody tr th {\n",
       "        vertical-align: top;\n",
       "    }\n",
       "\n",
       "    .dataframe thead th {\n",
       "        text-align: right;\n",
       "    }\n",
       "</style>\n",
       "<table border=\"1\" class=\"dataframe\">\n",
       "  <thead>\n",
       "    <tr style=\"text-align: right;\">\n",
       "      <th></th>\n",
       "      <th>estado_sigla</th>\n",
       "      <th>produto</th>\n",
       "      <th>revenda</th>\n",
       "      <th>cnpj_da_revenda</th>\n",
       "      <th>valor_de_venda</th>\n",
       "    </tr>\n",
       "  </thead>\n",
       "  <tbody>\n",
       "    <tr>\n",
       "      <th>1</th>\n",
       "      <td>ES</td>\n",
       "      <td>GASOLINA</td>\n",
       "      <td>SAO FRANCISCO DE ASSIS COMERCIO DE COMBUSTIVEI...</td>\n",
       "      <td>08.519.545/0001-10</td>\n",
       "      <td>7.38</td>\n",
       "    </tr>\n",
       "    <tr>\n",
       "      <th>3</th>\n",
       "      <td>ES</td>\n",
       "      <td>GASOLINA</td>\n",
       "      <td>POSTO MOTOCAP LTDA</td>\n",
       "      <td>04.814.652/0001-10</td>\n",
       "      <td>7.39</td>\n",
       "    </tr>\n",
       "    <tr>\n",
       "      <th>6</th>\n",
       "      <td>GO</td>\n",
       "      <td>GASOLINA</td>\n",
       "      <td>JUSTINIANO &amp; JUSTINIANO LTDA</td>\n",
       "      <td>04.489.287/0001-16</td>\n",
       "      <td>5.99</td>\n",
       "    </tr>\n",
       "    <tr>\n",
       "      <th>9</th>\n",
       "      <td>GO</td>\n",
       "      <td>GASOLINA</td>\n",
       "      <td>VIENA AUTO POSTO EIRELI</td>\n",
       "      <td>05.217.903/0001-42</td>\n",
       "      <td>6.69</td>\n",
       "    </tr>\n",
       "    <tr>\n",
       "      <th>12</th>\n",
       "      <td>PI</td>\n",
       "      <td>GASOLINA</td>\n",
       "      <td>T. M. VALENÇA LTDA.</td>\n",
       "      <td>08.570.781/0001-61</td>\n",
       "      <td>7.77</td>\n",
       "    </tr>\n",
       "  </tbody>\n",
       "</table>\n",
       "</div>"
      ],
      "text/plain": [
       "   estado_sigla   produto                                            revenda  \\\n",
       "1            ES  GASOLINA  SAO FRANCISCO DE ASSIS COMERCIO DE COMBUSTIVEI...   \n",
       "3            ES  GASOLINA                                 POSTO MOTOCAP LTDA   \n",
       "6            GO  GASOLINA                       JUSTINIANO & JUSTINIANO LTDA   \n",
       "9            GO  GASOLINA                            VIENA AUTO POSTO EIRELI   \n",
       "12           PI  GASOLINA                                T. M. VALENÇA LTDA.   \n",
       "\n",
       "        cnpj_da_revenda  valor_de_venda  \n",
       "1    08.519.545/0001-10            7.38  \n",
       "3    04.814.652/0001-10            7.39  \n",
       "6    04.489.287/0001-16            5.99  \n",
       "9    05.217.903/0001-42            6.69  \n",
       "12   08.570.781/0001-61            7.77  "
      ]
     },
     "execution_count": 128,
     "metadata": {},
     "output_type": "execute_result"
    }
   ],
   "source": [
    "# 3. Resgatando valores acima da média para Gasolina\n",
    "\n",
    "gas_df=dados_uteis.loc[dados_uteis['produto'] == 'GASOLINA']\n",
    "mediagas_df= gas_df.loc[gas_df['valor_de_venda'] >= media_gas]\n",
    "mediagas_df.head()                     \n"
   ]
  },
  {
   "cell_type": "code",
   "execution_count": 129,
   "id": "CgE3-qOH8cCl",
   "metadata": {
    "executionInfo": {
     "elapsed": 23,
     "status": "aborted",
     "timestamp": 1664846380391,
     "user": {
      "displayName": "Stephanie Fernandes",
      "userId": "14058772314077983436"
     },
     "user_tz": 180
    },
    "id": "CgE3-qOH8cCl"
   },
   "outputs": [
    {
     "data": {
      "text/html": [
       "<div>\n",
       "<style scoped>\n",
       "    .dataframe tbody tr th:only-of-type {\n",
       "        vertical-align: middle;\n",
       "    }\n",
       "\n",
       "    .dataframe tbody tr th {\n",
       "        vertical-align: top;\n",
       "    }\n",
       "\n",
       "    .dataframe thead th {\n",
       "        text-align: right;\n",
       "    }\n",
       "</style>\n",
       "<table border=\"1\" class=\"dataframe\">\n",
       "  <thead>\n",
       "    <tr style=\"text-align: right;\">\n",
       "      <th></th>\n",
       "      <th>estado_sigla</th>\n",
       "      <th>produto</th>\n",
       "      <th>revenda</th>\n",
       "      <th>cnpj_da_revenda</th>\n",
       "      <th>valor_de_venda</th>\n",
       "    </tr>\n",
       "  </thead>\n",
       "  <tbody>\n",
       "    <tr>\n",
       "      <th>2</th>\n",
       "      <td>ES</td>\n",
       "      <td>ETANOL</td>\n",
       "      <td>POSTO MOTOCAP LTDA</td>\n",
       "      <td>04.814.652/0001-10</td>\n",
       "      <td>5.99</td>\n",
       "    </tr>\n",
       "    <tr>\n",
       "      <th>11</th>\n",
       "      <td>PI</td>\n",
       "      <td>ETANOL</td>\n",
       "      <td>T. M. VALENÇA LTDA.</td>\n",
       "      <td>08.570.781/0001-61</td>\n",
       "      <td>5.57</td>\n",
       "    </tr>\n",
       "    <tr>\n",
       "      <th>13</th>\n",
       "      <td>PI</td>\n",
       "      <td>ETANOL</td>\n",
       "      <td>POSTO SANTA MARIA LTDA</td>\n",
       "      <td>08.203.364/0001-80</td>\n",
       "      <td>5.57</td>\n",
       "    </tr>\n",
       "    <tr>\n",
       "      <th>16</th>\n",
       "      <td>PI</td>\n",
       "      <td>ETANOL</td>\n",
       "      <td>J A SILVA MERCADINHO</td>\n",
       "      <td>23.621.717/0002-37</td>\n",
       "      <td>5.49</td>\n",
       "    </tr>\n",
       "    <tr>\n",
       "      <th>21</th>\n",
       "      <td>PI</td>\n",
       "      <td>ETANOL</td>\n",
       "      <td>POSTO HIDROLANDIA LTDA</td>\n",
       "      <td>03.069.763/0001-87</td>\n",
       "      <td>5.45</td>\n",
       "    </tr>\n",
       "  </tbody>\n",
       "</table>\n",
       "</div>"
      ],
      "text/plain": [
       "   estado_sigla produto                 revenda      cnpj_da_revenda  \\\n",
       "2            ES  ETANOL      POSTO MOTOCAP LTDA   04.814.652/0001-10   \n",
       "11           PI  ETANOL     T. M. VALENÇA LTDA.   08.570.781/0001-61   \n",
       "13           PI  ETANOL  POSTO SANTA MARIA LTDA   08.203.364/0001-80   \n",
       "16           PI  ETANOL    J A SILVA MERCADINHO   23.621.717/0002-37   \n",
       "21           PI  ETANOL  POSTO HIDROLANDIA LTDA   03.069.763/0001-87   \n",
       "\n",
       "    valor_de_venda  \n",
       "2             5.99  \n",
       "11            5.57  \n",
       "13            5.57  \n",
       "16            5.49  \n",
       "21            5.45  "
      ]
     },
     "execution_count": 129,
     "metadata": {},
     "output_type": "execute_result"
    }
   ],
   "source": [
    "# 4. Resgatando valores acima da média para Etanol\n",
    "eta_df=dados_uteis.loc[dados_uteis['produto'] == 'ETANOL']\n",
    "mediaeta_df= eta_df.loc[eta_df['valor_de_venda'] >= media_et]\n",
    "mediaeta_df.head()  "
   ]
  },
  {
   "cell_type": "code",
   "execution_count": 130,
   "id": "NQgll9-NWYBT",
   "metadata": {
    "executionInfo": {
     "elapsed": 23,
     "status": "aborted",
     "timestamp": 1664846380391,
     "user": {
      "displayName": "Stephanie Fernandes",
      "userId": "14058772314077983436"
     },
     "user_tz": 180
    },
    "id": "NQgll9-NWYBT"
   },
   "outputs": [
    {
     "data": {
      "text/html": [
       "<div>\n",
       "<style scoped>\n",
       "    .dataframe tbody tr th:only-of-type {\n",
       "        vertical-align: middle;\n",
       "    }\n",
       "\n",
       "    .dataframe tbody tr th {\n",
       "        vertical-align: top;\n",
       "    }\n",
       "\n",
       "    .dataframe thead th {\n",
       "        text-align: right;\n",
       "    }\n",
       "</style>\n",
       "<table border=\"1\" class=\"dataframe\">\n",
       "  <thead>\n",
       "    <tr style=\"text-align: right;\">\n",
       "      <th></th>\n",
       "      <th>valor_de_venda</th>\n",
       "    </tr>\n",
       "    <tr>\n",
       "      <th>estado_sigla</th>\n",
       "      <th></th>\n",
       "    </tr>\n",
       "  </thead>\n",
       "  <tbody>\n",
       "    <tr>\n",
       "      <th>AC</th>\n",
       "      <td>6.211454</td>\n",
       "    </tr>\n",
       "    <tr>\n",
       "      <th>AL</th>\n",
       "      <td>5.944651</td>\n",
       "    </tr>\n",
       "    <tr>\n",
       "      <th>AM</th>\n",
       "      <td>6.188049</td>\n",
       "    </tr>\n",
       "    <tr>\n",
       "      <th>AP</th>\n",
       "      <td>5.107056</td>\n",
       "    </tr>\n",
       "    <tr>\n",
       "      <th>BA</th>\n",
       "      <td>6.030862</td>\n",
       "    </tr>\n",
       "    <tr>\n",
       "      <th>CE</th>\n",
       "      <td>5.955275</td>\n",
       "    </tr>\n",
       "    <tr>\n",
       "      <th>DF</th>\n",
       "      <td>5.600662</td>\n",
       "    </tr>\n",
       "    <tr>\n",
       "      <th>ES</th>\n",
       "      <td>5.796058</td>\n",
       "    </tr>\n",
       "    <tr>\n",
       "      <th>GO</th>\n",
       "      <td>5.518703</td>\n",
       "    </tr>\n",
       "    <tr>\n",
       "      <th>MA</th>\n",
       "      <td>5.949016</td>\n",
       "    </tr>\n",
       "    <tr>\n",
       "      <th>MG</th>\n",
       "      <td>5.669344</td>\n",
       "    </tr>\n",
       "    <tr>\n",
       "      <th>MS</th>\n",
       "      <td>5.557874</td>\n",
       "    </tr>\n",
       "    <tr>\n",
       "      <th>MT</th>\n",
       "      <td>5.680068</td>\n",
       "    </tr>\n",
       "    <tr>\n",
       "      <th>PA</th>\n",
       "      <td>6.014379</td>\n",
       "    </tr>\n",
       "    <tr>\n",
       "      <th>PB</th>\n",
       "      <td>5.748032</td>\n",
       "    </tr>\n",
       "    <tr>\n",
       "      <th>PE</th>\n",
       "      <td>5.928172</td>\n",
       "    </tr>\n",
       "    <tr>\n",
       "      <th>PI</th>\n",
       "      <td>6.075050</td>\n",
       "    </tr>\n",
       "    <tr>\n",
       "      <th>PR</th>\n",
       "      <td>5.630792</td>\n",
       "    </tr>\n",
       "    <tr>\n",
       "      <th>RJ</th>\n",
       "      <td>5.840389</td>\n",
       "    </tr>\n",
       "    <tr>\n",
       "      <th>RN</th>\n",
       "      <td>6.029264</td>\n",
       "    </tr>\n",
       "    <tr>\n",
       "      <th>RO</th>\n",
       "      <td>5.833149</td>\n",
       "    </tr>\n",
       "    <tr>\n",
       "      <th>RR</th>\n",
       "      <td>6.030085</td>\n",
       "    </tr>\n",
       "    <tr>\n",
       "      <th>RS</th>\n",
       "      <td>5.628316</td>\n",
       "    </tr>\n",
       "    <tr>\n",
       "      <th>SC</th>\n",
       "      <td>5.675602</td>\n",
       "    </tr>\n",
       "    <tr>\n",
       "      <th>SE</th>\n",
       "      <td>5.575627</td>\n",
       "    </tr>\n",
       "    <tr>\n",
       "      <th>SP</th>\n",
       "      <td>5.527844</td>\n",
       "    </tr>\n",
       "    <tr>\n",
       "      <th>TO</th>\n",
       "      <td>6.046250</td>\n",
       "    </tr>\n",
       "  </tbody>\n",
       "</table>\n",
       "</div>"
      ],
      "text/plain": [
       "              valor_de_venda\n",
       "estado_sigla                \n",
       "AC                  6.211454\n",
       "AL                  5.944651\n",
       "AM                  6.188049\n",
       "AP                  5.107056\n",
       "BA                  6.030862\n",
       "CE                  5.955275\n",
       "DF                  5.600662\n",
       "ES                  5.796058\n",
       "GO                  5.518703\n",
       "MA                  5.949016\n",
       "MG                  5.669344\n",
       "MS                  5.557874\n",
       "MT                  5.680068\n",
       "PA                  6.014379\n",
       "PB                  5.748032\n",
       "PE                  5.928172\n",
       "PI                  6.075050\n",
       "PR                  5.630792\n",
       "RJ                  5.840389\n",
       "RN                  6.029264\n",
       "RO                  5.833149\n",
       "RR                  6.030085\n",
       "RS                  5.628316\n",
       "SC                  5.675602\n",
       "SE                  5.575627\n",
       "SP                  5.527844\n",
       "TO                  6.046250"
      ]
     },
     "execution_count": 130,
     "metadata": {},
     "output_type": "execute_result"
    }
   ],
   "source": [
    "# 5.  Preço médio da Gasolina por estado\n",
    "gas_df.groupby(['estado_sigla']).mean()"
   ]
  },
  {
   "cell_type": "code",
   "execution_count": 131,
   "id": "0D7MgMmYM3yO",
   "metadata": {
    "executionInfo": {
     "elapsed": 24,
     "status": "aborted",
     "timestamp": 1664846380392,
     "user": {
      "displayName": "Stephanie Fernandes",
      "userId": "14058772314077983436"
     },
     "user_tz": 180
    },
    "id": "0D7MgMmYM3yO"
   },
   "outputs": [
    {
     "data": {
      "text/html": [
       "<div>\n",
       "<style scoped>\n",
       "    .dataframe tbody tr th:only-of-type {\n",
       "        vertical-align: middle;\n",
       "    }\n",
       "\n",
       "    .dataframe tbody tr th {\n",
       "        vertical-align: top;\n",
       "    }\n",
       "\n",
       "    .dataframe thead th {\n",
       "        text-align: right;\n",
       "    }\n",
       "</style>\n",
       "<table border=\"1\" class=\"dataframe\">\n",
       "  <thead>\n",
       "    <tr style=\"text-align: right;\">\n",
       "      <th></th>\n",
       "      <th>valor_de_venda</th>\n",
       "    </tr>\n",
       "    <tr>\n",
       "      <th>estado_sigla</th>\n",
       "      <th></th>\n",
       "    </tr>\n",
       "  </thead>\n",
       "  <tbody>\n",
       "    <tr>\n",
       "      <th>AC</th>\n",
       "      <td>5.376684</td>\n",
       "    </tr>\n",
       "    <tr>\n",
       "      <th>AL</th>\n",
       "      <td>5.240854</td>\n",
       "    </tr>\n",
       "    <tr>\n",
       "      <th>AM</th>\n",
       "      <td>4.952985</td>\n",
       "    </tr>\n",
       "    <tr>\n",
       "      <th>AP</th>\n",
       "      <td>5.896250</td>\n",
       "    </tr>\n",
       "    <tr>\n",
       "      <th>BA</th>\n",
       "      <td>5.074360</td>\n",
       "    </tr>\n",
       "    <tr>\n",
       "      <th>CE</th>\n",
       "      <td>5.482219</td>\n",
       "    </tr>\n",
       "    <tr>\n",
       "      <th>DF</th>\n",
       "      <td>4.749265</td>\n",
       "    </tr>\n",
       "    <tr>\n",
       "      <th>ES</th>\n",
       "      <td>4.963646</td>\n",
       "    </tr>\n",
       "    <tr>\n",
       "      <th>GO</th>\n",
       "      <td>4.060479</td>\n",
       "    </tr>\n",
       "    <tr>\n",
       "      <th>MA</th>\n",
       "      <td>5.332013</td>\n",
       "    </tr>\n",
       "    <tr>\n",
       "      <th>MG</th>\n",
       "      <td>4.250565</td>\n",
       "    </tr>\n",
       "    <tr>\n",
       "      <th>MS</th>\n",
       "      <td>4.407469</td>\n",
       "    </tr>\n",
       "    <tr>\n",
       "      <th>MT</th>\n",
       "      <td>3.805687</td>\n",
       "    </tr>\n",
       "    <tr>\n",
       "      <th>PA</th>\n",
       "      <td>5.624816</td>\n",
       "    </tr>\n",
       "    <tr>\n",
       "      <th>PB</th>\n",
       "      <td>5.103019</td>\n",
       "    </tr>\n",
       "    <tr>\n",
       "      <th>PE</th>\n",
       "      <td>5.344424</td>\n",
       "    </tr>\n",
       "    <tr>\n",
       "      <th>PI</th>\n",
       "      <td>4.987114</td>\n",
       "    </tr>\n",
       "    <tr>\n",
       "      <th>PR</th>\n",
       "      <td>4.422551</td>\n",
       "    </tr>\n",
       "    <tr>\n",
       "      <th>RJ</th>\n",
       "      <td>4.874418</td>\n",
       "    </tr>\n",
       "    <tr>\n",
       "      <th>RN</th>\n",
       "      <td>5.482434</td>\n",
       "    </tr>\n",
       "    <tr>\n",
       "      <th>RO</th>\n",
       "      <td>5.599120</td>\n",
       "    </tr>\n",
       "    <tr>\n",
       "      <th>RR</th>\n",
       "      <td>5.568182</td>\n",
       "    </tr>\n",
       "    <tr>\n",
       "      <th>RS</th>\n",
       "      <td>5.660152</td>\n",
       "    </tr>\n",
       "    <tr>\n",
       "      <th>SC</th>\n",
       "      <td>5.214084</td>\n",
       "    </tr>\n",
       "    <tr>\n",
       "      <th>SE</th>\n",
       "      <td>5.092656</td>\n",
       "    </tr>\n",
       "    <tr>\n",
       "      <th>SP</th>\n",
       "      <td>3.895819</td>\n",
       "    </tr>\n",
       "    <tr>\n",
       "      <th>TO</th>\n",
       "      <td>5.151095</td>\n",
       "    </tr>\n",
       "  </tbody>\n",
       "</table>\n",
       "</div>"
      ],
      "text/plain": [
       "              valor_de_venda\n",
       "estado_sigla                \n",
       "AC                  5.376684\n",
       "AL                  5.240854\n",
       "AM                  4.952985\n",
       "AP                  5.896250\n",
       "BA                  5.074360\n",
       "CE                  5.482219\n",
       "DF                  4.749265\n",
       "ES                  4.963646\n",
       "GO                  4.060479\n",
       "MA                  5.332013\n",
       "MG                  4.250565\n",
       "MS                  4.407469\n",
       "MT                  3.805687\n",
       "PA                  5.624816\n",
       "PB                  5.103019\n",
       "PE                  5.344424\n",
       "PI                  4.987114\n",
       "PR                  4.422551\n",
       "RJ                  4.874418\n",
       "RN                  5.482434\n",
       "RO                  5.599120\n",
       "RR                  5.568182\n",
       "RS                  5.660152\n",
       "SC                  5.214084\n",
       "SE                  5.092656\n",
       "SP                  3.895819\n",
       "TO                  5.151095"
      ]
     },
     "execution_count": 131,
     "metadata": {},
     "output_type": "execute_result"
    }
   ],
   "source": [
    "# 6.  Preço médio do Etanol por estado\n",
    "eta_df.groupby(['estado_sigla']).mean()"
   ]
  },
  {
   "cell_type": "code",
   "execution_count": 132,
   "id": "M5zfmWAAmfb_",
   "metadata": {
    "id": "M5zfmWAAmfb_"
   },
   "outputs": [
    {
     "data": {
      "text/html": [
       "<style type=\"text/css\">\n",
       "#T_4a8d1_row0_col0 {\n",
       "  background-color: #7f2704;\n",
       "  color: #f1f1f1;\n",
       "}\n",
       "#T_4a8d1_row1_col0 {\n",
       "  background-color: #8b2c04;\n",
       "  color: #f1f1f1;\n",
       "}\n",
       "#T_4a8d1_row2_col0 {\n",
       "  background-color: #fee2c6;\n",
       "  color: #000000;\n",
       "}\n",
       "#T_4a8d1_row3_col0 {\n",
       "  background-color: #feebd7;\n",
       "  color: #000000;\n",
       "}\n",
       "#T_4a8d1_row4_col0 {\n",
       "  background-color: #fff5eb;\n",
       "  color: #000000;\n",
       "}\n",
       "</style>\n",
       "<table id=\"T_4a8d1\">\n",
       "  <thead>\n",
       "    <tr>\n",
       "      <th class=\"blank\" >&nbsp;</th>\n",
       "      <th class=\"blank level0\" >&nbsp;</th>\n",
       "      <th id=\"T_4a8d1_level0_col0\" class=\"col_heading level0 col0\" >valor_de_venda</th>\n",
       "    </tr>\n",
       "    <tr>\n",
       "      <th class=\"index_name level0\" >regiao_sigla</th>\n",
       "      <th class=\"index_name level1\" >produto</th>\n",
       "      <th class=\"blank col0\" >&nbsp;</th>\n",
       "    </tr>\n",
       "  </thead>\n",
       "  <tbody>\n",
       "    <tr>\n",
       "      <th id=\"T_4a8d1_level0_row0\" class=\"row_heading level0 row0\" >N: Norte</th>\n",
       "      <th id=\"T_4a8d1_level1_row0\" class=\"row_heading level1 row0\" >GASOLINA</th>\n",
       "      <td id=\"T_4a8d1_row0_col0\" class=\"data row0 col0\" >5.972000</td>\n",
       "    </tr>\n",
       "    <tr>\n",
       "      <th id=\"T_4a8d1_level0_row1\" class=\"row_heading level0 row1\" >NE: Nordeste</th>\n",
       "      <th id=\"T_4a8d1_level1_row1\" class=\"row_heading level1 row1\" >GASOLINA</th>\n",
       "      <td id=\"T_4a8d1_row1_col0\" class=\"data row1 col0\" >5.956000</td>\n",
       "    </tr>\n",
       "    <tr>\n",
       "      <th id=\"T_4a8d1_level0_row2\" class=\"row_heading level0 row2\" >S: Sul</th>\n",
       "      <th id=\"T_4a8d1_level1_row2\" class=\"row_heading level1 row2\" >GASOLINA</th>\n",
       "      <td id=\"T_4a8d1_row2_col0\" class=\"data row2 col0\" >5.641000</td>\n",
       "    </tr>\n",
       "    <tr>\n",
       "      <th id=\"T_4a8d1_level0_row3\" class=\"row_heading level0 row3\" >SE: Sudeste</th>\n",
       "      <th id=\"T_4a8d1_level1_row3\" class=\"row_heading level1 row3\" >GASOLINA</th>\n",
       "      <td id=\"T_4a8d1_row3_col0\" class=\"data row3 col0\" >5.616000</td>\n",
       "    </tr>\n",
       "    <tr>\n",
       "      <th id=\"T_4a8d1_level0_row4\" class=\"row_heading level0 row4\" >CO: Centro-Oeste</th>\n",
       "      <th id=\"T_4a8d1_level1_row4\" class=\"row_heading level1 row4\" >GASOLINA</th>\n",
       "      <td id=\"T_4a8d1_row4_col0\" class=\"data row4 col0\" >5.582000</td>\n",
       "    </tr>\n",
       "  </tbody>\n",
       "</table>\n"
      ],
      "text/plain": [
       "<pandas.io.formats.style.Styler at 0x1e959267310>"
      ]
     },
     "execution_count": 132,
     "metadata": {},
     "output_type": "execute_result"
    }
   ],
   "source": [
    "# 7. Qual a região que possui o maior valor médio da gasolina? \n",
    "regiao_maior_med_gas = dados_novo_arquivo[dados_novo_arquivo['produto']=='GASOLINA'].groupby(['regiao_sigla', 'produto']).aggregate( {\"valor_de_venda\":\"mean\"}).round(3).sort_values('valor_de_venda', ascending=False)\n",
    "regiao_maior_med_gas.style.background_gradient(cmap='Oranges')"
   ]
  },
  {
   "cell_type": "code",
   "execution_count": 133,
   "id": "6LVZKVAKmjbV",
   "metadata": {
    "id": "6LVZKVAKmjbV"
   },
   "outputs": [
    {
     "data": {
      "text/plain": [
       "valor_de_venda    5.972\n",
       "dtype: float64"
      ]
     },
     "execution_count": 133,
     "metadata": {},
     "output_type": "execute_result"
    }
   ],
   "source": [
    "regiao_maior_med_gas.max()"
   ]
  },
  {
   "cell_type": "code",
   "execution_count": 134,
   "id": "trCVFwNamnnv",
   "metadata": {
    "id": "trCVFwNamnnv"
   },
   "outputs": [
    {
     "data": {
      "text/html": [
       "<style type=\"text/css\">\n",
       "#T_7e6b4_row0_col0 {\n",
       "  background-color: #f7fcfd;\n",
       "  color: #000000;\n",
       "}\n",
       "#T_7e6b4_row1_col0 {\n",
       "  background-color: #f1f8fb;\n",
       "  color: #000000;\n",
       "}\n",
       "#T_7e6b4_row2_col0 {\n",
       "  background-color: #8c75b6;\n",
       "  color: #f1f1f1;\n",
       "}\n",
       "#T_7e6b4_row3_col0 {\n",
       "  background-color: #6c0968;\n",
       "  color: #f1f1f1;\n",
       "}\n",
       "#T_7e6b4_row4_col0 {\n",
       "  background-color: #4d004b;\n",
       "  color: #f1f1f1;\n",
       "}\n",
       "</style>\n",
       "<table id=\"T_7e6b4\">\n",
       "  <thead>\n",
       "    <tr>\n",
       "      <th class=\"blank\" >&nbsp;</th>\n",
       "      <th class=\"blank level0\" >&nbsp;</th>\n",
       "      <th id=\"T_7e6b4_level0_col0\" class=\"col_heading level0 col0\" >valor_de_venda</th>\n",
       "    </tr>\n",
       "    <tr>\n",
       "      <th class=\"index_name level0\" >regiao_sigla</th>\n",
       "      <th class=\"index_name level1\" >produto</th>\n",
       "      <th class=\"blank col0\" >&nbsp;</th>\n",
       "    </tr>\n",
       "  </thead>\n",
       "  <tbody>\n",
       "    <tr>\n",
       "      <th id=\"T_7e6b4_level0_row0\" class=\"row_heading level0 row0\" >CO: Centro-Oeste</th>\n",
       "      <th id=\"T_7e6b4_level1_row0\" class=\"row_heading level1 row0\" >ETANOL</th>\n",
       "      <td id=\"T_7e6b4_row0_col0\" class=\"data row0 col0\" >4.107000</td>\n",
       "    </tr>\n",
       "    <tr>\n",
       "      <th id=\"T_7e6b4_level0_row1\" class=\"row_heading level0 row1\" >SE: Sudeste</th>\n",
       "      <th id=\"T_7e6b4_level1_row1\" class=\"row_heading level1 row1\" >ETANOL</th>\n",
       "      <td id=\"T_7e6b4_row1_col0\" class=\"data row1 col0\" >4.150000</td>\n",
       "    </tr>\n",
       "    <tr>\n",
       "      <th id=\"T_7e6b4_level0_row2\" class=\"row_heading level0 row2\" >S: Sul</th>\n",
       "      <th id=\"T_7e6b4_level1_row2\" class=\"row_heading level1 row2\" >ETANOL</th>\n",
       "      <td id=\"T_7e6b4_row2_col0\" class=\"data row2 col0\" >4.842000</td>\n",
       "    </tr>\n",
       "    <tr>\n",
       "      <th id=\"T_7e6b4_level0_row3\" class=\"row_heading level0 row3\" >NE: Nordeste</th>\n",
       "      <th id=\"T_7e6b4_level1_row3\" class=\"row_heading level1 row3\" >ETANOL</th>\n",
       "      <td id=\"T_7e6b4_row3_col0\" class=\"data row3 col0\" >5.246000</td>\n",
       "    </tr>\n",
       "    <tr>\n",
       "      <th id=\"T_7e6b4_level0_row4\" class=\"row_heading level0 row4\" >N: Norte</th>\n",
       "      <th id=\"T_7e6b4_level1_row4\" class=\"row_heading level1 row4\" >ETANOL</th>\n",
       "      <td id=\"T_7e6b4_row4_col0\" class=\"data row4 col0\" >5.341000</td>\n",
       "    </tr>\n",
       "  </tbody>\n",
       "</table>\n"
      ],
      "text/plain": [
       "<pandas.io.formats.style.Styler at 0x1e955878c10>"
      ]
     },
     "execution_count": 134,
     "metadata": {},
     "output_type": "execute_result"
    }
   ],
   "source": [
    "# 8. Qual a região que possui o menor valor médio do etanol?\n",
    "regiao_menor_med_etanol = dados_novo_arquivo[dados_novo_arquivo['produto']=='ETANOL'].groupby(['regiao_sigla', 'produto']).aggregate( {\"valor_de_venda\":\"mean\"}).round(3).sort_values('valor_de_venda')\n",
    "regiao_menor_med_etanol.style.background_gradient(cmap='BuPu')\n"
   ]
  },
  {
   "cell_type": "code",
   "execution_count": 135,
   "id": "nGvfS-7dmwH4",
   "metadata": {
    "id": "nGvfS-7dmwH4"
   },
   "outputs": [
    {
     "data": {
      "text/plain": [
       "valor_de_venda    4.107\n",
       "dtype: float64"
      ]
     },
     "execution_count": 135,
     "metadata": {},
     "output_type": "execute_result"
    }
   ],
   "source": [
    "regiao_menor_med_etanol.min()"
   ]
  }
 ],
 "metadata": {
  "colab": {
   "collapsed_sections": [
    "333ceebc",
    "caecfb3d",
    "428fbdf4",
    "70b18086",
    "d41c799b",
    "ZvxnrYo93LYa",
    "lWRHgP8L3YLw"
   ],
   "provenance": []
  },
  "kernelspec": {
   "display_name": "Python 3 (ipykernel)",
   "language": "python",
   "name": "python3"
  },
  "language_info": {
   "codemirror_mode": {
    "name": "ipython",
    "version": 3
   },
   "file_extension": ".py",
   "mimetype": "text/x-python",
   "name": "python",
   "nbconvert_exporter": "python",
   "pygments_lexer": "ipython3",
   "version": "3.9.12"
  }
 },
 "nbformat": 4,
 "nbformat_minor": 5
}

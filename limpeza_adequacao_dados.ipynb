{
 "cells": [
  {
   "cell_type": "markdown",
   "id": "581082a2",
   "metadata": {},
   "source": [
    "#  Limpeza e adequação da nomenclatura "
   ]
  },
  {
   "cell_type": "markdown",
   "id": "19c169b4",
   "metadata": {},
   "source": [
    "## Entrada dos dados"
   ]
  },
  {
   "cell_type": "markdown",
   "id": "29859f30",
   "metadata": {},
   "source": [
    "### Preparando ambiente"
   ]
  },
  {
   "cell_type": "code",
   "execution_count": 4,
   "id": "56ce07d4",
   "metadata": {},
   "outputs": [],
   "source": [
    "#importando bibliotecas \n",
    "import pandas as pd\n",
    "import numpy as np\n",
    "import seaborn as sns\n",
    "import matplotlib.pyplot as plt"
   ]
  },
  {
   "cell_type": "markdown",
   "id": "de72661a",
   "metadata": {},
   "source": [
    "### Importando dados de julho de 2022"
   ]
  },
  {
   "cell_type": "code",
   "execution_count": 7,
   "id": "9361be54",
   "metadata": {
    "collapsed": true
   },
   "outputs": [
    {
     "data": {
      "text/html": [
       "<div>\n",
       "<style scoped>\n",
       "    .dataframe tbody tr th:only-of-type {\n",
       "        vertical-align: middle;\n",
       "    }\n",
       "\n",
       "    .dataframe tbody tr th {\n",
       "        vertical-align: top;\n",
       "    }\n",
       "\n",
       "    .dataframe thead th {\n",
       "        text-align: right;\n",
       "    }\n",
       "</style>\n",
       "<table border=\"1\" class=\"dataframe\">\n",
       "  <thead>\n",
       "    <tr style=\"text-align: right;\">\n",
       "      <th></th>\n",
       "      <th>Regiao - Sigla</th>\n",
       "      <th>Estado - Sigla</th>\n",
       "      <th>Municipio</th>\n",
       "      <th>Revenda</th>\n",
       "      <th>CNPJ da Revenda</th>\n",
       "      <th>Nome da Rua</th>\n",
       "      <th>Numero Rua</th>\n",
       "      <th>Complemento</th>\n",
       "      <th>Bairro</th>\n",
       "      <th>Cep</th>\n",
       "      <th>Produto</th>\n",
       "      <th>Data da Coleta</th>\n",
       "      <th>Valor de Venda</th>\n",
       "      <th>Valor de Compra</th>\n",
       "      <th>Unidade de Medida</th>\n",
       "      <th>Bandeira</th>\n",
       "    </tr>\n",
       "  </thead>\n",
       "  <tbody>\n",
       "    <tr>\n",
       "      <th>0</th>\n",
       "      <td>SE</td>\n",
       "      <td>ES</td>\n",
       "      <td>COLATINA</td>\n",
       "      <td>SAO FRANCISCO DE ASSIS COMERCIO DE COMBUSTIVEI...</td>\n",
       "      <td>08.519.545/0001-10</td>\n",
       "      <td>PRACA FIDELIS FERRARI</td>\n",
       "      <td>35</td>\n",
       "      <td>NaN</td>\n",
       "      <td>LACE</td>\n",
       "      <td>29703-030</td>\n",
       "      <td>GASOLINA ADITIVADA</td>\n",
       "      <td>01/07/2022</td>\n",
       "      <td>7,48</td>\n",
       "      <td>NaN</td>\n",
       "      <td>R$ / litro</td>\n",
       "      <td>VIBRA ENERGIA</td>\n",
       "    </tr>\n",
       "    <tr>\n",
       "      <th>1</th>\n",
       "      <td>SE</td>\n",
       "      <td>ES</td>\n",
       "      <td>COLATINA</td>\n",
       "      <td>SAO FRANCISCO DE ASSIS COMERCIO DE COMBUSTIVEI...</td>\n",
       "      <td>08.519.545/0001-10</td>\n",
       "      <td>PRACA FIDELIS FERRARI</td>\n",
       "      <td>35</td>\n",
       "      <td>NaN</td>\n",
       "      <td>LACE</td>\n",
       "      <td>29703-030</td>\n",
       "      <td>GASOLINA</td>\n",
       "      <td>01/07/2022</td>\n",
       "      <td>7,38</td>\n",
       "      <td>NaN</td>\n",
       "      <td>R$ / litro</td>\n",
       "      <td>VIBRA ENERGIA</td>\n",
       "    </tr>\n",
       "    <tr>\n",
       "      <th>2</th>\n",
       "      <td>SE</td>\n",
       "      <td>ES</td>\n",
       "      <td>COLATINA</td>\n",
       "      <td>POSTO MOTOCAP LTDA</td>\n",
       "      <td>04.814.652/0001-10</td>\n",
       "      <td>PRACA ALMIRANTE BARROSO</td>\n",
       "      <td>52</td>\n",
       "      <td>LETRA A</td>\n",
       "      <td>LACE</td>\n",
       "      <td>29703-055</td>\n",
       "      <td>ETANOL</td>\n",
       "      <td>01/07/2022</td>\n",
       "      <td>5,99</td>\n",
       "      <td>NaN</td>\n",
       "      <td>R$ / litro</td>\n",
       "      <td>VIBRA ENERGIA</td>\n",
       "    </tr>\n",
       "    <tr>\n",
       "      <th>3</th>\n",
       "      <td>SE</td>\n",
       "      <td>ES</td>\n",
       "      <td>COLATINA</td>\n",
       "      <td>POSTO MOTOCAP LTDA</td>\n",
       "      <td>04.814.652/0001-10</td>\n",
       "      <td>PRACA ALMIRANTE BARROSO</td>\n",
       "      <td>52</td>\n",
       "      <td>LETRA A</td>\n",
       "      <td>LACE</td>\n",
       "      <td>29703-055</td>\n",
       "      <td>GASOLINA</td>\n",
       "      <td>01/07/2022</td>\n",
       "      <td>7,39</td>\n",
       "      <td>NaN</td>\n",
       "      <td>R$ / litro</td>\n",
       "      <td>VIBRA ENERGIA</td>\n",
       "    </tr>\n",
       "    <tr>\n",
       "      <th>4</th>\n",
       "      <td>CO</td>\n",
       "      <td>GO</td>\n",
       "      <td>GOIANIA</td>\n",
       "      <td>JUSTINIANO &amp; JUSTINIANO LTDA</td>\n",
       "      <td>04.489.287/0001-16</td>\n",
       "      <td>AVENIDA JOSE LEANDRO DA CRUZ</td>\n",
       "      <td>2,36</td>\n",
       "      <td>QUADRA 18, LOTE 01</td>\n",
       "      <td>PARQUE AMAZONIA</td>\n",
       "      <td>74840-390</td>\n",
       "      <td>GASOLINA ADITIVADA</td>\n",
       "      <td>01/07/2022</td>\n",
       "      <td>6,49</td>\n",
       "      <td>NaN</td>\n",
       "      <td>R$ / litro</td>\n",
       "      <td>IPIRANGA</td>\n",
       "    </tr>\n",
       "  </tbody>\n",
       "</table>\n",
       "</div>"
      ],
      "text/plain": [
       "  Regiao - Sigla Estado - Sigla Municipio  \\\n",
       "0             SE             ES  COLATINA   \n",
       "1             SE             ES  COLATINA   \n",
       "2             SE             ES  COLATINA   \n",
       "3             SE             ES  COLATINA   \n",
       "4             CO             GO   GOIANIA   \n",
       "\n",
       "                                             Revenda      CNPJ da Revenda  \\\n",
       "0  SAO FRANCISCO DE ASSIS COMERCIO DE COMBUSTIVEI...   08.519.545/0001-10   \n",
       "1  SAO FRANCISCO DE ASSIS COMERCIO DE COMBUSTIVEI...   08.519.545/0001-10   \n",
       "2                                 POSTO MOTOCAP LTDA   04.814.652/0001-10   \n",
       "3                                 POSTO MOTOCAP LTDA   04.814.652/0001-10   \n",
       "4                       JUSTINIANO & JUSTINIANO LTDA   04.489.287/0001-16   \n",
       "\n",
       "                    Nome da Rua Numero Rua         Complemento  \\\n",
       "0         PRACA FIDELIS FERRARI         35                 NaN   \n",
       "1         PRACA FIDELIS FERRARI         35                 NaN   \n",
       "2       PRACA ALMIRANTE BARROSO         52             LETRA A   \n",
       "3       PRACA ALMIRANTE BARROSO         52             LETRA A   \n",
       "4  AVENIDA JOSE LEANDRO DA CRUZ       2,36  QUADRA 18, LOTE 01   \n",
       "\n",
       "            Bairro        Cep             Produto Data da Coleta  \\\n",
       "0             LACE  29703-030  GASOLINA ADITIVADA     01/07/2022   \n",
       "1             LACE  29703-030            GASOLINA     01/07/2022   \n",
       "2             LACE  29703-055              ETANOL     01/07/2022   \n",
       "3             LACE  29703-055            GASOLINA     01/07/2022   \n",
       "4  PARQUE AMAZONIA  74840-390  GASOLINA ADITIVADA     01/07/2022   \n",
       "\n",
       "  Valor de Venda  Valor de Compra Unidade de Medida       Bandeira  \n",
       "0           7,48              NaN        R$ / litro  VIBRA ENERGIA  \n",
       "1           7,38              NaN        R$ / litro  VIBRA ENERGIA  \n",
       "2           5,99              NaN        R$ / litro  VIBRA ENERGIA  \n",
       "3           7,39              NaN        R$ / litro  VIBRA ENERGIA  \n",
       "4           6,49              NaN        R$ / litro       IPIRANGA  "
      ]
     },
     "execution_count": 7,
     "metadata": {},
     "output_type": "execute_result"
    }
   ],
   "source": [
    "dados_brutos_julho = pd.read_csv('dados\\dados_originais\\precos-gasolina-etanol-julho.csv', sep=';')\n",
    "dados_brutos_julho.head()"
   ]
  },
  {
   "cell_type": "markdown",
   "id": "eac24cf0",
   "metadata": {},
   "source": [
    "### Importando dados de agosto de 2022"
   ]
  },
  {
   "cell_type": "code",
   "execution_count": 8,
   "id": "87afea01",
   "metadata": {
    "collapsed": true
   },
   "outputs": [
    {
     "data": {
      "text/html": [
       "<div>\n",
       "<style scoped>\n",
       "    .dataframe tbody tr th:only-of-type {\n",
       "        vertical-align: middle;\n",
       "    }\n",
       "\n",
       "    .dataframe tbody tr th {\n",
       "        vertical-align: top;\n",
       "    }\n",
       "\n",
       "    .dataframe thead th {\n",
       "        text-align: right;\n",
       "    }\n",
       "</style>\n",
       "<table border=\"1\" class=\"dataframe\">\n",
       "  <thead>\n",
       "    <tr style=\"text-align: right;\">\n",
       "      <th></th>\n",
       "      <th>Regiao - Sigla</th>\n",
       "      <th>Estado - Sigla</th>\n",
       "      <th>Municipio</th>\n",
       "      <th>Revenda</th>\n",
       "      <th>CNPJ da Revenda</th>\n",
       "      <th>Nome da Rua</th>\n",
       "      <th>Numero Rua</th>\n",
       "      <th>Complemento</th>\n",
       "      <th>Bairro</th>\n",
       "      <th>Cep</th>\n",
       "      <th>Produto</th>\n",
       "      <th>Data da Coleta</th>\n",
       "      <th>Valor de Venda</th>\n",
       "      <th>Valor de Compra</th>\n",
       "      <th>Unidade de Medida</th>\n",
       "      <th>Bandeira</th>\n",
       "    </tr>\n",
       "  </thead>\n",
       "  <tbody>\n",
       "    <tr>\n",
       "      <th>0</th>\n",
       "      <td>NE</td>\n",
       "      <td>AL</td>\n",
       "      <td>ARAPIRACA</td>\n",
       "      <td>AUTO POSTO M M GARROTE LTDA</td>\n",
       "      <td>08.738.994/0001-50</td>\n",
       "      <td>RODOVIA AL-220</td>\n",
       "      <td>5848</td>\n",
       "      <td>KM    96</td>\n",
       "      <td>BOM SUCESSO</td>\n",
       "      <td>57309-035</td>\n",
       "      <td>ETANOL</td>\n",
       "      <td>01/08/2022</td>\n",
       "      <td>4,79</td>\n",
       "      <td>NaN</td>\n",
       "      <td>R$ / litro</td>\n",
       "      <td>VIBRA ENERGIA</td>\n",
       "    </tr>\n",
       "    <tr>\n",
       "      <th>1</th>\n",
       "      <td>NE</td>\n",
       "      <td>AL</td>\n",
       "      <td>ARAPIRACA</td>\n",
       "      <td>AUTO POSTO M M GARROTE LTDA</td>\n",
       "      <td>08.738.994/0001-50</td>\n",
       "      <td>RODOVIA AL-220</td>\n",
       "      <td>5848</td>\n",
       "      <td>KM    96</td>\n",
       "      <td>BOM SUCESSO</td>\n",
       "      <td>57309-035</td>\n",
       "      <td>GASOLINA</td>\n",
       "      <td>01/08/2022</td>\n",
       "      <td>5,59</td>\n",
       "      <td>NaN</td>\n",
       "      <td>R$ / litro</td>\n",
       "      <td>VIBRA ENERGIA</td>\n",
       "    </tr>\n",
       "    <tr>\n",
       "      <th>2</th>\n",
       "      <td>NE</td>\n",
       "      <td>AL</td>\n",
       "      <td>ARAPIRACA</td>\n",
       "      <td>AUTO POSTO MASSARANDUBA LTDA.</td>\n",
       "      <td>07.248.398/0001-29</td>\n",
       "      <td>RODOVIA AL 220</td>\n",
       "      <td>4698</td>\n",
       "      <td>NaN</td>\n",
       "      <td>PLANALTO</td>\n",
       "      <td>57308-000</td>\n",
       "      <td>GASOLINA ADITIVADA</td>\n",
       "      <td>01/08/2022</td>\n",
       "      <td>5,99</td>\n",
       "      <td>NaN</td>\n",
       "      <td>R$ / litro</td>\n",
       "      <td>BRANCA</td>\n",
       "    </tr>\n",
       "    <tr>\n",
       "      <th>3</th>\n",
       "      <td>NE</td>\n",
       "      <td>AL</td>\n",
       "      <td>ARAPIRACA</td>\n",
       "      <td>AUTO POSTO MASSARANDUBA LTDA.</td>\n",
       "      <td>07.248.398/0001-29</td>\n",
       "      <td>RODOVIA AL 220</td>\n",
       "      <td>4698</td>\n",
       "      <td>NaN</td>\n",
       "      <td>PLANALTO</td>\n",
       "      <td>57308-000</td>\n",
       "      <td>ETANOL</td>\n",
       "      <td>01/08/2022</td>\n",
       "      <td>4,99</td>\n",
       "      <td>NaN</td>\n",
       "      <td>R$ / litro</td>\n",
       "      <td>BRANCA</td>\n",
       "    </tr>\n",
       "    <tr>\n",
       "      <th>4</th>\n",
       "      <td>NE</td>\n",
       "      <td>AL</td>\n",
       "      <td>ARAPIRACA</td>\n",
       "      <td>AUTO POSTO MASSARANDUBA LTDA.</td>\n",
       "      <td>07.248.398/0001-29</td>\n",
       "      <td>RODOVIA AL 220</td>\n",
       "      <td>4698</td>\n",
       "      <td>NaN</td>\n",
       "      <td>PLANALTO</td>\n",
       "      <td>57308-000</td>\n",
       "      <td>GASOLINA</td>\n",
       "      <td>01/08/2022</td>\n",
       "      <td>5,79</td>\n",
       "      <td>NaN</td>\n",
       "      <td>R$ / litro</td>\n",
       "      <td>BRANCA</td>\n",
       "    </tr>\n",
       "  </tbody>\n",
       "</table>\n",
       "</div>"
      ],
      "text/plain": [
       "  Regiao - Sigla Estado - Sigla  Municipio                        Revenda  \\\n",
       "0             NE             AL  ARAPIRACA    AUTO POSTO M M GARROTE LTDA   \n",
       "1             NE             AL  ARAPIRACA    AUTO POSTO M M GARROTE LTDA   \n",
       "2             NE             AL  ARAPIRACA  AUTO POSTO MASSARANDUBA LTDA.   \n",
       "3             NE             AL  ARAPIRACA  AUTO POSTO MASSARANDUBA LTDA.   \n",
       "4             NE             AL  ARAPIRACA  AUTO POSTO MASSARANDUBA LTDA.   \n",
       "\n",
       "       CNPJ da Revenda     Nome da Rua Numero Rua Complemento       Bairro  \\\n",
       "0   08.738.994/0001-50  RODOVIA AL-220       5848    KM    96  BOM SUCESSO   \n",
       "1   08.738.994/0001-50  RODOVIA AL-220       5848    KM    96  BOM SUCESSO   \n",
       "2   07.248.398/0001-29  RODOVIA AL 220       4698         NaN     PLANALTO   \n",
       "3   07.248.398/0001-29  RODOVIA AL 220       4698         NaN     PLANALTO   \n",
       "4   07.248.398/0001-29  RODOVIA AL 220       4698         NaN     PLANALTO   \n",
       "\n",
       "         Cep             Produto Data da Coleta Valor de Venda  \\\n",
       "0  57309-035              ETANOL     01/08/2022           4,79   \n",
       "1  57309-035            GASOLINA     01/08/2022           5,59   \n",
       "2  57308-000  GASOLINA ADITIVADA     01/08/2022           5,99   \n",
       "3  57308-000              ETANOL     01/08/2022           4,99   \n",
       "4  57308-000            GASOLINA     01/08/2022           5,79   \n",
       "\n",
       "   Valor de Compra Unidade de Medida       Bandeira  \n",
       "0              NaN        R$ / litro  VIBRA ENERGIA  \n",
       "1              NaN        R$ / litro  VIBRA ENERGIA  \n",
       "2              NaN        R$ / litro         BRANCA  \n",
       "3              NaN        R$ / litro         BRANCA  \n",
       "4              NaN        R$ / litro         BRANCA  "
      ]
     },
     "execution_count": 8,
     "metadata": {},
     "output_type": "execute_result"
    }
   ],
   "source": [
    "dados_brutos_agosto = pd.read_csv('dados\\dados_originais\\precos-gasolina-etanol-agosto.csv', sep=';')\n",
    "dados_brutos_agosto.head()"
   ]
  },
  {
   "cell_type": "markdown",
   "id": "333ceebc",
   "metadata": {},
   "source": [
    "## União, adequação de dados e de nomenclatura"
   ]
  },
  {
   "cell_type": "markdown",
   "id": "6380cc97",
   "metadata": {},
   "source": [
    "### Modificação do padrão das datas"
   ]
  },
  {
   "cell_type": "code",
   "execution_count": 9,
   "id": "0faf0d5f",
   "metadata": {
    "collapsed": true
   },
   "outputs": [
    {
     "data": {
      "text/plain": [
       "0   2022-07-01\n",
       "1   2022-07-01\n",
       "2   2022-07-01\n",
       "3   2022-07-01\n",
       "4   2022-07-01\n",
       "Name: Data da Coleta, dtype: datetime64[ns]"
      ]
     },
     "execution_count": 9,
     "metadata": {},
     "output_type": "execute_result"
    }
   ],
   "source": [
    "#dados de julho\n",
    "dados_brutos_julho['Data da Coleta'] = pd.to_datetime(dados_brutos_julho['Data da Coleta'], dayfirst=True)\n",
    "dados_brutos_julho['Data da Coleta'].head()"
   ]
  },
  {
   "cell_type": "code",
   "execution_count": 10,
   "id": "d574d72d",
   "metadata": {
    "collapsed": true
   },
   "outputs": [
    {
     "data": {
      "text/plain": [
       "0   2022-07-01\n",
       "1   2022-07-01\n",
       "2   2022-07-01\n",
       "3   2022-07-01\n",
       "4   2022-07-01\n",
       "Name: Data da Coleta, dtype: datetime64[ns]"
      ]
     },
     "execution_count": 10,
     "metadata": {},
     "output_type": "execute_result"
    }
   ],
   "source": [
    "#dados de julho\n",
    "dados_brutos_julho['Data da Coleta'] = pd.to_datetime(dados_brutos_julho['Data da Coleta'], dayfirst=True)\n",
    "dados_brutos_julho['Data da Coleta'].head()"
   ]
  },
  {
   "cell_type": "markdown",
   "id": "5a5ce2be",
   "metadata": {},
   "source": [
    "### União dos dataframes "
   ]
  },
  {
   "cell_type": "code",
   "execution_count": 11,
   "id": "f02ce91a",
   "metadata": {},
   "outputs": [],
   "source": [
    "lista_dados = [dados_brutos_julho ,dados_brutos_agosto]\n",
    "dados_brutos = pd.concat(lista_dados, ignore_index= True, verify_integrity=True)"
   ]
  },
  {
   "cell_type": "markdown",
   "id": "fe4fb906",
   "metadata": {},
   "source": [
    "### Momenclatura das colunas "
   ]
  },
  {
   "cell_type": "code",
   "execution_count": 13,
   "id": "8368bae7",
   "metadata": {
    "collapsed": true
   },
   "outputs": [
    {
     "data": {
      "text/plain": [
       "Index(['regiao_sigla', 'estado_sigla', 'municipio', 'revenda',\n",
       "       'cnpj_da_revenda', 'nome_da_rua', 'numero_rua', 'complemento', 'bairro',\n",
       "       'cep', 'produto', 'data_da_coleta', 'valor_de_venda', 'valor_de_compra',\n",
       "       'unidade_de_medida', 'bandeira'],\n",
       "      dtype='object')"
      ]
     },
     "execution_count": 13,
     "metadata": {},
     "output_type": "execute_result"
    }
   ],
   "source": [
    "#modificacao do nome de columas\n",
    "dados_brutos.columns = dados_brutos.columns.str.replace('- ','')\n",
    "dados_brutos.columns = dados_brutos.columns.str.replace(' ','_')\n",
    "dados_brutos.columns = dados_brutos.columns.str.lower()\n",
    "dados_brutos.columns"
   ]
  },
  {
   "cell_type": "markdown",
   "id": "caecfb3d",
   "metadata": {},
   "source": [
    "## Verificação de valores "
   ]
  },
  {
   "cell_type": "markdown",
   "id": "428fbdf4",
   "metadata": {},
   "source": [
    "### Adequação dos valores da coluna valor_de_venda"
   ]
  },
  {
   "cell_type": "code",
   "execution_count": 14,
   "id": "15e7871c",
   "metadata": {},
   "outputs": [],
   "source": [
    "#tocando vigula por ponto e nudando de string para float\n",
    "valores_virgula = dados_brutos['valor_de_venda'].tolist()\n",
    "valores_ponto = [x.replace(',', '.') for x in valores_virgula]\n",
    "dados_brutos['valor_de_venda'] = valores_ponto\n",
    "dados_brutos['valor_de_venda'] = dados_brutos['valor_de_venda'].astype(float)"
   ]
  },
  {
   "cell_type": "code",
   "execution_count": 15,
   "id": "b119a352",
   "metadata": {
    "collapsed": true
   },
   "outputs": [
    {
     "name": "stdout",
     "output_type": "stream",
     "text": [
      "<class 'pandas.core.frame.DataFrame'>\n",
      "RangeIndex: 127176 entries, 0 to 127175\n",
      "Data columns (total 16 columns):\n",
      " #   Column             Non-Null Count   Dtype  \n",
      "---  ------             --------------   -----  \n",
      " 0   regiao_sigla       127176 non-null  object \n",
      " 1   estado_sigla       127176 non-null  object \n",
      " 2   municipio          127176 non-null  object \n",
      " 3   revenda            127176 non-null  object \n",
      " 4   cnpj_da_revenda    127176 non-null  object \n",
      " 5   nome_da_rua        127176 non-null  object \n",
      " 6   numero_rua         127105 non-null  object \n",
      " 7   complemento        27079 non-null   object \n",
      " 8   bairro             126764 non-null  object \n",
      " 9   cep                127176 non-null  object \n",
      " 10  produto            127176 non-null  object \n",
      " 11  data_da_coleta     127176 non-null  object \n",
      " 12  valor_de_venda     127176 non-null  float64\n",
      " 13  valor_de_compra    0 non-null       float64\n",
      " 14  unidade_de_medida  127176 non-null  object \n",
      " 15  bandeira           127176 non-null  object \n",
      "dtypes: float64(2), object(14)\n",
      "memory usage: 15.5+ MB\n"
     ]
    }
   ],
   "source": [
    "dados_brutos.info()"
   ]
  },
  {
   "cell_type": "markdown",
   "id": "70b18086",
   "metadata": {},
   "source": [
    "### Verificação colunas"
   ]
  },
  {
   "cell_type": "code",
   "execution_count": 16,
   "id": "966a73ac",
   "metadata": {
    "collapsed": true
   },
   "outputs": [
    {
     "name": "stdout",
     "output_type": "stream",
     "text": [
      "<class 'pandas.core.frame.DataFrame'>\n",
      "RangeIndex: 127176 entries, 0 to 127175\n",
      "Data columns (total 16 columns):\n",
      " #   Column             Non-Null Count   Dtype  \n",
      "---  ------             --------------   -----  \n",
      " 0   regiao_sigla       127176 non-null  object \n",
      " 1   estado_sigla       127176 non-null  object \n",
      " 2   municipio          127176 non-null  object \n",
      " 3   revenda            127176 non-null  object \n",
      " 4   cnpj_da_revenda    127176 non-null  object \n",
      " 5   nome_da_rua        127176 non-null  object \n",
      " 6   numero_rua         127105 non-null  object \n",
      " 7   complemento        27079 non-null   object \n",
      " 8   bairro             126764 non-null  object \n",
      " 9   cep                127176 non-null  object \n",
      " 10  produto            127176 non-null  object \n",
      " 11  data_da_coleta     127176 non-null  object \n",
      " 12  valor_de_venda     127176 non-null  float64\n",
      " 13  valor_de_compra    0 non-null       float64\n",
      " 14  unidade_de_medida  127176 non-null  object \n",
      " 15  bandeira           127176 non-null  object \n",
      "dtypes: float64(2), object(14)\n",
      "memory usage: 15.5+ MB\n"
     ]
    }
   ],
   "source": [
    "dados_brutos.info()"
   ]
  },
  {
   "cell_type": "markdown",
   "id": "95f61f73",
   "metadata": {},
   "source": [
    "Aparentemente 'valor_de_compra' esta vazia e poucos valores em 'complemento'"
   ]
  },
  {
   "cell_type": "code",
   "execution_count": 18,
   "id": "34d4520b",
   "metadata": {},
   "outputs": [
    {
     "data": {
      "text/plain": [
       "array([nan])"
      ]
     },
     "execution_count": 18,
     "metadata": {},
     "output_type": "execute_result"
    }
   ],
   "source": [
    "#verificando se a coluna esta vazia \n",
    "dados_brutos.valor_de_compra.unique()"
   ]
  },
  {
   "cell_type": "code",
   "execution_count": 19,
   "id": "d19d9569",
   "metadata": {},
   "outputs": [],
   "source": [
    "dados_brutos.drop(columns=['valor_de_compra'], inplace=True)"
   ]
  },
  {
   "cell_type": "code",
   "execution_count": 20,
   "id": "8cd625a7",
   "metadata": {},
   "outputs": [
    {
     "name": "stdout",
     "output_type": "stream",
     "text": [
      "<class 'pandas.core.frame.DataFrame'>\n",
      "RangeIndex: 127176 entries, 0 to 127175\n",
      "Data columns (total 15 columns):\n",
      " #   Column             Non-Null Count   Dtype  \n",
      "---  ------             --------------   -----  \n",
      " 0   regiao_sigla       127176 non-null  object \n",
      " 1   estado_sigla       127176 non-null  object \n",
      " 2   municipio          127176 non-null  object \n",
      " 3   revenda            127176 non-null  object \n",
      " 4   cnpj_da_revenda    127176 non-null  object \n",
      " 5   nome_da_rua        127176 non-null  object \n",
      " 6   numero_rua         127105 non-null  object \n",
      " 7   complemento        27079 non-null   object \n",
      " 8   bairro             126764 non-null  object \n",
      " 9   cep                127176 non-null  object \n",
      " 10  produto            127176 non-null  object \n",
      " 11  data_da_coleta     127176 non-null  object \n",
      " 12  valor_de_venda     127176 non-null  float64\n",
      " 13  unidade_de_medida  127176 non-null  object \n",
      " 14  bandeira           127176 non-null  object \n",
      "dtypes: float64(1), object(14)\n",
      "memory usage: 14.6+ MB\n"
     ]
    }
   ],
   "source": [
    "dados_brutos.info()"
   ]
  },
  {
   "cell_type": "markdown",
   "id": "a9f47635",
   "metadata": {},
   "source": [
    "verificando coluna complemento"
   ]
  },
  {
   "cell_type": "code",
   "execution_count": 23,
   "id": "dddd2d35",
   "metadata": {},
   "outputs": [
    {
     "data": {
      "text/plain": [
       "array([nan, 'LETRA A', 'QUADRA 18, LOTE 01', ..., 'GARA6EM',\n",
       "       'KM    615  280 M', 'LOTE  00013                     0002'],\n",
       "      dtype=object)"
      ]
     },
     "execution_count": 23,
     "metadata": {},
     "output_type": "execute_result"
    }
   ],
   "source": [
    "dados_brutos.complemento.unique()"
   ]
  },
  {
   "cell_type": "code",
   "execution_count": 24,
   "id": "6f9c7701",
   "metadata": {},
   "outputs": [],
   "source": [
    "dados_brutos.drop(columns=['complemento'], inplace=True)"
   ]
  },
  {
   "cell_type": "markdown",
   "id": "d41c799b",
   "metadata": {},
   "source": [
    "## Verificando valores destoantes "
   ]
  },
  {
   "cell_type": "code",
   "execution_count": 25,
   "id": "5004172b",
   "metadata": {},
   "outputs": [
    {
     "data": {
      "text/plain": [
       "count    127176.000000\n",
       "mean          5.355503\n",
       "std           0.860449\n",
       "min           2.890000\n",
       "25%           4.880000\n",
       "50%           5.490000\n",
       "75%           5.890000\n",
       "max           9.270000\n",
       "Name: valor_de_venda, dtype: float64"
      ]
     },
     "execution_count": 25,
     "metadata": {},
     "output_type": "execute_result"
    }
   ],
   "source": [
    "dados_brutos.valor_de_venda.describe()"
   ]
  },
  {
   "cell_type": "code",
   "execution_count": 26,
   "id": "4d36be6a",
   "metadata": {},
   "outputs": [
    {
     "data": {
      "text/plain": [
       "<AxesSubplot:ylabel='Frequency'>"
      ]
     },
     "execution_count": 26,
     "metadata": {},
     "output_type": "execute_result"
    },
    {
     "data": {
      "image/png": "[encoded data removed]",
      "text/plain": [
       "<Figure size 432x288 with 1 Axes>"
      ]
     },
     "metadata": {
      "needs_background": "light"
     },
     "output_type": "display_data"
    }
   ],
   "source": [
    "dados_brutos.valor_de_venda.plot(kind='hist')"
   ]
  },
  {
   "cell_type": "code",
   "execution_count": 27,
   "id": "3c16115d",
   "metadata": {},
   "outputs": [
    {
     "name": "stderr",
     "output_type": "stream",
     "text": [
      "C:\\ProgramData\\Anaconda3\\lib\\site-packages\\seaborn\\_decorators.py:36: FutureWarning: Pass the following variable as a keyword arg: x. From version 0.12, the only valid positional argument will be `data`, and passing other arguments without an explicit keyword will result in an error or misinterpretation.\n",
      "  warnings.warn(\n"
     ]
    },
    {
     "data": {
      "text/plain": [
       "<AxesSubplot:xlabel='valor_de_venda'>"
      ]
     },
     "execution_count": 27,
     "metadata": {},
     "output_type": "execute_result"
    },
    {
     "data": {
      "image/png": "[encoded data removed]",
      "text/plain": [
       "<Figure size 432x288 with 1 Axes>"
      ]
     },
     "metadata": {
      "needs_background": "light"
     },
     "output_type": "display_data"
    }
   ],
   "source": [
    "sns.boxplot(dados_brutos.valor_de_venda)"
   ]
  },
  {
   "cell_type": "markdown",
   "id": "37064c45",
   "metadata": {},
   "source": [
    "### Verificando produtos "
   ]
  },
  {
   "cell_type": "code",
   "execution_count": 29,
   "id": "27a12f7d",
   "metadata": {},
   "outputs": [
    {
     "data": {
      "text/plain": [
       "array(['GASOLINA ADITIVADA', 'GASOLINA', 'ETANOL'], dtype=object)"
      ]
     },
     "execution_count": 29,
     "metadata": {},
     "output_type": "execute_result"
    }
   ],
   "source": [
    "dados_brutos.produto.unique()"
   ]
  },
  {
   "cell_type": "markdown",
   "id": "db7939e8",
   "metadata": {},
   "source": [
    "Gasolina"
   ]
  },
  {
   "cell_type": "code",
   "execution_count": 30,
   "id": "bc61069f",
   "metadata": {},
   "outputs": [
    {
     "data": {
      "text/html": [
       "<div>\n",
       "<style scoped>\n",
       "    .dataframe tbody tr th:only-of-type {\n",
       "        vertical-align: middle;\n",
       "    }\n",
       "\n",
       "    .dataframe tbody tr th {\n",
       "        vertical-align: top;\n",
       "    }\n",
       "\n",
       "    .dataframe thead th {\n",
       "        text-align: right;\n",
       "    }\n",
       "</style>\n",
       "<table border=\"1\" class=\"dataframe\">\n",
       "  <thead>\n",
       "    <tr style=\"text-align: right;\">\n",
       "      <th></th>\n",
       "      <th>valor_de_venda</th>\n",
       "    </tr>\n",
       "  </thead>\n",
       "  <tbody>\n",
       "    <tr>\n",
       "      <th>count</th>\n",
       "      <td>48341.000000</td>\n",
       "    </tr>\n",
       "    <tr>\n",
       "      <th>mean</th>\n",
       "      <td>5.711579</td>\n",
       "    </tr>\n",
       "    <tr>\n",
       "      <th>std</th>\n",
       "      <td>0.528368</td>\n",
       "    </tr>\n",
       "    <tr>\n",
       "      <th>min</th>\n",
       "      <td>4.130000</td>\n",
       "    </tr>\n",
       "    <tr>\n",
       "      <th>25%</th>\n",
       "      <td>5.380000</td>\n",
       "    </tr>\n",
       "    <tr>\n",
       "      <th>50%</th>\n",
       "      <td>5.670000</td>\n",
       "    </tr>\n",
       "    <tr>\n",
       "      <th>75%</th>\n",
       "      <td>5.990000</td>\n",
       "    </tr>\n",
       "    <tr>\n",
       "      <th>max</th>\n",
       "      <td>8.750000</td>\n",
       "    </tr>\n",
       "  </tbody>\n",
       "</table>\n",
       "</div>"
      ],
      "text/plain": [
       "       valor_de_venda\n",
       "count    48341.000000\n",
       "mean         5.711579\n",
       "std          0.528368\n",
       "min          4.130000\n",
       "25%          5.380000\n",
       "50%          5.670000\n",
       "75%          5.990000\n",
       "max          8.750000"
      ]
     },
     "execution_count": 30,
     "metadata": {},
     "output_type": "execute_result"
    }
   ],
   "source": [
    "dados_brutos.query(\"produto == 'GASOLINA'\").describe()"
   ]
  },
  {
   "cell_type": "code",
   "execution_count": 32,
   "id": "8ee18fcb",
   "metadata": {},
   "outputs": [
    {
     "data": {
      "text/plain": [
       "<AxesSubplot:xlabel='valor_de_venda'>"
      ]
     },
     "execution_count": 32,
     "metadata": {},
     "output_type": "execute_result"
    },
    {
     "data": {
      "image/png": "[encoded data removed]",
      "text/plain": [
       "<Figure size 432x288 with 1 Axes>"
      ]
     },
     "metadata": {
      "needs_background": "light"
     },
     "output_type": "display_data"
    }
   ],
   "source": [
    "sns.boxplot(dados_brutos.query(\"produto == 'GASOLINA'\").valor_de_venda)"
   ]
  },
  {
   "cell_type": "code",
   "execution_count": 35,
   "id": "bc011bc1",
   "metadata": {},
   "outputs": [
    {
     "data": {
      "text/plain": [
       "array(['ES', 'PI', 'RJ', 'AL', 'AM', 'BA', 'CE', 'MA', 'MG', 'PA', 'PB',\n",
       "       'PE', 'RN', 'RS', 'SE', 'SP', 'TO', 'MS', 'PR', 'SC', 'GO', 'RO',\n",
       "       'AC', 'MT', 'RR'], dtype=object)"
      ]
     },
     "execution_count": 35,
     "metadata": {},
     "output_type": "execute_result"
    }
   ],
   "source": [
    "dados_brutos.query(\"valor_de_venda > 7\").estado_sigla.unique()"
   ]
  },
  {
   "cell_type": "markdown",
   "id": "555e5b6e",
   "metadata": {},
   "source": [
    "# Salvando e verificando arquivo salvo"
   ]
  },
  {
   "cell_type": "markdown",
   "id": "2847d419",
   "metadata": {},
   "source": [
    "## Salvando em csv"
   ]
  },
  {
   "cell_type": "code",
   "execution_count": 38,
   "id": "65bf9e69",
   "metadata": {},
   "outputs": [],
   "source": [
    "dados_brutos.to_csv('dados\\dados_limpos\\precos_gasolina_etanol_julho_agosto.csv', sep=',', index=False)"
   ]
  },
  {
   "cell_type": "markdown",
   "id": "17006100",
   "metadata": {},
   "source": [
    "## Verificando arquivo salvo"
   ]
  },
  {
   "cell_type": "code",
   "execution_count": 39,
   "id": "af4bf628",
   "metadata": {
    "collapsed": true
   },
   "outputs": [
    {
     "data": {
      "text/html": [
       "<div>\n",
       "<style scoped>\n",
       "    .dataframe tbody tr th:only-of-type {\n",
       "        vertical-align: middle;\n",
       "    }\n",
       "\n",
       "    .dataframe tbody tr th {\n",
       "        vertical-align: top;\n",
       "    }\n",
       "\n",
       "    .dataframe thead th {\n",
       "        text-align: right;\n",
       "    }\n",
       "</style>\n",
       "<table border=\"1\" class=\"dataframe\">\n",
       "  <thead>\n",
       "    <tr style=\"text-align: right;\">\n",
       "      <th></th>\n",
       "      <th>regiao_sigla</th>\n",
       "      <th>estado_sigla</th>\n",
       "      <th>municipio</th>\n",
       "      <th>revenda</th>\n",
       "      <th>cnpj_da_revenda</th>\n",
       "      <th>nome_da_rua</th>\n",
       "      <th>numero_rua</th>\n",
       "      <th>bairro</th>\n",
       "      <th>cep</th>\n",
       "      <th>produto</th>\n",
       "      <th>data_da_coleta</th>\n",
       "      <th>valor_de_venda</th>\n",
       "      <th>unidade_de_medida</th>\n",
       "      <th>bandeira</th>\n",
       "    </tr>\n",
       "  </thead>\n",
       "  <tbody>\n",
       "    <tr>\n",
       "      <th>0</th>\n",
       "      <td>SE</td>\n",
       "      <td>ES</td>\n",
       "      <td>COLATINA</td>\n",
       "      <td>SAO FRANCISCO DE ASSIS COMERCIO DE COMBUSTIVEI...</td>\n",
       "      <td>08.519.545/0001-10</td>\n",
       "      <td>PRACA FIDELIS FERRARI</td>\n",
       "      <td>35</td>\n",
       "      <td>LACE</td>\n",
       "      <td>29703-030</td>\n",
       "      <td>GASOLINA ADITIVADA</td>\n",
       "      <td>2022-07-01 00:00:00</td>\n",
       "      <td>7.48</td>\n",
       "      <td>R$ / litro</td>\n",
       "      <td>VIBRA ENERGIA</td>\n",
       "    </tr>\n",
       "    <tr>\n",
       "      <th>1</th>\n",
       "      <td>SE</td>\n",
       "      <td>ES</td>\n",
       "      <td>COLATINA</td>\n",
       "      <td>SAO FRANCISCO DE ASSIS COMERCIO DE COMBUSTIVEI...</td>\n",
       "      <td>08.519.545/0001-10</td>\n",
       "      <td>PRACA FIDELIS FERRARI</td>\n",
       "      <td>35</td>\n",
       "      <td>LACE</td>\n",
       "      <td>29703-030</td>\n",
       "      <td>GASOLINA</td>\n",
       "      <td>2022-07-01 00:00:00</td>\n",
       "      <td>7.38</td>\n",
       "      <td>R$ / litro</td>\n",
       "      <td>VIBRA ENERGIA</td>\n",
       "    </tr>\n",
       "    <tr>\n",
       "      <th>2</th>\n",
       "      <td>SE</td>\n",
       "      <td>ES</td>\n",
       "      <td>COLATINA</td>\n",
       "      <td>POSTO MOTOCAP LTDA</td>\n",
       "      <td>04.814.652/0001-10</td>\n",
       "      <td>PRACA ALMIRANTE BARROSO</td>\n",
       "      <td>52</td>\n",
       "      <td>LACE</td>\n",
       "      <td>29703-055</td>\n",
       "      <td>ETANOL</td>\n",
       "      <td>2022-07-01 00:00:00</td>\n",
       "      <td>5.99</td>\n",
       "      <td>R$ / litro</td>\n",
       "      <td>VIBRA ENERGIA</td>\n",
       "    </tr>\n",
       "    <tr>\n",
       "      <th>3</th>\n",
       "      <td>SE</td>\n",
       "      <td>ES</td>\n",
       "      <td>COLATINA</td>\n",
       "      <td>POSTO MOTOCAP LTDA</td>\n",
       "      <td>04.814.652/0001-10</td>\n",
       "      <td>PRACA ALMIRANTE BARROSO</td>\n",
       "      <td>52</td>\n",
       "      <td>LACE</td>\n",
       "      <td>29703-055</td>\n",
       "      <td>GASOLINA</td>\n",
       "      <td>2022-07-01 00:00:00</td>\n",
       "      <td>7.39</td>\n",
       "      <td>R$ / litro</td>\n",
       "      <td>VIBRA ENERGIA</td>\n",
       "    </tr>\n",
       "    <tr>\n",
       "      <th>4</th>\n",
       "      <td>CO</td>\n",
       "      <td>GO</td>\n",
       "      <td>GOIANIA</td>\n",
       "      <td>JUSTINIANO &amp; JUSTINIANO LTDA</td>\n",
       "      <td>04.489.287/0001-16</td>\n",
       "      <td>AVENIDA JOSE LEANDRO DA CRUZ</td>\n",
       "      <td>2,36</td>\n",
       "      <td>PARQUE AMAZONIA</td>\n",
       "      <td>74840-390</td>\n",
       "      <td>GASOLINA ADITIVADA</td>\n",
       "      <td>2022-07-01 00:00:00</td>\n",
       "      <td>6.49</td>\n",
       "      <td>R$ / litro</td>\n",
       "      <td>IPIRANGA</td>\n",
       "    </tr>\n",
       "  </tbody>\n",
       "</table>\n",
       "</div>"
      ],
      "text/plain": [
       "  regiao_sigla estado_sigla municipio  \\\n",
       "0           SE           ES  COLATINA   \n",
       "1           SE           ES  COLATINA   \n",
       "2           SE           ES  COLATINA   \n",
       "3           SE           ES  COLATINA   \n",
       "4           CO           GO   GOIANIA   \n",
       "\n",
       "                                             revenda      cnpj_da_revenda  \\\n",
       "0  SAO FRANCISCO DE ASSIS COMERCIO DE COMBUSTIVEI...   08.519.545/0001-10   \n",
       "1  SAO FRANCISCO DE ASSIS COMERCIO DE COMBUSTIVEI...   08.519.545/0001-10   \n",
       "2                                 POSTO MOTOCAP LTDA   04.814.652/0001-10   \n",
       "3                                 POSTO MOTOCAP LTDA   04.814.652/0001-10   \n",
       "4                       JUSTINIANO & JUSTINIANO LTDA   04.489.287/0001-16   \n",
       "\n",
       "                    nome_da_rua numero_rua           bairro        cep  \\\n",
       "0         PRACA FIDELIS FERRARI         35             LACE  29703-030   \n",
       "1         PRACA FIDELIS FERRARI         35             LACE  29703-030   \n",
       "2       PRACA ALMIRANTE BARROSO         52             LACE  29703-055   \n",
       "3       PRACA ALMIRANTE BARROSO         52             LACE  29703-055   \n",
       "4  AVENIDA JOSE LEANDRO DA CRUZ       2,36  PARQUE AMAZONIA  74840-390   \n",
       "\n",
       "              produto       data_da_coleta  valor_de_venda unidade_de_medida  \\\n",
       "0  GASOLINA ADITIVADA  2022-07-01 00:00:00            7.48        R$ / litro   \n",
       "1            GASOLINA  2022-07-01 00:00:00            7.38        R$ / litro   \n",
       "2              ETANOL  2022-07-01 00:00:00            5.99        R$ / litro   \n",
       "3            GASOLINA  2022-07-01 00:00:00            7.39        R$ / litro   \n",
       "4  GASOLINA ADITIVADA  2022-07-01 00:00:00            6.49        R$ / litro   \n",
       "\n",
       "        bandeira  \n",
       "0  VIBRA ENERGIA  \n",
       "1  VIBRA ENERGIA  \n",
       "2  VIBRA ENERGIA  \n",
       "3  VIBRA ENERGIA  \n",
       "4       IPIRANGA  "
      ]
     },
     "execution_count": 39,
     "metadata": {},
     "output_type": "execute_result"
    }
   ],
   "source": [
    "dados_novo_arquivo = pd.read_csv('dados\\dados_limpos\\precos_gasolina_etanol_julho_agosto.csv')\n",
    "dados_novo_arquivo.head()"
   ]
  },
  {
   "cell_type": "code",
   "execution_count": 40,
   "id": "4f0a03c4",
   "metadata": {},
   "outputs": [
    {
     "name": "stdout",
     "output_type": "stream",
     "text": [
      "<class 'pandas.core.frame.DataFrame'>\n",
      "RangeIndex: 127176 entries, 0 to 127175\n",
      "Data columns (total 14 columns):\n",
      " #   Column             Non-Null Count   Dtype  \n",
      "---  ------             --------------   -----  \n",
      " 0   regiao_sigla       127176 non-null  object \n",
      " 1   estado_sigla       127176 non-null  object \n",
      " 2   municipio          127176 non-null  object \n",
      " 3   revenda            127176 non-null  object \n",
      " 4   cnpj_da_revenda    127176 non-null  object \n",
      " 5   nome_da_rua        127176 non-null  object \n",
      " 6   numero_rua         127105 non-null  object \n",
      " 7   bairro             126764 non-null  object \n",
      " 8   cep                127176 non-null  object \n",
      " 9   produto            127176 non-null  object \n",
      " 10  data_da_coleta     127176 non-null  object \n",
      " 11  valor_de_venda     127176 non-null  float64\n",
      " 12  unidade_de_medida  127176 non-null  object \n",
      " 13  bandeira           127176 non-null  object \n",
      "dtypes: float64(1), object(13)\n",
      "memory usage: 13.6+ MB\n"
     ]
    }
   ],
   "source": [
    "dados_novo_arquivo.info()"
   ]
  }
 ],
 "metadata": {
  "kernelspec": {
   "display_name": "Python 3 (ipykernel)",
   "language": "python",
   "name": "python3"
  },
  "language_info": {
   "codemirror_mode": {
    "name": "ipython",
    "version": 3
   },
   "file_extension": ".py",
   "mimetype": "text/x-python",
   "name": "python",
   "nbconvert_exporter": "python",
   "pygments_lexer": "ipython3",
   "version": "3.9.12"
  }
 },
 "nbformat": 4,
 "nbformat_minor": 5
}

{
 "cells": [
  {
   "cell_type": "markdown",
   "id": "f8145d0b",
   "metadata": {
    "id": "f8145d0b"
   },
   "source": [
    "## Entrada de dados"
   ]
  },
  {
   "cell_type": "markdown",
   "id": "qnHhapkz4a45",
   "metadata": {
    "id": "qnHhapkz4a45"
   },
   "source": [
    "### Preparando ambiente"
   ]
  },
  {
   "cell_type": "code",
   "execution_count": 9,
   "id": "98f4d520",
   "metadata": {
    "id": "98f4d520"
   },
   "outputs": [],
   "source": [
    "import pandas as pd\n",
    "import numpy as np\n",
    "import seaborn as sns"
   ]
  },
  {
   "cell_type": "markdown",
   "id": "93584a21",
   "metadata": {
    "id": "93584a21"
   },
   "source": [
    "### Dados de Julho de 2022"
   ]
  },
  {
   "cell_type": "code",
   "execution_count": 10,
   "id": "44700a80",
   "metadata": {
    "colab": {
     "base_uri": "https://localhost:8080/"
    },
    "collapsed": true,
    "id": "44700a80",
    "outputId": "9a50425a-3bef-4e1d-8f1b-22416d31ad02"
   },
   "outputs": [
    {
     "name": "stdout",
     "output_type": "stream",
     "text": [
      "<class 'pandas.core.frame.DataFrame'>\n",
      "RangeIndex: 57632 entries, 0 to 57631\n",
      "Data columns (total 16 columns):\n",
      " #   Column             Non-Null Count  Dtype  \n",
      "---  ------             --------------  -----  \n",
      " 0   Regiao - Sigla     57632 non-null  object \n",
      " 1   Estado - Sigla     57632 non-null  object \n",
      " 2   Municipio          57632 non-null  object \n",
      " 3   Revenda            57632 non-null  object \n",
      " 4   CNPJ da Revenda    57632 non-null  object \n",
      " 5   Nome da Rua        57632 non-null  object \n",
      " 6   Numero Rua         57597 non-null  object \n",
      " 7   Complemento        12142 non-null  object \n",
      " 8   Bairro             57438 non-null  object \n",
      " 9   Cep                57632 non-null  object \n",
      " 10  Produto            57632 non-null  object \n",
      " 11  Data da Coleta     57632 non-null  object \n",
      " 12  Valor de Venda     57632 non-null  object \n",
      " 13  Valor de Compra    0 non-null      float64\n",
      " 14  Unidade de Medida  57632 non-null  object \n",
      " 15  Bandeira           57632 non-null  object \n",
      "dtypes: float64(1), object(15)\n",
      "memory usage: 7.0+ MB\n"
     ]
    }
   ],
   "source": [
    "url_julho = 'https://www.gov.br/anp/pt-br/centrais-de-conteudo/dados-abertos/arquivos/shpc/dsan/2022/precos-gasolina-etanol-07.csv'\n",
    "dados_brutos_julho = pd.read_csv(url_julho, sep=';')\n",
    "dados_brutos_julho.info()"
   ]
  },
  {
   "cell_type": "markdown",
   "id": "021589b6",
   "metadata": {
    "id": "021589b6"
   },
   "source": [
    "### Dados de Agosto de 2022"
   ]
  },
  {
   "cell_type": "code",
   "execution_count": 11,
   "id": "2879dabf",
   "metadata": {
    "colab": {
     "base_uri": "https://localhost:8080/"
    },
    "collapsed": true,
    "id": "2879dabf",
    "outputId": "dec14eab-380b-4409-a854-97255bab8628"
   },
   "outputs": [
    {
     "name": "stdout",
     "output_type": "stream",
     "text": [
      "<class 'pandas.core.frame.DataFrame'>\n",
      "RangeIndex: 69544 entries, 0 to 69543\n",
      "Data columns (total 16 columns):\n",
      " #   Column             Non-Null Count  Dtype  \n",
      "---  ------             --------------  -----  \n",
      " 0   Regiao - Sigla     69544 non-null  object \n",
      " 1   Estado - Sigla     69544 non-null  object \n",
      " 2   Municipio          69544 non-null  object \n",
      " 3   Revenda            69544 non-null  object \n",
      " 4   CNPJ da Revenda    69544 non-null  object \n",
      " 5   Nome da Rua        69544 non-null  object \n",
      " 6   Numero Rua         69508 non-null  object \n",
      " 7   Complemento        14937 non-null  object \n",
      " 8   Bairro             69326 non-null  object \n",
      " 9   Cep                69544 non-null  object \n",
      " 10  Produto            69544 non-null  object \n",
      " 11  Data da Coleta     69544 non-null  object \n",
      " 12  Valor de Venda     69544 non-null  object \n",
      " 13  Valor de Compra    0 non-null      float64\n",
      " 14  Unidade de Medida  69544 non-null  object \n",
      " 15  Bandeira           69544 non-null  object \n",
      "dtypes: float64(1), object(15)\n",
      "memory usage: 8.5+ MB\n"
     ]
    }
   ],
   "source": [
    "url_agosto = 'https://www.gov.br/anp/pt-br/centrais-de-conteudo/dados-abertos/arquivos/shpc/dsan/2022/precos-gasolina-etanol-08.csv'\n",
    "dados_brutos_agosto = pd.read_csv(url_agosto, sep=';')\n",
    "dados_brutos_agosto.info()"
   ]
  },
  {
   "cell_type": "markdown",
   "id": "OvahDi8D4kEt",
   "metadata": {
    "id": "OvahDi8D4kEt"
   },
   "source": [
    "## Verificação de integridade dos dados"
   ]
  },
  {
   "cell_type": "code",
   "execution_count": 12,
   "id": "oorcwCB04xf1",
   "metadata": {
    "colab": {
     "base_uri": "https://localhost:8080/",
     "height": 0
    },
    "collapsed": true,
    "id": "oorcwCB04xf1",
    "outputId": "d366d477-9527-436f-f020-b03b7665497a"
   },
   "outputs": [
    {
     "data": {
      "text/html": [
       "<div>\n",
       "<style scoped>\n",
       "    .dataframe tbody tr th:only-of-type {\n",
       "        vertical-align: middle;\n",
       "    }\n",
       "\n",
       "    .dataframe tbody tr th {\n",
       "        vertical-align: top;\n",
       "    }\n",
       "\n",
       "    .dataframe thead th {\n",
       "        text-align: right;\n",
       "    }\n",
       "</style>\n",
       "<table border=\"1\" class=\"dataframe\">\n",
       "  <thead>\n",
       "    <tr style=\"text-align: right;\">\n",
       "      <th></th>\n",
       "      <th>Regiao - Sigla</th>\n",
       "      <th>Estado - Sigla</th>\n",
       "      <th>Municipio</th>\n",
       "      <th>Revenda</th>\n",
       "      <th>CNPJ da Revenda</th>\n",
       "      <th>Nome da Rua</th>\n",
       "      <th>Numero Rua</th>\n",
       "      <th>Complemento</th>\n",
       "      <th>Bairro</th>\n",
       "      <th>Cep</th>\n",
       "      <th>Produto</th>\n",
       "      <th>Data da Coleta</th>\n",
       "      <th>Valor de Venda</th>\n",
       "      <th>Valor de Compra</th>\n",
       "      <th>Unidade de Medida</th>\n",
       "      <th>Bandeira</th>\n",
       "    </tr>\n",
       "  </thead>\n",
       "  <tbody>\n",
       "    <tr>\n",
       "      <th>0</th>\n",
       "      <td>SE</td>\n",
       "      <td>ES</td>\n",
       "      <td>COLATINA</td>\n",
       "      <td>SAO FRANCISCO DE ASSIS COMERCIO DE COMBUSTIVEI...</td>\n",
       "      <td>08.519.545/0001-10</td>\n",
       "      <td>PRACA FIDELIS FERRARI</td>\n",
       "      <td>35</td>\n",
       "      <td>NaN</td>\n",
       "      <td>LACE</td>\n",
       "      <td>29703-030</td>\n",
       "      <td>GASOLINA ADITIVADA</td>\n",
       "      <td>01/07/2022</td>\n",
       "      <td>7,48</td>\n",
       "      <td>NaN</td>\n",
       "      <td>R$ / litro</td>\n",
       "      <td>VIBRA ENERGIA</td>\n",
       "    </tr>\n",
       "    <tr>\n",
       "      <th>1</th>\n",
       "      <td>SE</td>\n",
       "      <td>ES</td>\n",
       "      <td>COLATINA</td>\n",
       "      <td>SAO FRANCISCO DE ASSIS COMERCIO DE COMBUSTIVEI...</td>\n",
       "      <td>08.519.545/0001-10</td>\n",
       "      <td>PRACA FIDELIS FERRARI</td>\n",
       "      <td>35</td>\n",
       "      <td>NaN</td>\n",
       "      <td>LACE</td>\n",
       "      <td>29703-030</td>\n",
       "      <td>GASOLINA</td>\n",
       "      <td>01/07/2022</td>\n",
       "      <td>7,38</td>\n",
       "      <td>NaN</td>\n",
       "      <td>R$ / litro</td>\n",
       "      <td>VIBRA ENERGIA</td>\n",
       "    </tr>\n",
       "    <tr>\n",
       "      <th>2</th>\n",
       "      <td>SE</td>\n",
       "      <td>ES</td>\n",
       "      <td>COLATINA</td>\n",
       "      <td>POSTO MOTOCAP LTDA</td>\n",
       "      <td>04.814.652/0001-10</td>\n",
       "      <td>PRACA ALMIRANTE BARROSO</td>\n",
       "      <td>52</td>\n",
       "      <td>LETRA A</td>\n",
       "      <td>LACE</td>\n",
       "      <td>29703-055</td>\n",
       "      <td>ETANOL</td>\n",
       "      <td>01/07/2022</td>\n",
       "      <td>5,99</td>\n",
       "      <td>NaN</td>\n",
       "      <td>R$ / litro</td>\n",
       "      <td>VIBRA ENERGIA</td>\n",
       "    </tr>\n",
       "    <tr>\n",
       "      <th>3</th>\n",
       "      <td>SE</td>\n",
       "      <td>ES</td>\n",
       "      <td>COLATINA</td>\n",
       "      <td>POSTO MOTOCAP LTDA</td>\n",
       "      <td>04.814.652/0001-10</td>\n",
       "      <td>PRACA ALMIRANTE BARROSO</td>\n",
       "      <td>52</td>\n",
       "      <td>LETRA A</td>\n",
       "      <td>LACE</td>\n",
       "      <td>29703-055</td>\n",
       "      <td>GASOLINA</td>\n",
       "      <td>01/07/2022</td>\n",
       "      <td>7,39</td>\n",
       "      <td>NaN</td>\n",
       "      <td>R$ / litro</td>\n",
       "      <td>VIBRA ENERGIA</td>\n",
       "    </tr>\n",
       "    <tr>\n",
       "      <th>4</th>\n",
       "      <td>CO</td>\n",
       "      <td>GO</td>\n",
       "      <td>GOIANIA</td>\n",
       "      <td>JUSTINIANO &amp; JUSTINIANO LTDA</td>\n",
       "      <td>04.489.287/0001-16</td>\n",
       "      <td>AVENIDA JOSE LEANDRO DA CRUZ</td>\n",
       "      <td>2,36</td>\n",
       "      <td>QUADRA 18, LOTE 01</td>\n",
       "      <td>PARQUE AMAZONIA</td>\n",
       "      <td>74840-390</td>\n",
       "      <td>GASOLINA ADITIVADA</td>\n",
       "      <td>01/07/2022</td>\n",
       "      <td>6,49</td>\n",
       "      <td>NaN</td>\n",
       "      <td>R$ / litro</td>\n",
       "      <td>IPIRANGA</td>\n",
       "    </tr>\n",
       "  </tbody>\n",
       "</table>\n",
       "</div>"
      ],
      "text/plain": [
       "  Regiao - Sigla Estado - Sigla Municipio  \\\n",
       "0             SE             ES  COLATINA   \n",
       "1             SE             ES  COLATINA   \n",
       "2             SE             ES  COLATINA   \n",
       "3             SE             ES  COLATINA   \n",
       "4             CO             GO   GOIANIA   \n",
       "\n",
       "                                             Revenda      CNPJ da Revenda  \\\n",
       "0  SAO FRANCISCO DE ASSIS COMERCIO DE COMBUSTIVEI...   08.519.545/0001-10   \n",
       "1  SAO FRANCISCO DE ASSIS COMERCIO DE COMBUSTIVEI...   08.519.545/0001-10   \n",
       "2                                 POSTO MOTOCAP LTDA   04.814.652/0001-10   \n",
       "3                                 POSTO MOTOCAP LTDA   04.814.652/0001-10   \n",
       "4                       JUSTINIANO & JUSTINIANO LTDA   04.489.287/0001-16   \n",
       "\n",
       "                    Nome da Rua Numero Rua         Complemento  \\\n",
       "0         PRACA FIDELIS FERRARI         35                 NaN   \n",
       "1         PRACA FIDELIS FERRARI         35                 NaN   \n",
       "2       PRACA ALMIRANTE BARROSO         52             LETRA A   \n",
       "3       PRACA ALMIRANTE BARROSO         52             LETRA A   \n",
       "4  AVENIDA JOSE LEANDRO DA CRUZ       2,36  QUADRA 18, LOTE 01   \n",
       "\n",
       "            Bairro        Cep             Produto Data da Coleta  \\\n",
       "0             LACE  29703-030  GASOLINA ADITIVADA     01/07/2022   \n",
       "1             LACE  29703-030            GASOLINA     01/07/2022   \n",
       "2             LACE  29703-055              ETANOL     01/07/2022   \n",
       "3             LACE  29703-055            GASOLINA     01/07/2022   \n",
       "4  PARQUE AMAZONIA  74840-390  GASOLINA ADITIVADA     01/07/2022   \n",
       "\n",
       "  Valor de Venda  Valor de Compra Unidade de Medida       Bandeira  \n",
       "0           7,48              NaN        R$ / litro  VIBRA ENERGIA  \n",
       "1           7,38              NaN        R$ / litro  VIBRA ENERGIA  \n",
       "2           5,99              NaN        R$ / litro  VIBRA ENERGIA  \n",
       "3           7,39              NaN        R$ / litro  VIBRA ENERGIA  \n",
       "4           6,49              NaN        R$ / litro       IPIRANGA  "
      ]
     },
     "execution_count": 12,
     "metadata": {},
     "output_type": "execute_result"
    }
   ],
   "source": [
    "dados_brutos_julho.head()"
   ]
  },
  {
   "cell_type": "code",
   "execution_count": 13,
   "id": "nIvy8Srq5ZWw",
   "metadata": {
    "colab": {
     "base_uri": "https://localhost:8080/",
     "height": 0
    },
    "collapsed": true,
    "id": "nIvy8Srq5ZWw",
    "outputId": "380176f0-9366-4e14-83fd-7d5dee6a4268"
   },
   "outputs": [
    {
     "data": {
      "text/html": [
       "<div>\n",
       "<style scoped>\n",
       "    .dataframe tbody tr th:only-of-type {\n",
       "        vertical-align: middle;\n",
       "    }\n",
       "\n",
       "    .dataframe tbody tr th {\n",
       "        vertical-align: top;\n",
       "    }\n",
       "\n",
       "    .dataframe thead th {\n",
       "        text-align: right;\n",
       "    }\n",
       "</style>\n",
       "<table border=\"1\" class=\"dataframe\">\n",
       "  <thead>\n",
       "    <tr style=\"text-align: right;\">\n",
       "      <th></th>\n",
       "      <th>Regiao - Sigla</th>\n",
       "      <th>Estado - Sigla</th>\n",
       "      <th>Municipio</th>\n",
       "      <th>Revenda</th>\n",
       "      <th>CNPJ da Revenda</th>\n",
       "      <th>Nome da Rua</th>\n",
       "      <th>Numero Rua</th>\n",
       "      <th>Complemento</th>\n",
       "      <th>Bairro</th>\n",
       "      <th>Cep</th>\n",
       "      <th>Produto</th>\n",
       "      <th>Data da Coleta</th>\n",
       "      <th>Valor de Venda</th>\n",
       "      <th>Valor de Compra</th>\n",
       "      <th>Unidade de Medida</th>\n",
       "      <th>Bandeira</th>\n",
       "    </tr>\n",
       "  </thead>\n",
       "  <tbody>\n",
       "    <tr>\n",
       "      <th>0</th>\n",
       "      <td>NE</td>\n",
       "      <td>AL</td>\n",
       "      <td>ARAPIRACA</td>\n",
       "      <td>AUTO POSTO M M GARROTE LTDA</td>\n",
       "      <td>08.738.994/0001-50</td>\n",
       "      <td>RODOVIA AL-220</td>\n",
       "      <td>5848</td>\n",
       "      <td>KM    96</td>\n",
       "      <td>BOM SUCESSO</td>\n",
       "      <td>57309-035</td>\n",
       "      <td>ETANOL</td>\n",
       "      <td>01/08/2022</td>\n",
       "      <td>4,79</td>\n",
       "      <td>NaN</td>\n",
       "      <td>R$ / litro</td>\n",
       "      <td>VIBRA ENERGIA</td>\n",
       "    </tr>\n",
       "    <tr>\n",
       "      <th>1</th>\n",
       "      <td>NE</td>\n",
       "      <td>AL</td>\n",
       "      <td>ARAPIRACA</td>\n",
       "      <td>AUTO POSTO M M GARROTE LTDA</td>\n",
       "      <td>08.738.994/0001-50</td>\n",
       "      <td>RODOVIA AL-220</td>\n",
       "      <td>5848</td>\n",
       "      <td>KM    96</td>\n",
       "      <td>BOM SUCESSO</td>\n",
       "      <td>57309-035</td>\n",
       "      <td>GASOLINA</td>\n",
       "      <td>01/08/2022</td>\n",
       "      <td>5,59</td>\n",
       "      <td>NaN</td>\n",
       "      <td>R$ / litro</td>\n",
       "      <td>VIBRA ENERGIA</td>\n",
       "    </tr>\n",
       "    <tr>\n",
       "      <th>2</th>\n",
       "      <td>NE</td>\n",
       "      <td>AL</td>\n",
       "      <td>ARAPIRACA</td>\n",
       "      <td>AUTO POSTO MASSARANDUBA LTDA.</td>\n",
       "      <td>07.248.398/0001-29</td>\n",
       "      <td>RODOVIA AL 220</td>\n",
       "      <td>4698</td>\n",
       "      <td>NaN</td>\n",
       "      <td>PLANALTO</td>\n",
       "      <td>57308-000</td>\n",
       "      <td>GASOLINA ADITIVADA</td>\n",
       "      <td>01/08/2022</td>\n",
       "      <td>5,99</td>\n",
       "      <td>NaN</td>\n",
       "      <td>R$ / litro</td>\n",
       "      <td>BRANCA</td>\n",
       "    </tr>\n",
       "    <tr>\n",
       "      <th>3</th>\n",
       "      <td>NE</td>\n",
       "      <td>AL</td>\n",
       "      <td>ARAPIRACA</td>\n",
       "      <td>AUTO POSTO MASSARANDUBA LTDA.</td>\n",
       "      <td>07.248.398/0001-29</td>\n",
       "      <td>RODOVIA AL 220</td>\n",
       "      <td>4698</td>\n",
       "      <td>NaN</td>\n",
       "      <td>PLANALTO</td>\n",
       "      <td>57308-000</td>\n",
       "      <td>ETANOL</td>\n",
       "      <td>01/08/2022</td>\n",
       "      <td>4,99</td>\n",
       "      <td>NaN</td>\n",
       "      <td>R$ / litro</td>\n",
       "      <td>BRANCA</td>\n",
       "    </tr>\n",
       "    <tr>\n",
       "      <th>4</th>\n",
       "      <td>NE</td>\n",
       "      <td>AL</td>\n",
       "      <td>ARAPIRACA</td>\n",
       "      <td>AUTO POSTO MASSARANDUBA LTDA.</td>\n",
       "      <td>07.248.398/0001-29</td>\n",
       "      <td>RODOVIA AL 220</td>\n",
       "      <td>4698</td>\n",
       "      <td>NaN</td>\n",
       "      <td>PLANALTO</td>\n",
       "      <td>57308-000</td>\n",
       "      <td>GASOLINA</td>\n",
       "      <td>01/08/2022</td>\n",
       "      <td>5,79</td>\n",
       "      <td>NaN</td>\n",
       "      <td>R$ / litro</td>\n",
       "      <td>BRANCA</td>\n",
       "    </tr>\n",
       "  </tbody>\n",
       "</table>\n",
       "</div>"
      ],
      "text/plain": [
       "  Regiao - Sigla Estado - Sigla  Municipio                        Revenda  \\\n",
       "0             NE             AL  ARAPIRACA    AUTO POSTO M M GARROTE LTDA   \n",
       "1             NE             AL  ARAPIRACA    AUTO POSTO M M GARROTE LTDA   \n",
       "2             NE             AL  ARAPIRACA  AUTO POSTO MASSARANDUBA LTDA.   \n",
       "3             NE             AL  ARAPIRACA  AUTO POSTO MASSARANDUBA LTDA.   \n",
       "4             NE             AL  ARAPIRACA  AUTO POSTO MASSARANDUBA LTDA.   \n",
       "\n",
       "       CNPJ da Revenda     Nome da Rua Numero Rua Complemento       Bairro  \\\n",
       "0   08.738.994/0001-50  RODOVIA AL-220       5848    KM    96  BOM SUCESSO   \n",
       "1   08.738.994/0001-50  RODOVIA AL-220       5848    KM    96  BOM SUCESSO   \n",
       "2   07.248.398/0001-29  RODOVIA AL 220       4698         NaN     PLANALTO   \n",
       "3   07.248.398/0001-29  RODOVIA AL 220       4698         NaN     PLANALTO   \n",
       "4   07.248.398/0001-29  RODOVIA AL 220       4698         NaN     PLANALTO   \n",
       "\n",
       "         Cep             Produto Data da Coleta Valor de Venda  \\\n",
       "0  57309-035              ETANOL     01/08/2022           4,79   \n",
       "1  57309-035            GASOLINA     01/08/2022           5,59   \n",
       "2  57308-000  GASOLINA ADITIVADA     01/08/2022           5,99   \n",
       "3  57308-000              ETANOL     01/08/2022           4,99   \n",
       "4  57308-000            GASOLINA     01/08/2022           5,79   \n",
       "\n",
       "   Valor de Compra Unidade de Medida       Bandeira  \n",
       "0              NaN        R$ / litro  VIBRA ENERGIA  \n",
       "1              NaN        R$ / litro  VIBRA ENERGIA  \n",
       "2              NaN        R$ / litro         BRANCA  \n",
       "3              NaN        R$ / litro         BRANCA  \n",
       "4              NaN        R$ / litro         BRANCA  "
      ]
     },
     "execution_count": 13,
     "metadata": {},
     "output_type": "execute_result"
    }
   ],
   "source": [
    "dados_brutos_agosto.head()"
   ]
  },
  {
   "cell_type": "markdown",
   "id": "6206ba0a",
   "metadata": {
    "id": "6206ba0a"
   },
   "source": [
    "## Inicio da limpeza "
   ]
  },
  {
   "cell_type": "markdown",
   "id": "XqKZyrnn52Gi",
   "metadata": {
    "id": "XqKZyrnn52Gi"
   },
   "source": [
    "### Modifcação do padrão das datas\n"
   ]
  },
  {
   "cell_type": "code",
   "execution_count": 14,
   "id": "OHfeP7l250E0",
   "metadata": {
    "colab": {
     "base_uri": "https://localhost:8080/"
    },
    "collapsed": true,
    "id": "OHfeP7l250E0",
    "outputId": "81b2808b-836d-41d2-b7f2-80e84c73b50b"
   },
   "outputs": [
    {
     "data": {
      "text/plain": [
       "0   2022-07-01\n",
       "1   2022-07-01\n",
       "2   2022-07-01\n",
       "3   2022-07-01\n",
       "4   2022-07-01\n",
       "Name: Data da Coleta, dtype: datetime64[ns]"
      ]
     },
     "execution_count": 14,
     "metadata": {},
     "output_type": "execute_result"
    }
   ],
   "source": [
    "#dados de julho\n",
    "dados_brutos_julho['Data da Coleta'] = pd.to_datetime(dados_brutos_julho['Data da Coleta'], dayfirst=True)\n",
    "dados_brutos_julho['Data da Coleta'].head()"
   ]
  },
  {
   "cell_type": "code",
   "execution_count": 15,
   "id": "TvIxYXfc61pB",
   "metadata": {
    "colab": {
     "base_uri": "https://localhost:8080/"
    },
    "collapsed": true,
    "id": "TvIxYXfc61pB",
    "outputId": "d713ece7-23d9-4a08-9d22-75af0b3e2956"
   },
   "outputs": [
    {
     "data": {
      "text/plain": [
       "0   2022-08-01\n",
       "1   2022-08-01\n",
       "2   2022-08-01\n",
       "3   2022-08-01\n",
       "4   2022-08-01\n",
       "Name: Data da Coleta, dtype: datetime64[ns]"
      ]
     },
     "execution_count": 15,
     "metadata": {},
     "output_type": "execute_result"
    }
   ],
   "source": [
    "#dados de agosto\n",
    "dados_brutos_agosto['Data da Coleta'] = pd.to_datetime(dados_brutos_agosto['Data da Coleta'], dayfirst=True)\n",
    "dados_brutos_agosto['Data da Coleta'].head()"
   ]
  },
  {
   "cell_type": "markdown",
   "id": "iQjwW7Y_7rAn",
   "metadata": {
    "id": "iQjwW7Y_7rAn"
   },
   "source": [
    "### União dos DataFrame"
   ]
  },
  {
   "cell_type": "code",
   "execution_count": 16,
   "id": "NN902_AG7z63",
   "metadata": {
    "id": "NN902_AG7z63"
   },
   "outputs": [],
   "source": [
    "lista_dados = [dados_brutos_julho ,dados_brutos_agosto]\n",
    "dados_brutos = pd.concat(lista_dados, ignore_index= True, verify_integrity=True)"
   ]
  },
  {
   "cell_type": "markdown",
   "id": "WVvMiMBh-YRu",
   "metadata": {
    "id": "WVvMiMBh-YRu"
   },
   "source": [
    "verificaçao dos dados unidos, usando como base os valores unicos de \"Data de Coleta\""
   ]
  },
  {
   "cell_type": "code",
   "execution_count": 17,
   "id": "UQ5J2FjrFg1t",
   "metadata": {
    "colab": {
     "base_uri": "https://localhost:8080/"
    },
    "id": "UQ5J2FjrFg1t",
    "outputId": "4be3bfc6-1e52-43c9-afff-2c7ff4d4b894"
   },
   "outputs": [
    {
     "data": {
      "text/plain": [
       "True"
      ]
     },
     "execution_count": 17,
     "metadata": {},
     "output_type": "execute_result"
    }
   ],
   "source": [
    "datas_coletas_julho = dados_brutos_julho['Data da Coleta'].unique()\n",
    "datas_coletas_agosto = dados_brutos_agosto['Data da Coleta'].unique()\n",
    "datas_julho_agosto = np.concatenate((datas_coletas_julho, datas_coletas_agosto))\n",
    "datas_coletas_brutos = dados_brutos['Data da Coleta'].unique()\n",
    "\n",
    "np.array_equal(datas_julho_agosto, datas_coletas_brutos)"
   ]
  },
  {
   "cell_type": "markdown",
   "id": "ulohWOQnJrqn",
   "metadata": {
    "id": "ulohWOQnJrqn"
   },
   "source": [
    "## Padronização"
   ]
  },
  {
   "cell_type": "markdown",
   "id": "dZfZUNeENr3-",
   "metadata": {
    "id": "dZfZUNeENr3-"
   },
   "source": [
    "### Padronizaçâo Columas"
   ]
  },
  {
   "cell_type": "code",
   "execution_count": 18,
   "id": "OOHOZ-qSN__d",
   "metadata": {
    "colab": {
     "base_uri": "https://localhost:8080/"
    },
    "id": "OOHOZ-qSN__d",
    "outputId": "440eeb05-33cd-4962-972d-ce9ca9d9e90f"
   },
   "outputs": [
    {
     "data": {
      "text/plain": [
       "Index(['Regiao - Sigla', 'Estado - Sigla', 'Municipio', 'Revenda',\n",
       "       'CNPJ da Revenda', 'Nome da Rua', 'Numero Rua', 'Complemento', 'Bairro',\n",
       "       'Cep', 'Produto', 'Data da Coleta', 'Valor de Venda', 'Valor de Compra',\n",
       "       'Unidade de Medida', 'Bandeira'],\n",
       "      dtype='object')"
      ]
     },
     "execution_count": 18,
     "metadata": {},
     "output_type": "execute_result"
    }
   ],
   "source": [
    "dados_brutos.columns"
   ]
  },
  {
   "cell_type": "code",
   "execution_count": 19,
   "id": "J6eOGw2m46kh",
   "metadata": {
    "colab": {
     "base_uri": "https://localhost:8080/"
    },
    "id": "J6eOGw2m46kh",
    "outputId": "25c9efb1-a44d-4042-8e63-a3d090a3c48c"
   },
   "outputs": [
    {
     "data": {
      "text/plain": [
       "Index(['regiao_sigla', 'estado_sigla', 'municipio', 'revenda',\n",
       "       'cnpj_da_revenda', 'nome_da_rua', 'numero_rua', 'complemento', 'bairro',\n",
       "       'cep', 'produto', 'data_da_coleta', 'valor_de_venda', 'valor_de_compra',\n",
       "       'unidade_de_medida', 'bandeira'],\n",
       "      dtype='object')"
      ]
     },
     "execution_count": 19,
     "metadata": {},
     "output_type": "execute_result"
    }
   ],
   "source": [
    "#modificacao do nome de columas\n",
    "dados_brutos.columns = dados_brutos.columns.str.replace('- ','')\n",
    "dados_brutos.columns = dados_brutos.columns.str.replace(' ','_')\n",
    "dados_brutos.columns = dados_brutos.columns.str.lower()\n",
    "dados_brutos.columns"
   ]
  },
  {
   "cell_type": "markdown",
   "id": "96AhheC3Nzmx",
   "metadata": {
    "id": "96AhheC3Nzmx"
   },
   "source": [
    "### Padronização valores"
   ]
  },
  {
   "cell_type": "code",
   "execution_count": 21,
   "id": "O_EQbeWFN8_9",
   "metadata": {
    "colab": {
     "base_uri": "https://localhost:8080/"
    },
    "collapsed": true,
    "id": "O_EQbeWFN8_9",
    "outputId": "62917340-f9f8-4fb2-c6a2-ba0654ae1792"
   },
   "outputs": [
    {
     "name": "stdout",
     "output_type": "stream",
     "text": [
      "<class 'pandas.core.frame.DataFrame'>\n",
      "RangeIndex: 127176 entries, 0 to 127175\n",
      "Data columns (total 16 columns):\n",
      " #   Column             Non-Null Count   Dtype         \n",
      "---  ------             --------------   -----         \n",
      " 0   regiao_sigla       127176 non-null  object        \n",
      " 1   estado_sigla       127176 non-null  object        \n",
      " 2   municipio          127176 non-null  object        \n",
      " 3   revenda            127176 non-null  object        \n",
      " 4   cnpj_da_revenda    127176 non-null  object        \n",
      " 5   nome_da_rua        127176 non-null  object        \n",
      " 6   numero_rua         127105 non-null  object        \n",
      " 7   complemento        27079 non-null   object        \n",
      " 8   bairro             126764 non-null  object        \n",
      " 9   cep                127176 non-null  object        \n",
      " 10  produto            127176 non-null  object        \n",
      " 11  data_da_coleta     127176 non-null  datetime64[ns]\n",
      " 12  valor_de_venda     127176 non-null  object        \n",
      " 13  valor_de_compra    0 non-null       float64       \n",
      " 14  unidade_de_medida  127176 non-null  object        \n",
      " 15  bandeira           127176 non-null  object        \n",
      "dtypes: datetime64[ns](1), float64(1), object(14)\n",
      "memory usage: 15.5+ MB\n"
     ]
    }
   ],
   "source": [
    "dados_brutos.info()"
   ]
  },
  {
   "cell_type": "markdown",
   "id": "Uxj0G-C4PiXC",
   "metadata": {
    "id": "Uxj0G-C4PiXC"
   },
   "source": [
    "Modificar valores da columa Valor de venda"
   ]
  },
  {
   "cell_type": "code",
   "execution_count": 22,
   "id": "3b265614",
   "metadata": {
    "id": "3b265614"
   },
   "outputs": [],
   "source": [
    "#tocando vigula por ponto e nudando de string para float\n",
    "valores_virgula = dados_brutos['valor_de_venda'].tolist()\n",
    "valores_ponto = [x.replace(',', '.') for x in valores_virgula]\n",
    "dados_brutos['valor_de_venda'] = valores_ponto\n",
    "dados_brutos['valor_de_venda'] = dados_brutos['valor_de_venda'].astype(float)"
   ]
  },
  {
   "cell_type": "code",
   "execution_count": 23,
   "id": "HGGuNo6iRP70",
   "metadata": {
    "colab": {
     "base_uri": "https://localhost:8080/"
    },
    "id": "HGGuNo6iRP70",
    "outputId": "04abc399-b276-424c-bcb7-33ce4bef1bdc"
   },
   "outputs": [
    {
     "data": {
      "text/plain": [
       "count    127176.000000\n",
       "mean          5.355503\n",
       "std           0.860449\n",
       "min           2.890000\n",
       "25%           4.880000\n",
       "50%           5.490000\n",
       "75%           5.890000\n",
       "max           9.270000\n",
       "Name: valor_de_venda, dtype: float64"
      ]
     },
     "execution_count": 23,
     "metadata": {},
     "output_type": "execute_result"
    }
   ],
   "source": [
    "dados_brutos.valor_de_venda.describe()"
   ]
  },
  {
   "cell_type": "markdown",
   "id": "CKxi1BK0Rh2g",
   "metadata": {
    "id": "CKxi1BK0Rh2g"
   },
   "source": [
    "### Remoçao de columas vaziar ou incompletas\n"
   ]
  },
  {
   "cell_type": "code",
   "execution_count": 127,
   "id": "XpcaiO_CRvB3",
   "metadata": {
    "colab": {
     "base_uri": "https://localhost:8080/"
    },
    "collapsed": true,
    "id": "XpcaiO_CRvB3",
    "outputId": "83297fa1-c890-4319-c5d9-605fc556d74d"
   },
   "outputs": [
    {
     "name": "stdout",
     "output_type": "stream",
     "text": [
      "<class 'pandas.core.frame.DataFrame'>\n",
      "RangeIndex: 127176 entries, 0 to 127175\n",
      "Data columns (total 16 columns):\n",
      " #   Column             Non-Null Count   Dtype         \n",
      "---  ------             --------------   -----         \n",
      " 0   regiao_sigla       127176 non-null  object        \n",
      " 1   estado_sigla       127176 non-null  object        \n",
      " 2   municipio          127176 non-null  object        \n",
      " 3   revenda            127176 non-null  object        \n",
      " 4   cnpj_da_revenda    127176 non-null  object        \n",
      " 5   nome_da_rua        127176 non-null  object        \n",
      " 6   numero_rua         127105 non-null  object        \n",
      " 7   complemento        27079 non-null   object        \n",
      " 8   bairro             126764 non-null  object        \n",
      " 9   cep                127176 non-null  object        \n",
      " 10  produto            127176 non-null  object        \n",
      " 11  data_da_coleta     127176 non-null  datetime64[ns]\n",
      " 12  valor_de_venda     127176 non-null  float64       \n",
      " 13  valor_de_compra    0 non-null       float64       \n",
      " 14  unidade_de_medida  127176 non-null  object        \n",
      " 15  bandeira           127176 non-null  object        \n",
      "dtypes: datetime64[ns](1), float64(2), object(13)\n",
      "memory usage: 15.5+ MB\n"
     ]
    }
   ],
   "source": [
    "dados_brutos.info()"
   ]
  },
  {
   "cell_type": "markdown",
   "id": "_hrNaJzeR2sr",
   "metadata": {
    "id": "_hrNaJzeR2sr"
   },
   "source": [
    "Removendo coluna vazia"
   ]
  },
  {
   "cell_type": "code",
   "execution_count": 24,
   "id": "fabWxaGSSNjI",
   "metadata": {
    "colab": {
     "base_uri": "https://localhost:8080/"
    },
    "id": "fabWxaGSSNjI",
    "outputId": "22e7a897-4e13-444d-a033-f2a2af5490f2"
   },
   "outputs": [
    {
     "data": {
      "text/plain": [
       "array([nan])"
      ]
     },
     "execution_count": 24,
     "metadata": {},
     "output_type": "execute_result"
    }
   ],
   "source": [
    "#verificando se columa Valores de Compra realmente esta vazia\n",
    "dados_brutos.valor_de_compra.unique()"
   ]
  },
  {
   "cell_type": "code",
   "execution_count": 25,
   "id": "YCHU0e6mSlwi",
   "metadata": {
    "id": "YCHU0e6mSlwi"
   },
   "outputs": [],
   "source": [
    "dados_brutos.drop(columns=['valor_de_compra'], inplace=True)"
   ]
  },
  {
   "cell_type": "code",
   "execution_count": 26,
   "id": "tb3EULTRS0et",
   "metadata": {
    "collapsed": true,
    "id": "tb3EULTRS0et"
   },
   "outputs": [
    {
     "name": "stdout",
     "output_type": "stream",
     "text": [
      "<class 'pandas.core.frame.DataFrame'>\n",
      "RangeIndex: 127176 entries, 0 to 127175\n",
      "Data columns (total 15 columns):\n",
      " #   Column             Non-Null Count   Dtype         \n",
      "---  ------             --------------   -----         \n",
      " 0   regiao_sigla       127176 non-null  object        \n",
      " 1   estado_sigla       127176 non-null  object        \n",
      " 2   municipio          127176 non-null  object        \n",
      " 3   revenda            127176 non-null  object        \n",
      " 4   cnpj_da_revenda    127176 non-null  object        \n",
      " 5   nome_da_rua        127176 non-null  object        \n",
      " 6   numero_rua         127105 non-null  object        \n",
      " 7   complemento        27079 non-null   object        \n",
      " 8   bairro             126764 non-null  object        \n",
      " 9   cep                127176 non-null  object        \n",
      " 10  produto            127176 non-null  object        \n",
      " 11  data_da_coleta     127176 non-null  datetime64[ns]\n",
      " 12  valor_de_venda     127176 non-null  float64       \n",
      " 13  unidade_de_medida  127176 non-null  object        \n",
      " 14  bandeira           127176 non-null  object        \n",
      "dtypes: datetime64[ns](1), float64(1), object(13)\n",
      "memory usage: 14.6+ MB\n"
     ]
    }
   ],
   "source": [
    "dados_brutos.info()"
   ]
  },
  {
   "cell_type": "markdown",
   "id": "xU-n1fV6S5fV",
   "metadata": {
    "id": "xU-n1fV6S5fV"
   },
   "source": [
    "Verificando valores de Complemento"
   ]
  },
  {
   "cell_type": "code",
   "execution_count": 27,
   "id": "aCCfXqtITBq2",
   "metadata": {
    "colab": {
     "base_uri": "https://localhost:8080/"
    },
    "id": "aCCfXqtITBq2",
    "outputId": "242a3b23-7bdf-49f8-947e-d0d4446053d8"
   },
   "outputs": [
    {
     "data": {
      "text/plain": [
       "array([nan, 'LETRA A', 'QUADRA 18, LOTE 01', ..., 'GARA6EM',\n",
       "       'KM    615  280 M', 'LOTE  00013                     0002'],\n",
       "      dtype=object)"
      ]
     },
     "execution_count": 27,
     "metadata": {},
     "output_type": "execute_result"
    }
   ],
   "source": [
    "dados_brutos.complemento.unique()"
   ]
  },
  {
   "cell_type": "markdown",
   "id": "LjnLXElsTIHD",
   "metadata": {
    "id": "LjnLXElsTIHD"
   },
   "source": [
    "depois de verificar seus valores, se ve que não tem relevancia "
   ]
  },
  {
   "cell_type": "code",
   "execution_count": 28,
   "id": "t7Nk6sBZTGl8",
   "metadata": {
    "id": "t7Nk6sBZTGl8"
   },
   "outputs": [],
   "source": [
    "dados_brutos.drop(columns=['complemento'], inplace=True)"
   ]
  },
  {
   "cell_type": "code",
   "execution_count": 29,
   "id": "nSltmwoDTZ1b",
   "metadata": {
    "collapsed": true,
    "id": "nSltmwoDTZ1b"
   },
   "outputs": [
    {
     "name": "stdout",
     "output_type": "stream",
     "text": [
      "<class 'pandas.core.frame.DataFrame'>\n",
      "RangeIndex: 127176 entries, 0 to 127175\n",
      "Data columns (total 14 columns):\n",
      " #   Column             Non-Null Count   Dtype         \n",
      "---  ------             --------------   -----         \n",
      " 0   regiao_sigla       127176 non-null  object        \n",
      " 1   estado_sigla       127176 non-null  object        \n",
      " 2   municipio          127176 non-null  object        \n",
      " 3   revenda            127176 non-null  object        \n",
      " 4   cnpj_da_revenda    127176 non-null  object        \n",
      " 5   nome_da_rua        127176 non-null  object        \n",
      " 6   numero_rua         127105 non-null  object        \n",
      " 7   bairro             126764 non-null  object        \n",
      " 8   cep                127176 non-null  object        \n",
      " 9   produto            127176 non-null  object        \n",
      " 10  data_da_coleta     127176 non-null  datetime64[ns]\n",
      " 11  valor_de_venda     127176 non-null  float64       \n",
      " 12  unidade_de_medida  127176 non-null  object        \n",
      " 13  bandeira           127176 non-null  object        \n",
      "dtypes: datetime64[ns](1), float64(1), object(12)\n",
      "memory usage: 13.6+ MB\n"
     ]
    }
   ],
   "source": [
    "dados_brutos.info()"
   ]
  },
  {
   "cell_type": "markdown",
   "id": "A1OHY8gxT_Mf",
   "metadata": {
    "id": "A1OHY8gxT_Mf"
   },
   "source": [
    "# Salvando e verificando arquivo gerado"
   ]
  },
  {
   "cell_type": "code",
   "execution_count": 30,
   "id": "d911901d",
   "metadata": {
    "id": "d911901d"
   },
   "outputs": [],
   "source": [
    "dados_brutos.to_csv('data\\dados_limpos\\dados.csv', sep=',', index=False)"
   ]
  },
  {
   "cell_type": "code",
   "execution_count": 31,
   "id": "48ad6c56",
   "metadata": {
    "colab": {
     "base_uri": "https://localhost:8080/",
     "height": 531
    },
    "id": "48ad6c56",
    "outputId": "c412dffe-a3c7-4175-99db-54b546a17b39"
   },
   "outputs": [
    {
     "data": {
      "text/html": [
       "<div>\n",
       "<style scoped>\n",
       "    .dataframe tbody tr th:only-of-type {\n",
       "        vertical-align: middle;\n",
       "    }\n",
       "\n",
       "    .dataframe tbody tr th {\n",
       "        vertical-align: top;\n",
       "    }\n",
       "\n",
       "    .dataframe thead th {\n",
       "        text-align: right;\n",
       "    }\n",
       "</style>\n",
       "<table border=\"1\" class=\"dataframe\">\n",
       "  <thead>\n",
       "    <tr style=\"text-align: right;\">\n",
       "      <th></th>\n",
       "      <th>regiao_sigla</th>\n",
       "      <th>estado_sigla</th>\n",
       "      <th>municipio</th>\n",
       "      <th>revenda</th>\n",
       "      <th>cnpj_da_revenda</th>\n",
       "      <th>nome_da_rua</th>\n",
       "      <th>numero_rua</th>\n",
       "      <th>bairro</th>\n",
       "      <th>cep</th>\n",
       "      <th>produto</th>\n",
       "      <th>data_da_coleta</th>\n",
       "      <th>valor_de_venda</th>\n",
       "      <th>unidade_de_medida</th>\n",
       "      <th>bandeira</th>\n",
       "    </tr>\n",
       "  </thead>\n",
       "  <tbody>\n",
       "    <tr>\n",
       "      <th>0</th>\n",
       "      <td>SE</td>\n",
       "      <td>ES</td>\n",
       "      <td>COLATINA</td>\n",
       "      <td>SAO FRANCISCO DE ASSIS COMERCIO DE COMBUSTIVEI...</td>\n",
       "      <td>08.519.545/0001-10</td>\n",
       "      <td>PRACA FIDELIS FERRARI</td>\n",
       "      <td>35</td>\n",
       "      <td>LACE</td>\n",
       "      <td>29703-030</td>\n",
       "      <td>GASOLINA ADITIVADA</td>\n",
       "      <td>2022-07-01</td>\n",
       "      <td>7.48</td>\n",
       "      <td>R$ / litro</td>\n",
       "      <td>VIBRA ENERGIA</td>\n",
       "    </tr>\n",
       "    <tr>\n",
       "      <th>1</th>\n",
       "      <td>SE</td>\n",
       "      <td>ES</td>\n",
       "      <td>COLATINA</td>\n",
       "      <td>SAO FRANCISCO DE ASSIS COMERCIO DE COMBUSTIVEI...</td>\n",
       "      <td>08.519.545/0001-10</td>\n",
       "      <td>PRACA FIDELIS FERRARI</td>\n",
       "      <td>35</td>\n",
       "      <td>LACE</td>\n",
       "      <td>29703-030</td>\n",
       "      <td>GASOLINA</td>\n",
       "      <td>2022-07-01</td>\n",
       "      <td>7.38</td>\n",
       "      <td>R$ / litro</td>\n",
       "      <td>VIBRA ENERGIA</td>\n",
       "    </tr>\n",
       "    <tr>\n",
       "      <th>2</th>\n",
       "      <td>SE</td>\n",
       "      <td>ES</td>\n",
       "      <td>COLATINA</td>\n",
       "      <td>POSTO MOTOCAP LTDA</td>\n",
       "      <td>04.814.652/0001-10</td>\n",
       "      <td>PRACA ALMIRANTE BARROSO</td>\n",
       "      <td>52</td>\n",
       "      <td>LACE</td>\n",
       "      <td>29703-055</td>\n",
       "      <td>ETANOL</td>\n",
       "      <td>2022-07-01</td>\n",
       "      <td>5.99</td>\n",
       "      <td>R$ / litro</td>\n",
       "      <td>VIBRA ENERGIA</td>\n",
       "    </tr>\n",
       "    <tr>\n",
       "      <th>3</th>\n",
       "      <td>SE</td>\n",
       "      <td>ES</td>\n",
       "      <td>COLATINA</td>\n",
       "      <td>POSTO MOTOCAP LTDA</td>\n",
       "      <td>04.814.652/0001-10</td>\n",
       "      <td>PRACA ALMIRANTE BARROSO</td>\n",
       "      <td>52</td>\n",
       "      <td>LACE</td>\n",
       "      <td>29703-055</td>\n",
       "      <td>GASOLINA</td>\n",
       "      <td>2022-07-01</td>\n",
       "      <td>7.39</td>\n",
       "      <td>R$ / litro</td>\n",
       "      <td>VIBRA ENERGIA</td>\n",
       "    </tr>\n",
       "    <tr>\n",
       "      <th>4</th>\n",
       "      <td>CO</td>\n",
       "      <td>GO</td>\n",
       "      <td>GOIANIA</td>\n",
       "      <td>JUSTINIANO &amp; JUSTINIANO LTDA</td>\n",
       "      <td>04.489.287/0001-16</td>\n",
       "      <td>AVENIDA JOSE LEANDRO DA CRUZ</td>\n",
       "      <td>2,36</td>\n",
       "      <td>PARQUE AMAZONIA</td>\n",
       "      <td>74840-390</td>\n",
       "      <td>GASOLINA ADITIVADA</td>\n",
       "      <td>2022-07-01</td>\n",
       "      <td>6.49</td>\n",
       "      <td>R$ / litro</td>\n",
       "      <td>IPIRANGA</td>\n",
       "    </tr>\n",
       "  </tbody>\n",
       "</table>\n",
       "</div>"
      ],
      "text/plain": [
       "  regiao_sigla estado_sigla municipio  \\\n",
       "0           SE           ES  COLATINA   \n",
       "1           SE           ES  COLATINA   \n",
       "2           SE           ES  COLATINA   \n",
       "3           SE           ES  COLATINA   \n",
       "4           CO           GO   GOIANIA   \n",
       "\n",
       "                                             revenda      cnpj_da_revenda  \\\n",
       "0  SAO FRANCISCO DE ASSIS COMERCIO DE COMBUSTIVEI...   08.519.545/0001-10   \n",
       "1  SAO FRANCISCO DE ASSIS COMERCIO DE COMBUSTIVEI...   08.519.545/0001-10   \n",
       "2                                 POSTO MOTOCAP LTDA   04.814.652/0001-10   \n",
       "3                                 POSTO MOTOCAP LTDA   04.814.652/0001-10   \n",
       "4                       JUSTINIANO & JUSTINIANO LTDA   04.489.287/0001-16   \n",
       "\n",
       "                    nome_da_rua numero_rua           bairro        cep  \\\n",
       "0         PRACA FIDELIS FERRARI         35             LACE  29703-030   \n",
       "1         PRACA FIDELIS FERRARI         35             LACE  29703-030   \n",
       "2       PRACA ALMIRANTE BARROSO         52             LACE  29703-055   \n",
       "3       PRACA ALMIRANTE BARROSO         52             LACE  29703-055   \n",
       "4  AVENIDA JOSE LEANDRO DA CRUZ       2,36  PARQUE AMAZONIA  74840-390   \n",
       "\n",
       "              produto data_da_coleta  valor_de_venda unidade_de_medida  \\\n",
       "0  GASOLINA ADITIVADA     2022-07-01            7.48        R$ / litro   \n",
       "1            GASOLINA     2022-07-01            7.38        R$ / litro   \n",
       "2              ETANOL     2022-07-01            5.99        R$ / litro   \n",
       "3            GASOLINA     2022-07-01            7.39        R$ / litro   \n",
       "4  GASOLINA ADITIVADA     2022-07-01            6.49        R$ / litro   \n",
       "\n",
       "        bandeira  \n",
       "0  VIBRA ENERGIA  \n",
       "1  VIBRA ENERGIA  \n",
       "2  VIBRA ENERGIA  \n",
       "3  VIBRA ENERGIA  \n",
       "4       IPIRANGA  "
      ]
     },
     "execution_count": 31,
     "metadata": {},
     "output_type": "execute_result"
    }
   ],
   "source": [
    "# verificando o arquivo gerado \n",
    "dados_novo_arquivo = pd.read_csv('data\\dados_limpos\\dados.csv')\n",
    "dados_novo_arquivo.head()"
   ]
  },
  {
   "cell_type": "code",
   "execution_count": 32,
   "id": "f0c4f9d9",
   "metadata": {},
   "outputs": [
    {
     "name": "stdout",
     "output_type": "stream",
     "text": [
      "<class 'pandas.core.frame.DataFrame'>\n",
      "RangeIndex: 127176 entries, 0 to 127175\n",
      "Data columns (total 14 columns):\n",
      " #   Column             Non-Null Count   Dtype  \n",
      "---  ------             --------------   -----  \n",
      " 0   regiao_sigla       127176 non-null  object \n",
      " 1   estado_sigla       127176 non-null  object \n",
      " 2   municipio          127176 non-null  object \n",
      " 3   revenda            127176 non-null  object \n",
      " 4   cnpj_da_revenda    127176 non-null  object \n",
      " 5   nome_da_rua        127176 non-null  object \n",
      " 6   numero_rua         127105 non-null  object \n",
      " 7   bairro             126764 non-null  object \n",
      " 8   cep                127176 non-null  object \n",
      " 9   produto            127176 non-null  object \n",
      " 10  data_da_coleta     127176 non-null  object \n",
      " 11  valor_de_venda     127176 non-null  float64\n",
      " 12  unidade_de_medida  127176 non-null  object \n",
      " 13  bandeira           127176 non-null  object \n",
      "dtypes: float64(1), object(13)\n",
      "memory usage: 13.6+ MB\n"
     ]
    }
   ],
   "source": [
    "dados_novo_arquivo.info()"
   ]
  },
  {
   "cell_type": "markdown",
   "id": "qHivuytsJ_hP",
   "metadata": {
    "id": "qHivuytsJ_hP"
   },
   "source": [
    "# Codigos "
   ]
  },
  {
   "cell_type": "markdown",
   "id": "cE5lczZhMzOx",
   "metadata": {
    "id": "cE5lczZhMzOx"
   },
   "source": [
    "### Verificações em  andamento"
   ]
  },
  {
   "cell_type": "code",
   "execution_count": null,
   "id": "6421d0d0",
   "metadata": {
    "id": "6421d0d0"
   },
   "outputs": [],
   "source": [
    "dados_brutos['valor_de_venda'].plot(kind='hist')"
   ]
  },
  {
   "cell_type": "code",
   "execution_count": null,
   "id": "81c5e3a8",
   "metadata": {
    "id": "81c5e3a8"
   },
   "outputs": [],
   "source": [
    "dados_brutos['valor_de_venda'].min()"
   ]
  },
  {
   "cell_type": "code",
   "execution_count": null,
   "id": "bdb0ec24",
   "metadata": {
    "id": "bdb0ec24"
   },
   "outputs": [],
   "source": [
    "#verificando baixo preço encontrado\n",
    "dados_brutos.query('valor_de_venda < 4').produto.unique()"
   ]
  },
  {
   "cell_type": "code",
   "execution_count": null,
   "id": "c48aee9e",
   "metadata": {
    "id": "c48aee9e"
   },
   "outputs": [],
   "source": [
    "dados_brutos.valor_de_venda.max()"
   ]
  },
  {
   "cell_type": "code",
   "execution_count": null,
   "id": "8a1005cf",
   "metadata": {
    "id": "8a1005cf"
   },
   "outputs": [],
   "source": [
    "dados_brutos.query('valor_de_venda > 8').produto.unique()"
   ]
  },
  {
   "cell_type": "code",
   "execution_count": null,
   "id": "5a01bda8",
   "metadata": {
    "id": "5a01bda8"
   },
   "outputs": [],
   "source": []
  }
 ],
 "metadata": {
  "colab": {
   "provenance": []
  },
  "kernelspec": {
   "display_name": "Python 3 (ipykernel)",
   "language": "python",
   "name": "python3"
  },
  "language_info": {
   "codemirror_mode": {
    "name": "ipython",
    "version": 3
   },
   "file_extension": ".py",
   "mimetype": "text/x-python",
   "name": "python",
   "nbconvert_exporter": "python",
   "pygments_lexer": "ipython3",
   "version": "3.9.12"
  }
 },
 "nbformat": 4,
 "nbformat_minor": 5
}

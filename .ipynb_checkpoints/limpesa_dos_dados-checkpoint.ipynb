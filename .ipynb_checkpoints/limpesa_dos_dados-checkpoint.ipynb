{
 "cells": [
  {
   "cell_type": "markdown",
   "id": "3112892c",
   "metadata": {},
   "source": [
    "## Entrada de dados"
   ]
  },
  {
   "cell_type": "code",
   "execution_count": 23,
   "id": "2d1be279",
   "metadata": {},
   "outputs": [
    {
     "name": "stdout",
     "output_type": "stream",
     "text": [
      "<class 'pandas.core.frame.DataFrame'>\n",
      "RangeIndex: 529424 entries, 0 to 529423\n",
      "Data columns (total 16 columns):\n",
      " #   Column             Non-Null Count   Dtype  \n",
      "---  ------             --------------   -----  \n",
      " 0   Regiao - Sigla     529424 non-null  object \n",
      " 1   Estado - Sigla     529424 non-null  object \n",
      " 2   Municipio          529424 non-null  object \n",
      " 3   Revenda            529424 non-null  object \n",
      " 4   CNPJ da Revenda    529424 non-null  object \n",
      " 5   Nome da Rua        529424 non-null  object \n",
      " 6   Numero Rua         529211 non-null  object \n",
      " 7   Complemento        113936 non-null  object \n",
      " 8   Bairro             527991 non-null  object \n",
      " 9   Cep                529424 non-null  object \n",
      " 10  Produto            529424 non-null  object \n",
      " 11  Data da Coleta     529424 non-null  object \n",
      " 12  Valor de Venda     529424 non-null  object \n",
      " 13  Valor de Compra    0 non-null       float64\n",
      " 14  Unidade de Medida  529424 non-null  object \n",
      " 15  Bandeira           529424 non-null  object \n",
      "dtypes: float64(1), object(15)\n",
      "memory usage: 64.6+ MB\n"
     ]
    }
   ],
   "source": [
    "import pandas as pd\n",
    "import numpy as np\n",
    "\n",
    "dados_brutos = pd.read_csv('data\\dados_originais\\precos-semestrais-ca-2022-01.csv', sep=';')\n",
    "dados_brutos.info()"
   ]
  },
  {
   "cell_type": "markdown",
   "id": "b825f92a",
   "metadata": {},
   "source": [
    "## Inicio da limpeza "
   ]
  },
  {
   "cell_type": "code",
   "execution_count": 24,
   "id": "90adcda8",
   "metadata": {
    "scrolled": true
   },
   "outputs": [
    {
     "data": {
      "text/plain": [
       "0   2022-01-03\n",
       "1   2022-01-03\n",
       "2   2022-01-03\n",
       "3   2022-01-03\n",
       "4   2022-01-03\n",
       "Name: Data da Coleta, dtype: datetime64[ns]"
      ]
     },
     "execution_count": 24,
     "metadata": {},
     "output_type": "execute_result"
    }
   ],
   "source": [
    "\n",
    "#modificando o formatos dos dados 'Data da Coletas'\n",
    "dados_brutos['Data da Coleta'] = pd.to_datetime(dados_brutos['Data da Coleta'], dayfirst=True)\n",
    "dados_brutos['Data da Coleta'].head()"
   ]
  },
  {
   "cell_type": "code",
   "execution_count": 25,
   "id": "770edb7f",
   "metadata": {
    "scrolled": true
   },
   "outputs": [
    {
     "name": "stdout",
     "output_type": "stream",
     "text": [
      "<class 'pandas.core.frame.DataFrame'>\n",
      "Int64Index: 194404 entries, 335020 to 529423\n",
      "Data columns (total 16 columns):\n",
      " #   Column             Non-Null Count   Dtype         \n",
      "---  ------             --------------   -----         \n",
      " 0   Regiao - Sigla     194404 non-null  object        \n",
      " 1   Estado - Sigla     194404 non-null  object        \n",
      " 2   Municipio          194404 non-null  object        \n",
      " 3   Revenda            194404 non-null  object        \n",
      " 4   CNPJ da Revenda    194404 non-null  object        \n",
      " 5   Nome da Rua        194404 non-null  object        \n",
      " 6   Numero Rua         194313 non-null  object        \n",
      " 7   Complemento        42721 non-null   object        \n",
      " 8   Bairro             193842 non-null  object        \n",
      " 9   Cep                194404 non-null  object        \n",
      " 10  Produto            194404 non-null  object        \n",
      " 11  Data da Coleta     194404 non-null  datetime64[ns]\n",
      " 12  Valor de Venda     194404 non-null  object        \n",
      " 13  Valor de Compra    0 non-null       float64       \n",
      " 14  Unidade de Medida  194404 non-null  object        \n",
      " 15  Bandeira           194404 non-null  object        \n",
      "dtypes: datetime64[ns](1), float64(1), object(14)\n",
      "memory usage: 25.2+ MB\n"
     ]
    }
   ],
   "source": [
    "datas_selecionadas = dados_brutos['Data da Coleta'] > '2022-04-29'\n",
    "dados_brutos = dados_brutos[datas_selecionadas]\n",
    "\n",
    "\n",
    "dados_brutos.info()"
   ]
  },
  {
   "cell_type": "code",
   "execution_count": 26,
   "id": "91960b4f",
   "metadata": {},
   "outputs": [
    {
     "data": {
      "text/plain": [
       "array([nan])"
      ]
     },
     "execution_count": 26,
     "metadata": {},
     "output_type": "execute_result"
    }
   ],
   "source": [
    "# verificando se a valores na coluna 'Valor de Compra'\n",
    "dados_brutos['Valor de Compra'].unique()"
   ]
  },
  {
   "cell_type": "code",
   "execution_count": 27,
   "id": "62932d88",
   "metadata": {},
   "outputs": [],
   "source": [
    "dados_brutos.drop(columns=['Complemento','Valor de Compra'], inplace=True)\n",
    "# Coluna 'Valor de Compra' deletadas"
   ]
  },
  {
   "cell_type": "code",
   "execution_count": 28,
   "id": "49ac7ab5",
   "metadata": {},
   "outputs": [
    {
     "name": "stdout",
     "output_type": "stream",
     "text": [
      "<class 'pandas.core.series.Series'>\n",
      "Int64Index: 194404 entries, 335020 to 529423\n",
      "Series name: Valor de Venda\n",
      "Non-Null Count   Dtype \n",
      "--------------   ----- \n",
      "194404 non-null  object\n",
      "dtypes: object(1)\n",
      "memory usage: 3.0+ MB\n"
     ]
    }
   ],
   "source": [
    "dados_brutos['Valor de Venda'].info()"
   ]
  },
  {
   "cell_type": "code",
   "execution_count": 29,
   "id": "fa7b0101",
   "metadata": {},
   "outputs": [
    {
     "name": "stdout",
     "output_type": "stream",
     "text": [
      "<class 'pandas.core.series.Series'>\n",
      "Int64Index: 194404 entries, 335020 to 529423\n",
      "Series name: Valor de Venda\n",
      "Non-Null Count   Dtype  \n",
      "--------------   -----  \n",
      "194404 non-null  float64\n",
      "dtypes: float64(1)\n",
      "memory usage: 3.0 MB\n"
     ]
    }
   ],
   "source": [
    "#tocando vigula por ponto e nudando de string para float\n",
    "valores_virgula = dados_brutos['Valor de Venda'].tolist()\n",
    "valores_ponto = [x.replace(',', '.') for x in valores_virgula]\n",
    "dados_brutos['Valor de Venda'] = valores_ponto\n",
    "dados_brutos['Valor de Venda'] = dados_brutos['Valor de Venda'].astype(float)\n",
    "dados_brutos['Valor de Venda'].info()"
   ]
  },
  {
   "cell_type": "code",
   "execution_count": 30,
   "id": "1d2390ac",
   "metadata": {},
   "outputs": [
    {
     "data": {
      "text/plain": [
       "<AxesSubplot:ylabel='Frequency'>"
      ]
     },
     "execution_count": 30,
     "metadata": {},
     "output_type": "execute_result"
    },
    {
     "data": {
      "image/png": "[encoded data removed]",
      "text/plain": [
       "<Figure size 432x288 with 1 Axes>"
      ]
     },
     "metadata": {
      "needs_background": "light"
     },
     "output_type": "display_data"
    }
   ],
   "source": [
    "dados_brutos['Valor de Venda'].plot(kind='hist')"
   ]
  },
  {
   "cell_type": "code",
   "execution_count": 34,
   "id": "bba656af",
   "metadata": {},
   "outputs": [],
   "source": [
    "dados_brutos.to_csv('data\\dados_limpos\\dados.csv', sep=',', index=False)"
   ]
  },
  {
   "cell_type": "code",
   "execution_count": 36,
   "id": "87889fd6",
   "metadata": {},
   "outputs": [
    {
     "data": {
      "text/html": [
       "<div>\n",
       "<style scoped>\n",
       "    .dataframe tbody tr th:only-of-type {\n",
       "        vertical-align: middle;\n",
       "    }\n",
       "\n",
       "    .dataframe tbody tr th {\n",
       "        vertical-align: top;\n",
       "    }\n",
       "\n",
       "    .dataframe thead th {\n",
       "        text-align: right;\n",
       "    }\n",
       "</style>\n",
       "<table border=\"1\" class=\"dataframe\">\n",
       "  <thead>\n",
       "    <tr style=\"text-align: right;\">\n",
       "      <th></th>\n",
       "      <th>Regiao - Sigla</th>\n",
       "      <th>Estado - Sigla</th>\n",
       "      <th>Municipio</th>\n",
       "      <th>Revenda</th>\n",
       "      <th>CNPJ da Revenda</th>\n",
       "      <th>Nome da Rua</th>\n",
       "      <th>Numero Rua</th>\n",
       "      <th>Bairro</th>\n",
       "      <th>Cep</th>\n",
       "      <th>Produto</th>\n",
       "      <th>Data da Coleta</th>\n",
       "      <th>Valor de Venda</th>\n",
       "      <th>Unidade de Medida</th>\n",
       "      <th>Bandeira</th>\n",
       "    </tr>\n",
       "  </thead>\n",
       "  <tbody>\n",
       "    <tr>\n",
       "      <th>0</th>\n",
       "      <td>N</td>\n",
       "      <td>AC</td>\n",
       "      <td>RIO BRANCO</td>\n",
       "      <td>AUTO POSTO AMAPA - EIRELI</td>\n",
       "      <td>00.529.581/0001-53</td>\n",
       "      <td>VIA CHICO MENDES</td>\n",
       "      <td>3570</td>\n",
       "      <td>AREAL</td>\n",
       "      <td>69906-119</td>\n",
       "      <td>GASOLINA</td>\n",
       "      <td>2022-05-02</td>\n",
       "      <td>7.59</td>\n",
       "      <td>R$ / litro</td>\n",
       "      <td>VIBRA ENERGIA</td>\n",
       "    </tr>\n",
       "    <tr>\n",
       "      <th>1</th>\n",
       "      <td>N</td>\n",
       "      <td>AC</td>\n",
       "      <td>RIO BRANCO</td>\n",
       "      <td>AUTO POSTO AMAPA - EIRELI</td>\n",
       "      <td>00.529.581/0001-53</td>\n",
       "      <td>VIA CHICO MENDES</td>\n",
       "      <td>3570</td>\n",
       "      <td>AREAL</td>\n",
       "      <td>69906-119</td>\n",
       "      <td>ETANOL</td>\n",
       "      <td>2022-05-02</td>\n",
       "      <td>6.09</td>\n",
       "      <td>R$ / litro</td>\n",
       "      <td>VIBRA ENERGIA</td>\n",
       "    </tr>\n",
       "    <tr>\n",
       "      <th>2</th>\n",
       "      <td>N</td>\n",
       "      <td>AC</td>\n",
       "      <td>RIO BRANCO</td>\n",
       "      <td>AUTO POSTO AMAPA - EIRELI</td>\n",
       "      <td>00.529.581/0001-53</td>\n",
       "      <td>VIA CHICO MENDES</td>\n",
       "      <td>3570</td>\n",
       "      <td>AREAL</td>\n",
       "      <td>69906-119</td>\n",
       "      <td>DIESEL</td>\n",
       "      <td>2022-05-02</td>\n",
       "      <td>7.29</td>\n",
       "      <td>R$ / litro</td>\n",
       "      <td>VIBRA ENERGIA</td>\n",
       "    </tr>\n",
       "    <tr>\n",
       "      <th>3</th>\n",
       "      <td>N</td>\n",
       "      <td>AC</td>\n",
       "      <td>RIO BRANCO</td>\n",
       "      <td>AUTO POSTO AMAPA - EIRELI</td>\n",
       "      <td>00.529.581/0001-53</td>\n",
       "      <td>VIA CHICO MENDES</td>\n",
       "      <td>3570</td>\n",
       "      <td>AREAL</td>\n",
       "      <td>69906-119</td>\n",
       "      <td>GASOLINA ADITIVADA</td>\n",
       "      <td>2022-05-02</td>\n",
       "      <td>7.66</td>\n",
       "      <td>R$ / litro</td>\n",
       "      <td>VIBRA ENERGIA</td>\n",
       "    </tr>\n",
       "    <tr>\n",
       "      <th>4</th>\n",
       "      <td>N</td>\n",
       "      <td>AC</td>\n",
       "      <td>RIO BRANCO</td>\n",
       "      <td>AUTO POSTO AMAPA - EIRELI</td>\n",
       "      <td>00.529.581/0001-53</td>\n",
       "      <td>VIA CHICO MENDES</td>\n",
       "      <td>3570</td>\n",
       "      <td>AREAL</td>\n",
       "      <td>69906-119</td>\n",
       "      <td>DIESEL S10</td>\n",
       "      <td>2022-05-02</td>\n",
       "      <td>7.39</td>\n",
       "      <td>R$ / litro</td>\n",
       "      <td>VIBRA ENERGIA</td>\n",
       "    </tr>\n",
       "  </tbody>\n",
       "</table>\n",
       "</div>"
      ],
      "text/plain": [
       "  Regiao - Sigla Estado - Sigla   Municipio                    Revenda  \\\n",
       "0              N             AC  RIO BRANCO  AUTO POSTO AMAPA - EIRELI   \n",
       "1              N             AC  RIO BRANCO  AUTO POSTO AMAPA - EIRELI   \n",
       "2              N             AC  RIO BRANCO  AUTO POSTO AMAPA - EIRELI   \n",
       "3              N             AC  RIO BRANCO  AUTO POSTO AMAPA - EIRELI   \n",
       "4              N             AC  RIO BRANCO  AUTO POSTO AMAPA - EIRELI   \n",
       "\n",
       "       CNPJ da Revenda       Nome da Rua Numero Rua Bairro        Cep  \\\n",
       "0   00.529.581/0001-53  VIA CHICO MENDES       3570  AREAL  69906-119   \n",
       "1   00.529.581/0001-53  VIA CHICO MENDES       3570  AREAL  69906-119   \n",
       "2   00.529.581/0001-53  VIA CHICO MENDES       3570  AREAL  69906-119   \n",
       "3   00.529.581/0001-53  VIA CHICO MENDES       3570  AREAL  69906-119   \n",
       "4   00.529.581/0001-53  VIA CHICO MENDES       3570  AREAL  69906-119   \n",
       "\n",
       "              Produto Data da Coleta  Valor de Venda Unidade de Medida  \\\n",
       "0            GASOLINA     2022-05-02            7.59        R$ / litro   \n",
       "1              ETANOL     2022-05-02            6.09        R$ / litro   \n",
       "2              DIESEL     2022-05-02            7.29        R$ / litro   \n",
       "3  GASOLINA ADITIVADA     2022-05-02            7.66        R$ / litro   \n",
       "4          DIESEL S10     2022-05-02            7.39        R$ / litro   \n",
       "\n",
       "        Bandeira  \n",
       "0  VIBRA ENERGIA  \n",
       "1  VIBRA ENERGIA  \n",
       "2  VIBRA ENERGIA  \n",
       "3  VIBRA ENERGIA  \n",
       "4  VIBRA ENERGIA  "
      ]
     },
     "execution_count": 36,
     "metadata": {},
     "output_type": "execute_result"
    }
   ],
   "source": [
    "# verificando o arquivo gerado \n",
    "dados_b = pd.read_csv('data\\dados_limpos\\dados.csv')\n",
    "dados_b.head()"
   ]
  }
 ],
 "metadata": {
  "kernelspec": {
   "display_name": "Python 3 (ipykernel)",
   "language": "python",
   "name": "python3"
  },
  "language_info": {
   "codemirror_mode": {
    "name": "ipython",
    "version": 3
   },
   "file_extension": ".py",
   "mimetype": "text/x-python",
   "name": "python",
   "nbconvert_exporter": "python",
   "pygments_lexer": "ipython3",
   "version": "3.9.12"
  }
 },
 "nbformat": 4,
 "nbformat_minor": 5
}
